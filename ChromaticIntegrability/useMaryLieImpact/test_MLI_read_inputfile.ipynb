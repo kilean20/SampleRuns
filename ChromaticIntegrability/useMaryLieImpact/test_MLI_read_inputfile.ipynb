{
 "cells": [
  {
   "cell_type": "code",
   "execution_count": 1,
   "metadata": {},
   "outputs": [],
   "source": [
    "from pImpactR import MLI as mli\n",
    "import pandas as pd\n",
    "import numpy as np"
   ]
  },
  {
   "cell_type": "code",
   "execution_count": 4,
   "metadata": {},
   "outputs": [
    {
     "data": {
      "text/plain": [
       "['beam:beam,particle=electron,energy=511000.1',\n",
       " 'units:units,type=static',\n",
       " 'setdefaults:globaldefaults,lfrngsbend=0,tfrngsbend=0,lfrngquad=0,tfrngquad=0,driftexact=0',\n",
       " 'stm:stm,nmap=1',\n",
       " 'gtm:gtm,nmap=1,iopt=2',\n",
       " 'tmo:tmo,ifile=17',\n",
       " 'raytrace:raytrace,type=readonly,file1=rays.in',\n",
       " 'particledump:particledump,file=rays.out,precision=15,close=false,flush=true,nunits=0',\n",
       " 'autotrack:autotrack,type=symplectic5',\n",
       " 'clear:iden',\n",
       " 'fin:end',\n",
       " 'nlinsert:nlinsert,zstart=0.0,zend=1.8,steps=1000,zlen=1.8,k=1.45446332708327,c=0.01,tau=-0.4',\n",
       " 'tmi:tmi,iopt=2,ifile=16,nopt=1,nskip=0',\n",
       " 'linedump, line=(nlinsert gtm particledump ) ']"
      ]
     },
     "execution_count": 4,
     "metadata": {},
     "output_type": "execute_result"
    }
   ],
   "source": [
    "rawlines = mli._file2rawlines(fname='mli.in')\n",
    "rawlines[1:-6]"
   ]
  },
  {
   "cell_type": "code",
   "execution_count": 5,
   "metadata": {},
   "outputs": [],
   "source": [
    "def _isint(s):\n",
    "  try:\n",
    "    int(s)\n",
    "    return True\n",
    "  except ValueError:\n",
    "    return False\n",
    "\n",
    "  \n",
    "def _isfloat(s):\n",
    "  try:\n",
    "    float(s.replace('D','E',1).replace('d','e',1))\n",
    "    return True\n",
    "  except ValueError:\n",
    "    return False\n",
    "\n",
    "  \n",
    "def _isvariable(s,variables):\n",
    "  if s in variables.keys():\n",
    "    return True\n",
    "  else:\n",
    "    return False\n",
    "\n",
    "  \n",
    "def _str2val(s,variables):\n",
    "  if _isint(s):\n",
    "    return int(s)\n",
    "  elif _isfloat(s):\n",
    "    return float(s)\n",
    "  elif _isvariable(s,variables):\n",
    "    return variables[s]\n",
    "  else:\n",
    "    return s"
   ]
  },
  {
   "cell_type": "code",
   "execution_count": 6,
   "metadata": {},
   "outputs": [],
   "source": [
    "def _rawlines2var(raw):\n",
    "    var = {}\n",
    "    raw2 = raw.copy()\n",
    "    k=0\n",
    "    for i,line in enumerate(raw):\n",
    "        icomma = line.find(',')\n",
    "        icolon = line.find(':')\n",
    "        iequal = line.find('=')\n",
    "        if icomma==-1 and icolon==-1 and iequal!=-1:\n",
    "            var[line[:iequal]]=_str2val(line[iequal+1:],var)\n",
    "            del raw2[i-k]\n",
    "            k=k+1\n",
    "    return var,raw2"
   ]
  },
  {
   "cell_type": "code",
   "execution_count": 7,
   "metadata": {},
   "outputs": [
    {
     "name": "stdout",
     "output_type": "stream",
     "text": [
      "{'ab=abc', 'abc=0.2342345345'}\n"
     ]
    }
   ],
   "source": [
    "test = rawlines[1:-6]\n",
    "test.insert(2,'abc=0.2342345345')\n",
    "test.insert(5,'ab=abc')\n",
    "var,newtest=_rawlines2var(test)\n",
    "print(set(test)-set(newtest))\n",
    "test=newtest"
   ]
  },
  {
   "cell_type": "code",
   "execution_count": 8,
   "metadata": {},
   "outputs": [
    {
     "data": {
      "text/plain": [
       "dict_items([('abc', 0.2342345345), ('ab', 0.2342345345)])"
      ]
     },
     "execution_count": 8,
     "metadata": {},
     "output_type": "execute_result"
    }
   ],
   "source": [
    "var.items()"
   ]
  },
  {
   "cell_type": "code",
   "execution_count": 9,
   "metadata": {},
   "outputs": [],
   "source": [
    "getElem = mli.getElem\n",
    "\n",
    "import re\n",
    "def _rawlines2cmd(raw,variables):\n",
    "    cmds=[]\n",
    "    raw2 = raw.copy()\n",
    "    k=0\n",
    "    for i,line in enumerate(raw):\n",
    "        icolon = line.find(':')\n",
    "        if icolon!=-1:\n",
    "          del raw2[i-k]\n",
    "          k=k+1\n",
    "          line = re.split(':|,|=',line)\n",
    "          name = line[0]\n",
    "          cmd  = line[1]\n",
    "          if cmd == 'sbend':\n",
    "            f = getElem.sbend(name=name)\n",
    "          elif cmd == 'beam':\n",
    "            f = getElem.beam(name=name)\n",
    "          elif cmd == 'units':\n",
    "            f = getElem.units(name=name)\n",
    "          elif cmd == 'globaldefaults':\n",
    "            f = getElem.globaldefaults(name=name)\n",
    "          elif cmd == 'autotrack':\n",
    "            f = getElem.autotrack(name=name)\n",
    "          elif cmd == 'particledump':\n",
    "            f = getElem.particledump(name=name)\n",
    "          elif cmd == 'iden':\n",
    "            f = getElem.iden(name=name)\n",
    "          elif cmd == 'end':\n",
    "            f = getElem.end(name=name)\n",
    "          elif cmd == 'raytrace':\n",
    "            f = getElem.raytrace(name=name)\n",
    "          elif cmd == 'ptm':\n",
    "            f = getElem.ptm(name=name)\n",
    "          elif cmd == 'tasm':\n",
    "            f = getElem.tasm(name=name)\n",
    "          elif cmd == 'stm':\n",
    "            f = getElem.stm(name=name)\n",
    "          elif cmd == 'gtm':\n",
    "            f = getElem.gtm(name=name)\n",
    "          elif cmd == 'tmo':\n",
    "            f = getElem.tmo(name=name)\n",
    "          elif cmd == 'tmi':\n",
    "            f = getElem.tmi(name=name)\n",
    "          elif cmd == 'nlinsert':\n",
    "            f = getElem.nlinsert(name=name)\n",
    "          elif cmd == 'monitor':\n",
    "            f = getElem.monitor(name=name)\n",
    "          elif cmd == 'marker':\n",
    "            f = getElem.marker(name=name)\n",
    "          elif cmd == 'drift':\n",
    "            f = getElem.drift(name=name)\n",
    "          elif cmd == 'quadrupole':\n",
    "            f = getElem.quadrupole(name=name)\n",
    "          elif cmd == 'vkicker':\n",
    "            f = getElem.vkicker(name=name)\n",
    "          elif cmd == 'sextupole':\n",
    "            f = getElem.sextupole(name=name)\n",
    "          elif cmd == 'sbend':\n",
    "            f = getElem.sbend(name=name)\n",
    "          elif cmd == 'dipedge':\n",
    "            f = getElem.dipedge(name=name)\n",
    "          elif cmd == 'srfc':\n",
    "            f = getElem.srfc(name=name)\n",
    "          if len(line)>2:\n",
    "            for i in range(2,len(line),2):\n",
    "              f[line[i]]=_str2val(line[i+1],variables)\n",
    "            \n",
    "          cmds.append(f)\n",
    "    return cmds,raw2"
   ]
  },
  {
   "cell_type": "code",
   "execution_count": 10,
   "metadata": {},
   "outputs": [],
   "source": [
    "cmd,newtest=_rawlines2cmd(test,var)"
   ]
  },
  {
   "cell_type": "code",
   "execution_count": 11,
   "metadata": {},
   "outputs": [
    {
     "data": {
      "text/plain": [
       "{'autotrack:autotrack,type=symplectic5',\n",
       " 'beam:beam,particle=electron,energy=511000.1',\n",
       " 'clear:iden',\n",
       " 'fin:end',\n",
       " 'gtm:gtm,nmap=1,iopt=2',\n",
       " 'nlinsert:nlinsert,zstart=0.0,zend=1.8,steps=1000,zlen=1.8,k=1.45446332708327,c=0.01,tau=-0.4',\n",
       " 'particledump:particledump,file=rays.out,precision=15,close=false,flush=true,nunits=0',\n",
       " 'raytrace:raytrace,type=readonly,file1=rays.in',\n",
       " 'setdefaults:globaldefaults,lfrngsbend=0,tfrngsbend=0,lfrngquad=0,tfrngquad=0,driftexact=0',\n",
       " 'stm:stm,nmap=1',\n",
       " 'tmi:tmi,iopt=2,ifile=16,nopt=1,nskip=0',\n",
       " 'tmo:tmo,ifile=17',\n",
       " 'units:units,type=static'}"
      ]
     },
     "execution_count": 11,
     "metadata": {},
     "output_type": "execute_result"
    }
   ],
   "source": [
    "set(test) - set(newtest)"
   ]
  },
  {
   "cell_type": "code",
   "execution_count": 12,
   "metadata": {},
   "outputs": [
    {
     "name": "stdout",
     "output_type": "stream",
     "text": [
      "{'linedump, line=(nlinsert gtm particledump ) '}\n"
     ]
    }
   ],
   "source": [
    "print(set(test) and set(newtest))\n",
    "test=newtest"
   ]
  },
  {
   "cell_type": "code",
   "execution_count": 44,
   "metadata": {},
   "outputs": [],
   "source": [
    "def _rawlines2line(raw,cmds):\n",
    "    raw2=[]\n",
    "    for line in raw:\n",
    "        line=line.replace('&',' ')\n",
    "        line=line.replace('(',' ')\n",
    "        line=line.replace(')',' ')\n",
    "        line=line.replace('=',' ')\n",
    "        line=line.replace(',',' ')\n",
    "        raw2 = raw2 + line.split()\n",
    "    iElems = [i for i in range(len(raw2))]\n",
    "    ilines = []\n",
    "    elemList = raw2.copy()\n",
    "    k=0\n",
    "    for i,item in enumerate(raw2):\n",
    "        if item == 'line':\n",
    "            iElems.remove(i)\n",
    "            iElems.remove(i-1)\n",
    "            ilines.append(i)\n",
    "            \n",
    "    for i in iElems:\n",
    "        for cmd in cmds:\n",
    "            if cmd.name == raw2[i]:\n",
    "                raw2[i]=cmd\n",
    "             \n",
    "    nlines = len(ilines)\n",
    "    lines = [0]*nlines\n",
    "    i=-1\n",
    "    for i in range(nlines-1):\n",
    "        lines[i]=getElem.line(name=raw2[ilines[i]-1],elemList=raw2[ilines[i]+1:ilines[i+1]])\n",
    "    lines[i+1]=getElem.line(name=raw2[ilines[i+1]-1],elemList=raw2[ilines[i+1]+1:])\n",
    "    return lines"
   ]
  },
  {
   "cell_type": "code",
   "execution_count": 43,
   "metadata": {},
   "outputs": [
    {
     "name": "stdout",
     "output_type": "stream",
     "text": [
      "[1]\n",
      "1\n",
      "['linedump', 'line', \n",
      "    cmd: 'nlinsert'\n",
      "   name: 'nlinsert'\n",
      " zstart: 0.0\n",
      "   zend: 1.8\n",
      "  steps: 1000\n",
      "   zlen: 1.8\n",
      "      k: 1.45446332708327\n",
      "      c: 0.01\n",
      "    tau: -0.4, \n",
      "  cmd: 'gtm'\n",
      " name: 'gtm'\n",
      " nmap: 1\n",
      " iopt: 2, \n",
      "       cmd: 'particledump'\n",
      "      name: 'particledump'\n",
      "      file: 'rays.out'\n",
      " precision: 15\n",
      "     close: 'false'\n",
      "     flush: 'true'\n",
      "    nunits: 0]\n",
      "[\n",
      "    cmd: 'nlinsert'\n",
      "   name: 'nlinsert'\n",
      " zstart: 0.0\n",
      "   zend: 1.8\n",
      "  steps: 1000\n",
      "   zlen: 1.8\n",
      "      k: 1.45446332708327\n",
      "      c: 0.01\n",
      "    tau: -0.4, \n",
      "  cmd: 'gtm'\n",
      " name: 'gtm'\n",
      " nmap: 1\n",
      " iopt: 2, \n",
      "       cmd: 'particledump'\n",
      "      name: 'particledump'\n",
      "      file: 'rays.out'\n",
      " precision: 15\n",
      "     close: 'false'\n",
      "     flush: 'true'\n",
      "    nunits: 0]\n"
     ]
    }
   ],
   "source": [
    "line=_rawlines2line(test,cmd)"
   ]
  },
  {
   "cell_type": "code",
   "execution_count": null,
   "metadata": {},
   "outputs": [],
   "source": []
  }
 ],
 "metadata": {
  "kernelspec": {
   "display_name": "Python 3",
   "language": "python",
   "name": "python3"
  },
  "language_info": {
   "codemirror_mode": {
    "name": "ipython",
    "version": 3
   },
   "file_extension": ".py",
   "mimetype": "text/x-python",
   "name": "python",
   "nbconvert_exporter": "python",
   "pygments_lexer": "ipython3",
   "version": "3.6.5"
  }
 },
 "nbformat": 4,
 "nbformat_minor": 2
}
