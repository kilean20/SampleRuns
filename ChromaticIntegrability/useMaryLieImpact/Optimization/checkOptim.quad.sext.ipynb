{
 "cells": [
  {
   "cell_type": "code",
   "execution_count": 1,
   "metadata": {},
   "outputs": [],
   "source": [
    "import numpy as np\n",
    "import os\n",
    "import shutil\n",
    "from pImpactR import MLI as mli\n",
    "from pImpactR import opt\n",
    "from pImpactR.util import Me\n",
    "from copy import deepcopy as copy"
   ]
  },
  {
   "cell_type": "markdown",
   "metadata": {},
   "source": [
    "# Original Settings"
   ]
  },
  {
   "cell_type": "code",
   "execution_count": 2,
   "metadata": {},
   "outputs": [
    {
     "name": "stdout",
     "output_type": "stream",
     "text": [
      "setarclen is not recognized. skipping...\n",
      "autoconcat is not recognized. skipping...\n",
      "autoapply is not recognized. skipping...\n",
      "reftraj is not recognized. skipping...\n",
      "fit is not recognized. skipping...\n",
      "bip is not recognized. skipping...\n",
      "tip is not recognized. skipping...\n"
     ]
    }
   ],
   "source": [
    "elems0,lattices,labor = mli.readInputfile('mli.in.origin')"
   ]
  },
  {
   "cell_type": "code",
   "execution_count": 3,
   "metadata": {},
   "outputs": [],
   "source": [
    "energy=elems0[0].energy*1.0e9\n",
    "gam0 = energy/Me\n",
    "bet0 = np.sqrt(1.0-1.0/gam0**2)"
   ]
  },
  {
   "cell_type": "code",
   "execution_count": 4,
   "metadata": {},
   "outputs": [],
   "source": [
    "elems = []\n",
    "for item in elems0:\n",
    "    if not item.name in ['tasm','aim','vary','clear','anaprint']:\n",
    "        elems.append(item)"
   ]
  },
  {
   "cell_type": "code",
   "execution_count": 5,
   "metadata": {},
   "outputs": [],
   "source": [
    "labor = ['iotaline','mapout','fin']\n",
    "mli.writeInputfile(elems,lattices,labor)\n",
    "mli.run()\n",
    "M,G = mli.readTransferMap()"
   ]
  },
  {
   "cell_type": "markdown",
   "metadata": {},
   "source": [
    "### Quadrupoles"
   ]
  },
  {
   "cell_type": "code",
   "execution_count": 6,
   "metadata": {},
   "outputs": [],
   "source": [
    "indexQuad = []\n",
    "QuadStrength = []\n",
    "for i,item in enumerate(elems):\n",
    "    if 'quadrupole' == item.elem:\n",
    "        if 'k1' in item.keys():\n",
    "            indexQuad.append(i)\n",
    "            QuadStrength.append(item.k1)\n",
    "nQuad = len(indexQuad)"
   ]
  },
  {
   "cell_type": "markdown",
   "metadata": {},
   "source": [
    "### Sextupoles"
   ]
  },
  {
   "cell_type": "code",
   "execution_count": 7,
   "metadata": {},
   "outputs": [],
   "source": [
    "indexSext = []\n",
    "SextStrength = []\n",
    "for i,item in enumerate(elems):\n",
    "    if 'sextupole' == item.elem:\n",
    "        indexSext.append(i)\n",
    "        SextStrength.append(item.g2)\n",
    "nSext = len(indexSext)"
   ]
  },
  {
   "cell_type": "markdown",
   "metadata": {},
   "source": [
    "# Optimize"
   ]
  },
  {
   "cell_type": "code",
   "execution_count": 8,
   "metadata": {},
   "outputs": [],
   "source": [
    "NL_nu = 0.3\n",
    "NL_L  = 1.8\n",
    "NL_c  = 0.01\n",
    "NL_t  = 0.4\n",
    "alfx = np.tan(np.pi*NL_nu)\n",
    "betx = NL_L/np.sin(2.0*np.pi*NL_nu)\n",
    "k = 2*alfx/betx"
   ]
  },
  {
   "cell_type": "code",
   "execution_count": 9,
   "metadata": {},
   "outputs": [],
   "source": [
    "M_ref = np.array([[ 1.0, 0.0,  0.0,  0.0,  0.0],\n",
    "                  [ -k , 1.0,  0.0,  0.0,  0.0],\n",
    "                  [ 0.0, 0.0,  1.0,  0.0,  0.0],\n",
    "                  [ 0.0, 0.0,   -k,  1.0,  0.0]])"
   ]
  },
  {
   "cell_type": "code",
   "execution_count": 10,
   "metadata": {},
   "outputs": [
    {
     "data": {
      "text/html": [
       "<div>\n",
       "<style scoped>\n",
       "    .dataframe tbody tr th:only-of-type {\n",
       "        vertical-align: middle;\n",
       "    }\n",
       "\n",
       "    .dataframe tbody tr th {\n",
       "        vertical-align: top;\n",
       "    }\n",
       "\n",
       "    .dataframe thead th {\n",
       "        text-align: right;\n",
       "    }\n",
       "</style>\n",
       "<table border=\"1\" class=\"dataframe\">\n",
       "  <thead>\n",
       "    <tr style=\"text-align: right;\">\n",
       "      <th></th>\n",
       "      <th>exponents</th>\n",
       "      <th>GP</th>\n",
       "    </tr>\n",
       "  </thead>\n",
       "  <tbody>\n",
       "    <tr>\n",
       "      <th>28</th>\n",
       "      <td>f( 30 00 00 )</td>\n",
       "      <td>0.000000</td>\n",
       "    </tr>\n",
       "    <tr>\n",
       "      <th>29</th>\n",
       "      <td>f( 21 00 00 )</td>\n",
       "      <td>0.000000</td>\n",
       "    </tr>\n",
       "    <tr>\n",
       "      <th>33</th>\n",
       "      <td>f( 20 00 01 )</td>\n",
       "      <td>0.727236</td>\n",
       "    </tr>\n",
       "    <tr>\n",
       "      <th>34</th>\n",
       "      <td>f( 12 00 00 )</td>\n",
       "      <td>0.000000</td>\n",
       "    </tr>\n",
       "    <tr>\n",
       "      <th>38</th>\n",
       "      <td>f( 11 00 01 )</td>\n",
       "      <td>0.000000</td>\n",
       "    </tr>\n",
       "  </tbody>\n",
       "</table>\n",
       "</div>"
      ],
      "text/plain": [
       "        exponents        GP\n",
       "28  f( 30 00 00 )  0.000000\n",
       "29  f( 21 00 00 )  0.000000\n",
       "33  f( 20 00 01 )  0.727236\n",
       "34  f( 12 00 00 )  0.000000\n",
       "38  f( 11 00 01 )  0.000000"
      ]
     },
     "execution_count": 10,
     "metadata": {},
     "output_type": "execute_result"
    }
   ],
   "source": [
    "G2_ref = G.loc[28:76].copy()\n",
    "G2_ref['GP'] = 0\n",
    "G2_ref.loc[33,'GP'] = 0.5*k/bet0\n",
    "G2_ref.loc[67,'GP'] = 0.5*k/bet0\n",
    "G2_ref.head()"
   ]
  },
  {
   "cell_type": "code",
   "execution_count": 11,
   "metadata": {},
   "outputs": [],
   "source": [
    "G3_ref = G.loc[84:200].copy()\n",
    "G3_ref['GP'] = 0\n",
    "G3_ref.loc[104,'GP'] = k/(2.0*bet0*gam0)**2\n",
    "G3_ref.loc[184,'GP'] = k/(2.0*bet0*gam0)**2"
   ]
  },
  {
   "cell_type": "code",
   "execution_count": 12,
   "metadata": {},
   "outputs": [],
   "source": [
    "G4_ref = G.loc[210:450].copy()\n",
    "G4_ref['GP'] = 0"
   ]
  },
  {
   "cell_type": "code",
   "execution_count": 13,
   "metadata": {},
   "outputs": [],
   "source": [
    "G5_ref = G.loc[462:910].copy()\n",
    "G5_ref['GP'] = 0"
   ]
  },
  {
   "cell_type": "code",
   "execution_count": 14,
   "metadata": {},
   "outputs": [],
   "source": [
    "#%%\n",
    "def objFunc(arg):     \n",
    "    for i,j in enumerate(indexQuad):\n",
    "        elems[j]['k1']=arg[i]\n",
    "    for i,j in enumerate(indexSext):\n",
    "        elems[j]['g2']=arg[i+nQuad]\n",
    "        \n",
    "    mli.writeInputfile(elems,lattices,labor)\n",
    "    mli.run()\n",
    "    \n",
    "    M,G = mli.readTransferMap()\n",
    "    \n",
    "    obj = 1.0e36* np.sum((M.values[:4,[0,1,2,3,5]]-M_ref)**2) \\\n",
    "         +1.0e30* np.sum((G.loc[28 :76 ,'GP'].values-G2_ref['GP'].values)**2) \\\n",
    "         +1.0e22* np.sum((G.loc[84 :200,'GP'].values-G3_ref['GP'].values)**2) \\\n",
    "         +1.0e12* np.sum((G.loc[210:450,'GP'].values-G4_ref['GP'].values)**2) \\\n",
    "         +        np.sum((G.loc[462:910,'GP'].values-G5_ref['GP'].values)**2)\n",
    "    return obj"
   ]
  },
  {
   "cell_type": "code",
   "execution_count": 15,
   "metadata": {},
   "outputs": [],
   "source": [
    "scale = np.zeros(len(QuadStrength)+len(SextStrength))\n",
    "mid   = np.zeros(len(QuadStrength)+len(SextStrength))\n",
    "i=0\n",
    "for k1 in QuadStrength:\n",
    "    mid[i] = k1\n",
    "    scale[i] = 0.04*np.abs(k1)\n",
    "    i=i+1\n",
    "for g2 in SextStrength:\n",
    "    mid[i] = 0.0\n",
    "    scale[i] = 400.0\n",
    "    i=i+1"
   ]
  },
  {
   "cell_type": "code",
   "execution_count": 16,
   "metadata": {},
   "outputs": [],
   "source": [
    "import pickle\n",
    "with open('result.quad.sext','rb') as fp:\n",
    "    result=pickle.load(fp)"
   ]
  },
  {
   "cell_type": "code",
   "execution_count": 17,
   "metadata": {},
   "outputs": [],
   "source": [
    "if hasattr(result,'x'): \n",
    "    x = result.x\n",
    "else:\n",
    "    x = result.population[0]\n",
    "    x = (x-0.5)*scale + mid"
   ]
  },
  {
   "cell_type": "code",
   "execution_count": 18,
   "metadata": {},
   "outputs": [
    {
     "name": "stdout",
     "output_type": "stream",
     "text": [
      "9.690949264855172e+31\n"
     ]
    }
   ],
   "source": [
    "print(objFunc(QuadStrength + SextStrength))\n",
    "M0,G0 = mli.readTransferMap()"
   ]
  },
  {
   "cell_type": "code",
   "execution_count": 19,
   "metadata": {},
   "outputs": [
    {
     "data": {
      "text/html": [
       "<div>\n",
       "<style scoped>\n",
       "    .dataframe tbody tr th:only-of-type {\n",
       "        vertical-align: middle;\n",
       "    }\n",
       "\n",
       "    .dataframe tbody tr th {\n",
       "        vertical-align: top;\n",
       "    }\n",
       "\n",
       "    .dataframe thead th {\n",
       "        text-align: right;\n",
       "    }\n",
       "</style>\n",
       "<table border=\"1\" class=\"dataframe\">\n",
       "  <thead>\n",
       "    <tr style=\"text-align: right;\">\n",
       "      <th></th>\n",
       "      <th>1</th>\n",
       "      <th>2</th>\n",
       "      <th>3</th>\n",
       "      <th>4</th>\n",
       "      <th>5</th>\n",
       "      <th>6</th>\n",
       "    </tr>\n",
       "  </thead>\n",
       "  <tbody>\n",
       "    <tr>\n",
       "      <th>1</th>\n",
       "      <td>0.999968</td>\n",
       "      <td>0.000070</td>\n",
       "      <td>0.000000</td>\n",
       "      <td>0.000000e+00</td>\n",
       "      <td>0.0</td>\n",
       "      <td>-1.147949e-06</td>\n",
       "    </tr>\n",
       "    <tr>\n",
       "      <th>2</th>\n",
       "      <td>-1.454445</td>\n",
       "      <td>0.999930</td>\n",
       "      <td>0.000000</td>\n",
       "      <td>0.000000e+00</td>\n",
       "      <td>0.0</td>\n",
       "      <td>-2.587771e-07</td>\n",
       "    </tr>\n",
       "    <tr>\n",
       "      <th>3</th>\n",
       "      <td>0.000000</td>\n",
       "      <td>0.000000</td>\n",
       "      <td>0.999995</td>\n",
       "      <td>3.984744e-07</td>\n",
       "      <td>0.0</td>\n",
       "      <td>0.000000e+00</td>\n",
       "    </tr>\n",
       "    <tr>\n",
       "      <th>4</th>\n",
       "      <td>0.000000</td>\n",
       "      <td>0.000000</td>\n",
       "      <td>-1.454438</td>\n",
       "      <td>1.000004e+00</td>\n",
       "      <td>0.0</td>\n",
       "      <td>0.000000e+00</td>\n",
       "    </tr>\n",
       "    <tr>\n",
       "      <th>5</th>\n",
       "      <td>0.000002</td>\n",
       "      <td>-0.000001</td>\n",
       "      <td>0.000000</td>\n",
       "      <td>0.000000e+00</td>\n",
       "      <td>1.0</td>\n",
       "      <td>-1.297155e+00</td>\n",
       "    </tr>\n",
       "    <tr>\n",
       "      <th>6</th>\n",
       "      <td>0.000000</td>\n",
       "      <td>0.000000</td>\n",
       "      <td>0.000000</td>\n",
       "      <td>0.000000e+00</td>\n",
       "      <td>0.0</td>\n",
       "      <td>1.000000e+00</td>\n",
       "    </tr>\n",
       "  </tbody>\n",
       "</table>\n",
       "</div>"
      ],
      "text/plain": [
       "          1         2         3             4    5             6\n",
       "1  0.999968  0.000070  0.000000  0.000000e+00  0.0 -1.147949e-06\n",
       "2 -1.454445  0.999930  0.000000  0.000000e+00  0.0 -2.587771e-07\n",
       "3  0.000000  0.000000  0.999995  3.984744e-07  0.0  0.000000e+00\n",
       "4  0.000000  0.000000 -1.454438  1.000004e+00  0.0  0.000000e+00\n",
       "5  0.000002 -0.000001  0.000000  0.000000e+00  1.0 -1.297155e+00\n",
       "6  0.000000  0.000000  0.000000  0.000000e+00  0.0  1.000000e+00"
      ]
     },
     "execution_count": 19,
     "metadata": {},
     "output_type": "execute_result"
    }
   ],
   "source": [
    "M0"
   ]
  },
  {
   "cell_type": "code",
   "execution_count": 20,
   "metadata": {
    "scrolled": true
   },
   "outputs": [
    {
     "data": {
      "text/html": [
       "<div>\n",
       "<style scoped>\n",
       "    .dataframe tbody tr th:only-of-type {\n",
       "        vertical-align: middle;\n",
       "    }\n",
       "\n",
       "    .dataframe tbody tr th {\n",
       "        vertical-align: top;\n",
       "    }\n",
       "\n",
       "    .dataframe thead th {\n",
       "        text-align: right;\n",
       "    }\n",
       "</style>\n",
       "<table border=\"1\" class=\"dataframe\">\n",
       "  <thead>\n",
       "    <tr style=\"text-align: right;\">\n",
       "      <th></th>\n",
       "      <th>exponents</th>\n",
       "      <th>GP</th>\n",
       "    </tr>\n",
       "  </thead>\n",
       "  <tbody>\n",
       "    <tr>\n",
       "      <th>28</th>\n",
       "      <td>f( 30 00 00 )</td>\n",
       "      <td>7.765582e-12</td>\n",
       "    </tr>\n",
       "    <tr>\n",
       "      <th>29</th>\n",
       "      <td>f( 21 00 00 )</td>\n",
       "      <td>-5.701697e-12</td>\n",
       "    </tr>\n",
       "    <tr>\n",
       "      <th>33</th>\n",
       "      <td>f( 20 00 01 )</td>\n",
       "      <td>7.272738e-01</td>\n",
       "    </tr>\n",
       "    <tr>\n",
       "      <th>34</th>\n",
       "      <td>f( 12 00 00 )</td>\n",
       "      <td>-2.987872e-12</td>\n",
       "    </tr>\n",
       "    <tr>\n",
       "      <th>38</th>\n",
       "      <td>f( 11 00 01 )</td>\n",
       "      <td>5.580342e-12</td>\n",
       "    </tr>\n",
       "  </tbody>\n",
       "</table>\n",
       "</div>"
      ],
      "text/plain": [
       "        exponents            GP\n",
       "28  f( 30 00 00 )  7.765582e-12\n",
       "29  f( 21 00 00 ) -5.701697e-12\n",
       "33  f( 20 00 01 )  7.272738e-01\n",
       "34  f( 12 00 00 ) -2.987872e-12\n",
       "38  f( 11 00 01 )  5.580342e-12"
      ]
     },
     "execution_count": 20,
     "metadata": {},
     "output_type": "execute_result"
    }
   ],
   "source": [
    "G0.head()"
   ]
  },
  {
   "cell_type": "code",
   "execution_count": 21,
   "metadata": {},
   "outputs": [
    {
     "name": "stdout",
     "output_type": "stream",
     "text": [
      "2.429168000600238e+32\n"
     ]
    }
   ],
   "source": [
    "print(objFunc(x))\n",
    "M1,G1 = mli.readTransferMap()"
   ]
  },
  {
   "cell_type": "code",
   "execution_count": 22,
   "metadata": {},
   "outputs": [
    {
     "data": {
      "text/html": [
       "<div>\n",
       "<style scoped>\n",
       "    .dataframe tbody tr th:only-of-type {\n",
       "        vertical-align: middle;\n",
       "    }\n",
       "\n",
       "    .dataframe tbody tr th {\n",
       "        vertical-align: top;\n",
       "    }\n",
       "\n",
       "    .dataframe thead th {\n",
       "        text-align: right;\n",
       "    }\n",
       "</style>\n",
       "<table border=\"1\" class=\"dataframe\">\n",
       "  <thead>\n",
       "    <tr style=\"text-align: right;\">\n",
       "      <th></th>\n",
       "      <th>1</th>\n",
       "      <th>2</th>\n",
       "      <th>3</th>\n",
       "      <th>4</th>\n",
       "      <th>5</th>\n",
       "      <th>6</th>\n",
       "    </tr>\n",
       "  </thead>\n",
       "  <tbody>\n",
       "    <tr>\n",
       "      <th>1</th>\n",
       "      <td>0.996219</td>\n",
       "      <td>0.000933</td>\n",
       "      <td>0.000000</td>\n",
       "      <td>0.000000</td>\n",
       "      <td>0.0</td>\n",
       "      <td>-0.000869</td>\n",
       "    </tr>\n",
       "    <tr>\n",
       "      <th>2</th>\n",
       "      <td>-1.455445</td>\n",
       "      <td>1.002433</td>\n",
       "      <td>0.000000</td>\n",
       "      <td>0.000000</td>\n",
       "      <td>0.0</td>\n",
       "      <td>-0.001122</td>\n",
       "    </tr>\n",
       "    <tr>\n",
       "      <th>3</th>\n",
       "      <td>0.000000</td>\n",
       "      <td>0.000000</td>\n",
       "      <td>0.997143</td>\n",
       "      <td>0.001407</td>\n",
       "      <td>0.0</td>\n",
       "      <td>0.000000</td>\n",
       "    </tr>\n",
       "    <tr>\n",
       "      <th>4</th>\n",
       "      <td>0.000000</td>\n",
       "      <td>0.000000</td>\n",
       "      <td>-1.452236</td>\n",
       "      <td>1.000817</td>\n",
       "      <td>0.0</td>\n",
       "      <td>0.000000</td>\n",
       "    </tr>\n",
       "    <tr>\n",
       "      <th>5</th>\n",
       "      <td>0.002382</td>\n",
       "      <td>-0.000870</td>\n",
       "      <td>0.000000</td>\n",
       "      <td>0.000000</td>\n",
       "      <td>1.0</td>\n",
       "      <td>-1.324572</td>\n",
       "    </tr>\n",
       "    <tr>\n",
       "      <th>6</th>\n",
       "      <td>0.000000</td>\n",
       "      <td>0.000000</td>\n",
       "      <td>0.000000</td>\n",
       "      <td>0.000000</td>\n",
       "      <td>0.0</td>\n",
       "      <td>1.000000</td>\n",
       "    </tr>\n",
       "  </tbody>\n",
       "</table>\n",
       "</div>"
      ],
      "text/plain": [
       "          1         2         3         4    5         6\n",
       "1  0.996219  0.000933  0.000000  0.000000  0.0 -0.000869\n",
       "2 -1.455445  1.002433  0.000000  0.000000  0.0 -0.001122\n",
       "3  0.000000  0.000000  0.997143  0.001407  0.0  0.000000\n",
       "4  0.000000  0.000000 -1.452236  1.000817  0.0  0.000000\n",
       "5  0.002382 -0.000870  0.000000  0.000000  1.0 -1.324572\n",
       "6  0.000000  0.000000  0.000000  0.000000  0.0  1.000000"
      ]
     },
     "execution_count": 22,
     "metadata": {},
     "output_type": "execute_result"
    }
   ],
   "source": [
    "M1"
   ]
  },
  {
   "cell_type": "code",
   "execution_count": 23,
   "metadata": {
    "scrolled": true
   },
   "outputs": [
    {
     "data": {
      "text/html": [
       "<div>\n",
       "<style scoped>\n",
       "    .dataframe tbody tr th:only-of-type {\n",
       "        vertical-align: middle;\n",
       "    }\n",
       "\n",
       "    .dataframe tbody tr th {\n",
       "        vertical-align: top;\n",
       "    }\n",
       "\n",
       "    .dataframe thead th {\n",
       "        text-align: right;\n",
       "    }\n",
       "</style>\n",
       "<table border=\"1\" class=\"dataframe\">\n",
       "  <thead>\n",
       "    <tr style=\"text-align: right;\">\n",
       "      <th></th>\n",
       "      <th>exponents</th>\n",
       "      <th>GP</th>\n",
       "    </tr>\n",
       "  </thead>\n",
       "  <tbody>\n",
       "    <tr>\n",
       "      <th>28</th>\n",
       "      <td>f( 30 00 00 )</td>\n",
       "      <td>-0.747539</td>\n",
       "    </tr>\n",
       "    <tr>\n",
       "      <th>29</th>\n",
       "      <td>f( 21 00 00 )</td>\n",
       "      <td>-2.452496</td>\n",
       "    </tr>\n",
       "    <tr>\n",
       "      <th>33</th>\n",
       "      <td>f( 20 00 01 )</td>\n",
       "      <td>-4.832963</td>\n",
       "    </tr>\n",
       "    <tr>\n",
       "      <th>34</th>\n",
       "      <td>f( 12 00 00 )</td>\n",
       "      <td>3.709044</td>\n",
       "    </tr>\n",
       "    <tr>\n",
       "      <th>38</th>\n",
       "      <td>f( 11 00 01 )</td>\n",
       "      <td>1.524600</td>\n",
       "    </tr>\n",
       "  </tbody>\n",
       "</table>\n",
       "</div>"
      ],
      "text/plain": [
       "        exponents        GP\n",
       "28  f( 30 00 00 ) -0.747539\n",
       "29  f( 21 00 00 ) -2.452496\n",
       "33  f( 20 00 01 ) -4.832963\n",
       "34  f( 12 00 00 )  3.709044\n",
       "38  f( 11 00 01 )  1.524600"
      ]
     },
     "execution_count": 23,
     "metadata": {},
     "output_type": "execute_result"
    }
   ],
   "source": [
    "G1.head()"
   ]
  },
  {
   "cell_type": "code",
   "execution_count": null,
   "metadata": {},
   "outputs": [],
   "source": []
  }
 ],
 "metadata": {
  "kernelspec": {
   "display_name": "Python 3",
   "language": "python",
   "name": "python3"
  },
  "language_info": {
   "codemirror_mode": {
    "name": "ipython",
    "version": 3
   },
   "file_extension": ".py",
   "mimetype": "text/x-python",
   "name": "python",
   "nbconvert_exporter": "python",
   "pygments_lexer": "ipython3",
   "version": "3.6.5"
  }
 },
 "nbformat": 4,
 "nbformat_minor": 2
}
