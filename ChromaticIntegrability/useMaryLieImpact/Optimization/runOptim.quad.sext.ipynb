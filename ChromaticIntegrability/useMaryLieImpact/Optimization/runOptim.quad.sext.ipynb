{
 "cells": [
  {
   "cell_type": "code",
   "execution_count": null,
   "metadata": {},
   "outputs": [],
   "source": [
    "import numpy as np\n",
    "import os\n",
    "import shutil\n",
    "from pImpactR import MLI as mli\n",
    "from pImpactR import opt\n",
    "from pImpactR.util import Me\n",
    "from copy import deepcopy as copy\n",
    "import time"
   ]
  },
  {
   "cell_type": "markdown",
   "metadata": {},
   "source": [
    "# Original Settings"
   ]
  },
  {
   "cell_type": "code",
   "execution_count": null,
   "metadata": {},
   "outputs": [],
   "source": [
    "elems0,lattices,labor = mli.readInputfile('mli.in.origin')"
   ]
  },
  {
   "cell_type": "code",
   "execution_count": null,
   "metadata": {},
   "outputs": [],
   "source": [
    "energy=elems0[0].energy*1.0e9\n",
    "gam0 = energy/Me\n",
    "bet0 = np.sqrt(1.0-1.0/gam0**2)"
   ]
  },
  {
   "cell_type": "code",
   "execution_count": null,
   "metadata": {},
   "outputs": [],
   "source": [
    "elems = []\n",
    "for item in elems0:\n",
    "    if not item.name in ['tasm','aim','vary','clear','anaprint']:\n",
    "        elems.append(item)"
   ]
  },
  {
   "cell_type": "code",
   "execution_count": null,
   "metadata": {},
   "outputs": [],
   "source": [
    "labor = ['iotaline','mapout','fin']\n",
    "mli.writeInputfile(elems,lattices,labor)\n",
    "mli.run()\n",
    "M,G = mli.readTransferMap()"
   ]
  },
  {
   "cell_type": "markdown",
   "metadata": {},
   "source": [
    "### Map"
   ]
  },
  {
   "cell_type": "code",
   "execution_count": null,
   "metadata": {},
   "outputs": [],
   "source": [
    "M,G = mli.readTransferMap()\n",
    "M"
   ]
  },
  {
   "cell_type": "code",
   "execution_count": null,
   "metadata": {},
   "outputs": [],
   "source": [
    "G.head()"
   ]
  },
  {
   "cell_type": "markdown",
   "metadata": {},
   "source": [
    "### Investigate Quadrupole settings"
   ]
  },
  {
   "cell_type": "code",
   "execution_count": null,
   "metadata": {},
   "outputs": [],
   "source": [
    "for i,item in enumerate(elems):\n",
    "    if 'quadrupole' == item.elem:\n",
    "        for k,v in item.items():\n",
    "            if k not in ['name','elem','l']:\n",
    "                print(k,v)"
   ]
  },
  {
   "cell_type": "code",
   "execution_count": null,
   "metadata": {},
   "outputs": [],
   "source": [
    "indexQuad = []\n",
    "QuadStrength = []\n",
    "for i,item in enumerate(elems):\n",
    "    if 'quadrupole' == item.elem:\n",
    "        if 'k1' in item.keys():\n",
    "            indexQuad.append(i)\n",
    "            QuadStrength.append(item.k1)\n",
    "nQuad = len(indexQuad)"
   ]
  },
  {
   "cell_type": "code",
   "execution_count": null,
   "metadata": {},
   "outputs": [],
   "source": [
    "for i in range(len(QuadStrength)):\n",
    "    print(QuadStrength[i],QuadStrength[-i-1],QuadStrength[i]-QuadStrength[-i-1])"
   ]
  },
  {
   "cell_type": "markdown",
   "metadata": {},
   "source": [
    "### Sextupoles"
   ]
  },
  {
   "cell_type": "code",
   "execution_count": null,
   "metadata": {},
   "outputs": [],
   "source": [
    "indexSext = []\n",
    "SextStrength = []\n",
    "for i,item in enumerate(elems):\n",
    "    if 'sextupole' == item.elem:\n",
    "        indexSext.append(i)\n",
    "        SextStrength.append(item.g2)\n",
    "nSext = len(indexSext)"
   ]
  },
  {
   "cell_type": "markdown",
   "metadata": {},
   "source": [
    "# Optimize"
   ]
  },
  {
   "cell_type": "code",
   "execution_count": null,
   "metadata": {},
   "outputs": [],
   "source": [
    "NL_nu = 0.3\n",
    "NL_L  = 1.8\n",
    "NL_c  = 0.01\n",
    "NL_t  = 0.4\n",
    "alfx = np.tan(np.pi*NL_nu)\n",
    "betx = NL_L/np.sin(2.0*np.pi*NL_nu)\n",
    "k = 2*alfx/betx"
   ]
  },
  {
   "cell_type": "code",
   "execution_count": null,
   "metadata": {},
   "outputs": [],
   "source": [
    "M_ref = np.array([[ 1.0, 0.0,  0.0,  0.0,  0.0],\n",
    "                  [ -k , 1.0,  0.0,  0.0,  0.0],\n",
    "                  [ 0.0, 0.0,  1.0,  0.0,  0.0],\n",
    "                  [ 0.0, 0.0,   -k,  1.0,  0.0]])"
   ]
  },
  {
   "cell_type": "code",
   "execution_count": null,
   "metadata": {},
   "outputs": [],
   "source": [
    "M.values[:4,[0,1,2,3,5]]-M_ref"
   ]
  },
  {
   "cell_type": "code",
   "execution_count": null,
   "metadata": {},
   "outputs": [],
   "source": [
    "G2_ref = G.loc[28:76].copy()\n",
    "G2_ref['GP'] = 0\n",
    "G2_ref.loc[33,'GP'] = 0.5*k/bet0\n",
    "G2_ref.loc[67,'GP'] = 0.5*k/bet0\n",
    "G2_ref"
   ]
  },
  {
   "cell_type": "code",
   "execution_count": null,
   "metadata": {},
   "outputs": [],
   "source": [
    "G3_ref = G.loc[84:200].copy()\n",
    "G3_ref['GP'] = 0\n",
    "G3_ref.loc[104,'GP'] = k/(2.0*bet0*gam0)**2\n",
    "G3_ref.loc[184,'GP'] = k/(2.0*bet0*gam0)**2\n",
    "G3_ref.head()"
   ]
  },
  {
   "cell_type": "code",
   "execution_count": null,
   "metadata": {},
   "outputs": [],
   "source": [
    "G4_ref = G.loc[210:450].copy()\n",
    "G4_ref['GP'] = 0\n",
    "G4_ref.head()"
   ]
  },
  {
   "cell_type": "code",
   "execution_count": null,
   "metadata": {},
   "outputs": [],
   "source": [
    "G5_ref = G.loc[462:910].copy()\n",
    "G5_ref['GP'] = 0"
   ]
  },
  {
   "cell_type": "code",
   "execution_count": null,
   "metadata": {},
   "outputs": [],
   "source": [
    "print(len(G2_ref),len(G3_ref),len(G4_ref),len(G5_ref))"
   ]
  },
  {
   "cell_type": "code",
   "execution_count": null,
   "metadata": {},
   "outputs": [],
   "source": [
    "#%%\n",
    "def objFunc(arg): \n",
    "    target = opt.id_generator()  # generage random directory name\n",
    "    while os.path.exists(target):  \n",
    "        target = opt.id_generator()\n",
    "    shutil.copytree('origin', target)\n",
    "    time.sleep(0.1)\n",
    "    os.chdir(target) # cd to the randome directory and\n",
    "    \n",
    "    for i,j in enumerate(indexQuad):\n",
    "        elems[j]['k1']=arg[i]\n",
    "    for i,j in enumerate(indexSext):\n",
    "        elems[j]['g2']=arg[i+nQuad]\n",
    "        \n",
    "    mli.writeInputfile(elems,lattices,labor)\n",
    "    mli.run()\n",
    "    time.sleep(0.1)\n",
    "    M,G = mli.readTransferMap()\n",
    "    \n",
    "    obj = 1.0e36* np.sum((M.values[:4,[0,1,2,3,5]]-M_ref)**2) \\\n",
    "         +1.0e30* np.sum((G.loc[28 :76 ,'GP'].values-G2_ref['GP'].values)**2) \\\n",
    "         +1.0e22* np.sum((G.loc[84 :200,'GP'].values-G3_ref['GP'].values)**2) \\\n",
    "         +1.0e12* np.sum((G.loc[210:450,'GP'].values-G4_ref['GP'].values)**2) \\\n",
    "         +        np.sum((G.loc[462:910,'GP'].values-G5_ref['GP'].values)**2)\n",
    "    time.sleep(0.1)\n",
    "    os.chdir('..')\n",
    "    time.sleep(0.1)\n",
    "    shutil.rmtree(target)\n",
    "    time.sleep(0.1)\n",
    "    return obj"
   ]
  },
  {
   "cell_type": "code",
   "execution_count": null,
   "metadata": {},
   "outputs": [],
   "source": [
    "objFunc(QuadStrength+[0]*nSext)"
   ]
  },
  {
   "cell_type": "code",
   "execution_count": null,
   "metadata": {
    "scrolled": true
   },
   "outputs": [],
   "source": [
    "#%% run optim\n",
    "bounds = []\n",
    "for k1 in QuadStrength:\n",
    "    bounds.append((k1-0.02*np.abs(k1),k1+0.02*np.abs(k1)))\n",
    "for g2 in SextStrength:\n",
    "    bounds.append((-200.0,200.0))\n",
    "print(bounds)    \n",
    "# result=opt.differential_evolution(objFunc, bounds, ncore=32, popsize=32*4,\n",
    "#                                         disp=True, polish=True, maxtime=60*10) \n",
    "#                                         # stop running at maximum 10 min"
   ]
  },
  {
   "cell_type": "code",
   "execution_count": null,
   "metadata": {},
   "outputs": [],
   "source": [
    "# import pickle\n",
    "# with open('result.quad.sext','wb') as fp:\n",
    "#     pickle.dump(result,fp)"
   ]
  },
  {
   "cell_type": "code",
   "execution_count": null,
   "metadata": {},
   "outputs": [],
   "source": [
    "import pickle\n",
    "with open('result.quad.sext','rb') as fp:\n",
    "    result=pickle.load(fp)\n",
    "result.population_energies[0]"
   ]
  },
  {
   "cell_type": "code",
   "execution_count": null,
   "metadata": {},
   "outputs": [],
   "source": [
    "while True:\n",
    "    previous_result = result\n",
    "    if hasattr(result,'x'): \n",
    "        break\n",
    "    result = opt.differential_evolution(objFunc, bounds, ncore=32, \n",
    "                                           prev_result=previous_result, \n",
    "                                           disp=True, polish=True, maxtime=60*10)\n",
    "    with open('result.quad.sext','wb') as fp:\n",
    "        pickle.dump(result,fp)\n",
    "        time.sleep(0.1)"
   ]
  }
 ],
 "metadata": {
  "kernelspec": {
   "display_name": "Python 3",
   "language": "python",
   "name": "python3"
  },
  "language_info": {
   "codemirror_mode": {
    "name": "ipython",
    "version": 3
   },
   "file_extension": ".py",
   "mimetype": "text/x-python",
   "name": "python",
   "nbconvert_exporter": "python",
   "pygments_lexer": "ipython3",
   "version": "3.6.5"
  }
 },
 "nbformat": 4,
 "nbformat_minor": 2
}
