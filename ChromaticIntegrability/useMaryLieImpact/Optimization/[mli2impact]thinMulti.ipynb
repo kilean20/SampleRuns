{
 "cells": [
  {
   "cell_type": "code",
   "execution_count": 1,
   "metadata": {},
   "outputs": [],
   "source": [
    "import numpy as np\n",
    "import os\n",
    "from pImpactR import MLI as mli\n",
    "from pImpactR import opt\n",
    "from pImpactR.util import Me\n",
    "from copy import deepcopy as copy\n",
    "import time\n",
    "import pickle\n",
    "import matplotlib.pyplot as plt"
   ]
  },
  {
   "cell_type": "code",
   "execution_count": 2,
   "metadata": {},
   "outputs": [
    {
     "data": {
      "text/plain": [
       "1.4544633270832747"
      ]
     },
     "execution_count": 2,
     "metadata": {},
     "output_type": "execute_result"
    }
   ],
   "source": [
    "nCore_y = 2\n",
    "nCore_z = 2\n",
    "\n",
    "nturn = 1024\n",
    "npt = 64\n",
    "std = 0.05\n",
    "Espread = 2.0e-3\n",
    "\n",
    "NL_L = 1.8\n",
    "NL_t = 0.4\n",
    "NL_c = 0.01\n",
    "NL_nu = 0.3\n",
    "\n",
    "alfx = np.tan(np.pi*NL_nu)\n",
    "betx = NL_L/np.sin(2.0*np.pi*NL_nu)\n",
    "k = 2*alfx/betx\n",
    "k"
   ]
  },
  {
   "cell_type": "markdown",
   "metadata": {},
   "source": [
    "# Original Settings"
   ]
  },
  {
   "cell_type": "code",
   "execution_count": 3,
   "metadata": {},
   "outputs": [
    {
     "name": "stdout",
     "output_type": "stream",
     "text": [
      "setarclen is not recognized. skipping...\n",
      "autoconcat is not recognized. skipping...\n",
      "autoapply is not recognized. skipping...\n",
      "reftraj is not recognized. skipping...\n",
      "fit is not recognized. skipping...\n",
      "bip is not recognized. skipping...\n",
      "tip is not recognized. skipping...\n"
     ]
    }
   ],
   "source": [
    "elems0,lattices,labor = mli.readInputfile('mli.in.origin')"
   ]
  },
  {
   "cell_type": "code",
   "execution_count": 4,
   "metadata": {},
   "outputs": [],
   "source": [
    "energy=elems0[0].energy*1.0e9\n",
    "gam0 = energy/Me\n",
    "bet0 = np.sqrt(1.0-1.0/gam0**2)"
   ]
  },
  {
   "cell_type": "code",
   "execution_count": 5,
   "metadata": {},
   "outputs": [],
   "source": [
    "elems = []\n",
    "for item in elems0:\n",
    "    if not item.name in ['tasm','aim','vary','clear','anaprint']:\n",
    "        elems.append(item)"
   ]
  },
  {
   "cell_type": "code",
   "execution_count": 6,
   "metadata": {},
   "outputs": [],
   "source": [
    "labor = ['iotaline','mapout','fin']"
   ]
  },
  {
   "cell_type": "markdown",
   "metadata": {},
   "source": [
    "# thick sext 2 thin multipole"
   ]
  },
  {
   "cell_type": "code",
   "execution_count": 7,
   "metadata": {},
   "outputs": [],
   "source": [
    "elemList,latticeList=mli.sext2thin(elems,lattices,brho=0.50204778184582999)"
   ]
  },
  {
   "cell_type": "code",
   "execution_count": 8,
   "metadata": {},
   "outputs": [
    {
     "name": "stdout",
     "output_type": "stream",
     "text": [
      "18\n"
     ]
    }
   ],
   "source": [
    "indexThin = []\n",
    "for i,item in enumerate(elemList):\n",
    "    if 'thlm' == item.elem:\n",
    "        indexThin.append(i)\n",
    "nThin = len(indexThin)\n",
    "print(nThin)\n",
    "\n",
    "with open('result.thin.sext.oct','rb') as fp:\n",
    "    result=pickle.load(fp)\n",
    "\n",
    "for i,j in enumerate(indexThin):\n",
    "    elemList[j]['k2l']=result.x[i]\n",
    "for i,j in enumerate(indexThin):\n",
    "    elemList[j]['k3l']=result.x[i+nThin]"
   ]
  },
  {
   "cell_type": "code",
   "execution_count": 9,
   "metadata": {},
   "outputs": [],
   "source": [
    "mli.writeInputfile(elemList,latticeList,labor)\n",
    "mli.run()\n",
    "M0,G=mli.readTransferMap()"
   ]
  },
  {
   "cell_type": "code",
   "execution_count": 10,
   "metadata": {},
   "outputs": [
    {
     "data": {
      "text/html": [
       "<div>\n",
       "<style scoped>\n",
       "    .dataframe tbody tr th:only-of-type {\n",
       "        vertical-align: middle;\n",
       "    }\n",
       "\n",
       "    .dataframe tbody tr th {\n",
       "        vertical-align: top;\n",
       "    }\n",
       "\n",
       "    .dataframe thead th {\n",
       "        text-align: right;\n",
       "    }\n",
       "</style>\n",
       "<table border=\"1\" class=\"dataframe\">\n",
       "  <thead>\n",
       "    <tr style=\"text-align: right;\">\n",
       "      <th></th>\n",
       "      <th>1</th>\n",
       "      <th>2</th>\n",
       "      <th>3</th>\n",
       "      <th>4</th>\n",
       "      <th>5</th>\n",
       "      <th>6</th>\n",
       "    </tr>\n",
       "  </thead>\n",
       "  <tbody>\n",
       "    <tr>\n",
       "      <th>1</th>\n",
       "      <td>0.999968</td>\n",
       "      <td>0.000070</td>\n",
       "      <td>0.000000</td>\n",
       "      <td>0.000000e+00</td>\n",
       "      <td>0.0</td>\n",
       "      <td>-1.147949e-06</td>\n",
       "    </tr>\n",
       "    <tr>\n",
       "      <th>2</th>\n",
       "      <td>-1.454445</td>\n",
       "      <td>0.999930</td>\n",
       "      <td>0.000000</td>\n",
       "      <td>0.000000e+00</td>\n",
       "      <td>0.0</td>\n",
       "      <td>-2.587771e-07</td>\n",
       "    </tr>\n",
       "    <tr>\n",
       "      <th>3</th>\n",
       "      <td>0.000000</td>\n",
       "      <td>0.000000</td>\n",
       "      <td>0.999995</td>\n",
       "      <td>3.984744e-07</td>\n",
       "      <td>0.0</td>\n",
       "      <td>0.000000e+00</td>\n",
       "    </tr>\n",
       "    <tr>\n",
       "      <th>4</th>\n",
       "      <td>0.000000</td>\n",
       "      <td>0.000000</td>\n",
       "      <td>-1.454438</td>\n",
       "      <td>1.000004e+00</td>\n",
       "      <td>0.0</td>\n",
       "      <td>0.000000e+00</td>\n",
       "    </tr>\n",
       "    <tr>\n",
       "      <th>5</th>\n",
       "      <td>0.000002</td>\n",
       "      <td>-0.000001</td>\n",
       "      <td>0.000000</td>\n",
       "      <td>0.000000e+00</td>\n",
       "      <td>1.0</td>\n",
       "      <td>-1.297155e+00</td>\n",
       "    </tr>\n",
       "    <tr>\n",
       "      <th>6</th>\n",
       "      <td>0.000000</td>\n",
       "      <td>0.000000</td>\n",
       "      <td>0.000000</td>\n",
       "      <td>0.000000e+00</td>\n",
       "      <td>0.0</td>\n",
       "      <td>1.000000e+00</td>\n",
       "    </tr>\n",
       "  </tbody>\n",
       "</table>\n",
       "</div>"
      ],
      "text/plain": [
       "          1         2         3             4    5             6\n",
       "1  0.999968  0.000070  0.000000  0.000000e+00  0.0 -1.147949e-06\n",
       "2 -1.454445  0.999930  0.000000  0.000000e+00  0.0 -2.587771e-07\n",
       "3  0.000000  0.000000  0.999995  3.984744e-07  0.0  0.000000e+00\n",
       "4  0.000000  0.000000 -1.454438  1.000004e+00  0.0  0.000000e+00\n",
       "5  0.000002 -0.000001  0.000000  0.000000e+00  1.0 -1.297155e+00\n",
       "6  0.000000  0.000000  0.000000  0.000000e+00  0.0  1.000000e+00"
      ]
     },
     "execution_count": 10,
     "metadata": {},
     "output_type": "execute_result"
    }
   ],
   "source": [
    "M0"
   ]
  },
  {
   "cell_type": "markdown",
   "metadata": {},
   "source": [
    "# mli2impact"
   ]
  },
  {
   "cell_type": "code",
   "execution_count": 11,
   "metadata": {},
   "outputs": [],
   "source": [
    "from pImpactR import mli2impact"
   ]
  },
  {
   "cell_type": "code",
   "execution_count": 12,
   "metadata": {},
   "outputs": [
    {
     "name": "stdout",
     "output_type": "stream",
     "text": [
      "marker is not recognized. skipping...\n",
      "monitor is not recognized. skipping...\n",
      "quadrupole strength not found in the following MLI element:\n",
      "\n",
      " elem: 'quadrupole'\n",
      " name: 'sqb2r'\n",
      "    l: 0.1\n",
      "  k1s: 0\n",
      "quadrupole strength not found in the following MLI element:\n",
      "\n",
      " elem: 'quadrupole'\n",
      " name: 'sqc1r'\n",
      "    l: 0.1\n",
      "  k1s: 0\n",
      "monitor is not recognized. skipping...\n",
      "monitor is not recognized. skipping...\n",
      "quadrupole strength not found in the following MLI element:\n",
      "\n",
      " elem: 'quadrupole'\n",
      " name: 'sqc2r'\n",
      "    l: 0.1\n",
      "  k1s: 0\n",
      "monitor is not recognized. skipping...\n",
      "quadrupole strength not found in the following MLI element:\n",
      "\n",
      " elem: 'quadrupole'\n",
      " name: 'sqd1r'\n",
      "    l: 0.1\n",
      "  k1s: 0\n",
      "marker is not recognized. skipping...\n",
      "marker is not recognized. skipping...\n",
      "quadrupole strength not found in the following MLI element:\n",
      "\n",
      " elem: 'quadrupole'\n",
      " name: 'sqd2r'\n",
      "    l: 0.1\n",
      "  k1s: 0\n",
      "monitor is not recognized. skipping...\n",
      "monitor is not recognized. skipping...\n",
      "quadrupole strength not found in the following MLI element:\n",
      "\n",
      " elem: 'quadrupole'\n",
      " name: 'sqe1r'\n",
      "    l: 0.1\n",
      "  k1s: 0\n",
      "monitor is not recognized. skipping...\n",
      "quadrupole strength not found in the following MLI element:\n",
      "\n",
      " elem: 'quadrupole'\n",
      " name: 'sqe2r'\n",
      "    l: 0.1\n",
      "  k1s: 0\n",
      "quadrupole strength not found in the following MLI element:\n",
      "\n",
      " elem: 'quadrupole'\n",
      " name: 'sqe2l'\n",
      "    l: 0.1\n",
      "  k1s: 0\n",
      "monitor is not recognized. skipping...\n",
      "quadrupole strength not found in the following MLI element:\n",
      "\n",
      " elem: 'quadrupole'\n",
      " name: 'sqe1l'\n",
      "    l: 0.1\n",
      "  k1s: 0\n",
      "monitor is not recognized. skipping...\n",
      "monitor is not recognized. skipping...\n",
      "quadrupole strength not found in the following MLI element:\n",
      "\n",
      " elem: 'quadrupole'\n",
      " name: 'sqd2l'\n",
      "    l: 0.1\n",
      "  k1s: 0\n",
      "quadrupole strength not found in the following MLI element:\n",
      "\n",
      " elem: 'quadrupole'\n",
      " name: 'sqd1l'\n",
      "    l: 0.1\n",
      "  k1s: 0\n",
      "monitor is not recognized. skipping...\n",
      "quadrupole strength not found in the following MLI element:\n",
      "\n",
      " elem: 'quadrupole'\n",
      " name: 'sqc2l'\n",
      "    l: 0.1\n",
      "  k1s: 0\n",
      "monitor is not recognized. skipping...\n",
      "monitor is not recognized. skipping...\n",
      "quadrupole strength not found in the following MLI element:\n",
      "\n",
      " elem: 'quadrupole'\n",
      " name: 'sqc1l'\n",
      "    l: 0.1\n",
      "  k1s: 0\n",
      "quadrupole strength not found in the following MLI element:\n",
      "\n",
      " elem: 'quadrupole'\n",
      " name: 'sqb2l'\n",
      "    l: 0.1\n",
      "  k1s: 0\n",
      "monitor is not recognized. skipping...\n",
      "marker is not recognized. skipping...\n",
      "marker is not recognized. skipping...\n",
      "marker is not recognized. skipping...\n",
      "marker is not recognized. skipping...\n",
      "marker is not recognized. skipping...\n",
      "marker is not recognized. skipping...\n",
      "marker is not recognized. skipping...\n",
      "marker is not recognized. skipping...\n",
      "marker is not recognized. skipping...\n",
      "marker is not recognized. skipping...\n",
      "marker is not recognized. skipping...\n",
      "marker is not recognized. skipping...\n",
      "marker is not recognized. skipping...\n",
      "marker is not recognized. skipping...\n",
      "marker is not recognized. skipping...\n",
      "marker is not recognized. skipping...\n",
      "marker is not recognized. skipping...\n",
      "marker is not recognized. skipping...\n",
      "marker is not recognized. skipping...\n",
      "marker is not recognized. skipping...\n",
      "marker is not recognized. skipping...\n",
      "marker is not recognized. skipping...\n",
      "marker is not recognized. skipping...\n",
      "marker is not recognized. skipping...\n",
      "marker is not recognized. skipping...\n",
      "marker is not recognized. skipping...\n",
      "marker is not recognized. skipping...\n",
      "marker is not recognized. skipping...\n",
      "marker is not recognized. skipping...\n",
      "marker is not recognized. skipping...\n",
      "marker is not recognized. skipping...\n",
      "marker is not recognized. skipping...\n",
      "marker is not recognized. skipping...\n",
      "marker is not recognized. skipping...\n",
      "marker is not recognized. skipping...\n",
      "marker is not recognized. skipping...\n",
      "marker is not recognized. skipping...\n",
      "marker is not recognized. skipping...\n",
      "marker is not recognized. skipping...\n",
      "monitor is not recognized. skipping...\n",
      "quadrupole strength not found in the following MLI element:\n",
      "\n",
      " elem: 'quadrupole'\n",
      " name: 'sqb1l'\n",
      "    l: 0.1\n",
      "  k1s: 0\n",
      "quadrupole strength not found in the following MLI element:\n",
      "\n",
      " elem: 'quadrupole'\n",
      " name: 'sqa2l'\n",
      "    l: 0.1\n",
      "  k1s: 0\n",
      "monitor is not recognized. skipping...\n",
      "monitor is not recognized. skipping...\n",
      "quadrupole strength not found in the following MLI element:\n",
      "\n",
      " elem: 'quadrupole'\n",
      " name: 'sqa1l'\n",
      "    l: 0.1\n",
      "  k1s: 0\n",
      "vkicker is not recognized. replacing with drift...\n",
      "marker is not recognized. skipping...\n",
      "monitor is not recognized. skipping...\n",
      "vkicker is not recognized. replacing with drift...\n",
      "quadrupole strength not found in the following MLI element:\n",
      "\n",
      " elem: 'quadrupole'\n",
      " name: 'sqa1r'\n",
      "    l: 0.1\n",
      "  k1s: 0\n",
      "monitor is not recognized. skipping...\n",
      "monitor is not recognized. skipping...\n",
      "quadrupole strength not found in the following MLI element:\n",
      "\n",
      " elem: 'quadrupole'\n",
      " name: 'sqa2r'\n",
      "    l: 0.1\n",
      "  k1s: 0\n",
      "quadrupole strength not found in the following MLI element:\n",
      "\n",
      " elem: 'quadrupole'\n",
      " name: 'sqb1r'\n",
      "    l: 0.1\n",
      "  k1s: 0\n",
      "monitor is not recognized. skipping...\n",
      "marker is not recognized. skipping...\n"
     ]
    }
   ],
   "source": [
    "beam=mli2impact.beam(elemList)\n",
    "lattice=mli2impact.lattice(elemList,latticeList[0])\n",
    "\n",
    "beam.n_particles=npt\n",
    "beam.nCore_y = nCore_y\n",
    "beam.nCore_z = nCore_z\n",
    "\n",
    "ke = beam.kinetic_energy\n",
    "freq = beam.frequency\n",
    "mass = beam.mass\n",
    "gam0 = 1.0+beam.kinetic_energy/mass\n",
    "bet0 = np.sqrt(1.0-1.0/gam0**2)\n",
    "bg0  = np.sqrt(gam0**2-1.0)\n",
    "q_m  = beam.multi_charge.q_m[0]"
   ]
  },
  {
   "cell_type": "code",
   "execution_count": 13,
   "metadata": {},
   "outputs": [
    {
     "data": {
      "text/plain": [
       "\n",
       "         nCore_y: 2\n",
       "         nCore_z: 2\n",
       "             dim: 6\n",
       "     n_particles: 64\n",
       "      integrator: 'Linear'\n",
       "     error_study: False\n",
       " standard_output: 'standard output'\n",
       "         restart: False\n",
       "        subcycle: False\n",
       "         current: 0.0 [A]\n",
       "  kinetic_energy: 150000007.09 [eV]\n",
       "            mass: 510998.91 [eV]\n",
       "          charge: -1.0 [e]\n",
       "       frequency: 30000000.0 [Hz]\n",
       "           phase: 0.0 [rad]\n",
       "            mesh: 'mesh' class\n",
       "    distribution: 'distribution' class\n",
       "    multi_charge: 'multi_charge' class"
      ]
     },
     "execution_count": 13,
     "metadata": {},
     "output_type": "execute_result"
    }
   ],
   "source": [
    "beam"
   ]
  },
  {
   "cell_type": "code",
   "execution_count": 14,
   "metadata": {},
   "outputs": [],
   "source": [
    "import pImpactR as impact"
   ]
  },
  {
   "cell_type": "code",
   "execution_count": 15,
   "metadata": {},
   "outputs": [
    {
     "data": {
      "text/html": [
       "<div>\n",
       "<style scoped>\n",
       "    .dataframe tbody tr th:only-of-type {\n",
       "        vertical-align: middle;\n",
       "    }\n",
       "\n",
       "    .dataframe tbody tr th {\n",
       "        vertical-align: top;\n",
       "    }\n",
       "\n",
       "    .dataframe thead th {\n",
       "        text-align: right;\n",
       "    }\n",
       "</style>\n",
       "<table border=\"1\" class=\"dataframe\">\n",
       "  <thead>\n",
       "    <tr style=\"text-align: right;\">\n",
       "      <th></th>\n",
       "      <th>0</th>\n",
       "      <th>1</th>\n",
       "      <th>2</th>\n",
       "      <th>3</th>\n",
       "      <th>4</th>\n",
       "      <th>5</th>\n",
       "    </tr>\n",
       "  </thead>\n",
       "  <tbody>\n",
       "    <tr>\n",
       "      <th>0</th>\n",
       "      <td>0.999969</td>\n",
       "      <td>0.000070</td>\n",
       "      <td>-3.102372e-08</td>\n",
       "      <td>-5.540068e-07</td>\n",
       "      <td>0.0</td>\n",
       "      <td>7.627056e-15</td>\n",
       "    </tr>\n",
       "    <tr>\n",
       "      <th>1</th>\n",
       "      <td>-1.454445</td>\n",
       "      <td>0.999931</td>\n",
       "      <td>1.179630e-08</td>\n",
       "      <td>2.450681e-07</td>\n",
       "      <td>0.0</td>\n",
       "      <td>1.719333e-15</td>\n",
       "    </tr>\n",
       "    <tr>\n",
       "      <th>2</th>\n",
       "      <td>0.000000</td>\n",
       "      <td>0.000000</td>\n",
       "      <td>9.999954e-01</td>\n",
       "      <td>3.990508e-07</td>\n",
       "      <td>0.0</td>\n",
       "      <td>0.000000e+00</td>\n",
       "    </tr>\n",
       "    <tr>\n",
       "      <th>3</th>\n",
       "      <td>0.000000</td>\n",
       "      <td>0.000000</td>\n",
       "      <td>-1.454438e+00</td>\n",
       "      <td>1.000004e+00</td>\n",
       "      <td>0.0</td>\n",
       "      <td>0.000000e+00</td>\n",
       "    </tr>\n",
       "    <tr>\n",
       "      <th>4</th>\n",
       "      <td>0.000053</td>\n",
       "      <td>-0.001828</td>\n",
       "      <td>-1.034939e-05</td>\n",
       "      <td>-9.826143e-04</td>\n",
       "      <td>1.0</td>\n",
       "      <td>3.105050e-07</td>\n",
       "    </tr>\n",
       "    <tr>\n",
       "      <th>5</th>\n",
       "      <td>-0.000000</td>\n",
       "      <td>-0.000000</td>\n",
       "      <td>-0.000000e+00</td>\n",
       "      <td>-0.000000e+00</td>\n",
       "      <td>-0.0</td>\n",
       "      <td>1.000000e+00</td>\n",
       "    </tr>\n",
       "  </tbody>\n",
       "</table>\n",
       "</div>"
      ],
      "text/plain": [
       "          0         1             2             3    4             5\n",
       "0  0.999969  0.000070 -3.102372e-08 -5.540068e-07  0.0  7.627056e-15\n",
       "1 -1.454445  0.999931  1.179630e-08  2.450681e-07  0.0  1.719333e-15\n",
       "2  0.000000  0.000000  9.999954e-01  3.990508e-07  0.0  0.000000e+00\n",
       "3  0.000000  0.000000 -1.454438e+00  1.000004e+00  0.0  0.000000e+00\n",
       "4  0.000053 -0.001828 -1.034939e-05 -9.826143e-04  1.0  3.105050e-07\n",
       "5 -0.000000 -0.000000 -0.000000e+00 -0.000000e+00 -0.0  1.000000e+00"
      ]
     },
     "execution_count": 15,
     "metadata": {},
     "output_type": "execute_result"
    }
   ],
   "source": [
    "M=impact.getTransferMap(beam,lattice)\n",
    "M"
   ]
  },
  {
   "cell_type": "code",
   "execution_count": 16,
   "metadata": {},
   "outputs": [],
   "source": [
    "loop=impact.getElem('loop')\n",
    "loop.turns = nturn\n",
    "\n",
    "nlinsert=impact.getElem('nonlinear_insert')\n",
    "nlinsert.length=NL_L\n",
    "nlinsert.strength_t=NL_t\n",
    "nlinsert.transverse_scale_c=NL_c\n",
    "nlinsert.tune_advance=NL_nu\n",
    "\n",
    "lattice = [loop,nlinsert] + lattice"
   ]
  },
  {
   "cell_type": "code",
   "execution_count": 17,
   "metadata": {},
   "outputs": [],
   "source": [
    "indexThin = []\n",
    "for i,item in enumerate(lattice):\n",
    "    if 'multipole_thin' == item.type:\n",
    "        indexThin.append(i)\n",
    "nThin = len(indexThin)"
   ]
  },
  {
   "cell_type": "code",
   "execution_count": 18,
   "metadata": {},
   "outputs": [],
   "source": [
    "elemTBT = impact.getElem('TBT_integral')\n",
    "elemTBT.strength_t = NL_t\n",
    "elemTBT.transverse_scale_c = NL_c\n",
    "elemTBT.betx = betx\n",
    "elemTBT.alfx = alfx\n",
    "elemTBT.file_id = 10\n",
    "elemTBT.pID_begin = 1\n",
    "elemTBT.pID_end = npt\n",
    "\n",
    "elemTBT_old = impact.getElem('TBT_integral_onMomentum')\n",
    "elemTBT_old.strength_t = NL_t\n",
    "elemTBT_old.transverse_scale_c = NL_c\n",
    "elemTBT_old.betx = betx\n",
    "elemTBT_old.alfx = alfx\n",
    "elemTBT_old.file_id = 11\n",
    "elemTBT_old.pID_begin = 1\n",
    "elemTBT_old.pID_end = npt\n",
    "\n",
    "popout = lattice.pop(-1)\n",
    "lattice.append(elemTBT)\n",
    "lattice.append(elemTBT_old)"
   ]
  },
  {
   "cell_type": "code",
   "execution_count": 19,
   "metadata": {},
   "outputs": [],
   "source": [
    "def Impact2norm(data_in,bg0,bet0,sign=1):\n",
    "    data=data_in.copy()\n",
    "    data[:,5] = -(np.sqrt(1.0-2.0*data[:,5]/mass/(bet0*bg0)+(data[:,5]/mass)**2/bg0**2)-1.0)\n",
    "    data[:,1] = (data[:,0]*alfx*sign/np.sqrt(betx) + data[:,1]/(1+data[:,5])*np.sqrt(betx))/NL_c\n",
    "    data[:,3] = (data[:,2]*alfx*sign/np.sqrt(betx) + data[:,3]/(1+data[:,5])*np.sqrt(betx))/NL_c\n",
    "    data[:,0] = data[:,0]/(np.sqrt(betx)*NL_c)\n",
    "    data[:,2] = data[:,2]/(np.sqrt(betx)*NL_c)\n",
    "    return data\n",
    "    \n",
    "def norm2Impact(data_in,bg0,bet0,sign=1):\n",
    "    data=data_in.copy()\n",
    "    data[:,1] = (-data[:,0]*alfx*sign + data[:,1])*NL_c/np.sqrt(betx)*(1+data[:,5])\n",
    "    data[:,3] = (-data[:,2]*alfx*sign + data[:,3])*NL_c/np.sqrt(betx)*(1+data[:,5])\n",
    "    data[:,0] = data[:,0]*np.sqrt(betx)*NL_c\n",
    "    data[:,2] = data[:,2]*np.sqrt(betx)*NL_c\n",
    "    data[:,5] = (bg0*np.sqrt(1/bet0**2+2.0*data[:,5]+data[:,5]**2)-bg0/bet0)*mass\n",
    "    return data"
   ]
  },
  {
   "cell_type": "code",
   "execution_count": 20,
   "metadata": {},
   "outputs": [],
   "source": [
    "from scipy.stats import truncnorm\n",
    "\n",
    "def get_truncated_normal(mean=0, sd=1, low=0, upp=10,n=1):\n",
    "    f = truncnorm(\n",
    "        (low - mean) / sd, (upp - mean) / sd, loc=mean, scale=sd)\n",
    "    return f.rvs(n)"
   ]
  },
  {
   "cell_type": "code",
   "execution_count": 21,
   "metadata": {},
   "outputs": [],
   "source": [
    "x=get_truncated_normal(sd=std,low=-2.0*std,upp=2.0*std,n=npt*5)\n",
    "pData0=np.zeros([npt,9])\n",
    "pData0[:,[0,1,2,3,5]]=x.reshape([npt,5])\n",
    "pData0[:,5] = pData0[:,5]/std*Espread\n",
    "pData0[:,6] = q_m\n",
    "pData0[:,-1] = np.arange(1,npt+1)\n",
    "pData = norm2Impact(pData0,bg0,bet0)\n",
    "impact.writeParticleData(pData,ke,mass,freq)"
   ]
  },
  {
   "cell_type": "code",
   "execution_count": 22,
   "metadata": {},
   "outputs": [],
   "source": [
    "def track(arg=None):\n",
    "    if arg!=None:\n",
    "        for i,j in enumerate(indexThin):\n",
    "            lattice[j]['KL_sext']=arg[i]\n",
    "        for i,j in enumerate(indexThin):\n",
    "            lattice[j]['KL_oct']=arg[i+nThin]\n",
    "        \n",
    "    impact.writeInputFile(beam,lattice)\n",
    "    impact.run(beam)\n",
    "    dum,TBToff = impact.readTBT_integral(10)\n",
    "    dum,TBTon = impact.readTBT_integral_onMomentum(11)\n",
    "    print('npt=',len(dum))\n",
    "    return dum,TBTon,TBToff"
   ]
  },
  {
   "cell_type": "code",
   "execution_count": 23,
   "metadata": {},
   "outputs": [
    {
     "name": "stdout",
     "output_type": "stream",
     "text": [
      "npt= 37\n",
      "npt= 64\n"
     ]
    }
   ],
   "source": [
    "index1,TBTon1,TBToff1 = track()\n",
    "index0,TBTon0,TBToff0 = track([0.0]*2*nThin)"
   ]
  },
  {
   "cell_type": "code",
   "execution_count": 24,
   "metadata": {},
   "outputs": [
    {
     "name": "stdout",
     "output_type": "stream",
     "text": [
      "[ 1  2  3  4  5  6  7  8  9 10 11 12 13 14 15 16 17 18 19 20 21 22 23 24\n",
      " 25 26 27 28 29 30 31 32 33 34 35 36 37 38 39 40 41 42 43 44 45 46 47 48\n",
      " 49 50 51 52 53 54 55 56 57 58 59 60 61 62 63 64]\n",
      "[ 2  3  4  5  7  8  9 12 14 15 16 19 20 24 25 27 31 33 34 35 37 39 40 41\n",
      " 42 44 45 46 47 49 52 54 56 59 61 62 63]\n"
     ]
    }
   ],
   "source": [
    "print(index0)\n",
    "print(index1)"
   ]
  },
  {
   "cell_type": "code",
   "execution_count": 25,
   "metadata": {},
   "outputs": [],
   "source": [
    "index1_in_index0 = np.in1d(index1,index0)"
   ]
  },
  {
   "cell_type": "code",
   "execution_count": 26,
   "metadata": {},
   "outputs": [
    {
     "data": {
      "image/png": "[encoded data removed]",
      "text/plain": [
       "<Figure size 648x288 with 2 Axes>"
      ]
     },
     "metadata": {},
     "output_type": "display_data"
    }
   ],
   "source": [
    "fig=plt.figure(figsize=(9,4))\n",
    "plt.subplot(2,2,1)\n",
    "for i,flag in enumerate(index1_in_index0):\n",
    "    if flag:\n",
    "        plt.plot((TBToff0[:,0,i]/TBToff0[0,0,i]-1.0),marker='.',ls='',alpha=0.7)\n",
    "plt.subplot(2,2,2)\n",
    "for i,flag in enumerate(index1_in_index0):\n",
    "    if flag:\n",
    "        plt.plot((TBToff1[:,0,i]/TBToff1[0,0,i]-1.0),marker='.',ls='',alpha=0.7)"
   ]
  },
  {
   "cell_type": "code",
   "execution_count": 27,
   "metadata": {},
   "outputs": [
    {
     "data": {
      "image/png": "[encoded data removed]",
      "text/plain": [
       "<Figure size 648x288 with 2 Axes>"
      ]
     },
     "metadata": {},
     "output_type": "display_data"
    }
   ],
   "source": [
    "fig=plt.figure(figsize=(9,4))\n",
    "plt.subplot(2,2,1)\n",
    "for i in range(len(index1)):\n",
    "    plt.plot((TBToff1[:,0,i]/TBToff1[0,0,i]-1.0),marker='.',ls='',alpha=0.7)\n",
    "plt.subplot(2,2,2)\n",
    "for i in range(len(index1)):\n",
    "    plt.plot((TBToff1[:,1,i]/TBToff1[0,1,i]-1.0),marker='.',ls='',alpha=0.7)"
   ]
  },
  {
   "cell_type": "code",
   "execution_count": null,
   "metadata": {},
   "outputs": [],
   "source": []
  }
 ],
 "metadata": {
  "kernelspec": {
   "display_name": "Python 3",
   "language": "python",
   "name": "python3"
  },
  "language_info": {
   "codemirror_mode": {
    "name": "ipython",
    "version": 3
   },
   "file_extension": ".py",
   "mimetype": "text/x-python",
   "name": "python",
   "nbconvert_exporter": "python",
   "pygments_lexer": "ipython3",
   "version": "3.6.5"
  }
 },
 "nbformat": 4,
 "nbformat_minor": 2
}
