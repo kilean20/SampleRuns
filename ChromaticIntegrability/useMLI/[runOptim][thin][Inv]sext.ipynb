{
 "cells": [
  {
   "cell_type": "code",
   "execution_count": 1,
   "metadata": {},
   "outputs": [],
   "source": [
    "import numpy as np\n",
    "import os\n",
    "import shutil\n",
    "from pImpactR import MLI as mli\n",
    "from pImpactR import opt\n",
    "from pImpactR.util import Me\n",
    "from copy import deepcopy as copy\n",
    "import time\n",
    "import pickle\n",
    "import matplotlib.pyplot as plt\n",
    "# import psutil"
   ]
  },
  {
   "cell_type": "code",
   "execution_count": 2,
   "metadata": {},
   "outputs": [],
   "source": [
    "Espread = 2.0e-3\n",
    "npt = 2048*2\n",
    "nturn = 512\n",
    "nturnSlice = 8\n",
    "hole = 0.25\n",
    "CLw = 1"
   ]
  },
  {
   "cell_type": "markdown",
   "metadata": {},
   "source": [
    "# Read MLI input file"
   ]
  },
  {
   "cell_type": "code",
   "execution_count": 3,
   "metadata": {},
   "outputs": [
    {
     "name": "stdout",
     "output_type": "stream",
     "text": [
      "setarclen is not recognized. skipping...\n",
      "autoconcat is not recognized. skipping...\n",
      "autoapply is not recognized. skipping...\n",
      "reftraj is not recognized. skipping...\n",
      "fit is not recognized. skipping...\n",
      "bip is not recognized. skipping...\n",
      "tip is not recognized. skipping...\n"
     ]
    }
   ],
   "source": [
    "elems0,lattices,labor = mli.readInputfile('mli.in.t3_iota_8_4_t0p4')\n",
    "del(lattices[-1])"
   ]
  },
  {
   "cell_type": "code",
   "execution_count": 4,
   "metadata": {},
   "outputs": [
    {
     "data": {
      "text/plain": [
       "\n",
       "       elem: 'globaldefaults'\n",
       "       name: 'setdefaults'\n",
       " lfrngsbend: 1\n",
       " tfrngsbend: 1\n",
       "  lfrngquad: 1\n",
       "  tfrngquad: 1\n",
       " driftexact: 0"
      ]
     },
     "execution_count": 4,
     "metadata": {},
     "output_type": "execute_result"
    }
   ],
   "source": [
    "elems0[2]"
   ]
  },
  {
   "cell_type": "code",
   "execution_count": 5,
   "metadata": {},
   "outputs": [],
   "source": [
    "energy=elems0[0].energy*1.0e9\n",
    "gam0 = energy/Me\n",
    "bet0 = np.sqrt(1.0-1.0/gam0**2)"
   ]
  },
  {
   "cell_type": "code",
   "execution_count": 6,
   "metadata": {},
   "outputs": [],
   "source": [
    "elems = []\n",
    "for item in elems0:\n",
    "    if not item.name in ['tasm','aim','vary','clear','anaprint']:\n",
    "        elems.append(item)\n",
    "# elems[2].driftexact = 1"
   ]
  },
  {
   "cell_type": "code",
   "execution_count": 7,
   "metadata": {},
   "outputs": [],
   "source": [
    "labor = ['iotaline','mapout','fin']"
   ]
  },
  {
   "cell_type": "markdown",
   "metadata": {},
   "source": [
    "# Thick sext 2 Thin multipole"
   ]
  },
  {
   "cell_type": "code",
   "execution_count": 8,
   "metadata": {},
   "outputs": [],
   "source": [
    "elemList,latticeList=mli.sext2thin(elems,lattices,brho=0.50204778184582999)"
   ]
  },
  {
   "cell_type": "code",
   "execution_count": 9,
   "metadata": {},
   "outputs": [
    {
     "name": "stdout",
     "output_type": "stream",
     "text": [
      "18\n"
     ]
    }
   ],
   "source": [
    "indexThin = []\n",
    "k2lList = []\n",
    "for i,item in enumerate(elemList):\n",
    "    if 'thlm' == item.elem:\n",
    "        indexThin.append(i)\n",
    "        k2lList.append(item.k2l)\n",
    "nThin = len(indexThin)\n",
    "print(nThin)"
   ]
  },
  {
   "cell_type": "markdown",
   "metadata": {},
   "source": [
    "# Define parameters, getInvTBT"
   ]
  },
  {
   "cell_type": "code",
   "execution_count": 10,
   "metadata": {},
   "outputs": [
    {
     "name": "stdout",
     "output_type": "stream",
     "text": [
      "0.99999423665409 1.4544633270832747 0.727235854853427 4.191323867725334e-06\n"
     ]
    }
   ],
   "source": [
    "NL_nu = 0.3\n",
    "NL_L  = 1.8\n",
    "NL_c  = 0.01\n",
    "NL_t  = 0.4\n",
    "alfx = np.tan(np.pi*NL_nu)\n",
    "betx = NL_L/np.sin(2.0*np.pi*NL_nu)\n",
    "k = 2*alfx/betx\n",
    "\n",
    "\n",
    "f3 = k/(2*bet0)\n",
    "f4 = k/(2*bet0*gam0)**2\n",
    "print(bet0,k,f3,f4)"
   ]
  },
  {
   "cell_type": "code",
   "execution_count": 11,
   "metadata": {},
   "outputs": [
    {
     "name": "stdout",
     "output_type": "stream",
     "text": [
      "0.00249913697343209 0.002246493647530369 0.0019999884733081803\n"
     ]
    }
   ],
   "source": [
    "emit = 3.3e-6\n",
    "bg = gam0*bet0\n",
    "sx = CLw*np.sqrt(betx*emit)\n",
    "spx = CLw*np.sqrt((1+alfx*alfx)/betx*emit)\n",
    "sy = CLw*np.sqrt(betx*emit)\n",
    "spy = CLw*np.sqrt((1+alfx*alfx)/betx*emit)\n",
    "se = CLw*Espread*bet0\n",
    "print(sx,spx,se)"
   ]
  },
  {
   "cell_type": "code",
   "execution_count": 12,
   "metadata": {},
   "outputs": [],
   "source": [
    "def getTBT(npt,nturn,fname='rays.out'):\n",
    "    TBT = np.loadtxt(fname)\n",
    "    TBT = TBT[:npt*nturn,:6]\n",
    "    out = np.zeros([npt,nturn,6])\n",
    "    for i in range(nturn):\n",
    "        out[:,i,:] = TBT[i*npt:(i+1)*npt,:]\n",
    "        out[:,i,:] = MLI2norm(out[:,i,:])\n",
    "    return out,TBT[npt*(nturn-1):,:]"
   ]
  },
  {
   "cell_type": "code",
   "execution_count": 13,
   "metadata": {},
   "outputs": [],
   "source": [
    "def getInv(xn,pxn,yn,pyn,delta,tau=NL_t):\n",
    "    z = xn + 1j*yn\n",
    "    U = np.real(z/np.sqrt(1-z**2)*np.arcsin(z))\n",
    "    W = np.real(2*xn/np.sqrt(1-z**2)*np.arcsin(z))\n",
    "    Hn = 0.5*(xn**2+pxn**2+yn**2+pyn**2)   +tau*U/(1.0+delta)\n",
    "    In = (xn*pyn -yn*pxn)**2 +xn**2+pxn**2 +tau*W/(1.0+delta)\n",
    "    return Hn,In\n",
    "\n",
    "def getInvTBT(TBT):\n",
    "    npt,nturn,dummy = TBT.shape\n",
    "    InvTBT = np.zeros([npt,nturn,2])\n",
    "    for iturn in range(nturn):\n",
    "        data = TBT[:,iturn,:]\n",
    "        for ipt in range(npt):\n",
    "            xn    = data[ipt,0]\n",
    "            pxn   = data[ipt,1]\n",
    "            yn    = data[ipt,2]\n",
    "            pyn   = data[ipt,3]\n",
    "            delta = data[ipt,5]\n",
    "            InvTBT[ipt,iturn,:] = getInv(xn,pxn,yn,pyn,delta)\n",
    "    return InvTBT"
   ]
  },
  {
   "cell_type": "markdown",
   "metadata": {},
   "source": [
    "#  Prepare particles"
   ]
  },
  {
   "cell_type": "code",
   "execution_count": 14,
   "metadata": {},
   "outputs": [],
   "source": [
    "def MLI2norm(data_in,sign=1):\n",
    "    data=data_in.copy()\n",
    "    data[:,5] = np.sqrt(1.0-2.0*data[:,5]/bet0+data[:,5]**2)-1.0\n",
    "    data[:,1] = data[:,0]*alfx/np.sqrt(betx) + data[:,1]/(1+data[:,5])*np.sqrt(betx)\n",
    "    data[:,3] = data[:,2]*alfx/np.sqrt(betx) + data[:,3]/(1+data[:,5])*np.sqrt(betx)\n",
    "    data[:,0] = data[:,0]/(np.sqrt(betx))\n",
    "    data[:,2] = data[:,2]/(np.sqrt(betx))\n",
    "    return data\n",
    "    \n",
    "def norm2MLI(data_in,sign=1):\n",
    "    data=data_in.copy()\n",
    "    data[:,1] = (-data[:,0]*alfx*sign + data[:,1])/np.sqrt(betx)*(1+data[:,5])\n",
    "    data[:,3] = (-data[:,2]*alfx*sign + data[:,3])/np.sqrt(betx)*(1+data[:,5])\n",
    "    data[:,0] = data[:,0]*np.sqrt(betx)\n",
    "    data[:,2] = data[:,2]*np.sqrt(betx)\n",
    "    data[:,5] = -np.sqrt((1.0+data[:,5])**2+1.0/(bet0*gam0)**2)+1.0/bet0\n",
    "    return data"
   ]
  },
  {
   "cell_type": "code",
   "execution_count": 15,
   "metadata": {},
   "outputs": [],
   "source": [
    "from scipy.stats import truncnorm\n",
    "\n",
    "def get_truncated_normal(mean=0, sd=1.0, low=-3.0, upp=3.0, hole=0.0, n=1):\n",
    "    x = np.zeros(n)\n",
    "    for i in range(n):\n",
    "        x[i] = 0.0\n",
    "        while np.abs(x[i]) <= hole:\n",
    "            f = truncnorm(\n",
    "                (low - mean) / sd, (upp - mean) / sd, loc=mean, scale=sd)\n",
    "            x[i] = f.rvs(1)\n",
    "    return x"
   ]
  },
  {
   "cell_type": "code",
   "execution_count": 16,
   "metadata": {},
   "outputs": [],
   "source": [
    "x=get_truncated_normal(sd=1.0,low=-CLw,upp=CLw,n=npt*5,hole=hole)\n",
    "pData=np.zeros([npt,6])\n",
    "pData[:,[0,1,2,3,5]]=x.reshape([npt,5])\n",
    "pData[:,:4] = pData[:,:4]*np.sqrt(emit)\n",
    "pData[:,5] = pData[:,5]*Espread\n",
    "pDataIn = norm2MLI(pData,sign=1)\n",
    "np.savetxt('./origin/rays.in',pDataIn)"
   ]
  },
  {
   "cell_type": "code",
   "execution_count": 17,
   "metadata": {},
   "outputs": [
    {
     "data": {
      "image/png": "[encoded data removed]",
      "text/plain": [
       "<Figure size 432x288 with 1 Axes>"
      ]
     },
     "metadata": {},
     "output_type": "display_data"
    }
   ],
   "source": [
    "plt.hist(x,bins=128);"
   ]
  },
  {
   "cell_type": "markdown",
   "metadata": {},
   "source": [
    "# MLI Input for arc map"
   ]
  },
  {
   "cell_type": "code",
   "execution_count": 18,
   "metadata": {},
   "outputs": [
    {
     "data": {
      "text/plain": [
       "\n",
       "   elem: 'ptm'\n",
       "   name: 'mapout'\n",
       " matrix: 3\n",
       "   poly: 3"
      ]
     },
     "execution_count": 18,
     "metadata": {},
     "output_type": "execute_result"
    }
   ],
   "source": [
    "ElemArcMap = elemList\n",
    "mapout = ElemArcMap[-1]\n",
    "mapout"
   ]
  },
  {
   "cell_type": "code",
   "execution_count": 19,
   "metadata": {},
   "outputs": [
    {
     "name": "stdout",
     "output_type": "stream",
     "text": [
      "['nlr2', 'dr077', 'ibpmb2r', 'dr078', 'qb4r', 'dr079', 'qb5r', 'dr080']\n",
      "['dr015', 'qb2r', 'dr016', 'qb3r', 'dr017', 'ibpmb1r', 'dr018', 'nlr1']\n"
     ]
    }
   ],
   "source": [
    "LineArcMap = latticeList[0]\n",
    "LineArcMap.name = 'LineArcMap'\n",
    "print(LineArcMap.list[0:8])\n",
    "print(LineArcMap.list[-8:])"
   ]
  },
  {
   "cell_type": "code",
   "execution_count": 20,
   "metadata": {},
   "outputs": [
    {
     "name": "stdout",
     "output_type": "stream",
     "text": [
      "\n",
      " elem: 'marker'\n",
      " name: 'nlr1'\n",
      "\n",
      " elem: 'marker'\n",
      " name: 'nlr2'\n"
     ]
    }
   ],
   "source": [
    "for item in ElemArcMap:\n",
    "    if item.name in ['nlr2','nlr1']:\n",
    "        print(item)"
   ]
  },
  {
   "cell_type": "code",
   "execution_count": 21,
   "metadata": {},
   "outputs": [
    {
     "data": {
      "text/plain": [
       "['LineArcMap', 'mapout', 'fin']"
      ]
     },
     "execution_count": 21,
     "metadata": {},
     "output_type": "execute_result"
    }
   ],
   "source": [
    "LaborArcMap = labor\n",
    "LaborArcMap[0]='LineArcMap'\n",
    "LaborArcMap"
   ]
  },
  {
   "cell_type": "markdown",
   "metadata": {},
   "source": [
    "##### test"
   ]
  },
  {
   "cell_type": "code",
   "execution_count": 22,
   "metadata": {},
   "outputs": [
    {
     "data": {
      "text/html": [
       "<div>\n",
       "<style scoped>\n",
       "    .dataframe tbody tr th:only-of-type {\n",
       "        vertical-align: middle;\n",
       "    }\n",
       "\n",
       "    .dataframe tbody tr th {\n",
       "        vertical-align: top;\n",
       "    }\n",
       "\n",
       "    .dataframe thead th {\n",
       "        text-align: right;\n",
       "    }\n",
       "</style>\n",
       "<table border=\"1\" class=\"dataframe\">\n",
       "  <thead>\n",
       "    <tr style=\"text-align: right;\">\n",
       "      <th></th>\n",
       "      <th>1</th>\n",
       "      <th>2</th>\n",
       "      <th>3</th>\n",
       "      <th>4</th>\n",
       "      <th>5</th>\n",
       "      <th>6</th>\n",
       "    </tr>\n",
       "  </thead>\n",
       "  <tbody>\n",
       "    <tr>\n",
       "      <th>1</th>\n",
       "      <td>0.999968</td>\n",
       "      <td>0.000070</td>\n",
       "      <td>0.000000</td>\n",
       "      <td>0.000000e+00</td>\n",
       "      <td>0.0</td>\n",
       "      <td>-1.147949e-06</td>\n",
       "    </tr>\n",
       "    <tr>\n",
       "      <th>2</th>\n",
       "      <td>-1.454445</td>\n",
       "      <td>0.999930</td>\n",
       "      <td>0.000000</td>\n",
       "      <td>0.000000e+00</td>\n",
       "      <td>0.0</td>\n",
       "      <td>-2.587771e-07</td>\n",
       "    </tr>\n",
       "    <tr>\n",
       "      <th>3</th>\n",
       "      <td>0.000000</td>\n",
       "      <td>0.000000</td>\n",
       "      <td>0.999995</td>\n",
       "      <td>3.984744e-07</td>\n",
       "      <td>0.0</td>\n",
       "      <td>0.000000e+00</td>\n",
       "    </tr>\n",
       "    <tr>\n",
       "      <th>4</th>\n",
       "      <td>0.000000</td>\n",
       "      <td>0.000000</td>\n",
       "      <td>-1.454438</td>\n",
       "      <td>1.000004e+00</td>\n",
       "      <td>0.0</td>\n",
       "      <td>0.000000e+00</td>\n",
       "    </tr>\n",
       "    <tr>\n",
       "      <th>5</th>\n",
       "      <td>0.000002</td>\n",
       "      <td>-0.000001</td>\n",
       "      <td>0.000000</td>\n",
       "      <td>0.000000e+00</td>\n",
       "      <td>1.0</td>\n",
       "      <td>-1.297155e+00</td>\n",
       "    </tr>\n",
       "    <tr>\n",
       "      <th>6</th>\n",
       "      <td>0.000000</td>\n",
       "      <td>0.000000</td>\n",
       "      <td>0.000000</td>\n",
       "      <td>0.000000e+00</td>\n",
       "      <td>0.0</td>\n",
       "      <td>1.000000e+00</td>\n",
       "    </tr>\n",
       "  </tbody>\n",
       "</table>\n",
       "</div>"
      ],
      "text/plain": [
       "          1         2         3             4    5             6\n",
       "1  0.999968  0.000070  0.000000  0.000000e+00  0.0 -1.147949e-06\n",
       "2 -1.454445  0.999930  0.000000  0.000000e+00  0.0 -2.587771e-07\n",
       "3  0.000000  0.000000  0.999995  3.984744e-07  0.0  0.000000e+00\n",
       "4  0.000000  0.000000 -1.454438  1.000004e+00  0.0  0.000000e+00\n",
       "5  0.000002 -0.000001  0.000000  0.000000e+00  1.0 -1.297155e+00\n",
       "6  0.000000  0.000000  0.000000  0.000000e+00  0.0  1.000000e+00"
      ]
     },
     "execution_count": 22,
     "metadata": {},
     "output_type": "execute_result"
    }
   ],
   "source": [
    "mli.writeInputfile(ElemArcMap,[LineArcMap],LaborArcMap)\n",
    "mli.run()\n",
    "M_arc,G_arc=mli.readTransferMap()\n",
    "M_arc"
   ]
  },
  {
   "cell_type": "markdown",
   "metadata": {},
   "source": [
    "# MLI Input for one-turn map"
   ]
  },
  {
   "cell_type": "code",
   "execution_count": 23,
   "metadata": {},
   "outputs": [
    {
     "name": "stdout",
     "output_type": "stream",
     "text": [
      "\n",
      " elem: 'iden'\n",
      " name: 'clear'\n",
      "\n",
      "  elem: 'tmi'\n",
      "  name: 'readmap'\n",
      "  iopt: 2\n",
      " ifile: 16\n",
      "  nopt: 1\n",
      " nskip: 0\n",
      "\n",
      " elem: 'stm'\n",
      " name: 'savemap'\n",
      " nmap: 1\n",
      "\n",
      " elem: 'gtm'\n",
      " name: 'getmap'\n",
      " nmap: 1\n",
      " iopt: 1\n"
     ]
    }
   ],
   "source": [
    "ElemOneturnMap = elemList[:3]\n",
    "clear = mli.getElem.clear\n",
    "readmap = mli.getElem.tmi(name='readmap')\n",
    "savemap = mli.getElem.stm(name='savemap')\n",
    "getmap  = mli.getElem.gtm(name='getmap')\n",
    "getmap.iopt = 1 # concatenate\n",
    "nlinsert = mli.getElem.nlinsert(steps=100)\n",
    "# nlinsert = mli.getElem.drift(l=1.8)\n",
    "ElemOneturnMap = ElemOneturnMap + [readmap,savemap,getmap,nlinsert,mapout,clear]\n",
    "print(clear)\n",
    "print(readmap)\n",
    "print(savemap)\n",
    "print(getmap)"
   ]
  },
  {
   "cell_type": "code",
   "execution_count": 24,
   "metadata": {},
   "outputs": [],
   "source": [
    "readmap.map2file(M_arc,G_arc)\n",
    "! rm mli.out"
   ]
  },
  {
   "cell_type": "code",
   "execution_count": 25,
   "metadata": {},
   "outputs": [],
   "source": [
    "LineOneturnMap = mli.getElem.line(name='LineOneturnMap',elemList = [nlinsert,'getmap'])"
   ]
  },
  {
   "cell_type": "code",
   "execution_count": 26,
   "metadata": {},
   "outputs": [],
   "source": [
    "LaborOneturnMap = mli.buildLabor([readmap,savemap,clear,'LineOneturnMap','mapout','fin'])"
   ]
  },
  {
   "cell_type": "markdown",
   "metadata": {},
   "source": [
    "##### test"
   ]
  },
  {
   "cell_type": "code",
   "execution_count": 27,
   "metadata": {},
   "outputs": [
    {
     "data": {
      "text/html": [
       "<div>\n",
       "<style scoped>\n",
       "    .dataframe tbody tr th:only-of-type {\n",
       "        vertical-align: middle;\n",
       "    }\n",
       "\n",
       "    .dataframe tbody tr th {\n",
       "        vertical-align: top;\n",
       "    }\n",
       "\n",
       "    .dataframe thead th {\n",
       "        text-align: right;\n",
       "    }\n",
       "</style>\n",
       "<table border=\"1\" class=\"dataframe\">\n",
       "  <thead>\n",
       "    <tr style=\"text-align: right;\">\n",
       "      <th></th>\n",
       "      <th>1</th>\n",
       "      <th>2</th>\n",
       "      <th>3</th>\n",
       "      <th>4</th>\n",
       "      <th>5</th>\n",
       "      <th>6</th>\n",
       "    </tr>\n",
       "  </thead>\n",
       "  <tbody>\n",
       "    <tr>\n",
       "      <th>1</th>\n",
       "      <td>-2.282602e-01</td>\n",
       "      <td>0.811166</td>\n",
       "      <td>0.000000</td>\n",
       "      <td>0.000000</td>\n",
       "      <td>0.0</td>\n",
       "      <td>-1.147949e-06</td>\n",
       "    </tr>\n",
       "    <tr>\n",
       "      <th>2</th>\n",
       "      <td>-8.365780e-01</td>\n",
       "      <td>-1.408027</td>\n",
       "      <td>0.000000</td>\n",
       "      <td>0.000000</td>\n",
       "      <td>0.0</td>\n",
       "      <td>-2.587771e-07</td>\n",
       "    </tr>\n",
       "    <tr>\n",
       "      <th>3</th>\n",
       "      <td>0.000000e+00</td>\n",
       "      <td>0.000000</td>\n",
       "      <td>2.963113</td>\n",
       "      <td>3.159754</td>\n",
       "      <td>0.0</td>\n",
       "      <td>0.000000e+00</td>\n",
       "    </tr>\n",
       "    <tr>\n",
       "      <th>4</th>\n",
       "      <td>0.000000e+00</td>\n",
       "      <td>0.000000</td>\n",
       "      <td>-1.847431</td>\n",
       "      <td>-1.632550</td>\n",
       "      <td>0.0</td>\n",
       "      <td>0.000000e+00</td>\n",
       "    </tr>\n",
       "    <tr>\n",
       "      <th>5</th>\n",
       "      <td>9.012806e-07</td>\n",
       "      <td>0.000002</td>\n",
       "      <td>0.000000</td>\n",
       "      <td>0.000000</td>\n",
       "      <td>1.0</td>\n",
       "      <td>-1.297135e+00</td>\n",
       "    </tr>\n",
       "    <tr>\n",
       "      <th>6</th>\n",
       "      <td>0.000000e+00</td>\n",
       "      <td>0.000000</td>\n",
       "      <td>0.000000</td>\n",
       "      <td>0.000000</td>\n",
       "      <td>0.0</td>\n",
       "      <td>1.000000e+00</td>\n",
       "    </tr>\n",
       "  </tbody>\n",
       "</table>\n",
       "</div>"
      ],
      "text/plain": [
       "              1         2         3         4    5             6\n",
       "1 -2.282602e-01  0.811166  0.000000  0.000000  0.0 -1.147949e-06\n",
       "2 -8.365780e-01 -1.408027  0.000000  0.000000  0.0 -2.587771e-07\n",
       "3  0.000000e+00  0.000000  2.963113  3.159754  0.0  0.000000e+00\n",
       "4  0.000000e+00  0.000000 -1.847431 -1.632550  0.0  0.000000e+00\n",
       "5  9.012806e-07  0.000002  0.000000  0.000000  1.0 -1.297135e+00\n",
       "6  0.000000e+00  0.000000  0.000000  0.000000  0.0  1.000000e+00"
      ]
     },
     "execution_count": 27,
     "metadata": {},
     "output_type": "execute_result"
    }
   ],
   "source": [
    "mli.writeInputfile(ElemOneturnMap,[LineOneturnMap],LaborOneturnMap)\n",
    "mli.run()\n",
    "M_oneturn,G_oneturn=mli.readTransferMap()\n",
    "M_oneturn"
   ]
  },
  {
   "cell_type": "markdown",
   "metadata": {},
   "source": [
    "# MLI Input for tracking"
   ]
  },
  {
   "cell_type": "code",
   "execution_count": 28,
   "metadata": {},
   "outputs": [],
   "source": [
    "ElemTrack = copy(ElemOneturnMap)\n",
    "raysin  =mli.getElem.raytrace(file1='rays.in',type='readonly')\n",
    "dump    =mli.getElem.particledump(file='rays.out',precision=15)\n",
    "track   =mli.getElem.autotrack(type='symplectic',order=5)\n",
    "ElemTrack = ElemTrack + [raysin,dump,track]\n",
    "LineTrack = mli.getElem.line(name='LineTrack',elemList = [nlinsert,getmap,dump])\n",
    "LaborTrack = mli.buildLabor([readmap,savemap,clear,raysin,track,str(nturnSlice)+'*'+LineTrack.name,'fin'])"
   ]
  },
  {
   "cell_type": "markdown",
   "metadata": {},
   "source": [
    "##### test"
   ]
  },
  {
   "cell_type": "code",
   "execution_count": 29,
   "metadata": {},
   "outputs": [],
   "source": [
    "# np.savetxt('rays.in',pDataIn)"
   ]
  },
  {
   "cell_type": "code",
   "execution_count": 30,
   "metadata": {},
   "outputs": [],
   "source": [
    "# readmap.map2file(M_arc,G_arc)\n",
    "# mli.writeInputfile(ElemTrack,[LineTrack],LaborTrack)\n",
    "# mli.run()\n",
    "# TBT,pDataOut = getTBT(128,nturnSlice)\n",
    "# Inv0 = getInvTBT(TBT,nturnSlice)"
   ]
  },
  {
   "cell_type": "code",
   "execution_count": 31,
   "metadata": {},
   "outputs": [],
   "source": [
    "# readmap.map2file(M_oneturn,G_oneturn)\n",
    "# LineTrack = mli.getElem.line(name='LineTrack',elemList = [getmap,dump.name])\n",
    "# mli.writeInputfile(ElemTrack,[LineTrack],LaborTrack)\n",
    "# mli.run()\n",
    "# TBT,pDataOut = getTBT(128,nturnSlice)\n",
    "# Inv1 = getInvTBT(TBT,nturnSlice)"
   ]
  },
  {
   "cell_type": "code",
   "execution_count": 32,
   "metadata": {},
   "outputs": [],
   "source": [
    "# plt.figure(figsize=(8,3))\n",
    "# plt.subplot(1,2,1)\n",
    "# for i in range(128):\n",
    "#     plt.plot(Inv0[i,:,0])\n",
    "# plt.subplot(1,2,2)\n",
    "# for i in range(128):\n",
    "#     plt.plot(Inv1[i,:,0])"
   ]
  },
  {
   "cell_type": "markdown",
   "metadata": {},
   "source": [
    "# Optimize"
   ]
  },
  {
   "cell_type": "markdown",
   "metadata": {},
   "source": [
    "### Build objective"
   ]
  },
  {
   "cell_type": "code",
   "execution_count": 33,
   "metadata": {},
   "outputs": [],
   "source": [
    "def getWeight(g):\n",
    "    w = np.zeros(len(g))\n",
    "    for i,item in enumerate(g['exponents']):\n",
    "        nx = int(item[3])\n",
    "        npx = int(item[4])\n",
    "        ny = int(item[6])\n",
    "        npy = int(item[7])\n",
    "        nE = int(item[10])\n",
    "        w[i] = np.power(sx,nx)*np.power(spx,npx)*np.power(sy,ny)*np.power(spy,npy)*np.power(se,nE)\n",
    "    return w"
   ]
  },
  {
   "cell_type": "code",
   "execution_count": 34,
   "metadata": {},
   "outputs": [],
   "source": [
    "G2_ref = G_arc.loc[28:76].copy()\n",
    "G2_ref['GP'] = 0\n",
    "G2_ref.loc[33,'GP'] = 0.5*k/bet0\n",
    "G2_ref.loc[67,'GP'] = 0.5*k/bet0\n",
    "W2 = getWeight(G2_ref)\n",
    "# G2_ref.head()"
   ]
  },
  {
   "cell_type": "code",
   "execution_count": 35,
   "metadata": {},
   "outputs": [],
   "source": [
    "G3_ref = G_arc.loc[84:200].copy()\n",
    "G3_ref['GP'] = 0\n",
    "G3_ref.loc[104,'GP'] = k/(2.0*bet0*gam0)**2\n",
    "G3_ref.loc[184,'GP'] = k/(2.0*bet0*gam0)**2\n",
    "W3 = getWeight(G3_ref)"
   ]
  },
  {
   "cell_type": "code",
   "execution_count": 36,
   "metadata": {},
   "outputs": [],
   "source": [
    "G4_ref = G_arc.loc[210:450].copy()\n",
    "G4_ref['GP'] = 0\n",
    "W4 = getWeight(G4_ref)"
   ]
  },
  {
   "cell_type": "code",
   "execution_count": 37,
   "metadata": {},
   "outputs": [],
   "source": [
    "G5_ref = G_arc.loc[462:910].copy()\n",
    "G5_ref['GP'] = 0\n",
    "W5 = getWeight(G5_ref)"
   ]
  },
  {
   "cell_type": "code",
   "execution_count": 38,
   "metadata": {},
   "outputs": [],
   "source": [
    "def getINVobj(INV,INV0):\n",
    "    nturn = len(INV[0,:,0])\n",
    "    obj=0.0\n",
    "    tmpHmax = 0.0\n",
    "    tmpImax = 0.0\n",
    "    for i in range(nturn):\n",
    "        tmpH = (INV[:,i,0]/INV0[:,0]-1.0)**2 \n",
    "        tmpI = (INV[:,i,1]/INV0[:,1]-1.0)**2\n",
    "        tmpHmax = tmpH.max()\n",
    "        tmpImax = tmpI.max()\n",
    "        tmp = (36.0*np.sum(tmpH)/npt + 9.0*np.sum(tmpI)/npt + 4.0*tmpHmax + tmpImax)/50.0\n",
    "        obj = obj + tmp\n",
    "        if tmp > 1.0:\n",
    "            return obj/(i+1)\n",
    "    return obj/nturn"
   ]
  },
  {
   "cell_type": "code",
   "execution_count": 39,
   "metadata": {},
   "outputs": [],
   "source": [
    "# pData=np.zeros([npt,6])\n",
    "# x = np.random.random([npt,4])\n",
    "# c0 = np.cos(x[:,0])\n",
    "# s0 = np.sin(x[:,0])\n",
    "# c1 = np.cos(x[:,1])\n",
    "# s1 = np.sin(x[:,1])\n",
    "# c2 = np.cos(x[:,2])\n",
    "# s2 = np.sin(x[:,2])\n",
    "# pData[:,0] = Rsphere*c0\n",
    "# pData[:,1] = Rsphere*s0*c1\n",
    "# pData[:,2] = Rsphere*s0*s1*c2\n",
    "# pData[:,3] = Rsphere*s0*s1*s2\n",
    "# pData[:,5] = (x[:,3]-0.5)*2*Espread\n",
    "# pDataIn = norm2MLI(pData,sign=1)"
   ]
  },
  {
   "cell_type": "code",
   "execution_count": 40,
   "metadata": {},
   "outputs": [],
   "source": [
    "#%%\n",
    "def objFunc(arg): \n",
    "    target = opt.id_generator()  # generage random directory name\n",
    "    while os.path.exists(target):  \n",
    "        target = opt.id_generator()\n",
    "    shutil.copytree('origin', target)\n",
    "    os.chdir(target) # cd to the randome directory and\n",
    "    \n",
    "    for i,j in enumerate(indexThin):\n",
    "        elemList[j]['k2l']=arg[i]\n",
    "    \n",
    "\n",
    "    # 1st Objective : ArcMap\n",
    "    mli.writeInputfile(ElemArcMap,[LineArcMap],LaborArcMap)\n",
    "    mli.run()\n",
    "    M,G = mli.readTransferMap()\n",
    "    \n",
    "    test = np.all(G2_ref['exponents'].values == G.loc[28 :76 ]['exponents'].values) and \\\n",
    "           np.all(G3_ref['exponents'].values == G.loc[84 :200]['exponents'].values) and \\\n",
    "           np.all(G4_ref['exponents'].values == G.loc[210:450]['exponents'].values) and \\\n",
    "           np.all(G5_ref['exponents'].values == G.loc[462:910]['exponents'].values)\n",
    "    \n",
    "    if not test:\n",
    "        raise ValueError(\"PROBLEM!!!\")\n",
    "        \n",
    "    obj = np.sum(((G.loc[28 :76 ,'GP'].values-G2_ref['GP'].values)*W2)**2) + \\\n",
    "          np.sum(((G.loc[84 :200,'GP'].values-G3_ref['GP'].values)*W3)**2) + \\\n",
    "          np.sum( (G.loc[210:450,'GP'].values*W4)**2) + \\\n",
    "          np.sum( (G.loc[462:910,'GP'].values*W5)**2)\n",
    "    obj = obj*1.0e11\n",
    "    obj = obj**0.2\n",
    "    if obj > 1.0:\n",
    "        os.chdir('..')\n",
    "        shutil.rmtree(target)\n",
    "        return obj\n",
    "    \n",
    "    # 2nd Objective : TBTInv\n",
    "          \n",
    "    readmap.map2file(M,G)\n",
    "    mli.writeInputfile(ElemTrack,[LineTrack],LaborTrack)\n",
    "    mli.run(4)       \n",
    "    TBT,pDataOut = getTBT(npt,nturnSlice)\n",
    "    !rm rays.out\n",
    "    if(np.isnan(TBT.max())):\n",
    "        os.chdir('..')\n",
    "        shutil.rmtree(target)\n",
    "        return 1.0\n",
    "    Inv  = getInvTBT(TBT)\n",
    "    Inv0 = Inv[:,0,:]\n",
    "    obj2 = getINVobj(Inv,Inv0)\n",
    "    \n",
    "    if obj2 > 1.0:\n",
    "        os.chdir('..')\n",
    "        shutil.rmtree(target)\n",
    "        return obj*obj2\n",
    "    \n",
    "    obj2tot = obj2\n",
    "    for i in range(int(nturn/nturnSlice)-1):\n",
    "        np.savetxt('rays.in',pDataOut)\n",
    "        mli.run(4)\n",
    "#         if i<48:\n",
    "#             mli.run(8)\n",
    "#         else:\n",
    "#             mli.run(12)\n",
    "#             nP = 0\n",
    "#             for p in psutil.process_iter():\n",
    "#                 if p.name()[:5] == 'mli.x':\n",
    "#                     nP=nP+1\n",
    "#             if nP>48:\n",
    "#                 mli.run()\n",
    "#             elif nP>32:\n",
    "#                 mli.run(2)\n",
    "#             elif np>24:\n",
    "#                 mli.run(4)\n",
    "#             elif np>16:\n",
    "#                 mli.run(8)\n",
    "#             elif np>8:\n",
    "#                 mli.run(16)\n",
    "#             else:\n",
    "#                 mli.run(32)\n",
    "        TBT,pDataOut = getTBT(npt,nturnSlice)\n",
    "        !rm rays.out\n",
    "        if(np.isnan(TBT.max())):\n",
    "            os.chdir('..')\n",
    "            shutil.rmtree(target)\n",
    "            return obj*obj2\n",
    "        \n",
    "        Inv  = getInvTBT(TBT)\n",
    "        Inv0 = Inv[:,0,:]\n",
    "        obj2_tmp = getINVobj(Inv,Inv0)\n",
    "        obj2tot = obj2tot+obj2_tmp\n",
    "        obj2 = (obj2tot/(i+1))*(0.8**(i+1))\n",
    "        \n",
    "        if obj2_tmp > 1.0:\n",
    "            os.chdir('..')\n",
    "            shutil.rmtree(target)\n",
    "            return obj*obj2\n",
    "    os.chdir('..')\n",
    "    shutil.rmtree(target)\n",
    "    return obj*obj2"
   ]
  },
  {
   "cell_type": "code",
   "execution_count": 41,
   "metadata": {},
   "outputs": [],
   "source": [
    "with open('result.thin.3sig.sext','rb') as fp:\n",
    "    result=pickle.load(fp)"
   ]
  },
  {
   "cell_type": "code",
   "execution_count": 42,
   "metadata": {},
   "outputs": [],
   "source": [
    "# objFunc(result.x)"
   ]
  },
  {
   "cell_type": "code",
   "execution_count": 43,
   "metadata": {},
   "outputs": [],
   "source": [
    "# objFunc([0]*nThin)"
   ]
  },
  {
   "cell_type": "code",
   "execution_count": 44,
   "metadata": {},
   "outputs": [],
   "source": [
    "# #%% run optim\n",
    "bounds = [(-100,100)]*nThin\n",
    "# result=opt.differential_evolution(objFunc, bounds, ncore=32, popsize=32*8,\n",
    "#                                   disp=True, polish=True, maxtime=60*10) \n",
    "# #                                     stop running at maximum 10 min"
   ]
  },
  {
   "cell_type": "code",
   "execution_count": 45,
   "metadata": {},
   "outputs": [],
   "source": [
    "# with open('result.Inv.thin.'+str(CLw)+'sig.sext','wb') as fp:\n",
    "#     pickle.dump(result,fp)"
   ]
  },
  {
   "cell_type": "code",
   "execution_count": 46,
   "metadata": {},
   "outputs": [],
   "source": [
    "with open('result.Inv.thin.'+str(CLw)+'sig.sext','rb') as fp:\n",
    "    result=pickle.load(fp)"
   ]
  },
  {
   "cell_type": "code",
   "execution_count": 47,
   "metadata": {},
   "outputs": [
    {
     "data": {
      "text/plain": [
       "'Maximum time has been exceeded.'"
      ]
     },
     "execution_count": 47,
     "metadata": {},
     "output_type": "execute_result"
    }
   ],
   "source": [
    "result.message"
   ]
  },
  {
   "cell_type": "code",
   "execution_count": 48,
   "metadata": {},
   "outputs": [
    {
     "data": {
      "text/plain": [
       "array([3.14327981e-09, 3.14327981e-09, 3.17508947e-09, 3.21957504e-09,\n",
       "       3.22594844e-09, 3.24437305e-09, 3.25523028e-09, 3.25931115e-09,\n",
       "       3.27278583e-09, 3.30750248e-09, 3.33621062e-09, 3.36363551e-09,\n",
       "       3.39840169e-09, 3.44565720e-09, 3.46338468e-09, 3.47696942e-09])"
      ]
     },
     "execution_count": 48,
     "metadata": {},
     "output_type": "execute_result"
    }
   ],
   "source": [
    "np.sort(result.population_energies)[:16]"
   ]
  },
  {
   "cell_type": "code",
   "execution_count": 49,
   "metadata": {},
   "outputs": [
    {
     "data": {
      "text/plain": [
       "array([5.44289411e-09, 5.44679246e-09, 5.48899318e-09, 5.49268690e-09,\n",
       "       5.49510763e-09, 5.51703449e-09, 5.55424106e-09, 5.56359497e-09,\n",
       "       5.67862529e-09, 5.68210551e-09, 5.72519412e-09, 5.86119245e-09,\n",
       "       6.01706255e-09, 6.37623353e-09, 6.46655992e-09, 6.69486667e-09])"
      ]
     },
     "execution_count": 49,
     "metadata": {},
     "output_type": "execute_result"
    }
   ],
   "source": [
    "np.sort(result.population_energies)[-16:]"
   ]
  },
  {
   "cell_type": "code",
   "execution_count": null,
   "metadata": {},
   "outputs": [
    {
     "name": "stdout",
     "output_type": "stream",
     "text": [
      "differential_evolution step 0: f(x)= 3.14328e-09\n",
      "differential_evolution step 0: f(x)= 3.14328e-09\n",
      "differential_evolution step 0: f(x)= 3.14328e-09\n"
     ]
    }
   ],
   "source": [
    "while True:\n",
    "    previous_result = result\n",
    "    if hasattr(result,'x'): \n",
    "        break\n",
    "    result = opt.differential_evolution(objFunc, bounds, ncore=2, \n",
    "                                           prev_result=previous_result, \n",
    "                                           disp=True, maxtime=60*10)\n",
    "    with open('result.Inv.thin.'+str(CLw)+'sig.sext','wb') as fp:\n",
    "        pickle.dump(result,fp)"
   ]
  },
  {
   "cell_type": "code",
   "execution_count": null,
   "metadata": {},
   "outputs": [],
   "source": [
    "result"
   ]
  },
  {
   "cell_type": "code",
   "execution_count": null,
   "metadata": {},
   "outputs": [],
   "source": []
  }
 ],
 "metadata": {
  "kernelspec": {
   "display_name": "Python 3",
   "language": "python",
   "name": "python3"
  },
  "language_info": {
   "codemirror_mode": {
    "name": "ipython",
    "version": 3
   },
   "file_extension": ".py",
   "mimetype": "text/x-python",
   "name": "python",
   "nbconvert_exporter": "python",
   "pygments_lexer": "ipython3",
   "version": "3.6.5"
  }
 },
 "nbformat": 4,
 "nbformat_minor": 2
}
