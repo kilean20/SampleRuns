{
 "cells": [
  {
   "cell_type": "code",
   "execution_count": 1,
   "metadata": {},
   "outputs": [],
   "source": [
    "import psutil "
   ]
  },
  {
   "cell_type": "code",
   "execution_count": 2,
   "metadata": {},
   "outputs": [
    {
     "data": {
      "text/plain": [
       "<generator object process_iter at 0x7f8604632fc0>"
      ]
     },
     "execution_count": 2,
     "metadata": {},
     "output_type": "execute_result"
    }
   ],
   "source": [
    "psutil.process_iter()"
   ]
  },
  {
   "cell_type": "code",
   "execution_count": 3,
   "metadata": {},
   "outputs": [
    {
     "name": "stdout",
     "output_type": "stream",
     "text": [
      "psutil.Process(pid=58601, name='mli.x', started='00:09:57')\n",
      "psutil.Process(pid=58605, name='mli.x', started='00:09:57')\n",
      "psutil.Process(pid=58621, name='mli.x', started='00:09:58')\n",
      "psutil.Process(pid=58623, name='mli.x', started='00:09:58')\n",
      "psutil.Process(pid=58625, name='mli.x', started='00:09:58')\n",
      "psutil.Process(pid=58644, name='mli.x', started='00:10:00')\n",
      "psutil.Process(pid=58646, name='mli.x', started='00:10:00')\n",
      "psutil.Process(pid=58657, name='mli.x', started='00:10:00')\n",
      "psutil.Process(pid=58664, name='mli.x', started='00:10:09')\n",
      "psutil.Process(pid=58675, name='mli.x', started='00:10:11')\n",
      "psutil.Process(pid=58691, name='mli.x', started='00:10:12')\n"
     ]
    }
   ],
   "source": [
    "for p in psutil.process_iter():\n",
    "    if p.name()[:5] == 'mli.x':\n",
    "        print(p)"
   ]
  },
  {
   "cell_type": "code",
   "execution_count": null,
   "metadata": {},
   "outputs": [],
   "source": []
  }
 ],
 "metadata": {
  "kernelspec": {
   "display_name": "Python 3",
   "language": "python",
   "name": "python3"
  },
  "language_info": {
   "codemirror_mode": {
    "name": "ipython",
    "version": 3
   },
   "file_extension": ".py",
   "mimetype": "text/x-python",
   "name": "python",
   "nbconvert_exporter": "python",
   "pygments_lexer": "ipython3",
   "version": "3.6.5"
  }
 },
 "nbformat": 4,
 "nbformat_minor": 2
}
