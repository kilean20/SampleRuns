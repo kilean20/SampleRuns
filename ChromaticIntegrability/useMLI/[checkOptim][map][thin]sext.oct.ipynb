{
 "cells": [
  {
   "cell_type": "code",
   "execution_count": 1,
   "metadata": {},
   "outputs": [],
   "source": [
    "import numpy as np\n",
    "import os\n",
    "from pImpactR import MLI as mli\n",
    "from pImpactR import opt\n",
    "from pImpactR.util import Me\n",
    "from copy import deepcopy as copy\n",
    "import time\n",
    "import pickle"
   ]
  },
  {
   "cell_type": "markdown",
   "metadata": {},
   "source": [
    "# Original Settings"
   ]
  },
  {
   "cell_type": "code",
   "execution_count": 2,
   "metadata": {},
   "outputs": [
    {
     "name": "stdout",
     "output_type": "stream",
     "text": [
      "setarclen is not recognized. skipping...\n",
      "autoconcat is not recognized. skipping...\n",
      "autoapply is not recognized. skipping...\n",
      "reftraj is not recognized. skipping...\n",
      "fit is not recognized. skipping...\n",
      "bip is not recognized. skipping...\n",
      "tip is not recognized. skipping...\n"
     ]
    }
   ],
   "source": [
    "elems0,lattices,labor = mli.readInputfile('mli.in.t3_iota_8_4_t0p4')"
   ]
  },
  {
   "cell_type": "code",
   "execution_count": 3,
   "metadata": {},
   "outputs": [],
   "source": [
    "energy=elems0[0].energy*1.0e9\n",
    "gam0 = energy/Me\n",
    "bet0 = np.sqrt(1.0-1.0/gam0**2)"
   ]
  },
  {
   "cell_type": "code",
   "execution_count": 4,
   "metadata": {},
   "outputs": [],
   "source": [
    "elems = []\n",
    "for item in elems0:\n",
    "    if not item.name in ['tasm','aim','vary','clear','anaprint']:\n",
    "        elems.append(item)"
   ]
  },
  {
   "cell_type": "code",
   "execution_count": 5,
   "metadata": {},
   "outputs": [],
   "source": [
    "labor = ['iotaline','mapout','fin']"
   ]
  },
  {
   "cell_type": "markdown",
   "metadata": {},
   "source": [
    "# thick sext 2 thin multipole"
   ]
  },
  {
   "cell_type": "code",
   "execution_count": 6,
   "metadata": {},
   "outputs": [],
   "source": [
    "elemList,latticeList=mli.sext2thin(elems,lattices,brho=0.50204778184582999)"
   ]
  },
  {
   "cell_type": "code",
   "execution_count": 7,
   "metadata": {},
   "outputs": [],
   "source": [
    "mli.writeInputfile(elemList,latticeList,labor)\n",
    "mli.run()\n",
    "M,G=mli.readTransferMap()"
   ]
  },
  {
   "cell_type": "code",
   "execution_count": 8,
   "metadata": {},
   "outputs": [
    {
     "data": {
      "text/html": [
       "<div>\n",
       "<style scoped>\n",
       "    .dataframe tbody tr th:only-of-type {\n",
       "        vertical-align: middle;\n",
       "    }\n",
       "\n",
       "    .dataframe tbody tr th {\n",
       "        vertical-align: top;\n",
       "    }\n",
       "\n",
       "    .dataframe thead th {\n",
       "        text-align: right;\n",
       "    }\n",
       "</style>\n",
       "<table border=\"1\" class=\"dataframe\">\n",
       "  <thead>\n",
       "    <tr style=\"text-align: right;\">\n",
       "      <th></th>\n",
       "      <th>1</th>\n",
       "      <th>2</th>\n",
       "      <th>3</th>\n",
       "      <th>4</th>\n",
       "      <th>5</th>\n",
       "      <th>6</th>\n",
       "    </tr>\n",
       "  </thead>\n",
       "  <tbody>\n",
       "    <tr>\n",
       "      <th>1</th>\n",
       "      <td>0.999968</td>\n",
       "      <td>0.000070</td>\n",
       "      <td>0.000000</td>\n",
       "      <td>0.000000e+00</td>\n",
       "      <td>0.0</td>\n",
       "      <td>-1.147949e-06</td>\n",
       "    </tr>\n",
       "    <tr>\n",
       "      <th>2</th>\n",
       "      <td>-1.454445</td>\n",
       "      <td>0.999930</td>\n",
       "      <td>0.000000</td>\n",
       "      <td>0.000000e+00</td>\n",
       "      <td>0.0</td>\n",
       "      <td>-2.587771e-07</td>\n",
       "    </tr>\n",
       "    <tr>\n",
       "      <th>3</th>\n",
       "      <td>0.000000</td>\n",
       "      <td>0.000000</td>\n",
       "      <td>0.999995</td>\n",
       "      <td>3.984744e-07</td>\n",
       "      <td>0.0</td>\n",
       "      <td>0.000000e+00</td>\n",
       "    </tr>\n",
       "    <tr>\n",
       "      <th>4</th>\n",
       "      <td>0.000000</td>\n",
       "      <td>0.000000</td>\n",
       "      <td>-1.454438</td>\n",
       "      <td>1.000004e+00</td>\n",
       "      <td>0.0</td>\n",
       "      <td>0.000000e+00</td>\n",
       "    </tr>\n",
       "    <tr>\n",
       "      <th>5</th>\n",
       "      <td>0.000002</td>\n",
       "      <td>-0.000001</td>\n",
       "      <td>0.000000</td>\n",
       "      <td>0.000000e+00</td>\n",
       "      <td>1.0</td>\n",
       "      <td>-1.297155e+00</td>\n",
       "    </tr>\n",
       "    <tr>\n",
       "      <th>6</th>\n",
       "      <td>0.000000</td>\n",
       "      <td>0.000000</td>\n",
       "      <td>0.000000</td>\n",
       "      <td>0.000000e+00</td>\n",
       "      <td>0.0</td>\n",
       "      <td>1.000000e+00</td>\n",
       "    </tr>\n",
       "  </tbody>\n",
       "</table>\n",
       "</div>"
      ],
      "text/plain": [
       "          1         2         3             4    5             6\n",
       "1  0.999968  0.000070  0.000000  0.000000e+00  0.0 -1.147949e-06\n",
       "2 -1.454445  0.999930  0.000000  0.000000e+00  0.0 -2.587771e-07\n",
       "3  0.000000  0.000000  0.999995  3.984744e-07  0.0  0.000000e+00\n",
       "4  0.000000  0.000000 -1.454438  1.000004e+00  0.0  0.000000e+00\n",
       "5  0.000002 -0.000001  0.000000  0.000000e+00  1.0 -1.297155e+00\n",
       "6  0.000000  0.000000  0.000000  0.000000e+00  0.0  1.000000e+00"
      ]
     },
     "execution_count": 8,
     "metadata": {},
     "output_type": "execute_result"
    }
   ],
   "source": [
    "M"
   ]
  },
  {
   "cell_type": "code",
   "execution_count": 9,
   "metadata": {
    "scrolled": true
   },
   "outputs": [
    {
     "data": {
      "text/html": [
       "<div>\n",
       "<style scoped>\n",
       "    .dataframe tbody tr th:only-of-type {\n",
       "        vertical-align: middle;\n",
       "    }\n",
       "\n",
       "    .dataframe tbody tr th {\n",
       "        vertical-align: top;\n",
       "    }\n",
       "\n",
       "    .dataframe thead th {\n",
       "        text-align: right;\n",
       "    }\n",
       "</style>\n",
       "<table border=\"1\" class=\"dataframe\">\n",
       "  <thead>\n",
       "    <tr style=\"text-align: right;\">\n",
       "      <th></th>\n",
       "      <th>exponents</th>\n",
       "      <th>GP</th>\n",
       "    </tr>\n",
       "  </thead>\n",
       "  <tbody>\n",
       "    <tr>\n",
       "      <th>28</th>\n",
       "      <td>f( 30 00 00 )</td>\n",
       "      <td>-23.555531</td>\n",
       "    </tr>\n",
       "    <tr>\n",
       "      <th>29</th>\n",
       "      <td>f( 21 00 00 )</td>\n",
       "      <td>-62.881728</td>\n",
       "    </tr>\n",
       "    <tr>\n",
       "      <th>33</th>\n",
       "      <td>f( 20 00 01 )</td>\n",
       "      <td>21.191487</td>\n",
       "    </tr>\n",
       "    <tr>\n",
       "      <th>34</th>\n",
       "      <td>f( 12 00 00 )</td>\n",
       "      <td>-51.643332</td>\n",
       "    </tr>\n",
       "    <tr>\n",
       "      <th>38</th>\n",
       "      <td>f( 11 00 01 )</td>\n",
       "      <td>54.729188</td>\n",
       "    </tr>\n",
       "  </tbody>\n",
       "</table>\n",
       "</div>"
      ],
      "text/plain": [
       "        exponents         GP\n",
       "28  f( 30 00 00 ) -23.555531\n",
       "29  f( 21 00 00 ) -62.881728\n",
       "33  f( 20 00 01 )  21.191487\n",
       "34  f( 12 00 00 ) -51.643332\n",
       "38  f( 11 00 01 )  54.729188"
      ]
     },
     "execution_count": 9,
     "metadata": {},
     "output_type": "execute_result"
    }
   ],
   "source": [
    "G.head()"
   ]
  },
  {
   "cell_type": "code",
   "execution_count": 10,
   "metadata": {},
   "outputs": [
    {
     "name": "stdout",
     "output_type": "stream",
     "text": [
      "18\n"
     ]
    }
   ],
   "source": [
    "indexThin = []\n",
    "k2lList = []\n",
    "for i,item in enumerate(elemList):\n",
    "    if 'thlm' == item.elem:\n",
    "        indexThin.append(i)\n",
    "        k2lList.append(item.k2l)\n",
    "nThin = len(indexThin)\n",
    "print(nThin)"
   ]
  },
  {
   "cell_type": "markdown",
   "metadata": {},
   "source": [
    "# Check optimized restult"
   ]
  },
  {
   "cell_type": "code",
   "execution_count": 11,
   "metadata": {},
   "outputs": [
    {
     "name": "stdout",
     "output_type": "stream",
     "text": [
      "1.4544633270832747\n"
     ]
    }
   ],
   "source": [
    "NL_nu = 0.3\n",
    "NL_L  = 1.8\n",
    "NL_c  = 0.01\n",
    "NL_t  = 0.4\n",
    "alfx = np.tan(np.pi*NL_nu)\n",
    "betx = NL_L/np.sin(2.0*np.pi*NL_nu)\n",
    "k = 2*alfx/betx\n",
    "print(k)"
   ]
  },
  {
   "cell_type": "code",
   "execution_count": 12,
   "metadata": {},
   "outputs": [
    {
     "data": {
      "text/html": [
       "<div>\n",
       "<style scoped>\n",
       "    .dataframe tbody tr th:only-of-type {\n",
       "        vertical-align: middle;\n",
       "    }\n",
       "\n",
       "    .dataframe tbody tr th {\n",
       "        vertical-align: top;\n",
       "    }\n",
       "\n",
       "    .dataframe thead th {\n",
       "        text-align: right;\n",
       "    }\n",
       "</style>\n",
       "<table border=\"1\" class=\"dataframe\">\n",
       "  <thead>\n",
       "    <tr style=\"text-align: right;\">\n",
       "      <th></th>\n",
       "      <th>exponents</th>\n",
       "      <th>GP</th>\n",
       "    </tr>\n",
       "  </thead>\n",
       "  <tbody>\n",
       "    <tr>\n",
       "      <th>28</th>\n",
       "      <td>f( 30 00 00 )</td>\n",
       "      <td>0.000000</td>\n",
       "    </tr>\n",
       "    <tr>\n",
       "      <th>29</th>\n",
       "      <td>f( 21 00 00 )</td>\n",
       "      <td>0.000000</td>\n",
       "    </tr>\n",
       "    <tr>\n",
       "      <th>33</th>\n",
       "      <td>f( 20 00 01 )</td>\n",
       "      <td>0.727236</td>\n",
       "    </tr>\n",
       "    <tr>\n",
       "      <th>34</th>\n",
       "      <td>f( 12 00 00 )</td>\n",
       "      <td>0.000000</td>\n",
       "    </tr>\n",
       "    <tr>\n",
       "      <th>38</th>\n",
       "      <td>f( 11 00 01 )</td>\n",
       "      <td>0.000000</td>\n",
       "    </tr>\n",
       "    <tr>\n",
       "      <th>39</th>\n",
       "      <td>f( 10 20 00 )</td>\n",
       "      <td>0.000000</td>\n",
       "    </tr>\n",
       "    <tr>\n",
       "      <th>40</th>\n",
       "      <td>f( 10 11 00 )</td>\n",
       "      <td>0.000000</td>\n",
       "    </tr>\n",
       "    <tr>\n",
       "      <th>43</th>\n",
       "      <td>f( 10 02 00 )</td>\n",
       "      <td>0.000000</td>\n",
       "    </tr>\n",
       "    <tr>\n",
       "      <th>48</th>\n",
       "      <td>f( 10 00 02 )</td>\n",
       "      <td>0.000000</td>\n",
       "    </tr>\n",
       "    <tr>\n",
       "      <th>49</th>\n",
       "      <td>f( 03 00 00 )</td>\n",
       "      <td>0.000000</td>\n",
       "    </tr>\n",
       "    <tr>\n",
       "      <th>53</th>\n",
       "      <td>f( 02 00 01 )</td>\n",
       "      <td>0.000000</td>\n",
       "    </tr>\n",
       "    <tr>\n",
       "      <th>54</th>\n",
       "      <td>f( 01 20 00 )</td>\n",
       "      <td>0.000000</td>\n",
       "    </tr>\n",
       "    <tr>\n",
       "      <th>55</th>\n",
       "      <td>f( 01 11 00 )</td>\n",
       "      <td>0.000000</td>\n",
       "    </tr>\n",
       "    <tr>\n",
       "      <th>58</th>\n",
       "      <td>f( 01 02 00 )</td>\n",
       "      <td>0.000000</td>\n",
       "    </tr>\n",
       "    <tr>\n",
       "      <th>63</th>\n",
       "      <td>f( 01 00 02 )</td>\n",
       "      <td>0.000000</td>\n",
       "    </tr>\n",
       "    <tr>\n",
       "      <th>67</th>\n",
       "      <td>f( 00 20 01 )</td>\n",
       "      <td>0.727236</td>\n",
       "    </tr>\n",
       "    <tr>\n",
       "      <th>70</th>\n",
       "      <td>f( 00 11 01 )</td>\n",
       "      <td>0.000000</td>\n",
       "    </tr>\n",
       "    <tr>\n",
       "      <th>76</th>\n",
       "      <td>f( 00 02 01 )</td>\n",
       "      <td>0.000000</td>\n",
       "    </tr>\n",
       "  </tbody>\n",
       "</table>\n",
       "</div>"
      ],
      "text/plain": [
       "        exponents        GP\n",
       "28  f( 30 00 00 )  0.000000\n",
       "29  f( 21 00 00 )  0.000000\n",
       "33  f( 20 00 01 )  0.727236\n",
       "34  f( 12 00 00 )  0.000000\n",
       "38  f( 11 00 01 )  0.000000\n",
       "39  f( 10 20 00 )  0.000000\n",
       "40  f( 10 11 00 )  0.000000\n",
       "43  f( 10 02 00 )  0.000000\n",
       "48  f( 10 00 02 )  0.000000\n",
       "49  f( 03 00 00 )  0.000000\n",
       "53  f( 02 00 01 )  0.000000\n",
       "54  f( 01 20 00 )  0.000000\n",
       "55  f( 01 11 00 )  0.000000\n",
       "58  f( 01 02 00 )  0.000000\n",
       "63  f( 01 00 02 )  0.000000\n",
       "67  f( 00 20 01 )  0.727236\n",
       "70  f( 00 11 01 )  0.000000\n",
       "76  f( 00 02 01 )  0.000000"
      ]
     },
     "execution_count": 12,
     "metadata": {},
     "output_type": "execute_result"
    }
   ],
   "source": [
    "G2_ref = G.loc[28:76].copy()\n",
    "G2_ref['GP'] = 0\n",
    "G2_ref.loc[33,'GP'] = 0.5*k/bet0\n",
    "G2_ref.loc[67,'GP'] = 0.5*k/bet0\n",
    "G2_ref"
   ]
  },
  {
   "cell_type": "code",
   "execution_count": 13,
   "metadata": {},
   "outputs": [],
   "source": [
    "G3_ref = G.loc[84:200].copy()\n",
    "G3_ref['GP'] = 0\n",
    "G3_ref.loc[104,'GP'] = k/(2.0*bet0*gam0)**2\n",
    "G3_ref.loc[184,'GP'] = k/(2.0*bet0*gam0)**2"
   ]
  },
  {
   "cell_type": "code",
   "execution_count": 14,
   "metadata": {},
   "outputs": [],
   "source": [
    "G4_ref = G.loc[210:450].copy()\n",
    "G4_ref['GP'] = 0"
   ]
  },
  {
   "cell_type": "code",
   "execution_count": 15,
   "metadata": {},
   "outputs": [],
   "source": [
    "G5_ref = G.loc[462:910].copy()\n",
    "G5_ref['GP'] = 0"
   ]
  },
  {
   "cell_type": "code",
   "execution_count": 16,
   "metadata": {},
   "outputs": [
    {
     "name": "stdout",
     "output_type": "stream",
     "text": [
      "18 37 65 109\n"
     ]
    }
   ],
   "source": [
    "print(len(G2_ref),len(G3_ref),len(G4_ref),len(G5_ref))"
   ]
  },
  {
   "cell_type": "code",
   "execution_count": 17,
   "metadata": {},
   "outputs": [],
   "source": [
    "#%%\n",
    "def objFunc(arg): \n",
    "   \n",
    "    for i,j in enumerate(indexThin):\n",
    "        elemList[j]['k2l']=arg[i]\n",
    "    for i,j in enumerate(indexThin):\n",
    "        elemList[j]['k3l']=arg[i+nThin]\n",
    "        \n",
    "    mli.writeInputfile(elemList,latticeList,labor)\n",
    "    mli.run()\n",
    "    M,G = mli.readTransferMap()\n",
    "    \n",
    "    obj = 1.0e30* np.sum((G.loc[28 :76 ,'GP'].values-G2_ref['GP'].values)**2) \\\n",
    "         +1.0e22* np.sum((G.loc[84 :200,'GP'].values-G3_ref['GP'].values)**2) \\\n",
    "         +1.0e12* np.sum((G.loc[210:450,'GP'].values-G4_ref['GP'].values)**2) \\\n",
    "         +        np.sum((G.loc[462:910,'GP'].values-G5_ref['GP'].values)**2)\n",
    "    return obj"
   ]
  },
  {
   "cell_type": "code",
   "execution_count": 18,
   "metadata": {},
   "outputs": [
    {
     "name": "stdout",
     "output_type": "stream",
     "text": [
      "5.209987776104691e+34\n"
     ]
    }
   ],
   "source": [
    "print(objFunc(k2lList+[0]*nThin))\n",
    "M0,G0 = mli.readTransferMap()"
   ]
  },
  {
   "cell_type": "code",
   "execution_count": 19,
   "metadata": {},
   "outputs": [],
   "source": [
    "import pickle\n",
    "with open('result.thin.sext.oct','rb') as fp:\n",
    "    result=pickle.load(fp)"
   ]
  },
  {
   "cell_type": "code",
   "execution_count": 20,
   "metadata": {},
   "outputs": [
    {
     "data": {
      "text/plain": [
       "     fun: 7.489876167779236e+30\n",
       "     jac: array([ 2.52352112e+29,  2.91604698e+28, -5.45464728e+28, -1.11597735e+29,\n",
       "        2.87343505e+29,  1.70201726e+29,  2.35002332e+28, -4.16616743e+27,\n",
       "       -3.95087285e+28, -1.54104172e+28,  6.06987276e+28, -3.16394988e+29,\n",
       "       -1.54678381e+28,  4.02959577e+27, -1.23830863e+29, -2.17694211e+29,\n",
       "       -4.10476084e+28, -8.44129944e+28,  3.54433291e+26,  1.46614686e+27,\n",
       "        1.06138584e+27,  7.96011234e+26,  1.38361840e+27,  1.87653737e+27,\n",
       "        1.12342293e+27,  1.67680273e+27,  5.62274413e+26,  1.59123434e+27,\n",
       "        6.56399646e+26,  1.10484558e+27,  1.02794661e+26,  7.15059031e+26,\n",
       "        8.73022788e+26,  6.08661490e+26,  5.48651025e+26,  1.09561320e+27])\n",
       " message: 'Optimization terminated successfully.'\n",
       "     nit: 41\n",
       " success: True\n",
       "       x: array([-6.78349057e+01, -5.93900163e+00,  2.01267721e+01, -6.16878810e+01,\n",
       "        1.90071935e+01,  1.80623321e+00, -5.36401787e+01, -3.09467539e-01,\n",
       "        2.27305658e+01,  1.80770285e+01, -2.49238807e+01, -2.05026598e+01,\n",
       "       -2.89757577e+01,  3.33611889e+01,  8.06444585e+01, -3.47530005e+01,\n",
       "       -9.93353844e+01, -7.18512688e+01,  4.50653956e+03,  1.75354326e+03,\n",
       "       -2.75536662e+03, -1.72189208e+03,  4.94609659e+02, -5.46204865e+03,\n",
       "        7.26710630e+03, -3.24443520e+03,  3.90069259e+03, -5.29180742e+02,\n",
       "       -1.13169119e+03,  5.58038970e+03, -6.80687220e+03, -1.45404781e+02,\n",
       "       -2.78236829e+03,  9.50883481e+02, -5.27042555e+03,  1.02642098e+03])"
      ]
     },
     "execution_count": 20,
     "metadata": {},
     "output_type": "execute_result"
    }
   ],
   "source": [
    "result"
   ]
  },
  {
   "cell_type": "code",
   "execution_count": 21,
   "metadata": {},
   "outputs": [
    {
     "name": "stdout",
     "output_type": "stream",
     "text": [
      "1.5219419845302163e+34\n",
      "7.489876167779236e+30\n"
     ]
    }
   ],
   "source": [
    "print(objFunc([0]*2*nThin))\n",
    "print(objFunc(result.x))\n",
    "M,G = mli.readTransferMap()"
   ]
  },
  {
   "cell_type": "code",
   "execution_count": 22,
   "metadata": {},
   "outputs": [
    {
     "data": {
      "text/html": [
       "<div>\n",
       "<style scoped>\n",
       "    .dataframe tbody tr th:only-of-type {\n",
       "        vertical-align: middle;\n",
       "    }\n",
       "\n",
       "    .dataframe tbody tr th {\n",
       "        vertical-align: top;\n",
       "    }\n",
       "\n",
       "    .dataframe thead th {\n",
       "        text-align: right;\n",
       "    }\n",
       "</style>\n",
       "<table border=\"1\" class=\"dataframe\">\n",
       "  <thead>\n",
       "    <tr style=\"text-align: right;\">\n",
       "      <th></th>\n",
       "      <th>exponents</th>\n",
       "      <th>GP</th>\n",
       "    </tr>\n",
       "  </thead>\n",
       "  <tbody>\n",
       "    <tr>\n",
       "      <th>28</th>\n",
       "      <td>f( 30 00 00 )</td>\n",
       "      <td>-23.555531</td>\n",
       "    </tr>\n",
       "    <tr>\n",
       "      <th>29</th>\n",
       "      <td>f( 21 00 00 )</td>\n",
       "      <td>-62.881728</td>\n",
       "    </tr>\n",
       "    <tr>\n",
       "      <th>33</th>\n",
       "      <td>f( 20 00 01 )</td>\n",
       "      <td>21.191487</td>\n",
       "    </tr>\n",
       "    <tr>\n",
       "      <th>34</th>\n",
       "      <td>f( 12 00 00 )</td>\n",
       "      <td>-51.643332</td>\n",
       "    </tr>\n",
       "    <tr>\n",
       "      <th>38</th>\n",
       "      <td>f( 11 00 01 )</td>\n",
       "      <td>54.729188</td>\n",
       "    </tr>\n",
       "    <tr>\n",
       "      <th>39</th>\n",
       "      <td>f( 10 20 00 )</td>\n",
       "      <td>-16.187167</td>\n",
       "    </tr>\n",
       "    <tr>\n",
       "      <th>40</th>\n",
       "      <td>f( 10 11 00 )</td>\n",
       "      <td>23.651133</td>\n",
       "    </tr>\n",
       "    <tr>\n",
       "      <th>43</th>\n",
       "      <td>f( 10 02 00 )</td>\n",
       "      <td>24.117785</td>\n",
       "    </tr>\n",
       "    <tr>\n",
       "      <th>48</th>\n",
       "      <td>f( 10 00 02 )</td>\n",
       "      <td>-68.872822</td>\n",
       "    </tr>\n",
       "    <tr>\n",
       "      <th>49</th>\n",
       "      <td>f( 03 00 00 )</td>\n",
       "      <td>-18.516678</td>\n",
       "    </tr>\n",
       "  </tbody>\n",
       "</table>\n",
       "</div>"
      ],
      "text/plain": [
       "        exponents         GP\n",
       "28  f( 30 00 00 ) -23.555531\n",
       "29  f( 21 00 00 ) -62.881728\n",
       "33  f( 20 00 01 )  21.191487\n",
       "34  f( 12 00 00 ) -51.643332\n",
       "38  f( 11 00 01 )  54.729188\n",
       "39  f( 10 20 00 ) -16.187167\n",
       "40  f( 10 11 00 )  23.651133\n",
       "43  f( 10 02 00 )  24.117785\n",
       "48  f( 10 00 02 ) -68.872822\n",
       "49  f( 03 00 00 ) -18.516678"
      ]
     },
     "execution_count": 22,
     "metadata": {},
     "output_type": "execute_result"
    }
   ],
   "source": [
    "G0.head(10)"
   ]
  },
  {
   "cell_type": "code",
   "execution_count": 23,
   "metadata": {},
   "outputs": [
    {
     "data": {
      "text/html": [
       "<div>\n",
       "<style scoped>\n",
       "    .dataframe tbody tr th:only-of-type {\n",
       "        vertical-align: middle;\n",
       "    }\n",
       "\n",
       "    .dataframe tbody tr th {\n",
       "        vertical-align: top;\n",
       "    }\n",
       "\n",
       "    .dataframe thead th {\n",
       "        text-align: right;\n",
       "    }\n",
       "</style>\n",
       "<table border=\"1\" class=\"dataframe\">\n",
       "  <thead>\n",
       "    <tr style=\"text-align: right;\">\n",
       "      <th></th>\n",
       "      <th>exponents</th>\n",
       "      <th>GP</th>\n",
       "    </tr>\n",
       "  </thead>\n",
       "  <tbody>\n",
       "    <tr>\n",
       "      <th>28</th>\n",
       "      <td>f( 30 00 00 )</td>\n",
       "      <td>0.950427</td>\n",
       "    </tr>\n",
       "    <tr>\n",
       "      <th>29</th>\n",
       "      <td>f( 21 00 00 )</td>\n",
       "      <td>-1.020932</td>\n",
       "    </tr>\n",
       "    <tr>\n",
       "      <th>33</th>\n",
       "      <td>f( 20 00 01 )</td>\n",
       "      <td>-0.157693</td>\n",
       "    </tr>\n",
       "    <tr>\n",
       "      <th>34</th>\n",
       "      <td>f( 12 00 00 )</td>\n",
       "      <td>0.750977</td>\n",
       "    </tr>\n",
       "    <tr>\n",
       "      <th>38</th>\n",
       "      <td>f( 11 00 01 )</td>\n",
       "      <td>0.697833</td>\n",
       "    </tr>\n",
       "    <tr>\n",
       "      <th>39</th>\n",
       "      <td>f( 10 20 00 )</td>\n",
       "      <td>-0.085063</td>\n",
       "    </tr>\n",
       "    <tr>\n",
       "      <th>40</th>\n",
       "      <td>f( 10 11 00 )</td>\n",
       "      <td>-0.252286</td>\n",
       "    </tr>\n",
       "    <tr>\n",
       "      <th>43</th>\n",
       "      <td>f( 10 02 00 )</td>\n",
       "      <td>0.410975</td>\n",
       "    </tr>\n",
       "    <tr>\n",
       "      <th>48</th>\n",
       "      <td>f( 10 00 02 )</td>\n",
       "      <td>0.429906</td>\n",
       "    </tr>\n",
       "    <tr>\n",
       "      <th>49</th>\n",
       "      <td>f( 03 00 00 )</td>\n",
       "      <td>-0.454431</td>\n",
       "    </tr>\n",
       "  </tbody>\n",
       "</table>\n",
       "</div>"
      ],
      "text/plain": [
       "        exponents        GP\n",
       "28  f( 30 00 00 )  0.950427\n",
       "29  f( 21 00 00 ) -1.020932\n",
       "33  f( 20 00 01 ) -0.157693\n",
       "34  f( 12 00 00 )  0.750977\n",
       "38  f( 11 00 01 )  0.697833\n",
       "39  f( 10 20 00 ) -0.085063\n",
       "40  f( 10 11 00 ) -0.252286\n",
       "43  f( 10 02 00 )  0.410975\n",
       "48  f( 10 00 02 )  0.429906\n",
       "49  f( 03 00 00 ) -0.454431"
      ]
     },
     "execution_count": 23,
     "metadata": {},
     "output_type": "execute_result"
    }
   ],
   "source": [
    "G.head(10)"
   ]
  },
  {
   "cell_type": "code",
   "execution_count": null,
   "metadata": {},
   "outputs": [],
   "source": []
  }
 ],
 "metadata": {
  "kernelspec": {
   "display_name": "Python 3",
   "language": "python",
   "name": "python3"
  },
  "language_info": {
   "codemirror_mode": {
    "name": "ipython",
    "version": 3
   },
   "file_extension": ".py",
   "mimetype": "text/x-python",
   "name": "python",
   "nbconvert_exporter": "python",
   "pygments_lexer": "ipython3",
   "version": "3.6.5"
  }
 },
 "nbformat": 4,
 "nbformat_minor": 2
}
