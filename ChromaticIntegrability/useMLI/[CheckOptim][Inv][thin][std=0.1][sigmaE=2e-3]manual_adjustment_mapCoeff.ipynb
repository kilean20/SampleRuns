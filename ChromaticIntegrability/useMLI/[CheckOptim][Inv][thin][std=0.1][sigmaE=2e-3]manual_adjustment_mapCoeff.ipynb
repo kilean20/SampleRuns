{
 "cells": [
  {
   "cell_type": "code",
   "execution_count": null,
   "metadata": {},
   "outputs": [],
   "source": [
    "import numpy as np\n",
    "import os\n",
    "from pImpactR import MLI as mli\n",
    "from pImpactR import opt\n",
    "from pImpactR.util import Me\n",
    "from copy import deepcopy as copy\n",
    "import time\n",
    "import pickle\n",
    "import pandas as pd\n",
    "import matplotlib.pyplot as plt"
   ]
  },
  {
   "cell_type": "code",
   "execution_count": null,
   "metadata": {},
   "outputs": [],
   "source": [
    "nturn = 2048\n",
    "npt = 64\n",
    "std = 0.1\n",
    "Espread = 2.0e-3\n",
    "OnEnergy = False"
   ]
  },
  {
   "cell_type": "markdown",
   "metadata": {},
   "source": [
    "# Read MLI input for settings"
   ]
  },
  {
   "cell_type": "code",
   "execution_count": null,
   "metadata": {},
   "outputs": [],
   "source": [
    "elems,latticeList,labor = mli.readInputfile('mli.in.t3_iota_8_4_t0p4')\n",
    "elems[2].driftexact=1\n",
    "elems,latticeList=mli.sext2thin(elems,latticeList,brho=0.50204778184582999)\n",
    "latticeList = [latticeList[0]]"
   ]
  },
  {
   "cell_type": "code",
   "execution_count": null,
   "metadata": {},
   "outputs": [],
   "source": [
    "elemList = []\n",
    "for item in elems:\n",
    "    if not item.elem in ['tasm','aim','vary','anaprint','monitor']:\n",
    "        elemList.append(item)"
   ]
  },
  {
   "cell_type": "code",
   "execution_count": null,
   "metadata": {},
   "outputs": [],
   "source": [
    "energy=elems[0].energy*1.0e9\n",
    "gam0 = energy/Me\n",
    "bet0 = np.sqrt(1.0-1.0/gam0**2)"
   ]
  },
  {
   "cell_type": "code",
   "execution_count": null,
   "metadata": {},
   "outputs": [],
   "source": [
    "NL_nu = 0.3\n",
    "NL_L  = 1.8\n",
    "NL_c  = 0.01\n",
    "NL_t  = 0.4\n",
    "alfx = np.tan(np.pi*NL_nu)\n",
    "betx = NL_L/np.sin(2.0*np.pi*NL_nu)\n",
    "k = 2*alfx/betx\n",
    "\n",
    "f3 = k/(2*bet0)\n",
    "f4 = k/(2*bet0*gam0)**2\n",
    "print(bet0,k,f3,f4)"
   ]
  },
  {
   "cell_type": "code",
   "execution_count": null,
   "metadata": {},
   "outputs": [],
   "source": [
    "def MLI2norm(data_in,sign=1):\n",
    "    data=data_in.copy()\n",
    "    data[:,5] = np.sqrt(1.0-2.0*data[:,5]/bet0+data[:,5]**2)-1.0\n",
    "    data[:,1] = (data[:,0]*alfx*sign/np.sqrt(betx) + data[:,1]/(1+data[:,5])*np.sqrt(betx))/NL_c\n",
    "    data[:,3] = (data[:,2]*alfx*sign/np.sqrt(betx) + data[:,3]/(1+data[:,5])*np.sqrt(betx))/NL_c\n",
    "    data[:,0] = data[:,0]/(np.sqrt(betx)*NL_c)\n",
    "    data[:,2] = data[:,2]/(np.sqrt(betx)*NL_c)\n",
    "    return data\n",
    "    \n",
    "def norm2MLI(data_in,sign=1):\n",
    "    data=data_in.copy()\n",
    "    data[:,1] = (-data[:,0]*alfx*sign + data[:,1])*NL_c/np.sqrt(betx)*(1+data[:,5])\n",
    "    data[:,3] = (-data[:,2]*alfx*sign + data[:,3])*NL_c/np.sqrt(betx)*(1+data[:,5])\n",
    "    data[:,0] = data[:,0]*np.sqrt(betx)*NL_c\n",
    "    data[:,2] = data[:,2]*np.sqrt(betx)*NL_c\n",
    "    data[:,5] = -np.sqrt((1.0+data[:,5])**2+1.0/(bet0*gam0)**2)+1.0/bet0\n",
    "    return data"
   ]
  },
  {
   "cell_type": "code",
   "execution_count": null,
   "metadata": {},
   "outputs": [],
   "source": [
    "# from scipy.stats import truncnorm\n",
    "\n",
    "# def get_truncated_normal(mean=0, sd=1, low=0, upp=10,n=1):\n",
    "#     f = truncnorm(\n",
    "#         (low - mean) / sd, (upp - mean) / sd, loc=mean, scale=sd)\n",
    "#     return f.rvs(n)"
   ]
  },
  {
   "cell_type": "code",
   "execution_count": null,
   "metadata": {},
   "outputs": [],
   "source": [
    "# pData0 = np.load('pDataNorm.npy')\n",
    "# pDataIn = norm2MLI(pData0,sign=1)\n",
    "# np.savetxt('rays.in',pDataIn)"
   ]
  },
  {
   "cell_type": "code",
   "execution_count": null,
   "metadata": {},
   "outputs": [],
   "source": [
    "# x=get_truncated_normal(sd=std,low=-2.0*std,upp=2.0*std,n=npt*5)\n",
    "# pData=np.zeros([npt,6])\n",
    "# pData[:,[0,1,2,3,5]]=x.reshape([npt,5])\n",
    "# pData[:,5] = pData[:,5]/std*Espread\n",
    "# np.save('pDataNorm.std=0.1',pData)\n",
    "pData = np.load('pDataNorm.std=0.1.npy')\n",
    "if OnEnergy:\n",
    "    pData[:,5] = 0.0\n",
    "\n",
    "pDataIn = norm2MLI(pData,sign=1)\n",
    "np.savetxt('rays.in',pDataIn)"
   ]
  },
  {
   "cell_type": "markdown",
   "metadata": {},
   "source": [
    "# Cmds"
   ]
  },
  {
   "cell_type": "code",
   "execution_count": null,
   "metadata": {},
   "outputs": [],
   "source": [
    "raysin  =mli.getElem.raytrace(file1='rays.in',type='readonly')\n",
    "dump    =mli.getElem.particledump(file='rays.out',precision=15)\n",
    "track   =mli.getElem.autotrack(type='symplectic',order=5)\n",
    "fin     =mli.getElem.fin\n",
    "\n",
    "elemList = elemList + [raysin, dump, track, fin]"
   ]
  },
  {
   "cell_type": "markdown",
   "metadata": {},
   "source": [
    "# Lattice"
   ]
  },
  {
   "cell_type": "code",
   "execution_count": null,
   "metadata": {},
   "outputs": [],
   "source": [
    "nlinsert=mli.getElem.nlinsert()\n",
    "\n",
    "iotaline = latticeList[0]\n",
    "arc = copy(iotaline)\n",
    "arc.name = 'arc'\n",
    "iotaline.list.insert(0,nlinsert.name)\n",
    "iotaline.list.append(dump.name)\n",
    "\n",
    "elemList = elemList + [nlinsert]"
   ]
  },
  {
   "cell_type": "code",
   "execution_count": null,
   "metadata": {},
   "outputs": [],
   "source": [
    "indexThin = []\n",
    "for i,item in enumerate(elemList):\n",
    "    if 'thlm' == item.elem:\n",
    "        indexThin.append(i)\n",
    "nThin = len(indexThin)\n",
    "print(nThin)"
   ]
  },
  {
   "cell_type": "markdown",
   "metadata": {},
   "source": [
    "# Labor"
   ]
  },
  {
   "cell_type": "code",
   "execution_count": null,
   "metadata": {},
   "outputs": [],
   "source": [
    "maplabor = mli.buildLabor(['arc','mapout'])"
   ]
  },
  {
   "cell_type": "markdown",
   "metadata": {},
   "source": [
    "#  Run"
   ]
  },
  {
   "cell_type": "code",
   "execution_count": null,
   "metadata": {},
   "outputs": [],
   "source": [
    "def getTBT(npt,nturn,fname='rays.out'):\n",
    "    TBT = np.loadtxt(fname)\n",
    "    TBT = TBT[:npt*nturn,:6]\n",
    "    out = np.zeros([npt,nturn,6])\n",
    "    for i in range(nturn):\n",
    "        out[:,i,:] = TBT[i*npt:(i+1)*npt,:]\n",
    "        out[:,i,:] = MLI2norm(out[:,i,:])\n",
    "    return out"
   ]
  },
  {
   "cell_type": "code",
   "execution_count": null,
   "metadata": {},
   "outputs": [],
   "source": [
    "def updateStrength(arg):\n",
    "    for i,j in enumerate(indexThin):\n",
    "        elemList[j]['k2l']=arg[i]\n",
    "    for i,j in enumerate(indexThin):\n",
    "        elemList[j]['k3l']=arg[i+nThin]"
   ]
  },
  {
   "cell_type": "code",
   "execution_count": null,
   "metadata": {},
   "outputs": [],
   "source": [
    "import pickle\n",
    "with open('result.thin.sext.oct','rb') as fp:\n",
    "    result=pickle.load(fp)"
   ]
  },
  {
   "cell_type": "code",
   "execution_count": null,
   "metadata": {},
   "outputs": [],
   "source": [
    "mli.writeInputfile(elemList,[arc],maplabor)\n",
    "mli.run()\n",
    "M,G=mli.readTransferMap()"
   ]
  },
  {
   "cell_type": "code",
   "execution_count": null,
   "metadata": {},
   "outputs": [],
   "source": [
    "G"
   ]
  },
  {
   "cell_type": "code",
   "execution_count": null,
   "metadata": {},
   "outputs": [],
   "source": [
    "elemList = elemList[:3] + elemList[-6:]"
   ]
  },
  {
   "cell_type": "code",
   "execution_count": null,
   "metadata": {},
   "outputs": [],
   "source": [
    "Gref = copy(G)\n",
    "Gref['GP'] = 0\n",
    "Gref.loc[33,'GP'] = 0.5*k/bet0\n",
    "Gref.loc[67,'GP'] = 0.5*k/bet0\n",
    "Gref.loc[104,'GP'] = k/(2.0*bet0*gam0)**2\n",
    "Gref.loc[184,'GP'] = k/(2.0*bet0*gam0)**2"
   ]
  },
  {
   "cell_type": "code",
   "execution_count": null,
   "metadata": {},
   "outputs": [],
   "source": [
    "Gtmp = copy(G)\n",
    "Gtmp.loc[462:910,'GP']=Gref.loc[462:910,'GP']"
   ]
  },
  {
   "cell_type": "code",
   "execution_count": null,
   "metadata": {},
   "outputs": [],
   "source": [
    "readmap = mli.getElem.tmi(name='readmap')\n",
    "readmap.map2file(M,Gtmp)\n",
    "savemap = mli.getElem.stm(name='savemap')\n",
    "getmap    = mli.getElem.gtm(name='getmap')\n",
    "elemList = elemList + [readmap,savemap,getmap]\n",
    "iotaline.list=[iotaline.list[0],'getmap',iotaline.list[-1]]\n",
    "labor = mli.buildLabor(['readmap','savemap','getmap','clear',raysin.name,track.name,str(nturn)+'*'+iotaline.name,'fin'])\n",
    "mli.writeInputfile(elemList,latticeList,labor)\n",
    "mli.run(8)\n",
    "TBT6 = getTBT(npt,nturn)\n",
    "print(TBT6.shape)"
   ]
  },
  {
   "cell_type": "code",
   "execution_count": null,
   "metadata": {},
   "outputs": [],
   "source": [
    "Gtmp = copy(G)\n",
    "Gtmp.loc[210:450,'GP'] = Gref.loc[210:450,'GP']\n",
    "Gtmp.loc[462:910,'GP'] = Gref.loc[462:910,'GP']\n",
    "readmap.map2file(M,Gtmp)\n",
    "mli.run(8)\n",
    "TBT56 = getTBT(npt,nturn)\n",
    "print(TBT56.shape)"
   ]
  },
  {
   "cell_type": "code",
   "execution_count": null,
   "metadata": {},
   "outputs": [],
   "source": [
    "Gtmp = copy(G)\n",
    "Gtmp.loc[84 :200,'GP'] = Gref.loc[84 :200,'GP']\n",
    "Gtmp.loc[210:450,'GP'] = Gref.loc[210:450,'GP']\n",
    "Gtmp.loc[462:910,'GP'] = Gref.loc[462:910,'GP']\n",
    "readmap.map2file(M,Gtmp)\n",
    "mli.run(8)\n",
    "TBT456 = getTBT(npt,nturn)\n",
    "print(TBT456.shape)"
   ]
  },
  {
   "cell_type": "code",
   "execution_count": null,
   "metadata": {},
   "outputs": [],
   "source": [
    "Gtmp = copy(G)\n",
    "Gtmp.loc[28 :76 ,'GP'] = Gref.loc[28 :76 ,'GP']\n",
    "readmap.map2file(M,Gtmp)\n",
    "mli.run(8)\n",
    "TBT3 = getTBT(npt,nturn)\n",
    "print(TBT3.shape)"
   ]
  },
  {
   "cell_type": "code",
   "execution_count": null,
   "metadata": {},
   "outputs": [],
   "source": [
    "Gtmp = copy(G)\n",
    "Gtmp.loc[28 :76 ,'GP'] = Gref.loc[28 :76 ,'GP']\n",
    "Gtmp.loc[210:450,'GP'] = Gref.loc[210:450,'GP']\n",
    "readmap.map2file(M,Gtmp)\n",
    "mli.run(8)\n",
    "TBT34 = getTBT(npt,nturn)\n",
    "print(TBT34.shape)"
   ]
  },
  {
   "cell_type": "code",
   "execution_count": null,
   "metadata": {},
   "outputs": [],
   "source": [
    "Gtmp = copy(G)\n",
    "Gtmp.loc[210:450,'GP'] = Gref.loc[210:450,'GP']\n",
    "readmap.map2file(M,Gtmp)\n",
    "mli.run(8)\n",
    "TBT4 = getTBT(npt,nturn)\n",
    "print(TBT4.shape)"
   ]
  },
  {
   "cell_type": "markdown",
   "metadata": {},
   "source": [
    "#### Check invariants"
   ]
  },
  {
   "cell_type": "code",
   "execution_count": null,
   "metadata": {},
   "outputs": [],
   "source": [
    "def getInv(xn,pxn,yn,pyn,delta,tau=NL_t):\n",
    "    z = xn + 1j*yn\n",
    "    U = np.real(z/np.sqrt(1-z**2)*np.arcsin(z))\n",
    "    W = np.real(2*xn/np.sqrt(1-z**2)*np.arcsin(z))\n",
    "    Hn = 0.5*(xn**2+pxn**2+yn**2+pyn**2)   +tau*U/(1.0+delta)\n",
    "    In = (xn*pyn -yn*pxn)**2 +xn**2+pxn**2 +tau*W/(1.0+delta)\n",
    "    return Hn,In\n",
    "\n",
    "def getInvTBT(TBT):\n",
    "    npt,nturn,dummy = TBT.shape\n",
    "    InvTBT = np.zeros([npt,nturn,2])\n",
    "    for iturn in range(nturn):\n",
    "        data = TBT[:,iturn,:]\n",
    "        for ipt in range(npt):\n",
    "            xn    = data[ipt,0]\n",
    "            pxn   = data[ipt,1]\n",
    "            yn    = data[ipt,2]\n",
    "            pyn   = data[ipt,3]\n",
    "            delta = data[ipt,5]\n",
    "            InvTBT[ipt,iturn,:] = getInv(xn,pxn,yn,pyn,delta)\n",
    "    return InvTBT"
   ]
  },
  {
   "cell_type": "code",
   "execution_count": null,
   "metadata": {},
   "outputs": [],
   "source": [
    "Inv3 = getInvTBT(TBT3)\n",
    "Inv4 = getInvTBT(TBT4)\n",
    "Inv34 = getInvTBT(TBT34)\n",
    "Inv6 = getInvTBT(TBT6)\n",
    "Inv56 = getInvTBT(TBT56)\n",
    "Inv456 = getInvTBT(TBT456)"
   ]
  },
  {
   "cell_type": "markdown",
   "metadata": {},
   "source": [
    "### Absolute"
   ]
  },
  {
   "cell_type": "code",
   "execution_count": null,
   "metadata": {},
   "outputs": [],
   "source": [
    "print('--max invarinats--')\n",
    "print(np.max(Inv3[:,:,0]),np.max(Inv3[:,:,1]))\n",
    "print(np.max(Inv4[:,:,0]),np.max(Inv4[:,:,1]))\n",
    "print(np.max(Inv34[:,:,0]),np.max(Inv34[:,:,1]))\n",
    "print(np.max(Inv6[:,:,0]),np.max(Inv6[:,:,1]))\n",
    "print(np.max(Inv56[:,:,0]),np.max(Inv56[:,:,1]))\n",
    "print(np.max(Inv456[:,:,0]),np.max(Inv456[:,:,1]))"
   ]
  },
  {
   "cell_type": "code",
   "execution_count": null,
   "metadata": {},
   "outputs": [],
   "source": [
    "amp3 = np.zeros([npt,2])\n",
    "amp4 = np.zeros([npt,2])\n",
    "amp34 = np.zeros([npt,2])\n",
    "amp6 = np.zeros([npt,2])\n",
    "amp56 = np.zeros([npt,2])\n",
    "amp456 = np.zeros([npt,2])\n",
    "for i in range(npt):\n",
    "    amp3[i,0] = np.std(Inv3[i,:,0])\n",
    "    amp3[i,1] = np.std(Inv3[i,:,1])\n",
    "    amp4[i,0] = np.std(Inv4[i,:,0])\n",
    "    amp4[i,1] = np.std(Inv4[i,:,1])\n",
    "    amp34[i,0] = np.std(Inv34[i,:,0])\n",
    "    amp34[i,1] = np.std(Inv34[i,:,1])\n",
    "    amp6[i,0] = np.std(Inv6[i,:,0])\n",
    "    amp6[i,1] = np.std(Inv6[i,:,1])\n",
    "    amp56[i,0] = np.std(Inv56[i,:,0])\n",
    "    amp56[i,1] = np.std(Inv56[i,:,1])\n",
    "    amp456[i,0] = np.std(Inv456[i,:,0])\n",
    "    amp456[i,1] = np.std(Inv456[i,:,1])\n",
    "print('--mean of amplitudes--')\n",
    "print(amp3[:,0].mean(),amp3[:,1].mean())\n",
    "print(amp4[:,0].mean(),amp4[:,1].mean())\n",
    "print(amp34[:,0].mean(),amp34[:,1].mean())\n",
    "print(amp6[:,0].mean(),amp6[:,1].mean())\n",
    "print(amp56[:,0].mean(),amp56[:,1].mean())\n",
    "print(amp456[:,0].mean(),amp456[:,1].mean())"
   ]
  },
  {
   "cell_type": "code",
   "execution_count": null,
   "metadata": {},
   "outputs": [],
   "source": [
    "fig=plt.figure(figsize=(9,4))\n",
    "plt.subplot(1,2,1)\n",
    "for i in range(npt):\n",
    "    plt.plot(Inv3[i,:,0],marker='.',ls='',alpha=0.7)\n",
    "plt.subplot(1,2,2)\n",
    "for i in range(npt):\n",
    "    plt.plot(Inv3[i,:,1],marker='.',ls='',alpha=0.7)\n",
    "plt.tight_layout()"
   ]
  },
  {
   "cell_type": "code",
   "execution_count": null,
   "metadata": {},
   "outputs": [],
   "source": [
    "fig=plt.figure(figsize=(9,4))\n",
    "plt.subplot(1,2,1)\n",
    "for i in range(npt):\n",
    "    plt.plot(Inv4[i,:,0],marker='.',ls='',alpha=0.7)\n",
    "plt.subplot(1,2,2)\n",
    "for i in range(npt):\n",
    "    plt.plot(Inv4[i,:,1],marker='.',ls='',alpha=0.7)\n",
    "plt.tight_layout()"
   ]
  },
  {
   "cell_type": "code",
   "execution_count": null,
   "metadata": {},
   "outputs": [],
   "source": [
    "fig=plt.figure(figsize=(9,4))\n",
    "plt.subplot(1,2,1)\n",
    "for i in range(npt):\n",
    "    plt.plot(Inv34[i,:,0],marker='.',ls='',alpha=0.7)\n",
    "plt.subplot(1,2,2)\n",
    "for i in range(npt):\n",
    "    plt.plot(Inv34[i,:,1],marker='.',ls='',alpha=0.7)\n",
    "plt.tight_layout()"
   ]
  },
  {
   "cell_type": "code",
   "execution_count": null,
   "metadata": {},
   "outputs": [],
   "source": [
    "fig=plt.figure(figsize=(9,4))\n",
    "plt.subplot(1,2,1)\n",
    "for i in range(npt):\n",
    "    plt.plot(Inv6[i,:,0],marker='.',ls='',alpha=0.7)\n",
    "plt.subplot(1,2,2)\n",
    "for i in range(npt):\n",
    "    plt.plot(Inv6[i,:,1],marker='.',ls='',alpha=0.7)\n",
    "plt.tight_layout()"
   ]
  },
  {
   "cell_type": "code",
   "execution_count": null,
   "metadata": {},
   "outputs": [],
   "source": [
    "fig=plt.figure(figsize=(9,4))\n",
    "plt.subplot(1,2,1)\n",
    "for i in range(npt):\n",
    "    plt.plot(Inv56[i,:,0],marker='.',ls='',alpha=0.7)\n",
    "plt.subplot(1,2,2)\n",
    "for i in range(npt):\n",
    "    plt.plot(Inv56[i,:,1],marker='.',ls='',alpha=0.7)\n",
    "plt.tight_layout()"
   ]
  },
  {
   "cell_type": "code",
   "execution_count": null,
   "metadata": {},
   "outputs": [],
   "source": [
    "fig=plt.figure(figsize=(9,4))\n",
    "plt.subplot(1,2,1)\n",
    "for i in range(npt):\n",
    "    plt.plot(Inv456[i,:,0],marker='.',ls='',alpha=0.7)\n",
    "plt.subplot(1,2,2)\n",
    "for i in range(npt):\n",
    "    plt.plot(Inv456[i,:,1],marker='.',ls='',alpha=0.7)\n",
    "plt.tight_layout()"
   ]
  },
  {
   "cell_type": "markdown",
   "metadata": {},
   "source": [
    "### Relative"
   ]
  },
  {
   "cell_type": "code",
   "execution_count": null,
   "metadata": {},
   "outputs": [],
   "source": [
    "for i in range(npt):\n",
    "    Inv3[i,:,0] = Inv3[i,:,0]/Inv3[i,0,0].mean()-1.0\n",
    "    Inv3[i,:,1] = Inv3[i,:,1]/Inv3[i,0,1].mean()-1.0\n",
    "    Inv4[i,:,0] = Inv4[i,:,0]/Inv4[i,0,0].mean()-1.0\n",
    "    Inv4[i,:,1] = Inv4[i,:,1]/Inv4[i,0,1].mean()-1.0\n",
    "    Inv34[i,:,0] = Inv34[i,:,0]/Inv34[i,0,0].mean()-1.0\n",
    "    Inv34[i,:,1] = Inv34[i,:,1]/Inv34[i,0,1].mean()-1.0\n",
    "    Inv6[i,:,0] = Inv6[i,:,0]/Inv6[i,0,0].mean()-1.0\n",
    "    Inv6[i,:,1] = Inv6[i,:,1]/Inv6[i,0,1].mean()-1.0\n",
    "    Inv56[i,:,0] = Inv56[i,:,0]/Inv56[i,0,0].mean()-1.0\n",
    "    Inv56[i,:,1] = Inv56[i,:,1]/Inv56[i,0,1].mean()-1.0\n",
    "    Inv456[i,:,0] = Inv456[i,:,0]/Inv456[i,0,0].mean()-1.0\n",
    "    Inv456[i,:,1] = Inv456[i,:,1]/Inv456[i,0,1].mean()-1.0"
   ]
  },
  {
   "cell_type": "code",
   "execution_count": null,
   "metadata": {},
   "outputs": [],
   "source": [
    "print('--max relative invarinats--')\n",
    "print(np.max(Inv3[:,:,0]),np.max(Inv3[:,:,1]))\n",
    "print(np.max(Inv4[:,:,0]),np.max(Inv4[:,:,1]))\n",
    "print(np.max(Inv34[:,:,0]),np.max(Inv34[:,:,1]))\n",
    "print(np.max(Inv6[:,:,0]),np.max(Inv6[:,:,1]))\n",
    "print(np.max(Inv56[:,:,0]),np.max(Inv56[:,:,1]))\n",
    "print(np.max(Inv456[:,:,0]),np.max(Inv456[:,:,1]))"
   ]
  },
  {
   "cell_type": "code",
   "execution_count": null,
   "metadata": {},
   "outputs": [],
   "source": [
    "amp3 = np.zeros([npt,2])\n",
    "amp4 = np.zeros([npt,2])\n",
    "amp34 = np.zeros([npt,2])\n",
    "amp6 = np.zeros([npt,2])\n",
    "amp56 = np.zeros([npt,2])\n",
    "amp456 = np.zeros([npt,2])\n",
    "for i in range(npt):\n",
    "    amp3[i,0] = np.std(Inv3[i,:,0])\n",
    "    amp3[i,1] = np.std(Inv3[i,:,1])\n",
    "    amp4[i,0] = np.std(Inv4[i,:,0])\n",
    "    amp4[i,1] = np.std(Inv4[i,:,1])\n",
    "    amp34[i,0] = np.std(Inv34[i,:,0])\n",
    "    amp34[i,1] = np.std(Inv34[i,:,1])\n",
    "    amp6[i,0] = np.std(Inv6[i,:,0])\n",
    "    amp6[i,1] = np.std(Inv6[i,:,1])\n",
    "    amp56[i,0] = np.std(Inv56[i,:,0])\n",
    "    amp56[i,1] = np.std(Inv56[i,:,1])\n",
    "    amp456[i,0] = np.std(Inv456[i,:,0])\n",
    "    amp456[i,1] = np.std(Inv456[i,:,1])\n",
    "print('--mean of amplitudes--')\n",
    "print(amp3[:,0].mean(),amp3[:,1].mean())\n",
    "print(amp4[:,0].mean(),amp4[:,1].mean())\n",
    "print(amp34[:,0].mean(),amp34[:,1].mean())\n",
    "print(amp6[:,0].mean(),amp6[:,1].mean())\n",
    "print(amp56[:,0].mean(),amp56[:,1].mean())\n",
    "print(amp456[:,0].mean(),amp456[:,1].mean())"
   ]
  },
  {
   "cell_type": "code",
   "execution_count": null,
   "metadata": {},
   "outputs": [],
   "source": [
    "fig=plt.figure(figsize=(9,4))\n",
    "plt.subplot(1,2,1)\n",
    "for i in range(npt):\n",
    "    plt.plot(Inv3[i,:,0],marker='.',ls='',alpha=0.7)\n",
    "plt.subplot(1,2,2)\n",
    "for i in range(npt):\n",
    "    plt.plot(Inv3[i,:,1],marker='.',ls='',alpha=0.7)\n",
    "plt.tight_layout()"
   ]
  },
  {
   "cell_type": "code",
   "execution_count": null,
   "metadata": {},
   "outputs": [],
   "source": [
    "fig=plt.figure(figsize=(9,4))\n",
    "plt.subplot(1,2,1)\n",
    "for i in range(npt):\n",
    "    plt.plot(Inv4[i,:,0],marker='.',ls='',alpha=0.7)\n",
    "plt.subplot(1,2,2)\n",
    "for i in range(npt):\n",
    "    plt.plot(Inv4[i,:,1],marker='.',ls='',alpha=0.7)\n",
    "plt.tight_layout()"
   ]
  },
  {
   "cell_type": "code",
   "execution_count": null,
   "metadata": {},
   "outputs": [],
   "source": [
    "fig=plt.figure(figsize=(9,4))\n",
    "plt.subplot(1,2,1)\n",
    "for i in range(npt):\n",
    "    plt.plot(Inv34[i,:,0],marker='.',ls='',alpha=0.7)\n",
    "plt.subplot(1,2,2)\n",
    "for i in range(npt):\n",
    "    plt.plot(Inv34[i,:,1],marker='.',ls='',alpha=0.7)\n",
    "plt.tight_layout()"
   ]
  },
  {
   "cell_type": "code",
   "execution_count": null,
   "metadata": {},
   "outputs": [],
   "source": [
    "fig=plt.figure(figsize=(9,4))\n",
    "plt.subplot(1,2,1)\n",
    "for i in range(npt):\n",
    "    plt.plot(Inv6[i,:,0],marker='.',ls='',alpha=0.7)\n",
    "plt.subplot(1,2,2)\n",
    "for i in range(npt):\n",
    "    plt.plot(Inv6[i,:,1],marker='.',ls='',alpha=0.7)\n",
    "plt.tight_layout()"
   ]
  },
  {
   "cell_type": "code",
   "execution_count": null,
   "metadata": {},
   "outputs": [],
   "source": [
    "fig=plt.figure(figsize=(9,4))\n",
    "plt.subplot(1,2,1)\n",
    "for i in range(npt):\n",
    "    plt.plot(Inv56[i,:,0],marker='.',ls='',alpha=0.7)\n",
    "plt.subplot(1,2,2)\n",
    "for i in range(npt):\n",
    "    plt.plot(Inv56[i,:,1],marker='.',ls='',alpha=0.7)\n",
    "plt.tight_layout()"
   ]
  },
  {
   "cell_type": "code",
   "execution_count": null,
   "metadata": {},
   "outputs": [],
   "source": [
    "fig=plt.figure(figsize=(9,4))\n",
    "plt.subplot(1,2,1)\n",
    "for i in range(npt):\n",
    "    plt.plot(Inv456[i,:,0],marker='.',ls='',alpha=0.7)\n",
    "plt.subplot(1,2,2)\n",
    "for i in range(npt):\n",
    "    plt.plot(Inv456[i,:,1],marker='.',ls='',alpha=0.7)\n",
    "plt.tight_layout()"
   ]
  }
 ],
 "metadata": {
  "kernelspec": {
   "display_name": "Python 3",
   "language": "python",
   "name": "python3"
  },
  "language_info": {
   "codemirror_mode": {
    "name": "ipython",
    "version": 3
   },
   "file_extension": ".py",
   "mimetype": "text/x-python",
   "name": "python",
   "nbconvert_exporter": "python",
   "pygments_lexer": "ipython3",
   "version": "3.6.5"
  }
 },
 "nbformat": 4,
 "nbformat_minor": 2
}
