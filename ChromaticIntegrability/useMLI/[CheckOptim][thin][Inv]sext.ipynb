{
 "cells": [
  {
   "cell_type": "code",
   "execution_count": null,
   "metadata": {},
   "outputs": [],
   "source": [
    "import numpy as np\n",
    "import os\n",
    "from pImpactR import MLI as mli\n",
    "from pImpactR import opt\n",
    "from pImpactR.util import Me\n",
    "from copy import deepcopy as copy\n",
    "import time\n",
    "import pickle\n",
    "import pandas as pd\n",
    "import matplotlib.pyplot as plt"
   ]
  },
  {
   "cell_type": "code",
   "execution_count": null,
   "metadata": {},
   "outputs": [],
   "source": [
    "nturn = 2048\n",
    "npt = 64\n",
    "std = 0.2\n",
    "Espread = 2.0e-3\n",
    "OnEnergy = False"
   ]
  },
  {
   "cell_type": "markdown",
   "metadata": {},
   "source": [
    "# Read MLI input for settings"
   ]
  },
  {
   "cell_type": "code",
   "execution_count": null,
   "metadata": {},
   "outputs": [],
   "source": [
    "elems,latticeList,labor = mli.readInputfile('mli.in.t3_iota_8_4_t0p4')\n",
    "# elems[2].driftexact=1\n",
    "elems,latticeList=mli.sext2thin(elems,latticeList,brho=0.50204778184582999)"
   ]
  },
  {
   "cell_type": "code",
   "execution_count": null,
   "metadata": {},
   "outputs": [],
   "source": [
    "elemList = []\n",
    "for item in elems:\n",
    "    if not item.elem in ['tasm','aim','vary','anaprint','monitor']:\n",
    "        elemList.append(item)"
   ]
  },
  {
   "cell_type": "code",
   "execution_count": null,
   "metadata": {},
   "outputs": [],
   "source": [
    "energy=elems[0].energy*1.0e9\n",
    "gam0 = energy/Me\n",
    "bet0 = np.sqrt(1.0-1.0/gam0**2)"
   ]
  },
  {
   "cell_type": "code",
   "execution_count": null,
   "metadata": {},
   "outputs": [],
   "source": [
    "NL_nu = 0.3\n",
    "NL_L  = 1.8\n",
    "NL_c  = 0.01\n",
    "NL_t  = 0.4\n",
    "alfx = np.tan(np.pi*NL_nu)\n",
    "betx = NL_L/np.sin(2.0*np.pi*NL_nu)\n",
    "k = 2*alfx/betx\n",
    "\n",
    "\n",
    "f3 = k/(2*bet0)\n",
    "f4 = k/(2*bet0*gam0)**2\n",
    "print(bet0,k,f3,f4)"
   ]
  },
  {
   "cell_type": "code",
   "execution_count": null,
   "metadata": {},
   "outputs": [],
   "source": [
    "def MLI2norm(data_in,sign=1):\n",
    "    data=data_in.copy()\n",
    "    data[:,5] = np.sqrt(1.0-2.0*data[:,5]/bet0+data[:,5]**2)-1.0\n",
    "    data[:,1] = (data[:,0]*alfx*sign/np.sqrt(betx) + data[:,1]/(1+data[:,5])*np.sqrt(betx))/NL_c\n",
    "    data[:,3] = (data[:,2]*alfx*sign/np.sqrt(betx) + data[:,3]/(1+data[:,5])*np.sqrt(betx))/NL_c\n",
    "    data[:,0] = data[:,0]/(np.sqrt(betx)*NL_c)\n",
    "    data[:,2] = data[:,2]/(np.sqrt(betx)*NL_c)\n",
    "    return data\n",
    "    \n",
    "def norm2MLI(data_in,sign=1):\n",
    "    data=data_in.copy()\n",
    "    data[:,1] = (-data[:,0]*alfx*sign + data[:,1])*NL_c/np.sqrt(betx)*(1+data[:,5])\n",
    "    data[:,3] = (-data[:,2]*alfx*sign + data[:,3])*NL_c/np.sqrt(betx)*(1+data[:,5])\n",
    "    data[:,0] = data[:,0]*np.sqrt(betx)*NL_c\n",
    "    data[:,2] = data[:,2]*np.sqrt(betx)*NL_c\n",
    "    data[:,5] = -np.sqrt((1.0+data[:,5])**2+1.0/(bet0*gam0)**2)+1.0/bet0\n",
    "    return data"
   ]
  },
  {
   "cell_type": "code",
   "execution_count": null,
   "metadata": {},
   "outputs": [],
   "source": [
    "from scipy.stats import truncnorm\n",
    "\n",
    "def get_truncated_normal(mean=0, sd=1, low=0, upp=10,n=1):\n",
    "    f = truncnorm(\n",
    "        (low - mean) / sd, (upp - mean) / sd, loc=mean, scale=sd)\n",
    "    return f.rvs(n)"
   ]
  },
  {
   "cell_type": "code",
   "execution_count": null,
   "metadata": {},
   "outputs": [],
   "source": [
    "# pData0 = np.load('pDataNorm.npy')\n",
    "# pDataIn = norm2MLI(pData0,sign=1)\n",
    "# np.savetxt('rays.in',pDataIn)"
   ]
  },
  {
   "cell_type": "code",
   "execution_count": null,
   "metadata": {},
   "outputs": [],
   "source": [
    "x=get_truncated_normal(sd=std,low=-3.0*std,upp=3.0*std,n=npt*5)\n",
    "pData=np.zeros([npt,6])\n",
    "pData[:,[0,1,2,3,5]]=x.reshape([npt,5])\n",
    "pData[:,5] = pData[:,5]/std*Espread\n",
    "# np.save('pDataNorm.std=0.1',pData)\n",
    "# pData = np.load('pDataNorm.std=0.1.npy')\n",
    "if OnEnergy:\n",
    "    pData[:,5] = 0.0\n",
    "\n",
    "pDataIn = norm2MLI(pData,sign=1)\n",
    "np.savetxt('rays.in',pDataIn)"
   ]
  },
  {
   "cell_type": "markdown",
   "metadata": {},
   "source": [
    "# Cmds"
   ]
  },
  {
   "cell_type": "code",
   "execution_count": null,
   "metadata": {},
   "outputs": [],
   "source": [
    "raysin  =mli.getElem.raytrace(file1='rays.in',type='readonly')\n",
    "dump    =mli.getElem.particledump(file='rays.out',precision=15)\n",
    "track   =mli.getElem.autotrack(type='symplectic',order=5)\n",
    "fin     =mli.getElem.fin\n",
    "\n",
    "elemList = elemList + [raysin, dump, track, fin]"
   ]
  },
  {
   "cell_type": "code",
   "execution_count": null,
   "metadata": {},
   "outputs": [],
   "source": [
    "labor = mli.buildLabor(['iotaline','mapout'])\n",
    "mli.writeInputfile(elemList,latticeList,labor)\n",
    "mli.run()"
   ]
  },
  {
   "cell_type": "markdown",
   "metadata": {},
   "source": [
    "# Lattice"
   ]
  },
  {
   "cell_type": "code",
   "execution_count": null,
   "metadata": {},
   "outputs": [],
   "source": [
    "nlinsert=mli.getElem.nlinsert()\n",
    "\n",
    "iotaline = latticeList[0]\n",
    "arc = copy(iotaline)\n",
    "arc.name = 'arc'\n",
    "iotaline.list.insert(0,nlinsert.name)\n",
    "iotaline.list.append(dump.name)\n",
    "\n",
    "elemList = elemList + [nlinsert]"
   ]
  },
  {
   "cell_type": "code",
   "execution_count": null,
   "metadata": {},
   "outputs": [],
   "source": [
    "indexThin = []\n",
    "for i,item in enumerate(elemList):\n",
    "    if 'thlm' == item.elem:\n",
    "        indexThin.append(i)\n",
    "nThin = len(indexThin)\n",
    "print(nThin)"
   ]
  },
  {
   "cell_type": "markdown",
   "metadata": {},
   "source": [
    "# Labor"
   ]
  },
  {
   "cell_type": "code",
   "execution_count": null,
   "metadata": {},
   "outputs": [],
   "source": [
    "labor = mli.buildLabor(['iotaline','mapout','clear',raysin.name,track.name,str(nturn)+'*'+iotaline.name,'fin'])\n",
    "maplabor = mli.buildLabor(['arc','mapout'])"
   ]
  },
  {
   "cell_type": "markdown",
   "metadata": {},
   "source": [
    "#  Run"
   ]
  },
  {
   "cell_type": "code",
   "execution_count": null,
   "metadata": {},
   "outputs": [],
   "source": [
    "def getTBT(npt,nturn,fname='rays.out'):\n",
    "    TBT = np.loadtxt(fname)\n",
    "    TBT = TBT[:npt*nturn,:6]\n",
    "    out = np.zeros([npt,nturn,6])\n",
    "    for i in range(nturn):\n",
    "        out[:,i,:] = TBT[i*npt:(i+1)*npt,:]\n",
    "        out[:,i,:] = MLI2norm(out[:,i,:])\n",
    "    return out"
   ]
  },
  {
   "cell_type": "code",
   "execution_count": null,
   "metadata": {},
   "outputs": [],
   "source": [
    "def updateStrength(arg):\n",
    "    for i,j in enumerate(indexThin):\n",
    "        elemList[j]['k2l']=arg[i]"
   ]
  },
  {
   "cell_type": "code",
   "execution_count": null,
   "metadata": {},
   "outputs": [],
   "source": [
    "updateStrength([0.0]*nThin)\n",
    "mli.writeInputfile(elemList,latticeList,labor)\n",
    "mli.run(8)\n",
    "!mv mli.log mli.0.log\n",
    "TBT0 = getTBT(npt,nturn)\n",
    "print(TBT0.shape)"
   ]
  },
  {
   "cell_type": "code",
   "execution_count": null,
   "metadata": {},
   "outputs": [],
   "source": [
    "import pickle\n",
    "# with open('result.thin.sext.oct','rb') as fp:\n",
    "# with open('result.thin.DA.sext','rb') as fp:\n",
    "with open('result.Inv.thin.1sig.sext','rb') as fp:\n",
    "    result=pickle.load(fp)"
   ]
  },
  {
   "cell_type": "code",
   "execution_count": null,
   "metadata": {},
   "outputs": [],
   "source": [
    "# updateStrength(result.x)\n",
    "arg = result.population[0,:]\n",
    "arg = arg*200-100\n",
    "updateStrength(arg)\n",
    "mli.writeInputfile(elemList,latticeList,labor)\n",
    "mli.run(8)\n",
    "!mv mli.log mli.1.log\n",
    "TBT1 = getTBT(npt,nturn)\n",
    "print(TBT1.shape)"
   ]
  },
  {
   "cell_type": "code",
   "execution_count": null,
   "metadata": {},
   "outputs": [],
   "source": [
    "mli.writeInputfile(elemList,[arc],maplabor)\n",
    "mli.run()\n",
    "M,G=mli.readTransferMap()"
   ]
  },
  {
   "cell_type": "code",
   "execution_count": null,
   "metadata": {},
   "outputs": [],
   "source": [
    "readmap = mli.getElem.tmi(name='readmap')\n",
    "readmap.map2file(M,G)\n",
    "savemap = mli.getElem.stm(name='savemap')\n",
    "arcM    = mli.getElem.gtm(name='arcM')\n",
    "elemList = elemList + [readmap,savemap,arcM]\n",
    "iotaline.list=[iotaline.list[0],'arcM',iotaline.list[-1]]\n",
    "labor.list = ['readmap','savemap','arcM','clear'] + labor.list[-4:]\n",
    "mli.writeInputfile(elemList,latticeList,labor)\n",
    "mli.run(8)\n",
    "!mv mli.log mli.2.log\n",
    "TBT2 = getTBT(npt,nturn)\n",
    "print(TBT2.shape)"
   ]
  },
  {
   "cell_type": "markdown",
   "metadata": {},
   "source": [
    "# Check invariants"
   ]
  },
  {
   "cell_type": "code",
   "execution_count": null,
   "metadata": {},
   "outputs": [],
   "source": [
    "def getInv(xn,pxn,yn,pyn,delta,tau=NL_t):\n",
    "    z = xn + 1j*yn\n",
    "    U = np.real(z/np.sqrt(1-z**2)*np.arcsin(z))\n",
    "    W = np.real(2*xn/np.sqrt(1-z**2)*np.arcsin(z))\n",
    "    Hn = 0.5*(xn**2+pxn**2+yn**2+pyn**2)   +tau*U/(1.0+delta)\n",
    "    In = (xn*pyn -yn*pxn)**2 +xn**2+pxn**2 +tau*W/(1.0+delta)\n",
    "    return Hn,In\n",
    "\n",
    "def getInvTBT(TBT):\n",
    "    npt,nturn,dummy = TBT.shape\n",
    "    InvTBT = np.zeros([npt,nturn,2])\n",
    "    for iturn in range(nturn):\n",
    "        data = TBT[:,iturn,:]\n",
    "        for ipt in range(npt):\n",
    "            xn    = data[ipt,0]\n",
    "            pxn   = data[ipt,1]\n",
    "            yn    = data[ipt,2]\n",
    "            pyn   = data[ipt,3]\n",
    "            delta = data[ipt,5]\n",
    "            InvTBT[ipt,iturn,:] = getInv(xn,pxn,yn,pyn,delta)\n",
    "    return InvTBT"
   ]
  },
  {
   "cell_type": "code",
   "execution_count": null,
   "metadata": {},
   "outputs": [],
   "source": [
    "Inv0 = getInvTBT(TBT0)\n",
    "Inv1 = getInvTBT(TBT1)\n",
    "Inv2 = getInvTBT(TBT2)"
   ]
  },
  {
   "cell_type": "markdown",
   "metadata": {},
   "source": [
    "### Absolute"
   ]
  },
  {
   "cell_type": "code",
   "execution_count": null,
   "metadata": {},
   "outputs": [],
   "source": [
    "print('--max invarinats--')\n",
    "print(np.max(Inv0[:,:,0]),np.max(Inv0[:,:,1]))\n",
    "print(np.max(Inv1[:,:,0]),np.max(Inv1[:,:,1]))\n",
    "print(np.max(Inv2[:,:,0]),np.max(Inv2[:,:,1]))"
   ]
  },
  {
   "cell_type": "code",
   "execution_count": null,
   "metadata": {},
   "outputs": [],
   "source": [
    "amp0 = np.zeros([npt,2])\n",
    "amp1 = np.zeros([npt,2])\n",
    "amp2 = np.zeros([npt,2])\n",
    "for i in range(npt):\n",
    "    amp0[i,0] = np.std(Inv0[i,:,0])\n",
    "    amp0[i,1] = np.std(Inv0[i,:,1])\n",
    "    amp1[i,0] = np.std(Inv1[i,:,0])\n",
    "    amp1[i,1] = np.std(Inv1[i,:,1])\n",
    "    amp2[i,0] = np.std(Inv2[i,:,0])\n",
    "    amp2[i,1] = np.std(Inv2[i,:,1])\n",
    "print('--mean of amplitudes--')\n",
    "print(amp0[:,0].mean(),amp0[:,1].mean())\n",
    "print(amp1[:,0].mean(),amp1[:,1].mean())\n",
    "print(amp2[:,0].mean(),amp2[:,1].mean())"
   ]
  },
  {
   "cell_type": "code",
   "execution_count": null,
   "metadata": {},
   "outputs": [],
   "source": [
    "fig=plt.figure(figsize=(9,4))\n",
    "plt.subplot(1,2,1)\n",
    "for i in range(npt):\n",
    "    plt.plot(Inv0[i,:,0],marker='.',ls='',alpha=0.7)\n",
    "plt.subplot(1,2,2)\n",
    "for i in range(npt):\n",
    "    plt.plot(Inv0[i,:,1],marker='.',ls='',alpha=0.7)\n",
    "plt.tight_layout()"
   ]
  },
  {
   "cell_type": "code",
   "execution_count": null,
   "metadata": {},
   "outputs": [],
   "source": [
    "fig=plt.figure(figsize=(9,4))\n",
    "plt.subplot(1,2,1)\n",
    "for i in range(npt):\n",
    "    plt.plot(Inv1[i,:,0],marker='.',ls='',alpha=0.7)\n",
    "plt.subplot(1,2,2)\n",
    "for i in range(npt):\n",
    "    plt.plot(Inv1[i,:,1],marker='.',ls='',alpha=0.7)\n",
    "plt.tight_layout()"
   ]
  },
  {
   "cell_type": "code",
   "execution_count": null,
   "metadata": {},
   "outputs": [],
   "source": [
    "fig=plt.figure(figsize=(9,4))\n",
    "plt.subplot(1,2,1)\n",
    "for i in range(npt):\n",
    "    plt.plot(Inv2[i,:,0],marker='.',ls='',alpha=0.7)\n",
    "plt.subplot(1,2,2)\n",
    "for i in range(npt):\n",
    "    plt.plot(Inv2[i,:,1],marker='.',ls='',alpha=0.7)\n",
    "plt.tight_layout()"
   ]
  },
  {
   "cell_type": "markdown",
   "metadata": {},
   "source": [
    "### Relative"
   ]
  },
  {
   "cell_type": "code",
   "execution_count": null,
   "metadata": {},
   "outputs": [],
   "source": [
    "for i in range(npt):\n",
    "    Inv0[i,:,0] = Inv0[i,:,0]/Inv0[i,0,0].mean()-1.0\n",
    "    Inv0[i,:,1] = Inv0[i,:,1]/Inv0[i,0,1].mean()-1.0\n",
    "    Inv1[i,:,0] = Inv1[i,:,0]/Inv1[i,0,0].mean()-1.0\n",
    "    Inv1[i,:,1] = Inv1[i,:,1]/Inv1[i,0,1].mean()-1.0\n",
    "    Inv2[i,:,0] = Inv2[i,:,0]/Inv2[i,0,0].mean()-1.0\n",
    "    Inv2[i,:,1] = Inv2[i,:,1]/Inv2[i,0,1].mean()-1.0"
   ]
  },
  {
   "cell_type": "code",
   "execution_count": null,
   "metadata": {},
   "outputs": [],
   "source": [
    "print('--max invarinats--')\n",
    "print(np.max(Inv0[:,:,0]),np.max(Inv0[:,:,1]))\n",
    "print(np.max(Inv1[:,:,0]),np.max(Inv1[:,:,1]))\n",
    "print(np.max(Inv2[:,:,0]),np.max(Inv2[:,:,1]))"
   ]
  },
  {
   "cell_type": "code",
   "execution_count": null,
   "metadata": {},
   "outputs": [],
   "source": [
    "amp0 = np.zeros([npt,2])\n",
    "amp1 = np.zeros([npt,2])\n",
    "amp2 = np.zeros([npt,2])\n",
    "for i in range(npt):\n",
    "    amp0[i,0] = np.std(Inv0[i,:,0])\n",
    "    amp0[i,1] = np.std(Inv0[i,:,1])\n",
    "    amp1[i,0] = np.std(Inv1[i,:,0])\n",
    "    amp1[i,1] = np.std(Inv1[i,:,1])\n",
    "    amp2[i,0] = np.std(Inv2[i,:,0])\n",
    "    amp2[i,1] = np.std(Inv2[i,:,1])\n",
    "print('--mean of amplitudes--')\n",
    "print(amp0[:,0].mean(),amp0[:,1].mean())\n",
    "print(amp1[:,0].mean(),amp1[:,1].mean())\n",
    "print(amp2[:,0].mean(),amp2[:,1].mean())"
   ]
  },
  {
   "cell_type": "code",
   "execution_count": null,
   "metadata": {},
   "outputs": [],
   "source": [
    "fig=plt.figure(figsize=(9,4))\n",
    "plt.subplot(1,2,1)\n",
    "for i in range(npt):\n",
    "    plt.plot(Inv0[i,:,0],marker='.',ls='',alpha=0.7)\n",
    "plt.subplot(1,2,2)\n",
    "for i in range(npt):\n",
    "    plt.plot(Inv0[i,:,1],marker='.',ls='',alpha=0.7)\n",
    "plt.tight_layout()"
   ]
  },
  {
   "cell_type": "code",
   "execution_count": null,
   "metadata": {},
   "outputs": [],
   "source": [
    "fig=plt.figure(figsize=(9,4))\n",
    "plt.subplot(1,2,1)\n",
    "for i in range(npt):\n",
    "    plt.plot(Inv1[i,:,0],marker='.',ls='',alpha=0.7)\n",
    "plt.subplot(1,2,2)\n",
    "for i in range(npt):\n",
    "    plt.plot(Inv1[i,:,1],marker='.',ls='',alpha=0.7)\n",
    "plt.tight_layout()"
   ]
  },
  {
   "cell_type": "code",
   "execution_count": null,
   "metadata": {},
   "outputs": [],
   "source": [
    "fig=plt.figure(figsize=(9,4))\n",
    "plt.subplot(1,2,1)\n",
    "for i in range(npt):\n",
    "    plt.plot(Inv2[i,:,0],marker='.',ls='',alpha=0.7)\n",
    "plt.subplot(1,2,2)\n",
    "for i in range(npt):\n",
    "    plt.plot(Inv2[i,:,1],marker='.',ls='',alpha=0.7)\n",
    "plt.tight_layout()"
   ]
  },
  {
   "cell_type": "code",
   "execution_count": null,
   "metadata": {},
   "outputs": [],
   "source": []
  }
 ],
 "metadata": {
  "kernelspec": {
   "display_name": "Python 3",
   "language": "python",
   "name": "python3"
  },
  "language_info": {
   "codemirror_mode": {
    "name": "ipython",
    "version": 3
   },
   "file_extension": ".py",
   "mimetype": "text/x-python",
   "name": "python",
   "nbconvert_exporter": "python",
   "pygments_lexer": "ipython3",
   "version": "3.6.5"
  }
 },
 "nbformat": 4,
 "nbformat_minor": 2
}
