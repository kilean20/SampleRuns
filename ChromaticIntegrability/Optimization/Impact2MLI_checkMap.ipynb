{
 "cells": [
  {
   "cell_type": "code",
   "execution_count": 1,
   "metadata": {},
   "outputs": [],
   "source": [
    "import os\n",
    "import numpy as np\n",
    "import pickle\n",
    "import shutil \n",
    "import pImpactR as impact\n",
    "import matplotlib.pyplot as plt\n",
    "import time"
   ]
  },
  {
   "cell_type": "markdown",
   "metadata": {},
   "source": [
    "# Impact2MLI"
   ]
  },
  {
   "cell_type": "code",
   "execution_count": 2,
   "metadata": {},
   "outputs": [
    {
     "name": "stdout",
     "output_type": "stream",
     "text": [
      "reading ImpactZ input file (\u001b[92mIOTA.Chris.in\u001b[0m)\n",
      "  : mpi task info .............................done\n",
      "  : simulation control parameters .............done\n",
      "  : space charge field solver, mesh info ......done\n",
      "  : dist-type,restart,subcycle,#of state ......done\n",
      "  : Multiple Charge State info ................done\n",
      "  : particle distribution info ................done\n",
      "  : beam reference orbit info .................done\n",
      "  : converting impact dist to twiss param......done\n",
      "  : lattice info ..............................done\n"
     ]
    }
   ],
   "source": [
    "beam,lattice=impact.readInputFile('IOTA.Chris.in')\n",
    "for i in range(len(lattice)):\n",
    "    if 'length' in lattice[i].keys():\n",
    "        lattice[i].n_sckick = int(np.ceil(lattice[i].length*80))\n",
    "#     if lattice[i].type=='dipole':\n",
    "#         print(lattice[i])"
   ]
  },
  {
   "cell_type": "code",
   "execution_count": 3,
   "metadata": {},
   "outputs": [
    {
     "name": "stdout",
     "output_type": "stream",
     "text": [
      "196.692801440299 0.999987076031854\n"
     ]
    }
   ],
   "source": [
    "g0 = beam.kinetic_energy/beam.mass + 1.0\n",
    "b0 = np.sqrt((g0+1.0)*(g0-1.0))/g0\n",
    "print(g0,b0)"
   ]
  },
  {
   "cell_type": "code",
   "execution_count": 4,
   "metadata": {},
   "outputs": [
    {
     "data": {
      "text/plain": [
       "\n",
       "             length: 1.8 [m]\n",
       "           n_sckick: 144 [1]\n",
       "              n_map: 100 [1]\n",
       "         strength_t: 0.4\n",
       " transverse_scale_c: 0.01\n",
       "        pipe_radius: 10.0 [m]\n",
       "       tune_advance: 0.3\n",
       "               type: 'nonlinear_insert'"
      ]
     },
     "execution_count": 4,
     "metadata": {},
     "output_type": "execute_result"
    }
   ],
   "source": [
    "lattice = [ item for item in lattice if not item.type == 'write_raw_ptcl' ]\n",
    "lattice = [ item for item in lattice if not item.type == '-8' ]\n",
    "lattice[0].turns = 1\n",
    "for i in range(len(lattice)):\n",
    "    if 'length' in lattice[i].keys():\n",
    "        lattice[i].n_sckick = int(np.ceil(lattice[i].length*80))\n",
    "#     if lattice[i].type=='dipole':\n",
    "#         print(lattice[i])\n",
    "        \n",
    "arc = lattice.copy()\n",
    "arc.pop(1)"
   ]
  },
  {
   "cell_type": "code",
   "execution_count": 5,
   "metadata": {},
   "outputs": [
    {
     "data": {
      "text/html": [
       "<div>\n",
       "<style scoped>\n",
       "    .dataframe tbody tr th:only-of-type {\n",
       "        vertical-align: middle;\n",
       "    }\n",
       "\n",
       "    .dataframe tbody tr th {\n",
       "        vertical-align: top;\n",
       "    }\n",
       "\n",
       "    .dataframe thead th {\n",
       "        text-align: right;\n",
       "    }\n",
       "</style>\n",
       "<table border=\"1\" class=\"dataframe\">\n",
       "  <thead>\n",
       "    <tr style=\"text-align: right;\">\n",
       "      <th></th>\n",
       "      <th>0</th>\n",
       "      <th>1</th>\n",
       "      <th>2</th>\n",
       "      <th>3</th>\n",
       "      <th>4</th>\n",
       "      <th>5</th>\n",
       "    </tr>\n",
       "  </thead>\n",
       "  <tbody>\n",
       "    <tr>\n",
       "      <th>0</th>\n",
       "      <td>0.999969</td>\n",
       "      <td>0.000070</td>\n",
       "      <td>-6.530033e-09</td>\n",
       "      <td>-1.045721e-06</td>\n",
       "      <td>0.0</td>\n",
       "      <td>1.137732e-14</td>\n",
       "    </tr>\n",
       "    <tr>\n",
       "      <th>1</th>\n",
       "      <td>-1.454445</td>\n",
       "      <td>0.999930</td>\n",
       "      <td>3.926343e-09</td>\n",
       "      <td>6.763064e-07</td>\n",
       "      <td>0.0</td>\n",
       "      <td>2.508366e-15</td>\n",
       "    </tr>\n",
       "    <tr>\n",
       "      <th>2</th>\n",
       "      <td>0.000000</td>\n",
       "      <td>0.000000</td>\n",
       "      <td>9.999954e-01</td>\n",
       "      <td>3.774304e-07</td>\n",
       "      <td>0.0</td>\n",
       "      <td>0.000000e+00</td>\n",
       "    </tr>\n",
       "    <tr>\n",
       "      <th>3</th>\n",
       "      <td>0.000000</td>\n",
       "      <td>0.000000</td>\n",
       "      <td>-1.454438e+00</td>\n",
       "      <td>1.000004e+00</td>\n",
       "      <td>0.0</td>\n",
       "      <td>0.000000e+00</td>\n",
       "    </tr>\n",
       "    <tr>\n",
       "      <th>4</th>\n",
       "      <td>0.000069</td>\n",
       "      <td>-0.000099</td>\n",
       "      <td>2.949508e-07</td>\n",
       "      <td>3.352577e-05</td>\n",
       "      <td>1.0</td>\n",
       "      <td>4.648161e-07</td>\n",
       "    </tr>\n",
       "    <tr>\n",
       "      <th>5</th>\n",
       "      <td>-0.000000</td>\n",
       "      <td>-0.000000</td>\n",
       "      <td>-0.000000e+00</td>\n",
       "      <td>-0.000000e+00</td>\n",
       "      <td>-0.0</td>\n",
       "      <td>1.000000e+00</td>\n",
       "    </tr>\n",
       "  </tbody>\n",
       "</table>\n",
       "</div>"
      ],
      "text/plain": [
       "          0         1             2             3    4             5\n",
       "0  0.999969  0.000070 -6.530033e-09 -1.045721e-06  0.0  1.137732e-14\n",
       "1 -1.454445  0.999930  3.926343e-09  6.763064e-07  0.0  2.508366e-15\n",
       "2  0.000000  0.000000  9.999954e-01  3.774304e-07  0.0  0.000000e+00\n",
       "3  0.000000  0.000000 -1.454438e+00  1.000004e+00  0.0  0.000000e+00\n",
       "4  0.000069 -0.000099  2.949508e-07  3.352577e-05  1.0  4.648161e-07\n",
       "5 -0.000000 -0.000000 -0.000000e+00 -0.000000e+00 -0.0  1.000000e+00"
      ]
     },
     "execution_count": 5,
     "metadata": {},
     "output_type": "execute_result"
    }
   ],
   "source": [
    "M=impact.getTransferMap(beam,arc)\n",
    "M.to_csv('M.impact.csv',header=False,index=False)\n",
    "M"
   ]
  },
  {
   "cell_type": "code",
   "execution_count": 6,
   "metadata": {},
   "outputs": [],
   "source": [
    "NL_nu = lattice[1].tune_advance\n",
    "NL_L  = lattice[1].length\n",
    "NL_c  = 0.01\n",
    "NL_t  = 0.4\n",
    "alfx = np.tan(np.pi*NL_nu)\n",
    "betx = NL_L/np.sin(2.0*np.pi*NL_nu)\n",
    "k = 2*alfx/betx\n",
    "energy=beam.kinetic_energy\n",
    "gam0 = energy/beam.mass\n",
    "bet0 = np.sqrt(1.0-1.0/gam0**2)"
   ]
  },
  {
   "cell_type": "code",
   "execution_count": 7,
   "metadata": {
    "scrolled": true
   },
   "outputs": [
    {
     "name": "stdout",
     "output_type": "stream",
     "text": [
      "Impact elem type loop is not recognized from MLI. skipping...\n",
      "\n",
      "  elem: 'sbend'\n",
      "  name: 'dipole1'\n",
      "     l: 0.8092963858\n",
      " angle: 1.047197551\n",
      "  hgap: 0.029\n",
      "  fint: 0.5 [1]\n",
      "\n",
      "  elem: 'sbend'\n",
      "  name: 'dipole2'\n",
      "     l: 0.8092963858\n",
      " angle: 1.047197551\n",
      "  hgap: 0.029\n",
      "  fint: 0.5 [1]\n",
      "\n",
      "  elem: 'sbend'\n",
      "  name: 'dipole3'\n",
      "     l: 0.4305191429\n",
      " angle: 0.5235987756\n",
      "  hgap: 0.029\n",
      "  fint: 0.5 [1]\n",
      "\n",
      "  elem: 'sbend'\n",
      "  name: 'dipole4'\n",
      "     l: 0.4305191429\n",
      " angle: 0.5235987756\n",
      "  hgap: 0.029\n",
      "  fint: 0.5 [1]\n",
      "\n",
      "  elem: 'sbend'\n",
      "  name: 'dipole5'\n",
      "     l: 0.8092963858\n",
      " angle: 1.047197551\n",
      "  hgap: 0.029\n",
      "  fint: 0.5 [1]\n",
      "\n",
      "  elem: 'sbend'\n",
      "  name: 'dipole6'\n",
      "     l: 0.8092963858\n",
      " angle: 1.047197551\n",
      "  hgap: 0.029\n",
      "  fint: 0.5 [1]\n",
      "\n",
      "  elem: 'sbend'\n",
      "  name: 'dipole7'\n",
      "     l: 0.4305191429\n",
      " angle: 0.5235987756\n",
      "  hgap: 0.029\n",
      "  fint: 0.5 [1]\n",
      "\n",
      "  elem: 'sbend'\n",
      "  name: 'dipole8'\n",
      "     l: 0.4305191429\n",
      " angle: 0.5235987756\n",
      "  hgap: 0.029\n",
      "  fint: 0.5 [1]\n"
     ]
    }
   ],
   "source": [
    "elemList, lattice = impact.impact2mli(beam,arc)\n",
    "for item in elemList:\n",
    "    if item.elem == 'sbend':\n",
    "        print(item)"
   ]
  },
  {
   "cell_type": "code",
   "execution_count": 8,
   "metadata": {},
   "outputs": [],
   "source": [
    "ptm=impact.MLI.getElem.ptm()\n",
    "fin=impact.MLI.getElem.fin"
   ]
  },
  {
   "cell_type": "code",
   "execution_count": 9,
   "metadata": {},
   "outputs": [],
   "source": [
    "elemList=elemList+[ptm,fin]\n",
    "labor = impact.MLI.buildLabor([lattice,ptm,fin])"
   ]
  },
  {
   "cell_type": "markdown",
   "metadata": {},
   "source": [
    "# before optimization"
   ]
  },
  {
   "cell_type": "code",
   "execution_count": 10,
   "metadata": {},
   "outputs": [],
   "source": [
    "rm mli.out"
   ]
  },
  {
   "cell_type": "code",
   "execution_count": 11,
   "metadata": {},
   "outputs": [
    {
     "data": {
      "text/html": [
       "<div>\n",
       "<style scoped>\n",
       "    .dataframe tbody tr th:only-of-type {\n",
       "        vertical-align: middle;\n",
       "    }\n",
       "\n",
       "    .dataframe tbody tr th {\n",
       "        vertical-align: top;\n",
       "    }\n",
       "\n",
       "    .dataframe thead th {\n",
       "        text-align: right;\n",
       "    }\n",
       "</style>\n",
       "<table border=\"1\" class=\"dataframe\">\n",
       "  <thead>\n",
       "    <tr style=\"text-align: right;\">\n",
       "      <th></th>\n",
       "      <th>1</th>\n",
       "      <th>2</th>\n",
       "      <th>3</th>\n",
       "      <th>4</th>\n",
       "      <th>5</th>\n",
       "      <th>6</th>\n",
       "    </tr>\n",
       "  </thead>\n",
       "  <tbody>\n",
       "    <tr>\n",
       "      <th>1</th>\n",
       "      <td>0.999969</td>\n",
       "      <td>0.000070</td>\n",
       "      <td>0.000000</td>\n",
       "      <td>0.000000e+00</td>\n",
       "      <td>0.0</td>\n",
       "      <td>-1.143531e-06</td>\n",
       "    </tr>\n",
       "    <tr>\n",
       "      <th>2</th>\n",
       "      <td>-1.454445</td>\n",
       "      <td>0.999930</td>\n",
       "      <td>0.000000</td>\n",
       "      <td>0.000000e+00</td>\n",
       "      <td>0.0</td>\n",
       "      <td>-2.521151e-07</td>\n",
       "    </tr>\n",
       "    <tr>\n",
       "      <th>3</th>\n",
       "      <td>0.000000</td>\n",
       "      <td>0.000000</td>\n",
       "      <td>0.999995</td>\n",
       "      <td>3.774310e-07</td>\n",
       "      <td>0.0</td>\n",
       "      <td>0.000000e+00</td>\n",
       "    </tr>\n",
       "    <tr>\n",
       "      <th>4</th>\n",
       "      <td>0.000000</td>\n",
       "      <td>0.000000</td>\n",
       "      <td>-1.454438</td>\n",
       "      <td>1.000004e+00</td>\n",
       "      <td>0.0</td>\n",
       "      <td>0.000000e+00</td>\n",
       "    </tr>\n",
       "    <tr>\n",
       "      <th>5</th>\n",
       "      <td>0.000002</td>\n",
       "      <td>-0.000001</td>\n",
       "      <td>0.000000</td>\n",
       "      <td>0.000000e+00</td>\n",
       "      <td>1.0</td>\n",
       "      <td>-1.296627e+00</td>\n",
       "    </tr>\n",
       "    <tr>\n",
       "      <th>6</th>\n",
       "      <td>0.000000</td>\n",
       "      <td>0.000000</td>\n",
       "      <td>0.000000</td>\n",
       "      <td>0.000000e+00</td>\n",
       "      <td>0.0</td>\n",
       "      <td>1.000000e+00</td>\n",
       "    </tr>\n",
       "  </tbody>\n",
       "</table>\n",
       "</div>"
      ],
      "text/plain": [
       "          1         2         3             4    5             6\n",
       "1  0.999969  0.000070  0.000000  0.000000e+00  0.0 -1.143531e-06\n",
       "2 -1.454445  0.999930  0.000000  0.000000e+00  0.0 -2.521151e-07\n",
       "3  0.000000  0.000000  0.999995  3.774310e-07  0.0  0.000000e+00\n",
       "4  0.000000  0.000000 -1.454438  1.000004e+00  0.0  0.000000e+00\n",
       "5  0.000002 -0.000001  0.000000  0.000000e+00  1.0 -1.296627e+00\n",
       "6  0.000000  0.000000  0.000000  0.000000e+00  0.0  1.000000e+00"
      ]
     },
     "execution_count": 11,
     "metadata": {},
     "output_type": "execute_result"
    }
   ],
   "source": [
    "impact.MLI.writeInputfile(elemList,[lattice],labor)\n",
    "impact.MLI.run()\n",
    "M,G = impact.MLI.readTransferMap()\n",
    "M.to_csv('M.mli.csv',header=False,index=False)\n",
    "M"
   ]
  },
  {
   "cell_type": "code",
   "execution_count": null,
   "metadata": {},
   "outputs": [],
   "source": [
    "G.head()"
   ]
  },
  {
   "cell_type": "code",
   "execution_count": null,
   "metadata": {},
   "outputs": [],
   "source": [
    "G2_ref = G.loc[28:76].copy()\n",
    "G2_ref['GP'] = 0\n",
    "G2_ref.loc[33,'GP'] = 0.5*k/bet0\n",
    "G2_ref.loc[67,'GP'] = 0.5*k/bet0\n",
    "\n",
    "G3_ref = G.loc[84:200].copy()\n",
    "G3_ref['GP'] = 0\n",
    "G3_ref.loc[104,'GP'] = k/(2.0*bet0*gam0)**2\n",
    "G3_ref.loc[184,'GP'] = k/(2.0*bet0*gam0)**2\n",
    "\n",
    "def obj(G):\n",
    "    return 1.0e30* np.sum((G.loc[28 :76 ,'GP'].values-G2_ref['GP'].values)**2) \\\n",
    "          +1.0e22* np.sum((G.loc[84 :200,'GP'].values-G3_ref['GP'].values)**2) \\\n",
    "          +1.0e12* np.sum((G.loc[210:450,'GP'].values)**2) \\\n",
    "          +        np.sum((G.loc[462:910,'GP'].values)**2)"
   ]
  },
  {
   "cell_type": "code",
   "execution_count": null,
   "metadata": {},
   "outputs": [],
   "source": [
    "obj(G)"
   ]
  },
  {
   "cell_type": "markdown",
   "metadata": {},
   "source": [
    "# optimized sextupoles"
   ]
  },
  {
   "cell_type": "code",
   "execution_count": null,
   "metadata": {},
   "outputs": [],
   "source": [
    "with open('result.12sext','rb') as f:\n",
    "    result = pickle.load(f)\n",
    "result.x = (result.population[0,:] - 0.5)*4.0"
   ]
  },
  {
   "cell_type": "code",
   "execution_count": null,
   "metadata": {},
   "outputs": [],
   "source": [
    "rm mli.out"
   ]
  },
  {
   "cell_type": "code",
   "execution_count": null,
   "metadata": {},
   "outputs": [],
   "source": [
    "i=0\n",
    "for item in elemList:\n",
    "    if item.elem=='thlm':\n",
    "        item.k2l=result.x[i]\n",
    "        i=i+1\n",
    "        \n",
    "impact.MLI.writeInputfile(elemList,[lattice],labor)\n",
    "impact.MLI.run()\n",
    "M,G = impact.MLI.readTransferMap()\n",
    "M"
   ]
  },
  {
   "cell_type": "code",
   "execution_count": null,
   "metadata": {
    "scrolled": false
   },
   "outputs": [],
   "source": [
    "G.head()"
   ]
  },
  {
   "cell_type": "code",
   "execution_count": null,
   "metadata": {},
   "outputs": [],
   "source": [
    "obj(G)"
   ]
  },
  {
   "cell_type": "markdown",
   "metadata": {},
   "source": [
    "# turn off sextupoles (thin multipole)"
   ]
  },
  {
   "cell_type": "code",
   "execution_count": null,
   "metadata": {},
   "outputs": [],
   "source": [
    "rm mli.out"
   ]
  },
  {
   "cell_type": "code",
   "execution_count": null,
   "metadata": {},
   "outputs": [],
   "source": [
    "for item in elemList:\n",
    "    if item.elem=='thlm':\n",
    "        item.k2l=0.0\n",
    "        \n",
    "impact.MLI.writeInputfile(elemList,[lattice],labor)\n",
    "impact.MLI.run()\n",
    "M,G = impact.MLI.readTransferMap()\n",
    "M"
   ]
  },
  {
   "cell_type": "code",
   "execution_count": null,
   "metadata": {
    "scrolled": false
   },
   "outputs": [],
   "source": [
    "G.head()"
   ]
  },
  {
   "cell_type": "code",
   "execution_count": null,
   "metadata": {},
   "outputs": [],
   "source": [
    "obj(G)"
   ]
  },
  {
   "cell_type": "markdown",
   "metadata": {},
   "source": [
    "# remove sbend"
   ]
  },
  {
   "cell_type": "code",
   "execution_count": null,
   "metadata": {},
   "outputs": [],
   "source": [
    "rm mli.out"
   ]
  },
  {
   "cell_type": "code",
   "execution_count": null,
   "metadata": {
    "scrolled": true
   },
   "outputs": [],
   "source": [
    "elemList,latticeList=impact.MLI.removeElems('sbend',elemList,[lattice])\n",
    "impact.MLI.writeInputfile(elemList,[lattice],labor)\n",
    "impact.MLI.run()\n",
    "M,G = impact.MLI.readTransferMap()\n",
    "M"
   ]
  },
  {
   "cell_type": "code",
   "execution_count": null,
   "metadata": {},
   "outputs": [],
   "source": [
    "G.head()"
   ]
  }
 ],
 "metadata": {
  "kernelspec": {
   "display_name": "Python 3",
   "language": "python",
   "name": "python3"
  },
  "language_info": {
   "codemirror_mode": {
    "name": "ipython",
    "version": 3
   },
   "file_extension": ".py",
   "mimetype": "text/x-python",
   "name": "python",
   "nbconvert_exporter": "python",
   "pygments_lexer": "ipython3",
   "version": "3.6.5"
  }
 },
 "nbformat": 4,
 "nbformat_minor": 2
}
