{
 "cells": [
  {
   "cell_type": "code",
   "execution_count": 1,
   "metadata": {},
   "outputs": [],
   "source": [
    "import os\n",
    "import numpy as np\n",
    "import pickle\n",
    "import shutil \n",
    "import pImpactR as impact\n",
    "import matplotlib.pyplot as plt\n",
    "import time"
   ]
  },
  {
   "cell_type": "markdown",
   "metadata": {},
   "source": [
    "# Simulation Setting"
   ]
  },
  {
   "cell_type": "code",
   "execution_count": 2,
   "metadata": {},
   "outputs": [],
   "source": [
    "npt = 2048\n",
    "Espread = 6.0e-3\n",
    "Rsphere = 0.5\n",
    "pipe_radius = 0.02"
   ]
  },
  {
   "cell_type": "markdown",
   "metadata": {},
   "source": [
    "# Lattice"
   ]
  },
  {
   "cell_type": "code",
   "execution_count": 3,
   "metadata": {},
   "outputs": [
    {
     "name": "stdout",
     "output_type": "stream",
     "text": [
      "reading ImpactZ input file (\u001b[92mIOTA.Chris.in\u001b[0m)\n",
      "  : mpi task info .............................done\n",
      "  : simulation control parameters .............done\n",
      "  : space charge field solver, mesh info ......done\n",
      "  : dist-type,restart,subcycle,#of state ......done\n",
      "  : Multiple Charge State info ................done\n",
      "  : particle distribution info ................done\n",
      "  : beam reference orbit info .................done\n",
      "  : converting impact dist to twiss param......done\n",
      "  : lattice info ..............................done\n"
     ]
    }
   ],
   "source": [
    "beam,lattice=impact.readInputFile('IOTA.Chris.in')\n",
    "beam.nCore_y = 1\n",
    "beam.nCore_z = 1"
   ]
  },
  {
   "cell_type": "code",
   "execution_count": 4,
   "metadata": {},
   "outputs": [],
   "source": [
    "lattice = [ item for item in lattice if not item.type == 'write_raw_ptcl' ]\n",
    "lattice = [ item for item in lattice if not item.type == '-8' ]\n",
    "lattice[0].turns = 1\n",
    "for i in range(len(lattice)):\n",
    "    if 'length' in lattice[i].keys():\n",
    "        lattice[i].n_sckick = int(np.ceil(lattice[i].length*80))\n",
    "        lattice[i].n_map = 1\n",
    "    if 'pipe_radius' in lattice[i].keys() and lattice[i].type!='dipole':\n",
    "        lattice[i].pipe_radius = pipe_radius\n",
    "    if 'dipole' == lattice[i].type:\n",
    "        if lattice[i].file_id < 300:\n",
    "            lattice[i].file_id = 350\n",
    "            lattice[i].pipe_radius = lattice[i].pipe_radius*2\n",
    "        \n",
    "\n",
    "elemWrite = impact.getElem('write_raw_ptcl')\n",
    "elemWrite.file_id   = 999\n",
    "elemWrite.format_id = 2\n",
    "lattice.append(elemWrite)"
   ]
  },
  {
   "cell_type": "code",
   "execution_count": 5,
   "metadata": {},
   "outputs": [
    {
     "data": {
      "text/plain": [
       "1.4544633270832747"
      ]
     },
     "execution_count": 5,
     "metadata": {},
     "output_type": "execute_result"
    }
   ],
   "source": [
    "NL_nu = lattice[1].tune_advance\n",
    "NL_L  = lattice[1].length\n",
    "NL_c  = 0.01\n",
    "alfx = np.tan(np.pi*NL_nu)\n",
    "betx = NL_L/np.sin(2.0*np.pi*NL_nu)\n",
    "k = 2*alfx/betx\n",
    "k"
   ]
  },
  {
   "cell_type": "code",
   "execution_count": 6,
   "metadata": {},
   "outputs": [],
   "source": [
    "arc = lattice.copy()\n",
    "loop = arc[0]\n",
    "nlinsert = arc.pop(1)"
   ]
  },
  {
   "cell_type": "code",
   "execution_count": 7,
   "metadata": {},
   "outputs": [],
   "source": [
    "nlinsert.n_sckick = 2\n",
    "nlinsert.n_map = 50"
   ]
  },
  {
   "cell_type": "code",
   "execution_count": 8,
   "metadata": {},
   "outputs": [],
   "source": [
    "ke = beam.kinetic_energy\n",
    "freq = beam.frequency\n",
    "mass = beam.mass\n",
    "gam0 = 1.0+beam.kinetic_energy/mass\n",
    "bet0 = np.sqrt(1.0-1.0/gam0**2)\n",
    "bg0  = np.sqrt(gam0**2-1.0)\n",
    "q_m  = beam.multi_charge.q_m[0]"
   ]
  },
  {
   "cell_type": "code",
   "execution_count": 9,
   "metadata": {},
   "outputs": [],
   "source": [
    "def Impact2norm(data_in,bg0,bet0,sign=1):\n",
    "    data=data_in.copy()\n",
    "    data[:,5] = -(np.sqrt(1.0-2.0*data[:,5]/mass/(bet0*bg0)+(data[:,5]/mass)**2/bg0**2)-1.0)\n",
    "    data[:,1] = (data[:,0]*alfx*sign/np.sqrt(betx) + data[:,1]/(1+data[:,5])*np.sqrt(betx))/NL_c\n",
    "    data[:,3] = (data[:,2]*alfx*sign/np.sqrt(betx) + data[:,3]/(1+data[:,5])*np.sqrt(betx))/NL_c\n",
    "    data[:,0] = data[:,0]/(np.sqrt(betx)*NL_c)\n",
    "    data[:,2] = data[:,2]/(np.sqrt(betx)*NL_c)\n",
    "    return data\n",
    "    \n",
    "def norm2Impact(data_in,bg0,bet0,sign=1):\n",
    "    data=data_in.copy()\n",
    "    data[:,1] = (-data[:,0]*alfx*sign + data[:,1])*NL_c/np.sqrt(betx)*(1+data[:,5])\n",
    "    data[:,3] = (-data[:,2]*alfx*sign + data[:,3])*NL_c/np.sqrt(betx)*(1+data[:,5])\n",
    "    data[:,0] = data[:,0]*np.sqrt(betx)*NL_c\n",
    "    data[:,2] = data[:,2]*np.sqrt(betx)*NL_c\n",
    "    data[:,5] = (bg0*np.sqrt(1/bet0**2+2.0*data[:,5]+data[:,5]**2)-bg0/bet0)*mass\n",
    "    return data"
   ]
  },
  {
   "cell_type": "code",
   "execution_count": 10,
   "metadata": {},
   "outputs": [],
   "source": [
    "SextIndex=[]\n",
    "SextStrength=[]\n",
    "for i in range(len(arc)):\n",
    "    if arc[i]['type']=='multipole_thin':\n",
    "        SextIndex.append(i)\n",
    "        SextStrength.append(arc[i]['KL_sext'])\n",
    "nParam = len(SextIndex)"
   ]
  },
  {
   "cell_type": "code",
   "execution_count": 11,
   "metadata": {},
   "outputs": [],
   "source": [
    "#%%\n",
    "pData=np.zeros([npt,9])\n",
    "pData[:,6]  = q_m\n",
    "pData[:,-1] = np.arange(1,npt+1)\n",
    "pData[0,0]  = 0.5\n",
    "pData[1,0]  = -0.5\n",
    "normFactor = 1.0/(4*npt*Rsphere*Rsphere)\n",
    "\n",
    "# refp = pData[:4,:]\n",
    "# refp[0,0] = 0.45\n",
    "# refp[1,0] = -0.45\n",
    "# refpImpact = norm2Impact(refp,bg0,bet0,1)\n",
    "\n",
    "def getLost():\n",
    "    with open('lost_partcl.data') as f:\n",
    "        for i, l in enumerate(f):\n",
    "            pass\n",
    "    return i\n",
    "\n",
    "def objFunc(arg): \n",
    "    obj = 0.02*np.sum(np.array(arg)*np.array(arg))/nParam\n",
    "    if obj > 0.01:\n",
    "        return 1.0\n",
    "    \n",
    "    target = impact.opt.id_generator()  # generage random directory name\n",
    "    while os.path.exists(target):  \n",
    "        target = impact.opt.id_generator()\n",
    "    os.mkdir(target)\n",
    "    os.chdir(target) # cd to the randome directory and\n",
    "    \n",
    "    for i,j in enumerate(SextIndex):\n",
    "        arc[j]['KL_sext']=20.0*arg[i]\n",
    "#         arc[j]['KL_sext']=1.0e3*arg[2*i]\n",
    "#         arc[j]['KL_oct'] =1.0e6*arg[2*i+1]\n",
    "        \n",
    "    x = np.random.random([npt-2,4])\n",
    "    c0 = np.cos(x[:,0])\n",
    "    s0 = np.sin(x[:,0])\n",
    "    c1 = np.cos(x[:,1])\n",
    "    s1 = np.sin(x[:,1])\n",
    "    c2 = np.cos(x[:,2])\n",
    "    s2 = np.sin(x[:,2])\n",
    "    pData[2:,0] = Rsphere*c0\n",
    "    pData[2:,1] = Rsphere*s0*c1\n",
    "    pData[2:,2] = Rsphere*s0*s1*c2\n",
    "    pData[2:,3] = Rsphere*s0*s1*s2\n",
    "    pData[2:,5] = (x[:,3]-0.5)*Espread\n",
    "\n",
    "    beam.n_particles = npt\n",
    "    loop.turns = 1\n",
    "    impact.writeParticleData(norm2Impact(pData,bg0,bet0,-1),ke,mass,freq)\n",
    "    impact.writeInputFile(beam,arc)\n",
    "    impact.run()\n",
    "    nLost = getLost()\n",
    "    if 0 < nLost:\n",
    "        os.chdir('..')\n",
    "        shutil.rmtree(target)\n",
    "        return 1.0*nLost\n",
    "    pData2 = impact.readParticleData(999, ke, mass, freq, format_id=2)\n",
    "    pData2 = Impact2norm(pData2,bg0,bet0,1)\n",
    "    obj = obj + np.sqrt(np.sum((pData[:,:4]-pData2[:,:4])**2)*normFactor)\n",
    "#     !mv log.impact_std log.impact_std.0\n",
    "    \n",
    "#     beam.n_particles = 4\n",
    "#     loop.turns = 10\n",
    "#     impact.writeParticleData(norm2Impact(pData,bg0,bet0,1),ke,mass,freq)\n",
    "# #     impact.writeParticleData(refpImpact,ke,mass,freq)\n",
    "#     lattice = arc[:-1].copy()\n",
    "#     lattice.insert(1,nlinsert)\n",
    "#     impact.writeInputFile(beam,lattice)\n",
    "#     impact.run()\n",
    "#     if 0 < getLost():\n",
    "#         os.chdir('..')\n",
    "#         shutil.rmtree(target)\n",
    "#         return 1.0e22\n",
    "#     !mv log.impact_std log.impact_std.1\n",
    "    \n",
    "    os.chdir('..')\n",
    "    shutil.rmtree(target)\n",
    "    return obj"
   ]
  },
  {
   "cell_type": "code",
   "execution_count": 12,
   "metadata": {},
   "outputs": [
    {
     "data": {
      "text/plain": [
       "0.04550261765272489"
      ]
     },
     "execution_count": 12,
     "metadata": {},
     "output_type": "execute_result"
    }
   ],
   "source": [
    "objFunc([0]*nParam)"
   ]
  },
  {
   "cell_type": "code",
   "execution_count": null,
   "metadata": {},
   "outputs": [],
   "source": [
    "#%% run optim\n",
    "bounds = [(-1.0,1.0)]*nParam\n",
    "result=impact.opt.differential_evolution(objFunc, bounds, ncore=8, popsize=128, \n",
    "                                        disp=True, polish=False, maxtime=60*20) \n",
    "                                        # stop running at maximum 1 min\n",
    "print(result)\n",
    "with open('result.sphere.12sext','wb') as fp:\n",
    "    pickle.dump(result,fp)"
   ]
  },
  {
   "cell_type": "code",
   "execution_count": null,
   "metadata": {},
   "outputs": [],
   "source": [
    "with open('result.sphere.12sext','rb') as f:\n",
    "    result = pickle.load(f)"
   ]
  },
  {
   "cell_type": "code",
   "execution_count": null,
   "metadata": {},
   "outputs": [],
   "source": [
    "while True:\n",
    "    previous_result = result\n",
    "    result = impact.opt.differential_evolution(objFunc, bounds, ncore=8, \n",
    "                                           prev_result=previous_result, \n",
    "                                           disp=True, polish=True, maxtime=60*20)\n",
    "    with open('result.sphere.12sext','wb') as fp:\n",
    "        pickle.dump(result,fp)\n",
    "        if hasattr(result,'x'): \n",
    "            break"
   ]
  },
  {
   "cell_type": "code",
   "execution_count": null,
   "metadata": {},
   "outputs": [],
   "source": [
    "result"
   ]
  },
  {
   "cell_type": "code",
   "execution_count": null,
   "metadata": {},
   "outputs": [],
   "source": []
  }
 ],
 "metadata": {
  "kernelspec": {
   "display_name": "Python 3",
   "language": "python",
   "name": "python3"
  },
  "language_info": {
   "codemirror_mode": {
    "name": "ipython",
    "version": 3
   },
   "file_extension": ".py",
   "mimetype": "text/x-python",
   "name": "python",
   "nbconvert_exporter": "python",
   "pygments_lexer": "ipython3",
   "version": "3.6.5"
  }
 },
 "nbformat": 4,
 "nbformat_minor": 2
}
