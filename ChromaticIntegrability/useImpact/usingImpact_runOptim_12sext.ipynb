{
 "cells": [
  {
   "cell_type": "code",
   "execution_count": 1,
   "metadata": {},
   "outputs": [],
   "source": [
    "import os\n",
    "import numpy as np\n",
    "import pickle\n",
    "import shutil \n",
    "import pImpactR as impact\n",
    "import matplotlib.pyplot as plt\n",
    "import time"
   ]
  },
  {
   "cell_type": "markdown",
   "metadata": {},
   "source": [
    "# Simulation Setting"
   ]
  },
  {
   "cell_type": "code",
   "execution_count": 2,
   "metadata": {},
   "outputs": [
    {
     "name": "stdout",
     "output_type": "stream",
     "text": [
      "8192\n"
     ]
    }
   ],
   "source": [
    "npt = 2**13\n",
    "print(npt)\n",
    "Espread = 2.0e-3\n",
    "pipe_radius = 0.04"
   ]
  },
  {
   "cell_type": "markdown",
   "metadata": {},
   "source": [
    "# Lattice"
   ]
  },
  {
   "cell_type": "code",
   "execution_count": 3,
   "metadata": {},
   "outputs": [
    {
     "name": "stdout",
     "output_type": "stream",
     "text": [
      "reading ImpactZ input file (\u001b[92mIOTA.Chris.in\u001b[0m)\n",
      "  : mpi task info .............................done\n",
      "  : simulation control parameters .............done\n",
      "  : space charge field solver, mesh info ......done\n",
      "  : dist-type,restart,subcycle,#of state ......done\n",
      "  : Multiple Charge State info ................done\n",
      "  : particle distribution info ................done\n",
      "  : beam reference orbit info .................done\n",
      "  : converting impact dist to twiss param......done\n",
      "  : lattice info ..............................done\n"
     ]
    }
   ],
   "source": [
    "beam,lattice=impact.readInputFile('IOTA.Chris.in')\n",
    "beam.nCore_y = 1\n",
    "beam.nCore_z = 1"
   ]
  },
  {
   "cell_type": "code",
   "execution_count": 4,
   "metadata": {},
   "outputs": [],
   "source": [
    "lattice = [ item for item in lattice if not item.type == 'write_raw_ptcl' ]\n",
    "lattice = [ item for item in lattice if not item.type == '-8' ]\n",
    "lattice[0].turns = 1\n",
    "for i in range(len(lattice)):\n",
    "    if 'length' in lattice[i].keys():\n",
    "        lattice[i].n_sckick = int(np.ceil(lattice[i].length*80))\n",
    "    if 'pipe_radius' in lattice[i].keys() and lattice[i].type!='dipole':\n",
    "        lattice[i].pipe_radius = pipe_radius\n",
    "\n",
    "elemWrite = impact.getElem('write_raw_ptcl')\n",
    "elemWrite.file_id   = 999\n",
    "elemWrite.format_id = 2\n",
    "lattice.append(elemWrite)"
   ]
  },
  {
   "cell_type": "code",
   "execution_count": 5,
   "metadata": {},
   "outputs": [],
   "source": [
    "NL_nu = lattice[1].tune_advance\n",
    "NL_L  = lattice[1].length\n",
    "NL_c  = 0.01\n",
    "alfx = np.tan(np.pi*NL_nu)\n",
    "betx = NL_L/np.sin(2.0*np.pi*NL_nu)"
   ]
  },
  {
   "cell_type": "code",
   "execution_count": 6,
   "metadata": {},
   "outputs": [
    {
     "data": {
      "text/plain": [
       "\n",
       "             length: 1.8 [m]\n",
       "           n_sckick: 144 [1]\n",
       "              n_map: 100 [1]\n",
       "         strength_t: 0.4\n",
       " transverse_scale_c: 0.01\n",
       "        pipe_radius: 0.04 [m]\n",
       "       tune_advance: 0.3\n",
       "               type: 'nonlinear_insert'"
      ]
     },
     "execution_count": 6,
     "metadata": {},
     "output_type": "execute_result"
    }
   ],
   "source": [
    "arc = lattice.copy()\n",
    "arc.pop(1)"
   ]
  },
  {
   "cell_type": "code",
   "execution_count": 7,
   "metadata": {},
   "outputs": [],
   "source": [
    "ke = beam.kinetic_energy\n",
    "freq = beam.frequency\n",
    "mass = beam.mass\n",
    "gam0 = 1.0+beam.kinetic_energy/mass\n",
    "bet0 = np.sqrt(1.0-1.0/gam0**2)\n",
    "bg0  = np.sqrt(gam0**2-1.0)\n",
    "q_m  = beam.multi_charge.q_m[0]"
   ]
  },
  {
   "cell_type": "code",
   "execution_count": 8,
   "metadata": {},
   "outputs": [],
   "source": [
    "def Impact2norm(data_in,bg0,bet0,sign=1):\n",
    "    data=data_in.copy()\n",
    "    data[:,5] = -(np.sqrt(1.0-2.0*data[:,5]/mass/(bet0*bg0)+(data[:,5]/mass)**2/bg0**2)-1.0)\n",
    "    data[:,1] = (data[:,0]*alfx*sign/np.sqrt(betx) + data[:,1]/(1+data[:,5])*np.sqrt(betx))/NL_c\n",
    "    data[:,3] = (data[:,2]*alfx*sign/np.sqrt(betx) + data[:,3]/(1+data[:,5])*np.sqrt(betx))/NL_c\n",
    "    data[:,0] = data[:,0]/(np.sqrt(betx)*NL_c)\n",
    "    data[:,2] = data[:,2]/(np.sqrt(betx)*NL_c)\n",
    "    return data\n",
    "    \n",
    "def norm2Impact(data_in,bg0,bet0,sign=1):\n",
    "    data=data_in.copy()\n",
    "    data[:,1] = (-data[:,0]*alfx*sign + data[:,1])*NL_c/np.sqrt(betx)*(1+data[:,5])\n",
    "    data[:,3] = (-data[:,2]*alfx*sign + data[:,3])*NL_c/np.sqrt(betx)*(1+data[:,5])\n",
    "    data[:,0] = data[:,0]*np.sqrt(betx)*NL_c\n",
    "    data[:,2] = data[:,2]*np.sqrt(betx)*NL_c\n",
    "    data[:,5] = (bg0*np.sqrt(1/bet0**2+2.0*data[:,5]+data[:,5]**2)-bg0/bet0)*mass\n",
    "    return data"
   ]
  },
  {
   "cell_type": "code",
   "execution_count": 9,
   "metadata": {},
   "outputs": [],
   "source": [
    "from scipy.stats import truncnorm\n",
    "\n",
    "def get_truncated_normal(mean=0, sd=1, low=0, upp=10,n=1):\n",
    "    f = truncnorm(\n",
    "        (low - mean) / sd, (upp - mean) / sd, loc=mean, scale=sd)\n",
    "    return f.rvs(n)"
   ]
  },
  {
   "cell_type": "code",
   "execution_count": 10,
   "metadata": {},
   "outputs": [],
   "source": [
    "SextIndex=[]\n",
    "SextStrength=[]\n",
    "for i in range(len(arc)):\n",
    "    if arc[i]['type']=='multipole_thin':\n",
    "        SextIndex.append(i)\n",
    "        SextStrength.append(arc[i]['KL_sext'])"
   ]
  },
  {
   "cell_type": "code",
   "execution_count": 11,
   "metadata": {},
   "outputs": [],
   "source": [
    "#%%\n",
    "def objFunc(arg): \n",
    "    target = impact.opt.id_generator()  # generage random directory name\n",
    "    while os.path.exists(target):  \n",
    "        target = impact.opt.id_generator()\n",
    "    shutil.copytree('origin', target)\n",
    "    os.chdir(target) # cd to the randome directory and\n",
    "    \n",
    "    arcTmp = arc.copy()\n",
    "    for i,j in enumerate(SextIndex):\n",
    "        arcTmp[j]['KL_sext']=arg[i]\n",
    "        \n",
    "    x=get_truncated_normal(sd=0.2,low=-0.4,upp=0.4,n=npt*5)\n",
    "    pData=np.zeros([npt,9])\n",
    "    pData[:,[0,1,2,3,5]]=x.reshape([npt,5])\n",
    "    pData[:,5] = pData[:,5]/0.2*Espread\n",
    "    pData[:,6] = q_m\n",
    "    pData[:,-1] = np.arange(1,npt+1)\n",
    "    \n",
    "    pData2 = norm2Impact(pData,bg0,bet0,-1)\n",
    "    impact.writeParticleData(pData2,ke,mass,freq)\n",
    "    impact.writeInputFile(beam,arcTmp)\n",
    "    impact.run(beam)\n",
    "    time.sleep(1)\n",
    "    if npt > impact.readLostAt(-1):\n",
    "        os.chdir('..')\n",
    "        shutil.rmtree(target)\n",
    "        return 1.0e22\n",
    "    pData2 = impact.readParticleData(999, ke, mass, freq, format_id=2)\n",
    "    pData2 = Impact2norm(pData2,bg0,bet0,1)\n",
    "\n",
    "    obj = np.sum((pData[:,:4]-pData2[:,:4])**2)\n",
    "    os.chdir('..')\n",
    "    shutil.rmtree(target)\n",
    "    return obj"
   ]
  },
  {
   "cell_type": "code",
   "execution_count": 12,
   "metadata": {},
   "outputs": [
    {
     "data": {
      "text/plain": [
       "0.022392061079935473"
      ]
     },
     "execution_count": 12,
     "metadata": {},
     "output_type": "execute_result"
    }
   ],
   "source": [
    "objFunc(SextStrength)"
   ]
  },
  {
   "cell_type": "code",
   "execution_count": 13,
   "metadata": {},
   "outputs": [],
   "source": [
    "#%% run optim\n",
    "bounds = [(-20.0,20.0)]*len(SextIndex)\n",
    "# result=impact.opt.differential_evolution(objFunc, bounds, ncore=32, popsize=128, \n",
    "#                                         disp=True, polish=False, maxtime=60*60) \n",
    "#                                         # stop running at maximum 1 min\n",
    "# print(result)\n",
    "# with open('result.12sext','wb') as fp:\n",
    "#     pickle.dump(result,fp)"
   ]
  },
  {
   "cell_type": "code",
   "execution_count": 14,
   "metadata": {},
   "outputs": [
    {
     "data": {
      "text/plain": [
       "0.004513345473667409"
      ]
     },
     "execution_count": 14,
     "metadata": {},
     "output_type": "execute_result"
    }
   ],
   "source": [
    "with open('result.12sext','rb') as f:\n",
    "    result = pickle.load(f)\n",
    "x = (result.population[0,:] - 0.5)*40.0\n",
    "objFunc(x)"
   ]
  },
  {
   "cell_type": "code",
   "execution_count": 15,
   "metadata": {},
   "outputs": [],
   "source": [
    "# while True:\n",
    "#     previous_result = result\n",
    "#     result = impact.opt.differential_evolution(objFunc, bounds, ncore=32, \n",
    "#                                            prev_result=previous_result, \n",
    "#                                            disp=True, polish=False, maxtime=60*60)\n",
    "#     with open('result.12sext','wb') as fp:\n",
    "#         pickle.dump(result,fp)\n",
    "#         if hasattr(result,'x'): \n",
    "#             break"
   ]
  },
  {
   "cell_type": "code",
   "execution_count": null,
   "metadata": {},
   "outputs": [],
   "source": []
  }
 ],
 "metadata": {
  "kernelspec": {
   "display_name": "Python 3",
   "language": "python",
   "name": "python3"
  },
  "language_info": {
   "codemirror_mode": {
    "name": "ipython",
    "version": 3
   },
   "file_extension": ".py",
   "mimetype": "text/x-python",
   "name": "python",
   "nbconvert_exporter": "python",
   "pygments_lexer": "ipython3",
   "version": "3.6.5"
  }
 },
 "nbformat": 4,
 "nbformat_minor": 2
}
