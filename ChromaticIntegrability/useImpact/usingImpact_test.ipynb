{
 "cells": [
  {
   "cell_type": "code",
   "execution_count": 1,
   "metadata": {},
   "outputs": [],
   "source": [
    "import os\n",
    "import numpy as np\n",
    "import pickle\n",
    "import shutil \n",
    "import pImpactR as impact\n",
    "import matplotlib.pyplot as plt"
   ]
  },
  {
   "cell_type": "markdown",
   "metadata": {},
   "source": [
    "# Simulation Setting"
   ]
  },
  {
   "cell_type": "code",
   "execution_count": 2,
   "metadata": {},
   "outputs": [
    {
     "name": "stdout",
     "output_type": "stream",
     "text": [
      "8192\n"
     ]
    }
   ],
   "source": [
    "npt = 2**13\n",
    "print(npt)\n",
    "Espread = 1.0e-3"
   ]
  },
  {
   "cell_type": "markdown",
   "metadata": {},
   "source": [
    "# Lattice"
   ]
  },
  {
   "cell_type": "code",
   "execution_count": 3,
   "metadata": {},
   "outputs": [
    {
     "name": "stdout",
     "output_type": "stream",
     "text": [
      "reading ImpactZ input file (\u001b[92mIOTA.Chris.in\u001b[0m)\n",
      "  : mpi task info .............................done\n",
      "  : simulation control parameters .............done\n",
      "  : space charge field solver, mesh info ......done\n",
      "  : dist-type,restart,subcycle,#of state ......done\n",
      "  : Multiple Charge State info ................done\n",
      "  : particle distribution info ................done\n",
      "  : beam reference orbit info .................done\n",
      "  : converting impact dist to twiss param......done\n",
      "  : lattice info ..............................done\n"
     ]
    }
   ],
   "source": [
    "beam,lattice=impact.readInputFile('IOTA.Chris.in')\n",
    "beam.nCore_y = 1\n",
    "beam.nCore_z = 1"
   ]
  },
  {
   "cell_type": "code",
   "execution_count": 4,
   "metadata": {},
   "outputs": [],
   "source": [
    "lattice = [ item for item in lattice if not item.type == 'write_raw_ptcl' ]\n",
    "lattice = [ item for item in lattice if not item.type == '-8' ]\n",
    "lattice[0].turns = 1\n",
    "for i in range(len(lattice)):\n",
    "    if 'length' in lattice[i].keys():\n",
    "        lattice[i].n_sckick = int(np.ceil(lattice[i].length*80))\n",
    "elemWrite = impact.getElem('write_raw_ptcl')\n",
    "elemWrite.file_id   = 999\n",
    "elemWrite.format_id = 2\n",
    "lattice.append(elemWrite)"
   ]
  },
  {
   "cell_type": "code",
   "execution_count": 5,
   "metadata": {},
   "outputs": [],
   "source": [
    "NL_nu = lattice[1].tune_advance\n",
    "NL_L  = lattice[1].length\n",
    "NL_c  = 0.01\n",
    "alfx = np.tan(np.pi*NL_nu)\n",
    "betx = NL_L/np.sin(2.0*np.pi*NL_nu)"
   ]
  },
  {
   "cell_type": "code",
   "execution_count": 6,
   "metadata": {},
   "outputs": [
    {
     "data": {
      "text/plain": [
       "\n",
       "             length: 1.8 [m]\n",
       "           n_sckick: 144 [1]\n",
       "              n_map: 100 [1]\n",
       "         strength_t: 0.4\n",
       " transverse_scale_c: 0.01\n",
       "        pipe_radius: 10.0 [m]\n",
       "       tune_advance: 0.3\n",
       "               type: 'nonlinear_insert'"
      ]
     },
     "execution_count": 6,
     "metadata": {},
     "output_type": "execute_result"
    }
   ],
   "source": [
    "arc = lattice.copy()\n",
    "arc.pop(1)"
   ]
  },
  {
   "cell_type": "markdown",
   "metadata": {},
   "source": [
    "### lattice TEST: is the arc symmetirc (superperid=2) ? \n",
    "- yes for the layout\n",
    "- no for the magnet strength"
   ]
  },
  {
   "cell_type": "code",
   "execution_count": 7,
   "metadata": {
    "scrolled": true
   },
   "outputs": [
    {
     "name": "stdout",
     "output_type": "stream",
     "text": [
      "3 \n",
      "      length: 0.21 [m]\n",
      "    n_sckick: 17 [1]\n",
      "       n_map: 20 [1]\n",
      "          B1: -7.356207400000001 [T/m]\n",
      "     file_id: -1\n",
      " pipe_radius: 0.15 [m]\n",
      "  misalign_x: 0.0 [m]\n",
      "  misalign_y: 0.0 [m]\n",
      "  rotation_x: 0.0 [rad]\n",
      "  rotation_y: 0.0 [rad]\n",
      "  rotation_z: 0.0 [rad]\n",
      "        type: 'quad' \n",
      "      length: 0.21 [m]\n",
      "    n_sckick: 17 [1]\n",
      "       n_map: 20 [1]\n",
      "          B1: -8.24661099047619 [T/m]\n",
      "     file_id: -1\n",
      " pipe_radius: 0.15 [m]\n",
      "  misalign_x: 0.0 [m]\n",
      "  misalign_y: 0.0 [m]\n",
      "  rotation_x: 0.0 [rad]\n",
      "  rotation_y: 0.0 [rad]\n",
      "  rotation_z: 0.0 [rad]\n",
      "        type: 'quad'\n",
      "5 \n",
      "      length: 0.21 [m]\n",
      "    n_sckick: 17 [1]\n",
      "       n_map: 20 [1]\n",
      "          B1: 14.219895771428572 [T/m]\n",
      "     file_id: -1\n",
      " pipe_radius: 0.15 [m]\n",
      "  misalign_x: 0.0 [m]\n",
      "  misalign_y: 0.0 [m]\n",
      "  rotation_x: 0.0 [rad]\n",
      "  rotation_y: 0.0 [rad]\n",
      "  rotation_z: 0.0 [rad]\n",
      "        type: 'quad' \n",
      "      length: 0.21 [m]\n",
      "    n_sckick: 17 [1]\n",
      "       n_map: 20 [1]\n",
      "          B1: 16.236539680952383 [T/m]\n",
      "     file_id: -1\n",
      " pipe_radius: 0.15 [m]\n",
      "  misalign_x: 0.0 [m]\n",
      "  misalign_y: 0.0 [m]\n",
      "  rotation_x: 0.0 [rad]\n",
      "  rotation_y: 0.0 [rad]\n",
      "  rotation_z: 0.0 [rad]\n",
      "        type: 'quad'\n",
      "7 \n",
      "      length: 0.21 [m]\n",
      "    n_sckick: 17 [1]\n",
      "       n_map: 20 [1]\n",
      "          B1: -12.550091747619048 [T/m]\n",
      "     file_id: -1\n",
      " pipe_radius: 0.15 [m]\n",
      "  misalign_x: 0.0 [m]\n",
      "  misalign_y: 0.0 [m]\n",
      "  rotation_x: 0.0 [rad]\n",
      "  rotation_y: 0.0 [rad]\n",
      "  rotation_z: 0.0 [rad]\n",
      "        type: 'quad' \n",
      "      length: 0.21 [m]\n",
      "    n_sckick: 17 [1]\n",
      "       n_map: 20 [1]\n",
      "          B1: -10.86256000952381 [T/m]\n",
      "     file_id: -1\n",
      " pipe_radius: 0.15 [m]\n",
      "  misalign_x: 0.0 [m]\n",
      "  misalign_y: 0.0 [m]\n",
      "  rotation_x: 0.0 [rad]\n",
      "  rotation_y: 0.0 [rad]\n",
      "  rotation_z: 0.0 [rad]\n",
      "        type: 'quad'\n"
     ]
    }
   ],
   "source": [
    "for i in range(1,10):\n",
    "    if arc[i] != arc[-i-1]:\n",
    "        print(i,arc[i],arc[-i-1])"
   ]
  },
  {
   "cell_type": "markdown",
   "metadata": {},
   "source": [
    "# Number of sextupoles"
   ]
  },
  {
   "cell_type": "code",
   "execution_count": 8,
   "metadata": {},
   "outputs": [
    {
     "name": "stdout",
     "output_type": "stream",
     "text": [
      "0.15\n",
      "0.15\n",
      "0.15\n",
      "0.15\n",
      "0.15\n",
      "0.15\n",
      "0.15\n",
      "0.15\n",
      "0.15\n",
      "0.15\n",
      "0.15\n",
      "0.15\n",
      "nSext= 12\n"
     ]
    }
   ],
   "source": [
    "nSext = 0\n",
    "for item in lattice:\n",
    "    if item.type == 'multipole_thin':\n",
    "        print(item.KL_sext)\n",
    "        nSext = nSext+1\n",
    "print('nSext=',nSext)"
   ]
  },
  {
   "cell_type": "markdown",
   "metadata": {},
   "source": [
    "# Prepare particles"
   ]
  },
  {
   "cell_type": "markdown",
   "metadata": {},
   "source": [
    "### beam parameter"
   ]
  },
  {
   "cell_type": "code",
   "execution_count": 9,
   "metadata": {},
   "outputs": [],
   "source": [
    "ke = beam.kinetic_energy\n",
    "freq = beam.frequency\n",
    "mass = beam.mass\n",
    "gam0 = 1.0+beam.kinetic_energy/mass\n",
    "bet0 = np.sqrt(1.0-1.0/gam0**2)\n",
    "bg0  = np.sqrt(gam0**2-1.0)\n",
    "q_m  = beam.multi_charge.q_m[0]"
   ]
  },
  {
   "cell_type": "code",
   "execution_count": 10,
   "metadata": {},
   "outputs": [
    {
     "data": {
      "image/png": "[encoded data removed]",
      "text/plain": [
       "<Figure size 432x288 with 1 Axes>"
      ]
     },
     "metadata": {},
     "output_type": "display_data"
    }
   ],
   "source": [
    "from scipy.stats import truncnorm\n",
    "\n",
    "def get_truncated_normal(mean=0, sd=1, low=0, upp=10,n=1):\n",
    "    f = truncnorm(\n",
    "        (low - mean) / sd, (upp - mean) / sd, loc=mean, scale=sd)\n",
    "    return f.rvs(n)\n",
    "\n",
    "x=get_truncated_normal(sd=0.1,low=-0.3,upp=0.3,n=npt*5)\n",
    "plt.hist(x);"
   ]
  },
  {
   "cell_type": "code",
   "execution_count": 11,
   "metadata": {},
   "outputs": [],
   "source": [
    "pData=np.zeros([npt,9])\n",
    "pData[:,[0,1,2,3,5]]=x.reshape([npt,5])\n",
    "pData[:,5] = pData[:,5]/0.1*Espread\n",
    "pData[:,6] = q_m\n",
    "pData[:,-1] = np.arange(1,npt+1)"
   ]
  },
  {
   "cell_type": "code",
   "execution_count": 12,
   "metadata": {},
   "outputs": [
    {
     "data": {
      "image/png": "[encoded data removed]",
      "text/plain": [
       "<Figure size 504x216 with 2 Axes>"
      ]
     },
     "metadata": {},
     "output_type": "display_data"
    }
   ],
   "source": [
    "plt.figure(figsize=(7,3))\n",
    "\n",
    "plt.subplot(1,2,1)\n",
    "plt.scatter(pData[:,0],pData[:,2],s=4.0);\n",
    "plt.xlabel('$x_n$')\n",
    "plt.ylabel('$y_n$')\n",
    "\n",
    "plt.subplot(1,2,2)\n",
    "plt.hist(pData[:,5],bins=20);\n",
    "plt.xlabel('$\\delta$')\n",
    "plt.ylabel('count')\n",
    "\n",
    "plt.tight_layout()\n",
    "plt.savefig('initial_pData.png',dpi=120)"
   ]
  },
  {
   "cell_type": "code",
   "execution_count": 13,
   "metadata": {},
   "outputs": [],
   "source": [
    "def Impact2norm(data_in,bg0,bet0,sign=1):\n",
    "    data=data_in.copy()\n",
    "    data[:,5] = -(np.sqrt(1.0-2.0*data[:,5]/(bet0*bg0)+data[:,5]**2/bg0**2)-1.0)/mass\n",
    "    data[:,1] = (data[:,0]*alfx*sign/np.sqrt(betx) + data[:,1]/(1+data[:,5])*np.sqrt(betx))/NL_c\n",
    "    data[:,3] = (data[:,2]*alfx*sign/np.sqrt(betx) + data[:,3]/(1+data[:,5])*np.sqrt(betx))/NL_c\n",
    "    data[:,0] = data[:,0]/(np.sqrt(betx)*NL_c)\n",
    "    data[:,2] = data[:,2]/(np.sqrt(betx)*NL_c)\n",
    "    return data\n",
    "    \n",
    "def norm2Impact(data_in,bg0,bet0,sign=1):\n",
    "    data=data_in.copy()\n",
    "    data[:,1] = (-data[:,0]*alfx*sign + data[:,1])*NL_c/np.sqrt(betx)*(1+data[:,5])\n",
    "    data[:,3] = (-data[:,2]*alfx*sign + data[:,3])*NL_c/np.sqrt(betx)*(1+data[:,5])\n",
    "    data[:,0] = data[:,0]*np.sqrt(betx)*NL_c\n",
    "    data[:,2] = data[:,2]*np.sqrt(betx)*NL_c\n",
    "    data[:,5] = (bg0*np.sqrt(1/bet0**2+2.0*data[:,5]+data[:,5]**2)-bg0/bet0)*mass\n",
    "    return data"
   ]
  },
  {
   "cell_type": "code",
   "execution_count": 14,
   "metadata": {},
   "outputs": [
    {
     "data": {
      "text/plain": [
       "0"
      ]
     },
     "execution_count": 14,
     "metadata": {},
     "output_type": "execute_result"
    }
   ],
   "source": [
    "pDataIn = norm2Impact(pData,bg0,bet0,-1)\n",
    "impact.writeParticleData(pDataIn,ke,mass,freq)\n",
    "impact.writeInputFile(beam,arc)\n",
    "impact.run(beam)"
   ]
  },
  {
   "cell_type": "code",
   "execution_count": 16,
   "metadata": {},
   "outputs": [],
   "source": [
    "pDataOut = impact.readParticleData(999, ke, mass, freq, format_id=2)"
   ]
  },
  {
   "cell_type": "code",
   "execution_count": 17,
   "metadata": {},
   "outputs": [],
   "source": [
    "pData2 = Impact2norm(pDataOut,bg0,bet0,1)"
   ]
  },
  {
   "cell_type": "code",
   "execution_count": null,
   "metadata": {},
   "outputs": [],
   "source": []
  }
 ],
 "metadata": {
  "kernelspec": {
   "display_name": "Python 3",
   "language": "python",
   "name": "python3"
  },
  "language_info": {
   "codemirror_mode": {
    "name": "ipython",
    "version": 3
   },
   "file_extension": ".py",
   "mimetype": "text/x-python",
   "name": "python",
   "nbconvert_exporter": "python",
   "pygments_lexer": "ipython3",
   "version": "3.6.5"
  }
 },
 "nbformat": 4,
 "nbformat_minor": 2
}
