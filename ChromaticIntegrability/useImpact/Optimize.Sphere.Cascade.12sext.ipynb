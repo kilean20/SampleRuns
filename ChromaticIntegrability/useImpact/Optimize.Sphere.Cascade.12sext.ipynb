{
 "cells": [
  {
   "cell_type": "code",
   "execution_count": 1,
   "metadata": {},
   "outputs": [],
   "source": [
    "import os\n",
    "import numpy as np\n",
    "import pickle\n",
    "import shutil \n",
    "import pImpactR as impact\n",
    "import matplotlib.pyplot as plt\n",
    "import time\n",
    "from copy import deepcopy as copy"
   ]
  },
  {
   "cell_type": "markdown",
   "metadata": {},
   "source": [
    "# Simulation Setting"
   ]
  },
  {
   "cell_type": "code",
   "execution_count": 2,
   "metadata": {},
   "outputs": [],
   "source": [
    "npt = 1024  # must be larger than 1024\n",
    "Espread = 5.0e-3\n",
    "Rsphere = 0.34\n",
    "pipe_radius = 0.02\n",
    "nTurn = 128\n",
    "subTurn = 4"
   ]
  },
  {
   "cell_type": "markdown",
   "metadata": {},
   "source": [
    "# Lattice"
   ]
  },
  {
   "cell_type": "code",
   "execution_count": 3,
   "metadata": {},
   "outputs": [
    {
     "name": "stdout",
     "output_type": "stream",
     "text": [
      "reading ImpactZ input file (\u001b[92mIOTA.Chris.in\u001b[0m)\n",
      "  : mpi task info .............................done\n",
      "  : simulation control parameters .............done\n",
      "  : space charge field solver, mesh info ......done\n",
      "  : dist-type,restart,subcycle,#of state ......done\n",
      "  : Multiple Charge State info ................done\n",
      "  : particle distribution info ................done\n",
      "  : beam reference orbit info .................done\n",
      "  : converting impact dist to twiss param......done\n",
      "  : lattice info ..............................done\n"
     ]
    }
   ],
   "source": [
    "beam,lattice=impact.readInputFile('IOTA.Chris.in')\n",
    "beam.nCore_y = 1\n",
    "beam.nCore_z = 1\n",
    "beam.n_particles = npt"
   ]
  },
  {
   "cell_type": "code",
   "execution_count": 4,
   "metadata": {},
   "outputs": [],
   "source": [
    "lattice = [ item for item in lattice if not item.type == 'write_raw_ptcl' ]\n",
    "lattice = [ item for item in lattice if not item.type == '-8' ]\n",
    "lattice[0].turns = 1\n",
    "for i in range(len(lattice)):\n",
    "    if 'length' in lattice[i].keys():\n",
    "        lattice[i].n_sckick = int(np.ceil(lattice[i].length*80))\n",
    "        lattice[i].n_map = 1\n",
    "    if 'pipe_radius' in lattice[i].keys() and lattice[i].type!='dipole':\n",
    "        lattice[i].pipe_radius = pipe_radius\n",
    "    if 'dipole' == lattice[i].type:\n",
    "        if lattice[i].file_id < 300:\n",
    "            lattice[i].file_id = 350\n",
    "            lattice[i].pipe_radius = lattice[i].pipe_radius*2\n",
    "        \n",
    "elemWrite = impact.getElem('write_raw_ptcl')\n",
    "elemWrite.file_id   = 999\n",
    "elemWrite.format_id = 2\n",
    "lattice.append(elemWrite)"
   ]
  },
  {
   "cell_type": "code",
   "execution_count": 5,
   "metadata": {},
   "outputs": [],
   "source": [
    "arc = lattice.copy()\n",
    "nlinsert = arc.pop(1)"
   ]
  },
  {
   "cell_type": "code",
   "execution_count": 6,
   "metadata": {},
   "outputs": [
    {
     "data": {
      "text/plain": [
       "1.4544633270832747"
      ]
     },
     "execution_count": 6,
     "metadata": {},
     "output_type": "execute_result"
    }
   ],
   "source": [
    "NL_nu = nlinsert.tune_advance\n",
    "NL_L  = nlinsert.length\n",
    "NL_c  = nlinsert.transverse_scale_c\n",
    "NL_t  = nlinsert.strength_t\n",
    "alfx = np.tan(np.pi*NL_nu)\n",
    "betx = NL_L/np.sin(2.0*np.pi*NL_nu)\n",
    "k = 2*alfx/betx\n",
    "k"
   ]
  },
  {
   "cell_type": "code",
   "execution_count": 7,
   "metadata": {},
   "outputs": [],
   "source": [
    "nlinsert.n_sckick = 2\n",
    "nlinsert.n_map = 50\n",
    "\n",
    "elemTBT = impact.getElem('TBT_integral')\n",
    "elemTBT.strength_t = NL_t\n",
    "elemTBT.transverse_scale_c = NL_c\n",
    "elemTBT.betx = betx\n",
    "elemTBT.alfx = alfx\n",
    "elemTBT.file_id = 10\n",
    "elemTBT.pID_begin = 1\n",
    "elemTBT.pID_end = npt\n",
    "\n",
    "lattice.insert(-1,elemTBT)\n",
    "\n",
    "initInv = copy([lattice[0],lattice[-2]])\n",
    "beam.distribution.file_id = 999"
   ]
  },
  {
   "cell_type": "code",
   "execution_count": 8,
   "metadata": {},
   "outputs": [],
   "source": [
    "ke = beam.kinetic_energy\n",
    "freq = beam.frequency\n",
    "mass = beam.mass\n",
    "gam0 = 1.0+beam.kinetic_energy/mass\n",
    "bet0 = np.sqrt(1.0-1.0/gam0**2)\n",
    "bg0  = np.sqrt(gam0**2-1.0)\n",
    "q_m  = beam.multi_charge.q_m[0]"
   ]
  },
  {
   "cell_type": "code",
   "execution_count": 9,
   "metadata": {},
   "outputs": [],
   "source": [
    "def Impact2norm(data_in,bg0,bet0,sign=1):\n",
    "    data=data_in.copy()\n",
    "    data[:,5] = -(np.sqrt(1.0-2.0*data[:,5]/mass/(bet0*bg0)+(data[:,5]/mass)**2/bg0**2)-1.0)\n",
    "    data[:,1] = (data[:,0]*alfx*sign/np.sqrt(betx) + data[:,1]/(1+data[:,5])*np.sqrt(betx))/NL_c\n",
    "    data[:,3] = (data[:,2]*alfx*sign/np.sqrt(betx) + data[:,3]/(1+data[:,5])*np.sqrt(betx))/NL_c\n",
    "    data[:,0] = data[:,0]/(np.sqrt(betx)*NL_c)\n",
    "    data[:,2] = data[:,2]/(np.sqrt(betx)*NL_c)\n",
    "    return data\n",
    "    \n",
    "def norm2Impact(data_in,bg0,bet0,sign=1):\n",
    "    data=data_in.copy()\n",
    "    data[:,1] = (-data[:,0]*alfx*sign + data[:,1])*NL_c/np.sqrt(betx)*(1+data[:,5])\n",
    "    data[:,3] = (-data[:,2]*alfx*sign + data[:,3])*NL_c/np.sqrt(betx)*(1+data[:,5])\n",
    "    data[:,0] = data[:,0]*np.sqrt(betx)*NL_c\n",
    "    data[:,2] = data[:,2]*np.sqrt(betx)*NL_c\n",
    "    data[:,5] = (bg0*np.sqrt(1/bet0**2+2.0*data[:,5]+data[:,5]**2)-bg0/bet0)*mass\n",
    "    return data"
   ]
  },
  {
   "cell_type": "code",
   "execution_count": 10,
   "metadata": {},
   "outputs": [],
   "source": [
    "SextIndex=[]\n",
    "SextStrength=[]\n",
    "for i in range(len(arc)):\n",
    "    if arc[i]['type']=='multipole_thin':\n",
    "        SextIndex.append(i)\n",
    "        SextStrength.append(arc[i]['KL_sext'])\n",
    "nParam = len(SextIndex)"
   ]
  },
  {
   "cell_type": "code",
   "execution_count": 11,
   "metadata": {},
   "outputs": [],
   "source": [
    "def getLost():\n",
    "    with open('lost_partcl.data') as f:\n",
    "        for i, l in enumerate(f):\n",
    "            pass\n",
    "    return i"
   ]
  },
  {
   "cell_type": "code",
   "execution_count": 12,
   "metadata": {},
   "outputs": [],
   "source": [
    "def getTBTobj(TBT,TBT0):\n",
    "    obj=0.0\n",
    "    for i in range(subTurn):\n",
    "        obj=obj + np.sum((TBT[i,0,:]/TBT0[0,0,:]-1.0)**2) + np.sum((TBT[i,1,:]/TBT0[0,1,:]-1.0)**2)\n",
    "    return np.sqrt(obj)/(npt*2)"
   ]
  },
  {
   "cell_type": "code",
   "execution_count": 13,
   "metadata": {},
   "outputs": [],
   "source": [
    "pData=np.zeros([npt,9])\n",
    "pData[:,6]  = q_m\n",
    "pData[:,-1] = np.arange(1,npt+1)\n",
    "\n",
    "\n",
    "def objFunc(arg): \n",
    "    # multipole strength regularization\n",
    "    obj1 = 3.0*np.sqrt(np.sum(np.array(arg)**2)/nParam)+0.1\n",
    "    if obj1 > 1.0:\n",
    "        return obj1\n",
    "    \n",
    "    target = impact.opt.id_generator()  # generage random directory name\n",
    "    while os.path.exists(target):  \n",
    "        target = impact.opt.id_generator()\n",
    "    os.mkdir(target)\n",
    "    os.chdir(target) # cd to the randome directory and\n",
    "    \n",
    "    for i,j in enumerate(SextIndex):\n",
    "        arc[j]['KL_sext']=20.0*arg[i]\n",
    "    \n",
    "    # prepare particles\n",
    "    x = np.random.random([npt,4])\n",
    "    c0 = np.cos(x[:,0])\n",
    "    s0 = np.sin(x[:,0])\n",
    "    c1 = np.cos(x[:,1])\n",
    "    s1 = np.sin(x[:,1])\n",
    "    c2 = np.cos(x[:,2])\n",
    "    s2 = np.sin(x[:,2])\n",
    "    pData[:,0] = Rsphere*c0\n",
    "    pData[:,1] = Rsphere*s0*c1\n",
    "    pData[:,2] = Rsphere*s0*s1*c2\n",
    "    pData[:,3] = Rsphere*s0*s1*s2\n",
    "    pData[:,5] = (x[:,3]-0.5)*Espread\n",
    "    \n",
    "    # arc objective\n",
    "    beam.distribution.distribution_type='ReadFile'\n",
    "    impact.writeParticleData(norm2Impact(pData,bg0,bet0,-1),ke,mass,freq)\n",
    "    arc[0].turns=1\n",
    "    arc[-1].turn=1\n",
    "    impact.writeInputFile(beam,arc)\n",
    "    impact.run()\n",
    "    nLost = getLost()\n",
    "    if 0 < nLost:\n",
    "        os.chdir('..')\n",
    "        shutil.rmtree(target)\n",
    "        return nLost*obj1\n",
    "    pData2 = impact.readParticleData(999, ke, mass, freq, format_id=2)\n",
    "    pData2 = Impact2norm(pData2,bg0,bet0,1)\n",
    "    obj2 = np.sqrt(np.sum((pData[:,:4]-pData2[:,:4])**2))/(4*npt*Rsphere)*20\n",
    "    if obj2 > 1.0:\n",
    "        os.chdir('..')\n",
    "        shutil.rmtree(target)\n",
    "        return obj1*obj2\n",
    "    \n",
    "    # first subTurns over iota ring for invariants preservation objective\n",
    "    beam.n_particles = npt\n",
    "    lattice[0].turns=4\n",
    "    lattice[-1].turn=4\n",
    "    impact.writeParticleData(norm2Impact(pData,bg0,bet0,1),ke,mass,freq)\n",
    "    impact.writeInputFile(beam,lattice)\n",
    "    impact.run()\n",
    "    nLost = getLost()\n",
    "    if 0 < nLost:\n",
    "        os.chdir('..')\n",
    "        shutil.rmtree(target)\n",
    "        return nLost*obj1*0.8\n",
    "    dummy,TBT = impact.readTBT_integral(10)\n",
    "    impact.writeInputFile(beam,initInv)\n",
    "    impact.run()\n",
    "    dummy,TBT0 = impact.readTBT_integral(10)\n",
    "    obj3 = getTBTobj(TBT,TBT0)*20\n",
    "    if obj3 > 1.0:\n",
    "        return obj1*obj2*obj3\n",
    "\n",
    "    # consecutive turns over iota ring for invariants preservation objective\n",
    "    beam.distribution.distribution_type='ReadFile_binary'\n",
    "    impact.writeInputFile(beam,lattice)\n",
    "    obj3tot=obj3\n",
    "    for i in range(int(nTurn/subTurn)-1):\n",
    "        impact.run()\n",
    "        nLost = getLost()\n",
    "        if 0 < nLost:\n",
    "            os.chdir('..')\n",
    "            shutil.rmtree(target)\n",
    "            return nLost*obj1*(0.8**(i+1))\n",
    "        dummy,TBT = impact.readTBT_integral(10)\n",
    "        dummy = getTBTobj(TBT,TBT0)*20\n",
    "        if dummy > 1.0:\n",
    "            os.chdir('..')\n",
    "            shutil.rmtree(target)\n",
    "            return obj1*obj2*obj3\n",
    "        obj3tot = obj3tot+dummy\n",
    "        obj3 = (obj3tot/(i+2))*(0.8**(i+1))\n",
    "    \n",
    "    os.chdir('..')\n",
    "    shutil.rmtree(target)\n",
    "    return obj1*obj2*obj3"
   ]
  },
  {
   "cell_type": "code",
   "execution_count": 14,
   "metadata": {},
   "outputs": [],
   "source": [
    "# objFunc([0]*nParam)"
   ]
  },
  {
   "cell_type": "code",
   "execution_count": 15,
   "metadata": {},
   "outputs": [],
   "source": [
    "#%% run optim\n",
    "bounds = [(-1.0,1.0)]*nParam\n",
    "# result=impact.opt.differential_evolution(objFunc, bounds, ncore=32, popsize=64, \n",
    "#                                         disp=True, polish=False, maxtime=60*30) \n",
    "#                                         # stop running at maximum 1 min\n",
    "# print(result)\n",
    "# with open('result.sphere.cascade.12sext','wb') as fp:\n",
    "#     pickle.dump(result,fp)"
   ]
  },
  {
   "cell_type": "code",
   "execution_count": 16,
   "metadata": {},
   "outputs": [],
   "source": [
    "with open('result.sphere.cascade.12sext','rb') as f:\n",
    "    result = pickle.load(f)"
   ]
  },
  {
   "cell_type": "code",
   "execution_count": null,
   "metadata": {},
   "outputs": [
    {
     "name": "stdout",
     "output_type": "stream",
     "text": [
      "differential_evolution step 0: f(x)= 1.87512e-08\n"
     ]
    }
   ],
   "source": [
    "while True:\n",
    "    previous_result = result\n",
    "    result = impact.opt.differential_evolution(objFunc, bounds, ncore=8, \n",
    "                                           prev_result=previous_result, \n",
    "                                           disp=True, polish=True, maxtime=60*30)\n",
    "    with open('result.sphere.cascade.12sext','wb') as fp:\n",
    "        pickle.dump(result,fp)\n",
    "        if hasattr(result,'x'): \n",
    "            break"
   ]
  }
 ],
 "metadata": {
  "kernelspec": {
   "display_name": "Python 3",
   "language": "python",
   "name": "python3"
  },
  "language_info": {
   "codemirror_mode": {
    "name": "ipython",
    "version": 3
   },
   "file_extension": ".py",
   "mimetype": "text/x-python",
   "name": "python",
   "nbconvert_exporter": "python",
   "pygments_lexer": "ipython3",
   "version": "3.6.5"
  }
 },
 "nbformat": 4,
 "nbformat_minor": 2
}
