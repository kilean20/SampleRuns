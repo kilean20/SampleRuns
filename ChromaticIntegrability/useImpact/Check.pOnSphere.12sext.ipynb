{
 "cells": [
  {
   "cell_type": "code",
   "execution_count": null,
   "metadata": {},
   "outputs": [],
   "source": [
    "import os\n",
    "import numpy as np\n",
    "import pickle\n",
    "import shutil \n",
    "import pImpactR as impact\n",
    "import matplotlib.pyplot as plt\n",
    "import time"
   ]
  },
  {
   "cell_type": "markdown",
   "metadata": {},
   "source": [
    "# Simulation Setting"
   ]
  },
  {
   "cell_type": "code",
   "execution_count": null,
   "metadata": {},
   "outputs": [],
   "source": [
    "npt = 1024\n",
    "nTurn = 2048\n",
    "Espread = 2.0e-3\n",
    "pipe_radius = 0.029\n",
    "std=0.2\n",
    "Rsphere = 0.5"
   ]
  },
  {
   "cell_type": "markdown",
   "metadata": {},
   "source": [
    "# Prepare Lattice"
   ]
  },
  {
   "cell_type": "code",
   "execution_count": null,
   "metadata": {},
   "outputs": [],
   "source": [
    "beam,lattice=impact.readInputFile('IOTA.Chris.in')\n",
    "beam.nCore_y = 4\n",
    "beam.nCore_z = 4"
   ]
  },
  {
   "cell_type": "code",
   "execution_count": null,
   "metadata": {},
   "outputs": [],
   "source": [
    "lattice = [ item for item in lattice if not item.type == 'write_raw_ptcl' ]\n",
    "lattice = [ item for item in lattice if not item.type == '-8' ]\n",
    "lattice[0].turns = 1\n",
    "for i in range(len(lattice)):\n",
    "    if 'length' in lattice[i].keys():\n",
    "        lattice[i].n_sckick = int(np.ceil(lattice[i].length*40))\n",
    "        lattice[i].n_map = 1\n",
    "    if 'pipe_radius' in lattice[i].keys() and lattice[i].type!='dipole':\n",
    "        lattice[i].pipe_radius = pipe_radius"
   ]
  },
  {
   "cell_type": "code",
   "execution_count": null,
   "metadata": {},
   "outputs": [],
   "source": [
    "loop = lattice[0]\n",
    "loop.turns = nTurn\n",
    "nlinsert = lattice[1]\n",
    "nlinsert.n_sckick = 2\n",
    "nlinsert.n_map = 50\n",
    "beam.n_particles = npt"
   ]
  },
  {
   "cell_type": "code",
   "execution_count": null,
   "metadata": {},
   "outputs": [],
   "source": [
    "NL_nu = nlinsert.tune_advance\n",
    "NL_L  = nlinsert.length\n",
    "NL_c  = nlinsert.transverse_scale_c\n",
    "NL_t  = nlinsert.strength_t\n",
    "alfx = np.tan(np.pi*NL_nu)\n",
    "betx = NL_L/np.sin(2.0*np.pi*NL_nu)\n",
    "k = 2*alfx/betx\n",
    "k"
   ]
  },
  {
   "cell_type": "code",
   "execution_count": null,
   "metadata": {},
   "outputs": [],
   "source": [
    "nlinsert"
   ]
  },
  {
   "cell_type": "code",
   "execution_count": null,
   "metadata": {},
   "outputs": [],
   "source": [
    "ke = beam.kinetic_energy\n",
    "freq = beam.frequency\n",
    "mass = beam.mass\n",
    "gam0 = 1.0+beam.kinetic_energy/mass\n",
    "bet0 = np.sqrt(1.0-1.0/gam0**2)\n",
    "bg0  = np.sqrt(gam0**2-1.0)\n",
    "q_m  = beam.multi_charge.q_m[0]"
   ]
  },
  {
   "cell_type": "code",
   "execution_count": null,
   "metadata": {},
   "outputs": [],
   "source": [
    "elemTBT = impact.getElem('TBT_integral')\n",
    "elemTBT.strength_t = NL_t\n",
    "elemTBT.transverse_scale_c = NL_c\n",
    "elemTBT.betx = betx\n",
    "elemTBT.alfx = alfx\n",
    "elemTBT.file_id = 10\n",
    "elemTBT.pID_begin = 1\n",
    "elemTBT.pID_end = npt\n",
    "\n",
    "elemTBT_old = impact.getElem('TBT_integral_onMomentum')\n",
    "elemTBT_old.strength_t = NL_t\n",
    "elemTBT_old.transverse_scale_c = NL_c\n",
    "elemTBT_old.betx = betx\n",
    "elemTBT_old.alfx = alfx\n",
    "elemTBT_old.file_id = 11\n",
    "elemTBT_old.pID_begin = 1\n",
    "elemTBT_old.pID_end = npt\n",
    "\n",
    "lattice.append(elemTBT)\n",
    "lattice.append(elemTBT_old)"
   ]
  },
  {
   "cell_type": "markdown",
   "metadata": {},
   "source": [
    "# prepare particles"
   ]
  },
  {
   "cell_type": "code",
   "execution_count": null,
   "metadata": {},
   "outputs": [],
   "source": [
    "def Impact2norm(data_in,bg0,bet0,sign=1):\n",
    "    data=data_in.copy()\n",
    "    data[:,5] = -(np.sqrt(1.0-2.0*data[:,5]/mass/(bet0*bg0)+(data[:,5]/mass)**2/bg0**2)-1.0)\n",
    "    data[:,1] = (data[:,0]*alfx*sign/np.sqrt(betx) + data[:,1]/(1+data[:,5])*np.sqrt(betx))/NL_c\n",
    "    data[:,3] = (data[:,2]*alfx*sign/np.sqrt(betx) + data[:,3]/(1+data[:,5])*np.sqrt(betx))/NL_c\n",
    "    data[:,0] = data[:,0]/(np.sqrt(betx)*NL_c)\n",
    "    data[:,2] = data[:,2]/(np.sqrt(betx)*NL_c)\n",
    "    return data\n",
    "    \n",
    "def norm2Impact(data_in,bg0,bet0,sign=1):\n",
    "    data=data_in.copy()\n",
    "    data[:,1] = (-data[:,0]*alfx*sign + data[:,1])*NL_c/np.sqrt(betx)*(1+data[:,5])\n",
    "    data[:,3] = (-data[:,2]*alfx*sign + data[:,3])*NL_c/np.sqrt(betx)*(1+data[:,5])\n",
    "    data[:,0] = data[:,0]*np.sqrt(betx)*NL_c\n",
    "    data[:,2] = data[:,2]*np.sqrt(betx)*NL_c\n",
    "    data[:,5] = (bg0*np.sqrt(1/bet0**2+2.0*data[:,5]+data[:,5]**2)-bg0/bet0)*mass\n",
    "    return data"
   ]
  },
  {
   "cell_type": "code",
   "execution_count": null,
   "metadata": {},
   "outputs": [],
   "source": [
    "pData=np.zeros([npt,9])\n",
    "pData[:,6]  = q_m\n",
    "pData[:,-1] = np.arange(1,npt+1)\n",
    "\n",
    "x = np.random.random([npt,4])\n",
    "c0 = np.cos(x[:,0])\n",
    "s0 = np.sin(x[:,0])\n",
    "c1 = np.cos(x[:,1])\n",
    "s1 = np.sin(x[:,1])\n",
    "c2 = np.cos(x[:,2])\n",
    "s2 = np.sin(x[:,2])\n",
    "pData[:,0] = Rsphere*c0\n",
    "pData[:,1] = Rsphere*s0*c1\n",
    "pData[:,2] = Rsphere*s0*s1*c2\n",
    "pData[:,3] = Rsphere*s0*s1*s2\n",
    "pData[:,5] = (x[:,3]-0.5)*Espread\n",
    "\n",
    "impact.writeParticleData(norm2Impact(pData,bg0,bet0,1),ke,mass,freq)"
   ]
  },
  {
   "cell_type": "markdown",
   "metadata": {},
   "source": [
    "# Run"
   ]
  },
  {
   "cell_type": "code",
   "execution_count": null,
   "metadata": {},
   "outputs": [],
   "source": [
    "def getLost():\n",
    "    with open('lost_partcl.data') as f:\n",
    "        for i, l in enumerate(f):\n",
    "            pass\n",
    "    return i"
   ]
  },
  {
   "cell_type": "code",
   "execution_count": null,
   "metadata": {},
   "outputs": [],
   "source": [
    "impact.writeInputFile(beam,lattice)\n",
    "impact.run(beam)\n",
    "nLost0 = getLost()\n",
    "indOff0,TBToff0 = impact.readTBT_integral(10)\n",
    "indOn0,TBTon0 = impact.readTBT_integral_onMomentum(11)"
   ]
  },
  {
   "cell_type": "code",
   "execution_count": null,
   "metadata": {},
   "outputs": [],
   "source": [
    "with open('result.sphere.12sext','rb') as f:\n",
    "    result = pickle.load(f)\n",
    "    \n",
    "i=0\n",
    "for item in lattice:\n",
    "    if item.type=='multipole_thin':\n",
    "        item['KL_sext']=20.0*result.x[i]\n",
    "        i=i+1\n",
    "        \n",
    "impact.writeInputFile(beam,lattice)\n",
    "impact.run(beam)\n",
    "nLost1 = getLost()\n",
    "indOff1,TBToff1 = impact.readTBT_integral(10)\n",
    "indOn1,TBTon1 = impact.readTBT_integral_onMomentum(11)"
   ]
  },
  {
   "cell_type": "code",
   "execution_count": null,
   "metadata": {},
   "outputs": [],
   "source": [
    "print(nLost0,nLost1)"
   ]
  },
  {
   "cell_type": "code",
   "execution_count": null,
   "metadata": {},
   "outputs": [],
   "source": [
    "indOff0[:32]"
   ]
  },
  {
   "cell_type": "code",
   "execution_count": null,
   "metadata": {},
   "outputs": [],
   "source": [
    "indOff1[:32]"
   ]
  },
  {
   "cell_type": "code",
   "execution_count": null,
   "metadata": {},
   "outputs": [],
   "source": [
    "fig=plt.figure(figsize=(9,4))\n",
    "plt.subplot(2,2,1)\n",
    "for i in range(32):\n",
    "    plt.plot(TBToff0[:,0,i],marker='.',ls='',alpha=0.7)\n",
    "plt.subplot(2,2,2)\n",
    "for i in range(32):\n",
    "    plt.plot(TBToff0[:,1,i],marker='.',ls='',alpha=0.7)"
   ]
  },
  {
   "cell_type": "code",
   "execution_count": null,
   "metadata": {},
   "outputs": [],
   "source": [
    "fig=plt.figure(figsize=(9,4))\n",
    "plt.subplot(2,2,1)\n",
    "for i in range(32):\n",
    "    plt.plot(TBToff1[:,0,i],marker='.',ls='',alpha=0.7)\n",
    "plt.subplot(2,2,2)\n",
    "for i in range(32):\n",
    "    plt.plot(TBToff1[:,1,i],marker='.',ls='',alpha=0.7)"
   ]
  },
  {
   "cell_type": "code",
   "execution_count": null,
   "metadata": {},
   "outputs": [],
   "source": [
    "fig=plt.figure(figsize=(9,4))\n",
    "plt.subplot(2,2,1)\n",
    "for i in range(32):\n",
    "    plt.plot((TBToff0[:,0,i]/TBToff0[0,0,i]-1.0),marker='.',ls='',alpha=0.7)\n",
    "plt.subplot(2,2,2)\n",
    "for i in range(32):\n",
    "    plt.plot((TBToff0[:,1,i]/TBToff0[0,1,i]-1.0),marker='.',ls='',alpha=0.7)"
   ]
  },
  {
   "cell_type": "code",
   "execution_count": null,
   "metadata": {},
   "outputs": [],
   "source": [
    "fig=plt.figure(figsize=(9,4))\n",
    "plt.subplot(2,2,1)\n",
    "for i in range(32):\n",
    "    plt.plot((TBToff1[:,0,i]/TBToff1[0,0,i]-1.0),marker='.',ls='',alpha=0.7)\n",
    "plt.subplot(2,2,2)\n",
    "for i in range(32):\n",
    "    plt.plot((TBToff1[:,1,i]/TBToff1[0,1,i]-1.0),marker='.',ls='',alpha=0.7)"
   ]
  },
  {
   "cell_type": "code",
   "execution_count": null,
   "metadata": {},
   "outputs": [],
   "source": []
  }
 ],
 "metadata": {
  "kernelspec": {
   "display_name": "Python 3",
   "language": "python",
   "name": "python3"
  },
  "language_info": {
   "codemirror_mode": {
    "name": "ipython",
    "version": 3
   },
   "file_extension": ".py",
   "mimetype": "text/x-python",
   "name": "python",
   "nbconvert_exporter": "python",
   "pygments_lexer": "ipython3",
   "version": "3.6.5"
  }
 },
 "nbformat": 4,
 "nbformat_minor": 2
}
