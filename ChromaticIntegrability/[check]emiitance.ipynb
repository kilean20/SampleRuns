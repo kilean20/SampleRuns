{
 "cells": [
  {
   "cell_type": "code",
   "execution_count": 1,
   "metadata": {},
   "outputs": [],
   "source": [
    "import numpy as np\n",
    "import pImpactR as impact\n",
    "from copy import deepcopy as copy\n",
    "import matplotlib.pyplot as plt"
   ]
  },
  {
   "cell_type": "code",
   "execution_count": 2,
   "metadata": {},
   "outputs": [],
   "source": [
    "NL_t = 0.4\n",
    "NL_c = 0.01\n",
    "NL_L = 1.8\n",
    "NL_mu = 0.3\n",
    "\n",
    "# Me = 511005.0\n",
    "Me = 938.272045e6\n",
    "# ke = 100*1.0e6\n",
    "ke = 2.5*1.0e6\n",
    "energy = ke+Me\n",
    "freq = 30*1.0e6\n",
    "\n",
    "g = energy/Me\n",
    "bg = np.sqrt(g**2-1.0)\n",
    "\n",
    "emitN = 6.066503e-6\n",
    "\n",
    "turns = 100\n",
    "npt = 2**20\n",
    "\n",
    "alfaEntrance = np.tan(np.pi*NL_mu)\n",
    "betaEntrance = NL_L/np.sin(2.0*np.pi*NL_mu)"
   ]
  },
  {
   "cell_type": "markdown",
   "metadata": {},
   "source": [
    "# Prepare beam & lattice"
   ]
  },
  {
   "cell_type": "code",
   "execution_count": 3,
   "metadata": {},
   "outputs": [],
   "source": [
    "beam = impact.getBeam()\n",
    "beam.current = 0.0\n",
    "beam.kinetic_energy = ke\n",
    "beam.mass = Me\n",
    "beam.charge = -1.0\n",
    "beam.frequency = freq\n",
    "beam.nCore_y = 1\n",
    "beam.nCore_z = 1\n",
    "beam.n_particles = npt"
   ]
  },
  {
   "cell_type": "code",
   "execution_count": 4,
   "metadata": {},
   "outputs": [],
   "source": [
    "beam.distribution.distribution_type = 'IOTA_Waterbag'\n",
    "beam.distribution.NL_t = NL_t\n",
    "beam.distribution.NL_c = NL_c\n",
    "beam.distribution.betx  = betaEntrance\n",
    "beam.distribution.alfx  = alfaEntrance\n",
    "beam.distribution.emitx = emitN\n",
    "beam.distribution.betz  = 200\n",
    "beam.distribution.alfz  = 0.0\n",
    "beam.distribution.emitz = (0.1*ke*1.0e-6)**2*beam.distribution.betz\n",
    "# beam.distribution.offsetpz = 0.1*energy*1.0e-6"
   ]
  },
  {
   "cell_type": "code",
   "execution_count": 5,
   "metadata": {},
   "outputs": [],
   "source": [
    "lattice = [impact.getElem('loop')] \n",
    "lattice[0].turns=1\n",
    "\n",
    "writePdata = impact.getElem('write_raw_ptcl')\n",
    "writePdata.file_id=10\n",
    "writePdata.turn=1\n",
    "lattice.insert(1,writePdata)"
   ]
  },
  {
   "cell_type": "markdown",
   "metadata": {},
   "source": [
    "# run"
   ]
  },
  {
   "cell_type": "code",
   "execution_count": 6,
   "metadata": {},
   "outputs": [
    {
     "data": {
      "text/plain": [
       "0"
      ]
     },
     "execution_count": 6,
     "metadata": {},
     "output_type": "execute_result"
    }
   ],
   "source": [
    "impact.writeInputFile(beam,lattice)\n",
    "impact.run(beam)"
   ]
  },
  {
   "cell_type": "code",
   "execution_count": 7,
   "metadata": {},
   "outputs": [
    {
     "name": "stdout",
     "output_type": "stream",
     "text": [
      "  0.00000000E+00  0.80772693E-06  0.15392814E-02 -0.79129485E-06  0.15346149E-02  0.10644189E+01  0.11814980E-06\r\n",
      "  0.00000000E+00  0.80772693E-06  0.15392814E-02 -0.79129485E-06  0.15346149E-02  0.10644189E+01  0.11814980E-06\r\n",
      "  0.00000000E+00  0.80772693E-06  0.15392814E-02 -0.79129485E-06  0.15346149E-02  0.10644189E+01  0.11814980E-06\r\n",
      "  0.00000000E+00  0.80772693E-06  0.15392814E-02 -0.79129485E-06  0.15346149E-02  0.10644189E+01  0.11814980E-06\r\n"
     ]
    }
   ],
   "source": [
    "cat fort.24"
   ]
  },
  {
   "cell_type": "code",
   "execution_count": 8,
   "metadata": {},
   "outputs": [
    {
     "name": "stdout",
     "output_type": "stream",
     "text": [
      "  0.00000000E+00 -0.45902348E-05  0.36124992E-02  0.26574044E-05  0.28282255E-02  0.25006351E+01  0.27711970E-06\r\n",
      "  0.00000000E+00 -0.45902348E-05  0.36124992E-02  0.26574044E-05  0.28282255E-02  0.25006351E+01  0.27711970E-06\r\n",
      "  0.00000000E+00 -0.45902348E-05  0.36124992E-02  0.26574044E-05  0.28282255E-02  0.25006351E+01  0.27711970E-06\r\n",
      "  0.00000000E+00 -0.45902348E-05  0.36124992E-02  0.26574044E-05  0.28282255E-02  0.25006351E+01  0.27711970E-06\r\n"
     ]
    }
   ],
   "source": [
    "cat fort.25"
   ]
  },
  {
   "cell_type": "code",
   "execution_count": 9,
   "metadata": {},
   "outputs": [],
   "source": [
    "pData = impact.readParticleData(10,ke,Me,freq)"
   ]
  },
  {
   "cell_type": "code",
   "execution_count": 10,
   "metadata": {},
   "outputs": [
    {
     "name": "stdout",
     "output_type": "stream",
     "text": [
      "1.6174217644068788e-06 3.7936537236993254e-06\n"
     ]
    }
   ],
   "source": [
    "print(impact.util.RMSemittance(pData[:,0],pData[:,1]),impact.util.RMSemittance(pData[:,2],pData[:,3]))"
   ]
  },
  {
   "cell_type": "code",
   "execution_count": 11,
   "metadata": {},
   "outputs": [
    {
     "name": "stdout",
     "output_type": "stream",
     "text": [
      "1.617421747714411e-06 3.7936537302652508e-06\n"
     ]
    }
   ],
   "source": [
    "print(0.11814980E-06/bg,0.27711970E-06/bg)"
   ]
  }
 ],
 "metadata": {
  "kernelspec": {
   "display_name": "Python 3",
   "language": "python",
   "name": "python3"
  },
  "language_info": {
   "codemirror_mode": {
    "name": "ipython",
    "version": 3
   },
   "file_extension": ".py",
   "mimetype": "text/x-python",
   "name": "python",
   "nbconvert_exporter": "python",
   "pygments_lexer": "ipython3",
   "version": "3.6.5"
  }
 },
 "nbformat": 4,
 "nbformat_minor": 2
}
