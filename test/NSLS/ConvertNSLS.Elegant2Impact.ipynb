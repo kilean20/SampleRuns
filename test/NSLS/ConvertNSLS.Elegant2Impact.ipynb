{
 "cells": [
  {
   "cell_type": "code",
   "execution_count": 1,
   "metadata": {},
   "outputs": [],
   "source": [
    "import pImpactR as impact\n",
    "import numpy as np\n",
    "from copy import deepcopy as copy"
   ]
  },
  {
   "cell_type": "code",
   "execution_count": 2,
   "metadata": {},
   "outputs": [],
   "source": [
    "nturn = 1"
   ]
  },
  {
   "cell_type": "code",
   "execution_count": 3,
   "metadata": {},
   "outputs": [
    {
     "name": "stdout",
     "output_type": "stream",
     "text": [
      "elegant ksext of length 0.2 found. Converting to 10 drift-kick-drift thin element\n",
      "elegant ksext of length 0.2 found. Converting to 10 drift-kick-drift thin element\n",
      "elegant ksext of length 0.2 found. Converting to 10 drift-kick-drift thin element\n",
      "elegant ksext of length 0.2 found. Converting to 10 drift-kick-drift thin element\n",
      "elegant ksext of length 0.25 found. Converting to 13 drift-kick-drift thin element\n",
      "elegant ksext of length 0.2 found. Converting to 10 drift-kick-drift thin element\n",
      "elegant ksext of length 0.2 found. Converting to 10 drift-kick-drift thin element\n",
      "elegant ksext of length 0.2 found. Converting to 10 drift-kick-drift thin element\n",
      "elegant ksext of length 0.2 found. Converting to 10 drift-kick-drift thin element\n",
      "elegant ksext of length 0.2 found. Converting to 10 drift-kick-drift thin element\n",
      "elegant ksext of length 0.2 found. Converting to 10 drift-kick-drift thin element\n",
      "elegant ksext of length 0.2 found. Converting to 10 drift-kick-drift thin element\n",
      "elegant ksext of length 0.2 found. Converting to 10 drift-kick-drift thin element\n",
      "elegant ksext of length 0.25 found. Converting to 13 drift-kick-drift thin element\n",
      "elegant ksext of length 0.2 found. Converting to 10 drift-kick-drift thin element\n",
      "elegant ksext of length 0.2 found. Converting to 10 drift-kick-drift thin element\n",
      "elegant ksext of length 0.2 found. Converting to 10 drift-kick-drift thin element\n",
      "elegant ksext of length 0.2 found. Converting to 10 drift-kick-drift thin element\n"
     ]
    }
   ],
   "source": [
    "beam,lattice = impact.elegant2impact('NSLS2.lat',impact.util.Me,3.0e9,-1.0,min_sext_L=0.02)\n",
    "ke = beam.kinetic_energy\n",
    "mass = beam.mass\n",
    "freq = beam.frequency\n",
    "\n",
    "lattice.insert(0,impact.getElem('loop'))\n",
    "lattice[0].turns=nturn\n",
    "\n",
    "write = impact.getElem('write_raw_ptcl')\n",
    "write.file_id = 1111\n",
    "write.format_id = 2\n",
    "write.turn = nturn\n",
    "lattice.append(write)"
   ]
  },
  {
   "cell_type": "code",
   "execution_count": 4,
   "metadata": {},
   "outputs": [],
   "source": [
    "B = [(0.0,-1)]\n",
    "S = [(0.0,-1)]\n",
    "Q = [(0.0,-1)]\n",
    "L = 0\n",
    "for item in lattice:\n",
    "    if item.type == 'dipole':\n",
    "        B.append((L,-1))\n",
    "        B.append((L,1))\n",
    "        B.append((L+item.length,1))\n",
    "        B.append((L+item.length,-1))\n",
    "    if item.type == 'quad':\n",
    "        Q.append((L,-1))\n",
    "        Q.append((L,1))\n",
    "        Q.append((L+item.length,1))\n",
    "        Q.append((L+item.length,-1))\n",
    "    if 'length' in item.keys():\n",
    "        if item.length == 0.01 or item.length == 0.02:\n",
    "            S.append((L,-1))\n",
    "            S.append((L,1))\n",
    "            S.append((L+item.length,1))\n",
    "            S.append((L+item.length,-1))\n",
    "        L = L+item.length\n",
    "B=np.array(B)\n",
    "S=np.array(S)\n",
    "Q=np.array(Q)"
   ]
  },
  {
   "cell_type": "code",
   "execution_count": 5,
   "metadata": {},
   "outputs": [],
   "source": [
    "beam.n_particles=1\n",
    "# beam.distribution.distribution_type = 'Waterbag'\n",
    "# beam.distribution.offsetx = 0.01\n",
    "# beam.distribution.offsety = 0.01"
   ]
  },
  {
   "cell_type": "code",
   "execution_count": 6,
   "metadata": {},
   "outputs": [],
   "source": [
    "# for item in lattice:\n",
    "#     if item.type == 'multipole_thin':\n",
    "#         item.KL_sext=0.0"
   ]
  },
  {
   "cell_type": "code",
   "execution_count": 7,
   "metadata": {},
   "outputs": [
    {
     "name": "stderr",
     "output_type": "stream",
     "text": [
      "/home/kileanhwang/anaconda3/lib/python3.6/site-packages/h5py/__init__.py:36: FutureWarning: Conversion of the second argument of issubdtype from `float` to `np.floating` is deprecated. In future, it will be treated as `np.float64 == np.dtype(float).type`.\n",
      "  from ._conv import register_converters as _register_converters\n"
     ]
    }
   ],
   "source": [
    "import h5py\n",
    "f = h5py.File('Kilean_FB.h5', 'r')\n",
    "\n",
    "bw=f.get('bw').value\n",
    "fw=f.get('fw').value\n",
    "s=f.get('s').value\n",
    "\n",
    "f = h5py.File('Kilean_FB_linear.h5', 'r')\n",
    "\n",
    "bwL=f.get('bw').value\n",
    "fwL=f.get('fw').value\n",
    "sL=f.get('s').value"
   ]
  },
  {
   "cell_type": "code",
   "execution_count": 8,
   "metadata": {},
   "outputs": [],
   "source": [
    "q_m = beam.multi_charge.q_m[0]\n",
    "pData = np.zeros([1,9])\n",
    "pData[0,:4]=fw[0]\n",
    "pData[0,6]=q_m\n",
    "pData[0,-1]=1"
   ]
  },
  {
   "cell_type": "code",
   "execution_count": 9,
   "metadata": {},
   "outputs": [
    {
     "data": {
      "text/plain": [
       "52.79720000000009"
      ]
     },
     "execution_count": 9,
     "metadata": {},
     "output_type": "execute_result"
    }
   ],
   "source": [
    "L = 0\n",
    "for item in lattice:\n",
    "    if 'length' in item.keys():\n",
    "        L = L+item.length\n",
    "L"
   ]
  },
  {
   "cell_type": "code",
   "execution_count": 10,
   "metadata": {},
   "outputs": [],
   "source": [
    "impact.writeParticleData(pData,ke,mass,freq)\n",
    "impact.writeInputFile(beam,lattice)"
   ]
  },
  {
   "cell_type": "markdown",
   "metadata": {},
   "source": [
    "# Forward"
   ]
  },
  {
   "cell_type": "code",
   "execution_count": 11,
   "metadata": {},
   "outputs": [
    {
     "data": {
      "text/plain": [
       "0"
      ]
     },
     "execution_count": 11,
     "metadata": {},
     "output_type": "execute_result"
    }
   ],
   "source": [
    "impact.run(beam)"
   ]
  },
  {
   "cell_type": "code",
   "execution_count": 12,
   "metadata": {},
   "outputs": [],
   "source": [
    "!mv test.in test.forward.in"
   ]
  },
  {
   "cell_type": "code",
   "execution_count": 13,
   "metadata": {},
   "outputs": [
    {
     "data": {
      "text/plain": [
       "\n",
       " distribution_type: 'ReadFile'\n",
       "              betx: 0.0 [m]\n",
       "              alfx: 0.0\n",
       "             emitx: 0.0 [m-rad]\n",
       "              bety: 0.0 [m]\n",
       "              alfy: 0.0\n",
       "             emity: 0.0 [m-rad]\n",
       "              betz: 0.0 [degree/MeV]\n",
       "              alfz: 0.0\n",
       "             emitz: 0.0 [degree-MeV]\n",
       "            scalex: 1.0 [1.0]\n",
       "           scalepx: 1.0 [1.0]\n",
       "           offsetx: 0.0 [m]\n",
       "          offsetpx: 0.0 [rad]\n",
       "            scaley: 1.0 [1.0]\n",
       "           scalepy: 1.0 [1.0]\n",
       "           offsety: 0.0 [m]\n",
       "          offsetpy: 0.0 [rad]\n",
       "            scalez: 1.0 [1.0]\n",
       "           scalepz: 1.0 [1.0]\n",
       "           offsetz: 0.0 [degree]\n",
       "          offsetpz: 0.0 [MeV]\n",
       "              mode: 'twiss'"
      ]
     },
     "execution_count": 13,
     "metadata": {},
     "output_type": "execute_result"
    }
   ],
   "source": [
    "beam.distribution"
   ]
  },
  {
   "cell_type": "code",
   "execution_count": 14,
   "metadata": {},
   "outputs": [],
   "source": [
    "fort24F = np.loadtxt('fort.24')\n",
    "fort25F = np.loadtxt('fort.25')"
   ]
  },
  {
   "cell_type": "code",
   "execution_count": 15,
   "metadata": {},
   "outputs": [],
   "source": [
    "!rm fort.24 fort.25"
   ]
  },
  {
   "cell_type": "markdown",
   "metadata": {},
   "source": [
    "# Backward"
   ]
  },
  {
   "cell_type": "code",
   "execution_count": 16,
   "metadata": {},
   "outputs": [],
   "source": [
    "beam.distribution.distribution_type = 'ReadFile_binary'\n",
    "beam.distribution.file_id = 1111"
   ]
  },
  {
   "cell_type": "code",
   "execution_count": 17,
   "metadata": {},
   "outputs": [
    {
     "data": {
      "text/plain": [
       "\n",
       "  type: 'loop'\n",
       " turns: 1"
      ]
     },
     "execution_count": 17,
     "metadata": {},
     "output_type": "execute_result"
    }
   ],
   "source": [
    "latticeB = copy(lattice[::-1])\n",
    "latticeB.insert(0,copy(lattice[0]))\n",
    "latticeB.pop()"
   ]
  },
  {
   "cell_type": "code",
   "execution_count": 18,
   "metadata": {},
   "outputs": [
    {
     "data": {
      "text/plain": [
       "\n",
       "          type: 'write_raw_ptcl'\n",
       "       file_id: 1111\n",
       "     format_id: 2\n",
       "          turn: 1\n",
       " sample_period: 1"
      ]
     },
     "execution_count": 18,
     "metadata": {},
     "output_type": "execute_result"
    }
   ],
   "source": [
    "latticeB.pop(1)"
   ]
  },
  {
   "cell_type": "code",
   "execution_count": 19,
   "metadata": {},
   "outputs": [
    {
     "data": {
      "text/plain": [
       "0"
      ]
     },
     "execution_count": 19,
     "metadata": {},
     "output_type": "execute_result"
    }
   ],
   "source": [
    "latticeB[0].turns = nturn\n",
    "latticeB.append(write)\n",
    "\n",
    "for i in range(len(latticeB)):\n",
    "    if 'length' in latticeB[i].keys():\n",
    "        latticeB[i].length = -latticeB[i].length\n",
    "        \n",
    "    if latticeB[i].type == 'dipole':\n",
    "        \n",
    "        latticeB[i].bending_angle            =-latticeB[i].bending_angle\n",
    "        latticeB[i].fringe_field_integration =-latticeB[i].fringe_field_integration\n",
    "        \n",
    "        exitAng  = latticeB[i].exit_angle\n",
    "        enterAng = latticeB[i].entrance_angle\n",
    "        latticeB[i].exit_angle     = -enterAng\n",
    "        latticeB[i].entrance_angle = -exitAng\n",
    "        \n",
    "    if 'KL_sext' in latticeB[i]:\n",
    "        latticeB[i].KL_sext = -latticeB[i].KL_sext\n",
    "\n",
    "        \n",
    "impact.writeInputFile(beam,latticeB)\n",
    "impact.run(beam)"
   ]
  },
  {
   "cell_type": "code",
   "execution_count": 20,
   "metadata": {},
   "outputs": [],
   "source": [
    "!mv test.in test.backward.in"
   ]
  },
  {
   "cell_type": "code",
   "execution_count": 21,
   "metadata": {},
   "outputs": [
    {
     "data": {
      "text/plain": [
       "-52.79720000000009"
      ]
     },
     "execution_count": 21,
     "metadata": {},
     "output_type": "execute_result"
    }
   ],
   "source": [
    "L = 0\n",
    "for item in latticeB:\n",
    "    if 'length' in item.keys():\n",
    "#         if item.length>0:\n",
    "#             print(item)\n",
    "        L = L+item.length\n",
    "L"
   ]
  },
  {
   "cell_type": "code",
   "execution_count": 22,
   "metadata": {},
   "outputs": [],
   "source": [
    "fort24B = np.loadtxt('fort.24')#[::-1,:]\n",
    "fort25B = np.loadtxt('fort.25')#[::-1,:]"
   ]
  },
  {
   "cell_type": "code",
   "execution_count": 23,
   "metadata": {},
   "outputs": [],
   "source": [
    "fort24B[:,0]=fort24B[:,0]-fort24B[-1,0]\n",
    "fort25B[:,0]=fort25B[:,0]-fort25B[-1,0]"
   ]
  },
  {
   "cell_type": "code",
   "execution_count": 24,
   "metadata": {},
   "outputs": [],
   "source": [
    "fort24B[:,:]=fort24B[::-1,:]\n",
    "fort25B[:,:]=fort25B[::-1,:]"
   ]
  },
  {
   "cell_type": "code",
   "execution_count": 25,
   "metadata": {},
   "outputs": [],
   "source": [
    "sprev = 0\n",
    "indexF = []\n",
    "for i,snext in enumerate(fort24F[:,0]):\n",
    "    if snext!=sprev:\n",
    "        indexF.append(i)\n",
    "    sprev = snext\n",
    "\n",
    "sprev = 0 \n",
    "indexB = []\n",
    "for i,snext in enumerate(fort24B[:,0]):\n",
    "    if snext!=sprev:\n",
    "        indexB.append(i)\n",
    "    sprev = snext"
   ]
  },
  {
   "cell_type": "code",
   "execution_count": 26,
   "metadata": {},
   "outputs": [],
   "source": [
    "fort24F = fort24F[indexF,:]\n",
    "fort25F = fort25F[indexF,:]\n",
    "fort24B = fort24B[indexB,:]\n",
    "fort25B = fort25B[indexB,:]"
   ]
  },
  {
   "cell_type": "code",
   "execution_count": 27,
   "metadata": {},
   "outputs": [
    {
     "data": {
      "image/png": "[encoded data removed]",
      "text/plain": [
       "<Figure size 720x432 with 4 Axes>"
      ]
     },
     "metadata": {},
     "output_type": "display_data"
    }
   ],
   "source": [
    "import matplotlib.pyplot as plt\n",
    "plt.figure(figsize=(10,6))\n",
    "plt.subplot(2,2,1)\n",
    "plt.plot(fort24F[:,0],fort24F[:,1],'*',markersize=4.0)\n",
    "plt.plot(fort24B[:,0],fort24B[:,1],'o',markersize=1.0)\n",
    "plt.plot(s,fw[:,0],'+',markersize=10.0)\n",
    "plt.fill_between(B[:,0],B[:,1],y2=-1,color=(0,0,0),alpha=0.1)\n",
    "plt.fill_between(S[:,0],S[:,1],y2=-1,color=(1,0,0),alpha=0.1)\n",
    "plt.fill_between(Q[:,0],Q[:,1],y2=-1,color=(0,1,0),alpha=0.1)\n",
    "plt.ylim(-0.005,0.02)\n",
    "plt.xlim(4,12.5)\n",
    "# plt.xlabel('s (m)')\n",
    "plt.ylabel('x (m)')\n",
    "plt.legend(['Impact.forward','Impact.backward','PythonToy','Dipole','Sext','Quad'])\n",
    "plt.subplot(2,2,2)\n",
    "plt.plot(fort24F[:,0],fort24F[:,3],'*',markersize=4.0)\n",
    "plt.plot(fort24B[:,0],fort24B[:,3],'o',markersize=1.0)\n",
    "plt.plot(s,fw[:,1],'+',markersize=10.0)\n",
    "plt.fill_between(B[:,0],B[:,1],y2=-1,color=(0,0,0),alpha=0.1)\n",
    "plt.fill_between(S[:,0],S[:,1],y2=-1,color=(1,0,0),alpha=0.1)\n",
    "plt.fill_between(Q[:,0],Q[:,1],y2=-1,color=(0,1,0),alpha=0.1)\n",
    "plt.ylim(-0.01,0.005)\n",
    "plt.xlim(4,12.5)\n",
    "# plt.xlabel('s (m)')\n",
    "plt.ylabel('px (rad)')\n",
    "# plt.legend(['Impact','PythonToy','Dipole','Sext','Quad'])\n",
    "plt.subplot(2,2,3)\n",
    "plt.plot(fort25F[:,0],fort25F[:,1],'*',markersize=4.0)\n",
    "plt.plot(fort25B[:,0],fort25B[:,1],'o',markersize=1.0)\n",
    "plt.plot(s,fw[:,2],'+',markersize=10.0)\n",
    "plt.fill_between(B[:,0],B[:,1],y2=-1,color=(0,0,0),alpha=0.1)\n",
    "plt.fill_between(S[:,0],S[:,1],y2=-1,color=(1,0,0),alpha=0.1)\n",
    "plt.fill_between(Q[:,0],Q[:,1],y2=-1,color=(0,1,0),alpha=0.1)\n",
    "plt.ylim(0.015,0.035)\n",
    "plt.xlim(4,12.5)\n",
    "plt.xlabel('s (m)')\n",
    "plt.ylabel('y (m)')\n",
    "# plt.legend(['Impact','PythonToy','Dipole','Sext','Quad'])\n",
    "plt.subplot(2,2,4)\n",
    "plt.plot(fort25F[:,0],fort25F[:,3],'*',markersize=4.0)\n",
    "plt.plot(fort25B[:,0],fort25B[:,3],'o',markersize=1.0)\n",
    "plt.plot(s,fw[:,3],'+',markersize=10.0)\n",
    "plt.fill_between(B[:,0],B[:,1],y2=-1,color=(0,0,0),alpha=0.1)\n",
    "plt.fill_between(S[:,0],S[:,1],y2=-1,color=(1,0,0),alpha=0.1)\n",
    "plt.fill_between(Q[:,0],Q[:,1],y2=-1,color=(0,1,0),alpha=0.1)\n",
    "plt.ylim(-0.005,0.015)\n",
    "plt.xlim(4,12.5)\n",
    "plt.xlabel('s (m)')\n",
    "plt.ylabel('py (rad)')\n",
    "# plt.legend(['Impact','PythonToy','Dipole','Sext','Quad'])\n",
    "plt.tight_layout()\n",
    "plt.savefig('comparision.yesSext.png',dpi=180)"
   ]
  },
  {
   "cell_type": "code",
   "execution_count": 28,
   "metadata": {},
   "outputs": [],
   "source": [
    "xdiff = fort24F[:,1]-fort24B[:,1]\n",
    "pxdiff = fort24F[:,3]-fort24B[:,3]\n",
    "ydiff = fort25F[:,1]-fort25B[:,1]\n",
    "pydiff = fort25F[:,3]-fort25B[:,3]"
   ]
  },
  {
   "cell_type": "code",
   "execution_count": 29,
   "metadata": {},
   "outputs": [
    {
     "data": {
      "image/png": "[encoded data removed]",
      "text/plain": [
       "<Figure size 720x432 with 4 Axes>"
      ]
     },
     "metadata": {},
     "output_type": "display_data"
    }
   ],
   "source": [
    "import matplotlib.pyplot as plt\n",
    "plt.figure(figsize=(10,6))\n",
    "plt.subplot(2,2,1)\n",
    "plt.plot(fort24F[:,0],xdiff,'*',markersize=4.0)\n",
    "plt.plot(s,fw[:,0]-bw[::-1,0],'+',markersize=10.0)\n",
    "plt.fill_between(B[:,0],B[:,1],y2=-1,color=(0,0,0),alpha=0.1)\n",
    "plt.fill_between(S[:,0],S[:,1],y2=-1,color=(1,0,0),alpha=0.1)\n",
    "plt.fill_between(Q[:,0],Q[:,1],y2=-1,color=(0,1,0),alpha=0.1)\n",
    "plt.ylim(-1e-16,1e-16)\n",
    "plt.xlim(4,12.5)\n",
    "# plt.xlabel('s (m)')\n",
    "plt.ylabel('x (m)')\n",
    "plt.legend(['Impact.FBdifference','PythonToy.FBdifference','Dipole','Sext','Quad'])\n",
    "            \n",
    "plt.subplot(2,2,2)\n",
    "plt.plot(fort24F[:,0],pxdiff,'*',markersize=4.0)\n",
    "plt.plot(s,fw[:,1]-bw[::-1,1],'+',markersize=10.0)\n",
    "plt.fill_between(B[:,0],B[:,1],y2=-1,color=(0,0,0),alpha=0.1)\n",
    "plt.fill_between(S[:,0],S[:,1],y2=-1,color=(1,0,0),alpha=0.1)\n",
    "plt.fill_between(Q[:,0],Q[:,1],y2=-1,color=(0,1,0),alpha=0.1)\n",
    "plt.ylim(-2e-17,5e-17)\n",
    "plt.xlim(4,12.5)\n",
    "# plt.xlabel('s (m)')\n",
    "plt.ylabel('px (rad)')\n",
    "# plt.legend(['Impact','PythonToy','Dipole','Sext','Quad'])\n",
    "            \n",
    "plt.subplot(2,2,3)\n",
    "plt.plot(fort24F[:,0],xdiff,'*',markersize=4.0)\n",
    "# plt.fill_between(B[:,0],B[:,1],y2=-1,color=(0,0,0),alpha=0.1)\n",
    "# plt.fill_between(S[:,0],S[:,1],y2=-1,color=(1,0,0),alpha=0.1)\n",
    "# plt.fill_between(Q[:,0],Q[:,1],y2=-1,color=(0,1,0),alpha=0.1)\n",
    "# plt.ylim(-9e-16,9e-16)\n",
    "plt.xlim(4,12.5)\n",
    "# plt.xlabel('s (m)')\n",
    "plt.ylabel('x (m)')\n",
    "# plt.legend(['Impact.FBdifference','PythonToy.FBdifference','Dipole','Sext','Quad'])\n",
    "            \n",
    "plt.subplot(2,2,4)\n",
    "plt.plot(fort24F[:,0],pxdiff,'*',markersize=4.0)\n",
    "# plt.fill_between(B[:,0],B[:,1],y2=-1,color=(0,0,0),alpha=0.1)\n",
    "# plt.fill_between(S[:,0],S[:,1],y2=-1,color=(1,0,0),alpha=0.1)\n",
    "# plt.fill_between(Q[:,0],Q[:,1],y2=-1,color=(0,1,0),alpha=0.1)\n",
    "# plt.ylim(-5e-17,5e-17)\n",
    "plt.xlim(4,12.5)\n",
    "# plt.xlabel('s (m)')\n",
    "plt.ylabel('px (rad)')\n",
    "# plt.legend(['Impact','PythonToy','Dipole','Sext','Quad'])\n",
    "plt.tight_layout()\n",
    "plt.savefig('comparision.diff.yesSext.png',dpi=180)"
   ]
  },
  {
   "cell_type": "markdown",
   "metadata": {},
   "source": [
    "import matplotlib.pyplot as plt\n",
    "plt.figure(figsize=(10,6))\n",
    "plt.subplot(2,2,1)\n",
    "plt.plot(fort24[:,0],fort24[:,1],'+',markersize=4.0)\n",
    "plt.plot(s,fwL[:,0],'*',markersize=4.0)\n",
    "plt.fill_between(B[:,0],B[:,1],y2=-1,color=(0,0,0),alpha=0.1)\n",
    "plt.fill_between(S[:,0],S[:,1],y2=-1,color=(1,0,0),alpha=0.1)\n",
    "plt.fill_between(Q[:,0],Q[:,1],y2=-1,color=(0,1,0),alpha=0.1)\n",
    "plt.ylim(-0.005,0.02)\n",
    "plt.xlim(4,12.5)\n",
    "# plt.xlabel('s (m)')\n",
    "plt.ylabel('x (m)')\n",
    "plt.legend(['Impact','PythonToy','Dipole','Sext','Quad'])\n",
    "plt.subplot(2,2,2)\n",
    "plt.plot(fort24[:,0],fort24[:,3],'+',markersize=4.0)\n",
    "plt.plot(s,fwL[:,1],'*',markersize=4.0)\n",
    "plt.fill_between(B[:,0],B[:,1],y2=-1,color=(0,0,0),alpha=0.1)\n",
    "plt.fill_between(S[:,0],S[:,1],y2=-1,color=(1,0,0),alpha=0.1)\n",
    "plt.fill_between(Q[:,0],Q[:,1],y2=-1,color=(0,1,0),alpha=0.1)\n",
    "plt.ylim(-0.01,0.005)\n",
    "plt.xlim(4,12.5)\n",
    "# plt.xlabel('s (m)')\n",
    "plt.ylabel('px (rad)')\n",
    "# plt.legend(['Impact','PythonToy','Dipole','Sext','Quad'])\n",
    "plt.subplot(2,2,3)\n",
    "plt.plot(fort24[:,0],fort25[:,1],'+',markersize=4.0)\n",
    "plt.plot(s,fwL[:,2],'*',markersize=4.0)\n",
    "plt.fill_between(B[:,0],B[:,1],y2=-1,color=(0,0,0),alpha=0.1)\n",
    "plt.fill_between(S[:,0],S[:,1],y2=-1,color=(1,0,0),alpha=0.1)\n",
    "plt.fill_between(Q[:,0],Q[:,1],y2=-1,color=(0,1,0),alpha=0.1)\n",
    "plt.ylim(0.015,0.03)\n",
    "plt.xlim(4,12.5)\n",
    "plt.xlabel('s (m)')\n",
    "plt.ylabel('y (m)')\n",
    "# plt.legend(['Impact','PythonToy','Dipole','Sext','Quad'])\n",
    "plt.subplot(2,2,4)\n",
    "plt.plot(fort24[:,0],fort25[:,3],'+',markersize=4.0)\n",
    "plt.plot(s,fwL[:,3],'*',markersize=4.0)\n",
    "plt.fill_between(B[:,0],B[:,1],y2=-1,color=(0,0,0),alpha=0.1)\n",
    "plt.fill_between(S[:,0],S[:,1],y2=-1,color=(1,0,0),alpha=0.1)\n",
    "plt.fill_between(Q[:,0],Q[:,1],y2=-1,color=(0,1,0),alpha=0.1)\n",
    "plt.ylim(-0.005,0.012)\n",
    "plt.xlim(4,12.5)\n",
    "plt.xlabel('s (m)')\n",
    "plt.ylabel('py (rad)')\n",
    "# plt.legend(['Impact','PythonToy','Dipole','Sext','Quad'])\n",
    "plt.tight_layout()\n",
    "plt.savefig('comparision.noSext.png',dpi=180)"
   ]
  },
  {
   "cell_type": "code",
   "execution_count": null,
   "metadata": {},
   "outputs": [],
   "source": []
  }
 ],
 "metadata": {
  "kernelspec": {
   "display_name": "Python 3",
   "language": "python",
   "name": "python3"
  },
  "language_info": {
   "codemirror_mode": {
    "name": "ipython",
    "version": 3
   },
   "file_extension": ".py",
   "mimetype": "text/x-python",
   "name": "python",
   "nbconvert_exporter": "python",
   "pygments_lexer": "ipython3",
   "version": "3.6.5"
  }
 },
 "nbformat": 4,
 "nbformat_minor": 2
}
