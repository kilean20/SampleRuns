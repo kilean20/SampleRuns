{
 "cells": [
  {
   "cell_type": "code",
   "execution_count": 1,
   "metadata": {},
   "outputs": [],
   "source": [
    "import pImpactR as impact\n",
    "import numpy as np\n",
    "import matplotlib.pyplot as plt\n",
    "from copy import deepcopy as copy"
   ]
  },
  {
   "cell_type": "code",
   "execution_count": 2,
   "metadata": {},
   "outputs": [],
   "source": [
    "nturn = 15"
   ]
  },
  {
   "cell_type": "code",
   "execution_count": 3,
   "metadata": {},
   "outputs": [
    {
     "name": "stdout",
     "output_type": "stream",
     "text": [
      "elegant ksext of length 0.2 found. Converting to 4 drift-kick-drift thin element\n",
      "elegant ksext of length 0.2 found. Converting to 4 drift-kick-drift thin element\n",
      "elegant ksext of length 0.2 found. Converting to 4 drift-kick-drift thin element\n",
      "elegant ksext of length 0.2 found. Converting to 4 drift-kick-drift thin element\n",
      "elegant ksext of length 0.25 found. Converting to 5 drift-kick-drift thin element\n",
      "elegant ksext of length 0.2 found. Converting to 4 drift-kick-drift thin element\n",
      "elegant ksext of length 0.2 found. Converting to 4 drift-kick-drift thin element\n",
      "elegant ksext of length 0.2 found. Converting to 4 drift-kick-drift thin element\n",
      "elegant ksext of length 0.2 found. Converting to 4 drift-kick-drift thin element\n",
      "elegant ksext of length 0.2 found. Converting to 4 drift-kick-drift thin element\n",
      "elegant ksext of length 0.2 found. Converting to 4 drift-kick-drift thin element\n",
      "elegant ksext of length 0.2 found. Converting to 4 drift-kick-drift thin element\n",
      "elegant ksext of length 0.2 found. Converting to 4 drift-kick-drift thin element\n",
      "elegant ksext of length 0.25 found. Converting to 5 drift-kick-drift thin element\n",
      "elegant ksext of length 0.2 found. Converting to 4 drift-kick-drift thin element\n",
      "elegant ksext of length 0.2 found. Converting to 4 drift-kick-drift thin element\n",
      "elegant ksext of length 0.2 found. Converting to 4 drift-kick-drift thin element\n",
      "elegant ksext of length 0.2 found. Converting to 4 drift-kick-drift thin element\n"
     ]
    }
   ],
   "source": [
    "beam,lattice = impact.elegant2impact('NSLS2.lat',impact.util.Me,3.0e9,-1.0,min_sext_L=0.05)\n",
    "beam.nCore_y = 8\n",
    "beam.nCore_z = 4\n",
    "ke = beam.kinetic_energy\n",
    "mass = beam.mass\n",
    "freq = beam.frequency\n",
    "\n",
    "lattice.insert(0,impact.getElem('loop'))\n",
    "lattice[0].turns=nturn\n",
    "\n",
    "write = impact.getElem('write_raw_ptcl')\n",
    "write.file_id = 1111\n",
    "write.format_id = 2\n",
    "write.turn = nturn\n",
    "lattice.append(write)\n",
    "\n",
    "for elem in lattice:\n",
    "    if 'length' in elem:\n",
    "        elem.n_sckick = int(np.ceil(elem.length*10))\n",
    "        elem.n_map = 1"
   ]
  },
  {
   "cell_type": "markdown",
   "metadata": {},
   "source": [
    "# Prepare P"
   ]
  },
  {
   "cell_type": "code",
   "execution_count": 4,
   "metadata": {},
   "outputs": [
    {
     "name": "stdout",
     "output_type": "stream",
     "text": [
      "initial npt= 7730\n"
     ]
    }
   ],
   "source": [
    "xmax = 0.045\n",
    "ymax = 0.025\n",
    "testP = 0.0\n",
    "k=0\n",
    "q_m = beam.multi_charge.q_m[0]\n",
    "pData = []\n",
    "nx = 100\n",
    "for x in np.linspace(-xmax,xmax,nx):\n",
    "    for y in np.linspace(0,ymax,nx):\n",
    "        if (x/xmax)**2+(y/ymax)**2<=1 :\n",
    "            k+=1\n",
    "            pData.append([x,0.0,y,0.0,0.0,0.0,q_m,0.0,k])\n",
    "\n",
    "pData = np.array(pData)\n",
    "ke = beam.kinetic_energy\n",
    "mass = beam.mass\n",
    "freq = beam.frequency\n",
    "impact.writeParticleData(pData, ke, mass, freq)\n",
    "\n",
    "npt = len(pData)\n",
    "beam.n_particles = npt\n",
    "print('initial npt=',npt)\n",
    "pData = {'F0':pData}"
   ]
  },
  {
   "cell_type": "code",
   "execution_count": 5,
   "metadata": {},
   "outputs": [
    {
     "data": {
      "text/plain": [
       "<matplotlib.collections.PathCollection at 0x7f5c0160fda0>"
      ]
     },
     "execution_count": 5,
     "metadata": {},
     "output_type": "execute_result"
    },
    {
     "data": {
      "image/png": "[encoded data removed]",
      "text/plain": [
       "<Figure size 288x288 with 1 Axes>"
      ]
     },
     "metadata": {},
     "output_type": "display_data"
    }
   ],
   "source": [
    "plt.figure(figsize=(4,4))\n",
    "plt.scatter(pData['F0'][:,0],pData['F0'][:,2],s=1)"
   ]
  },
  {
   "cell_type": "markdown",
   "metadata": {},
   "source": [
    "# Run Forward"
   ]
  },
  {
   "cell_type": "code",
   "execution_count": 6,
   "metadata": {},
   "outputs": [
    {
     "data": {
      "text/plain": [
       "0"
      ]
     },
     "execution_count": 6,
     "metadata": {},
     "output_type": "execute_result"
    }
   ],
   "source": [
    "impact.writeInputFile(beam,lattice)\n",
    "impact.run(beam)"
   ]
  },
  {
   "cell_type": "code",
   "execution_count": 7,
   "metadata": {},
   "outputs": [],
   "source": [
    "tmp = impact.readParticleData(1111,ke,mass,freq,2)\n",
    "pData['F1']=tmp"
   ]
  },
  {
   "cell_type": "markdown",
   "metadata": {},
   "source": [
    "# Run Backward"
   ]
  },
  {
   "cell_type": "code",
   "execution_count": 8,
   "metadata": {},
   "outputs": [],
   "source": [
    "beam.distribution.distribution_type = 'ReadFile_binary'\n",
    "beam.distribution.file_id = 1111"
   ]
  },
  {
   "cell_type": "code",
   "execution_count": 9,
   "metadata": {},
   "outputs": [
    {
     "data": {
      "text/plain": [
       "\n",
       "  type: 'loop'\n",
       " turns: 15"
      ]
     },
     "execution_count": 9,
     "metadata": {},
     "output_type": "execute_result"
    }
   ],
   "source": [
    "latticeB = copy(lattice[::-1])\n",
    "latticeB.insert(0,copy(lattice[0]))\n",
    "latticeB.pop()"
   ]
  },
  {
   "cell_type": "code",
   "execution_count": 10,
   "metadata": {},
   "outputs": [
    {
     "data": {
      "text/plain": [
       "\n",
       "          type: 'write_raw_ptcl'\n",
       "       file_id: 1111\n",
       "     format_id: 2\n",
       "          turn: 15\n",
       " sample_period: 1"
      ]
     },
     "execution_count": 10,
     "metadata": {},
     "output_type": "execute_result"
    }
   ],
   "source": [
    "latticeB.pop(1)"
   ]
  },
  {
   "cell_type": "code",
   "execution_count": 11,
   "metadata": {},
   "outputs": [
    {
     "data": {
      "text/plain": [
       "0"
      ]
     },
     "execution_count": 11,
     "metadata": {},
     "output_type": "execute_result"
    }
   ],
   "source": [
    "latticeB[0].turns = nturn\n",
    "latticeB.append(write)\n",
    "\n",
    "for i in range(len(latticeB)):\n",
    "    if 'length' in latticeB[i]:\n",
    "        latticeB[i].length = -latticeB[i].length\n",
    "        \n",
    "    if latticeB[i].type == 'dipole':\n",
    "        \n",
    "        latticeB[i].bending_angle            =-latticeB[i].bending_angle\n",
    "        latticeB[i].fringe_field_integration =-latticeB[i].fringe_field_integration\n",
    "        \n",
    "        exitAng  = latticeB[i].exit_angle\n",
    "        enterAng = latticeB[i].entrance_angle\n",
    "        latticeB[i].exit_angle     = -enterAng\n",
    "        latticeB[i].entrance_angle = -exitAng\n",
    "        \n",
    "    if 'KL_sext' in latticeB[i]:\n",
    "        latticeB[i].KL_sext = -latticeB[i].KL_sext\n",
    "\n",
    "\n",
    "impact.writeInputFile(beam,latticeB)\n",
    "impact.run(beam)"
   ]
  },
  {
   "cell_type": "code",
   "execution_count": 12,
   "metadata": {},
   "outputs": [],
   "source": [
    "tmp = impact.readParticleData(1111,ke,mass,freq,2)\n",
    "pData['B0']=tmp"
   ]
  },
  {
   "cell_type": "markdown",
   "metadata": {},
   "source": [
    "# remove lost particles"
   ]
  },
  {
   "cell_type": "code",
   "execution_count": 13,
   "metadata": {},
   "outputs": [],
   "source": [
    "iLive = pData['B0'][:,-1]\n",
    "tmp = np.in1d(pData['F0'][:,-1],iLive)\n",
    "pData['F0'] = pData['F0'][tmp,:]\n",
    "tmp = np.in1d(pData['F1'][:,-1],iLive)\n",
    "pData['F1'] = pData['F1'][tmp,:]"
   ]
  },
  {
   "cell_type": "markdown",
   "metadata": {},
   "source": [
    "# plot"
   ]
  },
  {
   "cell_type": "code",
   "execution_count": 14,
   "metadata": {},
   "outputs": [
    {
     "name": "stdout",
     "output_type": "stream",
     "text": [
      "nan nan\n",
      "nan nan\n",
      "nan nan\n",
      "nan nan\n"
     ]
    }
   ],
   "source": [
    "diff = 0\n",
    "for i in range(4):\n",
    "    tmp = (pData['F0'][:,i]-pData['B0'][:,i])**2\n",
    "    print(np.mean(tmp),np.std(tmp))\n",
    "    diff = diff + tmp\n",
    "diff = np.sqrt(diff)"
   ]
  },
  {
   "cell_type": "code",
   "execution_count": 15,
   "metadata": {},
   "outputs": [
    {
     "data": {
      "image/png": "[encoded data removed]",
      "text/plain": [
       "<Figure size 316.8x237.6 with 2 Axes>"
      ]
     },
     "metadata": {},
     "output_type": "display_data"
    }
   ],
   "source": [
    "plt.figure(figsize=[4.4,3.3])\n",
    "f1=plt.scatter(pData['F0'][:,0],pData['F0'][:,2],c=np.log(diff),s=1.6,marker='s')\n",
    "plt.xlim(-xmax*1.1,xmax*1.1)\n",
    "plt.ylim(0,ymax*1.1)\n",
    "plt.xlabel('$x$')\n",
    "plt.ylabel('$y$')\n",
    "plt.colorbar(f1)\n",
    "plt.tight_layout()"
   ]
  },
  {
   "cell_type": "code",
   "execution_count": null,
   "metadata": {},
   "outputs": [],
   "source": []
  }
 ],
 "metadata": {
  "kernelspec": {
   "display_name": "Python 3",
   "language": "python",
   "name": "python3"
  },
  "language_info": {
   "codemirror_mode": {
    "name": "ipython",
    "version": 3
   },
   "file_extension": ".py",
   "mimetype": "text/x-python",
   "name": "python",
   "nbconvert_exporter": "python",
   "pygments_lexer": "ipython3",
   "version": "3.6.5"
  }
 },
 "nbformat": 4,
 "nbformat_minor": 2
}
