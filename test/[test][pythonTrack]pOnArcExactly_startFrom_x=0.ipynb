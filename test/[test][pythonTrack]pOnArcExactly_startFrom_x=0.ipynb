{
 "cells": [
  {
   "cell_type": "code",
   "execution_count": 1,
   "metadata": {},
   "outputs": [],
   "source": [
    "import numpy as np\n",
    "import pImpactR as impact\n",
    "from copy import deepcopy as copy\n",
    "import matplotlib.pyplot as plt\n",
    "np.set_printoptions(precision=3)\n",
    "import pandas as P\n",
    "P.set_option('display.precision',3)"
   ]
  },
  {
   "cell_type": "code",
   "execution_count": 2,
   "metadata": {},
   "outputs": [],
   "source": [
    "NL_t = -0.4\n",
    "NL_c = 0.01\n",
    "NL_L = 1.8\n",
    "NL_mu = 0.3\n",
    "\n",
    "mass = 938.272045e6\n",
    "ke = 2.5*1.0e6\n",
    "energy = ke+mass\n",
    "freq = 30*1.0e6\n",
    "\n",
    "g = energy/mass\n",
    "bg = np.sqrt(g**2-1.0)\n",
    "vec = bg/g*impact.data.clight\n",
    "\n",
    "alfaEntrance = np.tan(np.pi*NL_mu)\n",
    "betaEntrance = NL_L/np.sin(2.0*np.pi*NL_mu)"
   ]
  },
  {
   "cell_type": "code",
   "execution_count": 3,
   "metadata": {},
   "outputs": [
    {
     "name": "stdout",
     "output_type": "stream",
     "text": [
      "1.3763819204711734 1.8926320036288808\n"
     ]
    }
   ],
   "source": [
    "print(alfaEntrance,betaEntrance)"
   ]
  },
  {
   "cell_type": "markdown",
   "metadata": {},
   "source": [
    "# def subroutine "
   ]
  },
  {
   "cell_type": "code",
   "execution_count": 4,
   "metadata": {},
   "outputs": [],
   "source": [
    "def croot(z):\n",
    "    return np.sqrt(1.0-z**2)\n",
    "\n",
    "def carcsin(z):\n",
    "    return -1j*np.log(1j*z+croot(z))\n",
    "\n",
    "def Fpotential(x,y):\n",
    "    zeta = x+1j*y\n",
    "    return zeta/croot(zeta)*carcsin(zeta)\n",
    "\n",
    "def Fderivative(x,y):\n",
    "    zeta = x+1j*y\n",
    "    denom = croot(zeta)\n",
    "    return zeta/denom**2 + carcsin(zeta)/denom**3\n",
    "\n",
    "def driftpropagator(x,px,y,py,ds):\n",
    "    x= x+px*ds\n",
    "    y= y+py*ds\n",
    "    return x,px,y,py\n",
    "\n",
    "def NLpropagator(x,px,y,py,ds):\n",
    "    dF = Fderivative(x,y)\n",
    "    px = px - x*ds + np.real(dF)*ds*NL_t\n",
    "    if y==0.0:\n",
    "        py = py - y*ds\n",
    "    else:\n",
    "        py = py - y*ds - np.imag(dF)*ds*NL_t\n",
    "    return x,px,y,py\n",
    "\n",
    "\n",
    "def InvariantPotentials(x,px,y,py):\n",
    "    zeta = x+1j*y\n",
    "    zetaconj = x-1j*y\n",
    "    Hpotential = zeta/croot(zeta)\n",
    "    Ipotential = (zeta+zetaconj)/croot(zeta)   \n",
    "    Hpotential = Hpotential*carcsin(zeta)\n",
    "    Ipotential = Ipotential*carcsin(zeta)\n",
    "    Hinv = -NL_t*np.real(Hpotential) + 0.5*(x**2+px**2+y**2+py**2)\n",
    "    Iinv = -NL_t*np.real(Ipotential) + (x*py - y*px)**2 + x**2 + px**2\n",
    "    return Hinv,Iinv\n",
    "\n",
    "\n",
    "def G(x,y):\n",
    "    z = x+1j*y\n",
    "    return np.imag(np.arcsin(z)/np.sqrt(1-z*z))\n",
    "\n",
    "def enforce_py_on_arc(x,px,y,py):\n",
    "    denom = x*x-1\n",
    "    numer = px*x*y\n",
    "    sq = (denom+px*px)*y*y+2*denom*y*NL_t*G(x,y)\n",
    "    if sq>0:\n",
    "        sq = np.sqrt(sq)\n",
    "    else:\n",
    "        return py\n",
    "    test = (numer-sq)/denom \n",
    "    return test\n",
    "#     if py*0.99 < test < py*1.01:\n",
    "#         return test\n",
    "#     else:\n",
    "#         return (numer-sq)/denom \n",
    "    \n",
    "def track(x,px,y,py,L,nSteps,mSample):\n",
    "    n = int(nSteps)\n",
    "    n_hidden = int(n/mSample)\n",
    "    ds = L/n\n",
    "    data = np.zeros((6,mSample+1))\n",
    "    k=0\n",
    "    for i in range(n):\n",
    "        if k==mSample+1:\n",
    "            break\n",
    "        if np.mod(i,n_hidden)==0:\n",
    "            data[:4,k] = x,px,y,py\n",
    "            data[4:,k] = InvariantPotentials(x,px,y,py)\n",
    "            k=k+1\n",
    "        x,px,y,py = driftpropagator(x,px,y,py,0.5*ds)\n",
    "        x,px,y,py = NLpropagator(x,px,y,py,ds)\n",
    "        x,px,y,py = driftpropagator(x,px,y,py,0.5*ds)\n",
    "        py = enforce_py_on_arc(x,px,y,py)\n",
    "    data[:4,-1] = x,px,y,py\n",
    "    data[4:,-1] = InvariantPotentials(x,px,y,py)\n",
    "    return data"
   ]
  },
  {
   "cell_type": "code",
   "execution_count": 17,
   "metadata": {},
   "outputs": [],
   "source": [
    "pdata=np.zeros([1,4])\n",
    "npt = 1\n",
    "pdata = np.array([0,0.483490315562065,0.2,0.022881971987064])"
   ]
  },
  {
   "cell_type": "code",
   "execution_count": 18,
   "metadata": {},
   "outputs": [],
   "source": [
    "Lrad = 1024\n",
    "data = track(*pdata,Lrad,1024*512,1024*512)  "
   ]
  },
  {
   "cell_type": "code",
   "execution_count": 19,
   "metadata": {},
   "outputs": [
    {
     "data": {
      "text/plain": [
       "(6, 524289)"
      ]
     },
     "execution_count": 19,
     "metadata": {},
     "output_type": "execute_result"
    }
   ],
   "source": [
    "data.shape"
   ]
  },
  {
   "cell_type": "code",
   "execution_count": 20,
   "metadata": {},
   "outputs": [
    {
     "data": {
      "image/png": "[encoded data removed]",
      "text/plain": [
       "<Figure size 576x216 with 2 Axes>"
      ]
     },
     "metadata": {},
     "output_type": "display_data"
    }
   ],
   "source": [
    "plt.figure(figsize=(8,3))\n",
    "plt.subplot(1,2,1)\n",
    "plt.scatter(data[0,:],data[2,:],s=0.1)\n",
    "plt.xlabel('x')\n",
    "plt.ylabel('y')\n",
    "plt.subplot(1,2,2)\n",
    "plt.plot(data[5,:]-2*data[4,:])\n",
    "plt.ylabel('I-2H')\n",
    "plt.tight_layout()"
   ]
  }
 ],
 "metadata": {
  "kernelspec": {
   "display_name": "Python 3",
   "language": "python",
   "name": "python3"
  },
  "language_info": {
   "codemirror_mode": {
    "name": "ipython",
    "version": 3
   },
   "file_extension": ".py",
   "mimetype": "text/x-python",
   "name": "python",
   "nbconvert_exporter": "python",
   "pygments_lexer": "ipython3",
   "version": "3.6.5"
  }
 },
 "nbformat": 4,
 "nbformat_minor": 2
}
