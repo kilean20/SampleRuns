{
 "cells": [
  {
   "cell_type": "code",
   "execution_count": 1,
   "metadata": {},
   "outputs": [],
   "source": [
    "import numpy as np\n",
    "import matplotlib.pyplot as plt\n",
    "import os\n",
    "from pImpactR.util import naff"
   ]
  },
  {
   "cell_type": "code",
   "execution_count": 2,
   "metadata": {},
   "outputs": [],
   "source": [
    "fint = 0.5\n",
    "dx = 1.0e-11\n",
    "dy = 1.0e-11\n",
    "DP = np.array([-2,-1,0,1,2])*1.0e-6"
   ]
  },
  {
   "cell_type": "code",
   "execution_count": 3,
   "metadata": {},
   "outputs": [],
   "source": [
    "def changeFINT(fint):\n",
    "    file=open('iota.seq','r')\n",
    "    lines = file.readlines()\n",
    "    file.close()\n",
    "    lines[0]='fintval = '+str(fint)+';\\n'\n",
    "    file=open('iota.seq','w')\n",
    "    file.writelines(lines)\n",
    "    file.close()\n",
    "    \n",
    "changeFINT(fint)"
   ]
  },
  {
   "cell_type": "code",
   "execution_count": 4,
   "metadata": {},
   "outputs": [],
   "source": [
    "def changeOffset(dx,dy,dp):\n",
    "    file=open('run.madx','r')\n",
    "    lines = file.readlines()\n",
    "    file.close()\n",
    "    lines[0]='dpt='+str(dp)+';\\n'\n",
    "    lines[1]='dx='+str(dx)+';\\n'\n",
    "    lines[2]='dy='+str(dy)+';\\n'\n",
    "    file=open('run.madx','w')\n",
    "    file.writelines(lines)\n",
    "    file.close()\n",
    "\n",
    "def runMadX(dx,dy,dp):\n",
    "    changeOffset(dx,dy,dp)\n",
    "    os.system('madx < run.madx')\n",
    "    data = np.loadtxt('track.obs0001.p0001',skiprows=8)\n",
    "    X = data[:,2] - 1j*data[:,3]\n",
    "    Y = data[:,4] - 1j*data[:,5]\n",
    "    return X,Y"
   ]
  },
  {
   "cell_type": "code",
   "execution_count": 5,
   "metadata": {},
   "outputs": [
    {
     "name": "stdout",
     "output_type": "stream",
     "text": [
      "nux= [0.30002851]\n",
      "nuy= [0.30002241]\n",
      "chx= [2.40753082]\n",
      "chy= [0.24474038]\n"
     ]
    }
   ],
   "source": [
    "TuneX = [0]*len(DP)\n",
    "TuneY = [0]*len(DP)\n",
    "n=0\n",
    "for dp in DP:\n",
    "    X,Y = runMadX(dx,dy,dp)\n",
    "    TuneX[n],amp,data = naff(1,X)\n",
    "    TuneY[n],amp,data = naff(1,Y)\n",
    "    n=n+1\n",
    "    \n",
    "print('nux=',TuneX[int(len(DP)/2)])\n",
    "print('nuy=',TuneY[int(len(DP)/2)])\n",
    "print('chx=',(TuneX[-1]-TuneX[0])/(DP[-1]-DP[0]))\n",
    "print('chy=',(TuneY[-1]-TuneY[0])/(DP[-1]-DP[0]))"
   ]
  },
  {
   "cell_type": "code",
   "execution_count": 6,
   "metadata": {},
   "outputs": [
    {
     "data": {
      "image/png": "[encoded data removed]",
      "text/plain": [
       "<Figure size 576x216 with 2 Axes>"
      ]
     },
     "metadata": {},
     "output_type": "display_data"
    }
   ],
   "source": [
    "plt.figure(figsize=(8,3))\n",
    "plt.subplot(1,2,1)\n",
    "plt.plot(TuneX)\n",
    "plt.subplot(1,2,2)\n",
    "plt.plot(TuneY)\n",
    "plt.tight_layout()"
   ]
  }
 ],
 "metadata": {
  "kernelspec": {
   "display_name": "Python 3",
   "language": "python",
   "name": "python3"
  },
  "language_info": {
   "codemirror_mode": {
    "name": "ipython",
    "version": 3
   },
   "file_extension": ".py",
   "mimetype": "text/x-python",
   "name": "python",
   "nbconvert_exporter": "python",
   "pygments_lexer": "ipython3",
   "version": "3.6.5"
  }
 },
 "nbformat": 4,
 "nbformat_minor": 2
}
