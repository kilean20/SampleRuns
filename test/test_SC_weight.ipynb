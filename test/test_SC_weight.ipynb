{
 "cells": [
  {
   "cell_type": "code",
   "execution_count": 1,
   "metadata": {},
   "outputs": [],
   "source": [
    "import numpy as np\n",
    "import pImpactR as impact\n",
    "from copy import deepcopy as copy"
   ]
  },
  {
   "cell_type": "code",
   "execution_count": 2,
   "metadata": {},
   "outputs": [],
   "source": [
    "n_particles = 8\n",
    "turns = 1\n",
    "\n",
    "Me = impact.util.Me\n",
    "ke = 100*1.0e6\n",
    "energy = ke+Me\n",
    "freq = 30*1.0e6\n",
    "\n",
    "Espread = 9.0e-5\n",
    "g = energy/Me\n",
    "bg = np.sqrt(g**2-1.0)\n",
    "emitN = 14.0e-9*bg"
   ]
  },
  {
   "cell_type": "code",
   "execution_count": 3,
   "metadata": {},
   "outputs": [],
   "source": [
    "beam = impact.getBeam()\n",
    "beam.current = 0.01\n",
    "beam.kinetic_energy = ke\n",
    "beam.mass = Me\n",
    "beam.charge = -1.0\n",
    "beam.frequency = freq\n",
    "beam.nCore_y = 1\n",
    "beam.nCore_z = 1\n",
    "beam.n_particles = n_particles"
   ]
  },
  {
   "cell_type": "code",
   "execution_count": 4,
   "metadata": {},
   "outputs": [],
   "source": [
    "beam.distribution.distribution_type = 'Waterbag'\n",
    "beam.distribution.betx  = 1.0\n",
    "beam.distribution.alfx  = 0.0\n",
    "beam.distribution.emitx = emitN\n",
    "beam.distribution.bety  = 1.0\n",
    "beam.distribution.alfy  = 0.0\n",
    "beam.distribution.emity = emitN\n",
    "beam.distribution.betz  = 200\n",
    "beam.distribution.alfz  = 0.0\n",
    "beam.distribution.emitz = (Espread*energy*1.0e-6)**2*beam.distribution.betz"
   ]
  },
  {
   "cell_type": "code",
   "execution_count": 5,
   "metadata": {},
   "outputs": [],
   "source": [
    "beam.mesh.fld_solver = 'Symplectic_Spectral_2D'\n",
    "beam.mesh.mesh_x = 2\n",
    "beam.mesh.mesh_y = 2\n",
    "beam.mesh.boundary_x = 0.01\n",
    "beam.mesh.boundary_y = 0.01"
   ]
  },
  {
   "cell_type": "code",
   "execution_count": 6,
   "metadata": {},
   "outputs": [],
   "source": [
    "loop = impact.getElem('loop_through_lattice')\n",
    "loop.turns = 1"
   ]
  },
  {
   "cell_type": "code",
   "execution_count": 7,
   "metadata": {},
   "outputs": [],
   "source": [
    "drift = impact.getElem('drift')\n",
    "drift.length = 0.01\n",
    "drift.n_sckick = 1"
   ]
  },
  {
   "cell_type": "code",
   "execution_count": 8,
   "metadata": {},
   "outputs": [],
   "source": [
    "lattice = [loop,drift]"
   ]
  },
  {
   "cell_type": "code",
   "execution_count": 9,
   "metadata": {},
   "outputs": [
    {
     "name": "stdout",
     "output_type": "stream",
     "text": [
      "input error <- sum(beam.multi_charge.n_particles) not qual to beam.n_particles\n",
      "  ... enforcing  beam.multi_charge.n_particles[0] to beam.n_particles\n",
      "input error <- beam.multi_charge.current[0] not qual to beam.current\n",
      "  ... enforcing  beam.multi_charge.current[0] to beam.current\n"
     ]
    },
    {
     "data": {
      "text/plain": [
       "0"
      ]
     },
     "execution_count": 9,
     "metadata": {},
     "output_type": "execute_result"
    }
   ],
   "source": [
    "impact.writeInputFile(beam,lattice)\n",
    "impact.run(beam)"
   ]
  },
  {
   "cell_type": "code",
   "execution_count": 10,
   "metadata": {},
   "outputs": [
    {
     "data": {
      "text/plain": [
       "0"
      ]
     },
     "execution_count": 10,
     "metadata": {},
     "output_type": "execute_result"
    }
   ],
   "source": [
    "pData = impact.readParticleData(-111110,ke,Me,freq)\n",
    "impact.writeParticleData(pData,ke,Me,freq)\n",
    "beam.distribution.distribution_type = 'ReadFile'\n",
    "impact.writeInputFile(beam,lattice)\n",
    "impact.run(beam)"
   ]
  },
  {
   "cell_type": "markdown",
   "metadata": {},
   "source": [
    "pData2 = impact.readParticleData(-111110,ke,Me,freq)"
   ]
  },
  {
   "cell_type": "markdown",
   "metadata": {},
   "source": [
    "pData2-pData"
   ]
  },
  {
   "cell_type": "code",
   "execution_count": null,
   "metadata": {},
   "outputs": [],
   "source": []
  }
 ],
 "metadata": {
  "kernelspec": {
   "display_name": "Python 3",
   "language": "python",
   "name": "python3"
  },
  "language_info": {
   "codemirror_mode": {
    "name": "ipython",
    "version": 3
   },
   "file_extension": ".py",
   "mimetype": "text/x-python",
   "name": "python",
   "nbconvert_exporter": "python",
   "pygments_lexer": "ipython3",
   "version": "3.6.5"
  }
 },
 "nbformat": 4,
 "nbformat_minor": 2
}
