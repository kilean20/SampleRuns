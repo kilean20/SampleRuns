{
 "cells": [
  {
   "cell_type": "code",
   "execution_count": 1,
   "metadata": {},
   "outputs": [],
   "source": [
    "import numpy as np\n",
    "import pImpactR as impact\n",
    "import matplotlib.pyplot as plt"
   ]
  },
  {
   "cell_type": "code",
   "execution_count": 2,
   "metadata": {},
   "outputs": [
    {
     "data": {
      "text/plain": [
       "\n",
       " 1: 'rectangular'\n",
       " 2: 'elliptic'"
      ]
     },
     "execution_count": 2,
     "metadata": {},
     "output_type": "execute_result"
    }
   ],
   "source": [
    "impact.data.pipe_shape"
   ]
  },
  {
   "cell_type": "code",
   "execution_count": 3,
   "metadata": {},
   "outputs": [],
   "source": [
    "PipeEllip=impact.getElem('pipe_override')\n",
    "PipeRect=impact.getElem('pipe_override')\n",
    "QF=impact.getElem('quad')\n",
    "QD=impact.getElem('quad')\n",
    "D0=impact.getElem('drift')\n",
    "D1=impact.getElem('drift')\n",
    "loop = impact.getElem('loop')\n",
    "loop.turns = 100"
   ]
  },
  {
   "cell_type": "code",
   "execution_count": 4,
   "metadata": {},
   "outputs": [],
   "source": [
    "PipeEllip.pipe_shape = 'elliptic'\n",
    "PipeEllip.xmax = 0.02\n",
    "PipeEllip.ymax = 0.04\n",
    "PipeRect.pipe_shape = 'rectangular'\n",
    "PipeRect.xmax = 0.04\n",
    "PipeRect.ymax = 0.02\n",
    "QF.n_sckick = 5\n",
    "QD.n_sckick = 5\n",
    "QD.B1 = -QD.B1\n",
    "D0.length = 0.6\n",
    "D0.n_sckick = 20\n",
    "D1.length = 0.3\n",
    "D1.n_sckick = 10\n",
    "D1.pipe_radius = 4.0\n",
    "FODO = [loop,D1,PipeEllip,QF,PipeRect,D0,PipeEllip,QD,D1]"
   ]
  },
  {
   "cell_type": "code",
   "execution_count": 5,
   "metadata": {},
   "outputs": [],
   "source": [
    "beam=impact.getBeam()\n",
    "beam.distribution.emitx = 4.0e-7\n",
    "beam.distribution.betx = 10.0\n",
    "beam.distribution.emity = 4.0e-7\n",
    "beam.distribution.bety = 10.0"
   ]
  },
  {
   "cell_type": "code",
   "execution_count": 6,
   "metadata": {},
   "outputs": [
    {
     "data": {
      "text/plain": [
       "0"
      ]
     },
     "execution_count": 6,
     "metadata": {},
     "output_type": "execute_result"
    }
   ],
   "source": [
    "impact.writeInputFile(beam,FODO)\n",
    "impact.run()"
   ]
  },
  {
   "cell_type": "code",
   "execution_count": 7,
   "metadata": {},
   "outputs": [
    {
     "name": "stdout",
     "output_type": "stream",
     "text": [
      "!================= Beam & Control Parameters ================= \r\n",
      "1 1 \r\n",
      "6 2048 1 0 1 \r\n",
      "32 32 32 1 0.014 0.014 0.1 \r\n",
      "3 0 0 1 \r\n",
      "2048 \r\n",
      "0.0 \r\n",
      "1.0657889726792521e-09 \r\n",
      "0.004652705451564504 5.405487307382262e-05 0.0 1.0 1.0 0.0 0.0 \r\n",
      "0.004652705451564504 5.405487307382262e-05 0.0 1.0 1.0 0.0 0.0 \r\n",
      "0.0 0.0 0.0 1.0 1.0 0.0 0.0 \r\n",
      "0.0 2500000.0 938272045.0 1.0 30000000.0 0.0 \r\n",
      "!========================== Lattice ========================== \r\n",
      "0.0 0 0 -16 0.0 100 / \r\n",
      "0.3 10 1 0 4.0 / \r\n",
      "0.0 0 0 -9 2 0.02 0.04 / \r\n",
      "0.1 5 1 1 10.0 0 1.0 0.0 0.0 0.0 0.0 0.0 / \r\n",
      "0.0 0 0 -9 1 0.04 0.02 / \r\n",
      "0.6 20 1 0 1.0 / \r\n",
      "0.0 0 0 -9 2 0.02 0.04 / \r\n",
      "0.1 5 1 1 -10.0 0 1.0 0.0 0.0 0.0 0.0 0.0 / \r\n",
      "0.3 10 1 0 4.0 / \r\n"
     ]
    }
   ],
   "source": [
    "cat test.in"
   ]
  }
 ],
 "metadata": {
  "kernelspec": {
   "display_name": "Python 3",
   "language": "python",
   "name": "python3"
  },
  "language_info": {
   "codemirror_mode": {
    "name": "ipython",
    "version": 3
   },
   "file_extension": ".py",
   "mimetype": "text/x-python",
   "name": "python",
   "nbconvert_exporter": "python",
   "pygments_lexer": "ipython3",
   "version": "3.6.5"
  }
 },
 "nbformat": 4,
 "nbformat_minor": 2
}
