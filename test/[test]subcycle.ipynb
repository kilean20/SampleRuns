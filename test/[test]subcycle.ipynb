{
 "cells": [
  {
   "cell_type": "code",
   "execution_count": 1,
   "metadata": {},
   "outputs": [],
   "source": [
    "import numpy as np\n",
    "import pImpactR as impact\n",
    "from copy import deepcopy as copy\n",
    "input_fname = './forward_backward/test_IOTA.in'\n",
    "np.set_printoptions(formatter={'float': lambda x: format(x, '1.3E')})"
   ]
  },
  {
   "cell_type": "markdown",
   "metadata": {},
   "source": [
    "# Prepare Beam and Lattice"
   ]
  },
  {
   "cell_type": "code",
   "execution_count": 2,
   "metadata": {
    "scrolled": true
   },
   "outputs": [
    {
     "name": "stdout",
     "output_type": "stream",
     "text": [
      "reading ImpactZ input file (\u001b[92m./forward_backward/test_IOTA.in\u001b[0m)\n",
      "  : mpi task info .............................done\n",
      "  : simulation control parameters .............done\n",
      "  : space charge field solver, mesh info ......done\n",
      "  : dist-type,restart,subcycle,#of state ......done\n",
      "  : Multiple Charge State info ................done\n",
      "  : particle distribution info ................done\n",
      "  : beam reference orbit info .................done\n",
      "  : converting impact dist to twiss param......done\n",
      "  : lattice info ..............................done\n"
     ]
    }
   ],
   "source": [
    "beam, lattice0 = impact.readInputFile(input_fname)\n",
    "beam.nCore_y=1\n",
    "beam.nCore_z=1\n",
    "beam.n_particles=8\n",
    "beam.current=0.0\n",
    "beam.integrator = 'Linear'\n",
    "beam.distribution.distribution_type = 'Waterbag'\n",
    "beam.subcycle = True"
   ]
  },
  {
   "cell_type": "markdown",
   "metadata": {},
   "source": [
    "### subcycle = 1"
   ]
  },
  {
   "cell_type": "code",
   "execution_count": 3,
   "metadata": {},
   "outputs": [
    {
     "name": "stdout",
     "output_type": "stream",
     "text": [
      "input error <- sum(beam.multi_charge.n_particles) not qual to beam.n_particles\n",
      "  ... enforcing  beam.multi_charge.n_particles[0] to beam.n_particles\n",
      "input error <- beam.multi_charge.current[0] not qual to beam.current\n",
      "  ... enforcing  beam.multi_charge.current[0] to beam.current\n"
     ]
    }
   ],
   "source": [
    "quad = impact.getElem('quad')\n",
    "quad.length = 0.1\n",
    "quad.B1 = 15.0\n",
    "quad.n_sckick = 1\n",
    "quad.n_map = 1\n",
    "latticeNoSub = [impact.getElem('loop_through_lattice'),\n",
    "               impact.getElem('write_raw_ptcl'),\n",
    "               quad,\n",
    "               impact.getElem('write_raw_ptcl')]\n",
    "\n",
    "latticeNoSub[1].file_id = 1001\n",
    "latticeNoSub[3].file_id = 1002\n",
    "\n",
    "ke = beam.kinetic_energy\n",
    "mass = beam.mass\n",
    "freq = beam.frequency\n",
    "\n",
    "impact.writeInputFile(beam,latticeNoSub);\n",
    "impact.run()\n",
    "pDataNoSub0 = impact.readParticleData(1001,ke,mass,freq)\n",
    "pDataNoSub1 = impact.readParticleData(1002,ke,mass,freq)"
   ]
  },
  {
   "cell_type": "markdown",
   "metadata": {},
   "source": [
    "### subcycle = 10"
   ]
  },
  {
   "cell_type": "code",
   "execution_count": 4,
   "metadata": {},
   "outputs": [],
   "source": [
    "latticeSub = copy(latticeNoSub)\n",
    "latticeSub[2].n_map = 10\n",
    "\n",
    "impact.writeInputFile(beam,latticeSub);\n",
    "impact.run()\n",
    "pDataSub0 = impact.readParticleData(1001,ke,mass,freq)\n",
    "pDataSub1 = impact.readParticleData(1002,ke,mass,freq)"
   ]
  },
  {
   "cell_type": "markdown",
   "metadata": {},
   "source": [
    "### test"
   ]
  },
  {
   "cell_type": "code",
   "execution_count": 5,
   "metadata": {
    "scrolled": true
   },
   "outputs": [
    {
     "name": "stdout",
     "output_type": "stream",
     "text": [
      "[[0.000E+00 0.000E+00 0.000E+00 0.000E+00 0.000E+00 0.000E+00]\n",
      " [0.000E+00 0.000E+00 0.000E+00 0.000E+00 0.000E+00 0.000E+00]\n",
      " [0.000E+00 0.000E+00 0.000E+00 0.000E+00 0.000E+00 0.000E+00]\n",
      " [0.000E+00 0.000E+00 0.000E+00 0.000E+00 0.000E+00 0.000E+00]\n",
      " [0.000E+00 0.000E+00 0.000E+00 0.000E+00 0.000E+00 0.000E+00]\n",
      " [0.000E+00 0.000E+00 0.000E+00 0.000E+00 0.000E+00 0.000E+00]\n",
      " [0.000E+00 0.000E+00 0.000E+00 0.000E+00 0.000E+00 0.000E+00]\n",
      " [0.000E+00 0.000E+00 0.000E+00 0.000E+00 0.000E+00 0.000E+00]]\n"
     ]
    }
   ],
   "source": [
    "print(pDataSub0[:,:6]-pDataNoSub0[:,:6])"
   ]
  },
  {
   "cell_type": "code",
   "execution_count": 6,
   "metadata": {
    "scrolled": false
   },
   "outputs": [
    {
     "name": "stdout",
     "output_type": "stream",
     "text": [
      "[[0.000E+00 0.000E+00 0.000E+00 0.000E+00 0.000E+00 0.000E+00]\n",
      " [0.000E+00 0.000E+00 0.000E+00 0.000E+00 0.000E+00 0.000E+00]\n",
      " [0.000E+00 0.000E+00 0.000E+00 0.000E+00 0.000E+00 0.000E+00]\n",
      " [0.000E+00 0.000E+00 0.000E+00 0.000E+00 0.000E+00 0.000E+00]\n",
      " [0.000E+00 0.000E+00 0.000E+00 0.000E+00 0.000E+00 0.000E+00]\n",
      " [0.000E+00 0.000E+00 0.000E+00 0.000E+00 0.000E+00 0.000E+00]\n",
      " [0.000E+00 0.000E+00 0.000E+00 0.000E+00 0.000E+00 0.000E+00]\n",
      " [0.000E+00 0.000E+00 0.000E+00 0.000E+00 0.000E+00 0.000E+00]]\n"
     ]
    }
   ],
   "source": [
    "print(pDataSub1[:,:6]-pDataNoSub1[:,:6])"
   ]
  },
  {
   "cell_type": "markdown",
   "metadata": {},
   "source": [
    "### check impact input file"
   ]
  },
  {
   "cell_type": "code",
   "execution_count": 7,
   "metadata": {},
   "outputs": [],
   "source": [
    "impact.writeInputFile(beam,latticeSub,'testSub.in');\n",
    "impact.writeInputFile(beam,latticeNoSub,'testNoSub.in');"
   ]
  },
  {
   "cell_type": "code",
   "execution_count": 8,
   "metadata": {},
   "outputs": [
    {
     "name": "stdout",
     "output_type": "stream",
     "text": [
      "16c16\n",
      "< 0.1 1 10 1 15.0 0 1.0 0.0 0.0 0.0 0.0 0.0 / \n",
      "---\n",
      "> 0.1 1 1 1 15.0 0 1.0 0.0 0.0 0.0 0.0 0.0 / \n"
     ]
    }
   ],
   "source": [
    "%%bash\n",
    "diff testSub.in testNoSub.in"
   ]
  },
  {
   "cell_type": "code",
   "execution_count": 9,
   "metadata": {},
   "outputs": [
    {
     "name": "stdout",
     "output_type": "stream",
     "text": [
      "!================= Beam & Control Parameters ================= \r\n",
      "1 1 \r\n",
      "6 8 1 0 1 \r\n",
      "64 64 1025 7 0.05 0.05 0.1 \r\n",
      "3 0 1 1 \r\n",
      "8 \r\n",
      "0.0 \r\n",
      "1.0657889726792521e-09 \r\n",
      "0.0007108541000000002 7.481793000000001e-05 0.8153394 1.0 1.0 0.0 0.0 \r\n",
      "0.0007108541000000002 7.481793000000001e-05 0.8153394 1.0 1.0 0.0 0.0 \r\n",
      "2.2092772151898727 1e-14 0.0 1.0 1.0 0.0 0.0 \r\n",
      "0.0 2500000.0 938272045.0 1.0 30000000.0 0.0 \r\n",
      "!========================== Lattice ========================== \r\n",
      "0.0 0 0 -16 0.0 1 / \r\n",
      "0.0 0 1001 -2 / \r\n",
      "0.1 1 10 1 15.0 0 1.0 0.0 0.0 0.0 0.0 0.0 / \r\n",
      "0.0 0 1002 -2 / \r\n"
     ]
    }
   ],
   "source": [
    "cat testSub.in"
   ]
  },
  {
   "cell_type": "code",
   "execution_count": null,
   "metadata": {},
   "outputs": [],
   "source": []
  }
 ],
 "metadata": {
  "kernelspec": {
   "display_name": "Python 3",
   "language": "python",
   "name": "python3"
  },
  "language_info": {
   "codemirror_mode": {
    "name": "ipython",
    "version": 3
   },
   "file_extension": ".py",
   "mimetype": "text/x-python",
   "name": "python",
   "nbconvert_exporter": "python",
   "pygments_lexer": "ipython3",
   "version": "3.6.5"
  }
 },
 "nbformat": 4,
 "nbformat_minor": 2
}
