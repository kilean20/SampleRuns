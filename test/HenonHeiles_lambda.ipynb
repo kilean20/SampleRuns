{
 "cells": [
  {
   "cell_type": "markdown",
   "metadata": {},
   "source": [
    "$V(x,y) = \\frac{1}{2}\\left(x^2+y^2\\right) + \\lambda \\left(x^2y+\\frac{y^3}{3}\\right)$"
   ]
  },
  {
   "cell_type": "code",
   "execution_count": 1,
   "metadata": {},
   "outputs": [],
   "source": [
    "from mpl_toolkits.axes_grid1.inset_locator import inset_axes\n",
    "from mpl_toolkits.axes_grid1.inset_locator import mark_inset\n",
    "import matplotlib\n",
    "import pImpactR as impact\n",
    "\n",
    "font = {'size'   : 14}\n",
    "matplotlib.rc('font', **font)"
   ]
  },
  {
   "cell_type": "code",
   "execution_count": 2,
   "metadata": {},
   "outputs": [],
   "source": [
    "lambda_setting = 2.0"
   ]
  },
  {
   "cell_type": "code",
   "execution_count": 3,
   "metadata": {},
   "outputs": [],
   "source": [
    "import numpy as np\n",
    "import matplotlib.pyplot as plt\n",
    "from pImpactR.util import naff \n",
    "ny = 128\n",
    "npy = 128\n",
    "radi2 = 100\n",
    "npt = ny*npy\n",
    "nturn = 1024*2\n",
    "nsteps = 10000\n",
    "dt = 1/nsteps"
   ]
  },
  {
   "cell_type": "code",
   "execution_count": 4,
   "metadata": {},
   "outputs": [],
   "source": [
    "def getV(x,y,lam):\n",
    "    return 0.5*(x*x+y*y) + lam*(x*x*y + y*y*y/3.0)\n",
    "\n",
    "def getH(px,py,x,y,lam):\n",
    "    return 0.5*(px*px+py*py)+getV(x,y,lam)\n",
    "\n",
    "def getK(px,py,x,y,lam):\n",
    "    return px*py + x*y + lam*(x*y*y + x*x*x/3.0)"
   ]
  },
  {
   "cell_type": "code",
   "execution_count": 5,
   "metadata": {},
   "outputs": [],
   "source": [
    "def getClosestDiff(ref,arr):\n",
    "    # ref.shape = nSample\n",
    "    nMode = len(arr)\n",
    "    if ref>1.0:\n",
    "        ref = ref - 1.0\n",
    "    for i in range(nMode):\n",
    "        if arr[i]>1.0:\n",
    "            arr[i]=arr[i]-1.0\n",
    "    diff = np.abs(ref-arr)\n",
    "    for i in range(nMode):\n",
    "        if (diff[i]>0.5):\n",
    "            diff[i] = 1.0 - diff[i]\n",
    "    return np.min(diff)"
   ]
  },
  {
   "cell_type": "code",
   "execution_count": 6,
   "metadata": {},
   "outputs": [],
   "source": [
    "def drift(x,px,y,py,dt):\n",
    "    x = x + px*dt\n",
    "    y = y + py*dt\n",
    "    return x,y\n",
    "\n",
    "def kick(x,px,y,py,lam,dt):\n",
    "    px = px - dt*(x + lam*2*x*y)\n",
    "    py = py - dt*(y + lam*(x*x  +y*y))\n",
    "    return px,py\n",
    "    \n",
    "def oneStep(x,px,y,py,lam,dt):\n",
    "    x,y = drift(x,px,y,py,0.5*dt)\n",
    "    px,py = kick(x,px,y,py,lam,dt)\n",
    "    x,y = drift(x,px,y,py,0.5*dt)\n",
    "    return x,px,y,py\n",
    "\n",
    "def multiStep(x,px,y,py,lam,dt,nsteps):\n",
    "    x,y = drift(x,px,y,py,0.5*dt)\n",
    "    for i in range(nsteps-1):\n",
    "        px,py = kick (x,px,y,py,lam,dt)\n",
    "        x,y   = drift(x,px,y,py,dt)\n",
    "    px,py = kick (x,px,y,py,lam,dt)\n",
    "    x,y   = drift(x,px,y,py,0.5*dt)\n",
    "    return x,px,y,py\n",
    "    \n",
    "# def checkLost(x,px,y,py):\n",
    "#     ilive = x*x+y*y < radi2\n",
    "#     x = x[ilive]\n",
    "#     y = y[ilive]\n",
    "#     px= px[ilive]\n",
    "#     py= py[ilive]\n",
    "#     return x,px,y,py    "
   ]
  },
  {
   "cell_type": "code",
   "execution_count": 7,
   "metadata": {},
   "outputs": [],
   "source": [
    "def Init(energy,lam):\n",
    "    y = []\n",
    "    py= []\n",
    "    px= []\n",
    "    i=0\n",
    "    for y0 in np.linspace(-0.5,0.8,ny):\n",
    "        for py0 in np.linspace(-0.5,0.5,npy):\n",
    "            px2 = 2*energy - py0*py0 - y0*y0 - lam*(2.0/3.0)*y0**3\n",
    "            if px2 >= 0.0:\n",
    "                y.append(y0)\n",
    "                py.append(py0)\n",
    "                px.append(np.sqrt(px2))\n",
    "                \n",
    "    npt = len(y)\n",
    "    print(npt)\n",
    "    x =np.zeros(npt)\n",
    "    y =np.array(y)\n",
    "    px=np.array(px)\n",
    "    py=np.array(py)\n",
    "                \n",
    "    return x,px,y,py"
   ]
  },
  {
   "cell_type": "code",
   "execution_count": 8,
   "metadata": {},
   "outputs": [],
   "source": [
    "def runFoward(x,px,y,py,lam,nturn):\n",
    "    ilive = x*x+y*y < radi2\n",
    "    npt = len(y)\n",
    "    data = np.zeros([nturn,npt,4])\n",
    "    Invs = np.zeros([nturn,npt,2])\n",
    "    data[0,:,0] = x[:]\n",
    "    data[0,:,1] = px[:]\n",
    "    data[0,:,2] = y[:]\n",
    "    data[0,:,3] = py[:]\n",
    "    Invs[0,:,0] = getH(px,py,x,y,lam)\n",
    "    Invs[0,:,1] = getK(px,py,x,y,lam)\n",
    "    for i in range(1,nturn):\n",
    "        x,px,y,py = multiStep(x,px,y,py,lam,dt,nsteps)\n",
    "        ilive = np.logical_and(ilive,x*x+y*y < radi2)\n",
    "        data[i,:,0] = x\n",
    "        data[i,:,1] = px\n",
    "        data[i,:,2] = y\n",
    "        data[i,:,3] = py\n",
    "        Invs[i,:,0] = getH(px,py,x,y,lam)\n",
    "        Invs[i,:,1] = getK(px,py,x,y,lam)\n",
    "    return data[:,ilive,:],Invs[:,ilive,:]"
   ]
  },
  {
   "cell_type": "code",
   "execution_count": 9,
   "metadata": {},
   "outputs": [],
   "source": [
    "def runBackward(x,px,y,py,lam,nturn):\n",
    "    npt = len(y)\n",
    "    data = np.zeros([nturn,npt,4])\n",
    "    for i in range(nturn):\n",
    "        x,px,y,py = multiStep(x,px,y,py,lam,-dt,nsteps)\n",
    "        data[i,:,0] = x\n",
    "        data[i,:,1] = px\n",
    "        data[i,:,2] = y\n",
    "        data[i,:,3] = py\n",
    "    return data"
   ]
  },
  {
   "cell_type": "code",
   "execution_count": 10,
   "metadata": {},
   "outputs": [],
   "source": [
    "def runPoincare(energy,y,py,lam,dt,nsample):\n",
    "    px2 = 2*energy - py*py - y*y - lam*(2.0/3.0)*y**3\n",
    "    if px2 < 0.0:\n",
    "        raise ValueError('px*px<0')\n",
    "        return 0\n",
    "    px = np.sqrt(px2)\n",
    "    x = 0.0\n",
    "    Y = np.zeros(nsample)\n",
    "    Py= np.zeros(nsample)\n",
    "    Y [0] = y\n",
    "    Py[0] =py\n",
    "    i=1\n",
    "    h=dt\n",
    "    while (i<nsample):\n",
    "        x,px,y,py = oneStep(x,px,y,py,lam,h)\n",
    "        if np.abs(x) < 1.0e-6:\n",
    "            Y [i]= y\n",
    "            Py[i]=py\n",
    "            i=i+1\n",
    "            h=dt\n",
    "        elif x*px < 0:\n",
    "            if np.abs(x) < 1.0e-5:\n",
    "                h=0.001*dt\n",
    "            elif np.abs(x) < 1.0e-4:\n",
    "                h=0.01*dt\n",
    "            elif np.abs(x) < 1.0e-3:\n",
    "                h=0.1*dt\n",
    "        else:\n",
    "            h=dt\n",
    "    return Y,Py"
   ]
  },
  {
   "cell_type": "code",
   "execution_count": 11,
   "metadata": {},
   "outputs": [],
   "source": [
    "def runFB(energy,y,py,lam,dt,nturn):\n",
    "    px2 = 2*energy - py*py - y*y - lam*2.0/3.0*y**3\n",
    "    if px2 < 0.0:\n",
    "        raise ValueError('px*px<0')\n",
    "        return 0\n",
    "    px = np.sqrt(px2)\n",
    "    x = 0.0\n",
    "    \n",
    "    tmp = np.zeros([nturn,4])\n",
    "    data = np.zeros([nturn])\n",
    "    for i in range(nturn):\n",
    "        tmp[i,0] = x\n",
    "        tmp[i,1] =px\n",
    "        tmp[i,2] = y\n",
    "        tmp[i,3] =py\n",
    "        x,px,y,py = multiStep(x,px,y,py,lam,dt,nsteps)  \n",
    "    for iturn in range(1,nturn):\n",
    "        x = tmp[iturn,0]\n",
    "        px= tmp[iturn,1]\n",
    "        y = tmp[iturn,2]\n",
    "        py= tmp[iturn,3]\n",
    "        for jturn in range(iturn):\n",
    "            x,px,y,py = multiStep(x,px,y,py,lam,-dt,nsteps)\n",
    "        data[iturn] = np.sqrt( (x -tmp[0,0])**2\n",
    "                              +(y -tmp[0,2])**2\n",
    "                              +(px-tmp[0,1])**2\n",
    "                              +(py-tmp[0,3])**2 )\n",
    "\n",
    "        \n",
    "    return data"
   ]
  },
  {
   "cell_type": "code",
   "execution_count": 12,
   "metadata": {},
   "outputs": [],
   "source": [
    "def runFB_ave(energy,y,py,lam,dt,nturn,ave_ratio):\n",
    "    px2 = 2*energy - py*py - y*y - lam*2.0/3.0*y**3\n",
    "    if px2 < 0.0:\n",
    "        raise ValueError('px*px<0')\n",
    "        return 0\n",
    "    px = np.sqrt(px2)\n",
    "    x = 0.0\n",
    "    \n",
    "    tmp = np.zeros([nturn,4])\n",
    "    data = np.zeros([nturn])\n",
    "    for i in range(nturn):\n",
    "        tmp[i,0] = x\n",
    "        tmp[i,1] =px\n",
    "        tmp[i,2] = y\n",
    "        tmp[i,3] =py\n",
    "        x,px,y,py = multiStep(x,px,y,py,lam,dt,nsteps)  \n",
    "    for iturn in range(1,nturn):\n",
    "        x = tmp[iturn,0]\n",
    "        px= tmp[iturn,1]\n",
    "        y = tmp[iturn,2]\n",
    "        py= tmp[iturn,3]\n",
    "        ave_turns = np.max([round(ave_ratio*iturn),1])\n",
    "        for jturn in range(iturn):\n",
    "            x,px,y,py = multiStep(x,px,y,py,lam,-dt,nsteps)\n",
    "            if iturn-jturn <= ave_turns:\n",
    "                data[iturn] = data[iturn] + np.sqrt( (x -tmp[iturn-jturn-1,0])**2\n",
    "                                                    +(y -tmp[iturn-jturn-1,2])**2\n",
    "                                                    +(px-tmp[iturn-jturn-1,1])**2\n",
    "                                                    +(py-tmp[iturn-jturn-1,3])**2 )\n",
    "        data[iturn] = data[iturn]/ave_turns\n",
    "    return data"
   ]
  },
  {
   "cell_type": "markdown",
   "metadata": {},
   "source": [
    "# Frequencies along lines"
   ]
  },
  {
   "cell_type": "code",
   "execution_count": 13,
   "metadata": {},
   "outputs": [],
   "source": [
    "def eval_lines(lam,n):\n",
    "    x=np.zeros(n)\n",
    "    y=np.zeros(n)\n",
    "    T = np.linspace(-1.0/lam,0.5/lam,n)\n",
    "    for i,t in enumerate(T):\n",
    "        x[i] = 0.5*t + 0.25/lam\n",
    "        y[i] = 0.5*t - 0.25/lam\n",
    "    return x,y"
   ]
  },
  {
   "cell_type": "code",
   "execution_count": 14,
   "metadata": {},
   "outputs": [
    {
     "name": "stdout",
     "output_type": "stream",
     "text": [
      "(256,)\n"
     ]
    },
    {
     "data": {
      "text/plain": [
       "(-1.1, 0.5)"
      ]
     },
     "execution_count": 14,
     "metadata": {},
     "output_type": "execute_result"
    },
    {
     "data": {
      "image/png": "[encoded data removed]",
      "text/plain": [
       "<Figure size 216x216 with 1 Axes>"
      ]
     },
     "metadata": {},
     "output_type": "display_data"
    }
   ],
   "source": [
    "npt=256\n",
    "nturn = 1024\n",
    "x,y = eval_lines(lambda_setting,npt)\n",
    "print(x.shape)\n",
    "plt.figure(figsize=(3,3))\n",
    "plt.plot(lambda_setting*x,lambda_setting*y,c='green')\n",
    "plt.grid\n",
    "plt.xlim([-0.9,0.9])\n",
    "plt.ylim([-1.1,0.5])"
   ]
  },
  {
   "cell_type": "code",
   "execution_count": 15,
   "metadata": {},
   "outputs": [
    {
     "name": "stderr",
     "output_type": "stream",
     "text": [
      "/home/kileanhwang/anaconda3/lib/python3.6/site-packages/ipykernel_launcher.py:7: RuntimeWarning: overflow encountered in multiply\n",
      "  import sys\n",
      "/home/kileanhwang/anaconda3/lib/python3.6/site-packages/ipykernel_launcher.py:8: RuntimeWarning: overflow encountered in multiply\n",
      "  \n",
      "/home/kileanhwang/anaconda3/lib/python3.6/site-packages/ipykernel_launcher.py:7: RuntimeWarning: invalid value encountered in add\n",
      "  import sys\n",
      "/home/kileanhwang/anaconda3/lib/python3.6/site-packages/ipykernel_launcher.py:8: RuntimeWarning: invalid value encountered in add\n",
      "  \n",
      "/home/kileanhwang/anaconda3/lib/python3.6/site-packages/ipykernel_launcher.py:14: RuntimeWarning: invalid value encountered in less\n",
      "  \n"
     ]
    }
   ],
   "source": [
    "data,invs = runFoward(x,np.zeros(npt),y,np.zeros(npt),lambda_setting,2*nturn) "
   ]
  },
  {
   "cell_type": "code",
   "execution_count": 16,
   "metadata": {},
   "outputs": [
    {
     "data": {
      "text/plain": [
       "(2048, 254, 2)"
      ]
     },
     "execution_count": 16,
     "metadata": {},
     "output_type": "execute_result"
    }
   ],
   "source": [
    "invs.shape"
   ]
  },
  {
   "cell_type": "code",
   "execution_count": 17,
   "metadata": {},
   "outputs": [
    {
     "data": {
      "text/plain": [
       "(-1.1, 0.5)"
      ]
     },
     "execution_count": 17,
     "metadata": {},
     "output_type": "execute_result"
    },
    {
     "data": {
      "image/png": "[encoded data removed]",
      "text/plain": [
       "<Figure size 216x216 with 1 Axes>"
      ]
     },
     "metadata": {},
     "output_type": "display_data"
    }
   ],
   "source": [
    "plt.figure(figsize=(3,3))\n",
    "plt.plot(lambda_setting*data[0,:,0],lambda_setting*data[0,:,2],c='green')\n",
    "plt.grid\n",
    "plt.xlim([-0.9,0.9])\n",
    "plt.ylim([-1.1,0.5])"
   ]
  },
  {
   "cell_type": "code",
   "execution_count": 18,
   "metadata": {},
   "outputs": [
    {
     "data": {
      "text/plain": [
       "array([0.03124785, 0.03124785, 0.03124785, ..., 0.03124785, 0.03124785,\n",
       "       0.03124785])"
      ]
     },
     "execution_count": 18,
     "metadata": {},
     "output_type": "execute_result"
    }
   ],
   "source": [
    "invs[:,0,0]"
   ]
  },
  {
   "cell_type": "code",
   "execution_count": 21,
   "metadata": {},
   "outputs": [
    {
     "data": {
      "image/png": "[encoded data removed]",
      "text/plain": [
       "<Figure size 648x216 with 2 Axes>"
      ]
     },
     "metadata": {},
     "output_type": "display_data"
    }
   ],
   "source": [
    "plt.figure(figsize=(9,3))\n",
    "plt.subplot(1,2,1)\n",
    "for i in range(10):\n",
    "    plt.plot(invs[:,i,0])\n",
    "plt.subplot(1,2,2)\n",
    "for i in range(10):\n",
    "    plt.plot(invs[:,i,1])\n",
    "plt.tight_layout()"
   ]
  },
  {
   "cell_type": "code",
   "execution_count": 25,
   "metadata": {},
   "outputs": [],
   "source": [
    "dum,npt,dum = data.shape"
   ]
  },
  {
   "cell_type": "code",
   "execution_count": 77,
   "metadata": {},
   "outputs": [],
   "source": [
    "X = np.zeros([2*nturn,npt],dtype=np.complex64)\n",
    "Y = np.zeros([2*nturn,npt],dtype=np.complex64)\n",
    "for i in range(2*nturn):\n",
    "    X[i,:] = data[i,:,0] - 1j*data[i,:,1]\n",
    "    Y[i,:] = data[i,:,2] - 1j*data[i,:,3]"
   ]
  },
  {
   "cell_type": "code",
   "execution_count": 78,
   "metadata": {},
   "outputs": [],
   "source": [
    "tuneX = np.zeros(npt)\n",
    "tuneY = np.zeros(npt)\n",
    "for i in range(npt):\n",
    "    signal = X[:,i] - X[:,i].mean()\n",
    "    tuneX[i], amp, dummy = impact.util.naff(1,signal)\n",
    "    signal = Y[:,i] - Y[:,i].mean()\n",
    "    tuneY[i], amp, dummy = impact.util.naff(1,signal)"
   ]
  },
  {
   "cell_type": "code",
   "execution_count": 68,
   "metadata": {},
   "outputs": [],
   "source": [
    "ref = np.loadtxt('w1table.data')"
   ]
  },
  {
   "cell_type": "code",
   "execution_count": 79,
   "metadata": {},
   "outputs": [
    {
     "data": {
      "image/png": "[encoded data removed]",
      "text/plain": [
       "<Figure size 864x216 with 3 Axes>"
      ]
     },
     "metadata": {},
     "output_type": "display_data"
    }
   ],
   "source": [
    "# ticks = np.array([.2,.4,.6,.8,1.,1.2,1.4])\n",
    "nu2 = 0.91039/(2*np.pi)\n",
    "min_q1 = (np.real(X[0,:])+np.real(Y[0,:])).min()\n",
    "max_q1 = (np.real(X[0,:])+np.real(Y[0,:])).max()\n",
    "plt.figure(figsize=(12,3))\n",
    "plt.subplot(1,3,1)\n",
    "plt.plot([min_q1,max_q1],[nu2,nu2],'k:',alpha=0.8)\n",
    "plt.plot(ref[:,0],ref[:,1]/(2*np.pi),'b')\n",
    "plt.plot(np.real(X[0,:])+np.real(Y[0,:]),tuneX,'r')\n",
    "plt.xlabel('$q_1$');\n",
    "plt.ylabel(r'$\\nu_x$');\n",
    "# plt.ylim((0,1.5))\n",
    "# plt.yticks(ticks)\n",
    "plt.subplot(1,3,2)\n",
    "plt.plot([min_q1,max_q1],[nu2,nu2],'k:',alpha=0.8)\n",
    "plt.plot(ref[:,0],ref[:,1]/(2*np.pi),'b')\n",
    "plt.plot(np.real(X[0,:])+np.real(Y[0,:]),tuneY,'r')\n",
    "plt.xlabel('$q_1$');\n",
    "plt.ylabel(r'$\\nu_y$');\n",
    "# plt.yticks(2*ticks)\n",
    "# plt.ylim(0,3.0)\n",
    "plt.subplot(1,3,3)\n",
    "plt.plot(np.real(X[0,:])+np.real(Y[0,:]),tuneY/tuneX,'r')\n",
    "plt.xlabel('$q_1$');\n",
    "plt.ylabel(r'$\\nu_y/\\nu_x$');\n",
    "plt.ylim(0.9,1.1)\n",
    "plt.tight_layout()\n",
    "plt.savefig('w1plot.png',dip=180)"
   ]
  },
  {
   "cell_type": "code",
   "execution_count": 39,
   "metadata": {},
   "outputs": [
    {
     "data": {
      "text/plain": [
       "0.14489306864143062"
      ]
     },
     "execution_count": 39,
     "metadata": {},
     "output_type": "execute_result"
    }
   ],
   "source": [
    "0.91039/(2*np.pi)"
   ]
  },
  {
   "cell_type": "code",
   "execution_count": 70,
   "metadata": {},
   "outputs": [],
   "source": [
    "Q1 = np.zeros([2*nturn,npt],dtype=np.complex64)\n",
    "Q2 = np.zeros([2*nturn,npt],dtype=np.complex64)\n",
    "for i in range(2*nturn):\n",
    "    Q1[i,:] = data[i,:,0]+data[i,:,2] - 1j*(data[i,:,1]+data[i,:,3])/2\n",
    "    Q2[i,:] = data[i,:,0]-data[i,:,2] - 1j*(data[i,:,1]-data[i,:,3])/2"
   ]
  },
  {
   "cell_type": "code",
   "execution_count": 74,
   "metadata": {},
   "outputs": [],
   "source": [
    "tuneQ1 = np.zeros(npt)\n",
    "tuneQ2 = np.zeros(npt)\n",
    "for i in range(npt):\n",
    "    signal = Q1[:,i] - Q1[:,i].mean()\n",
    "    tuneQ1[i], amp, dummy = impact.util.naff(1,signal)\n",
    "    signal = Q2[:,i] - Q2[:,i].mean()\n",
    "    tuneQ2[i], amp, dummy = impact.util.naff(1,signal)"
   ]
  },
  {
   "cell_type": "code",
   "execution_count": 33,
   "metadata": {},
   "outputs": [],
   "source": [
    "ref = np.loadtxt('w1table.data')"
   ]
  },
  {
   "cell_type": "code",
   "execution_count": 80,
   "metadata": {},
   "outputs": [
    {
     "data": {
      "image/png": "[encoded data removed]",
      "text/plain": [
       "<Figure size 864x216 with 3 Axes>"
      ]
     },
     "metadata": {},
     "output_type": "display_data"
    }
   ],
   "source": [
    "# ticks = np.array([.2,.4,.6,.8,1.,1.2,1.4])\n",
    "nu2 = 0.91039/(2*np.pi)\n",
    "plt.figure(figsize=(12,3))\n",
    "plt.subplot(1,3,1)\n",
    "plt.plot([min_q1,max_q1],[nu2,nu2],'k:',alpha=0.8)\n",
    "plt.plot(ref[:,0],ref[:,1]/(2*np.pi),'b')\n",
    "plt.plot(np.real(Q1[0,:]),tuneQ1,'r')\n",
    "plt.xlabel('$q_1$');\n",
    "plt.ylabel(r'$\\nu_1$');\n",
    "# plt.ylim((0,1.5))\n",
    "# plt.yticks(ticks)\n",
    "plt.subplot(1,3,2)\n",
    "plt.plot([min_q1,max_q1],[nu2,nu2],'k:',alpha=0.8)\n",
    "plt.plot(ref[:,0],ref[:,1]/(2*np.pi),'b')\n",
    "plt.plot(np.real(X[0,:])+np.real(Y[0,:]),tuneQ2,'r')\n",
    "plt.xlabel('$q_1$');\n",
    "plt.ylabel(r'$\\nu_2$');\n",
    "# plt.yticks(2*ticks)\n",
    "# plt.ylim(0,3.0)\n",
    "plt.subplot(1,3,3)\n",
    "plt.plot(np.real(X[0,:])+np.real(Y[0,:]),tuneQ2/tuneQ1,'r')\n",
    "plt.xlabel('$q_1$');\n",
    "plt.ylabel(r'$\\nu_2/\\nu_1$');\n",
    "plt.ylim(0.9,1.1)\n",
    "plt.tight_layout()\n",
    "plt.savefig('w1plot.using_normal_coord.png',dip=180)"
   ]
  },
  {
   "cell_type": "code",
   "execution_count": null,
   "metadata": {},
   "outputs": [],
   "source": [
    "# DA"
   ]
  },
  {
   "cell_type": "markdown",
   "metadata": {},
   "source": [
    "dataF = [0]*2\n",
    "dataB = [0]*2\n",
    "cFMA  = [0]*2\n",
    "cFB   = [0]*2\n",
    "dataFB= [0]*2\n",
    "dataFBave = [0]*2\n",
    "poinY = [0]*2\n",
    "poinPy= [0]*2\n",
    "Energy= [1.0/12.0, 1.0/9.0]"
   ]
  },
  {
   "cell_type": "markdown",
   "metadata": {},
   "source": [
    "# regular: E=1/12"
   ]
  },
  {
   "cell_type": "markdown",
   "metadata": {},
   "source": [
    "n=0\n",
    "energy = Energy[n]\n",
    "x,px,y,py = Init(energy,2.0)\n",
    "dataF[n] = runFoward  (x,px,y,py,2.0,2*nturn) \n",
    "x = dataF[n][nturn,:,0]\n",
    "px= dataF[n][nturn,:,1]\n",
    "y = dataF[n][nturn,:,2]\n",
    "py= dataF[n][nturn,:,3]\n",
    "dataB[n] = runBackward(x,px,y,py,2.0,  nturn)"
   ]
  },
  {
   "cell_type": "markdown",
   "metadata": {},
   "source": [
    "##### FMA"
   ]
  },
  {
   "cell_type": "markdown",
   "metadata": {},
   "source": [
    "dummy,npt,dummy = dataF[n].shape\n",
    "X = dataF[n][:,:,0] - 1j*dataF[n][:,:,1]\n",
    "Y = dataF[n][:,:,2] - 1j*dataF[n][:,:,3]\n",
    "tuneXbefore = np.zeros(npt)\n",
    "tuneYbefore = np.zeros(npt)\n",
    "Xdiff = np.zeros(npt)\n",
    "Ydiff = np.zeros(npt)\n",
    "for i in range(npt):\n",
    "    signal = X[:nturn,i] -np.mean(X[:nturn,i])\n",
    "    tuneXbefore[i],amp,dummy = naff(1,signal,window_id=1)\n",
    "    signal = X[nturn:,i] -np.mean(X[nturn:,i])\n",
    "    tune,amp,dummy = naff(5,signal,window_id=1)\n",
    "    Xdiff[i] = getClosestDiff(tuneXbefore[i],tune)\n",
    "\n",
    "    signal = Y[:nturn,i] -np.mean(Y[:nturn,i])\n",
    "    tuneYbefore[i],amp,dummy = naff(1,signal,window_id=1)\n",
    "    signal = Y[nturn:,i] -np.mean(Y[nturn:,i])\n",
    "    tune,amp,dummy = naff(5,signal,window_id=1)\n",
    "    Ydiff[i] = getClosestDiff(tuneYbefore[i],tune)"
   ]
  },
  {
   "cell_type": "markdown",
   "metadata": {},
   "source": [
    "cFMA[n] = np.sqrt(Xdiff**2 +Ydiff**2)\n",
    "cFMA[n] = np.log10(cFMA[n]+1.0e-6)"
   ]
  },
  {
   "cell_type": "markdown",
   "metadata": {},
   "source": [
    "ymin = dataF[n][0,:,2].min()\n",
    "ymax = dataF[n][0,:,2].max()\n",
    "pymin= dataF[n][0,:,3].min()\n",
    "pymax= dataF[n][0,:,3].max()\n",
    "fig = plt.figure(figsize=[4,3.3])\n",
    "f1=plt.scatter(dataF[n][0,:,2],dataF[n][0,:,3],c=cFMA[n],s=1.6,marker='s')\n",
    "plt.xlim( ymin*1.1, ymax*1.1)\n",
    "plt.ylim(pymin*1.1,pymax*1.1)\n",
    "plt.xlabel('$y$')\n",
    "plt.ylabel('$p_y$')\n",
    "plt.colorbar(f1)"
   ]
  },
  {
   "cell_type": "markdown",
   "metadata": {},
   "source": [
    "##### FB"
   ]
  },
  {
   "cell_type": "markdown",
   "metadata": {},
   "source": [
    "cFB[n] = np.log10(np.sqrt(np.sum( (dataF[n][0,:,:]-dataB[n][-1,:,:])**2, axis=1)))"
   ]
  },
  {
   "cell_type": "markdown",
   "metadata": {},
   "source": [
    "fig = plt.figure(figsize=[4,3.3])\n",
    "f1=plt.scatter(dataF[n][0,:,2],dataF[n][0,:,3],c=cFB[n],s=1.6,marker='s')\n",
    "plt.xlim( ymin*1.1, ymax*1.1)\n",
    "plt.ylim(pymin*1.1,pymax*1.1)\n",
    "plt.xlabel('$y$')\n",
    "plt.ylabel('$p_y$')\n",
    "plt.colorbar(f1)"
   ]
  },
  {
   "cell_type": "markdown",
   "metadata": {},
   "source": [
    "##### Poincare"
   ]
  },
  {
   "cell_type": "markdown",
   "metadata": {},
   "source": [
    "poinY[n],poinPy[n] = runPoincare(energy,-0.15,0.0,2.0,1.0e-3,2048*4)"
   ]
  },
  {
   "cell_type": "markdown",
   "metadata": {},
   "source": [
    "fig = plt.figure(figsize=[4,3.3])\n",
    "plt.scatter(poinY[n],poinPy[n],s=1)\n",
    "# plt.xlim( ymin*1.1, ymax*1.1)\n",
    "# plt.ylim(pymin*1.1,pymax*1.1)\n",
    "plt.xlabel('$y$')\n",
    "plt.ylabel('$p_y$')"
   ]
  },
  {
   "cell_type": "markdown",
   "metadata": {},
   "source": [
    "# regular: E=1/9"
   ]
  },
  {
   "cell_type": "markdown",
   "metadata": {},
   "source": [
    "n=1\n",
    "energy = Energy[n]\n",
    "x,px,y,py = Init(energy)\n",
    "dataF[n] = runFoward  (x,px,y,py,2.0,2*nturn) \n",
    "x = dataF[n][nturn,:,0]\n",
    "px= dataF[n][nturn,:,1]\n",
    "y = dataF[n][nturn,:,2]\n",
    "py= dataF[n][nturn,:,3]\n",
    "dataB[n] = runBackward(x,px,y,py,2.0,  nturn)"
   ]
  },
  {
   "cell_type": "markdown",
   "metadata": {},
   "source": [
    "##### FMA"
   ]
  },
  {
   "cell_type": "markdown",
   "metadata": {},
   "source": [
    "dummy,npt,dummy = dataF[n].shape\n",
    "X = dataF[n][:,:,0] - 1j*dataF[n][:,:,1]\n",
    "Y = dataF[n][:,:,2] - 1j*dataF[n][:,:,3]\n",
    "tuneXbefore = np.zeros(npt)\n",
    "tuneYbefore = np.zeros(npt)\n",
    "Xdiff = np.zeros(npt)\n",
    "Ydiff = np.zeros(npt)\n",
    "for i in range(npt):\n",
    "    signal = X[:nturn,i] -np.mean(X[:nturn,i])\n",
    "    tuneXbefore[i],amp,dummy = naff(1,signal,window_id=1)\n",
    "    signal = X[nturn:,i] -np.mean(X[nturn:,i])\n",
    "    tune,amp,dummy = naff(5,signal,window_id=1)\n",
    "    Xdiff[i] = getClosestDiff(tuneXbefore[i],tune)\n",
    "\n",
    "    signal = Y[:nturn,i] -np.mean(Y[:nturn,i])\n",
    "    tuneYbefore[i],amp,dummy = naff(1,signal,window_id=1)\n",
    "    signal = Y[nturn:,i] -np.mean(Y[nturn:,i])\n",
    "    tune,amp,dummy = naff(5,signal,window_id=1)\n",
    "    Ydiff[i] = getClosestDiff(tuneYbefore[i],tune)"
   ]
  },
  {
   "cell_type": "markdown",
   "metadata": {},
   "source": [
    "cFMA[n] = np.sqrt(Xdiff**2 +Ydiff**2)\n",
    "cFMA[n] = np.log10(cFMA[n]+1.0e-6)"
   ]
  },
  {
   "cell_type": "markdown",
   "metadata": {},
   "source": [
    "ymin = dataF[n][0,:,2].min()\n",
    "ymax = dataF[n][0,:,2].max()\n",
    "pymin= dataF[n][0,:,3].min()\n",
    "pymax= dataF[n][0,:,3].max()\n",
    "fig = plt.figure(figsize=[4,3.3])\n",
    "f1=plt.scatter(dataF[n][0,:,2],dataF[n][0,:,3],c=cFMA[n],s=1.6,marker='s')\n",
    "plt.xlim( ymin*1.1, ymax*1.1)\n",
    "plt.ylim(pymin*1.1,pymax*1.1)\n",
    "plt.xlabel('$y$')\n",
    "plt.ylabel('$p_y$')\n",
    "plt.colorbar(f1)"
   ]
  },
  {
   "cell_type": "markdown",
   "metadata": {},
   "source": [
    "##### FB"
   ]
  },
  {
   "cell_type": "markdown",
   "metadata": {},
   "source": [
    "cFB[n] = np.log10(np.sqrt(np.sum( (dataF[n][0,:,:]-dataB[n][-1,:,:])**2, axis=1)))"
   ]
  },
  {
   "cell_type": "markdown",
   "metadata": {},
   "source": [
    "fig = plt.figure(figsize=[4,3.3])\n",
    "f1=plt.scatter(dataF[n][0,:,2],dataF[n][0,:,3],c=cFB[n],s=1.6,marker='s')\n",
    "plt.xlim( ymin*1.1, ymax*1.1)\n",
    "plt.ylim(pymin*1.1,pymax*1.1)\n",
    "plt.xlabel('$y$')\n",
    "plt.ylabel('$p_y$')\n",
    "plt.colorbar(f1)"
   ]
  },
  {
   "cell_type": "markdown",
   "metadata": {},
   "source": [
    "##### Poincare"
   ]
  },
  {
   "cell_type": "markdown",
   "metadata": {},
   "source": [
    "poinY[n],poinPy[n] = runPoincare(energy,-0.15,0.0,2.0,1.0e-3,2048*4)"
   ]
  },
  {
   "cell_type": "markdown",
   "metadata": {},
   "source": [
    "fig = plt.figure(figsize=[4,3.3])\n",
    "plt.scatter(poinY[n],poinPy[n],s=1)\n",
    "# plt.xlim( ymin*1.1, ymax*1.1)\n",
    "# plt.ylim(pymin*1.1,pymax*1.1)\n",
    "plt.xlabel('$y$')\n",
    "plt.ylabel('$p_y$')"
   ]
  }
 ],
 "metadata": {
  "kernelspec": {
   "display_name": "Python 3",
   "language": "python",
   "name": "python3"
  },
  "language_info": {
   "codemirror_mode": {
    "name": "ipython",
    "version": 3
   },
   "file_extension": ".py",
   "mimetype": "text/x-python",
   "name": "python",
   "nbconvert_exporter": "python",
   "pygments_lexer": "ipython3",
   "version": "3.7.6"
  }
 },
 "nbformat": 4,
 "nbformat_minor": 2
}
