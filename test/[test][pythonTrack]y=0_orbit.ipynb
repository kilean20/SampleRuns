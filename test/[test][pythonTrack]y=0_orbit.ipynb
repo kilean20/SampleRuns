{
 "cells": [
  {
   "cell_type": "code",
   "execution_count": 1,
   "metadata": {},
   "outputs": [],
   "source": [
    "import numpy as np\n",
    "import pImpactR as impact\n",
    "from copy import deepcopy as copy\n",
    "import matplotlib.pyplot as plt\n",
    "np.set_printoptions(precision=3)\n",
    "import pandas as P\n",
    "P.set_option('display.precision',3)"
   ]
  },
  {
   "cell_type": "code",
   "execution_count": 2,
   "metadata": {},
   "outputs": [],
   "source": [
    "NL_t = -0.4\n",
    "NL_c = 0.01\n",
    "NL_L = 1.8\n",
    "NL_mu = 0.3034496449165134\n",
    "\n",
    "mass = 938.272045e6\n",
    "ke = 2.5*1.0e6\n",
    "energy = ke+mass\n",
    "freq = 30*1.0e6\n",
    "\n",
    "g = energy/mass\n",
    "bg = np.sqrt(g**2-1.0)\n",
    "vec = bg/g*impact.data.clight\n",
    "\n",
    "alfaEntrance = np.tan(np.pi*NL_mu)\n",
    "betaEntrance = NL_L/np.sin(2.0*np.pi*NL_mu)"
   ]
  },
  {
   "cell_type": "code",
   "execution_count": 3,
   "metadata": {},
   "outputs": [
    {
     "name": "stdout",
     "output_type": "stream",
     "text": [
      "1.4082261727304293 1.9065054393933862\n"
     ]
    }
   ],
   "source": [
    "print(alfaEntrance,betaEntrance)"
   ]
  },
  {
   "cell_type": "markdown",
   "metadata": {},
   "source": [
    "# Check Kick on y=0 axis"
   ]
  },
  {
   "cell_type": "code",
   "execution_count": 4,
   "metadata": {},
   "outputs": [],
   "source": [
    "def croot(z):\n",
    "    return np.sqrt(1.0-z**2)\n",
    "\n",
    "def carcsin(z):\n",
    "    return -1j*np.log(1j*z+croot(z))\n",
    "\n",
    "def Fderivative(x,y):\n",
    "    zeta = x+1j*y\n",
    "    denom = croot(zeta)\n",
    "    return zeta/denom**2 + carcsin(zeta)/denom**3"
   ]
  },
  {
   "cell_type": "code",
   "execution_count": 5,
   "metadata": {},
   "outputs": [],
   "source": [
    "def carcsin2(z):\n",
    "    return np.arcsin(z)\n",
    "\n",
    "def Fderivative2(x,y):\n",
    "    zeta = x+1j*y\n",
    "    denom = croot(zeta)\n",
    "    return zeta/denom**2 + carcsin2(zeta)/denom**3"
   ]
  },
  {
   "cell_type": "code",
   "execution_count": 6,
   "metadata": {},
   "outputs": [
    {
     "name": "stdout",
     "output_type": "stream",
     "text": [
      "0.8 (6.515255638896358+2.0559685641206615e-16j) (6.515255638896358+0j)\n",
      "0.9 (18.25751289733131+1.785037238059147e-16j) (18.25751289733131+0j)\n",
      "1.1 (-0.6288319691627713+16.322660020172773j) (-9.847358507027696+16.322660020172773j)\n",
      "1.2 (-0.594893689661065+5.381964915337972j) (-4.85965176488439+5.381964915337972j)\n"
     ]
    }
   ],
   "source": [
    "y=0.0\n",
    "y=np.array(y)\n",
    "for x in [0.8,0.9,1.1,1.2]:\n",
    "    print(x,Fderivative(x,0.0),Fderivative2(x,0.0))"
   ]
  },
  {
   "cell_type": "code",
   "execution_count": 7,
   "metadata": {},
   "outputs": [
    {
     "name": "stdout",
     "output_type": "stream",
     "text": [
      "0.8 (0.9272952180016124+4.440892098500625e-17j) (0.9272952180016123+0j)\n",
      "0.9 (1.1197695149986342+1.4783514169197868e-17j) (1.1197695149986342+0j)\n",
      "1.1 (1.5707963267948966-0.4435682543851154j) (1.5707963267948966+0.4435682543851154j)\n",
      "1.2 (1.5707963267948966-0.6223625037147785j) (1.5707963267948966+0.6223625037147786j)\n"
     ]
    }
   ],
   "source": [
    "y = 0.0\n",
    "for x in [0.8,0.9,1.1,1.2]:\n",
    "    z=x+1j*y\n",
    "    print(x,carcsin(z),carcsin2(z))"
   ]
  },
  {
   "cell_type": "code",
   "execution_count": 8,
   "metadata": {
    "scrolled": true
   },
   "outputs": [
    {
     "name": "stdout",
     "output_type": "stream",
     "text": [
      "0.8 (4.293033416674135+2.0559685641206615e-16j) (4.293033416674135+0j)\n",
      "0.9 (13.520670792068149+1.785037238059147e-16j) (13.520670792068149+0j)\n",
      "1.1 (4.609263268932462+16.322660020172773j) (-4.609263268932462+16.322660020172773j)\n",
      "1.2 (2.1323790376116625+5.381964915337972j) (-2.132379037611663+5.381964915337972j)\n"
     ]
    }
   ],
   "source": [
    "y = 0.0\n",
    "for x in [0.8,0.9,1.1,1.2]:\n",
    "    z=x+1j*y\n",
    "    denom = croot(z)\n",
    "    a=carcsin(z)/denom**3\n",
    "    b=carcsin2(z)/denom**3\n",
    "    print(x,a,b)"
   ]
  },
  {
   "cell_type": "code",
   "execution_count": 9,
   "metadata": {},
   "outputs": [
    {
     "name": "stdout",
     "output_type": "stream",
     "text": [
      "1.09999999999 (-0.6288319691663498+16.322660022737757j) (-9.847358508026382+16.322660022737757j)\n",
      "1.1 (-0.6288319691627713+16.322660020172773j) (-9.847358507027696+16.322660020172773j)\n",
      "1.10000000001 (-0.6288319691591928+16.32266001760779j) (-9.84735850602901+16.32266001760779j)\n"
     ]
    }
   ],
   "source": [
    "y=0.0\n",
    "X = np.linspace(-1,1,3)*1.0e-11 + 1.1\n",
    "for x in X:\n",
    "    z = x+1j*y\n",
    "    print(x,Fderivative(x,0.0),Fderivative2(x,0.0))  "
   ]
  },
  {
   "cell_type": "code",
   "execution_count": 10,
   "metadata": {},
   "outputs": [
    {
     "name": "stdout",
     "output_type": "stream",
     "text": [
      "-1e-11 (-0.6288319717277604+16.322660020169195j) (-0.6288319717277604+16.322660020169195j)\n",
      "0.0 (-0.6288319691627713+16.322660020172773j) (-9.847358507027696+16.322660020172773j)\n",
      "1e-11 (-0.6288319717277613-16.322660020169195j) (-0.6288319717277604-16.322660020169195j)\n"
     ]
    }
   ],
   "source": [
    "Y = np.linspace(-1,1,3)*1.0e-11\n",
    "for y in Y:\n",
    "    print(y,Fderivative(1.1,y),Fderivative2(1.1,y))  "
   ]
  },
  {
   "cell_type": "code",
   "execution_count": 11,
   "metadata": {},
   "outputs": [
    {
     "name": "stdout",
     "output_type": "stream",
     "text": [
      "-1e-11 (1.570796326773075-0.4435682543851154j) (1.570796326773075-0.4435682543851154j)\n",
      "0.0 (1.5707963267948966-0.4435682543851154j) (1.5707963267948966+0.4435682543851154j)\n",
      "1e-11 (1.570796326773075+0.4435682543851153j) (1.570796326773075+0.4435682543851154j)\n"
     ]
    }
   ],
   "source": [
    "Y = np.linspace(-1,1,3)*1.0e-11\n",
    "x=1.1\n",
    "for y in Y:\n",
    "    z = x+1j*y\n",
    "    print(y,carcsin(z),carcsin2(z))  "
   ]
  },
  {
   "cell_type": "markdown",
   "metadata": {},
   "source": [
    "# Check Potential on y=0 axis"
   ]
  },
  {
   "cell_type": "code",
   "execution_count": 12,
   "metadata": {},
   "outputs": [],
   "source": [
    "def Fpotential(x,y):\n",
    "    zeta = x+1j*y\n",
    "    return zeta/croot(zeta)*carcsin(zeta)\n",
    "\n",
    "def Fpotential2(x,y):\n",
    "    zeta = x+1j*y\n",
    "    return zeta/croot(zeta)*carcsin2(zeta)"
   ]
  },
  {
   "cell_type": "code",
   "execution_count": 13,
   "metadata": {},
   "outputs": [
    {
     "name": "stdout",
     "output_type": "stream",
     "text": [
      "0.8 1.2363936240021502 1.23639362400215\n",
      "0.9 2.312034705443653 2.312034705443653\n",
      "1.1 -1.0647398151234 1.0647398151234\n",
      "1.2 -1.1258961318589578 1.125896131858958\n",
      "\n",
      "0.8 1.2363936240021502 1.23639362400215\n",
      "0.9 2.312034705443653 2.312034705443653\n",
      "1.1 -1.0647398151234 1.0647398151234\n",
      "1.2 -1.1258961318589578 1.125896131858958\n",
      "\n",
      "0.8 1.2363936240021502 1.23639362400215\n",
      "0.9 2.312034705443653 2.312034705443653\n",
      "1.1 -1.0647398151234 1.0647398151234\n",
      "1.2 -1.1258961318589578 1.125896131858958\n"
     ]
    }
   ],
   "source": [
    "y=0.0\n",
    "for x in [0.8,0.9,1.1,1.2]:\n",
    "    z = x+1j*y\n",
    "    print(x,np.real(Fpotential(x,0.0)),np.real(Fpotential2(x,0.0)))\n",
    "print()    \n",
    "y=1.0e-12\n",
    "for x in [0.8,0.9,1.1,1.2]:\n",
    "    z = x+1j*y\n",
    "    print(x,np.real(Fpotential(x,0.0)),np.real(Fpotential2(x,0.0)))\n",
    "print()\n",
    "y=-1.0e-12\n",
    "for x in [0.8,0.9,1.1,1.2]:\n",
    "    z = x+1j*y\n",
    "    print(x,np.real(Fpotential(x,0.0)),np.real(Fpotential2(x,0.0)))"
   ]
  },
  {
   "cell_type": "code",
   "execution_count": 14,
   "metadata": {},
   "outputs": [
    {
     "name": "stdout",
     "output_type": "stream",
     "text": [
      "1.09999999999 -1.0647398151171117 1.0647398151171117\n",
      "1.1 -1.0647398151234 1.0647398151234\n",
      "1.10000000001 -1.0647398151296885 1.0647398151296885\n"
     ]
    }
   ],
   "source": [
    "y=0.0\n",
    "X = np.linspace(-1,1,3)*1.0e-11 + 1.1\n",
    "for x in X:\n",
    "    z = x+1j*y\n",
    "    print(x,np.real(Fpotential(x,0.0)),np.real(Fpotential2(x,0.0)))  "
   ]
  },
  {
   "cell_type": "code",
   "execution_count": 15,
   "metadata": {},
   "outputs": [
    {
     "name": "stdout",
     "output_type": "stream",
     "text": [
      "-1e-09 -1.06473979880074 -1.06473979880074\n",
      "0.0 -1.0647398151234 1.0647398151234\n",
      "1e-09 -1.0647397988007399 -1.06473979880074\n"
     ]
    }
   ],
   "source": [
    "Y = np.linspace(-1,1,3)*1.0e-9\n",
    "for y in Y:\n",
    "    print(y,np.real(Fpotential(1.1,y)),np.real(Fpotential2(1.1,y)))  "
   ]
  },
  {
   "cell_type": "code",
   "execution_count": 16,
   "metadata": {},
   "outputs": [
    {
     "name": "stdout",
     "output_type": "stream",
     "text": [
      "1.6322660112422227e-08\n"
     ]
    }
   ],
   "source": [
    "print(-1.0647397988007399 - -1.0647398151234)"
   ]
  },
  {
   "cell_type": "code",
   "execution_count": 17,
   "metadata": {},
   "outputs": [
    {
     "name": "stdout",
     "output_type": "stream",
     "text": [
      "-1.6322659890377622e-08\n"
     ]
    }
   ],
   "source": [
    "print(-1.0647398151234 - -1.06473979880074)"
   ]
  },
  {
   "cell_type": "markdown",
   "metadata": {},
   "source": [
    "# def subroutine "
   ]
  },
  {
   "cell_type": "code",
   "execution_count": 18,
   "metadata": {},
   "outputs": [],
   "source": [
    "def croot(z):\n",
    "    return np.sqrt(1.0-z**2)\n",
    "\n",
    "def carcsin(z):\n",
    "    return -1j*np.log(1j*z+croot(z))\n",
    "\n",
    "def Fpotential(x,y):\n",
    "    zeta = x+1j*y\n",
    "    return zeta/croot(zeta)*carcsin(zeta)\n",
    "\n",
    "def Fderivative(x,y):\n",
    "    zeta = x+1j*y\n",
    "    denom = croot(zeta)\n",
    "    return zeta/denom**2 + carcsin(zeta)/denom**3\n",
    "\n",
    "def driftpropagator(x,px,y,py,ds):\n",
    "    x= x+px*ds\n",
    "    y= y+py*ds\n",
    "    return x,px,y,py\n",
    "\n",
    "def NLpropagator(x,px,y,py,ds):\n",
    "    dF = Fderivative(x,y)\n",
    "    px = px - x*ds + np.real(dF)*ds*NL_t\n",
    "    if y==0.0:\n",
    "        py = py - y*ds\n",
    "    else:\n",
    "        py = py - y*ds - np.imag(dF)*ds*NL_t\n",
    "    return x,px,y,py\n",
    "\n",
    "\n",
    "def InvariantPotentials(x,px,y,py):\n",
    "    zeta = x+1j*y\n",
    "    zetaconj = x-1j*y\n",
    "    Hpotential = zeta/croot(zeta)\n",
    "    Ipotential = (zeta+zetaconj)/croot(zeta)   \n",
    "    Hpotential = Hpotential*carcsin(zeta)\n",
    "    Ipotential = Ipotential*carcsin(zeta)\n",
    "    Hinv = -NL_t*np.real(Hpotential) + 0.5*(x**2+px**2+y**2+py**2)\n",
    "    Iinv = -NL_t*np.real(Ipotential) + (x*py - y*px)**2 + x**2 + px**2\n",
    "    return Hinv,Iinv\n",
    "    \n",
    "def track(x,px,y,py,L,n):\n",
    "    ds = L/n\n",
    "    data = np.zeros((6,n+1))\n",
    "    for i in range(n):\n",
    "        data[:4,i] = x,px,y,py\n",
    "        data[4:,i] = InvariantPotentials(x,px,y,py)\n",
    "        x,px,y,py = driftpropagator(x,px,y,py,0.5*ds)\n",
    "        x,px,y,py = NLpropagator(x,px,y,py,ds)\n",
    "        x,px,y,py = driftpropagator(x,px,y,py,0.5*ds)\n",
    "    data[:4,-1] = x,px,y,py\n",
    "    data[4:,-1] = InvariantPotentials(x,px,y,py)\n",
    "    return data"
   ]
  },
  {
   "cell_type": "code",
   "execution_count": 19,
   "metadata": {},
   "outputs": [],
   "source": [
    "x = 1.159;\n",
    "y = 0.307;\n",
    "px= 0.0;\n",
    "py= 0.0;\n",
    "Lrad = 30.0\n",
    "data1 = track(x,px,y,py,Lrad,1000)\n",
    "data2 = track(x-1.0e-3,px,y,py,Lrad,1000)\n",
    "data3 = track(x-1.0e-3,px,y+1.0e-3,py,Lrad,1000)\n",
    "data4 = track(x,px,y-1.0e-3,py,Lrad,1000)\n",
    "data5 = track(x+1.0e-3,px,y,py,Lrad,1000)"
   ]
  },
  {
   "cell_type": "code",
   "execution_count": 20,
   "metadata": {},
   "outputs": [
    {
     "data": {
      "image/png": "[encoded data removed]",
      "text/plain": [
       "<Figure size 576x864 with 3 Axes>"
      ]
     },
     "metadata": {},
     "output_type": "display_data"
    }
   ],
   "source": [
    "plt.figure(figsize=(8,12))\n",
    "plt.subplot(3,2,1)\n",
    "plt.scatter(data1[0,:],data1[2,:],s=0.1)\n",
    "plt.scatter(data2[0,:],data2[2,:],s=0.1)\n",
    "plt.scatter(data3[0,:],data3[2,:],s=0.1)\n",
    "plt.scatter(data4[0,:],data4[2,:],s=0.1)\n",
    "plt.scatter(data5[0,:],data5[2,:],s=0.1)\n",
    "plt.xlabel('x')\n",
    "plt.ylabel('y')\n",
    "plt.subplot(3,2,2)\n",
    "plt.scatter(data1[0,:],data1[1,:],s=0.1)\n",
    "plt.scatter(data2[0,:],data2[1,:],s=0.1)\n",
    "plt.scatter(data3[0,:],data3[1,:],s=0.1)\n",
    "plt.scatter(data4[0,:],data4[1,:],s=0.1)\n",
    "plt.scatter(data5[0,:],data5[1,:],s=0.1)\n",
    "plt.xlabel('x')\n",
    "plt.ylabel('px')\n",
    "plt.subplot(3,2,3)\n",
    "plt.scatter(data1[2,:],data1[3,:],s=0.1)\n",
    "plt.scatter(data2[2,:],data2[3,:],s=0.1)\n",
    "plt.scatter(data3[2,:],data3[3,:],s=0.1)\n",
    "plt.scatter(data4[2,:],data4[3,:],s=0.1)\n",
    "plt.scatter(data5[2,:],data5[3,:],s=0.1)\n",
    "plt.xlabel('y')\n",
    "plt.ylabel('py')\n",
    "# plt.subplot(3,2,4)\n",
    "# plt.plot(X,data1[3,:])\n",
    "# plt.plot(X,data2[3,:])\n",
    "# plt.plot(X,data3[3,:])\n",
    "# plt.plot(X,data4[3,:])\n",
    "# plt.plot(X,data5[3,:])\n",
    "# plt.ylabel('py')\n",
    "# plt.subplot(3,2,5)\n",
    "# plt.plot(X,data1[4,:])\n",
    "# plt.plot(X,data2[4,:])\n",
    "# plt.plot(X,data3[4,:])\n",
    "# plt.plot(X,data4[4,:])\n",
    "# plt.plot(X,data5[4,:])\n",
    "# plt.ylabel('Hiv')\n",
    "# plt.subplot(3,2,6)\n",
    "# plt.plot(X,data1[5,:])\n",
    "# plt.plot(X,data2[5,:])\n",
    "# plt.plot(X,data3[5,:])\n",
    "# plt.plot(X,data4[5,:])\n",
    "# plt.plot(X,data5[5,:])\n",
    "# plt.ylabel('Iinv')\n",
    "plt.tight_layout()"
   ]
  },
  {
   "cell_type": "code",
   "execution_count": 21,
   "metadata": {
    "scrolled": false
   },
   "outputs": [
    {
     "data": {
      "text/plain": [
       "(0.3, 0.315)"
      ]
     },
     "execution_count": 21,
     "metadata": {},
     "output_type": "execute_result"
    },
    {
     "data": {
      "image/png": "[encoded data removed]",
      "text/plain": [
       "<Figure size 288x288 with 1 Axes>"
      ]
     },
     "metadata": {},
     "output_type": "display_data"
    }
   ],
   "source": [
    "plt.figure(figsize=(4,4))\n",
    "plt.scatter(data2[0,:],data2[2,:],s=0.8)\n",
    "plt.scatter(data2[0,0],data2[2,0],marker='x')\n",
    "plt.scatter(data1[0,0],data1[2,0],marker='o')\n",
    "plt.xlabel('x')\n",
    "plt.ylabel('y')\n",
    "plt.xlim(1.15,1.165)\n",
    "plt.ylim(0.30,0.315)"
   ]
  },
  {
   "cell_type": "code",
   "execution_count": 22,
   "metadata": {},
   "outputs": [
    {
     "data": {
      "text/plain": [
       "Text(0,0.5,'y')"
      ]
     },
     "execution_count": 22,
     "metadata": {},
     "output_type": "execute_result"
    },
    {
     "data": {
      "image/png": "[encoded data removed]",
      "text/plain": [
       "<Figure size 288x288 with 1 Axes>"
      ]
     },
     "metadata": {},
     "output_type": "display_data"
    }
   ],
   "source": [
    "plt.figure(figsize=(4,4))\n",
    "plt.scatter(data2[0,:],data2[2,:],s=0.8)\n",
    "plt.scatter(data2[0,0],data2[2,0],marker='x')\n",
    "plt.scatter(data1[0,0],data1[2,0],marker='o')\n",
    "plt.xlabel('x')\n",
    "plt.ylabel('y')"
   ]
  },
  {
   "cell_type": "code",
   "execution_count": 23,
   "metadata": {},
   "outputs": [
    {
     "data": {
      "text/plain": [
       "Text(0,0.5,'y')"
      ]
     },
     "execution_count": 23,
     "metadata": {},
     "output_type": "execute_result"
    },
    {
     "data": {
      "image/png": "[encoded data removed]",
      "text/plain": [
       "<Figure size 288x288 with 1 Axes>"
      ]
     },
     "metadata": {},
     "output_type": "display_data"
    }
   ],
   "source": [
    "plt.figure(figsize=(4,4))\n",
    "plt.scatter(data5[0,:100],data5[2,:100],s=0.8)\n",
    "plt.scatter(data5[0,0],data5[2,0],marker='x')\n",
    "plt.scatter(data1[0,0],data1[2,0],marker='o')\n",
    "plt.xlabel('x')\n",
    "plt.ylabel('y')"
   ]
  },
  {
   "cell_type": "code",
   "execution_count": 24,
   "metadata": {
    "scrolled": false
   },
   "outputs": [
    {
     "data": {
      "text/plain": [
       "(-1.0, 1.0)"
      ]
     },
     "execution_count": 24,
     "metadata": {},
     "output_type": "execute_result"
    },
    {
     "data": {
      "image/png": "[encoded data removed]",
      "text/plain": [
       "<Figure size 288x288 with 1 Axes>"
      ]
     },
     "metadata": {},
     "output_type": "display_data"
    }
   ],
   "source": [
    "plt.figure(figsize=(4,4))\n",
    "plt.scatter(data1[0,:],data1[2,:],s=0.1)\n",
    "plt.scatter(data2[0,:],data2[2,:],s=0.1)\n",
    "plt.scatter(data3[0,:],data3[2,:],s=0.1)\n",
    "plt.scatter(data4[0,:],data4[2,:],s=0.1)\n",
    "plt.scatter(data5[0,:],data5[2,:],s=0.1)\n",
    "plt.xlim(-1.5,1.5)\n",
    "plt.ylim(-1.0,1.0)"
   ]
  },
  {
   "cell_type": "code",
   "execution_count": 25,
   "metadata": {},
   "outputs": [],
   "source": [
    "def croot(z):\n",
    "    return np.sqrt(1.0-z**2)\n",
    "\n",
    "def carcsin(z):\n",
    "    return -1j*np.log(1j*z+croot(z))\n",
    "\n",
    "def Fpotential(x,y):\n",
    "    zeta = x+1j*y\n",
    "    return zeta/croot(zeta)*carcsin(zeta)\n",
    "\n",
    "def Fderivative(x,y):\n",
    "    zeta = x+1j*y\n",
    "    denom = croot(zeta)\n",
    "#     print(carcsin(zeta))\n",
    "#     print(zeta/denom**2, carcsin(zeta)/denom**3)\n",
    "    return zeta/denom**2 + carcsin(zeta)/denom**3\n",
    "\n",
    "def driftpropagator(x,px,y,py,ds):\n",
    "    x= x+px*ds\n",
    "    y= y+py*ds\n",
    "    return x,px,y,py\n",
    "\n",
    "def NLpropagator(x,px,y,py,ds):\n",
    "    dF = Fderivative(x,y)\n",
    "    px = px - x*ds + np.real(dF)*ds*NL_t\n",
    "    py = py - y*ds - np.imag(dF)*ds*NL_t\n",
    "    return x,px,y,py\n",
    "\n",
    "\n",
    "def InvariantPotentials(x,px,y,py):\n",
    "    zeta = x+1j*y\n",
    "    zetaconj = x-1j*y\n",
    "    Hpotential = zeta/croot(zeta)\n",
    "    Ipotential = (zeta+zetaconj)/croot(zeta)   \n",
    "    Hpotential = Hpotential*carcsin(zeta)\n",
    "    Ipotential = Ipotential*carcsin(zeta)\n",
    "    Hinv = -NL_t*np.real(Hpotential) + 0.5*(x**2+px**2+y**2+py**2)\n",
    "    Iinv = -NL_t*np.real(Ipotential) + (x*py - y*px)**2 + x**2 + px**2\n",
    "    return Hinv,Iinv\n",
    "    \n",
    "def track(x,px,y,py,L,n):\n",
    "    ds = L/n\n",
    "    data = np.zeros((6,n+1))\n",
    "    for i in range(n):\n",
    "        data[:4,i] = x,px,y,py\n",
    "        data[4:,i] = InvariantPotentials(x,px,y,py)\n",
    "        x,px,y,py = driftpropagator(x,px,y,py,0.5*ds)\n",
    "        x,px,y,py = NLpropagator(x,px,y,py,ds)\n",
    "        x,px,y,py = driftpropagator(x,px,y,py,0.5*ds)\n",
    "    data[:4,-1] = x,px,y,py\n",
    "    data[4:,-1] = InvariantPotentials(x,px,y,py)\n",
    "    return data"
   ]
  },
  {
   "cell_type": "code",
   "execution_count": 38,
   "metadata": {},
   "outputs": [
    {
     "name": "stderr",
     "output_type": "stream",
     "text": [
      "/home/kileanhwang/anaconda3/lib/python3.6/site-packages/ipykernel_launcher.py:2: DeprecationWarning: Numeric-style type codes are deprecated and will result in an error in the future.\n",
      "  \n"
     ]
    }
   ],
   "source": [
    "#dt = np.dtype('Float128')\n",
    "dt = np.dtype('Float64')\n",
    "# x = np.array(0.290755, dtype=dt);\n",
    "# y = np.array(0.0     , dtype=dt);\n",
    "# px= np.array(0.40019 , dtype=dt);\n",
    "# py= np.array(0.0     , dtype=dt);\n",
    "x = 0.5 ;\n",
    "y = 0.0 ;\n",
    "px= 0.0 ;\n",
    "py= 0.0 ;\n",
    "Lrad = 2000\n",
    "step_rad = int(np.round(1000/(0.3*2.0*np.pi)))\n",
    "data = track(x,px,y,py,Lrad,Lrad*step_rad)"
   ]
  },
  {
   "cell_type": "code",
   "execution_count": 39,
   "metadata": {},
   "outputs": [
    {
     "name": "stderr",
     "output_type": "stream",
     "text": [
      "/home/kileanhwang/anaconda3/lib/python3.6/site-packages/matplotlib/ticker.py:2198: UserWarning: Data has no positive values, and therefore cannot be log-scaled.\n",
      "  \"Data has no positive values, and therefore cannot be \"\n"
     ]
    },
    {
     "name": "stdout",
     "output_type": "stream",
     "text": [
      "[0.246 0.492]\n"
     ]
    },
    {
     "data": {
      "image/png": "[encoded data removed]",
      "text/plain": [
       "<Figure size 576x1152 with 8 Axes>"
      ]
     },
     "metadata": {},
     "output_type": "display_data"
    }
   ],
   "source": [
    "X = np.linspace(0,Lrad/1.885,Lrad*step_rad+1)\n",
    "plt.figure(figsize=(8,16))\n",
    "plt.subplot(4,2,1)\n",
    "plt.plot(X,data[0,:])\n",
    "plt.ylabel('x')\n",
    "plt.subplot(4,2,2)\n",
    "plt.plot(X,data[1,:])\n",
    "plt.ylabel('px')\n",
    "plt.subplot(4,2,3)\n",
    "plt.plot(X,data[2,:])\n",
    "plt.ylabel('y')\n",
    "plt.subplot(4,2,4)\n",
    "plt.plot(X,data[3,:])\n",
    "plt.ylabel('py')\n",
    "plt.subplot(4,2,5)\n",
    "plt.semilogy(X,data[2,:])\n",
    "plt.ylabel('y')\n",
    "plt.subplot(4,2,6)\n",
    "plt.semilogy(X,data[3,:])\n",
    "plt.ylabel('py')\n",
    "plt.subplot(4,2,7)\n",
    "plt.plot(X,data[4,:])\n",
    "plt.ylabel('Hiv')\n",
    "plt.subplot(4,2,8)\n",
    "plt.plot(X,data[5,:])\n",
    "plt.ylabel('Iinv')\n",
    "plt.tight_layout()\n",
    "print(data[[4,5],0])"
   ]
  },
  {
   "cell_type": "code",
   "execution_count": 33,
   "metadata": {
    "scrolled": true
   },
   "outputs": [
    {
     "data": {
      "text/plain": [
       "<matplotlib.collections.PathCollection at 0x7f6b6f3ab4e0>"
      ]
     },
     "execution_count": 33,
     "metadata": {},
     "output_type": "execute_result"
    },
    {
     "data": {
      "image/png": "[encoded data removed]",
      "text/plain": [
       "<Figure size 432x288 with 1 Axes>"
      ]
     },
     "metadata": {},
     "output_type": "display_data"
    }
   ],
   "source": [
    "plt.scatter(data[0,:],data[1,:],s=0.1)"
   ]
  },
  {
   "cell_type": "code",
   "execution_count": null,
   "metadata": {},
   "outputs": [],
   "source": [
    "#dt = np.dtype('Float128')\n",
    "dt = np.dtype('Float64')\n",
    "# x = np.array(0.290755, dtype=dt);\n",
    "# y = np.array(0.0     , dtype=dt);\n",
    "# px= np.array(0.40019 , dtype=dt);\n",
    "# py= np.array(0.0     , dtype=dt);\n",
    "x = 0.290755;\n",
    "y = 0.0     ;\n",
    "px= 0.40019 ;\n",
    "py= 0.0     ;\n",
    "Lrad = 3770\n",
    "step_rad = int(np.round(1000/(0.3*2.0*np.pi)))\n",
    "data = track(x,px,y,py,Lrad,Lrad*step_rad)\n",
    "print(step_rad)"
   ]
  },
  {
   "cell_type": "code",
   "execution_count": null,
   "metadata": {
    "scrolled": true
   },
   "outputs": [],
   "source": [
    "X = np.linspace(0,Lrad/1.885,Lrad*step_rad+1)\n",
    "plt.figure(figsize=(8,16))\n",
    "plt.subplot(4,2,1)\n",
    "plt.plot(X,data[0,:])\n",
    "plt.ylabel('x')\n",
    "plt.subplot(4,2,2)\n",
    "plt.plot(X,data[1,:])\n",
    "plt.ylabel('px')\n",
    "plt.subplot(4,2,3)\n",
    "plt.plot(X,data[2,:])\n",
    "plt.ylabel('y')\n",
    "plt.subplot(4,2,4)\n",
    "plt.plot(X,data[3,:])\n",
    "plt.ylabel('py')\n",
    "plt.subplot(4,2,5)\n",
    "plt.semilogy(X,data[2,:])\n",
    "plt.ylabel('y')\n",
    "plt.subplot(4,2,6)\n",
    "plt.semilogy(X,data[3,:])\n",
    "plt.ylabel('py')\n",
    "plt.subplot(4,2,7)\n",
    "plt.plot(X,data[4,:])\n",
    "plt.ylabel('Hiv')\n",
    "plt.subplot(4,2,8)\n",
    "plt.plot(X,data[5,:])\n",
    "plt.ylabel('Iinv')\n",
    "plt.tight_layout()"
   ]
  },
  {
   "cell_type": "code",
   "execution_count": null,
   "metadata": {},
   "outputs": [],
   "source": [
    "#dt = np.dtype('Float128')\n",
    "dt = np.dtype('Float64')\n",
    "# x = np.array(0.290755, dtype=dt);\n",
    "# y = np.array(0.0     , dtype=dt);\n",
    "# px= np.array(0.40019 , dtype=dt);\n",
    "# py= np.array(0.0     , dtype=dt);\n",
    "x = 0.290755;\n",
    "y = 0.0     ;\n",
    "px= 0.40019 ;\n",
    "py= 0.0     ;\n",
    "Lrad = 3770\n",
    "step_rad = int(np.round(1000*(0.3*2.0*np.pi)/1.8))\n",
    "data = track(x,px,y,py,Lrad,Lrad*step_rad)\n",
    "print(step_rad)"
   ]
  },
  {
   "cell_type": "code",
   "execution_count": null,
   "metadata": {
    "scrolled": true
   },
   "outputs": [],
   "source": [
    "X = np.linspace(0,Lrad/1.885,Lrad*step_rad+1)\n",
    "plt.figure(figsize=(8,16))\n",
    "plt.subplot(4,2,1)\n",
    "plt.plot(X,data[0,:])\n",
    "plt.ylabel('x')\n",
    "plt.subplot(4,2,2)\n",
    "plt.plot(X,data[1,:])\n",
    "plt.ylabel('px')\n",
    "plt.subplot(4,2,3)\n",
    "plt.plot(X,data[2,:])\n",
    "plt.ylabel('y')\n",
    "plt.subplot(4,2,4)\n",
    "plt.plot(X,data[3,:])\n",
    "plt.ylabel('py')\n",
    "plt.subplot(4,2,5)\n",
    "plt.semilogy(X,data[2,:])\n",
    "plt.ylabel('y')\n",
    "plt.subplot(4,2,6)\n",
    "plt.semilogy(X,data[3,:])\n",
    "plt.ylabel('py')\n",
    "plt.subplot(4,2,7)\n",
    "plt.plot(X,data[4,:])\n",
    "plt.ylabel('Hiv')\n",
    "plt.subplot(4,2,8)\n",
    "plt.plot(X,data[5,:])\n",
    "plt.ylabel('Iinv')\n",
    "plt.tight_layout()"
   ]
  },
  {
   "cell_type": "code",
   "execution_count": null,
   "metadata": {
    "scrolled": false
   },
   "outputs": [],
   "source": [
    "plt.figure(figsize=(8,8))\n",
    "plt.subplot(2,2,1)\n",
    "plt.scatter(data[0,:],data[2,:],s=0.1)\n",
    "plt.xlabel('x');\n",
    "plt.ylabel('y');\n",
    "plt.subplot(2,2,2)\n",
    "plt.scatter(data[1,:],data[3,:],s=0.1)\n",
    "plt.xlabel('px');\n",
    "plt.ylabel('py');\n",
    "plt.subplot(2,2,3)\n",
    "plt.scatter(data[0,:],data[1,:],s=0.1)\n",
    "plt.xlabel('x');\n",
    "plt.ylabel('px');\n",
    "plt.subplot(2,2,4)\n",
    "plt.scatter(data[2,:],data[3,:],s=0.1)\n",
    "plt.xlabel('y');\n",
    "plt.ylabel('py');\n",
    "plt.tight_layout()"
   ]
  },
  {
   "cell_type": "code",
   "execution_count": null,
   "metadata": {},
   "outputs": [],
   "source": [
    "#dt = np.dtype('Float128')\n",
    "dt = np.dtype('Float64')\n",
    "# x = np.array(0.290755, dtype=dt);\n",
    "# y = np.array(0.0     , dtype=dt);\n",
    "# px= np.array(0.40019 , dtype=dt);\n",
    "# py= np.array(0.0     , dtype=dt);\n",
    "x = 0.290755;\n",
    "y = 0.0     ;\n",
    "px= 0.40019 ;\n",
    "py= 0.0     ;\n",
    "Lrad = 3000\n",
    "step_rad = 25\n",
    "data = track(x,px,y,py,Lrad,Lrad*step_rad)\n",
    "print(step_rad)"
   ]
  },
  {
   "cell_type": "code",
   "execution_count": null,
   "metadata": {
    "scrolled": true
   },
   "outputs": [],
   "source": [
    "X = np.linspace(0,Lrad/1.885,Lrad*step_rad+1)\n",
    "plt.figure(figsize=(8,16))\n",
    "plt.subplot(4,2,1)\n",
    "plt.plot(X,data[0,:])\n",
    "plt.ylabel('x')\n",
    "plt.subplot(4,2,2)\n",
    "plt.plot(X,data[1,:])\n",
    "plt.ylabel('px')\n",
    "plt.subplot(4,2,3)\n",
    "plt.plot(X,data[2,:])\n",
    "plt.ylabel('y')\n",
    "plt.subplot(4,2,4)\n",
    "plt.plot(X,data[3,:])\n",
    "plt.ylabel('py')\n",
    "plt.subplot(4,2,5)\n",
    "plt.semilogy(X,data[2,:])\n",
    "plt.ylabel('y')\n",
    "plt.subplot(4,2,6)\n",
    "plt.semilogy(X,data[3,:])\n",
    "plt.ylabel('py')\n",
    "plt.subplot(4,2,7)\n",
    "plt.plot(X,data[4,:])\n",
    "plt.ylabel('Hiv')\n",
    "plt.subplot(4,2,8)\n",
    "plt.plot(X,data[5,:])\n",
    "plt.ylabel('Iinv')\n",
    "plt.tight_layout()"
   ]
  },
  {
   "cell_type": "code",
   "execution_count": null,
   "metadata": {
    "scrolled": true
   },
   "outputs": [],
   "source": [
    "plt.figure(figsize=(8,8))\n",
    "plt.subplot(2,2,1)\n",
    "plt.scatter(data[0,:],data[2,:],s=0.1)\n",
    "plt.xlabel('x');\n",
    "plt.ylabel('y');\n",
    "plt.subplot(2,2,2)\n",
    "plt.scatter(data[1,:],data[3,:],s=0.1)\n",
    "plt.xlabel('px');\n",
    "plt.ylabel('py');\n",
    "plt.subplot(2,2,3)\n",
    "plt.scatter(data[0,:],data[1,:],s=0.1)\n",
    "plt.xlabel('x');\n",
    "plt.ylabel('px');\n",
    "plt.subplot(2,2,4)\n",
    "plt.scatter(data[2,:],data[3,:],s=0.1)\n",
    "plt.xlabel('y');\n",
    "plt.ylabel('py');\n",
    "plt.tight_layout()"
   ]
  },
  {
   "cell_type": "code",
   "execution_count": null,
   "metadata": {},
   "outputs": [],
   "source": [
    "from mpl_toolkits.mplot3d import Axes3D  # noqa: F401 unused import\n",
    "import matplotlib.pyplot as plt\n",
    "\n",
    "fig = plt.figure(figsize=(8,8))\n",
    "ax = fig.add_subplot(111, projection='3d')\n",
    "ax.scatter(data[0,:],data[2,:],data[3,:],s=0.4,c=data[0,:],marker='o')\n",
    "ax.set_xlabel('x');\n",
    "ax.set_ylabel('y');\n",
    "ax.set_zlabel('py');"
   ]
  },
  {
   "cell_type": "code",
   "execution_count": null,
   "metadata": {},
   "outputs": [],
   "source": [
    "dt = np.dtype('Float128')\n",
    "x = np.array(0.290755, dtype=dt);\n",
    "y = np.array(0.0     , dtype=dt);\n",
    "px= np.array(0.40019 , dtype=dt);\n",
    "py= np.array(0.0     , dtype=dt);\n",
    "# x = 0.290755;\n",
    "# y = 0.0     ;\n",
    "# px= 0.40019 ;\n",
    "# py= 0.0     ;\n",
    "Lrad = 3770\n",
    "step_rad = int(np.round(1000*(0.3*2.0*np.pi)/1.8))\n",
    "data = track(x,px,y,py,Lrad,Lrad*step_rad)\n",
    "print(step_rad)"
   ]
  },
  {
   "cell_type": "code",
   "execution_count": null,
   "metadata": {},
   "outputs": [],
   "source": [
    "X = np.linspace(0,Lrad/1.885,Lrad*step_rad+1)\n",
    "plt.figure(figsize=(8,16))\n",
    "plt.subplot(4,2,1)\n",
    "plt.plot(X,data[0,:])\n",
    "plt.ylabel('x')\n",
    "plt.subplot(4,2,2)\n",
    "plt.plot(X,data[1,:])\n",
    "plt.ylabel('px')\n",
    "plt.subplot(4,2,3)\n",
    "plt.plot(X,data[2,:])\n",
    "plt.ylabel('y')\n",
    "plt.subplot(4,2,4)\n",
    "plt.plot(X,data[3,:])\n",
    "plt.ylabel('py')\n",
    "plt.subplot(4,2,5)\n",
    "plt.semilogy(X,data[2,:])\n",
    "plt.ylabel('y')\n",
    "plt.subplot(4,2,6)\n",
    "plt.semilogy(X,data[3,:])\n",
    "plt.ylabel('py')\n",
    "plt.subplot(4,2,7)\n",
    "plt.plot(X,data[4,:])\n",
    "plt.ylabel('Hiv')\n",
    "plt.subplot(4,2,8)\n",
    "plt.plot(X,data[5,:])\n",
    "plt.ylabel('Iinv')\n",
    "plt.tight_layout()"
   ]
  },
  {
   "cell_type": "code",
   "execution_count": null,
   "metadata": {},
   "outputs": [],
   "source": [
    "dt = np.dtype('Float64')\n",
    "x = np.array(0.4, dtype=dt);\n",
    "y = np.array(0.0, dtype=dt);\n",
    "print(Fderivative(0.4,0.0))\n",
    "\n",
    "dt = np.dtype('Float128')\n",
    "x = np.array(0.4, dtype=dt);\n",
    "y = np.array(0.0, dtype=dt);\n",
    "print(Fderivative(x,y))"
   ]
  },
  {
   "cell_type": "code",
   "execution_count": null,
   "metadata": {},
   "outputs": [],
   "source": [
    "def croot(z):\n",
    "    return np.sqrt(1.0-z**2)\n",
    "\n",
    "def carcsin(z):\n",
    "    return np.arcsin(z)\n",
    "\n",
    "def Fpotential(x,y):\n",
    "    zeta = x+1j*y\n",
    "    return zeta/croot(zeta)*carcsin(zeta)\n",
    "\n",
    "def Fderivative(x,y):\n",
    "    zeta = x+1j*y\n",
    "    denom = croot(zeta)\n",
    "    print(carcsin(zeta))\n",
    "    print(zeta/denom**2, carcsin(zeta)/denom**3)\n",
    "    return zeta/denom**2 + carcsin(zeta)/denom**3"
   ]
  },
  {
   "cell_type": "code",
   "execution_count": null,
   "metadata": {},
   "outputs": [],
   "source": [
    "dt = np.dtype('Float64')\n",
    "x = np.array(0.4, dtype=dt);\n",
    "y = np.array(0.0, dtype=dt);\n",
    "print(Fderivative(0.4,0.0))\n",
    "\n",
    "dt = np.dtype('Float128')\n",
    "x = np.array(0.4, dtype=dt);\n",
    "y = np.array(0.0, dtype=dt);\n",
    "print(Fderivative(x,y))"
   ]
  },
  {
   "cell_type": "code",
   "execution_count": null,
   "metadata": {},
   "outputs": [],
   "source": []
  }
 ],
 "metadata": {
  "kernelspec": {
   "display_name": "Python 3",
   "language": "python",
   "name": "python3"
  },
  "language_info": {
   "codemirror_mode": {
    "name": "ipython",
    "version": 3
   },
   "file_extension": ".py",
   "mimetype": "text/x-python",
   "name": "python",
   "nbconvert_exporter": "python",
   "pygments_lexer": "ipython3",
   "version": "3.6.5"
  }
 },
 "nbformat": 4,
 "nbformat_minor": 2
}
