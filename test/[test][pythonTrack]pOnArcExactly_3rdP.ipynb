{
 "cells": [
  {
   "cell_type": "code",
   "execution_count": 1,
   "metadata": {},
   "outputs": [],
   "source": [
    "import numpy as np\n",
    "import pImpactR as impact\n",
    "from copy import deepcopy as copy\n",
    "import matplotlib.pyplot as plt\n",
    "from scipy.optimize import minimize, rosen, rosen_der\n",
    "np.set_printoptions(precision=3)\n",
    "import pandas as P\n",
    "P.set_option('display.precision',3)"
   ]
  },
  {
   "cell_type": "code",
   "execution_count": 2,
   "metadata": {},
   "outputs": [],
   "source": [
    "NL_t = -0.4\n",
    "NL_c = 0.01\n",
    "NL_L = 1.8\n",
    "NL_mu = 0.3\n",
    "\n",
    "mass = 938.272045e6\n",
    "ke = 2.5*1.0e6\n",
    "energy = ke+mass\n",
    "freq = 30*1.0e6\n",
    "\n",
    "g = energy/mass\n",
    "bg = np.sqrt(g**2-1.0)\n",
    "vec = bg/g*impact.data.clight\n",
    "\n",
    "alfaEntrance = np.tan(np.pi*NL_mu)\n",
    "betaEntrance = NL_L/np.sin(2.0*np.pi*NL_mu)"
   ]
  },
  {
   "cell_type": "code",
   "execution_count": 3,
   "metadata": {},
   "outputs": [
    {
     "name": "stdout",
     "output_type": "stream",
     "text": [
      "1.3763819204711734 1.8926320036288808\n"
     ]
    }
   ],
   "source": [
    "print(alfaEntrance,betaEntrance)"
   ]
  },
  {
   "cell_type": "markdown",
   "metadata": {},
   "source": [
    "# def subroutine "
   ]
  },
  {
   "cell_type": "code",
   "execution_count": 4,
   "metadata": {},
   "outputs": [],
   "source": [
    "def croot(z):\n",
    "    return np.sqrt(1.0-z**2)\n",
    "\n",
    "def carcsin(z):\n",
    "    return -1j*np.log(1j*z+croot(z))\n",
    "\n",
    "def Fpotential(x,y):\n",
    "    zeta = x+1j*y\n",
    "    return zeta/croot(zeta)*carcsin(zeta)\n",
    "\n",
    "def Fderivative(x,y):\n",
    "    zeta = x+1j*y\n",
    "    denom = croot(zeta)\n",
    "    return zeta/denom**2 + carcsin(zeta)/denom**3\n",
    "\n",
    "def driftpropagator(x,px,y,py,ds):\n",
    "    x= x+px*ds\n",
    "    y= y+py*ds\n",
    "    return x,px,y,py\n",
    "\n",
    "def NLpropagator(x,px,y,py,ds):\n",
    "    dF = Fderivative(x,y)\n",
    "    px = px - x*ds + np.real(dF)*ds*NL_t\n",
    "    if y==0.0:\n",
    "        py = py - y*ds\n",
    "    else:\n",
    "        py = py - y*ds - np.imag(dF)*ds*NL_t\n",
    "    return x,px,y,py\n",
    "\n",
    "\n",
    "def InvariantPotentials(x,px,y,py):\n",
    "    zeta = x+1j*y\n",
    "    zetaconj = x-1j*y\n",
    "    Hpotential = zeta/croot(zeta)\n",
    "    Ipotential = (zeta+zetaconj)/croot(zeta)   \n",
    "    Hpotential = Hpotential*carcsin(zeta)\n",
    "    Ipotential = Ipotential*carcsin(zeta)\n",
    "    Hinv = -NL_t*np.real(Hpotential) + 0.5*(x**2+px**2+y**2+py**2)\n",
    "    Iinv = -NL_t*np.real(Ipotential) + (x*py - y*px)**2 + x**2 + px**2\n",
    "    return Hinv,Iinv\n",
    "\n",
    "\n",
    "def G(x,y):\n",
    "    z = x+1j*y\n",
    "    return np.imag(np.arcsin(z)/np.sqrt(1-z*z))\n",
    "\n",
    "countP=0\n",
    "countN=0\n",
    "countO=0\n",
    "\n",
    "def enforce_py_on_arc(x,px,y,py):\n",
    "    global countP,countN,countO\n",
    "    denom = x*x-1\n",
    "    numer = px*x*y\n",
    "    sq = (denom+px*px)*y*y+2*denom*y*NL_t*G(x,y)\n",
    "    if sq>0:\n",
    "        sq = np.sqrt(sq)\n",
    "    else:\n",
    "        countO=countO+1\n",
    "        return py\n",
    "    test0 = (numer+sq)/denom \n",
    "    test1 = (numer-sq)/denom \n",
    "    d0 = (test0 - py)**2\n",
    "    d1 = (test1 - py)**2\n",
    "    if np.max([d0,d1])>0.01:\n",
    "        countO=countO+1\n",
    "        return py\n",
    "    if d0>d1:\n",
    "        countN=countN+1\n",
    "        return test1\n",
    "    else:\n",
    "        countP=countP+1\n",
    "        return test0\n",
    "    \n",
    "def track(x,px,y,py,L,nSteps,mSample):\n",
    "    n = int(nSteps)\n",
    "    n_hidden = int(n/mSample)\n",
    "    ds = L/n\n",
    "    data = np.zeros((6,mSample+1))\n",
    "    k=0\n",
    "    for i in range(n):\n",
    "        if k==mSample+1:\n",
    "            break\n",
    "        if np.mod(i,n_hidden)==0:\n",
    "            data[:4,k] = x,px,y,py\n",
    "            data[4:,k] = InvariantPotentials(x,px,y,py)\n",
    "            k=k+1\n",
    "        x,px,y,py = driftpropagator(x,px,y,py,0.5*ds)\n",
    "        x,px,y,py = NLpropagator(x,px,y,py,ds)\n",
    "        x,px,y,py = driftpropagator(x,px,y,py,0.5*ds)\n",
    "        py = enforce_py_on_arc(x,px,y,py)\n",
    "    data[:4,-1] = x,px,y,py\n",
    "    data[4:,-1] = InvariantPotentials(x,px,y,py)\n",
    "    return data"
   ]
  },
  {
   "cell_type": "code",
   "execution_count": 5,
   "metadata": {},
   "outputs": [
    {
     "data": {
      "text/plain": [
       "(18, 2)"
      ]
     },
     "execution_count": 5,
     "metadata": {},
     "output_type": "execute_result"
    }
   ],
   "source": [
    "pdata=np.loadtxt('pOnArc.data')\n",
    "npt = 1\n",
    "pdata.shape"
   ]
  },
  {
   "cell_type": "code",
   "execution_count": 6,
   "metadata": {},
   "outputs": [
    {
     "data": {
      "text/plain": [
       "(-1, 1)"
      ]
     },
     "execution_count": 6,
     "metadata": {},
     "output_type": "execute_result"
    },
    {
     "data": {
      "image/png": "[encoded data removed]",
      "text/plain": [
       "<Figure size 432x288 with 1 Axes>"
      ]
     },
     "metadata": {},
     "output_type": "display_data"
    }
   ],
   "source": [
    "plt.scatter(pdata[:,0],pdata[:,1])\n",
    "plt.xlim(-1,1)\n",
    "plt.ylim(-1,1)"
   ]
  },
  {
   "cell_type": "code",
   "execution_count": 7,
   "metadata": {},
   "outputs": [
    {
     "name": "stdout",
     "output_type": "stream",
     "text": [
      "1.6402581473189228e-14\n",
      "      fun: 2.6664344587909427e-20\n",
      " hess_inv: array([[890.804]])\n",
      "      jac: array([6.278e-13])\n",
      "  message: 'Optimization terminated successfully.'\n",
      "     nfev: 21\n",
      "      nit: 2\n",
      "     njev: 7\n",
      "   status: 0\n",
      "  success: True\n",
      "        x: array([0.225])\n"
     ]
    }
   ],
   "source": [
    "x = pdata[2,0]\n",
    "def enforce_py_on_arc0(y):\n",
    "    denom = x*x-1\n",
    "    sq = (denom)*y*y+2*denom*y*NL_t*G(x,y)\n",
    "    return sq**2\n",
    "\n",
    "print(enforce_py_on_arc0(pdata[2,1]))\n",
    "\n",
    "res=minimize(enforce_py_on_arc0,pdata[2,1],tol=1e-12)\n",
    "print(res)"
   ]
  },
  {
   "cell_type": "code",
   "execution_count": 8,
   "metadata": {},
   "outputs": [
    {
     "data": {
      "text/plain": [
       "(0.12145176812549864, 0.24290353644019352)"
      ]
     },
     "execution_count": 8,
     "metadata": {},
     "output_type": "execute_result"
    }
   ],
   "source": [
    "y = res.x[0]\n",
    "pdata[2,1] = y\n",
    "H,I=InvariantPotentials(x,0,y,0)\n",
    "H,I"
   ]
  },
  {
   "cell_type": "code",
   "execution_count": 9,
   "metadata": {},
   "outputs": [],
   "source": [
    "Lrad = 1024\n",
    "data = track(pdata[2,0], 0.0, pdata[2,1], 0, Lrad,1024*512*16,1024*512)"
   ]
  },
  {
   "cell_type": "code",
   "execution_count": 10,
   "metadata": {},
   "outputs": [
    {
     "data": {
      "text/plain": [
       "(6, 524289)"
      ]
     },
     "execution_count": 10,
     "metadata": {},
     "output_type": "execute_result"
    }
   ],
   "source": [
    "data.shape"
   ]
  },
  {
   "cell_type": "code",
   "execution_count": 11,
   "metadata": {},
   "outputs": [
    {
     "data": {
      "text/plain": [
       "(4945375, 3443233, 0)"
      ]
     },
     "execution_count": 11,
     "metadata": {},
     "output_type": "execute_result"
    }
   ],
   "source": [
    "(countP,countN,countO)"
   ]
  },
  {
   "cell_type": "code",
   "execution_count": 12,
   "metadata": {},
   "outputs": [
    {
     "data": {
      "image/png": "[encoded data removed]",
      "text/plain": [
       "<Figure size 576x576 with 4 Axes>"
      ]
     },
     "metadata": {},
     "output_type": "display_data"
    }
   ],
   "source": [
    "plt.figure(figsize=(8,8))\n",
    "plt.subplot(2,2,1)\n",
    "plt.scatter(data[0,:],data[2,:],s=0.1)\n",
    "plt.xlabel('x')\n",
    "plt.ylabel('y')\n",
    "plt.subplot(2,2,2)\n",
    "plt.plot(data[5,:]-2*data[4,:])\n",
    "plt.ylabel('I-2H')\n",
    "plt.subplot(2,2,3)\n",
    "plt.plot(data[4,:]/H-1.0)\n",
    "plt.ylabel('H/H0-1')\n",
    "plt.subplot(2,2,4)\n",
    "plt.plot(data[5,:]/I-1.0)\n",
    "plt.ylabel('I/I0-1')\n",
    "plt.tight_layout()"
   ]
  },
  {
   "cell_type": "code",
   "execution_count": 15,
   "metadata": {},
   "outputs": [
    {
     "data": {
      "image/png": "[encoded data removed]",
      "text/plain": [
       "<Figure size 576x216 with 2 Axes>"
      ]
     },
     "metadata": {},
     "output_type": "display_data"
    }
   ],
   "source": [
    "plt.figure(figsize=(8,3))\n",
    "plt.subplot(1,2,1)\n",
    "plt.plot(data[0,:])\n",
    "plt.ylabel('x')\n",
    "plt.subplot(1,2,2)\n",
    "plt.plot(data[2,:])\n",
    "plt.ylabel('y')\n",
    "plt.tight_layout()"
   ]
  },
  {
   "cell_type": "code",
   "execution_count": 13,
   "metadata": {},
   "outputs": [],
   "source": [
    "signal = data[0,:] - 1j*data[1,:]\n",
    "signal = signal - np.mean(signal)\n",
    "tuneX = impact.util.naff(1,signal)[0][0]\n",
    "signal = data[2,:] - 1j*data[1,:]\n",
    "signal = signal  -np.mean(signal)\n",
    "tuneY = impact.util.naff(1,signal)[0][0]"
   ]
  },
  {
   "cell_type": "code",
   "execution_count": 14,
   "metadata": {},
   "outputs": [
    {
     "data": {
      "text/plain": [
       "(1.381676689557426, 0.9995705060465739)"
      ]
     },
     "execution_count": 14,
     "metadata": {},
     "output_type": "execute_result"
    }
   ],
   "source": [
    "(tuneX/Lrad*1024*512*np.pi*2,tuneY)"
   ]
  }
 ],
 "metadata": {
  "kernelspec": {
   "display_name": "Python 3",
   "language": "python",
   "name": "python3"
  },
  "language_info": {
   "codemirror_mode": {
    "name": "ipython",
    "version": 3
   },
   "file_extension": ".py",
   "mimetype": "text/x-python",
   "name": "python",
   "nbconvert_exporter": "python",
   "pygments_lexer": "ipython3",
   "version": "3.6.5"
  }
 },
 "nbformat": 4,
 "nbformat_minor": 2
}
