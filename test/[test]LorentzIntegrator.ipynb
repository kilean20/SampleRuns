{
 "cells": [
  {
   "cell_type": "code",
   "execution_count": 1,
   "metadata": {},
   "outputs": [],
   "source": [
    "import numpy as np\n",
    "import pImpactR as impact\n",
    "from copy import deepcopy as copy\n",
    "input_fname = 'test_IOTA.in'\n",
    "np.set_printoptions(precision=3)"
   ]
  },
  {
   "cell_type": "markdown",
   "metadata": {},
   "source": [
    "# Prepare Beam and Lattice"
   ]
  },
  {
   "cell_type": "code",
   "execution_count": 2,
   "metadata": {
    "scrolled": true
   },
   "outputs": [
    {
     "name": "stdout",
     "output_type": "stream",
     "text": [
      "reading ImpactZ input file (\u001b[92mtest_IOTA.in\u001b[0m)\n",
      "  : mpi task info .............................done\n",
      "  : simulation control parameters .............done\n",
      "  : space charge field solver, mesh info ......done\n",
      "  : dist-type,restart,subcycle,#of state ......done\n",
      "  : Multiple Charge State info ................done\n",
      "  : particle distribution info ................done\n",
      "  : beam reference orbit info .................done\n",
      "  : converting impact dist to twiss param......done\n",
      "  : lattice info ..............................done\n",
      "\n",
      "             length: 1.8 [m]\n",
      "           n_sckick: 96 [1]\n",
      "              n_map: 5 [1]\n",
      "         strength_t: 100.0\n",
      " transverse_scale_c: 0.01\n",
      "       tune_advance: 0.3034496449165134\n",
      "        pipe_radius: 10.0 [m]\n",
      "               type: 'nonlinear_insert'\n"
     ]
    }
   ],
   "source": [
    "beam, lattice0 = impact.readInputFile(input_fname)\n",
    "beam.nCore_y=1\n",
    "beam.nCore_z=1\n",
    "beam.n_particles=8\n",
    "beam.current=0.0\n",
    "beam.integrator = 'NonLinear'\n",
    "#beam.integrator = 'Linear'\n",
    "\n",
    "for i in range(len(lattice0)):\n",
    "    if lattice0[i].type == 'nonlinear_insert':\n",
    "        elem_NL = copy(lattice0[i])\n",
    "        break\n",
    "elem_NL.strength_t = 100.0\n",
    "print(elem_NL)"
   ]
  },
  {
   "cell_type": "markdown",
   "metadata": {},
   "source": [
    "### NL vs Drift"
   ]
  },
  {
   "cell_type": "markdown",
   "metadata": {},
   "source": [
    "##### nonlinear insert"
   ]
  },
  {
   "cell_type": "code",
   "execution_count": 3,
   "metadata": {},
   "outputs": [
    {
     "name": "stdout",
     "output_type": "stream",
     "text": [
      "input error <- sum(beam.multi_charge.n_particles) not qual to beam.n_particles\n",
      "  ... enforcing  beam.multi_charge.n_particles[0] to beam.n_particles\n",
      "input error <- beam.multi_charge.current[0] not qual to beam.current\n",
      "  ... enforcing  beam.multi_charge.current[0] to beam.current\n"
     ]
    }
   ],
   "source": [
    "#beam.integrator = 'NonLinear'\n",
    "dist = beam.distribution\n",
    "dist.distribution_type = 'Waterbag'\n",
    "lattice_NL = [impact.getElem('loop_through_lattice'),\n",
    "              impact.getElem('write_raw_ptcl'),\n",
    "              elem_NL,\n",
    "              impact.getElem('write_raw_ptcl')]\n",
    "lattice_NL[0].nturn = 1\n",
    "lattice_NL[1].file_id = 1001\n",
    "lattice_NL[3].file_id = 1002\n",
    "\n",
    "ke = beam.kinetic_energy\n",
    "mass = beam.mass\n",
    "freq = beam.frequency\n",
    "\n",
    "impact.writeInputFile(beam,lattice_NL);\n",
    "impact.run()\n",
    "pData_NL0 = impact.readParticleData(1001,ke,mass,freq)\n",
    "pData_NL1 = impact.readParticleData(1002,ke,mass,freq)"
   ]
  },
  {
   "cell_type": "markdown",
   "metadata": {},
   "source": [
    "##### drift"
   ]
  },
  {
   "cell_type": "code",
   "execution_count": 4,
   "metadata": {},
   "outputs": [],
   "source": [
    "lattice_drift = copy(lattice_NL)\n",
    "lattice_drift[2] = impact.getElem('drift')\n",
    "lattice_drift[2].length = lattice_NL[2].length\n",
    "lattice_drift[2].n_sckick = elem_NL.n_sckick\n",
    "\n",
    "impact.writeInputFile(beam,lattice_drift);\n",
    "impact.run()\n",
    "pData_drift0 = impact.readParticleData(1001,ke,mass,freq)\n",
    "pData_drift1 = impact.readParticleData(1002,ke,mass,freq)"
   ]
  },
  {
   "cell_type": "markdown",
   "metadata": {},
   "source": [
    "##### check"
   ]
  },
  {
   "cell_type": "code",
   "execution_count": 5,
   "metadata": {
    "scrolled": false
   },
   "outputs": [
    {
     "name": "stdout",
     "output_type": "stream",
     "text": [
      "[[0. 0. 0. 0. 0. 0.]\n",
      " [0. 0. 0. 0. 0. 0.]\n",
      " [0. 0. 0. 0. 0. 0.]\n",
      " [0. 0. 0. 0. 0. 0.]\n",
      " [0. 0. 0. 0. 0. 0.]\n",
      " [0. 0. 0. 0. 0. 0.]\n",
      " [0. 0. 0. 0. 0. 0.]\n",
      " [0. 0. 0. 0. 0. 0.]]\n"
     ]
    }
   ],
   "source": [
    "print(pData_drift1[:,:6]-pData_NL1[:,:6])"
   ]
  },
  {
   "cell_type": "markdown",
   "metadata": {},
   "source": [
    "### quad vs Drift"
   ]
  },
  {
   "cell_type": "markdown",
   "metadata": {},
   "source": [
    "##### quad"
   ]
  },
  {
   "cell_type": "code",
   "execution_count": 6,
   "metadata": {},
   "outputs": [],
   "source": [
    "lattice_quad = copy(lattice_NL)\n",
    "lattice_quad[2] = impact.getElem('quad')\n",
    "lattice_quad[2].length = 0.05\n",
    "lattice_quad[2].B1 = 10.0\n",
    "lattice_quad[2].n_sckick = 10\n",
    "\n",
    "impact.writeInputFile(beam,lattice_quad);\n",
    "impact.run()\n",
    "pData_quad0 = impact.readParticleData(1001,ke,mass,freq)\n",
    "pData_quad1 = impact.readParticleData(1002,ke,mass,freq)"
   ]
  },
  {
   "cell_type": "markdown",
   "metadata": {},
   "source": [
    "##### drift"
   ]
  },
  {
   "cell_type": "code",
   "execution_count": 7,
   "metadata": {},
   "outputs": [],
   "source": [
    "lattice_drift = copy(lattice_quad)\n",
    "lattice_drift[2] = impact.getElem('drift')\n",
    "lattice_drift[2].length = lattice_quad[2].length\n",
    "lattice_drift[2].n_sckick = lattice_quad[2].n_sckick\n",
    "\n",
    "\n",
    "impact.writeInputFile(beam,lattice_drift);\n",
    "impact.run()\n",
    "pData_drift0 = impact.readParticleData(1001,ke,mass,freq)\n",
    "pData_drift1 = impact.readParticleData(1002,ke,mass,freq)"
   ]
  },
  {
   "cell_type": "markdown",
   "metadata": {},
   "source": [
    "##### check"
   ]
  },
  {
   "cell_type": "code",
   "execution_count": 8,
   "metadata": {
    "scrolled": true
   },
   "outputs": [
    {
     "name": "stdout",
     "output_type": "stream",
     "text": [
      "[[-1.151e-04 -4.518e-03  9.430e-05  3.781e-03 -2.231e-04  0.000e+00]\n",
      " [ 1.171e-04  4.594e-03 -4.612e-05 -1.852e-03 -2.485e-04  0.000e+00]\n",
      " [-5.389e-05 -2.149e-03  5.592e-05  2.258e-03 -2.318e-05  0.000e+00]\n",
      " [ 6.955e-05  2.763e-03 -6.672e-05 -2.693e-03 -5.008e-05  0.000e+00]\n",
      " [-1.693e-04 -6.691e-03  3.545e-05  1.458e-03 -3.229e-04  0.000e+00]\n",
      " [-6.216e-05 -2.407e-03 -1.010e-05 -3.959e-04 -1.197e-04  0.000e+00]\n",
      " [-1.452e-04 -5.702e-03  3.652e-05  1.474e-03 -3.604e-04  0.000e+00]\n",
      " [ 1.955e-04  7.699e-03  1.302e-05  5.178e-04 -5.203e-04  0.000e+00]]\n"
     ]
    }
   ],
   "source": [
    "print(pData_drift1[:,:6]-pData_quad1[:,:6])"
   ]
  },
  {
   "cell_type": "markdown",
   "metadata": {},
   "source": [
    "### Linear vs NonLinear Integrator on quad"
   ]
  },
  {
   "cell_type": "code",
   "execution_count": 9,
   "metadata": {},
   "outputs": [],
   "source": [
    "beam.integrator = 'Linear'\n",
    "impact.writeInputFile(beam,lattice_quad);\n",
    "impact.writeInputFile(beam,lattice_quad,'testLinear.in');\n",
    "impact.run()\n",
    "pData_linear1 = impact.readParticleData(1002,ke,mass,freq)\n",
    "beam.integrator = 'NonLinear'\n",
    "impact.writeInputFile(beam,lattice_quad,'testNonLinear.in');\n",
    "impact.writeInputFile(beam,lattice_quad);\n",
    "impact.run()\n",
    "pData_nonlinear1 = impact.readParticleData(1002,ke,mass,freq)"
   ]
  },
  {
   "cell_type": "code",
   "execution_count": 10,
   "metadata": {},
   "outputs": [
    {
     "name": "stdout",
     "output_type": "stream",
     "text": [
      "[[-8.862e-05 -3.471e-03  7.289e-05  2.929e-03 -3.226e-04  0.000e+00]\n",
      " [ 9.017e-05  3.529e-03 -3.565e-05 -1.434e-03 -3.423e-04  0.000e+00]\n",
      " [-4.149e-05 -1.651e-03  4.322e-05  1.749e-03 -2.968e-05  0.000e+00]\n",
      " [ 5.354e-05  2.123e-03 -5.157e-05 -2.086e-03 -5.164e-05  0.000e+00]\n",
      " [-1.304e-04 -5.140e-03  2.740e-05  1.129e-03 -3.687e-04  0.000e+00]\n",
      " [-4.785e-05 -1.849e-03 -7.808e-06 -3.067e-04 -2.483e-04  0.000e+00]\n",
      " [-1.118e-04 -4.380e-03  2.823e-05  1.142e-03 -4.688e-04  0.000e+00]\n",
      " [ 1.505e-04  5.914e-03  1.007e-05  4.011e-04 -6.194e-04  0.000e+00]]\n"
     ]
    }
   ],
   "source": [
    "print(pData_linear1[:,:6]-pData_nonlinear1[:,:6])"
   ]
  },
  {
   "cell_type": "code",
   "execution_count": 11,
   "metadata": {
    "scrolled": true
   },
   "outputs": [
    {
     "name": "stdout",
     "output_type": "stream",
     "text": [
      "3c3\n",
      "< 6 8 1 0 1 \n",
      "---\n",
      "> 6 8 2 0 1 \n"
     ]
    }
   ],
   "source": [
    "%%bash\n",
    "diff testLinear.in testNonLinear.in"
   ]
  },
  {
   "cell_type": "markdown",
   "metadata": {},
   "source": [
    "##### check with liner matrix theory"
   ]
  },
  {
   "cell_type": "code",
   "execution_count": 30,
   "metadata": {},
   "outputs": [
    {
     "name": "stdout",
     "output_type": "stream",
     "text": [
      "[[-0.002016  0.003529]]\n",
      "[-0.002016  0.003529]\n",
      "[-0.001927  0.007   ]\n"
     ]
    }
   ],
   "source": [
    "np.set_printoptions(precision=6)\n",
    "quad = lattice_quad[2]\n",
    "K = impact.util.B1toK(quad.B1,ke,mass)\n",
    "Mquad = impact.util.Mquad(quad.length,quad.B1)\n",
    "pData = pData_drift0[0,:2]\n",
    "pData1 = np.matmul(Mquad,pData)\n",
    "print(pData1)\n",
    "print(pData_linear1[0,:2])\n",
    "print(pData_nonlinear1[0,:2])"
   ]
  },
  {
   "cell_type": "code",
   "execution_count": null,
   "metadata": {},
   "outputs": [],
   "source": []
  }
 ],
 "metadata": {
  "kernelspec": {
   "display_name": "Python 3",
   "language": "python",
   "name": "python3"
  },
  "language_info": {
   "codemirror_mode": {
    "name": "ipython",
    "version": 3
   },
   "file_extension": ".py",
   "mimetype": "text/x-python",
   "name": "python",
   "nbconvert_exporter": "python",
   "pygments_lexer": "ipython3",
   "version": "3.6.5"
  }
 },
 "nbformat": 4,
 "nbformat_minor": 2
}
