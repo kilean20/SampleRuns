{
 "cells": [
  {
   "cell_type": "code",
   "execution_count": 1,
   "metadata": {},
   "outputs": [],
   "source": [
    "import numpy as np\n",
    "import pImpactR as impact\n",
    "from copy import deepcopy as copy\n",
    "input_fname = 'test_IOTA.in'\n",
    "np.set_printoptions(precision=3)"
   ]
  },
  {
   "cell_type": "markdown",
   "metadata": {},
   "source": [
    "# Prepare Beam and Lattice"
   ]
  },
  {
   "cell_type": "code",
   "execution_count": 2,
   "metadata": {
    "scrolled": true
   },
   "outputs": [
    {
     "name": "stdout",
     "output_type": "stream",
     "text": [
      "reading ImpactZ input file (\u001b[92mtest_IOTA.in\u001b[0m)\n",
      "  : mpi task info .............................done\n",
      "  : simulation control parameters .............done\n",
      "  : space charge field solver, mesh info ......done\n",
      "  : dist-type,restart,subcycle,#of state ......done\n",
      "  : Multiple Charge State info ................done\n",
      "  : particle distribution info ................done\n",
      "  : beam reference orbit info .................done\n",
      "  : converting impact dist to twiss param......done\n",
      "  : lattice info ..............................done\n"
     ]
    }
   ],
   "source": [
    "beam, lattice0 = impact.readInputFile(input_fname)"
   ]
  },
  {
   "cell_type": "code",
   "execution_count": 3,
   "metadata": {},
   "outputs": [],
   "source": [
    "beam.nCore_y=4\n",
    "beam.nCore_z=2\n",
    "beam.n_particles=2**13\n",
    "beam.current=0.1\n",
    "dist = beam.distribution\n",
    "dist.distribution_type = 'Waterbag'\n",
    "dist.mode = 'twiss'\n",
    "dist.betx = 12.2\n",
    "dist.alfx = 1.4\n",
    "dist.emitx = 2.3e-6\n",
    "dist.bety = 18.2\n",
    "dist.alfy = -2.4\n",
    "dist.emity = 3.2e-6\n",
    "dist.betz = 200\n",
    "dist.alfz = 0\n",
    "dist.emitz = 0.0005\n",
    "lattice = [impact.getElem('loop'),\n",
    "           impact.getElem('write_raw_ptcl'),\n",
    "           0,\n",
    "           impact.getElem('write_raw_ptcl'),\n",
    "           0,\n",
    "           impact.getElem('write_raw_ptcl')]\n",
    "lattice[0].nturn = 1\n",
    "lattice[1].file_id = 1001\n",
    "lattice[3].file_id = 1002\n",
    "lattice[5].file_id = 1003\n",
    "\n",
    "\n",
    "ke = beam.kinetic_energy\n",
    "mass = beam.mass\n",
    "freq = beam.frequency"
   ]
  },
  {
   "cell_type": "markdown",
   "metadata": {},
   "source": [
    "# 1. Drift"
   ]
  },
  {
   "cell_type": "code",
   "execution_count": 4,
   "metadata": {},
   "outputs": [],
   "source": [
    "elemF = impact.getElem('drift')\n",
    "elemF.length = 0.02\n",
    "elemF.n_sckick = 20\n",
    "elemF.n_map = 1\n",
    "\n",
    "elemB = copy(elemF)\n",
    "elemB.length =-elemF.length\n",
    "\n",
    "lattice[2] = elemF\n",
    "lattice[4] = elemB\n",
    "\n",
    "impact.writeInputFile(beam,lattice);"
   ]
  },
  {
   "cell_type": "code",
   "execution_count": 5,
   "metadata": {
    "scrolled": true
   },
   "outputs": [
    {
     "name": "stdout",
     "output_type": "stream",
     "text": [
      "[[ 0.000e+00  1.735e-18  0.000e+00  0.000e+00 -2.220e-16  0.000e+00]\n",
      " [-1.735e-17  0.000e+00  0.000e+00  0.000e+00  0.000e+00  0.000e+00]\n",
      " [-1.735e-18  0.000e+00  0.000e+00  0.000e+00  1.388e-17  0.000e+00]\n",
      " [ 0.000e+00  0.000e+00  0.000e+00  1.301e-18  0.000e+00  0.000e+00]\n",
      " [-3.469e-17  0.000e+00 -1.735e-18  0.000e+00  0.000e+00  0.000e+00]\n",
      " [ 0.000e+00  0.000e+00  0.000e+00  0.000e+00  0.000e+00  0.000e+00]\n",
      " [ 0.000e+00  0.000e+00  8.674e-18  0.000e+00  0.000e+00  1.137e-13]\n",
      " [ 4.857e-17  0.000e+00  0.000e+00  0.000e+00  0.000e+00  0.000e+00]]\n"
     ]
    }
   ],
   "source": [
    "impact.run(beam,order=3)\n",
    "\n",
    "pData0 = impact.readParticleData(1001,ke,mass,freq)\n",
    "pData1 = impact.readParticleData(1002,ke,mass,freq)\n",
    "pData2 = impact.readParticleData(1003,ke,mass,freq)\n",
    "print(pData0[:8,:6]-pData2[:8,:6])"
   ]
  },
  {
   "cell_type": "code",
   "execution_count": 6,
   "metadata": {},
   "outputs": [
    {
     "name": "stdout",
     "output_type": "stream",
     "text": [
      "[[ 0.000e+00  2.602e-18  0.000e+00  0.000e+00  0.000e+00  0.000e+00]\n",
      " [ 1.735e-17  0.000e+00 -1.735e-18  0.000e+00  0.000e+00  0.000e+00]\n",
      " [-1.735e-18  0.000e+00  0.000e+00  0.000e+00  0.000e+00  0.000e+00]\n",
      " [ 0.000e+00  0.000e+00 -1.735e-17 -8.674e-19  0.000e+00  0.000e+00]\n",
      " [-1.388e-17  0.000e+00  0.000e+00  0.000e+00  0.000e+00  0.000e+00]\n",
      " [ 1.735e-18  0.000e+00 -1.301e-18  0.000e+00 -3.469e-17  0.000e+00]\n",
      " [ 0.000e+00  0.000e+00 -8.674e-18  0.000e+00  0.000e+00  1.137e-13]\n",
      " [ 0.000e+00  0.000e+00  0.000e+00  0.000e+00  0.000e+00  0.000e+00]]\n"
     ]
    }
   ],
   "source": [
    "impact.run(beam,order=1)\n",
    "\n",
    "pData0 = impact.readParticleData(1001,ke,mass,freq)\n",
    "pData1 = impact.readParticleData(1002,ke,mass,freq)\n",
    "pData2 = impact.readParticleData(1003,ke,mass,freq)\n",
    "print(pData0[:8,:6]-pData2[:8,:6])"
   ]
  },
  {
   "cell_type": "markdown",
   "metadata": {},
   "source": [
    "# 2. Quad"
   ]
  },
  {
   "cell_type": "code",
   "execution_count": 7,
   "metadata": {},
   "outputs": [],
   "source": [
    "elemF = impact.getElem('quad')\n",
    "elemF.length = 0.02\n",
    "elemF.n_sckick = 20\n",
    "elemF.n_map = 1\n",
    "elemF.B1 = 15.0\n",
    "\n",
    "elemB = copy(elemF)\n",
    "elemB.length =-elemF.length\n",
    "\n",
    "lattice[2] = elemF\n",
    "lattice[4] = elemB\n",
    "\n",
    "impact.writeInputFile(beam,lattice);"
   ]
  },
  {
   "cell_type": "code",
   "execution_count": 8,
   "metadata": {
    "scrolled": true
   },
   "outputs": [
    {
     "name": "stdout",
     "output_type": "stream",
     "text": [
      "[[-1.735e-17 -6.505e-18 -2.776e-17  3.357e-16  4.441e-16  0.000e+00]\n",
      " [-4.857e-17  1.648e-17  8.327e-17  1.299e-16  0.000e+00  0.000e+00]\n",
      " [-2.949e-17 -2.819e-18 -1.388e-17 -4.337e-18  6.939e-18  0.000e+00]\n",
      " [ 5.031e-17  3.036e-18 -1.249e-16 -8.023e-17  0.000e+00  0.000e+00]\n",
      " [-3.469e-17  6.939e-18  2.429e-17  9.714e-17  0.000e+00  0.000e+00]\n",
      " [ 3.296e-17 -1.301e-17 -1.258e-17  2.255e-17  1.388e-17  0.000e+00]\n",
      " [ 9.714e-17 -1.735e-17  3.643e-17 -3.860e-17  0.000e+00  1.137e-13]\n",
      " [ 2.776e-17 -1.735e-18  2.255e-17 -5.421e-20  0.000e+00  0.000e+00]]\n"
     ]
    }
   ],
   "source": [
    "impact.run(beam,order=3)\n",
    "\n",
    "pData0 = impact.readParticleData(1001,ke,mass,freq)\n",
    "pData1 = impact.readParticleData(1002,ke,mass,freq)\n",
    "pData2 = impact.readParticleData(1003,ke,mass,freq)\n",
    "print(pData0[:8,:6]-pData2[:8,:6])"
   ]
  },
  {
   "cell_type": "code",
   "execution_count": 9,
   "metadata": {},
   "outputs": [
    {
     "name": "stdout",
     "output_type": "stream",
     "text": [
      "[[-1.735e-17 -6.505e-18 -2.776e-17  3.357e-16  4.441e-16  0.000e+00]\n",
      " [-4.857e-17  1.648e-17  8.327e-17  1.299e-16  0.000e+00  0.000e+00]\n",
      " [-2.949e-17 -2.819e-18 -1.388e-17 -4.337e-18  6.939e-18  0.000e+00]\n",
      " [ 5.031e-17  3.036e-18 -1.249e-16 -8.023e-17  0.000e+00  0.000e+00]\n",
      " [-3.469e-17  6.939e-18  2.429e-17  9.714e-17  0.000e+00  0.000e+00]\n",
      " [ 3.296e-17 -1.301e-17 -1.258e-17  2.255e-17  1.388e-17  0.000e+00]\n",
      " [ 9.714e-17 -1.735e-17  3.643e-17 -3.860e-17  0.000e+00  1.137e-13]\n",
      " [ 2.776e-17 -1.735e-18  2.255e-17 -5.421e-20  0.000e+00  0.000e+00]]\n"
     ]
    }
   ],
   "source": [
    "impact.run(beam,order=1)\n",
    "\n",
    "pData0 = impact.readParticleData(1001,ke,mass,freq)\n",
    "pData1 = impact.readParticleData(1002,ke,mass,freq)\n",
    "pData2 = impact.readParticleData(1003,ke,mass,freq)\n",
    "print(pData0[:8,:6]-pData2[:8,:6])"
   ]
  },
  {
   "cell_type": "markdown",
   "metadata": {},
   "source": [
    "# 3. Sextupole"
   ]
  },
  {
   "cell_type": "code",
   "execution_count": 10,
   "metadata": {},
   "outputs": [
    {
     "data": {
      "text/plain": [
       "\n",
       " KL_dipole: 0.0\n",
       "   KL_quad: 0.0\n",
       "   KL_sext: 0.15\n",
       "    KL_oct: 0.0\n",
       "   KL_deca: 0.0\n",
       " KL_dodeca: 0.0\n",
       "      type: 'multipole_thin'"
      ]
     },
     "execution_count": 10,
     "metadata": {},
     "output_type": "execute_result"
    }
   ],
   "source": [
    "for i in range(len(lattice0)):\n",
    "    if lattice0[i].type == 'multipole_thin':\n",
    "        break\n",
    "lattice0[i]"
   ]
  },
  {
   "cell_type": "code",
   "execution_count": 11,
   "metadata": {},
   "outputs": [
    {
     "data": {
      "text/plain": [
       "0"
      ]
     },
     "execution_count": 11,
     "metadata": {},
     "output_type": "execute_result"
    }
   ],
   "source": [
    "elemF = lattice0[i]\n",
    "elemF.KL_sext = 1000.0\n",
    "\n",
    "elemB = copy(elemF)\n",
    "elemB.KL_sext =-elemF.KL_sext\n",
    "\n",
    "lattice[2] = elemF\n",
    "lattice[4] = elemB\n",
    "\n",
    "impact.writeInputFile(beam,lattice);\n",
    "impact.run(beam,order=3)"
   ]
  },
  {
   "cell_type": "code",
   "execution_count": 12,
   "metadata": {
    "scrolled": true
   },
   "outputs": [
    {
     "name": "stdout",
     "output_type": "stream",
     "text": [
      "[[ 0.000e+00  2.602e-18  0.000e+00 -6.939e-18  0.000e+00  0.000e+00]\n",
      " [ 0.000e+00 -6.939e-18  0.000e+00 -2.342e-17  0.000e+00  0.000e+00]\n",
      " [ 0.000e+00  6.505e-19  0.000e+00  3.903e-18  0.000e+00  0.000e+00]\n",
      " [ 0.000e+00  6.505e-19  0.000e+00 -3.903e-18  0.000e+00  0.000e+00]\n",
      " [ 0.000e+00  3.036e-17  0.000e+00 -1.735e-18  0.000e+00  0.000e+00]\n",
      " [ 0.000e+00  3.469e-18  0.000e+00 -2.331e-18  0.000e+00  0.000e+00]\n",
      " [ 0.000e+00  6.072e-18  0.000e+00  0.000e+00  0.000e+00  0.000e+00]\n",
      " [ 0.000e+00  6.939e-18  0.000e+00  5.123e-18  0.000e+00  0.000e+00]]\n"
     ]
    }
   ],
   "source": [
    "pData0 = impact.readParticleData(1001,ke,mass,freq)\n",
    "pData1 = impact.readParticleData(1002,ke,mass,freq)\n",
    "pData2 = impact.readParticleData(1003,ke,mass,freq)\n",
    "print(pData0[:8,:6]-pData2[:8,:6])"
   ]
  },
  {
   "cell_type": "markdown",
   "metadata": {},
   "source": [
    "# 4. Dipole"
   ]
  },
  {
   "cell_type": "code",
   "execution_count": 13,
   "metadata": {
    "scrolled": false
   },
   "outputs": [
    {
     "data": {
      "text/plain": [
       "\n",
       "                   length: 0.7330382858 [m]\n",
       "                 n_sckick: 10 [1]\n",
       "                    n_map: 20 [1]\n",
       "            bending_angle: 1.047197551 [rad]\n",
       "                       k1: 0.0\n",
       "                  file_id: 350\n",
       "              pipe_radius: 0.058 [m]\n",
       "           entrance_angle: 0.0 [rad]\n",
       "               exit_angle: 0.0 [rad]\n",
       "       entrance_curvature: 0.0 [rad]\n",
       "           exit_curvature: 0.0 [rad]\n",
       " fringe_field_integration: 0.5 [1]\n",
       "                     type: 'dipole'"
      ]
     },
     "execution_count": 13,
     "metadata": {},
     "output_type": "execute_result"
    }
   ],
   "source": [
    "for i in range(len(lattice0)):\n",
    "    if lattice0[i].type == 'dipole':\n",
    "        break\n",
    "lattice0[i]"
   ]
  },
  {
   "cell_type": "markdown",
   "metadata": {},
   "source": [
    "### negative length, bending angle and FINT"
   ]
  },
  {
   "cell_type": "code",
   "execution_count": 14,
   "metadata": {},
   "outputs": [],
   "source": [
    "elemF = copy(lattice0[i])\n",
    "\n",
    "elemB = copy(elemF)\n",
    "elemB.length = -elemF.length\n",
    "elemB.bending_angle = -elemF.bending_angle\n",
    "elemB.fringe_field_integration = -elemF.fringe_field_integration\n",
    "elemB.entrance_angle = -elemF.exit_angle\n",
    "elemB.exit_angle     = -elemF.entrance_angle\n",
    "\n",
    "lattice[2] = elemF\n",
    "lattice[4] = elemB\n",
    "\n",
    "impact.writeInputFile(beam,lattice);"
   ]
  },
  {
   "cell_type": "code",
   "execution_count": 15,
   "metadata": {
    "scrolled": true
   },
   "outputs": [
    {
     "name": "stdout",
     "output_type": "stream",
     "text": [
      "[[ 2.771e-07 -9.177e-07 -1.105e-07  5.994e-07 -1.815e-05  0.000e+00]\n",
      " [-1.268e-07  4.949e-07  1.195e-07 -3.046e-07  1.925e-05  0.000e+00]\n",
      " [ 1.004e-07 -3.516e-07 -1.480e-07  5.150e-07 -1.219e-05  0.000e+00]\n",
      " [-1.062e-07  3.649e-07  1.829e-07 -5.376e-07  1.790e-05  0.000e+00]\n",
      " [ 1.969e-07 -6.384e-07  8.873e-09  9.583e-08 -2.487e-05  0.000e+00]\n",
      " [ 7.402e-08 -2.679e-07  1.449e-10 -2.631e-08 -9.994e-06  0.000e+00]\n",
      " [ 1.787e-07 -5.858e-07 -3.051e-08  1.847e-07 -2.359e-05  1.137e-13]\n",
      " [-1.409e-07  7.011e-07 -3.441e-08  6.339e-08  3.961e-06  0.000e+00]]\n"
     ]
    }
   ],
   "source": [
    "impact.run(beam,order=3)\n",
    "\n",
    "pData0 = impact.readParticleData(1001,ke,mass,freq)\n",
    "pData1 = impact.readParticleData(1002,ke,mass,freq)\n",
    "pData2 = impact.readParticleData(1003,ke,mass,freq)\n",
    "print(pData0[:8,:6]-pData2[:8,:6])"
   ]
  },
  {
   "cell_type": "code",
   "execution_count": 16,
   "metadata": {},
   "outputs": [
    {
     "name": "stdout",
     "output_type": "stream",
     "text": [
      "[[ 2.683e-07 -8.600e-07 -2.017e-07  6.688e-07 -3.885e-05  0.000e+00]\n",
      " [-1.384e-07  5.065e-07  8.199e-08 -2.541e-07  1.834e-05  0.000e+00]\n",
      " [ 9.705e-08 -3.233e-07 -1.668e-07  5.561e-07 -1.365e-05  0.000e+00]\n",
      " [-1.196e-07  4.237e-07  1.504e-07 -4.968e-07  1.601e-05  0.000e+00]\n",
      " [ 1.825e-07 -6.435e-07 -5.090e-08  1.613e-07 -2.478e-05  0.000e+00]\n",
      " [ 6.760e-08 -2.513e-07  2.774e-09 -2.634e-08 -9.021e-06  0.000e+00]\n",
      " [ 1.640e-07 -5.845e-07 -6.382e-08  2.146e-07 -2.210e-05  1.137e-13]\n",
      " [-1.744e-07  6.271e-07 -1.392e-08  4.820e-08  2.338e-05  0.000e+00]]\n"
     ]
    }
   ],
   "source": [
    "impact.run(beam,order=1)\n",
    "\n",
    "pData0 = impact.readParticleData(1001,ke,mass,freq)\n",
    "pData1 = impact.readParticleData(1002,ke,mass,freq)\n",
    "pData2 = impact.readParticleData(1003,ke,mass,freq)\n",
    "print(pData0[:8,:6]-pData2[:8,:6])"
   ]
  },
  {
   "cell_type": "markdown",
   "metadata": {},
   "source": [
    "# 5. Nonlinear Insert"
   ]
  },
  {
   "cell_type": "code",
   "execution_count": 17,
   "metadata": {},
   "outputs": [
    {
     "data": {
      "text/plain": [
       "\n",
       "             length: 1.8 [m]\n",
       "           n_sckick: 96 [1]\n",
       "              n_map: 5 [1]\n",
       "         strength_t: 0.4\n",
       " transverse_scale_c: 0.01\n",
       "        pipe_radius: 10.0 [m]\n",
       "       tune_advance: 0.3034496449165134\n",
       "               type: 'nonlinear_insert'"
      ]
     },
     "execution_count": 17,
     "metadata": {},
     "output_type": "execute_result"
    }
   ],
   "source": [
    "for i in range(len(lattice0)):\n",
    "    if lattice0[i].type == 'nonlinear_insert':\n",
    "        break\n",
    "lattice0[i]"
   ]
  },
  {
   "cell_type": "code",
   "execution_count": 18,
   "metadata": {},
   "outputs": [],
   "source": [
    "elemF = lattice0[i]\n",
    "\n",
    "elemB = copy(elemF)\n",
    "elemB.length =-elemF.length\n",
    "\n",
    "lattice[2] = elemF\n",
    "lattice[4] = elemB\n",
    "\n",
    "impact.writeInputFile(beam,lattice);"
   ]
  },
  {
   "cell_type": "code",
   "execution_count": 19,
   "metadata": {},
   "outputs": [
    {
     "name": "stdout",
     "output_type": "stream",
     "text": [
      "[[ 0.000e+00 -6.505e-18 -9.714e-17  8.240e-18  1.221e-15  0.000e+00]\n",
      " [ 0.000e+00  2.602e-18  2.429e-17 -9.758e-18  1.998e-15  0.000e+00]\n",
      " [-1.735e-18 -3.036e-18  6.939e-18 -3.036e-18  3.331e-16  0.000e+00]\n",
      " [ 1.388e-17 -3.144e-18  0.000e+00  6.072e-18 -1.995e-16  0.000e+00]\n",
      " [-3.469e-17 -2.602e-18 -1.561e-17  2.602e-18  0.000e+00  0.000e+00]\n",
      " [ 1.908e-17 -1.240e-16  1.128e-17  2.803e-17  1.735e-16  0.000e+00]\n",
      " [-3.469e-17 -8.674e-18 -1.908e-17  3.903e-18  1.110e-16  1.137e-13]\n",
      " [ 0.000e+00 -6.072e-18 -6.505e-18 -1.355e-20  6.106e-16  0.000e+00]]\n"
     ]
    }
   ],
   "source": [
    "impact.run(beam,order=3)\n",
    "\n",
    "pData0 = impact.readParticleData(1001,ke,mass,freq)\n",
    "pData1 = impact.readParticleData(1002,ke,mass,freq)\n",
    "pData2 = impact.readParticleData(1003,ke,mass,freq)\n",
    "print(pData0[:8,:6]-pData2[:8,:6])"
   ]
  },
  {
   "cell_type": "code",
   "execution_count": 20,
   "metadata": {},
   "outputs": [
    {
     "name": "stdout",
     "output_type": "stream",
     "text": [
      "[[ 0.000e+00 -2.602e-18 -1.284e-16 -5.638e-18 -1.110e-16  0.000e+00]\n",
      " [ 1.735e-17 -9.541e-18 -1.214e-17 -7.156e-18  0.000e+00  0.000e+00]\n",
      " [-6.939e-17  6.072e-18  2.082e-17 -1.258e-17 -1.388e-17  0.000e+00]\n",
      " [-5.031e-17  1.214e-17  3.469e-17  8.240e-18 -7.459e-17  0.000e+00]\n",
      " [-4.857e-17 -1.301e-18 -1.041e-17  1.735e-18  0.000e+00  0.000e+00]\n",
      " [-8.674e-18 -6.505e-17 -6.505e-18  1.344e-17 -2.082e-17  0.000e+00]\n",
      " [-6.245e-17  0.000e+00  2.082e-17 -3.036e-18  0.000e+00  1.137e-13]\n",
      " [ 2.776e-17 -1.735e-18 -6.505e-18  5.421e-19  3.608e-16  0.000e+00]]\n"
     ]
    }
   ],
   "source": [
    "impact.run(beam,order=1)\n",
    "\n",
    "pData0 = impact.readParticleData(1001,ke,mass,freq)\n",
    "pData1 = impact.readParticleData(1002,ke,mass,freq)\n",
    "pData2 = impact.readParticleData(1003,ke,mass,freq)\n",
    "print(pData0[:8,:6]-pData2[:8,:6])"
   ]
  },
  {
   "cell_type": "markdown",
   "metadata": {},
   "source": [
    "# 6. Nonlinear Insert sliced"
   ]
  },
  {
   "cell_type": "code",
   "execution_count": 21,
   "metadata": {},
   "outputs": [],
   "source": [
    "NL0 = impact.getElem('nonlinear_insert_sliced')"
   ]
  },
  {
   "cell_type": "code",
   "execution_count": 22,
   "metadata": {},
   "outputs": [
    {
     "data": {
      "text/plain": [
       "0"
      ]
     },
     "execution_count": 22,
     "metadata": {},
     "output_type": "execute_result"
    }
   ],
   "source": [
    "elemF = lattice0[i]\n",
    "\n",
    "elemB = copy(elemF)\n",
    "elemB.length =-elemF.length\n",
    "\n",
    "lattice[2] = elemF\n",
    "lattice[4] = elemB\n",
    "\n",
    "impact.writeInputFile(beam,lattice);\n",
    "impact.run(beam,order=3)"
   ]
  },
  {
   "cell_type": "code",
   "execution_count": 23,
   "metadata": {
    "scrolled": false
   },
   "outputs": [
    {
     "name": "stdout",
     "output_type": "stream",
     "text": [
      "[[ 0.000e+00 -6.505e-18 -9.714e-17  8.240e-18  1.221e-15  0.000e+00]\n",
      " [ 0.000e+00  2.602e-18  2.429e-17 -9.758e-18  1.998e-15  0.000e+00]\n",
      " [-1.735e-18 -3.036e-18  6.939e-18 -3.036e-18  3.331e-16  0.000e+00]\n",
      " [ 1.388e-17 -3.144e-18  0.000e+00  6.072e-18 -1.995e-16  0.000e+00]\n",
      " [-3.469e-17 -2.602e-18 -1.561e-17  2.602e-18  0.000e+00  0.000e+00]\n",
      " [ 1.908e-17 -1.240e-16  1.128e-17  2.803e-17  1.735e-16  0.000e+00]\n",
      " [-3.469e-17 -8.674e-18 -1.908e-17  3.903e-18  1.110e-16  1.137e-13]\n",
      " [ 0.000e+00 -6.072e-18 -6.505e-18 -1.355e-20  6.106e-16  0.000e+00]]\n"
     ]
    }
   ],
   "source": [
    "pData0 = impact.readParticleData(1001,ke,mass,freq)\n",
    "pData1 = impact.readParticleData(1002,ke,mass,freq)\n",
    "pData2 = impact.readParticleData(1003,ke,mass,freq)\n",
    "print(pData0[:8,:6]-pData2[:8,:6])"
   ]
  },
  {
   "cell_type": "code",
   "execution_count": 24,
   "metadata": {
    "scrolled": true
   },
   "outputs": [
    {
     "name": "stdout",
     "output_type": "stream",
     "text": [
      "[[ 0.000e+00 -6.505e-18 -9.714e-17  8.240e-18  1.221e-15  0.000e+00]\n",
      " [ 0.000e+00  2.602e-18  2.429e-17 -9.758e-18  1.998e-15  0.000e+00]\n",
      " [-1.735e-18 -3.036e-18  6.939e-18 -3.036e-18  3.331e-16  0.000e+00]\n",
      " [ 1.388e-17 -3.144e-18  0.000e+00  6.072e-18 -1.995e-16  0.000e+00]\n",
      " [-3.469e-17 -2.602e-18 -1.561e-17  2.602e-18  0.000e+00  0.000e+00]\n",
      " [ 1.908e-17 -1.240e-16  1.128e-17  2.803e-17  1.735e-16  0.000e+00]\n",
      " [-3.469e-17 -8.674e-18 -1.908e-17  3.903e-18  1.110e-16  1.137e-13]\n",
      " [ 0.000e+00 -6.072e-18 -6.505e-18 -1.355e-20  6.106e-16  0.000e+00]]\n"
     ]
    }
   ],
   "source": [
    "pData0 = impact.readParticleData(1001,ke,mass,freq)\n",
    "pData1 = impact.readParticleData(1002,ke,mass,freq)\n",
    "pData2 = impact.readParticleData(1003,ke,mass,freq)\n",
    "print(pData0[:8,:6]-pData2[:8,:6])"
   ]
  }
 ],
 "metadata": {
  "kernelspec": {
   "display_name": "Python 3",
   "language": "python",
   "name": "python3"
  },
  "language_info": {
   "codemirror_mode": {
    "name": "ipython",
    "version": 3
   },
   "file_extension": ".py",
   "mimetype": "text/x-python",
   "name": "python",
   "nbconvert_exporter": "python",
   "pygments_lexer": "ipython3",
   "version": "3.6.5"
  }
 },
 "nbformat": 4,
 "nbformat_minor": 2
}
