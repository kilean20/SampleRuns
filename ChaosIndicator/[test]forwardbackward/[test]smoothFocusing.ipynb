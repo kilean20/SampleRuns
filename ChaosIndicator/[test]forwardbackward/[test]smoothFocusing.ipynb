{
 "cells": [
  {
   "cell_type": "code",
   "execution_count": 1,
   "metadata": {},
   "outputs": [],
   "source": [
    "import numpy as np\n",
    "import pImpactR as impact\n",
    "from copy import deepcopy as copy\n",
    "import os\n",
    "np.set_printoptions(precision=3)"
   ]
  },
  {
   "cell_type": "code",
   "execution_count": 2,
   "metadata": {},
   "outputs": [],
   "source": [
    "ke,mass,freq = 2500000.0, 938272045.0, 30000000.0 \n",
    "betx,emitx = 1.273, 1.461e-07\n",
    "NL_c,NL_t = 0.01, 0.4"
   ]
  },
  {
   "cell_type": "markdown",
   "metadata": {},
   "source": [
    "# Prepare Beam and Lattice"
   ]
  },
  {
   "cell_type": "code",
   "execution_count": 3,
   "metadata": {},
   "outputs": [],
   "source": [
    "beam=impact.getBeam()\n",
    "beam.nCore_y=1\n",
    "beam.nCore_z=1\n",
    "beam.n_particles=10\n",
    "beam.current=0.0\n",
    "beam.kinetic_energy = ke\n",
    "beam.mass = mass\n",
    "beam.frequency = freq\n",
    "beam.distribution.distribution_type = 'Waterbag'\n",
    "beam.distribution.betx = betx\n",
    "beam.distribution.bety = betx\n",
    "beam.distribution.emitx = emitx\n",
    "beam.distribution.emity = emitx\n",
    "beam.distribution.betz = 1265822570.9485857\n",
    "beam.distribution.emitz = 1.2658226331473231e-05\n",
    "beam.mesh.fld_solver = 'Smooth_Focusing'\n",
    "\n",
    "lattice = [impact.getElem('loop'),\n",
    "           impact.getElem('write_raw_ptcl'),\n",
    "           0,\n",
    "           impact.getElem('write_raw_ptcl'),\n",
    "           0,\n",
    "           impact.getElem('write_raw_ptcl')]\n",
    "lattice[0].nturn = 1\n",
    "lattice[1].file_id = 1001\n",
    "lattice[3].file_id = 1002\n",
    "lattice[5].file_id = 1003"
   ]
  },
  {
   "cell_type": "markdown",
   "metadata": {},
   "source": [
    "# 1. SmoothFocusing NL"
   ]
  },
  {
   "cell_type": "code",
   "execution_count": 4,
   "metadata": {},
   "outputs": [
    {
     "data": {
      "text/plain": [
       "0"
      ]
     },
     "execution_count": 4,
     "metadata": {},
     "output_type": "execute_result"
    }
   ],
   "source": [
    "elemF = impact.getElem('nonlinear_insert_smooth_focusing')\n",
    "elemF.transverse_scale_c = NL_c\n",
    "elemF.strength_t = NL_t\n",
    "elemF.betx = betx\n",
    "elemF.length = 1.8\n",
    "elemF.n_sckick = 50\n",
    "elemF.n_map = 5\n",
    "\n",
    "elemB = copy(elemF)\n",
    "elemB.length =-elemF.length\n",
    "\n",
    "lattice[2] = elemF\n",
    "lattice[4] = elemB\n",
    "\n",
    "impact.writeInputFile(beam,lattice);\n",
    "impact.run()"
   ]
  },
  {
   "cell_type": "code",
   "execution_count": 5,
   "metadata": {
    "scrolled": false
   },
   "outputs": [
    {
     "name": "stdout",
     "output_type": "stream",
     "text": [
      "[[-1.301e-18 -1.518e-18  8.132e-19 -3.469e-18  0.000e+00  0.000e+00]\n",
      " [-3.036e-18  4.879e-19 -1.518e-18 -6.505e-19  0.000e+00  0.000e+00]\n",
      " [ 2.168e-18 -3.036e-18  0.000e+00  4.066e-19  0.000e+00  0.000e+00]\n",
      " [ 6.505e-19 -5.421e-19  0.000e+00 -2.168e-19  0.000e+00  0.000e+00]\n",
      " [ 3.144e-18  1.301e-18  1.247e-18 -1.301e-18  0.000e+00  0.000e+00]\n",
      " [ 0.000e+00  1.355e-18  1.369e-18 -1.518e-18  0.000e+00  0.000e+00]\n",
      " [ 9.758e-19  8.674e-19 -3.253e-18 -6.505e-19 -2.842e-14  0.000e+00]\n",
      " [-2.711e-18 -2.819e-18 -2.277e-18  5.421e-19  0.000e+00  0.000e+00]\n",
      " [ 0.000e+00  2.277e-18 -2.602e-18  0.000e+00  0.000e+00  0.000e+00]\n",
      " [ 0.000e+00  1.518e-18 -6.505e-19  1.626e-19  0.000e+00  0.000e+00]]\n"
     ]
    }
   ],
   "source": [
    "pData0 = impact.readParticleData(1001,ke,mass,freq)\n",
    "pData1 = impact.readParticleData(1002,ke,mass,freq)\n",
    "pData2 = impact.readParticleData(1003,ke,mass,freq)\n",
    "print(pData0[:,:6]-pData2[:,:6])"
   ]
  },
  {
   "cell_type": "code",
   "execution_count": 6,
   "metadata": {},
   "outputs": [],
   "source": [
    "# print(pData1[:,:6]-pData0[:,:6])"
   ]
  },
  {
   "cell_type": "code",
   "execution_count": 7,
   "metadata": {},
   "outputs": [
    {
     "name": "stdout",
     "output_type": "stream",
     "text": [
      "!================= Beam & Control Parameters ================= \r\n",
      "1 1 \r\n",
      "6 10 1 0 1 \r\n",
      "32 32 32 9 0.014 0.014 0.1 \r\n",
      "3 0 0 1 \r\n",
      "10 \r\n",
      "0.0 \r\n",
      "1.0657889726792521e-09 \r\n",
      "0.0010032631796813684 9.156210371571375e-05 0.0 1.0 1.0 0.0 0.0 \r\n",
      "0.0010032631796813684 9.156210371571375e-05 0.0 1.0 1.0 0.0 0.0 \r\n",
      "2.2092772151898714 1.065789e-10 0.0 1.0 1.0 0.0 0.0 \r\n",
      "0.0 2500000.0 938272045.0 1.0 30000000.0 0.0 \r\n",
      "!========================== Lattice ========================== \r\n",
      "0.0 0 0 -16 0.0 1 / \r\n",
      "0.0 0 1001 -2 1 1 / \r\n",
      "1.8 50 5 9 0.4 0.01 1.273 1.0 / \r\n",
      "0.0 0 1002 -2 1 1 / \r\n",
      "-1.8 50 5 9 0.4 0.01 1.273 1.0 / \r\n",
      "0.0 0 1003 -2 1 1 / \r\n"
     ]
    }
   ],
   "source": [
    "cat test.in"
   ]
  }
 ],
 "metadata": {
  "kernelspec": {
   "display_name": "Python 3",
   "language": "python",
   "name": "python3"
  },
  "language_info": {
   "codemirror_mode": {
    "name": "ipython",
    "version": 3
   },
   "file_extension": ".py",
   "mimetype": "text/x-python",
   "name": "python",
   "nbconvert_exporter": "python",
   "pygments_lexer": "ipython3",
   "version": "3.6.5"
  }
 },
 "nbformat": 4,
 "nbformat_minor": 2
}
