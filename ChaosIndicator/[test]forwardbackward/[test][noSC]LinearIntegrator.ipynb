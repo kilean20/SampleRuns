{
 "cells": [
  {
   "cell_type": "code",
   "execution_count": 1,
   "metadata": {},
   "outputs": [],
   "source": [
    "import numpy as np\n",
    "import pImpactR as impact\n",
    "from copy import deepcopy as copy\n",
    "import os\n",
    "input_fname = 'test_IOTA.in'\n",
    "np.set_printoptions(precision=3)"
   ]
  },
  {
   "cell_type": "markdown",
   "metadata": {},
   "source": [
    "# Prepare Beam and Lattice"
   ]
  },
  {
   "cell_type": "code",
   "execution_count": 2,
   "metadata": {
    "scrolled": true
   },
   "outputs": [
    {
     "name": "stdout",
     "output_type": "stream",
     "text": [
      "reading ImpactZ input file (\u001b[92mtest_IOTA.in\u001b[0m)\n",
      "  : mpi task info .............................done\n",
      "  : simulation control parameters .............done\n",
      "  : space charge field solver, mesh info ......done\n",
      "  : dist-type,restart,subcycle,#of state ......done\n",
      "  : Multiple Charge State info ................done\n",
      "  : particle distribution info ................done\n",
      "  : beam reference orbit info .................done\n",
      "  : converting impact dist to twiss param......done\n",
      "  : lattice info ..............................done\n"
     ]
    }
   ],
   "source": [
    "beam, lattice0 = impact.readInputFile(input_fname)"
   ]
  },
  {
   "cell_type": "code",
   "execution_count": 3,
   "metadata": {},
   "outputs": [],
   "source": [
    "beam.nCore_y=1\n",
    "beam.nCore_z=1\n",
    "beam.n_particles=10\n",
    "beam.current=0.0\n",
    "dist = beam.distribution\n",
    "dist.distribution_type = 'Waterbag'\n",
    "lattice = [impact.getElem('loop'),\n",
    "           impact.getElem('write_raw_ptcl'),\n",
    "           0,\n",
    "           impact.getElem('write_raw_ptcl'),\n",
    "           0,\n",
    "           impact.getElem('write_raw_ptcl')]\n",
    "lattice[0].nturn = 1\n",
    "lattice[1].file_id = 1001\n",
    "lattice[3].file_id = 1002\n",
    "lattice[5].file_id = 1003\n",
    "\n",
    "\n",
    "ke = beam.kinetic_energy\n",
    "mass = beam.mass\n",
    "freq = beam.frequency"
   ]
  },
  {
   "cell_type": "code",
   "execution_count": 4,
   "metadata": {},
   "outputs": [],
   "source": [
    "dist.mode = 'twiss'\n",
    "dist.betx = 10.0\n",
    "dist.alfx = 0\n",
    "dist.emitx = 1.0e-6\n",
    "dist.bety = 10.0\n",
    "dist.alfy = 0\n",
    "dist.emity = 1.0e-6\n",
    "dist.betz = 109.0\n",
    "dist.alfz = 0\n",
    "dist.emitz = 1.0e-4"
   ]
  },
  {
   "cell_type": "markdown",
   "metadata": {},
   "source": [
    "# 1. Drift"
   ]
  },
  {
   "cell_type": "code",
   "execution_count": 5,
   "metadata": {},
   "outputs": [
    {
     "data": {
      "text/plain": [
       "0"
      ]
     },
     "execution_count": 5,
     "metadata": {},
     "output_type": "execute_result"
    }
   ],
   "source": [
    "elemF = impact.getElem('drift')\n",
    "elemF.length = 1.1\n",
    "elemF.n_sckick = 20\n",
    "elemF.n_map = 2\n",
    "\n",
    "elemB = copy(elemF)\n",
    "elemB.length =-elemF.length\n",
    "\n",
    "lattice[2] = elemF\n",
    "lattice[4] = elemB\n",
    "\n",
    "impact.writeInputFile(beam,lattice);\n",
    "impact.run()"
   ]
  },
  {
   "cell_type": "code",
   "execution_count": 6,
   "metadata": {
    "scrolled": false
   },
   "outputs": [
    {
     "name": "stdout",
     "output_type": "stream",
     "text": [
      "[[ 0.000e+00  0.000e+00  0.000e+00  0.000e+00  0.000e+00  0.000e+00]\n",
      " [ 0.000e+00  0.000e+00  0.000e+00  0.000e+00  5.551e-17  0.000e+00]\n",
      " [ 0.000e+00  0.000e+00  0.000e+00  0.000e+00 -8.327e-17  0.000e+00]\n",
      " [ 0.000e+00  0.000e+00  0.000e+00  0.000e+00  6.939e-18  0.000e+00]\n",
      " [ 0.000e+00  0.000e+00  0.000e+00  0.000e+00 -3.469e-18  0.000e+00]\n",
      " [ 0.000e+00  0.000e+00  8.132e-20  0.000e+00  0.000e+00  0.000e+00]\n",
      " [ 0.000e+00  0.000e+00  0.000e+00  0.000e+00  0.000e+00  0.000e+00]\n",
      " [ 0.000e+00  0.000e+00  0.000e+00  0.000e+00  0.000e+00  0.000e+00]\n",
      " [ 0.000e+00  0.000e+00  0.000e+00  0.000e+00  0.000e+00  0.000e+00]\n",
      " [ 0.000e+00  0.000e+00  0.000e+00  0.000e+00  0.000e+00  0.000e+00]]\n"
     ]
    }
   ],
   "source": [
    "pData0 = impact.readParticleData(1001,ke,mass,freq)\n",
    "pData1 = impact.readParticleData(1002,ke,mass,freq)\n",
    "pData2 = impact.readParticleData(1003,ke,mass,freq)\n",
    "print(pData0[:,:6]-pData2[:,:6])"
   ]
  },
  {
   "cell_type": "markdown",
   "metadata": {},
   "source": [
    "# 2. Quad"
   ]
  },
  {
   "cell_type": "code",
   "execution_count": 7,
   "metadata": {},
   "outputs": [
    {
     "data": {
      "text/plain": [
       "0"
      ]
     },
     "execution_count": 7,
     "metadata": {},
     "output_type": "execute_result"
    }
   ],
   "source": [
    "elemF = impact.getElem('quad')\n",
    "elemF.length = 0.02\n",
    "elemF.n_sckick = 20\n",
    "elemF.n_map = 1\n",
    "elemF.B1 = 15.0\n",
    "\n",
    "elemB = copy(elemF)\n",
    "elemB.length =-elemF.length\n",
    "\n",
    "lattice[2] = elemF\n",
    "lattice[4] = elemB\n",
    "\n",
    "impact.writeInputFile(beam,lattice);\n",
    "impact.run()"
   ]
  },
  {
   "cell_type": "code",
   "execution_count": 8,
   "metadata": {
    "scrolled": true
   },
   "outputs": [
    {
     "name": "stdout",
     "output_type": "stream",
     "text": [
      "[[ 4.163e-17  2.927e-18 -4.554e-18  2.060e-18 -9.498e-06  0.000e+00]\n",
      " [ 0.000e+00  1.030e-18  5.725e-17 -8.890e-18 -4.964e-06  0.000e+00]\n",
      " [-3.469e-18  0.000e+00  2.776e-17  4.066e-19 -8.605e-07  0.000e+00]\n",
      " [-1.388e-17 -2.602e-18 -1.908e-17  2.819e-18 -1.939e-06  0.000e+00]\n",
      " [ 0.000e+00  0.000e+00 -4.554e-18  3.469e-18  6.080e-07  0.000e+00]\n",
      " [-8.674e-18 -1.897e-18  3.117e-19 -5.421e-18 -1.563e-06  0.000e+00]\n",
      " [-1.301e-18 -1.301e-18  3.296e-17 -2.033e-18 -1.052e-06  0.000e+00]\n",
      " [ 0.000e+00  0.000e+00  1.214e-17  2.927e-18 -4.649e-07  0.000e+00]\n",
      " [-1.388e-17  6.505e-19 -2.082e-17  0.000e+00 -4.232e-06  0.000e+00]\n",
      " [ 0.000e+00  0.000e+00 -9.541e-18 -1.193e-18 -3.658e-06  0.000e+00]]\n"
     ]
    }
   ],
   "source": [
    "pData0 = impact.readParticleData(1001,ke,mass,freq)\n",
    "pData1 = impact.readParticleData(1002,ke,mass,freq)\n",
    "pData2 = impact.readParticleData(1003,ke,mass,freq)\n",
    "print(pData0[:,:6]-pData2[:,:6])"
   ]
  },
  {
   "cell_type": "markdown",
   "metadata": {},
   "source": [
    "# 3. Sextupole"
   ]
  },
  {
   "cell_type": "code",
   "execution_count": 9,
   "metadata": {},
   "outputs": [
    {
     "data": {
      "text/plain": [
       "\n",
       " KL_dipole: 0.0\n",
       "   KL_quad: 0.0\n",
       "   KL_sext: 0.15\n",
       "    KL_oct: 0.0\n",
       "   KL_deca: 0.0\n",
       " KL_dodeca: 0.0\n",
       "      type: 'multipole_thin'"
      ]
     },
     "execution_count": 9,
     "metadata": {},
     "output_type": "execute_result"
    }
   ],
   "source": [
    "for i in range(len(lattice0)):\n",
    "    if lattice0[i].type == 'multipole_thin':\n",
    "        break\n",
    "lattice0[i]"
   ]
  },
  {
   "cell_type": "code",
   "execution_count": 10,
   "metadata": {},
   "outputs": [
    {
     "data": {
      "text/plain": [
       "0"
      ]
     },
     "execution_count": 10,
     "metadata": {},
     "output_type": "execute_result"
    }
   ],
   "source": [
    "elemF = lattice0[i]\n",
    "\n",
    "elemB = copy(elemF)\n",
    "elemF.KL_sext = 10.0\n",
    "elemB.KL_sext =-elemF.KL_sext\n",
    "\n",
    "lattice[2] = elemF\n",
    "lattice[4] = elemB\n",
    "\n",
    "impact.writeInputFile(beam,lattice);\n",
    "impact.run()"
   ]
  },
  {
   "cell_type": "code",
   "execution_count": 11,
   "metadata": {
    "scrolled": true
   },
   "outputs": [
    {
     "name": "stdout",
     "output_type": "stream",
     "text": [
      "[[ 0.000e+00 -3.518e-03  0.000e+00  3.806e-04  0.000e+00  0.000e+00]\n",
      " [ 0.000e+00 -2.744e-04  0.000e+00  2.252e-03  0.000e+00  0.000e+00]\n",
      " [ 0.000e+00  6.291e-05  0.000e+00 -1.052e-03  0.000e+00  0.000e+00]\n",
      " [ 0.000e+00 -2.008e-04  0.000e+00 -9.983e-04  0.000e+00  0.000e+00]\n",
      " [ 0.000e+00 -8.150e-05  0.000e+00 -6.777e-05  0.000e+00  0.000e+00]\n",
      " [ 0.000e+00 -8.940e-04  0.000e+00 -1.494e-05  0.000e+00  0.000e+00]\n",
      " [ 0.000e+00  7.295e-04  0.000e+00 -3.694e-04  0.000e+00  0.000e+00]\n",
      " [ 0.000e+00  1.748e-04  0.000e+00 -1.090e-04  0.000e+00  0.000e+00]\n",
      " [ 0.000e+00 -9.415e-04  0.000e+00 -1.782e-03  0.000e+00  0.000e+00]\n",
      " [ 0.000e+00 -4.768e-04  0.000e+00 -9.696e-04  0.000e+00  0.000e+00]]\n"
     ]
    }
   ],
   "source": [
    "pData0 = impact.readParticleData(1001,ke,mass,freq)\n",
    "pData1 = impact.readParticleData(1002,ke,mass,freq)\n",
    "pData2 = impact.readParticleData(1003,ke,mass,freq)\n",
    "print(pData1[:,:6]-pData0[:,:6])"
   ]
  },
  {
   "cell_type": "code",
   "execution_count": 12,
   "metadata": {},
   "outputs": [
    {
     "name": "stdout",
     "output_type": "stream",
     "text": [
      "[[0.000e+00 2.168e-19 0.000e+00 0.000e+00 0.000e+00 0.000e+00]\n",
      " [0.000e+00 0.000e+00 0.000e+00 1.084e-19 0.000e+00 0.000e+00]\n",
      " [0.000e+00 0.000e+00 0.000e+00 0.000e+00 0.000e+00 0.000e+00]\n",
      " [0.000e+00 0.000e+00 0.000e+00 0.000e+00 0.000e+00 0.000e+00]\n",
      " [0.000e+00 0.000e+00 0.000e+00 0.000e+00 0.000e+00 0.000e+00]\n",
      " [0.000e+00 0.000e+00 0.000e+00 0.000e+00 0.000e+00 0.000e+00]\n",
      " [0.000e+00 0.000e+00 0.000e+00 0.000e+00 0.000e+00 0.000e+00]\n",
      " [0.000e+00 0.000e+00 0.000e+00 0.000e+00 0.000e+00 0.000e+00]\n",
      " [0.000e+00 0.000e+00 0.000e+00 0.000e+00 0.000e+00 0.000e+00]\n",
      " [0.000e+00 0.000e+00 0.000e+00 1.626e-19 0.000e+00 0.000e+00]]\n"
     ]
    }
   ],
   "source": [
    "print(pData2[:,:6]-pData0[:,:6])"
   ]
  },
  {
   "cell_type": "markdown",
   "metadata": {},
   "source": [
    "# 4. Dipole"
   ]
  },
  {
   "cell_type": "code",
   "execution_count": 13,
   "metadata": {
    "scrolled": false
   },
   "outputs": [
    {
     "data": {
      "text/plain": [
       "\n",
       "                   length: 0.7330382858 [m]\n",
       "                 n_sckick: 10 [1]\n",
       "                    n_map: 20 [1]\n",
       "            bending_angle: 1.047197551 [rad]\n",
       "                       k1: 0.0\n",
       "                  file_id: 350\n",
       "              pipe_radius: 0.058 [m]\n",
       "           entrance_angle: 0.0 [rad]\n",
       "               exit_angle: 0.0 [rad]\n",
       "       entrance_curvature: 0.0 [rad]\n",
       "           exit_curvature: 0.0 [rad]\n",
       " fringe_field_integration: 0.5 [1]\n",
       "                     type: 'dipole'"
      ]
     },
     "execution_count": 13,
     "metadata": {},
     "output_type": "execute_result"
    }
   ],
   "source": [
    "for i in range(len(lattice0)):\n",
    "    if lattice0[i].type == 'dipole':\n",
    "        break\n",
    "lattice0[i]"
   ]
  },
  {
   "cell_type": "markdown",
   "metadata": {},
   "source": [
    "### 4.1 FINT=0"
   ]
  },
  {
   "cell_type": "markdown",
   "metadata": {},
   "source": [
    "##### negative length "
   ]
  },
  {
   "cell_type": "code",
   "execution_count": 14,
   "metadata": {},
   "outputs": [
    {
     "data": {
      "text/plain": [
       "0"
      ]
     },
     "execution_count": 14,
     "metadata": {},
     "output_type": "execute_result"
    }
   ],
   "source": [
    "elemF = copy(lattice0[i])\n",
    "elemF.fringe_field_integration = 0.0\n",
    "elemF.entrance_angle=0.03\n",
    "elemF.exit_angle=0.06\n",
    "\n",
    "elemB = copy(elemF)\n",
    "elemB.length = -elemF.length\n",
    "\n",
    "lattice[2] = elemF\n",
    "lattice[4] = elemB\n",
    "\n",
    "impact.writeInputFile(beam,lattice);\n",
    "impact.run()"
   ]
  },
  {
   "cell_type": "code",
   "execution_count": 15,
   "metadata": {
    "scrolled": true
   },
   "outputs": [
    {
     "name": "stdout",
     "output_type": "stream",
     "text": [
      "[[-3.200e-04 -8.982e-04  2.489e-05  2.970e-05  2.274e+01  0.000e+00]\n",
      " [ 9.799e-05  7.803e-04 -4.173e-04 -7.304e-05 -1.368e+01  0.000e+00]\n",
      " [-3.092e-04  8.929e-05 -3.177e-04 -4.763e-05  9.250e+00  0.000e+00]\n",
      " [ 2.517e-04  6.676e-05  2.486e-04  7.047e-05 -9.382e+00  0.000e+00]\n",
      " [ 2.993e-04 -4.223e-04  1.685e-05  4.567e-05 -4.488e+00  0.000e+00]\n",
      " [-1.571e-04 -4.843e-04  3.054e-05 -4.384e-05  1.174e+01  0.000e+00]\n",
      " [ 1.299e-05 -2.911e-04 -3.739e-04 -5.624e-05  3.431e+00  0.000e+00]\n",
      " [-1.708e-04  2.751e-04 -1.996e-04 -9.833e-06  2.109e+00  0.000e+00]\n",
      " [ 4.374e-04  1.910e-05  3.202e-04  3.578e-05 -1.502e+01  0.000e+00]\n",
      " [ 4.659e-05  6.556e-04  2.293e-04  4.056e-05 -1.029e+01  0.000e+00]]\n"
     ]
    }
   ],
   "source": [
    "pData0 = impact.readParticleData(1001,ke,mass,freq)\n",
    "pData1 = impact.readParticleData(1002,ke,mass,freq)\n",
    "pData2 = impact.readParticleData(1003,ke,mass,freq)\n",
    "print(pData0[:,:6]-pData2[:,:6])"
   ]
  },
  {
   "cell_type": "markdown",
   "metadata": {},
   "source": [
    "### negative length and bending angle and negative/exchanged e1,e2"
   ]
  },
  {
   "cell_type": "code",
   "execution_count": 16,
   "metadata": {},
   "outputs": [
    {
     "data": {
      "text/plain": [
       "0"
      ]
     },
     "execution_count": 16,
     "metadata": {},
     "output_type": "execute_result"
    }
   ],
   "source": [
    "elemB.bending_angle = -elemB.bending_angle\n",
    "elemB.entrance_angle= -elemF.exit_angle\n",
    "elemB.exit_angle    = -elemF.entrance_angle\n",
    "\n",
    "impact.writeInputFile(beam,lattice);\n",
    "impact.run()"
   ]
  },
  {
   "cell_type": "code",
   "execution_count": 17,
   "metadata": {
    "scrolled": true
   },
   "outputs": [
    {
     "name": "stdout",
     "output_type": "stream",
     "text": [
      "[[-3.469e-17 -1.355e-17  2.168e-19 -1.084e-19  4.816e-15  0.000e+00]\n",
      " [-1.735e-17 -1.865e-17  1.735e-18  5.421e-19  4.635e-15  0.000e+00]\n",
      " [-1.735e-18  5.204e-18  0.000e+00  0.000e+00 -8.882e-16  0.000e+00]\n",
      " [ 2.602e-17  1.095e-17  0.000e+00 -2.168e-19 -4.989e-15  0.000e+00]\n",
      " [-1.041e-17 -6.505e-18  0.000e+00 -2.168e-19  2.179e-15  0.000e+00]\n",
      " [-6.939e-18 -4.770e-18  5.421e-20  0.000e+00  5.468e-15  0.000e+00]\n",
      " [-6.072e-18 -5.638e-18  0.000e+00  2.711e-19  2.928e-15  0.000e+00]\n",
      " [ 1.735e-18  1.084e-18  0.000e+00 -1.084e-19 -5.690e-16  0.000e+00]\n",
      " [-1.388e-17 -9.433e-18  0.000e+00  1.355e-19  3.081e-15  0.000e+00]\n",
      " [ 2.602e-17  8.240e-18  1.735e-18  0.000e+00 -4.913e-15  0.000e+00]]\n"
     ]
    }
   ],
   "source": [
    "pData0 = impact.readParticleData(1001,ke,mass,freq)\n",
    "pData1 = impact.readParticleData(1002,ke,mass,freq)\n",
    "pData2 = impact.readParticleData(1003,ke,mass,freq)\n",
    "print(pData0[:,:6]-pData2[:,:6])"
   ]
  },
  {
   "cell_type": "markdown",
   "metadata": {},
   "source": [
    "### 4.2 FINT != 0, e1=e2=0"
   ]
  },
  {
   "cell_type": "code",
   "execution_count": 18,
   "metadata": {},
   "outputs": [
    {
     "data": {
      "text/plain": [
       "0"
      ]
     },
     "execution_count": 18,
     "metadata": {},
     "output_type": "execute_result"
    }
   ],
   "source": [
    "elemF = copy(lattice0[i])\n",
    "elemF.fringe_field_integration = 10.0\n",
    "\n",
    "\n",
    "elemB = copy(elemF)\n",
    "elemB.length = -elemF.length\n",
    "elemB.bending_angle = -elemF.bending_angle\n",
    "elemB.fringe_field_integration = -elemF.fringe_field_integration\n",
    "\n",
    "\n",
    "lattice[2] = elemF\n",
    "lattice[4] = elemB\n",
    "\n",
    "impact.writeInputFile(beam,lattice);\n",
    "impact.run()"
   ]
  },
  {
   "cell_type": "code",
   "execution_count": 19,
   "metadata": {},
   "outputs": [
    {
     "name": "stdout",
     "output_type": "stream",
     "text": [
      "[[-3.469e-17 -1.063e-17  6.505e-19 -1.626e-18 -6.523e-16  0.000e+00]\n",
      " [-1.735e-17 -1.306e-17  0.000e+00  3.253e-19  7.161e-15  0.000e+00]\n",
      " [ 1.214e-17  5.204e-18  0.000e+00 -3.849e-18 -5.412e-15  0.000e+00]\n",
      " [ 2.776e-17  1.637e-17  1.735e-18 -1.735e-18 -5.836e-15  0.000e+00]\n",
      " [-1.041e-17 -9.541e-18  6.505e-19 -8.674e-19  3.497e-15  0.000e+00]\n",
      " [-1.214e-17 -1.529e-17 -1.762e-19  0.000e+00  3.969e-15  0.000e+00]\n",
      " [-3.036e-18 -6.939e-18  0.000e+00 -9.731e-18  2.123e-15  0.000e+00]\n",
      " [ 4.770e-18  4.120e-18 -3.469e-18  3.361e-18 -1.443e-15  0.000e+00]\n",
      " [-1.388e-17 -5.475e-18  5.204e-18 -5.909e-18  5.163e-15  0.000e+00]\n",
      " [ 1.735e-17  1.648e-17  1.735e-18 -3.957e-18 -2.970e-15  0.000e+00]]\n"
     ]
    }
   ],
   "source": [
    "pData0 = impact.readParticleData(1001,ke,mass,freq)\n",
    "pData1 = impact.readParticleData(1002,ke,mass,freq)\n",
    "pData2 = impact.readParticleData(1003,ke,mass,freq)\n",
    "print(pData0[:,:6]-pData2[:,:6])"
   ]
  },
  {
   "cell_type": "markdown",
   "metadata": {},
   "source": [
    "### negative length, bending angle and FINT"
   ]
  },
  {
   "cell_type": "markdown",
   "metadata": {},
   "source": [
    "###### MaryLie_order = 2"
   ]
  },
  {
   "cell_type": "markdown",
   "metadata": {},
   "source": [
    "elemB.bending_angle = -elemF.bending_angle\n",
    "elemF.fringe_field_integration = 10000000.0\n",
    "elemB.fringe_field_integration = -elemF.fringe_field_integration\n",
    "os.system('xmain_dipoleF2')\n",
    "pData0 = impact.readParticleData(1001,ke,mass,freq)\n",
    "pData2 = impact.readParticleData(1003,ke,mass,freq)\n",
    "print(pData0[:,:6]-pData2[:,:6])"
   ]
  },
  {
   "cell_type": "markdown",
   "metadata": {},
   "source": [
    "###### MaryLie_order = 3"
   ]
  },
  {
   "cell_type": "markdown",
   "metadata": {},
   "source": [
    "elemB.bending_angle = -elemF.bending_angle\n",
    "elemF.fringe_field_integration = 10000000.0\n",
    "elemB.fringe_field_integration = -elemF.fringe_field_integration\n",
    "impact.writeInputFile(beam,lattice);\n",
    "os.system('xmain_dipoleF3')\n",
    "pData0 = impact.readParticleData(1001,ke,mass,freq)\n",
    "pData2 = impact.readParticleData(1003,ke,mass,freq)\n",
    "print(pData0[:,:6]-pData2[:,:6])"
   ]
  },
  {
   "cell_type": "markdown",
   "metadata": {},
   "source": [
    "### 4.2 FINT != 0, e1,e2!=0"
   ]
  },
  {
   "cell_type": "code",
   "execution_count": 20,
   "metadata": {},
   "outputs": [
    {
     "data": {
      "text/plain": [
       "0"
      ]
     },
     "execution_count": 20,
     "metadata": {},
     "output_type": "execute_result"
    }
   ],
   "source": [
    "elemF = copy(lattice0[i])\n",
    "elemF.fringe_field_integration = 10.0\n",
    "elemF.entrance_angle=0.05\n",
    "elemF.exit_angle=0.05\n",
    "\n",
    "elemB = copy(elemF)\n",
    "elemB.length = -elemF.length\n",
    "elemB.bending_angle = -elemF.bending_angle\n",
    "elemB.fringe_field_integration = -elemF.fringe_field_integration\n",
    "elemB.entrance_angle = -elemF.exit_angle\n",
    "elemB.exit_angle     = -elemF.entrance_angle\n",
    "\n",
    "lattice[2] = elemF\n",
    "lattice[4] = elemB\n",
    "\n",
    "impact.writeInputFile(beam,lattice);\n",
    "impact.run()"
   ]
  },
  {
   "cell_type": "code",
   "execution_count": 21,
   "metadata": {},
   "outputs": [
    {
     "name": "stdout",
     "output_type": "stream",
     "text": [
      "[[-1.735e-17  7.589e-19  2.168e-19 -3.253e-19  7.303e-15  0.000e+00]\n",
      " [-1.735e-17 -9.378e-18 -5.204e-18  1.225e-17  6.189e-15  0.000e+00]\n",
      " [ 1.214e-17  6.722e-18  3.469e-18 -1.274e-17 -4.940e-15  0.000e+00]\n",
      " [ 2.949e-17  1.626e-17  0.000e+00  2.819e-18 -7.078e-15  0.000e+00]\n",
      " [-8.674e-18 -8.240e-18  0.000e+00  0.000e+00  2.501e-15  0.000e+00]\n",
      " [-8.674e-18 -1.615e-17  5.421e-20 -1.301e-18  3.664e-15  0.000e+00]\n",
      " [-6.072e-18 -1.301e-18  3.469e-18 -3.849e-18  1.263e-15  0.000e+00]\n",
      " [ 4.770e-18  2.602e-18  0.000e+00  3.253e-19 -1.138e-15  0.000e+00]\n",
      " [-1.388e-17 -1.149e-17  0.000e+00  0.000e+00  3.664e-15  0.000e+00]\n",
      " [ 2.255e-17  5.421e-18  0.000e+00 -2.439e-18 -3.997e-15  0.000e+00]]\n"
     ]
    }
   ],
   "source": [
    "pData0 = impact.readParticleData(1001,ke,mass,freq)\n",
    "pData1 = impact.readParticleData(1002,ke,mass,freq)\n",
    "pData2 = impact.readParticleData(1003,ke,mass,freq)\n",
    "print(pData0[:,:6]-pData2[:,:6])"
   ]
  },
  {
   "cell_type": "markdown",
   "metadata": {},
   "source": [
    "# 5. Nonlinear Insert"
   ]
  },
  {
   "cell_type": "code",
   "execution_count": 22,
   "metadata": {},
   "outputs": [
    {
     "data": {
      "text/plain": [
       "\n",
       "             length: 1.8 [m]\n",
       "           n_sckick: 96 [1]\n",
       "              n_map: 5 [1]\n",
       "         strength_t: 0.4\n",
       " transverse_scale_c: 0.01\n",
       "        pipe_radius: 10.0 [m]\n",
       "       tune_advance: 0.3034496449165134\n",
       "               type: 'nonlinear_insert'"
      ]
     },
     "execution_count": 22,
     "metadata": {},
     "output_type": "execute_result"
    }
   ],
   "source": [
    "for i in range(len(lattice0)):\n",
    "    if lattice0[i].type == 'nonlinear_insert':\n",
    "        break\n",
    "lattice0[i]"
   ]
  },
  {
   "cell_type": "code",
   "execution_count": 23,
   "metadata": {},
   "outputs": [
    {
     "data": {
      "text/plain": [
       "0"
      ]
     },
     "execution_count": 23,
     "metadata": {},
     "output_type": "execute_result"
    }
   ],
   "source": [
    "elemF = lattice0[i]\n",
    "\n",
    "elemB = copy(elemF)\n",
    "elemB.length =-elemF.length\n",
    "\n",
    "lattice[2] = elemF\n",
    "lattice[4] = elemB\n",
    "\n",
    "impact.writeInputFile(beam,lattice);\n",
    "impact.run()"
   ]
  },
  {
   "cell_type": "code",
   "execution_count": 24,
   "metadata": {
    "scrolled": true
   },
   "outputs": [
    {
     "name": "stdout",
     "output_type": "stream",
     "text": [
      "[[ 3.123e-17 -1.626e-18  1.518e-18 -1.735e-18 -8.327e-17  0.000e+00]\n",
      " [ 1.735e-17 -2.223e-18  1.561e-17  6.180e-18 -2.220e-16  0.000e+00]\n",
      " [-2.082e-17 -1.670e-17  2.602e-17  1.054e-17  4.441e-16  0.000e+00]\n",
      " [-2.082e-17  1.149e-17 -1.735e-18  4.337e-19  3.053e-16 -1.137e-13]\n",
      " [ 6.939e-17 -1.327e-16 -7.481e-17  6.787e-17  1.284e-16  0.000e+00]\n",
      " [ 2.446e-16 -4.627e-15 -5.398e-16  2.115e-14  4.163e-16  0.000e+00]\n",
      " [-4.337e-18 -1.301e-18 -5.204e-18  2.467e-18 -5.551e-17  0.000e+00]\n",
      " [-9.758e-18  1.084e-18 -1.821e-17  8.890e-18  5.690e-16  0.000e+00]\n",
      " [ 0.000e+00  3.144e-18 -5.204e-18  2.331e-18  2.776e-16  0.000e+00]\n",
      " [ 0.000e+00  1.106e-17 -1.735e-17  1.409e-18 -1.110e-16  0.000e+00]]\n"
     ]
    }
   ],
   "source": [
    "pData0 = impact.readParticleData(1001,ke,mass,freq)\n",
    "pData1 = impact.readParticleData(1002,ke,mass,freq)\n",
    "pData2 = impact.readParticleData(1003,ke,mass,freq)\n",
    "print(pData0[:,:6]-pData2[:,:6])"
   ]
  },
  {
   "cell_type": "markdown",
   "metadata": {},
   "source": [
    "# 6. Linear matrix map (toy model compoenent)"
   ]
  },
  {
   "cell_type": "code",
   "execution_count": 25,
   "metadata": {},
   "outputs": [
    {
     "data": {
      "text/plain": [
       "0"
      ]
     },
     "execution_count": 25,
     "metadata": {},
     "output_type": "execute_result"
    }
   ],
   "source": [
    "elemF = impact.getElem('linear_matrix_map')\n",
    "elemF.nonlinear_insert_length = 1.8\n",
    "elemF.nonlinear_insert_tuneAdvance = 0.3034496449165134\n",
    "elemF.tune_advance = 0.22\n",
    "\n",
    "elemB = copy(elemF)\n",
    "elemB.tune_advance =-elemF.tune_advance\n",
    "elemB.nonlinear_insert_tuneAdvance =-elemF.nonlinear_insert_tuneAdvance\n",
    "elemB.nonlinear_insert_length =-elemF.nonlinear_insert_length\n",
    "\n",
    "lattice[2] = elemF\n",
    "lattice[4] = elemB\n",
    "\n",
    "impact.writeInputFile(beam,lattice);\n",
    "impact.run()"
   ]
  },
  {
   "cell_type": "code",
   "execution_count": 26,
   "metadata": {
    "scrolled": false
   },
   "outputs": [
    {
     "name": "stdout",
     "output_type": "stream",
     "text": [
      "[[ 0.000e+00 -9.758e-19  0.000e+00  0.000e+00  0.000e+00  0.000e+00]\n",
      " [ 0.000e+00  5.421e-19  0.000e+00  3.253e-19  0.000e+00  0.000e+00]\n",
      " [ 0.000e+00  0.000e+00  0.000e+00 -8.132e-19  0.000e+00  0.000e+00]\n",
      " [ 0.000e+00 -8.674e-19  0.000e+00 -2.168e-19  0.000e+00  0.000e+00]\n",
      " [ 0.000e+00  0.000e+00  0.000e+00 -2.168e-19  0.000e+00  0.000e+00]\n",
      " [ 0.000e+00  2.711e-19  0.000e+00  0.000e+00  0.000e+00  0.000e+00]\n",
      " [ 0.000e+00  0.000e+00  0.000e+00 -8.403e-19  0.000e+00  0.000e+00]\n",
      " [ 0.000e+00  0.000e+00  0.000e+00  3.253e-19  0.000e+00  0.000e+00]\n",
      " [ 0.000e+00  1.518e-18  0.000e+00  0.000e+00  0.000e+00  0.000e+00]\n",
      " [ 0.000e+00  0.000e+00  0.000e+00  4.337e-19  0.000e+00  0.000e+00]]\n"
     ]
    }
   ],
   "source": [
    "pData0 = impact.readParticleData(1001,ke,mass,freq)\n",
    "pData1 = impact.readParticleData(1002,ke,mass,freq)\n",
    "pData2 = impact.readParticleData(1003,ke,mass,freq)\n",
    "print(pData0[:,:6]-pData2[:,:6])"
   ]
  },
  {
   "cell_type": "code",
   "execution_count": null,
   "metadata": {},
   "outputs": [],
   "source": []
  },
  {
   "cell_type": "markdown",
   "metadata": {},
   "source": [
    "# 7. ToyModel"
   ]
  },
  {
   "cell_type": "code",
   "execution_count": 27,
   "metadata": {},
   "outputs": [],
   "source": [
    "elemF = impact.getElem('nonlinear_insert')\n",
    "elemF.tune_advance = 0.3034496449165134\n",
    "elemF.length = 1.8\n",
    "elemF.n_sckick = 100\n",
    "elemF.n_map = 10\n",
    "elemF.strength_t = 0.4\n",
    "elemF.transverse_scale_c = 0.01\n",
    "\n",
    "elemB = copy(elemF)\n",
    "elemB.length =-elemF.length\n",
    "\n",
    "lattice[2] = elemF\n",
    "lattice[4] = elemB"
   ]
  },
  {
   "cell_type": "markdown",
   "metadata": {},
   "source": [
    "### tune advance error = 0"
   ]
  },
  {
   "cell_type": "code",
   "execution_count": 28,
   "metadata": {},
   "outputs": [],
   "source": [
    "elemF1 = impact.getElem('linear_matrix_map')\n",
    "elemF1.nonlinear_insert_length = 1.8\n",
    "elemF1.nonlinear_insert_tuneAdvance = 0.3034496449165134\n",
    "elemF1.tune_advance_x = 0.05\n",
    "elemF1.tune_advance_y = 0.02\n",
    "\n",
    "elemB1 = copy(elemF1)\n",
    "elemB1.tune_advance_x =-elemB1.tune_advance_x\n",
    "elemB1.tune_advance_y =-elemB1.tune_advance_y\n",
    "elemB1.nonlinear_insert_tuneAdvance =-elemB1.nonlinear_insert_tuneAdvance\n",
    "elemB1.nonlinear_insert_length =-elemB1.nonlinear_insert_length\n",
    "\n",
    "lattice.insert(3,elemF1)\n",
    "lattice.insert(5,elemB1)"
   ]
  },
  {
   "cell_type": "code",
   "execution_count": 29,
   "metadata": {},
   "outputs": [
    {
     "name": "stdout",
     "output_type": "stream",
     "text": [
      "loop\n",
      "write_raw_ptcl\n",
      "nonlinear_insert\n",
      "linear_matrix_map\n",
      "write_raw_ptcl\n",
      "linear_matrix_map\n",
      "nonlinear_insert\n",
      "write_raw_ptcl\n"
     ]
    }
   ],
   "source": [
    "for i in range(len(lattice)):\n",
    "    print(lattice[i].type)"
   ]
  },
  {
   "cell_type": "code",
   "execution_count": 30,
   "metadata": {},
   "outputs": [
    {
     "data": {
      "text/plain": [
       "0"
      ]
     },
     "execution_count": 30,
     "metadata": {},
     "output_type": "execute_result"
    }
   ],
   "source": [
    "impact.writeInputFile(beam,lattice);\n",
    "impact.run()"
   ]
  },
  {
   "cell_type": "code",
   "execution_count": 31,
   "metadata": {
    "scrolled": true
   },
   "outputs": [
    {
     "name": "stdout",
     "output_type": "stream",
     "text": [
      "[[ 1.388e-17  1.225e-17  3.469e-18 -8.999e-18  7.286e-17  0.000e+00]\n",
      " [ 0.000e+00  1.193e-18 -3.296e-17  8.674e-18  3.886e-16  0.000e+00]\n",
      " [ 8.674e-17 -1.128e-17 -6.939e-18 -1.892e-17  4.441e-16  0.000e+00]\n",
      " [-5.725e-17  3.036e-17 -3.990e-17  2.776e-17 -1.388e-16 -1.137e-13]\n",
      " [ 8.066e-17 -1.596e-16 -9.519e-17  9.996e-17  1.978e-16  0.000e+00]\n",
      " [ 3.365e-16 -6.349e-15 -7.578e-16  2.973e-14  1.388e-15  0.000e+00]\n",
      " [-2.689e-17  2.342e-17  1.735e-17 -1.626e-18  0.000e+00  0.000e+00]\n",
      " [-3.036e-18  8.240e-18 -2.602e-18  2.559e-17  9.714e-17  0.000e+00]\n",
      " [-1.388e-17  5.421e-19  3.469e-18 -1.789e-18 -3.331e-16  0.000e+00]\n",
      " [ 6.592e-17  9.758e-18  3.730e-17 -4.424e-17 -3.331e-16  0.000e+00]]\n"
     ]
    }
   ],
   "source": [
    "pData0 = impact.readParticleData(1001,ke,mass,freq)\n",
    "pData1 = impact.readParticleData(1002,ke,mass,freq)\n",
    "pData2 = impact.readParticleData(1003,ke,mass,freq)\n",
    "print(pData0[:,:6]-pData2[:,:6])"
   ]
  },
  {
   "cell_type": "code",
   "execution_count": null,
   "metadata": {},
   "outputs": [],
   "source": []
  }
 ],
 "metadata": {
  "kernelspec": {
   "display_name": "Python 3",
   "language": "python",
   "name": "python3"
  },
  "language_info": {
   "codemirror_mode": {
    "name": "ipython",
    "version": 3
   },
   "file_extension": ".py",
   "mimetype": "text/x-python",
   "name": "python",
   "nbconvert_exporter": "python",
   "pygments_lexer": "ipython3",
   "version": "3.6.5"
  }
 },
 "nbformat": 4,
 "nbformat_minor": 2
}
