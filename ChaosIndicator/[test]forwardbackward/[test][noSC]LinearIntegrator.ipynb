{
 "cells": [
  {
   "cell_type": "code",
   "execution_count": 1,
   "metadata": {},
   "outputs": [],
   "source": [
    "import numpy as np\n",
    "import pImpactR as impact\n",
    "from copy import deepcopy as copy\n",
    "import os\n",
    "input_fname = 'test_IOTA.in'\n",
    "np.set_printoptions(precision=3)"
   ]
  },
  {
   "cell_type": "markdown",
   "metadata": {},
   "source": [
    "# Prepare Beam and Lattice"
   ]
  },
  {
   "cell_type": "code",
   "execution_count": 2,
   "metadata": {
    "scrolled": true
   },
   "outputs": [
    {
     "name": "stdout",
     "output_type": "stream",
     "text": [
      "reading ImpactZ input file (\u001b[92mtest_IOTA.in\u001b[0m)\n",
      "  : mpi task info .............................done\n",
      "  : simulation control parameters .............done\n",
      "  : space charge field solver, mesh info ......done\n",
      "  : dist-type,restart,subcycle,#of state ......done\n",
      "  : Multiple Charge State info ................done\n",
      "  : particle distribution info ................done\n",
      "  : beam reference orbit info .................done\n",
      "  : converting impact dist to twiss param......done\n",
      "  : lattice info ..............................done\n"
     ]
    }
   ],
   "source": [
    "beam, lattice0 = impact.readInputFile(input_fname)"
   ]
  },
  {
   "cell_type": "code",
   "execution_count": 3,
   "metadata": {},
   "outputs": [],
   "source": [
    "beam.nCore_y=1\n",
    "beam.nCore_z=1\n",
    "beam.n_particles=10\n",
    "beam.current=0.0\n",
    "dist = beam.distribution\n",
    "dist.distribution_type = 'Waterbag'\n",
    "lattice = [impact.getElem('loop'),\n",
    "           impact.getElem('write_raw_ptcl'),\n",
    "           0,\n",
    "           impact.getElem('write_raw_ptcl'),\n",
    "           0,\n",
    "           impact.getElem('write_raw_ptcl')]\n",
    "lattice[0].nturn = 1\n",
    "lattice[1].file_id = 1001\n",
    "lattice[3].file_id = 1002\n",
    "lattice[5].file_id = 1003\n",
    "\n",
    "\n",
    "ke = beam.kinetic_energy\n",
    "mass = beam.mass\n",
    "freq = beam.frequency"
   ]
  },
  {
   "cell_type": "code",
   "execution_count": 4,
   "metadata": {},
   "outputs": [],
   "source": [
    "dist.emitx = dist.emitx\n",
    "dist.emity = dist.emity"
   ]
  },
  {
   "cell_type": "markdown",
   "metadata": {},
   "source": [
    "# 1. Drift"
   ]
  },
  {
   "cell_type": "code",
   "execution_count": 5,
   "metadata": {},
   "outputs": [
    {
     "name": "stdout",
     "output_type": "stream",
     "text": [
      "input error <- sum(beam.multi_charge.n_particles) not qual to beam.n_particles\n",
      "  ... enforcing  beam.multi_charge.n_particles[0] to beam.n_particles\n",
      "input error <- beam.multi_charge.current[0] not qual to beam.current\n",
      "  ... enforcing  beam.multi_charge.current[0] to beam.current\n"
     ]
    },
    {
     "data": {
      "text/plain": [
       "0"
      ]
     },
     "execution_count": 5,
     "metadata": {},
     "output_type": "execute_result"
    }
   ],
   "source": [
    "elemF = impact.getElem('drift')\n",
    "elemF.length = 1.1\n",
    "elemF.n_sckick = 20\n",
    "elemF.n_map = 2\n",
    "\n",
    "elemB = copy(elemF)\n",
    "elemB.length =-elemF.length\n",
    "\n",
    "lattice[2] = elemF\n",
    "lattice[4] = elemB\n",
    "\n",
    "impact.writeInputFile(beam,lattice);\n",
    "impact.run()"
   ]
  },
  {
   "cell_type": "code",
   "execution_count": 6,
   "metadata": {
    "scrolled": false
   },
   "outputs": [
    {
     "name": "stdout",
     "output_type": "stream",
     "text": [
      "[[ 0.000e+00  0.000e+00  0.000e+00  0.000e+00  0.000e+00  0.000e+00]\n",
      " [ 0.000e+00  0.000e+00  0.000e+00  0.000e+00  0.000e+00  0.000e+00]\n",
      " [ 0.000e+00  0.000e+00  0.000e+00  0.000e+00  0.000e+00  0.000e+00]\n",
      " [ 0.000e+00  0.000e+00  0.000e+00  0.000e+00  0.000e+00  0.000e+00]\n",
      " [ 1.084e-19  0.000e+00  0.000e+00  0.000e+00  0.000e+00  0.000e+00]\n",
      " [ 0.000e+00  0.000e+00  6.437e-20  0.000e+00  0.000e+00  0.000e+00]\n",
      " [ 0.000e+00  0.000e+00  0.000e+00  0.000e+00  0.000e+00  0.000e+00]\n",
      " [-1.626e-19  0.000e+00  0.000e+00  0.000e+00  0.000e+00  0.000e+00]\n",
      " [ 0.000e+00  0.000e+00  0.000e+00  0.000e+00  0.000e+00  0.000e+00]\n",
      " [ 0.000e+00  0.000e+00  0.000e+00  0.000e+00  0.000e+00  0.000e+00]]\n"
     ]
    }
   ],
   "source": [
    "pData0 = impact.readParticleData(1001,ke,mass,freq)\n",
    "pData1 = impact.readParticleData(1002,ke,mass,freq)\n",
    "pData2 = impact.readParticleData(1003,ke,mass,freq)\n",
    "print(pData0[:,:6]-pData2[:,:6])"
   ]
  },
  {
   "cell_type": "markdown",
   "metadata": {},
   "source": [
    "# 2. Quad"
   ]
  },
  {
   "cell_type": "code",
   "execution_count": 7,
   "metadata": {},
   "outputs": [
    {
     "data": {
      "text/plain": [
       "0"
      ]
     },
     "execution_count": 7,
     "metadata": {},
     "output_type": "execute_result"
    }
   ],
   "source": [
    "elemF = impact.getElem('quad')\n",
    "elemF.length = 0.02\n",
    "elemF.n_sckick = 20\n",
    "elemF.n_map = 1\n",
    "elemF.B1 = 15.0\n",
    "\n",
    "elemB = copy(elemF)\n",
    "elemB.length =-elemF.length\n",
    "\n",
    "lattice[2] = elemF\n",
    "lattice[4] = elemB\n",
    "\n",
    "impact.writeInputFile(beam,lattice);\n",
    "impact.run()"
   ]
  },
  {
   "cell_type": "code",
   "execution_count": 8,
   "metadata": {
    "scrolled": true
   },
   "outputs": [
    {
     "name": "stdout",
     "output_type": "stream",
     "text": [
      "[[ 0.000e+00 -1.735e-18 -6.505e-19  2.385e-18  0.000e+00  0.000e+00]\n",
      " [ 1.735e-18  0.000e+00  6.505e-18 -5.638e-18  0.000e+00  0.000e+00]\n",
      " [ 1.735e-18  3.795e-19  6.505e-18 -3.903e-18  0.000e+00  0.000e+00]\n",
      " [ 1.735e-18 -1.301e-18 -3.686e-18  3.903e-18  0.000e+00  0.000e+00]\n",
      " [ 8.674e-19 -6.505e-19 -4.879e-19  4.770e-18  0.000e+00  0.000e+00]\n",
      " [ 0.000e+00 -8.674e-19  3.388e-20 -3.253e-18  0.000e+00  0.000e+00]\n",
      " [ 2.168e-19  1.301e-18  3.469e-18 -4.120e-18  0.000e+00  0.000e+00]\n",
      " [ 0.000e+00 -6.505e-19  2.385e-18 -4.337e-19  0.000e+00  0.000e+00]\n",
      " [ 0.000e+00  0.000e+00 -7.806e-18  3.036e-18  0.000e+00  0.000e+00]\n",
      " [ 1.301e-18  4.337e-18 -4.337e-18  2.819e-18  0.000e+00  0.000e+00]]\n"
     ]
    }
   ],
   "source": [
    "pData0 = impact.readParticleData(1001,ke,mass,freq)\n",
    "pData1 = impact.readParticleData(1002,ke,mass,freq)\n",
    "pData2 = impact.readParticleData(1003,ke,mass,freq)\n",
    "print(pData0[:,:6]-pData2[:,:6])"
   ]
  },
  {
   "cell_type": "markdown",
   "metadata": {},
   "source": [
    "# 3. Sextupole"
   ]
  },
  {
   "cell_type": "code",
   "execution_count": 9,
   "metadata": {},
   "outputs": [
    {
     "data": {
      "text/plain": [
       "\n",
       " KL_dipole: 0.0\n",
       "   KL_quad: 0.0\n",
       "   KL_sext: 0.15\n",
       "    KL_oct: 0.0\n",
       "   KL_deca: 0.0\n",
       " KL_dodeca: 0.0\n",
       "      type: 'multipole_thin'"
      ]
     },
     "execution_count": 9,
     "metadata": {},
     "output_type": "execute_result"
    }
   ],
   "source": [
    "for i in range(len(lattice0)):\n",
    "    if lattice0[i].type == 'multipole_thin':\n",
    "        break\n",
    "lattice0[i]"
   ]
  },
  {
   "cell_type": "code",
   "execution_count": 10,
   "metadata": {},
   "outputs": [
    {
     "data": {
      "text/plain": [
       "0"
      ]
     },
     "execution_count": 10,
     "metadata": {},
     "output_type": "execute_result"
    }
   ],
   "source": [
    "elemF = lattice0[i]\n",
    "\n",
    "elemB = copy(elemF)\n",
    "elemF.KL_sext = 10.0\n",
    "elemB.KL_sext =-elemF.KL_sext\n",
    "\n",
    "lattice[2] = elemF\n",
    "lattice[4] = elemB\n",
    "\n",
    "impact.writeInputFile(beam,lattice);\n",
    "impact.run()"
   ]
  },
  {
   "cell_type": "code",
   "execution_count": 11,
   "metadata": {
    "scrolled": true
   },
   "outputs": [
    {
     "name": "stdout",
     "output_type": "stream",
     "text": [
      "[[ 0.000e+00 -9.800e-05  0.000e+00  1.060e-05  0.000e+00  0.000e+00]\n",
      " [ 0.000e+00 -7.642e-06  0.000e+00  6.272e-05  0.000e+00  0.000e+00]\n",
      " [ 0.000e+00  1.752e-06  0.000e+00 -2.929e-05  0.000e+00  0.000e+00]\n",
      " [ 0.000e+00 -5.593e-06  0.000e+00 -2.780e-05  0.000e+00  0.000e+00]\n",
      " [ 0.000e+00 -2.270e-06  0.000e+00 -1.888e-06  0.000e+00  0.000e+00]\n",
      " [ 0.000e+00 -2.490e-05  0.000e+00 -4.161e-07  0.000e+00  0.000e+00]\n",
      " [ 0.000e+00  2.032e-05  0.000e+00 -1.029e-05  0.000e+00  0.000e+00]\n",
      " [ 0.000e+00  4.868e-06  0.000e+00 -3.036e-06  0.000e+00  0.000e+00]\n",
      " [ 0.000e+00 -2.622e-05  0.000e+00 -4.963e-05  0.000e+00  0.000e+00]\n",
      " [ 0.000e+00 -1.328e-05  0.000e+00 -2.701e-05  0.000e+00  0.000e+00]]\n"
     ]
    }
   ],
   "source": [
    "pData0 = impact.readParticleData(1001,ke,mass,freq)\n",
    "pData1 = impact.readParticleData(1002,ke,mass,freq)\n",
    "pData2 = impact.readParticleData(1003,ke,mass,freq)\n",
    "print(pData1[:,:6]-pData0[:,:6])"
   ]
  },
  {
   "cell_type": "code",
   "execution_count": 12,
   "metadata": {},
   "outputs": [
    {
     "name": "stdout",
     "output_type": "stream",
     "text": [
      "[[0. 0. 0. 0. 0. 0.]\n",
      " [0. 0. 0. 0. 0. 0.]\n",
      " [0. 0. 0. 0. 0. 0.]\n",
      " [0. 0. 0. 0. 0. 0.]\n",
      " [0. 0. 0. 0. 0. 0.]\n",
      " [0. 0. 0. 0. 0. 0.]\n",
      " [0. 0. 0. 0. 0. 0.]\n",
      " [0. 0. 0. 0. 0. 0.]\n",
      " [0. 0. 0. 0. 0. 0.]\n",
      " [0. 0. 0. 0. 0. 0.]]\n"
     ]
    }
   ],
   "source": [
    "print(pData2[:,:6]-pData0[:,:6])"
   ]
  },
  {
   "cell_type": "markdown",
   "metadata": {},
   "source": [
    "# 4. Dipole"
   ]
  },
  {
   "cell_type": "code",
   "execution_count": 13,
   "metadata": {
    "scrolled": false
   },
   "outputs": [
    {
     "data": {
      "text/plain": [
       "\n",
       "                   length: 0.7330382858 [m]\n",
       "                 n_sckick: 10 [1]\n",
       "                    n_map: 20 [1]\n",
       "            bending_angle: 1.047197551 [rad]\n",
       "                       k1: 0.0\n",
       "                  file_id: 350\n",
       "              pipe_radius: 0.058 [m]\n",
       "           entrance_angle: 0.0 [rad]\n",
       "               exit_angle: 0.0 [rad]\n",
       "       entrance_curvature: 0.0 [rad]\n",
       "           exit_curvature: 0.0 [rad]\n",
       " fringe_field_integration: 0.5 [1]\n",
       "                     type: 'dipole'"
      ]
     },
     "execution_count": 13,
     "metadata": {},
     "output_type": "execute_result"
    }
   ],
   "source": [
    "for i in range(len(lattice0)):\n",
    "    if lattice0[i].type == 'dipole':\n",
    "        break\n",
    "lattice0[i]"
   ]
  },
  {
   "cell_type": "markdown",
   "metadata": {},
   "source": [
    "### 4.1 without fringe field"
   ]
  },
  {
   "cell_type": "markdown",
   "metadata": {},
   "source": [
    "##### negative length "
   ]
  },
  {
   "cell_type": "code",
   "execution_count": 14,
   "metadata": {},
   "outputs": [
    {
     "data": {
      "text/plain": [
       "0"
      ]
     },
     "execution_count": 14,
     "metadata": {},
     "output_type": "execute_result"
    }
   ],
   "source": [
    "elemF = copy(lattice0[i])\n",
    "elemF.fringe_field_integration = 0.0\n",
    "\n",
    "elemB = copy(elemF)\n",
    "elemB.length = -elemF.length\n",
    "\n",
    "lattice[2] = elemF\n",
    "lattice[4] = elemB\n",
    "\n",
    "impact.writeInputFile(beam,lattice);\n",
    "impact.run()"
   ]
  },
  {
   "cell_type": "code",
   "execution_count": 15,
   "metadata": {
    "scrolled": true
   },
   "outputs": [
    {
     "name": "stdout",
     "output_type": "stream",
     "text": [
      "[[ 2.892e-13 -7.155e-13  0.000e+00  0.000e+00  2.397e+00  0.000e+00]\n",
      " [-1.096e-12  2.713e-12  0.000e+00  0.000e+00 -1.465e+00  0.000e+00]\n",
      " [-1.396e-12  3.455e-12  0.000e+00  0.000e+00  1.546e+00  0.000e+00]\n",
      " [ 1.058e-12 -2.619e-12  0.000e+00  0.000e+00 -9.348e-01  0.000e+00]\n",
      " [ 1.994e-12 -4.933e-12  1.626e-19  0.000e+00 -1.084e+00  0.000e+00]\n",
      " [ 3.152e-13 -7.798e-13 -1.423e-19  0.000e+00  1.467e+00  0.000e+00]\n",
      " [ 9.008e-13 -2.229e-12  0.000e+00  0.000e+00  1.056e+00  0.000e+00]\n",
      " [-1.160e-12  2.871e-12  0.000e+00  0.000e+00  6.892e-01  0.000e+00]\n",
      " [ 1.907e-12 -4.718e-12  0.000e+00  0.000e+00 -1.816e+00  0.000e+00]\n",
      " [-9.624e-13  2.381e-12  0.000e+00  0.000e+00 -7.756e-01  0.000e+00]]\n"
     ]
    }
   ],
   "source": [
    "pData0 = impact.readParticleData(1001,ke,mass,freq)\n",
    "pData1 = impact.readParticleData(1002,ke,mass,freq)\n",
    "pData2 = impact.readParticleData(1003,ke,mass,freq)\n",
    "print(pData0[:,:6]-pData2[:,:6])"
   ]
  },
  {
   "cell_type": "markdown",
   "metadata": {},
   "source": [
    "### negative length and bending angle"
   ]
  },
  {
   "cell_type": "code",
   "execution_count": 16,
   "metadata": {},
   "outputs": [
    {
     "data": {
      "text/plain": [
       "0"
      ]
     },
     "execution_count": 16,
     "metadata": {},
     "output_type": "execute_result"
    }
   ],
   "source": [
    "elemB.bending_angle = -elemF.bending_angle\n",
    "impact.writeInputFile(beam,lattice);\n",
    "impact.run()"
   ]
  },
  {
   "cell_type": "code",
   "execution_count": 17,
   "metadata": {
    "scrolled": true
   },
   "outputs": [
    {
     "name": "stdout",
     "output_type": "stream",
     "text": [
      "[[-9.541e-18  1.735e-18  0.000e+00  0.000e+00  0.000e+00  0.000e+00]\n",
      " [ 1.735e-18 -3.903e-18  0.000e+00  0.000e+00  0.000e+00  0.000e+00]\n",
      " [-1.735e-18 -8.132e-19  0.000e+00  0.000e+00  0.000e+00  0.000e+00]\n",
      " [ 1.735e-18 -1.301e-18  0.000e+00  0.000e+00  0.000e+00  0.000e+00]\n",
      " [ 1.843e-18  2.819e-18  1.626e-19  0.000e+00  0.000e+00  0.000e+00]\n",
      " [-1.735e-18  3.036e-18 -1.423e-19  0.000e+00  0.000e+00  0.000e+00]\n",
      " [-2.494e-18 -4.120e-18  0.000e+00  0.000e+00  0.000e+00  0.000e+00]\n",
      " [-9.758e-19 -2.168e-18  0.000e+00  0.000e+00  0.000e+00  0.000e+00]\n",
      " [-1.735e-18 -1.518e-18  0.000e+00  0.000e+00  5.684e-14  0.000e+00]\n",
      " [ 1.301e-18  0.000e+00  0.000e+00  0.000e+00  0.000e+00  0.000e+00]]\n"
     ]
    }
   ],
   "source": [
    "pData0 = impact.readParticleData(1001,ke,mass,freq)\n",
    "pData1 = impact.readParticleData(1002,ke,mass,freq)\n",
    "pData2 = impact.readParticleData(1003,ke,mass,freq)\n",
    "print(pData0[:,:6]-pData2[:,:6])"
   ]
  },
  {
   "cell_type": "markdown",
   "metadata": {},
   "source": [
    "### 4.2 with fringe field"
   ]
  },
  {
   "cell_type": "code",
   "execution_count": 18,
   "metadata": {},
   "outputs": [
    {
     "data": {
      "text/plain": [
       "0"
      ]
     },
     "execution_count": 18,
     "metadata": {},
     "output_type": "execute_result"
    }
   ],
   "source": [
    "elemF = copy(lattice0[i])\n",
    "\n",
    "elemB = copy(elemF)\n",
    "elemB.length = -elemF.length\n",
    "\n",
    "lattice[2] = elemF\n",
    "lattice[4] = elemB\n",
    "\n",
    "impact.writeInputFile(beam,lattice);\n",
    "impact.run()"
   ]
  },
  {
   "cell_type": "code",
   "execution_count": 19,
   "metadata": {},
   "outputs": [
    {
     "name": "stdout",
     "output_type": "stream",
     "text": [
      "[[ 2.892e-13 -7.155e-13  3.494e-05 -1.728e-05  2.397e+00  0.000e+00]\n",
      " [-1.096e-12  2.713e-12  7.055e-05 -3.712e-04 -1.465e+00  0.000e+00]\n",
      " [-1.396e-12  3.455e-12  6.605e-05 -2.950e-04  1.546e+00  0.000e+00]\n",
      " [ 1.058e-12 -2.619e-12 -4.038e-07  1.792e-04 -9.348e-01  0.000e+00]\n",
      " [ 1.994e-12 -4.933e-12  6.313e-05 -5.145e-05 -1.084e+00  0.000e+00]\n",
      " [ 3.152e-13 -7.798e-13 -8.114e-05  1.037e-04  1.467e+00  0.000e+00]\n",
      " [ 9.008e-13 -2.229e-12  7.743e-05 -3.469e-04  1.056e+00  0.000e+00]\n",
      " [-1.160e-12  2.871e-12  7.252e-05 -2.166e-04  6.892e-01  0.000e+00]\n",
      " [ 1.907e-12 -4.718e-12 -8.541e-05  3.163e-04 -1.816e+00  0.000e+00]\n",
      " [-9.624e-13  2.381e-12 -3.811e-05  2.033e-04 -7.756e-01  0.000e+00]]\n"
     ]
    }
   ],
   "source": [
    "pData0 = impact.readParticleData(1001,ke,mass,freq)\n",
    "pData1 = impact.readParticleData(1002,ke,mass,freq)\n",
    "pData2 = impact.readParticleData(1003,ke,mass,freq)\n",
    "print(pData0[:,:6]-pData2[:,:6])"
   ]
  },
  {
   "cell_type": "markdown",
   "metadata": {},
   "source": [
    "### negative length, bending angle and FINT"
   ]
  },
  {
   "cell_type": "markdown",
   "metadata": {},
   "source": [
    "###### MaryLie_order = 1"
   ]
  },
  {
   "cell_type": "code",
   "execution_count": 20,
   "metadata": {},
   "outputs": [
    {
     "name": "stdout",
     "output_type": "stream",
     "text": [
      "[[-9.541e-18  1.735e-18  1.084e-19 -5.529e-18  0.000e+00  0.000e+00]\n",
      " [ 1.735e-18 -3.903e-18  6.549e-17 -1.398e-15  0.000e+00  0.000e+00]\n",
      " [-1.735e-18 -8.132e-19 -3.665e-17  7.654e-16  0.000e+00  0.000e+00]\n",
      " [ 1.735e-18 -1.301e-18 -4.901e-17  1.046e-15  0.000e+00  0.000e+00]\n",
      " [ 1.843e-18  2.819e-18 -1.241e-17  2.639e-16  0.000e+00  0.000e+00]\n",
      " [-1.735e-18  3.036e-18  3.659e-19 -8.023e-18  0.000e+00  0.000e+00]\n",
      " [-2.494e-18 -4.120e-18  2.385e-17 -4.723e-16  0.000e+00  0.000e+00]\n",
      " [-9.758e-19 -2.168e-18  2.645e-17 -5.636e-16  0.000e+00  0.000e+00]\n",
      " [-1.735e-18 -1.518e-18 -9.541e-18  2.082e-16  5.684e-14  0.000e+00]\n",
      " [ 1.301e-18  0.000e+00 -1.388e-17  2.982e-16  0.000e+00  0.000e+00]]\n"
     ]
    }
   ],
   "source": [
    "elemB.bending_angle = -elemF.bending_angle\n",
    "elemF.fringe_field_integration = 10000000.0\n",
    "elemB.fringe_field_integration = -elemF.fringe_field_integration\n",
    "impact.writeInputFile(beam,lattice);\n",
    "impact.run()\n",
    "pData0 = impact.readParticleData(1001,ke,mass,freq)\n",
    "pData2 = impact.readParticleData(1003,ke,mass,freq)\n",
    "print(pData0[:,:6]-pData2[:,:6])"
   ]
  },
  {
   "cell_type": "markdown",
   "metadata": {},
   "source": [
    "###### MaryLie_order = 2"
   ]
  },
  {
   "cell_type": "markdown",
   "metadata": {},
   "source": [
    "elemB.bending_angle = -elemF.bending_angle\n",
    "elemF.fringe_field_integration = 10000000.0\n",
    "elemB.fringe_field_integration = -elemF.fringe_field_integration\n",
    "os.system('xmain_dipoleF2')\n",
    "pData0 = impact.readParticleData(1001,ke,mass,freq)\n",
    "pData2 = impact.readParticleData(1003,ke,mass,freq)\n",
    "print(pData0[:,:6]-pData2[:,:6])"
   ]
  },
  {
   "cell_type": "markdown",
   "metadata": {},
   "source": [
    "###### MaryLie_order = 3"
   ]
  },
  {
   "cell_type": "markdown",
   "metadata": {},
   "source": [
    "elemB.bending_angle = -elemF.bending_angle\n",
    "elemF.fringe_field_integration = 10000000.0\n",
    "elemB.fringe_field_integration = -elemF.fringe_field_integration\n",
    "impact.writeInputFile(beam,lattice);\n",
    "os.system('xmain_dipoleF3')\n",
    "pData0 = impact.readParticleData(1001,ke,mass,freq)\n",
    "pData2 = impact.readParticleData(1003,ke,mass,freq)\n",
    "print(pData0[:,:6]-pData2[:,:6])"
   ]
  },
  {
   "cell_type": "markdown",
   "metadata": {},
   "source": [
    "# 5. Nonlinear Insert"
   ]
  },
  {
   "cell_type": "code",
   "execution_count": 21,
   "metadata": {},
   "outputs": [
    {
     "data": {
      "text/plain": [
       "\n",
       "             length: 1.8 [m]\n",
       "           n_sckick: 96 [1]\n",
       "              n_map: 5 [1]\n",
       "         strength_t: 0.4\n",
       " transverse_scale_c: 0.01\n",
       "        pipe_radius: 10.0 [m]\n",
       "       tune_advance: 0.3034496449165134\n",
       "               type: 'nonlinear_insert'"
      ]
     },
     "execution_count": 21,
     "metadata": {},
     "output_type": "execute_result"
    }
   ],
   "source": [
    "for i in range(len(lattice0)):\n",
    "    if lattice0[i].type == 'nonlinear_insert':\n",
    "        break\n",
    "lattice0[i]"
   ]
  },
  {
   "cell_type": "code",
   "execution_count": 22,
   "metadata": {},
   "outputs": [
    {
     "data": {
      "text/plain": [
       "0"
      ]
     },
     "execution_count": 22,
     "metadata": {},
     "output_type": "execute_result"
    }
   ],
   "source": [
    "elemF = lattice0[i]\n",
    "\n",
    "elemB = copy(elemF)\n",
    "elemB.length =-elemF.length\n",
    "\n",
    "lattice[2] = elemF\n",
    "lattice[4] = elemB\n",
    "\n",
    "impact.writeInputFile(beam,lattice);\n",
    "impact.run()"
   ]
  },
  {
   "cell_type": "code",
   "execution_count": 23,
   "metadata": {
    "scrolled": true
   },
   "outputs": [
    {
     "name": "stdout",
     "output_type": "stream",
     "text": [
      "[[-2.949e-17  2.429e-17  2.526e-17 -2.320e-17  1.421e-14  0.000e+00]\n",
      " [ 2.342e-17 -1.778e-17 -4.770e-18  8.240e-18  0.000e+00  0.000e+00]\n",
      " [ 3.253e-18  1.420e-17  4.770e-18  0.000e+00  0.000e+00  0.000e+00]\n",
      " [ 1.952e-17 -5.204e-18  2.624e-17 -2.732e-17  0.000e+00  0.000e+00]\n",
      " [ 3.144e-18 -1.236e-17  5.627e-17 -5.378e-17  0.000e+00  0.000e+00]\n",
      " [-9.541e-18  1.561e-17 -5.462e-17  5.356e-17  0.000e+00  0.000e+00]\n",
      " [ 1.084e-17  9.541e-18  1.778e-17 -4.120e-18 -5.684e-14  0.000e+00]\n",
      " [ 5.096e-18  8.890e-18  3.123e-17 -2.488e-17  0.000e+00  0.000e+00]\n",
      " [ 1.301e-17 -2.060e-17 -2.233e-17  1.258e-17  0.000e+00  0.000e+00]\n",
      " [ 1.691e-17 -1.084e-17 -1.735e-18 -3.036e-18  0.000e+00  0.000e+00]]\n"
     ]
    }
   ],
   "source": [
    "pData0 = impact.readParticleData(1001,ke,mass,freq)\n",
    "pData1 = impact.readParticleData(1002,ke,mass,freq)\n",
    "pData2 = impact.readParticleData(1003,ke,mass,freq)\n",
    "print(pData0[:,:6]-pData2[:,:6])"
   ]
  },
  {
   "cell_type": "markdown",
   "metadata": {},
   "source": [
    "# 6. Linear matrix map (toy model compoenent)"
   ]
  },
  {
   "cell_type": "code",
   "execution_count": 24,
   "metadata": {},
   "outputs": [
    {
     "data": {
      "text/plain": [
       "0"
      ]
     },
     "execution_count": 24,
     "metadata": {},
     "output_type": "execute_result"
    }
   ],
   "source": [
    "elemF = impact.getElem('linear_matrix_map')\n",
    "elemF.nonlinear_insert_length = 1.8\n",
    "elemF.nonlinear_insert_tuneAdvance = 0.3034496449165134\n",
    "elemF.tune_advance = 0.22\n",
    "\n",
    "elemB = copy(elemF)\n",
    "elemB.tune_advance =-elemF.tune_advance\n",
    "elemB.nonlinear_insert_tuneAdvance =-elemF.nonlinear_insert_tuneAdvance\n",
    "elemB.nonlinear_insert_length =-elemF.nonlinear_insert_length\n",
    "\n",
    "lattice[2] = elemF\n",
    "lattice[4] = elemB\n",
    "\n",
    "impact.writeInputFile(beam,lattice);\n",
    "impact.run()"
   ]
  },
  {
   "cell_type": "code",
   "execution_count": 25,
   "metadata": {
    "scrolled": false
   },
   "outputs": [
    {
     "name": "stdout",
     "output_type": "stream",
     "text": [
      "[[ 8.674e-19 -1.735e-18 -8.403e-19 -4.337e-19  0.000e+00  0.000e+00]\n",
      " [ 0.000e+00  1.735e-18 -1.735e-18  0.000e+00  0.000e+00  0.000e+00]\n",
      " [ 1.735e-18  1.084e-19 -1.301e-18  0.000e+00  0.000e+00  0.000e+00]\n",
      " [ 0.000e+00  1.301e-18  6.505e-19  0.000e+00  0.000e+00  0.000e+00]\n",
      " [-3.253e-19 -4.337e-19  2.711e-19 -4.337e-19  0.000e+00  0.000e+00]\n",
      " [ 0.000e+00 -4.337e-19 -3.185e-19  4.337e-19  0.000e+00  0.000e+00]\n",
      " [ 7.589e-19  1.301e-18  0.000e+00  0.000e+00  0.000e+00  0.000e+00]\n",
      " [-1.626e-19  2.168e-19 -2.168e-19  1.626e-19  0.000e+00  0.000e+00]\n",
      " [-1.735e-18  0.000e+00  0.000e+00 -4.337e-19  0.000e+00  0.000e+00]\n",
      " [-1.735e-18  1.301e-18 -6.505e-19 -8.674e-19  0.000e+00  0.000e+00]]\n"
     ]
    }
   ],
   "source": [
    "pData0 = impact.readParticleData(1001,ke,mass,freq)\n",
    "pData1 = impact.readParticleData(1002,ke,mass,freq)\n",
    "pData2 = impact.readParticleData(1003,ke,mass,freq)\n",
    "print(pData0[:,:6]-pData2[:,:6])"
   ]
  },
  {
   "cell_type": "code",
   "execution_count": null,
   "metadata": {},
   "outputs": [],
   "source": []
  },
  {
   "cell_type": "markdown",
   "metadata": {},
   "source": [
    "# 7. ToyModel"
   ]
  },
  {
   "cell_type": "code",
   "execution_count": 26,
   "metadata": {},
   "outputs": [],
   "source": [
    "elemF = impact.getElem('nonlinear_insert')\n",
    "elemF.tune_advance = 0.3034496449165134\n",
    "elemF.length = 1.8\n",
    "elemF.n_sckick = 100\n",
    "elemF.n_map = 10\n",
    "elemF.strength_t = 0.4\n",
    "elemF.transverse_scale_c = 0.01\n",
    "\n",
    "elemB = copy(elemF)\n",
    "elemB.length =-elemF.length\n",
    "\n",
    "lattice[2] = elemF\n",
    "lattice[4] = elemB"
   ]
  },
  {
   "cell_type": "code",
   "execution_count": 27,
   "metadata": {},
   "outputs": [],
   "source": [
    "elemF1 = impact.getElem('linear_matrix_map')\n",
    "elemF1.nonlinear_insert_length = 1.8\n",
    "elemF1.nonlinear_insert_tuneAdvance = 0.3034496449165134\n",
    "elemF1.tune_advance = 0.0\n",
    "\n",
    "elemB1 = copy(elemF1)\n",
    "elemB1.tune_advance =-elemB1.tune_advance\n",
    "elemB1.nonlinear_insert_tuneAdvance =-elemB1.nonlinear_insert_tuneAdvance\n",
    "elemB1.nonlinear_insert_length =-elemB1.nonlinear_insert_length\n",
    "\n",
    "lattice.insert(3,elemF1)\n",
    "lattice.insert(5,elemB1)"
   ]
  },
  {
   "cell_type": "code",
   "execution_count": 28,
   "metadata": {},
   "outputs": [
    {
     "name": "stdout",
     "output_type": "stream",
     "text": [
      "loop\n",
      "write_raw_ptcl\n",
      "nonlinear_insert\n",
      "linear_matrix_map\n",
      "write_raw_ptcl\n",
      "linear_matrix_map\n",
      "nonlinear_insert\n",
      "write_raw_ptcl\n"
     ]
    }
   ],
   "source": [
    "for i in range(len(lattice)):\n",
    "    print(lattice[i].type)"
   ]
  },
  {
   "cell_type": "code",
   "execution_count": 29,
   "metadata": {},
   "outputs": [
    {
     "data": {
      "text/plain": [
       "0"
      ]
     },
     "execution_count": 29,
     "metadata": {},
     "output_type": "execute_result"
    }
   ],
   "source": [
    "impact.writeInputFile(beam,lattice);\n",
    "impact.run()"
   ]
  },
  {
   "cell_type": "code",
   "execution_count": 30,
   "metadata": {
    "scrolled": false
   },
   "outputs": [
    {
     "name": "stdout",
     "output_type": "stream",
     "text": [
      "[[-4.597e-17  4.857e-17  5.931e-17 -6.104e-17  0.000e+00  0.000e+00]\n",
      " [ 2.515e-17 -1.865e-17  0.000e+00  9.541e-18  0.000e+00  0.000e+00]\n",
      " [ 1.735e-18  1.480e-17  1.106e-17 -1.301e-18  0.000e+00  0.000e+00]\n",
      " [ 1.605e-17 -1.800e-17  2.667e-17 -3.426e-17  0.000e+00  0.000e+00]\n",
      " [ 1.843e-18 -1.323e-17  4.467e-17 -4.055e-17  0.000e+00  0.000e+00]\n",
      " [-1.908e-17  2.060e-17 -4.984e-17  4.207e-17  0.000e+00  0.000e+00]\n",
      " [ 9.433e-18  9.541e-18  1.475e-17 -6.722e-18  0.000e+00  0.000e+00]\n",
      " [ 2.060e-18  1.258e-17  3.404e-17 -2.933e-17  0.000e+00  0.000e+00]\n",
      " [ 2.082e-17 -2.450e-17 -2.559e-17  1.583e-17  0.000e+00  0.000e+00]\n",
      " [ 2.038e-17 -1.518e-17  6.505e-19 -5.638e-18  0.000e+00  0.000e+00]]\n"
     ]
    }
   ],
   "source": [
    "pData0 = impact.readParticleData(1001,ke,mass,freq)\n",
    "pData1 = impact.readParticleData(1002,ke,mass,freq)\n",
    "pData2 = impact.readParticleData(1003,ke,mass,freq)\n",
    "print(pData0[:,:6]-pData2[:,:6])"
   ]
  },
  {
   "cell_type": "code",
   "execution_count": null,
   "metadata": {},
   "outputs": [],
   "source": []
  }
 ],
 "metadata": {
  "kernelspec": {
   "display_name": "Python 3",
   "language": "python",
   "name": "python3"
  },
  "language_info": {
   "codemirror_mode": {
    "name": "ipython",
    "version": 3
   },
   "file_extension": ".py",
   "mimetype": "text/x-python",
   "name": "python",
   "nbconvert_exporter": "python",
   "pygments_lexer": "ipython3",
   "version": "3.6.5"
  }
 },
 "nbformat": 4,
 "nbformat_minor": 2
}
