{
 "cells": [
  {
   "cell_type": "markdown",
   "metadata": {},
   "source": [
    "$V(x,y) = \\frac{1}{2}\\left(x^2+y^2\\right) + \\left(x^2y-\\frac{y^3}{3}\\right)$"
   ]
  },
  {
   "cell_type": "code",
   "execution_count": 1,
   "metadata": {},
   "outputs": [],
   "source": [
    "import numpy as np\n",
    "import matplotlib.pyplot as plt\n",
    "ny = 256\n",
    "npy = 256\n",
    "radi2 = 10\n",
    "npt = ny*npy\n",
    "nSample = 1024*4\n",
    "nsteps = 10000\n",
    "dt = 1.0e-5"
   ]
  },
  {
   "cell_type": "code",
   "execution_count": 2,
   "metadata": {},
   "outputs": [],
   "source": [
    "def drift(x,px,y,py,dt):\n",
    "    x = x + px*dt\n",
    "    y = y + py*dt\n",
    "    return x,y\n",
    "\n",
    "def kick(x,px,y,py,dt):\n",
    "    px = px - dt*(x +2*x*y)\n",
    "    py = py - dt*(y +  x*x  -y*y)\n",
    "    return px,py\n",
    "    \n",
    "def oneStep(x,px,y,py,dt):\n",
    "    x,y = drift(x,px,y,py,0.5*dt)\n",
    "    px,py = kick (x,px,y,py,    dt)\n",
    "    x,y = drift(x,px,y,py,0.5*dt)\n",
    "    return x,px,y,py\n",
    "\n",
    "def multiStep(x,px,y,py,dt,nsteps):\n",
    "    x,y = drift(x,px,y,py,0.5*dt)\n",
    "    for i in range(nsteps-1):\n",
    "        px,py = kick (x,px,y,py,dt)\n",
    "        x,y   = drift(x,px,y,py,dt)\n",
    "    px,py = kick (x,px,y,py,dt)\n",
    "    x,y   = drift(x,px,y,py,0.5*dt)\n",
    "    return x,px,y,py\n",
    "    \n",
    "# def checkLost(x,px,y,py):\n",
    "#     ilive = x*x+y*y < radi2\n",
    "#     x = x[ilive]\n",
    "#     y = y[ilive]\n",
    "#     px= px[ilive]\n",
    "#     py= py[ilive]\n",
    "#     return x,px,y,py    "
   ]
  },
  {
   "cell_type": "code",
   "execution_count": 3,
   "metadata": {},
   "outputs": [],
   "source": [
    "def getData(energy):\n",
    "    y = []\n",
    "    py= []\n",
    "    px= []\n",
    "    i=0\n",
    "    for y0 in np.linspace(-0.5,0.8,ny):\n",
    "        for py0 in np.linspace(-0.5,0.5,npy):\n",
    "            px2 = 2*energy - py0*py0 - y0*y0 + 2.0/3.0*y0**3\n",
    "            if px2 >= 0.0:\n",
    "                y.append(y0)\n",
    "                py.append(py0)\n",
    "                px.append(np.sqrt(px2))\n",
    "                \n",
    "    npt = len(y)\n",
    "    print(npt)\n",
    "    x =np.zeros(npt)\n",
    "    y =np.array(y)\n",
    "    px=np.array(px)\n",
    "    py=np.array(py)\n",
    "    ilive = x*x+y*y < radi2\n",
    "    \n",
    "    data = np.zeros([nSample,npt,4])\n",
    "    data[0,:,0] = x[:]\n",
    "    data[0,:,1] = px[:]\n",
    "    data[0,:,2] = y[:]\n",
    "    data[0,:,3] = py[:]\n",
    "    for i in range(1,nSample):\n",
    "        x,px,y,py = multiStep(x,px,y,py,dt,nsteps)\n",
    "        ilive = np.logical_and(ilive,x*x+y*y < radi2)\n",
    "        data[i,:,0] = x\n",
    "        data[i,:,1] = px\n",
    "        data[i,:,2] = y\n",
    "        data[i,:,3] = py\n",
    "    print(np.sum(ilive))\n",
    "    return data[:,ilive,:]"
   ]
  },
  {
   "cell_type": "code",
   "execution_count": null,
   "metadata": {},
   "outputs": [
    {
     "name": "stdout",
     "output_type": "stream",
     "text": [
      "27322\n"
     ]
    }
   ],
   "source": [
    "regular_data = getData(1.0/12.0)\n",
    "chotic_data = getData(1.0/8.0)"
   ]
  },
  {
   "cell_type": "code",
   "execution_count": null,
   "metadata": {},
   "outputs": [],
   "source": [
    "plt.figure(figsize=(10,5))\n",
    "plt.subplot(1,2,1)\n",
    "plt.scatter(regular_data[0,:,2],regular_data[0,:,3])\n",
    "plt.scatter(regular_data[-1,:,2],regular_data[-1,:,3])\n",
    "plt.subplot(1,2,2)\n",
    "plt.scatter(chotic_data[0,:,2],chotic_data[0,:,3])\n",
    "plt.scatter(chotic_data[-1,:,2],chotic_data[-1,:,3])"
   ]
  },
  {
   "cell_type": "code",
   "execution_count": null,
   "metadata": {},
   "outputs": [],
   "source": [
    "plt.figure(figsize=(10,5))\n",
    "plt.subplot(1,2,1)\n",
    "for i in range(64):\n",
    "    plt.plot(regular_data[:,i,0])\n",
    "plt.subplot(1,2,2)\n",
    "for i in range(64):\n",
    "    plt.plot(chotic_data[:,i,0])"
   ]
  },
  {
   "cell_type": "code",
   "execution_count": null,
   "metadata": {},
   "outputs": [],
   "source": []
  }
 ],
 "metadata": {
  "kernelspec": {
   "display_name": "Python 3",
   "language": "python",
   "name": "python3"
  },
  "language_info": {
   "codemirror_mode": {
    "name": "ipython",
    "version": 3
   },
   "file_extension": ".py",
   "mimetype": "text/x-python",
   "name": "python",
   "nbconvert_exporter": "python",
   "pygments_lexer": "ipython3",
   "version": "3.6.5"
  }
 },
 "nbformat": 4,
 "nbformat_minor": 2
}
