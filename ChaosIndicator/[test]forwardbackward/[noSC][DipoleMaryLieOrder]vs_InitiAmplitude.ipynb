{
 "cells": [
  {
   "cell_type": "code",
   "execution_count": 1,
   "metadata": {},
   "outputs": [],
   "source": [
    "import numpy as np\n",
    "import pImpactR as impact\n",
    "from copy import deepcopy as copy\n",
    "import os\n",
    "input_fname = 'test_IOTA.in'\n",
    "np.set_printoptions(precision=3)"
   ]
  },
  {
   "cell_type": "markdown",
   "metadata": {},
   "source": [
    "# Prepare Beam and Lattice"
   ]
  },
  {
   "cell_type": "code",
   "execution_count": 2,
   "metadata": {
    "scrolled": true
   },
   "outputs": [
    {
     "name": "stdout",
     "output_type": "stream",
     "text": [
      "reading ImpactZ input file (\u001b[92mtest_IOTA.in\u001b[0m)\n",
      "  : mpi task info .............................done\n",
      "  : simulation control parameters .............done\n",
      "  : space charge field solver, mesh info ......done\n",
      "  : dist-type,restart,subcycle,#of state ......done\n",
      "  : Multiple Charge State info ................done\n",
      "  : particle distribution info ................done\n",
      "  : beam reference orbit info .................done\n",
      "  : converting impact dist to twiss param......done\n",
      "  : lattice info ..............................done\n"
     ]
    }
   ],
   "source": [
    "beam, lattice0 = impact.readInputFile(input_fname)"
   ]
  },
  {
   "cell_type": "code",
   "execution_count": 3,
   "metadata": {},
   "outputs": [],
   "source": [
    "beam.nCore_y=1\n",
    "beam.nCore_z=1\n",
    "beam.n_particles=3\n",
    "beam.current=0.0\n",
    "dist = beam.distribution\n",
    "dist.distribution_type = 'ReadFile'\n",
    "lattice = [impact.getElem('loop_through_lattice'),\n",
    "           impact.getElem('write_raw_ptcl'),\n",
    "           0,\n",
    "           impact.getElem('write_raw_ptcl'),\n",
    "           0,\n",
    "           impact.getElem('write_raw_ptcl')]\n",
    "lattice[0].nturn = 1\n",
    "lattice[1].file_id = 1001\n",
    "lattice[3].file_id = 1002\n",
    "lattice[5].file_id = 1003\n",
    "\n",
    "\n",
    "ke = beam.kinetic_energy\n",
    "mass = beam.mass\n",
    "freq = beam.frequency"
   ]
  },
  {
   "cell_type": "code",
   "execution_count": 4,
   "metadata": {
    "scrolled": true
   },
   "outputs": [],
   "source": [
    "for i in range(len(lattice0)):\n",
    "    if lattice0[i].type == 'dipole':\n",
    "        break\n",
    "elemF = copy(lattice0[i])\n",
    "elemF.fringe_field_integration = 10000000.0"
   ]
  },
  {
   "cell_type": "markdown",
   "metadata": {},
   "source": [
    "## x-amplitude"
   ]
  },
  {
   "cell_type": "code",
   "execution_count": 5,
   "metadata": {},
   "outputs": [],
   "source": [
    "k=0\n",
    "q_m = beam.multi_charge.q_m[0]\n",
    "pTest = []\n",
    "for i in range(5):\n",
    "    pTest.append([1.0e-5*(10.0**i),0.0,0,0.0,0.0,0.0,q_m,0.0,k])\n",
    "\n",
    "pTest = np.array(pTest)\n",
    "ke = beam.kinetic_energy\n",
    "mass = beam.mass\n",
    "freq = beam.frequency\n",
    "impact.writeParticleData(pTest, ke, mass, freq)"
   ]
  },
  {
   "cell_type": "code",
   "execution_count": 6,
   "metadata": {},
   "outputs": [
    {
     "name": "stdout",
     "output_type": "stream",
     "text": [
      "input error <- sum(beam.multi_charge.n_particles) not qual to beam.n_particles\n",
      "  ... enforcing  beam.multi_charge.n_particles[0] to beam.n_particles\n",
      "input error <- beam.multi_charge.current[0] not qual to beam.current\n",
      "  ... enforcing  beam.multi_charge.current[0] to beam.current\n"
     ]
    }
   ],
   "source": [
    "elemB = copy(elemF)\n",
    "elemB.length = -elemF.length\n",
    "elemB.bending_angle = -elemF.bending_angle\n",
    "elemB.fringe_field_integration = -elemF.fringe_field_integration\n",
    "\n",
    "lattice[2] = elemF\n",
    "lattice[4] = elemB\n",
    "impact.writeInputFile(beam,lattice)"
   ]
  },
  {
   "cell_type": "markdown",
   "metadata": {},
   "source": [
    "###### MaryLie_order = 1"
   ]
  },
  {
   "cell_type": "code",
   "execution_count": 7,
   "metadata": {},
   "outputs": [
    {
     "name": "stdout",
     "output_type": "stream",
     "text": [
      "[[ 6.776e-21  3.080e-21  0.000e+00  0.000e+00  3.543e-18  0.000e+00]\n",
      " [ 6.776e-20  2.029e-20  0.000e+00  0.000e+00  7.765e-18  0.000e+00]\n",
      " [ 6.505e-19  3.479e-19  0.000e+00  0.000e+00 -4.348e-17  0.000e+00]\n",
      " [ 5.204e-18 -8.349e-19  0.000e+00  0.000e+00  2.684e-15  0.000e+00]\n",
      " [ 8.327e-17  1.929e-17  0.000e+00  0.000e+00  7.951e-16  0.000e+00]]\n"
     ]
    }
   ],
   "source": [
    "impact.run()\n",
    "pData0 = impact.readParticleData(1001,ke,mass,freq)\n",
    "pData2 = impact.readParticleData(1003,ke,mass,freq)\n",
    "print(pData0[:,:6]-pData2[:,:6])"
   ]
  },
  {
   "cell_type": "markdown",
   "metadata": {},
   "source": [
    "###### MaryLie_order = 2"
   ]
  },
  {
   "cell_type": "code",
   "execution_count": 8,
   "metadata": {},
   "outputs": [
    {
     "name": "stdout",
     "output_type": "stream",
     "text": [
      "[[ 1.636e-17  6.895e-22  0.000e+00  0.000e+00  1.720e-18  0.000e+00]\n",
      " [ 1.635e-14  5.303e-19  0.000e+00  0.000e+00 -1.708e-16  0.000e+00]\n",
      " [ 1.635e-11  6.000e-15  0.000e+00  0.000e+00 -2.077e-12  0.000e+00]\n",
      " [ 1.639e-08  5.975e-11  0.000e+00  0.000e+00 -2.068e-08  0.000e+00]\n",
      " [ 1.670e-05  5.738e-07  0.000e+00  0.000e+00 -1.986e-04  0.000e+00]]\n"
     ]
    }
   ],
   "source": [
    "os.system('xmain_dipoleF2')\n",
    "pData0 = impact.readParticleData(1001,ke,mass,freq)\n",
    "pData2 = impact.readParticleData(1003,ke,mass,freq)\n",
    "print(pData0[:,:6]-pData2[:,:6])"
   ]
  },
  {
   "cell_type": "markdown",
   "metadata": {},
   "source": [
    "###### MaryLie_order = 3"
   ]
  },
  {
   "cell_type": "code",
   "execution_count": 9,
   "metadata": {
    "scrolled": false
   },
   "outputs": [
    {
     "name": "stdout",
     "output_type": "stream",
     "text": [
      "[[ 6.776e-21 -1.258e-22  0.000e+00  0.000e+00  1.128e-18  0.000e+00]\n",
      " [-2.575e-19 -5.442e-19  0.000e+00  0.000e+00  1.887e-16  0.000e+00]\n",
      " [-3.735e-15 -6.003e-15  0.000e+00  0.000e+00  2.075e-12  0.000e+00]\n",
      " [-3.737e-11 -6.003e-11  0.000e+00  0.000e+00  2.048e-08  0.000e+00]\n",
      " [-3.737e-07 -6.003e-07  0.000e+00  0.000e+00  1.781e-04  0.000e+00]]\n"
     ]
    }
   ],
   "source": [
    "os.system('xmain_dipoleF3')\n",
    "pData0 = impact.readParticleData(1001,ke,mass,freq)\n",
    "pData2 = impact.readParticleData(1003,ke,mass,freq)\n",
    "print(pData0[:,:6]-pData2[:,:6])"
   ]
  },
  {
   "cell_type": "markdown",
   "metadata": {},
   "source": [
    "## y-amplitude"
   ]
  },
  {
   "cell_type": "code",
   "execution_count": 10,
   "metadata": {},
   "outputs": [],
   "source": [
    "pTest = []\n",
    "for i in range(5):\n",
    "    pTest.append([0.0,0.0,1.0e-5*(10.0**i),0.0,0.0,0.0,q_m,0.0,k])\n",
    "\n",
    "pTest = np.array(pTest)\n",
    "impact.writeParticleData(pTest, ke, mass, freq)"
   ]
  },
  {
   "cell_type": "markdown",
   "metadata": {},
   "source": [
    "###### MaryLie_order = 1"
   ]
  },
  {
   "cell_type": "code",
   "execution_count": 11,
   "metadata": {},
   "outputs": [
    {
     "name": "stdout",
     "output_type": "stream",
     "text": [
      "[[ 0.000e+00  0.000e+00 -2.202e-20  6.030e-19  0.000e+00  0.000e+00]\n",
      " [ 0.000e+00  0.000e+00 -1.044e-18  2.226e-17  0.000e+00  0.000e+00]\n",
      " [ 0.000e+00  0.000e+00 -2.385e-18  5.937e-17  0.000e+00  0.000e+00]\n",
      " [ 0.000e+00  0.000e+00  1.908e-17 -4.275e-16  0.000e+00  0.000e+00]\n",
      " [ 0.000e+00  0.000e+00  2.692e-15 -5.585e-14  0.000e+00  0.000e+00]]\n"
     ]
    }
   ],
   "source": [
    "impact.run()\n",
    "pData0 = impact.readParticleData(1001,ke,mass,freq)\n",
    "pData2 = impact.readParticleData(1003,ke,mass,freq)\n",
    "print(pData0[:,:6]-pData2[:,:6])"
   ]
  },
  {
   "cell_type": "markdown",
   "metadata": {},
   "source": [
    "###### MaryLie_order = 2"
   ]
  },
  {
   "cell_type": "code",
   "execution_count": 12,
   "metadata": {},
   "outputs": [
    {
     "name": "stdout",
     "output_type": "stream",
     "text": [
      "[[ 1.501e-17  1.453e-17 -1.076e-14 -3.336e-18 -5.031e-15  0.000e+00]\n",
      " [ 1.501e-13  1.453e-13 -1.076e-11 -5.425e-16 -5.031e-11  0.000e+00]\n",
      " [ 1.501e-09  1.453e-09 -1.075e-08 -6.727e-11 -5.030e-07  0.000e+00]\n",
      " [ 1.546e-05  1.432e-05 -1.043e-05 -5.462e-06 -4.956e-03  0.000e+00]\n",
      " [ 1.104e+00  9.205e-02 -7.309e-01  1.448e+01 -3.186e+01  0.000e+00]]\n"
     ]
    }
   ],
   "source": [
    "os.system('xmain_dipoleF2')\n",
    "pData0 = impact.readParticleData(1001,ke,mass,freq)\n",
    "pData2 = impact.readParticleData(1003,ke,mass,freq)\n",
    "print(pData0[:,:6]-pData2[:,:6])"
   ]
  },
  {
   "cell_type": "markdown",
   "metadata": {},
   "source": [
    "###### MaryLie_order = 3"
   ]
  },
  {
   "cell_type": "code",
   "execution_count": 13,
   "metadata": {
    "scrolled": true
   },
   "outputs": [
    {
     "name": "stdout",
     "output_type": "stream",
     "text": [
      "[[-2.680e-17 -5.096e-17 -1.135e-19  2.384e-18  1.764e-14  0.000e+00]\n",
      " [-2.680e-13 -5.096e-13 -2.062e-16  3.677e-15  1.764e-10  0.000e+00]\n",
      " [-2.680e-09 -5.097e-09 -2.042e-11  3.634e-10  1.765e-06  0.000e+00]\n",
      " [-2.691e-05 -5.175e-05 -1.969e-06  3.486e-05  1.879e-02  0.000e+00]\n",
      " [ 8.908e+01 -1.481e+01  1.763e+01 -1.211e+02  5.597e+05  0.000e+00]]\n"
     ]
    }
   ],
   "source": [
    "os.system('xmain_dipoleF3')\n",
    "pData0 = impact.readParticleData(1001,ke,mass,freq)\n",
    "pData2 = impact.readParticleData(1003,ke,mass,freq)\n",
    "print(pData0[:,:6]-pData2[:,:6])"
   ]
  },
  {
   "cell_type": "code",
   "execution_count": null,
   "metadata": {},
   "outputs": [],
   "source": []
  }
 ],
 "metadata": {
  "kernelspec": {
   "display_name": "Python 3",
   "language": "python",
   "name": "python3"
  },
  "language_info": {
   "codemirror_mode": {
    "name": "ipython",
    "version": 3
   },
   "file_extension": ".py",
   "mimetype": "text/x-python",
   "name": "python",
   "nbconvert_exporter": "python",
   "pygments_lexer": "ipython3",
   "version": "3.6.5"
  }
 },
 "nbformat": 4,
 "nbformat_minor": 2
}
