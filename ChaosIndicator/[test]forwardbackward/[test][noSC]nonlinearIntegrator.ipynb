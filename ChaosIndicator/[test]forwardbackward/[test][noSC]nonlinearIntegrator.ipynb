{
 "cells": [
  {
   "cell_type": "code",
   "execution_count": 1,
   "metadata": {},
   "outputs": [],
   "source": [
    "import numpy as np\n",
    "import pImpactR as impact\n",
    "from copy import deepcopy as copy\n",
    "import os\n",
    "input_fname = 'test_IOTA.in'\n",
    "np.set_printoptions(precision=3)\n",
    "order=3"
   ]
  },
  {
   "cell_type": "markdown",
   "metadata": {},
   "source": [
    "# Prepare Beam and Lattice"
   ]
  },
  {
   "cell_type": "code",
   "execution_count": 2,
   "metadata": {
    "scrolled": true
   },
   "outputs": [
    {
     "name": "stdout",
     "output_type": "stream",
     "text": [
      "reading ImpactZ input file (\u001b[92mtest_IOTA.in\u001b[0m)\n",
      "  : mpi task info .............................done\n",
      "  : simulation control parameters .............done\n",
      "  : space charge field solver, mesh info ......done\n",
      "  : dist-type,restart,subcycle,#of state ......done\n",
      "  : Multiple Charge State info ................done\n",
      "  : particle distribution info ................done\n",
      "  : beam reference orbit info .................done\n",
      "  : converting impact dist to twiss param......done\n",
      "  : lattice info ..............................done\n"
     ]
    }
   ],
   "source": [
    "beam, lattice0 = impact.readInputFile(input_fname)"
   ]
  },
  {
   "cell_type": "code",
   "execution_count": 3,
   "metadata": {},
   "outputs": [],
   "source": [
    "beam.nCore_y=1\n",
    "beam.nCore_z=1\n",
    "beam.n_particles=10\n",
    "beam.current=0.0\n",
    "dist = beam.distribution\n",
    "dist.distribution_type = 'Waterbag'\n",
    "lattice = [impact.getElem('loop'),\n",
    "           impact.getElem('write_raw_ptcl'),\n",
    "           0,\n",
    "           impact.getElem('write_raw_ptcl'),\n",
    "           0,\n",
    "           impact.getElem('write_raw_ptcl')]\n",
    "lattice[0].nturn = 1\n",
    "lattice[1].file_id = 1001\n",
    "lattice[3].file_id = 1002\n",
    "lattice[5].file_id = 1003\n",
    "\n",
    "\n",
    "ke = beam.kinetic_energy\n",
    "mass = beam.mass\n",
    "freq = beam.frequency"
   ]
  },
  {
   "cell_type": "code",
   "execution_count": 4,
   "metadata": {},
   "outputs": [],
   "source": [
    "dist.mode = 'twiss'\n",
    "dist.betx = 10.0\n",
    "dist.alfx = 0\n",
    "dist.emitx = 1.0e-6\n",
    "dist.bety = 10.0\n",
    "dist.alfy = 0\n",
    "dist.emity = 1.0e-6\n",
    "dist.betz = 109.0\n",
    "dist.alfz = 0\n",
    "dist.emitz = 1.0e-4"
   ]
  },
  {
   "cell_type": "markdown",
   "metadata": {},
   "source": [
    "# 1. Drift"
   ]
  },
  {
   "cell_type": "code",
   "execution_count": 5,
   "metadata": {},
   "outputs": [],
   "source": [
    "elemF = impact.getElem('drift')\n",
    "elemF.length = 1.1\n",
    "elemF.n_sckick = 20\n",
    "elemF.n_map = 2\n",
    "\n",
    "elemB = copy(elemF)\n",
    "elemB.length =-elemF.length\n",
    "\n",
    "lattice[2] = elemF\n",
    "lattice[4] = elemB\n",
    "\n",
    "impact.writeInputFile(beam,lattice);"
   ]
  },
  {
   "cell_type": "code",
   "execution_count": 6,
   "metadata": {
    "scrolled": false
   },
   "outputs": [
    {
     "name": "stdout",
     "output_type": "stream",
     "text": [
      "[[ 0.000e+00  0.000e+00  0.000e+00  0.000e+00  0.000e+00  0.000e+00]\n",
      " [ 0.000e+00  0.000e+00  0.000e+00  0.000e+00  0.000e+00  0.000e+00]\n",
      " [ 0.000e+00  0.000e+00  0.000e+00  0.000e+00  6.939e-18  0.000e+00]\n",
      " [ 0.000e+00  0.000e+00  0.000e+00  0.000e+00  2.602e-18  0.000e+00]\n",
      " [ 0.000e+00  0.000e+00  0.000e+00  0.000e+00  0.000e+00  0.000e+00]\n",
      " [ 0.000e+00  0.000e+00  0.000e+00  0.000e+00  0.000e+00  0.000e+00]\n",
      " [ 0.000e+00  0.000e+00  0.000e+00  0.000e+00  0.000e+00  0.000e+00]\n",
      " [ 0.000e+00  0.000e+00  0.000e+00  0.000e+00  0.000e+00  0.000e+00]\n",
      " [ 0.000e+00  0.000e+00 -8.132e-20  0.000e+00  0.000e+00  0.000e+00]\n",
      " [ 0.000e+00  0.000e+00  0.000e+00  0.000e+00 -5.551e-17  0.000e+00]]\n"
     ]
    }
   ],
   "source": [
    "impact.run(beam,order=3)\n",
    "\n",
    "pData0 = impact.readParticleData(1001,ke,mass,freq)\n",
    "pData1 = impact.readParticleData(1002,ke,mass,freq)\n",
    "pData2 = impact.readParticleData(1003,ke,mass,freq)\n",
    "print(pData0[:,:6]-pData2[:,:6])"
   ]
  },
  {
   "cell_type": "code",
   "execution_count": 7,
   "metadata": {
    "scrolled": false
   },
   "outputs": [
    {
     "name": "stdout",
     "output_type": "stream",
     "text": [
      "[[ 0.000e+00  0.000e+00  0.000e+00  0.000e+00  0.000e+00  0.000e+00]\n",
      " [ 0.000e+00  0.000e+00  0.000e+00  0.000e+00  0.000e+00  0.000e+00]\n",
      " [ 0.000e+00  0.000e+00  0.000e+00  0.000e+00  6.939e-18  0.000e+00]\n",
      " [ 0.000e+00  0.000e+00  0.000e+00  0.000e+00 -3.469e-18  0.000e+00]\n",
      " [ 0.000e+00  0.000e+00  0.000e+00  0.000e+00  0.000e+00  0.000e+00]\n",
      " [ 0.000e+00  0.000e+00  0.000e+00  0.000e+00  5.204e-18  0.000e+00]\n",
      " [ 0.000e+00  0.000e+00  0.000e+00  0.000e+00  0.000e+00  0.000e+00]\n",
      " [ 0.000e+00  0.000e+00  0.000e+00  0.000e+00  0.000e+00  0.000e+00]\n",
      " [ 0.000e+00  0.000e+00 -2.711e-20  0.000e+00  0.000e+00  0.000e+00]\n",
      " [ 0.000e+00  0.000e+00  0.000e+00  0.000e+00 -5.551e-17  0.000e+00]]\n"
     ]
    }
   ],
   "source": [
    "impact.run(beam,order=1)\n",
    "\n",
    "pData0 = impact.readParticleData(1001,ke,mass,freq)\n",
    "pData1 = impact.readParticleData(1002,ke,mass,freq)\n",
    "pData2 = impact.readParticleData(1003,ke,mass,freq)\n",
    "print(pData0[:,:6]-pData2[:,:6])"
   ]
  },
  {
   "cell_type": "markdown",
   "metadata": {},
   "source": [
    "# 2. Quad"
   ]
  },
  {
   "cell_type": "code",
   "execution_count": 8,
   "metadata": {},
   "outputs": [],
   "source": [
    "elemF = impact.getElem('quad')\n",
    "elemF.length = 0.02\n",
    "elemF.n_sckick = 20\n",
    "elemF.n_map = 1\n",
    "elemF.B1 = 15.0\n",
    "\n",
    "elemB = copy(elemF)\n",
    "elemB.length =-elemF.length\n",
    "\n",
    "lattice[2] = elemF\n",
    "lattice[4] = elemB\n",
    "\n",
    "impact.writeInputFile(beam,lattice);"
   ]
  },
  {
   "cell_type": "code",
   "execution_count": 9,
   "metadata": {
    "scrolled": false
   },
   "outputs": [
    {
     "name": "stdout",
     "output_type": "stream",
     "text": [
      "[[ 5.551e-17 -5.638e-18 -3.990e-17  1.472e-16  0.000e+00  0.000e+00]\n",
      " [-5.204e-17  2.602e-18  5.117e-17 -1.796e-17  0.000e+00  0.000e+00]\n",
      " [-1.908e-17 -5.421e-18 -4.597e-17 -8.554e-17  0.000e+00  0.000e+00]\n",
      " [ 9.541e-18  2.602e-18  6.592e-17  1.227e-16  0.000e+00  0.000e+00]\n",
      " [ 2.776e-17  2.602e-18 -1.301e-17 -5.334e-17  0.000e+00  0.000e+00]\n",
      " [ 3.123e-17 -1.041e-17 -1.518e-18  1.128e-17  0.000e+00  0.000e+00]\n",
      " [ 6.592e-17 -2.385e-18  3.123e-17 -3.209e-17  0.000e+00  0.000e+00]\n",
      " [ 1.388e-17 -4.865e-18  1.691e-17  1.572e-17  0.000e+00  0.000e+00]\n",
      " [-2.429e-17  6.505e-18  1.355e-18  1.084e-18  0.000e+00  0.000e+00]\n",
      " [-3.036e-18  7.589e-19  1.214e-17  7.535e-18  0.000e+00  0.000e+00]]\n"
     ]
    }
   ],
   "source": [
    "impact.run(beam,order=3)\n",
    "\n",
    "pData0 = impact.readParticleData(1001,ke,mass,freq)\n",
    "pData1 = impact.readParticleData(1002,ke,mass,freq)\n",
    "pData2 = impact.readParticleData(1003,ke,mass,freq)\n",
    "print(pData0[:,:6]-pData2[:,:6])"
   ]
  },
  {
   "cell_type": "code",
   "execution_count": 10,
   "metadata": {
    "scrolled": false
   },
   "outputs": [
    {
     "name": "stdout",
     "output_type": "stream",
     "text": [
      "[[ 5.551e-17 -5.638e-18 -3.990e-17  1.472e-16  0.000e+00  0.000e+00]\n",
      " [-5.204e-17  2.602e-18  5.117e-17 -1.796e-17  0.000e+00  0.000e+00]\n",
      " [-1.908e-17 -5.421e-18 -4.597e-17 -8.554e-17  0.000e+00  0.000e+00]\n",
      " [ 9.541e-18  2.602e-18  6.592e-17  1.227e-16  0.000e+00  0.000e+00]\n",
      " [ 2.776e-17  2.602e-18 -1.301e-17 -5.334e-17  0.000e+00  0.000e+00]\n",
      " [ 3.123e-17 -1.041e-17 -1.518e-18  1.128e-17  0.000e+00  0.000e+00]\n",
      " [ 6.592e-17 -2.385e-18  3.123e-17 -3.209e-17  0.000e+00  0.000e+00]\n",
      " [ 1.388e-17 -4.865e-18  1.691e-17  1.572e-17  0.000e+00  0.000e+00]\n",
      " [-2.429e-17  6.505e-18  1.355e-18  1.084e-18  0.000e+00  0.000e+00]\n",
      " [-3.036e-18  7.589e-19  1.214e-17  7.535e-18  0.000e+00  0.000e+00]]\n"
     ]
    }
   ],
   "source": [
    "impact.run(beam,order=1)\n",
    "\n",
    "pData0 = impact.readParticleData(1001,ke,mass,freq)\n",
    "pData1 = impact.readParticleData(1002,ke,mass,freq)\n",
    "pData2 = impact.readParticleData(1003,ke,mass,freq)\n",
    "print(pData0[:,:6]-pData2[:,:6])"
   ]
  },
  {
   "cell_type": "markdown",
   "metadata": {},
   "source": [
    "# 3. Sextupole"
   ]
  },
  {
   "cell_type": "code",
   "execution_count": 11,
   "metadata": {},
   "outputs": [
    {
     "data": {
      "text/plain": [
       "\n",
       " KL_dipole: 0.0\n",
       "   KL_quad: 0.0\n",
       "   KL_sext: 0.15\n",
       "    KL_oct: 0.0\n",
       "   KL_deca: 0.0\n",
       " KL_dodeca: 0.0\n",
       "      type: 'multipole_thin'"
      ]
     },
     "execution_count": 11,
     "metadata": {},
     "output_type": "execute_result"
    }
   ],
   "source": [
    "for i in range(len(lattice0)):\n",
    "    if lattice0[i].type == 'multipole_thin':\n",
    "        break\n",
    "lattice0[i]"
   ]
  },
  {
   "cell_type": "code",
   "execution_count": 12,
   "metadata": {},
   "outputs": [],
   "source": [
    "elemF = lattice0[i]\n",
    "\n",
    "elemB = copy(elemF)\n",
    "elemF.KL_sext = 10.0\n",
    "elemB.KL_sext =-elemF.KL_sext\n",
    "\n",
    "lattice[2] = elemF\n",
    "lattice[4] = elemB\n",
    "\n",
    "impact.writeInputFile(beam,lattice);"
   ]
  },
  {
   "cell_type": "code",
   "execution_count": 13,
   "metadata": {
    "scrolled": false
   },
   "outputs": [
    {
     "name": "stdout",
     "output_type": "stream",
     "text": [
      "[[ 0.000e+00  0.000e+00  0.000e+00  6.776e-20  0.000e+00  0.000e+00]\n",
      " [ 0.000e+00  2.168e-19  0.000e+00 -5.421e-20  0.000e+00  0.000e+00]\n",
      " [ 0.000e+00  0.000e+00  0.000e+00  0.000e+00  0.000e+00  0.000e+00]\n",
      " [ 0.000e+00  0.000e+00  0.000e+00  0.000e+00  0.000e+00  0.000e+00]\n",
      " [ 0.000e+00  2.168e-19  0.000e+00  0.000e+00  0.000e+00  0.000e+00]\n",
      " [ 0.000e+00  0.000e+00  0.000e+00  0.000e+00  0.000e+00  0.000e+00]\n",
      " [ 0.000e+00  0.000e+00  0.000e+00  0.000e+00  0.000e+00  0.000e+00]\n",
      " [ 0.000e+00  5.421e-20  0.000e+00  0.000e+00  0.000e+00  0.000e+00]\n",
      " [ 0.000e+00  0.000e+00  0.000e+00  0.000e+00  0.000e+00  0.000e+00]\n",
      " [ 0.000e+00  0.000e+00  0.000e+00  0.000e+00  0.000e+00  0.000e+00]]\n"
     ]
    }
   ],
   "source": [
    "impact.run(beam,order=3)\n",
    "\n",
    "pData0 = impact.readParticleData(1001,ke,mass,freq)\n",
    "pData1 = impact.readParticleData(1002,ke,mass,freq)\n",
    "pData2 = impact.readParticleData(1003,ke,mass,freq)\n",
    "print(pData0[:,:6]-pData2[:,:6])"
   ]
  },
  {
   "cell_type": "code",
   "execution_count": 14,
   "metadata": {
    "scrolled": false
   },
   "outputs": [
    {
     "name": "stdout",
     "output_type": "stream",
     "text": [
      "[[ 0.000e+00  0.000e+00  0.000e+00  6.776e-20  0.000e+00  0.000e+00]\n",
      " [ 0.000e+00  2.168e-19  0.000e+00 -5.421e-20  0.000e+00  0.000e+00]\n",
      " [ 0.000e+00  0.000e+00  0.000e+00  0.000e+00  0.000e+00  0.000e+00]\n",
      " [ 0.000e+00  0.000e+00  0.000e+00  0.000e+00  0.000e+00  0.000e+00]\n",
      " [ 0.000e+00  2.168e-19  0.000e+00  0.000e+00  0.000e+00  0.000e+00]\n",
      " [ 0.000e+00  0.000e+00  0.000e+00  0.000e+00  0.000e+00  0.000e+00]\n",
      " [ 0.000e+00  0.000e+00  0.000e+00  0.000e+00  0.000e+00  0.000e+00]\n",
      " [ 0.000e+00  5.421e-20  0.000e+00  0.000e+00  0.000e+00  0.000e+00]\n",
      " [ 0.000e+00  0.000e+00  0.000e+00  0.000e+00  0.000e+00  0.000e+00]\n",
      " [ 0.000e+00  0.000e+00  0.000e+00  0.000e+00  0.000e+00  0.000e+00]]\n"
     ]
    }
   ],
   "source": [
    "impact.run(beam,order=1)\n",
    "\n",
    "pData0 = impact.readParticleData(1001,ke,mass,freq)\n",
    "pData1 = impact.readParticleData(1002,ke,mass,freq)\n",
    "pData2 = impact.readParticleData(1003,ke,mass,freq)\n",
    "print(pData0[:,:6]-pData2[:,:6])"
   ]
  },
  {
   "cell_type": "markdown",
   "metadata": {},
   "source": [
    "# 4. Dipole"
   ]
  },
  {
   "cell_type": "code",
   "execution_count": 15,
   "metadata": {
    "scrolled": false
   },
   "outputs": [
    {
     "data": {
      "text/plain": [
       "\n",
       "                   length: 0.7330382858 [m]\n",
       "                 n_sckick: 10 [1]\n",
       "                    n_map: 20 [1]\n",
       "            bending_angle: 1.047197551 [rad]\n",
       "                       k1: 0.0\n",
       "                  file_id: 350\n",
       "              pipe_radius: 0.058 [m]\n",
       "           entrance_angle: 0.0 [rad]\n",
       "               exit_angle: 0.0 [rad]\n",
       "       entrance_curvature: 0.0 [rad]\n",
       "           exit_curvature: 0.0 [rad]\n",
       " fringe_field_integration: 0.5 [1]\n",
       "                     type: 'dipole'"
      ]
     },
     "execution_count": 15,
     "metadata": {},
     "output_type": "execute_result"
    }
   ],
   "source": [
    "for i in range(len(lattice0)):\n",
    "    if lattice0[i].type == 'dipole':\n",
    "        break\n",
    "lattice0[i]"
   ]
  },
  {
   "cell_type": "markdown",
   "metadata": {},
   "source": [
    "### 4.1 FINT=0"
   ]
  },
  {
   "cell_type": "markdown",
   "metadata": {},
   "source": [
    "##### negative length "
   ]
  },
  {
   "cell_type": "code",
   "execution_count": 16,
   "metadata": {},
   "outputs": [],
   "source": [
    "elemF = copy(lattice0[i])\n",
    "elemF.fringe_field_integration = 0.0\n",
    "elemF.entrance_angle=0.03\n",
    "elemF.exit_angle=0.06\n",
    "\n",
    "elemB = copy(elemF)\n",
    "elemB.length = -elemF.length\n",
    "\n",
    "lattice[2] = elemF\n",
    "lattice[4] = elemB\n",
    "\n",
    "impact.writeInputFile(beam,lattice);"
   ]
  },
  {
   "cell_type": "code",
   "execution_count": 17,
   "metadata": {
    "scrolled": true
   },
   "outputs": [
    {
     "name": "stdout",
     "output_type": "stream",
     "text": [
      "[[-2.825e-04  2.994e-04  1.735e-06  4.345e-04  1.099e+01  0.000e+00]\n",
      " [ 2.711e-04  6.028e-04 -3.188e-04  1.767e-04 -1.097e+01  0.000e+00]\n",
      " [-2.652e-04  3.214e-04  1.204e-04  1.287e-04  5.686e+00  0.000e+00]\n",
      " [ 1.957e-04  1.744e-04 -3.836e-04  1.998e-04 -7.121e+00  0.000e+00]\n",
      " [-5.084e-05 -2.565e-04 -1.437e-04  2.541e-04  1.695e+01  0.000e+00]\n",
      " [-1.232e-04  6.665e-05 -1.469e-05 -3.209e-05  5.379e+00  0.000e+00]\n",
      " [-1.204e-04 -2.546e-05 -5.414e-05  2.101e-04  1.394e+01  0.000e+00]\n",
      " [ 7.957e-04  5.710e-04  8.526e-05 -6.624e-05 -1.875e+01  0.000e+00]\n",
      " [ 1.151e-04  1.131e-03  3.012e-05 -2.279e-05 -1.129e+01  0.000e+00]\n",
      " [ 3.388e-04 -9.047e-04 -1.025e-04 -1.372e-05  6.778e-01  0.000e+00]]\n"
     ]
    }
   ],
   "source": [
    "impact.run(beam,order=3)\n",
    "\n",
    "pData0 = impact.readParticleData(1001,ke,mass,freq)\n",
    "pData1 = impact.readParticleData(1002,ke,mass,freq)\n",
    "pData2 = impact.readParticleData(1003,ke,mass,freq)\n",
    "print(pData0[:,:6]-pData2[:,:6])"
   ]
  },
  {
   "cell_type": "code",
   "execution_count": 18,
   "metadata": {
    "scrolled": false
   },
   "outputs": [
    {
     "name": "stdout",
     "output_type": "stream",
     "text": [
      "[[-2.907e-04 -8.284e-05  3.139e-04  4.445e-05  1.091e+01  0.000e+00]\n",
      " [ 1.975e-04  3.299e-04 -1.567e-04 -1.708e-05 -1.105e+01  0.000e+00]\n",
      " [-2.534e-04  2.169e-04  2.069e-04 -3.991e-06  5.670e+00  0.000e+00]\n",
      " [ 2.070e-04  1.206e-05 -2.450e-04  2.051e-06 -7.147e+00  0.000e+00]\n",
      " [-2.150e-04 -7.173e-04  1.649e-04 -5.201e-05  1.679e+01  0.000e+00]\n",
      " [-1.518e-04 -1.716e-05 -2.191e-05 -2.193e-05  5.351e+00  0.000e+00]\n",
      " [-2.520e-04 -3.996e-04  1.344e-04 -1.509e-06  1.382e+01  0.000e+00]\n",
      " [ 5.640e-04 -5.882e-06  3.775e-05  1.435e-05 -1.896e+01  0.000e+00]\n",
      " [ 3.050e-06  8.484e-04  1.096e-05 -7.613e-06 -1.138e+01  0.000e+00]\n",
      " [ 3.471e-04 -9.321e-04 -1.183e-04 -5.182e-06  6.765e-01  0.000e+00]]\n"
     ]
    }
   ],
   "source": [
    "impact.run(beam,order=1)\n",
    "\n",
    "pData0 = impact.readParticleData(1001,ke,mass,freq)\n",
    "pData1 = impact.readParticleData(1002,ke,mass,freq)\n",
    "pData2 = impact.readParticleData(1003,ke,mass,freq)\n",
    "print(pData0[:,:6]-pData2[:,:6])"
   ]
  },
  {
   "cell_type": "markdown",
   "metadata": {},
   "source": [
    "### negative length and bending angle and negative/exchanged e1,e2"
   ]
  },
  {
   "cell_type": "code",
   "execution_count": 19,
   "metadata": {},
   "outputs": [],
   "source": [
    "elemB.bending_angle = -elemB.bending_angle\n",
    "elemB.entrance_angle= -elemF.exit_angle\n",
    "elemB.exit_angle    = -elemF.entrance_angle\n",
    "\n",
    "impact.writeInputFile(beam,lattice);"
   ]
  },
  {
   "cell_type": "code",
   "execution_count": 20,
   "metadata": {
    "scrolled": true
   },
   "outputs": [
    {
     "name": "stdout",
     "output_type": "stream",
     "text": [
      "[[ 3.074e-10  3.429e-09 -1.423e-09  1.689e-09 -2.141e-07  0.000e+00]\n",
      " [ 5.790e-10  1.658e-09 -4.503e-10  1.110e-09 -3.188e-07  0.000e+00]\n",
      " [ 3.131e-11  2.366e-10 -1.835e-10  1.250e-10 -2.784e-08  0.000e+00]\n",
      " [ 5.401e-11  5.794e-10 -4.233e-10  3.277e-10 -4.520e-08  0.000e+00]\n",
      " [ 1.513e-09  3.890e-09 -1.571e-09  3.264e-09 -8.813e-07  0.000e+00]\n",
      " [ 1.130e-10  1.635e-10  1.814e-12 -3.538e-11 -5.586e-08  0.000e+00]\n",
      " [ 1.295e-09  2.841e-09 -6.759e-10  1.790e-09 -7.185e-07  0.000e+00]\n",
      " [ 3.645e-09  5.851e-09  5.321e-10 -1.415e-09 -2.017e-06  0.000e+00]\n",
      " [ 1.047e-09  1.561e-09  1.374e-11 -5.563e-11 -5.664e-07  0.000e+00]\n",
      " [-2.968e-12  4.919e-13  5.020e-12  2.120e-12  2.070e-09  0.000e+00]]\n"
     ]
    }
   ],
   "source": [
    "impact.run(beam,order=3)\n",
    "\n",
    "pData0 = impact.readParticleData(1001,ke,mass,freq)\n",
    "pData1 = impact.readParticleData(1002,ke,mass,freq)\n",
    "pData2 = impact.readParticleData(1003,ke,mass,freq)\n",
    "print(pData0[:,:6]-pData2[:,:6])"
   ]
  },
  {
   "cell_type": "code",
   "execution_count": 21,
   "metadata": {
    "scrolled": false
   },
   "outputs": [
    {
     "name": "stdout",
     "output_type": "stream",
     "text": [
      "[[-5.204e-18  1.149e-17  0.000e+00  1.626e-19  1.998e-15  0.000e+00]\n",
      " [ 1.735e-17  1.301e-18  0.000e+00  8.132e-20 -1.832e-15  0.000e+00]\n",
      " [-5.204e-18  0.000e+00  1.735e-18  0.000e+00  6.870e-16  0.000e+00]\n",
      " [-1.128e-17 -1.106e-17 -1.735e-18 -2.168e-19  3.354e-15  0.000e+00]\n",
      " [ 1.388e-17  1.258e-17  0.000e+00  0.000e+00 -5.732e-15  0.000e+00]\n",
      " [-6.072e-18 -8.674e-19  0.000e+00  0.000e+00 -9.576e-16  0.000e+00]\n",
      " [ 1.388e-17  1.540e-17  0.000e+00  0.000e+00 -3.608e-15  0.000e+00]\n",
      " [ 1.388e-17  5.557e-19  0.000e+00 -1.626e-19 -1.776e-15  0.000e+00]\n",
      " [ 8.674e-18 -1.258e-17 -5.421e-20  0.000e+00 -4.025e-16  0.000e+00]\n",
      " [-1.518e-18  0.000e+00  0.000e+00  0.000e+00  1.110e-16  0.000e+00]]\n"
     ]
    }
   ],
   "source": [
    "impact.run(beam,order=1)\n",
    "\n",
    "pData0 = impact.readParticleData(1001,ke,mass,freq)\n",
    "pData1 = impact.readParticleData(1002,ke,mass,freq)\n",
    "pData2 = impact.readParticleData(1003,ke,mass,freq)\n",
    "print(pData0[:,:6]-pData2[:,:6])"
   ]
  },
  {
   "cell_type": "markdown",
   "metadata": {},
   "source": [
    "### 4.2 FINT != 0, e1=e2=0"
   ]
  },
  {
   "cell_type": "code",
   "execution_count": 22,
   "metadata": {},
   "outputs": [],
   "source": [
    "elemF = copy(lattice0[i])\n",
    "elemF.fringe_field_integration = 10.0\n",
    "\n",
    "\n",
    "elemB = copy(elemF)\n",
    "elemB.length = -elemF.length\n",
    "elemB.bending_angle = -elemF.bending_angle\n",
    "elemB.fringe_field_integration = -elemF.fringe_field_integration\n",
    "\n",
    "\n",
    "lattice[2] = elemF\n",
    "lattice[4] = elemB\n",
    "\n",
    "impact.writeInputFile(beam,lattice);"
   ]
  },
  {
   "cell_type": "code",
   "execution_count": 23,
   "metadata": {
    "scrolled": false
   },
   "outputs": [
    {
     "name": "stdout",
     "output_type": "stream",
     "text": [
      "[[-3.101e-09 -2.949e-08  3.501e-08 -8.070e-08  1.020e-05  0.000e+00]\n",
      " [ 4.350e-10 -4.030e-09  6.795e-09 -1.610e-08  1.395e-06  0.000e+00]\n",
      " [-6.877e-10 -3.299e-09  3.218e-09 -7.451e-09  1.139e-06  0.000e+00]\n",
      " [-1.382e-09 -7.235e-09  7.785e-09 -1.794e-08  2.501e-06  0.000e+00]\n",
      " [ 1.041e-09 -4.420e-09  1.129e-08 -2.842e-08  1.527e-06  0.000e+00]\n",
      " [ 1.311e-10  1.341e-10 -1.007e-10  2.354e-10 -4.537e-08  0.000e+00]\n",
      " [ 1.250e-09 -2.422e-09  7.151e-09 -1.765e-08  8.404e-07  0.000e+00]\n",
      " [ 4.086e-09  5.861e-09 -3.548e-09  8.885e-09 -1.987e-06  0.000e+00]\n",
      " [ 1.178e-09  1.783e-09 -1.843e-10  4.794e-10 -6.266e-07  0.000e+00]\n",
      " [-5.258e-11 -2.668e-10 -1.712e-10  3.830e-10  9.272e-08  0.000e+00]]\n"
     ]
    }
   ],
   "source": [
    "impact.run(beam,order=3)\n",
    "\n",
    "pData0 = impact.readParticleData(1001,ke,mass,freq)\n",
    "pData1 = impact.readParticleData(1002,ke,mass,freq)\n",
    "pData2 = impact.readParticleData(1003,ke,mass,freq)\n",
    "print(pData0[:,:6]-pData2[:,:6])"
   ]
  },
  {
   "cell_type": "code",
   "execution_count": 24,
   "metadata": {
    "scrolled": false
   },
   "outputs": [
    {
     "name": "stdout",
     "output_type": "stream",
     "text": [
      "[[-6.939e-18 -5.421e-18  1.735e-18  8.132e-19 -1.332e-15  0.000e+00]\n",
      " [ 1.388e-17  6.505e-19  2.082e-17 -3.484e-17  1.138e-15  0.000e+00]\n",
      " [ 0.000e+00  0.000e+00  0.000e+00 -1.518e-18 -1.502e-15  0.000e+00]\n",
      " [-4.337e-18 -6.939e-18  0.000e+00 -4.337e-19  1.714e-15  0.000e+00]\n",
      " [ 2.776e-17  2.841e-17  1.301e-18 -2.602e-18 -1.170e-14  0.000e+00]\n",
      " [-9.541e-18  1.128e-17  0.000e+00  3.253e-19 -1.230e-15  0.000e+00]\n",
      " [ 1.388e-17  4.337e-18  0.000e+00  2.168e-18 -1.540e-15  0.000e+00]\n",
      " [ 0.000e+00 -8.416e-18  6.505e-19 -1.626e-18  5.163e-15  0.000e+00]\n",
      " [ 0.000e+00 -8.240e-18  2.711e-20 -1.626e-19  2.470e-15  0.000e+00]\n",
      " [-1.084e-18  4.337e-19 -3.469e-18  4.770e-18 -1.804e-16  0.000e+00]]\n"
     ]
    }
   ],
   "source": [
    "impact.run(beam,order=1)\n",
    "\n",
    "pData0 = impact.readParticleData(1001,ke,mass,freq)\n",
    "pData1 = impact.readParticleData(1002,ke,mass,freq)\n",
    "pData2 = impact.readParticleData(1003,ke,mass,freq)\n",
    "print(pData0[:,:6]-pData2[:,:6])"
   ]
  },
  {
   "cell_type": "markdown",
   "metadata": {},
   "source": [
    "### 4.2 FINT != 0, e1,e2!=0"
   ]
  },
  {
   "cell_type": "code",
   "execution_count": 25,
   "metadata": {},
   "outputs": [],
   "source": [
    "elemF = copy(lattice0[i])\n",
    "elemF.fringe_field_integration = 10.0\n",
    "elemF.entrance_angle=0.08\n",
    "elemF.exit_angle=0.05\n",
    "\n",
    "elemB = copy(elemF)\n",
    "elemB.length = -elemF.length\n",
    "elemB.bending_angle = -elemF.bending_angle\n",
    "elemB.fringe_field_integration = -elemF.fringe_field_integration\n",
    "elemB.entrance_angle = -elemF.exit_angle\n",
    "elemB.exit_angle     = -elemF.entrance_angle\n",
    "\n",
    "lattice[2] = elemF\n",
    "lattice[4] = elemB\n",
    "\n",
    "impact.writeInputFile(beam,lattice);"
   ]
  },
  {
   "cell_type": "code",
   "execution_count": 26,
   "metadata": {
    "scrolled": false
   },
   "outputs": [
    {
     "name": "stdout",
     "output_type": "stream",
     "text": [
      "[[ 1.055e-08  2.356e-08 -3.801e-08  1.030e-07 -6.793e-06  0.000e+00]\n",
      " [ 6.858e-10  3.058e-09 -5.458e-09  1.516e-08 -3.113e-07  0.000e+00]\n",
      " [ 2.011e-09  3.309e-09 -3.127e-09  8.579e-09 -1.265e-06  0.000e+00]\n",
      " [ 3.990e-09  7.122e-09 -8.322e-09  2.228e-08 -2.542e-06  0.000e+00]\n",
      " [ 1.369e-09  4.231e-09 -4.938e-09  1.567e-08 -4.695e-07  0.000e+00]\n",
      " [ 7.984e-11  1.361e-10  1.635e-11 -6.639e-11 -3.976e-08  0.000e+00]\n",
      " [ 8.998e-10  3.139e-09 -3.507e-09  1.085e-08 -3.486e-07  0.000e+00]\n",
      " [ 2.880e-09  4.807e-09  6.719e-10 -2.832e-09 -1.606e-06  0.000e+00]\n",
      " [ 8.591e-10  1.259e-09  1.165e-12 -5.202e-11 -4.769e-07  0.000e+00]\n",
      " [ 2.130e-10  3.448e-10  2.594e-10 -6.732e-10 -1.436e-07  0.000e+00]]\n"
     ]
    }
   ],
   "source": [
    "impact.run(beam,order=3)\n",
    "\n",
    "pData0 = impact.readParticleData(1001,ke,mass,freq)\n",
    "pData1 = impact.readParticleData(1002,ke,mass,freq)\n",
    "pData2 = impact.readParticleData(1003,ke,mass,freq)\n",
    "print(pData0[:,:6]-pData2[:,:6])"
   ]
  },
  {
   "cell_type": "code",
   "execution_count": 27,
   "metadata": {
    "scrolled": false
   },
   "outputs": [
    {
     "name": "stdout",
     "output_type": "stream",
     "text": [
      "[[ 0.000e+00  9.975e-18  6.939e-18 -1.106e-17 -1.804e-15  0.000e+00]\n",
      " [ 1.041e-17  2.168e-19  0.000e+00 -2.196e-18  1.721e-15  0.000e+00]\n",
      " [-1.735e-18  0.000e+00  3.036e-17 -4.163e-17 -2.290e-16  0.000e+00]\n",
      " [-1.388e-17 -6.939e-18 -1.735e-18  1.084e-18  3.230e-15  0.000e+00]\n",
      " [ 2.776e-17  2.776e-17 -1.301e-18  1.735e-18 -8.021e-15  0.000e+00]\n",
      " [-2.602e-18  8.240e-18  2.168e-19 -9.758e-19 -2.252e-15  0.000e+00]\n",
      " [ 1.388e-17  1.019e-17  0.000e+00 -8.674e-19 -3.317e-15  0.000e+00]\n",
      " [ 1.388e-17  3.930e-19  0.000e+00  2.711e-19 -8.049e-16  0.000e+00]\n",
      " [ 3.469e-18 -9.541e-18  5.692e-19 -9.216e-19  4.358e-15  0.000e+00]\n",
      " [-1.301e-18  5.421e-19  0.000e+00 -1.138e-18  5.551e-17  0.000e+00]]\n"
     ]
    }
   ],
   "source": [
    "impact.run(beam,order=1)\n",
    "\n",
    "pData0 = impact.readParticleData(1001,ke,mass,freq)\n",
    "pData1 = impact.readParticleData(1002,ke,mass,freq)\n",
    "pData2 = impact.readParticleData(1003,ke,mass,freq)\n",
    "print(pData0[:,:6]-pData2[:,:6])"
   ]
  },
  {
   "cell_type": "markdown",
   "metadata": {},
   "source": [
    "# 5. Nonlinear Insert"
   ]
  },
  {
   "cell_type": "code",
   "execution_count": 28,
   "metadata": {},
   "outputs": [
    {
     "data": {
      "text/plain": [
       "\n",
       "             length: 1.8 [m]\n",
       "           n_sckick: 96 [1]\n",
       "              n_map: 5 [1]\n",
       "         strength_t: 0.4\n",
       " transverse_scale_c: 0.01\n",
       "        pipe_radius: 10.0 [m]\n",
       "       tune_advance: 0.3034496449165134\n",
       "               type: 'nonlinear_insert'"
      ]
     },
     "execution_count": 28,
     "metadata": {},
     "output_type": "execute_result"
    }
   ],
   "source": [
    "for i in range(len(lattice0)):\n",
    "    if lattice0[i].type == 'nonlinear_insert':\n",
    "        break\n",
    "lattice0[i]"
   ]
  },
  {
   "cell_type": "code",
   "execution_count": 29,
   "metadata": {},
   "outputs": [],
   "source": [
    "elemF = lattice0[i]\n",
    "\n",
    "elemB = copy(elemF)\n",
    "elemB.length =-elemF.length\n",
    "\n",
    "lattice[2] = elemF\n",
    "lattice[4] = elemB\n",
    "\n",
    "impact.writeInputFile(beam,lattice);"
   ]
  },
  {
   "cell_type": "code",
   "execution_count": 30,
   "metadata": {
    "scrolled": false
   },
   "outputs": [
    {
     "name": "stdout",
     "output_type": "stream",
     "text": [
      "[[-1.735e-18 -1.323e-17 -2.082e-17 -3.036e-18  2.776e-17  0.000e+00]\n",
      " [-1.908e-17  6.722e-18  0.000e+00 -1.976e-17  0.000e+00  0.000e+00]\n",
      " [ 1.908e-17 -1.236e-17 -9.541e-18 -2.418e-17 -6.939e-17  0.000e+00]\n",
      " [ 3.469e-18  1.236e-17  7.806e-18 -9.107e-18 -2.949e-17  0.000e+00]\n",
      " [ 0.000e+00  6.722e-18  4.770e-18  0.000e+00 -4.163e-17  0.000e+00]\n",
      " [-5.985e-17  1.288e-16  9.194e-17 -1.022e-16  5.204e-17  0.000e+00]\n",
      " [-1.388e-17  1.041e-17 -2.602e-18  9.216e-18 -2.914e-16  0.000e+00]\n",
      " [ 0.000e+00 -2.575e-18  1.952e-18 -3.469e-18  4.580e-16  0.000e+00]\n",
      " [ 2.429e-17 -1.414e-15 -2.992e-17  1.883e-16  3.469e-16  0.000e+00]\n",
      " [-1.518e-18  4.120e-18  5.074e-17 -1.935e-17  9.714e-16  0.000e+00]]\n"
     ]
    }
   ],
   "source": [
    "impact.run(beam,order=3)\n",
    "\n",
    "pData0 = impact.readParticleData(1001,ke,mass,freq)\n",
    "pData1 = impact.readParticleData(1002,ke,mass,freq)\n",
    "pData2 = impact.readParticleData(1003,ke,mass,freq)\n",
    "print(pData0[:,:6]-pData2[:,:6])"
   ]
  },
  {
   "cell_type": "code",
   "execution_count": 31,
   "metadata": {
    "scrolled": true
   },
   "outputs": [
    {
     "name": "stdout",
     "output_type": "stream",
     "text": [
      "[[-6.072e-17  4.554e-18  5.204e-18 -1.294e-17 -5.551e-17  0.000e+00]\n",
      " [-1.908e-17  2.407e-17  1.735e-17 -2.579e-17  0.000e+00  0.000e+00]\n",
      " [ 6.939e-18  0.000e+00  1.041e-17 -2.082e-17  2.776e-17  0.000e+00]\n",
      " [-3.469e-18  2.320e-17  3.469e-17  3.621e-17 -1.735e-18  0.000e+00]\n",
      " [-1.735e-17 -4.770e-18  6.072e-18  4.337e-18  2.082e-17  0.000e+00]\n",
      " [-5.985e-17  1.275e-16  8.674e-17 -9.313e-17  5.204e-18  0.000e+00]\n",
      " [ 0.000e+00  2.385e-18 -2.602e-18  1.236e-17  0.000e+00  0.000e+00]\n",
      " [ 0.000e+00 -4.066e-20  1.301e-18 -3.849e-18  0.000e+00  0.000e+00]\n",
      " [ 3.123e-17 -1.001e-15 -3.719e-17  5.587e-16  5.551e-17  0.000e+00]\n",
      " [-2.385e-18  3.578e-18  3.773e-17 -1.588e-17 -5.551e-17  0.000e+00]]\n"
     ]
    }
   ],
   "source": [
    "impact.run(beam,order=1)\n",
    "\n",
    "pData0 = impact.readParticleData(1001,ke,mass,freq)\n",
    "pData1 = impact.readParticleData(1002,ke,mass,freq)\n",
    "pData2 = impact.readParticleData(1003,ke,mass,freq)\n",
    "print(pData0[:,:6]-pData2[:,:6])"
   ]
  },
  {
   "cell_type": "markdown",
   "metadata": {},
   "source": [
    "# 6. Nonlinear Insert sliced"
   ]
  },
  {
   "cell_type": "code",
   "execution_count": 32,
   "metadata": {},
   "outputs": [],
   "source": [
    "NL0 = impact.getElem('nonlinear_insert_sliced')\n",
    "NL0.length = 0.9\n",
    "NL1 = copy(NL0)\n",
    "NL1.start_position = 0.9"
   ]
  },
  {
   "cell_type": "code",
   "execution_count": 33,
   "metadata": {},
   "outputs": [],
   "source": [
    "elemF = [NL0,NL1]\n",
    "\n",
    "elemB = copy([NL1,NL0])\n",
    "elemB[0].length =-0.9\n",
    "elemB[1].length =-0.9\n",
    "\n",
    "testLat = copy(lattice)\n",
    "testLat.pop(2)\n",
    "testLat.pop(3)\n",
    "testLat = testLat[:2] + elemF + [testLat[2]] + elemB + [testLat[-1]]\n",
    "\n",
    "impact.writeInputFile(beam,lattice);"
   ]
  },
  {
   "cell_type": "code",
   "execution_count": 34,
   "metadata": {
    "scrolled": false
   },
   "outputs": [
    {
     "name": "stdout",
     "output_type": "stream",
     "text": [
      "[[-1.735e-18 -1.323e-17 -2.082e-17 -3.036e-18  2.776e-17  0.000e+00]\n",
      " [-1.908e-17  6.722e-18  0.000e+00 -1.976e-17  0.000e+00  0.000e+00]\n",
      " [ 1.908e-17 -1.236e-17 -9.541e-18 -2.418e-17 -6.939e-17  0.000e+00]\n",
      " [ 3.469e-18  1.236e-17  7.806e-18 -9.107e-18 -2.949e-17  0.000e+00]\n",
      " [ 0.000e+00  6.722e-18  4.770e-18  0.000e+00 -4.163e-17  0.000e+00]\n",
      " [-5.985e-17  1.288e-16  9.194e-17 -1.022e-16  5.204e-17  0.000e+00]\n",
      " [-1.388e-17  1.041e-17 -2.602e-18  9.216e-18 -2.914e-16  0.000e+00]\n",
      " [ 0.000e+00 -2.575e-18  1.952e-18 -3.469e-18  4.580e-16  0.000e+00]\n",
      " [ 2.429e-17 -1.414e-15 -2.992e-17  1.883e-16  3.469e-16  0.000e+00]\n",
      " [-1.518e-18  4.120e-18  5.074e-17 -1.935e-17  9.714e-16  0.000e+00]]\n"
     ]
    }
   ],
   "source": [
    "impact.run(beam,order=3)\n",
    "\n",
    "pData0 = impact.readParticleData(1001,ke,mass,freq)\n",
    "pData1 = impact.readParticleData(1002,ke,mass,freq)\n",
    "pData2 = impact.readParticleData(1003,ke,mass,freq)\n",
    "print(pData0[:,:6]-pData2[:,:6])"
   ]
  },
  {
   "cell_type": "code",
   "execution_count": 35,
   "metadata": {
    "scrolled": true
   },
   "outputs": [
    {
     "name": "stdout",
     "output_type": "stream",
     "text": [
      "[[-6.072e-17  4.554e-18  5.204e-18 -1.294e-17 -5.551e-17  0.000e+00]\n",
      " [-1.908e-17  2.407e-17  1.735e-17 -2.579e-17  0.000e+00  0.000e+00]\n",
      " [ 6.939e-18  0.000e+00  1.041e-17 -2.082e-17  2.776e-17  0.000e+00]\n",
      " [-3.469e-18  2.320e-17  3.469e-17  3.621e-17 -1.735e-18  0.000e+00]\n",
      " [-1.735e-17 -4.770e-18  6.072e-18  4.337e-18  2.082e-17  0.000e+00]\n",
      " [-5.985e-17  1.275e-16  8.674e-17 -9.313e-17  5.204e-18  0.000e+00]\n",
      " [ 0.000e+00  2.385e-18 -2.602e-18  1.236e-17  0.000e+00  0.000e+00]\n",
      " [ 0.000e+00 -4.066e-20  1.301e-18 -3.849e-18  0.000e+00  0.000e+00]\n",
      " [ 3.123e-17 -1.001e-15 -3.719e-17  5.587e-16  5.551e-17  0.000e+00]\n",
      " [-2.385e-18  3.578e-18  3.773e-17 -1.588e-17 -5.551e-17  0.000e+00]]\n"
     ]
    }
   ],
   "source": [
    "impact.run(beam,order=1)\n",
    "\n",
    "pData0 = impact.readParticleData(1001,ke,mass,freq)\n",
    "pData1 = impact.readParticleData(1002,ke,mass,freq)\n",
    "pData2 = impact.readParticleData(1003,ke,mass,freq)\n",
    "print(pData0[:,:6]-pData2[:,:6])"
   ]
  },
  {
   "cell_type": "markdown",
   "metadata": {},
   "source": [
    "# 7. Linear matrix map (toy model compoenent)"
   ]
  },
  {
   "cell_type": "code",
   "execution_count": 36,
   "metadata": {},
   "outputs": [
    {
     "data": {
      "text/plain": [
       "0"
      ]
     },
     "execution_count": 36,
     "metadata": {},
     "output_type": "execute_result"
    }
   ],
   "source": [
    "elemF = impact.getElem('linear_matrix_map')\n",
    "elemF.nonlinear_insert_length = 1.8\n",
    "elemF.nonlinear_insert_tuneAdvance = 0.3034496449165134\n",
    "elemF.tune_advance = 0.22\n",
    "\n",
    "elemB = copy(elemF)\n",
    "elemB.tune_advance =-elemF.tune_advance\n",
    "elemB.nonlinear_insert_tuneAdvance =-elemF.nonlinear_insert_tuneAdvance\n",
    "elemB.nonlinear_insert_length =-elemF.nonlinear_insert_length\n",
    "\n",
    "lattice[2] = elemF\n",
    "lattice[4] = elemB\n",
    "\n",
    "impact.writeInputFile(beam,lattice);\n",
    "impact.run(order=order)"
   ]
  },
  {
   "cell_type": "code",
   "execution_count": 37,
   "metadata": {
    "scrolled": false
   },
   "outputs": [
    {
     "name": "stdout",
     "output_type": "stream",
     "text": [
      "[[ 0.000e+00 -4.337e-19  0.000e+00  8.132e-19  0.000e+00  0.000e+00]\n",
      " [ 0.000e+00  2.168e-19  0.000e+00 -7.047e-19  0.000e+00  0.000e+00]\n",
      " [ 0.000e+00  0.000e+00  0.000e+00  0.000e+00  0.000e+00  0.000e+00]\n",
      " [ 0.000e+00  0.000e+00  0.000e+00 -4.337e-19  0.000e+00  0.000e+00]\n",
      " [ 0.000e+00  4.337e-19  0.000e+00  0.000e+00  0.000e+00  0.000e+00]\n",
      " [ 0.000e+00  0.000e+00  0.000e+00 -1.084e-19  0.000e+00  0.000e+00]\n",
      " [ 0.000e+00 -8.674e-19  0.000e+00 -2.168e-19  0.000e+00  0.000e+00]\n",
      " [ 0.000e+00  7.860e-19  0.000e+00 -1.626e-19  0.000e+00  0.000e+00]\n",
      " [ 0.000e+00 -1.301e-18  0.000e+00  0.000e+00  0.000e+00  0.000e+00]\n",
      " [ 0.000e+00  0.000e+00  0.000e+00 -4.337e-19  0.000e+00  0.000e+00]]\n"
     ]
    }
   ],
   "source": [
    "impact.run(beam,order=3)\n",
    "\n",
    "pData0 = impact.readParticleData(1001,ke,mass,freq)\n",
    "pData1 = impact.readParticleData(1002,ke,mass,freq)\n",
    "pData2 = impact.readParticleData(1003,ke,mass,freq)\n",
    "print(pData0[:,:6]-pData2[:,:6])"
   ]
  },
  {
   "cell_type": "code",
   "execution_count": 38,
   "metadata": {
    "scrolled": false
   },
   "outputs": [
    {
     "name": "stdout",
     "output_type": "stream",
     "text": [
      "[[ 0.000e+00 -4.337e-19  0.000e+00  8.132e-19  0.000e+00  0.000e+00]\n",
      " [ 0.000e+00  2.168e-19  0.000e+00 -7.047e-19  0.000e+00  0.000e+00]\n",
      " [ 0.000e+00  0.000e+00  0.000e+00  0.000e+00  0.000e+00  0.000e+00]\n",
      " [ 0.000e+00  0.000e+00  0.000e+00 -4.337e-19  0.000e+00  0.000e+00]\n",
      " [ 0.000e+00  4.337e-19  0.000e+00  0.000e+00  0.000e+00  0.000e+00]\n",
      " [ 0.000e+00  0.000e+00  0.000e+00 -1.084e-19  0.000e+00  0.000e+00]\n",
      " [ 0.000e+00 -8.674e-19  0.000e+00 -2.168e-19  0.000e+00  0.000e+00]\n",
      " [ 0.000e+00  7.860e-19  0.000e+00 -1.626e-19  0.000e+00  0.000e+00]\n",
      " [ 0.000e+00 -1.301e-18  0.000e+00  0.000e+00  0.000e+00  0.000e+00]\n",
      " [ 0.000e+00  0.000e+00  0.000e+00 -4.337e-19  0.000e+00  0.000e+00]]\n"
     ]
    }
   ],
   "source": [
    "impact.run(beam,order=1)\n",
    "\n",
    "pData0 = impact.readParticleData(1001,ke,mass,freq)\n",
    "pData1 = impact.readParticleData(1002,ke,mass,freq)\n",
    "pData2 = impact.readParticleData(1003,ke,mass,freq)\n",
    "print(pData0[:,:6]-pData2[:,:6])"
   ]
  },
  {
   "cell_type": "markdown",
   "metadata": {},
   "source": [
    "# 8. ToyModel"
   ]
  },
  {
   "cell_type": "code",
   "execution_count": 39,
   "metadata": {},
   "outputs": [],
   "source": [
    "elemF = impact.getElem('nonlinear_insert')\n",
    "elemF.tune_advance = 0.3034496449165134\n",
    "elemF.length = 1.8\n",
    "elemF.n_sckick = 100\n",
    "elemF.n_map = 10\n",
    "elemF.strength_t = 0.4\n",
    "elemF.transverse_scale_c = 0.01\n",
    "\n",
    "elemB = copy(elemF)\n",
    "elemB.length =-elemF.length\n",
    "\n",
    "lattice[2] = elemF\n",
    "lattice[4] = elemB"
   ]
  },
  {
   "cell_type": "markdown",
   "metadata": {},
   "source": [
    "### tune advance error = 0"
   ]
  },
  {
   "cell_type": "code",
   "execution_count": 40,
   "metadata": {},
   "outputs": [],
   "source": [
    "elemF1 = impact.getElem('linear_matrix_map')\n",
    "elemF1.nonlinear_insert_length = 1.8\n",
    "elemF1.nonlinear_insert_tuneAdvance = 0.3034496449165134\n",
    "elemF1.tune_advance_x = 0.05\n",
    "elemF1.tune_advance_y = 0.02\n",
    "\n",
    "elemB1 = copy(elemF1)\n",
    "elemB1.tune_advance_x =-elemB1.tune_advance_x\n",
    "elemB1.tune_advance_y =-elemB1.tune_advance_y\n",
    "elemB1.nonlinear_insert_tuneAdvance =-elemB1.nonlinear_insert_tuneAdvance\n",
    "elemB1.nonlinear_insert_length =-elemB1.nonlinear_insert_length\n",
    "\n",
    "lattice.insert(3,elemF1)\n",
    "lattice.insert(5,elemB1)"
   ]
  },
  {
   "cell_type": "code",
   "execution_count": 41,
   "metadata": {},
   "outputs": [
    {
     "name": "stdout",
     "output_type": "stream",
     "text": [
      "loop\n",
      "write_raw_ptcl\n",
      "nonlinear_insert\n",
      "linear_matrix_map\n",
      "write_raw_ptcl\n",
      "linear_matrix_map\n",
      "nonlinear_insert\n",
      "write_raw_ptcl\n"
     ]
    }
   ],
   "source": [
    "for i in range(len(lattice)):\n",
    "    print(lattice[i].type)"
   ]
  },
  {
   "cell_type": "code",
   "execution_count": 42,
   "metadata": {},
   "outputs": [],
   "source": [
    "impact.writeInputFile(beam,lattice);"
   ]
  },
  {
   "cell_type": "code",
   "execution_count": 43,
   "metadata": {
    "scrolled": false
   },
   "outputs": [
    {
     "name": "stdout",
     "output_type": "stream",
     "text": [
      "[[ 8.674e-17  1.626e-17  4.163e-17  2.655e-17  0.000e+00  0.000e+00]\n",
      " [ 5.551e-17  3.990e-17  2.429e-17 -1.016e-18  1.665e-16  0.000e+00]\n",
      " [-1.561e-17  2.819e-18  4.770e-17 -1.453e-17 -1.076e-16  0.000e+00]\n",
      " [ 1.214e-17  1.778e-17  3.296e-17  4.012e-17  3.443e-16  0.000e+00]\n",
      " [ 1.388e-17  1.475e-17 -5.248e-17  1.952e-17  8.327e-17  0.000e+00]\n",
      " [-6.332e-17  1.193e-16  6.896e-17 -6.668e-17 -3.487e-16  0.000e+00]\n",
      " [ 0.000e+00  9.541e-18  0.000e+00  1.073e-17 -1.110e-16  0.000e+00]\n",
      " [ 0.000e+00 -9.487e-20  1.084e-18 -7.373e-18  2.220e-16  0.000e+00]\n",
      " [ 4.510e-17 -1.431e-15 -4.012e-17  3.966e-16  1.249e-16  0.000e+00]\n",
      " [-2.602e-18  6.505e-18  3.643e-17 -1.648e-17 -7.494e-16  0.000e+00]]\n"
     ]
    }
   ],
   "source": [
    "impact.run(beam,order=3)\n",
    "\n",
    "pData0 = impact.readParticleData(1001,ke,mass,freq)\n",
    "pData1 = impact.readParticleData(1002,ke,mass,freq)\n",
    "pData2 = impact.readParticleData(1003,ke,mass,freq)\n",
    "print(pData0[:,:6]-pData2[:,:6])"
   ]
  },
  {
   "cell_type": "code",
   "execution_count": 44,
   "metadata": {
    "scrolled": false
   },
   "outputs": [
    {
     "name": "stdout",
     "output_type": "stream",
     "text": [
      "[[-1.041e-17 -3.946e-17 -9.368e-17  3.890e-18  0.000e+00  0.000e+00]\n",
      " [ 5.204e-18  2.450e-17 -7.806e-18  5.489e-18  1.388e-16  0.000e+00]\n",
      " [-5.204e-18 -2.450e-17  6.939e-18 -2.602e-17  2.776e-17  0.000e+00]\n",
      " [-1.995e-17  3.014e-17  4.163e-17  2.906e-17  6.072e-18  0.000e+00]\n",
      " [ 4.510e-17  1.171e-17 -1.301e-17  4.337e-18  2.082e-17  0.000e+00]\n",
      " [-4.684e-17  1.071e-16  3.036e-17 -1.366e-17  6.765e-17  0.000e+00]\n",
      " [ 0.000e+00  1.453e-17  4.337e-18  7.915e-18  0.000e+00  0.000e+00]\n",
      " [ 1.388e-17 -3.984e-18 -1.301e-18 -2.711e-19 -2.776e-16  0.000e+00]\n",
      " [ 3.469e-18 -2.546e-15 -3.974e-17  3.307e-18 -1.665e-16  0.000e+00]\n",
      " [-4.987e-18  9.107e-18  4.120e-17 -1.290e-17  0.000e+00  0.000e+00]]\n"
     ]
    }
   ],
   "source": [
    "impact.run(beam,order=1)\n",
    "\n",
    "pData0 = impact.readParticleData(1001,ke,mass,freq)\n",
    "pData1 = impact.readParticleData(1002,ke,mass,freq)\n",
    "pData2 = impact.readParticleData(1003,ke,mass,freq)\n",
    "print(pData0[:,:6]-pData2[:,:6])"
   ]
  },
  {
   "cell_type": "code",
   "execution_count": null,
   "metadata": {},
   "outputs": [],
   "source": []
  }
 ],
 "metadata": {
  "kernelspec": {
   "display_name": "Python 3",
   "language": "python",
   "name": "python3"
  },
  "language_info": {
   "codemirror_mode": {
    "name": "ipython",
    "version": 3
   },
   "file_extension": ".py",
   "mimetype": "text/x-python",
   "name": "python",
   "nbconvert_exporter": "python",
   "pygments_lexer": "ipython3",
   "version": "3.6.5"
  }
 },
 "nbformat": 4,
 "nbformat_minor": 2
}
