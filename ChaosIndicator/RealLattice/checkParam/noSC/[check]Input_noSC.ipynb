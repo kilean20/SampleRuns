{
 "cells": [
  {
   "cell_type": "code",
   "execution_count": 1,
   "metadata": {},
   "outputs": [],
   "source": [
    "import numpy as np\n",
    "import pImpactR as impact\n",
    "from copy import deepcopy as copy\n",
    "import matplotlib.pyplot as plt"
   ]
  },
  {
   "cell_type": "code",
   "execution_count": 2,
   "metadata": {},
   "outputs": [],
   "source": [
    "np.set_printoptions(formatter={'float': lambda x: format(x, '1.2E')})\n",
    "nTurn = 128\n",
    "errIndex = 0\n",
    "betx = 1.90650539547772\n",
    "alfx = 1.4082261070868625\n",
    "nCore_y = 4\n",
    "nCore_z = 4\n",
    "n_particles = 100000\n",
    "nx = 0\n",
    "NL_t = 0.4\n",
    "NL_c = 0.01"
   ]
  },
  {
   "cell_type": "markdown",
   "metadata": {},
   "source": [
    "# 1. Preparation"
   ]
  },
  {
   "cell_type": "code",
   "execution_count": 3,
   "metadata": {
    "scrolled": false
   },
   "outputs": [
    {
     "name": "stdout",
     "output_type": "stream",
     "text": [
      "reading ImpactZ input file (\u001b[92mtest_IOTA.in\u001b[0m)\n",
      "  : mpi task info .............................done\n",
      "  : simulation control parameters .............done\n",
      "  : space charge field solver, mesh info ......done\n",
      "  : dist-type,restart,subcycle,#of state ......done\n",
      "  : Multiple Charge State info ................done\n",
      "  : particle distribution info ................done\n",
      "  : beam reference orbit info .................done\n",
      "  : converting impact dist to twiss param......done\n",
      "  : lattice info ..............................done\n"
     ]
    }
   ],
   "source": [
    "beam, lattice = impact.readInputFile('test_IOTA.in')\n",
    "beam.current = 0.0"
   ]
  },
  {
   "cell_type": "code",
   "execution_count": 4,
   "metadata": {},
   "outputs": [],
   "source": [
    "beam.nCore_y=nCore_y\n",
    "beam.nCore_z=nCore_z"
   ]
  },
  {
   "cell_type": "code",
   "execution_count": 5,
   "metadata": {},
   "outputs": [
    {
     "name": "stdout",
     "output_type": "stream",
     "text": [
      "0.001460964633548756\n"
     ]
    }
   ],
   "source": [
    "print(beam.distribution.emitx/NL_c**2)"
   ]
  },
  {
   "cell_type": "markdown",
   "metadata": {},
   "source": [
    "### 1.2. generate particles"
   ]
  },
  {
   "cell_type": "markdown",
   "metadata": {},
   "source": [
    "##### 1.2.1. generate pData"
   ]
  },
  {
   "cell_type": "code",
   "execution_count": 6,
   "metadata": {},
   "outputs": [
    {
     "name": "stdout",
     "output_type": "stream",
     "text": [
      "input error <- sum(beam.multi_charge.n_particles) not qual to beam.n_particles\n",
      "  ... enforcing  beam.multi_charge.n_particles[0] to beam.n_particles\n",
      "input error <- beam.multi_charge.current[0] not qual to beam.current\n",
      "  ... enforcing  beam.multi_charge.current[0] to beam.current\n"
     ]
    },
    {
     "data": {
      "text/plain": [
       "0"
      ]
     },
     "execution_count": 6,
     "metadata": {},
     "output_type": "execute_result"
    }
   ],
   "source": [
    "beamtmp = copy(beam)\n",
    "beamtmp.n_particles=n_particles\n",
    "beamtmp.distribution.distribution_type = 'IOTA_Waterbag'\n",
    "beamtmp.distribution.NL_t = NL_t\n",
    "beamtmp.distribution.NL_c = NL_c\n",
    "\n",
    "\n",
    "impact.writeInputFile(beamtmp,[]);\n",
    "impact.run(beamtmp)"
   ]
  },
  {
   "cell_type": "code",
   "execution_count": 7,
   "metadata": {},
   "outputs": [
    {
     "name": "stdout",
     "output_type": "stream",
     "text": [
      "(100000, 9)\n"
     ]
    }
   ],
   "source": [
    "ke = beamtmp.kinetic_energy\n",
    "mass = beamtmp.mass\n",
    "freq = beamtmp.frequency\n",
    "pData = impact.readParticleData(-111110,ke,mass,freq)\n",
    "print(pData.shape)"
   ]
  },
  {
   "cell_type": "markdown",
   "metadata": {},
   "source": [
    "##### 1.2.2. check pData"
   ]
  },
  {
   "cell_type": "code",
   "execution_count": 8,
   "metadata": {
    "scrolled": false
   },
   "outputs": [
    {
     "data": {
      "image/png": "[encoded data removed]",
      "text/plain": [
       "<Figure size 741.6x216 with 3 Axes>"
      ]
     },
     "metadata": {},
     "output_type": "display_data"
    }
   ],
   "source": [
    "plt.figure(figsize=[10.3,3])\n",
    "plt.subplot(1,3,1)\n",
    "plt.scatter(pData[:,0],pData[:,1],s=0.1)\n",
    "plt.subplot(1,3,2)\n",
    "plt.scatter(pData[:,0],pData[:,2],s=0.1)\n",
    "plt.subplot(1,3,3)\n",
    "plt.scatter(pData[:,4],pData[:,5],s=0.1)\n",
    "plt.tight_layout()"
   ]
  },
  {
   "cell_type": "markdown",
   "metadata": {},
   "source": [
    "##### 1.2.3. generate testP"
   ]
  },
  {
   "cell_type": "code",
   "execution_count": 9,
   "metadata": {
    "scrolled": false
   },
   "outputs": [
    {
     "name": "stdout",
     "output_type": "stream",
     "text": [
      "initial npt= 0\n"
     ]
    }
   ],
   "source": [
    "testP = 0.0\n",
    "sig = 0.01\n",
    "k=0\n",
    "q_m = beamtmp.multi_charge.q_m[0]\n",
    "pTest = []\n",
    "for x in np.linspace(-0.01,0.01,nx):\n",
    "    for y in np.linspace(-0.01,0.01,nx):\n",
    "        if x**2+y**2<=sig**2 :\n",
    "            k+=1\n",
    "            pTest.append([x,0.0,y,0.0,0.0,0.0,q_m,0.0,k])            \n",
    "            \n",
    "pTest = np.array(pTest)\n",
    "nptTest = len(pTest)\n",
    "print('initial npt=',nptTest)"
   ]
  },
  {
   "cell_type": "markdown",
   "metadata": {},
   "source": [
    "##### 1.2.4. combine pData, pTest  and Check"
   ]
  },
  {
   "cell_type": "code",
   "execution_count": 10,
   "metadata": {
    "scrolled": true
   },
   "outputs": [
    {
     "name": "stdout",
     "output_type": "stream",
     "text": [
      "(100000, 9)\n"
     ]
    }
   ],
   "source": [
    "pData[:,8] = pData[:,8] + nptTest\n",
    "if nptTest>0:\n",
    "    pData = np.concatenate((pTest,pData),axis=0)\n",
    "print(pData.shape)\n",
    "impact.writeParticleData(pData, ke, mass, freq)"
   ]
  },
  {
   "cell_type": "code",
   "execution_count": 11,
   "metadata": {},
   "outputs": [
    {
     "name": "stdout",
     "output_type": "stream",
     "text": [
      "input error <- sum(beam.multi_charge.n_particles) not qual to beam.n_particles\n",
      "  ... enforcing  beam.multi_charge.n_particles[0] to beam.n_particles\n",
      "input error <- beam.multi_charge.current[0] not qual to beam.current\n",
      "  ... enforcing  beam.multi_charge.current[0] to beam.current\n"
     ]
    },
    {
     "data": {
      "text/plain": [
       "0"
      ]
     },
     "execution_count": 11,
     "metadata": {},
     "output_type": "execute_result"
    }
   ],
   "source": [
    "beam.n_particles = n_particles + nptTest\n",
    "impact.writeInputFile(beam,[]);\n",
    "impact.run(beam)"
   ]
  },
  {
   "cell_type": "code",
   "execution_count": 12,
   "metadata": {
    "scrolled": true
   },
   "outputs": [
    {
     "data": {
      "image/png": "[encoded data removed]",
      "text/plain": [
       "<Figure size 504x216 with 2 Axes>"
      ]
     },
     "metadata": {},
     "output_type": "display_data"
    }
   ],
   "source": [
    "pData = impact.readParticleData(-111110, ke, mass, freq)\n",
    "plt.figure(figsize=[7,3])\n",
    "plt.subplot(1,2,1)\n",
    "plt.scatter(pData[nptTest:,0],pData[nptTest:,2],s=0.1);\n",
    "plt.subplot(1,2,2)\n",
    "plt.scatter(pData[:nptTest,0],pData[:nptTest,2],s=0.1);"
   ]
  },
  {
   "cell_type": "markdown",
   "metadata": {},
   "source": [
    "### 1.3 adjust lattice"
   ]
  },
  {
   "cell_type": "code",
   "execution_count": 13,
   "metadata": {},
   "outputs": [],
   "source": [
    "lattice[0].turns = 2*nTurn\n",
    "for i in range(len(lattice)):\n",
    "    if 'length' in lattice[i].keys():\n",
    "        lattice[i].n_sckick = int(lattice[i].length*30)\n",
    "        if lattice[i].type in ['nonlinear_insert','dipole']:\n",
    "            lattice[i].n_sckick = int(lattice[i].length*60)\n",
    "            lattice[i].n_map = 5\n",
    "        else:\n",
    "            lattice[i].n_map = 2\n",
    "        \n",
    "lattice = [ item for item in lattice if not item.type == 'write_raw_ptcl' ]"
   ]
  },
  {
   "cell_type": "markdown",
   "metadata": {},
   "source": [
    "# 2. Run"
   ]
  },
  {
   "cell_type": "code",
   "execution_count": 14,
   "metadata": {},
   "outputs": [
    {
     "name": "stdout",
     "output_type": "stream",
     "text": [
      "===========================\n",
      "=========== run ===========\n",
      "===========================\n"
     ]
    }
   ],
   "source": [
    "print('===========================')\n",
    "print('=========== run ===========')\n",
    "print('===========================')"
   ]
  },
  {
   "cell_type": "code",
   "execution_count": 15,
   "metadata": {},
   "outputs": [],
   "source": [
    "impact.writeInputFile(beam,lattice) \n",
    "#impact.run(beam)"
   ]
  },
  {
   "cell_type": "code",
   "execution_count": 17,
   "metadata": {},
   "outputs": [
    {
     "data": {
      "text/plain": [
       "[<matplotlib.lines.Line2D at 0x7f97e53479b0>]"
      ]
     },
     "execution_count": 17,
     "metadata": {},
     "output_type": "execute_result"
    },
    {
     "data": {
      "image/png": "[encoded data removed]",
      "text/plain": [
       "<Figure size 576x216 with 2 Axes>"
      ]
     },
     "metadata": {},
     "output_type": "display_data"
    }
   ],
   "source": [
    "Inv = np.loadtxt('fort.81')\n",
    "plt.figure(figsize=(8,3))\n",
    "plt.subplot(1,2,1)\n",
    "plt.plot(Inv[:,1]) \n",
    "plt.subplot(1,2,2)\n",
    "plt.plot(Inv[:,2])"
   ]
  },
  {
   "cell_type": "code",
   "execution_count": 18,
   "metadata": {},
   "outputs": [
    {
     "name": "stdout",
     "output_type": "stream",
     "text": [
      "!================= Beam & Control Parameters ================= \r\n",
      "8 4 \r\n",
      "6 100000 1 0 1 \r\n",
      "64 64 1025 7 0.05 0.05 0.1 \r\n",
      "23 0 0 1 \r\n",
      "100000 \r\n",
      "0.0 \r\n",
      "1.0657889726792521e-09 \r\n",
      "0.0007108541000000002 7.481793000000001e-05 0.8153394 1.0 1.0 0.0 0.0 \r\n",
      "0.0007108541000000002 7.481793000000001e-05 0.8153394 1.0 1.0 0.0 0.0 \r\n",
      "2.2092772151898727 1e-14 0.0 1.0 1.0 0.0 0.0 \r\n",
      "0.0 2500000.0 938272045.0 1.0 30000000.0 0.0 \r\n",
      "!========================== Lattice ========================== \r\n",
      "0.0 0 0 -16 0.0 256 / \r\n",
      "0.0 0 95 -8 64 / \r\n",
      "1.8 108 5 6 0.4 0.01 0.3034496449165134 10.0 / \r\n",
      "0.0 0 98 -8 64 / \r\n",
      "0.045 1 2 0 1.0 / \r\n",
      "0.1075 3 2 0 1.0 / \r\n",
      "0.21 6 2 1 -8.218039338095238 -1 0.15 0.0 0.0 0.0 0.0 0.0 / \r\n",
      "0.13 3 2 0 1.0 / \r\n",
      "0.21 6 2 1 14.27877214761905 -1 0.15 0.0 0.0 0.0 0.0 0.0 / \r\n",
      "0.13 3 2 0 1.0 / \r\n",
      "0.21 6 2 1 -11.935380171428573 -1 0.15 0.0 0.0 0.0 0.0 0.0 / \r\n",
      "0.0725 2 2 0 1.0 / \r\n",
      "0.1 3 2 0 1.0 / \r\n",
      "0.2 6 2 0 1.0 / \r\n",
      "0.7330382858 43 5 4 1.047197551 0.0 350 0.058 0.0 0.0 0.0 0.0 0.5 / \r\n",
      "0.2 6 2 0 1.0 / \r\n",
      "0.1 3 2 0 1.0 / \r\n",
      "0.055 1 2 0 1.0 / \r\n",
      "0.1075 3 2 0 1.0 / \r\n",
      "0.21 6 2 1 -13.186713890476192 -1 0.15 0.0 0.0 0.0 0.0 0.0 / \r\n",
      "0.1275 3 2 0 1.0 / \r\n",
      "0.05 1 2 0 1.0 / \r\n",
      "0.0 0 0 5 0.0 0.0 0.0 0.15 0.0 0.0 0.0 / \r\n",
      "0.05 1 2 0 1.0 / \r\n",
      "0.1275 3 2 0 1.0 / \r\n",
      "0.21 6 2 1 11.991141561904762 -1 0.15 0.0 0.0 0.0 0.0 0.0 / \r\n",
      "0.127500001 3 2 0 1.0 / \r\n",
      "0.05 1 2 0 1.0 / \r\n",
      "0.0 0 0 5 0.0 0.0 0.0 0.15 0.0 0.0 0.0 / \r\n",
      "0.05 1 2 0 1.0 / \r\n",
      "0.1275 3 2 0 1.0 / \r\n",
      "0.21 6 2 1 -13.57151891904762 -1 0.15 0.0 0.0 0.0 0.0 0.0 / \r\n",
      "0.1075 3 2 0 1.0 / \r\n",
      "0.055 1 2 0 1.0 / \r\n",
      "0.1 3 2 0 1.0 / \r\n",
      "0.2 6 2 0 1.0 / \r\n",
      "0.7330382858 43 5 4 1.047197551 0.0 350 0.058 0.0 0.0 0.0 0.0 0.5 / \r\n",
      "0.355 10 2 0 1.0 / \r\n",
      "0.135 4 2 0 1.0 / \r\n",
      "0.1 3 2 0 1.0 / \r\n",
      "0.0725 2 2 0 1.0 / \r\n",
      "0.21 6 2 1 -6.521642300000001 -1 0.15 0.0 0.0 0.0 0.0 0.0 / \r\n",
      "0.16 4 2 0 1.0 / \r\n",
      "0.05 1 2 0 1.0 / \r\n",
      "0.0 0 0 5 0.0 0.0 0.0 0.15 0.0 0.0 0.0 / \r\n",
      "0.05 1 2 0 1.0 / \r\n",
      "0.16 4 2 0 1.0 / \r\n",
      "0.21 6 2 1 4.6491386100000005 -1 0.15 0.0 0.0 0.0 0.0 0.0 / \r\n",
      "0.4625 13 2 0 1.0 / \r\n",
      "0.7 21 2 0 1.0 / \r\n",
      "0.4625 13 2 0 1.0 / \r\n",
      "0.21 6 2 1 -5.520378319047619 -1 0.15 0.0 0.0 0.0 0.0 0.0 / \r\n",
      "0.16 4 2 0 1.0 / \r\n",
      "0.1 3 2 0 1.0 / \r\n",
      "0.16 4 2 0 1.0 / \r\n",
      "0.21 6 2 1 5.484403228571428 -1 0.15 0.0 0.0 0.0 0.0 0.0 / \r\n",
      "0.3075 9 2 0 1.0 / \r\n",
      "0.355 10 2 0 1.0 / \r\n",
      "0.3665191429 21 5 4 0.5235987756 0.0 350 0.058 0.0 0.0 0.0 0.0 0.5 / \r\n",
      "0.355 10 2 0 1.0 / \r\n",
      "0.2075 6 2 0 1.0 / \r\n",
      "0.21 6 2 1 -4.98152279047619 -1 0.15 0.0 0.0 0.0 0.0 0.0 / \r\n",
      "0.0725 2 2 0 1.0 / \r\n",
      "0.1 3 2 0 1.0 / \r\n",
      "0.955 28 2 0 1.0 / \r\n",
      "0.1075 3 2 0 1.0 / \r\n",
      "0.21 6 2 1 5.479306747619048 -1 0.15 0.0 0.0 0.0 0.0 0.0 / \r\n",
      "0.0725 2 2 0 1.0 / \r\n",
      "0.05 1 2 0 1.0 / \r\n",
      "0.0 0 0 5 0.0 0.0 0.0 0.15 0.0 0.0 0.0 / \r\n",
      "0.05 1 2 0 1.0 / \r\n",
      "0.02 0 2 0 1.0 / \r\n",
      "0.1 3 2 0 1.0 / \r\n",
      "0.3425 10 2 0 1.0 / \r\n",
      "0.05 1 2 0 1.0 / \r\n",
      "0.0 0 0 5 0.0 0.0 0.0 0.15 0.0 0.0 0.0 / \r\n",
      "0.05 1 2 0 1.0 / \r\n",
      "0.0725 2 2 0 1.0 / \r\n",
      "0.21 6 2 1 -6.669868261904763 -1 0.15 0.0 0.0 0.0 0.0 0.0 / \r\n",
      "0.0725 2 2 0 1.0 / \r\n",
      "0.05 1 2 0 1.0 / \r\n",
      "0.0 0 0 5 0.0 0.0 0.0 0.15 0.0 0.0 0.0 / \r\n",
      "0.05 1 2 0 1.0 / \r\n",
      "0.3425 10 2 0 1.0 / \r\n",
      "0.1 3 2 0 1.0 / \r\n",
      "0.02 0 2 0 1.0 / \r\n",
      "0.05 1 2 0 1.0 / \r\n",
      "0.0 0 0 5 0.0 0.0 0.0 0.15 0.0 0.0 0.0 / \r\n",
      "0.05 1 2 0 1.0 / \r\n",
      "0.0725 2 2 0 1.0 / \r\n",
      "0.21 6 2 1 5.479306747619048 -1 0.15 0.0 0.0 0.0 0.0 0.0 / \r\n",
      "0.1075 3 2 0 1.0 / \r\n",
      "0.955 28 2 0 1.0 / \r\n",
      "0.1 3 2 0 1.0 / \r\n",
      "0.0725 2 2 0 1.0 / \r\n",
      "0.21 6 2 1 -4.98152279047619 -1 0.15 0.0 0.0 0.0 0.0 0.0 / \r\n",
      "0.2075 6 2 0 1.0 / \r\n",
      "0.355 10 2 0 1.0 / \r\n",
      "0.3665191429 21 5 4 0.5235987756 0.0 350 0.058 0.0 0.0 0.0 0.0 0.5 / \r\n",
      "0.355 10 2 0 1.0 / \r\n",
      "0.3075 9 2 0 1.0 / \r\n",
      "0.21 6 2 1 5.484403228571428 -1 0.15 0.0 0.0 0.0 0.0 0.0 / \r\n",
      "0.16 4 2 0 1.0 / \r\n",
      "0.1 3 2 0 1.0 / \r\n",
      "0.16 4 2 0 1.0 / \r\n",
      "0.21 6 2 1 -5.520378319047619 -1 0.15 0.0 0.0 0.0 0.0 0.0 / \r\n",
      "0.7875 23 2 0 1.0 / \r\n",
      "0.05 1 2 0 1.0 / \r\n",
      "0.7875 23 2 0 1.0 / \r\n",
      "0.21 6 2 1 4.6491386100000005 -1 0.15 0.0 0.0 0.0 0.0 0.0 / \r\n",
      "0.16 4 2 0 1.0 / \r\n",
      "0.05 1 2 0 1.0 / \r\n",
      "0.0 0 0 5 0.0 0.0 0.0 0.15 0.0 0.0 0.0 / \r\n",
      "0.05 1 2 0 1.0 / \r\n",
      "0.16 4 2 0 1.0 / \r\n",
      "0.21 6 2 1 -6.521642300000001 -1 0.15 0.0 0.0 0.0 0.0 0.0 / \r\n",
      "0.0725 2 2 0 1.0 / \r\n",
      "0.1 3 2 0 1.0 / \r\n",
      "0.135 4 2 0 1.0 / \r\n",
      "0.355 10 2 0 1.0 / \r\n",
      "0.7330382858 43 5 4 1.047197551 0.0 350 0.058 0.0 0.0 0.0 0.0 0.5 / \r\n",
      "0.2 6 2 0 1.0 / \r\n",
      "0.1 3 2 0 1.0 / \r\n",
      "0.055 1 2 0 1.0 / \r\n",
      "0.1075 3 2 0 1.0 / \r\n",
      "0.21 6 2 1 -13.57151891904762 -1 0.15 0.0 0.0 0.0 0.0 0.0 / \r\n",
      "0.1275 3 2 0 1.0 / \r\n",
      "0.05 1 2 0 1.0 / \r\n",
      "0.0 0 0 5 0.0 0.0 0.0 0.15 0.0 0.0 0.0 / \r\n",
      "0.05 1 2 0 1.0 / \r\n",
      "0.1275 3 2 0 1.0 / \r\n",
      "0.21 6 2 1 11.991141561904762 -1 0.15 0.0 0.0 0.0 0.0 0.0 / \r\n",
      "0.1275 3 2 0 1.0 / \r\n",
      "0.05 1 2 0 1.0 / \r\n",
      "0.0 0 0 5 0.0 0.0 0.0 0.15 0.0 0.0 0.0 / \r\n",
      "0.05 1 2 0 1.0 / \r\n",
      "0.1275 3 2 0 1.0 / \r\n",
      "0.21 6 2 1 -13.186713890476192 -1 0.15 0.0 0.0 0.0 0.0 0.0 / \r\n",
      "0.1075 3 2 0 1.0 / \r\n",
      "0.055 1 2 0 1.0 / \r\n",
      "0.1 3 2 0 1.0 / \r\n",
      "0.2 6 2 0 1.0 / \r\n",
      "0.7330382858 43 5 4 1.047197551 0.0 350 0.058 0.0 0.0 0.0 0.0 0.5 / \r\n",
      "0.2 6 2 0 1.0 / \r\n",
      "0.1 3 2 0 1.0 / \r\n",
      "0.0725 2 2 0 1.0 / \r\n",
      "0.21 6 2 1 -11.935380171428573 -1 0.15 0.0 0.0 0.0 0.0 0.0 / \r\n",
      "0.13 3 2 0 1.0 / \r\n",
      "0.21 6 2 1 14.27877214761905 -1 0.15 0.0 0.0 0.0 0.0 0.0 / \r\n",
      "0.13 3 2 0 1.0 / \r\n",
      "0.21 6 2 1 -8.218039338095238 -1 0.15 0.0 0.0 0.0 0.0 0.0 / \r\n",
      "0.1075 3 2 0 1.0 / \r\n",
      "0.045 1 2 0 1.0 / \r\n",
      "0.1 3 2 0 1.0 / \r\n",
      "0.1 3 2 0 1.0 / \r\n",
      "0.1 3 2 0 1.0 / \r\n",
      "0.1 3 2 0 1.0 / \r\n",
      "0.1 3 2 0 1.0 / \r\n",
      "0.1 3 2 0 1.0 / \r\n",
      "0.1 3 2 0 1.0 / \r\n",
      "0.1 3 2 0 1.0 / \r\n",
      "0.1 3 2 0 1.0 / \r\n",
      "0.1 3 2 0 1.0 / \r\n",
      "0.1 3 2 0 1.0 / \r\n",
      "0.1 3 2 0 1.0 / \r\n",
      "0.1 3 2 0 1.0 / \r\n",
      "0.1 3 2 0 1.0 / \r\n",
      "0.1 3 2 0 1.0 / \r\n",
      "0.1 3 2 0 1.0 / \r\n",
      "0.1 3 2 0 1.0 / \r\n",
      "0.1 3 2 0 1.0 / \r\n",
      "0.045 1 2 0 1.0 / \r\n",
      "0.1075 3 2 0 1.0 / \r\n",
      "0.21 6 2 1 -8.317527609523811 -1 0.15 0.0 0.0 0.0 0.0 0.0 / \r\n",
      "0.13 3 2 0 1.0 / \r\n",
      "0.21 6 2 1 16.267852290476192 -1 0.15 0.0 0.0 0.0 0.0 0.0 / \r\n",
      "0.13 3 2 0 1.0 / \r\n",
      "0.21 6 2 1 -10.586528238095239 -1 0.15 0.0 0.0 0.0 0.0 0.0 / \r\n",
      "0.0725 2 2 0 1.0 / \r\n",
      "0.1 3 2 0 1.0 / \r\n",
      "0.2 6 2 0 1.0 / \r\n",
      "0.3665191429 21 5 4 0.5235987756 0.0 350 0.058 0.0 0.0 0.0 0.0 0.5 / \r\n",
      "0.11 3 2 0 1.0 / \r\n",
      "0.1 3 2 0 1.0 / \r\n",
      "0.055 1 2 0 1.0 / \r\n",
      "0.1075 3 2 0 1.0 / \r\n",
      "0.21 6 2 1 20.41595203809524 -1 0.15 0.0 0.0 0.0 0.0 0.0 / \r\n",
      "0.135 4 2 0 1.0 / \r\n",
      "0.21 6 2 1 -13.531732180952382 -1 0.15 0.0 0.0 0.0 0.0 0.0 / \r\n",
      "0.1075 3 2 0 1.0 / \r\n",
      "0.055 1 2 0 1.0 / \r\n",
      "0.1 3 2 0 1.0 / \r\n",
      "0.02 0 2 0 1.0 / \r\n",
      "0.05 1 2 0 1.0 / \r\n",
      "0.0 0 0 5 0.0 0.0 0.0 0.15 0.0 0.0 0.0 / \r\n",
      "0.05 1 2 0 1.0 / \r\n",
      "0.17 5 2 0 1.0 / \r\n",
      "0.1 3 2 0 1.0 / \r\n",
      "0.0825 2 2 0 1.0 / \r\n",
      "0.21 6 2 1 13.055833061904762 -1 0.15 0.0 0.0 0.0 0.0 0.0 / \r\n",
      "0.135 4 2 0 1.0 / \r\n",
      "0.21 6 2 1 -9.1519785 -1 0.15 0.0 0.0 0.0 0.0 0.0 / \r\n",
      "0.9325 27 2 0 1.0 / \r\n",
      "0.8925 26 2 0 1.0 / \r\n",
      "0.21 6 2 1 -9.1519785 -1 0.15 0.0 0.0 0.0 0.0 0.0 / \r\n",
      "0.135 4 2 0 1.0 / \r\n",
      "0.21 6 2 1 13.055833061904762 -1 0.15 0.0 0.0 0.0 0.0 0.0 / \r\n",
      "0.0825 2 2 0 1.0 / \r\n",
      "0.1 3 2 0 1.0 / \r\n",
      "0.17 5 2 0 1.0 / \r\n",
      "0.05 1 2 0 1.0 / \r\n",
      "0.0 0 0 5 0.0 0.0 0.0 0.15 0.0 0.0 0.0 / \r\n",
      "0.05 1 2 0 1.0 / \r\n",
      "0.02 0 2 0 1.0 / \r\n",
      "0.1 3 2 0 1.0 / \r\n",
      "0.055 1 2 0 1.0 / \r\n",
      "0.1075 3 2 0 1.0 / \r\n",
      "0.21 6 2 1 -13.531732180952382 -1 0.15 0.0 0.0 0.0 0.0 0.0 / \r\n",
      "0.135 4 2 0 1.0 / \r\n",
      "0.21 6 2 1 20.41595203809524 -1 0.15 0.0 0.0 0.0 0.0 0.0 / \r\n",
      "0.1075 3 2 0 1.0 / \r\n",
      "0.055 1 2 0 1.0 / \r\n",
      "0.1 3 2 0 1.0 / \r\n",
      "0.11 3 2 0 1.0 / \r\n",
      "0.3665191429 21 5 4 0.5235987756 0.0 350 0.058 0.0 0.0 0.0 0.0 0.5 / \r\n",
      "0.2 6 2 0 1.0 / \r\n",
      "0.1 3 2 0 1.0 / \r\n",
      "0.0725 2 2 0 1.0 / \r\n",
      "0.21 6 2 1 -10.586528238095239 -1 0.15 0.0 0.0 0.0 0.0 0.0 / \r\n",
      "0.13 3 2 0 1.0 / \r\n",
      "0.21 6 2 1 16.267852290476192 -1 0.15 0.0 0.0 0.0 0.0 0.0 / \r\n",
      "0.13 3 2 0 1.0 / \r\n",
      "0.21 6 2 1 -8.317527609523811 -1 0.15 0.0 0.0 0.0 0.0 0.0 / \r\n",
      "0.1075 3 2 0 1.0 / \r\n",
      "0.045 1 2 0 1.0 / \r\n",
      "0.0 0 105 -8 64 / \r\n"
     ]
    }
   ],
   "source": [
    "cat test.in"
   ]
  },
  {
   "cell_type": "code",
   "execution_count": null,
   "metadata": {},
   "outputs": [],
   "source": []
  }
 ],
 "metadata": {
  "kernelspec": {
   "display_name": "Python 3",
   "language": "python",
   "name": "python3"
  },
  "language_info": {
   "codemirror_mode": {
    "name": "ipython",
    "version": 3
   },
   "file_extension": ".py",
   "mimetype": "text/x-python",
   "name": "python",
   "nbconvert_exporter": "python",
   "pygments_lexer": "ipython3",
   "version": "3.6.5"
  }
 },
 "nbformat": 4,
 "nbformat_minor": 2
}
