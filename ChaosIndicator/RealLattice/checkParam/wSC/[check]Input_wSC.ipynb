{
 "cells": [
  {
   "cell_type": "code",
   "execution_count": 1,
   "metadata": {},
   "outputs": [],
   "source": [
    "import numpy as np\n",
    "import pImpactR as impact\n",
    "from copy import deepcopy as copy\n",
    "import matplotlib.pyplot as plt\n",
    "from math import ceil"
   ]
  },
  {
   "cell_type": "code",
   "execution_count": 2,
   "metadata": {},
   "outputs": [],
   "source": [
    "np.set_printoptions(formatter={'float': lambda x: format(x, '1.2E')})\n",
    "nTurn = 256\n",
    "errIndex = 0\n",
    "betx = 1.9065054393933862\n",
    "alfx = 1.408226172730429\n",
    "emitx = 6.066503e-6\n",
    "nCore_y = 8\n",
    "nCore_z = 4\n",
    "n_particles = 40000\n",
    "nx = 0\n",
    "NL_t = 0.4\n",
    "NL_c = 0.01"
   ]
  },
  {
   "cell_type": "code",
   "execution_count": 3,
   "metadata": {},
   "outputs": [],
   "source": [
    "# H1 = 0.04005207 "
   ]
  },
  {
   "cell_type": "markdown",
   "metadata": {},
   "source": [
    "# 1. Preparation"
   ]
  },
  {
   "cell_type": "code",
   "execution_count": 4,
   "metadata": {
    "scrolled": false
   },
   "outputs": [
    {
     "name": "stdout",
     "output_type": "stream",
     "text": [
      "reading ImpactZ input file (\u001b[92mtest_IOTA.in\u001b[0m)\n",
      "  : mpi task info .............................done\n",
      "  : simulation control parameters .............done\n",
      "  : space charge field solver, mesh info ......done\n",
      "  : dist-type,restart,subcycle,#of state ......done\n",
      "  : Multiple Charge State info ................done\n",
      "  : particle distribution info ................done\n",
      "  : beam reference orbit info .................done\n",
      "  : converting impact dist to twiss param......done\n",
      "  : lattice info ..............................done\n"
     ]
    }
   ],
   "source": [
    "beam, lattice = impact.readInputFile('test_IOTA.in')"
   ]
  },
  {
   "cell_type": "code",
   "execution_count": 5,
   "metadata": {},
   "outputs": [],
   "source": [
    "beam.nCore_y = nCore_y\n",
    "beam.nCore_z = nCore_z\n",
    "beam.distribution.emitx = emitx\n",
    "beam.n_particles = n_particles\n",
    "\n",
    "ke   = beam.kinetic_energy\n",
    "mass = beam.mass\n",
    "freq = beam.frequency"
   ]
  },
  {
   "cell_type": "code",
   "execution_count": 6,
   "metadata": {
    "scrolled": true
   },
   "outputs": [],
   "source": [
    "beam.n_particles=n_particles\n",
    "beam.distribution.distribution_type = 'IOTA_Waterbag'\n",
    "beam.distribution.NL_t = NL_t\n",
    "beam.distribution.NL_c = NL_c"
   ]
  },
  {
   "cell_type": "markdown",
   "metadata": {},
   "source": [
    "### 1.3 adjust lattice"
   ]
  },
  {
   "cell_type": "code",
   "execution_count": 7,
   "metadata": {},
   "outputs": [],
   "source": [
    "lattice[0].turns = nTurn\n",
    "\n",
    "for i in range(len(lattice)):\n",
    "    if 'length' in lattice[i].keys():\n",
    "        lattice[i].n_sckick = ceil(lattice[i].length*30)\n",
    "        if lattice[i].type in ['nonlinear_insert','dipole']:\n",
    "            lattice[i].n_sckick = ceil(lattice[i].length*60)\n",
    "            lattice[i].n_map = 5\n",
    "        else:\n",
    "            lattice[i].n_map = 2\n",
    "#     if 'pipe_radius' in lattice[i].keys() and lattice[i].type!='dipole':\n",
    "#         lattice[i].pipe_radius = 1.0\n",
    "        \n",
    "lattice = [ item for item in lattice if not item.type == 'write_raw_ptcl' ]"
   ]
  },
  {
   "cell_type": "code",
   "execution_count": 8,
   "metadata": {},
   "outputs": [
    {
     "name": "stdout",
     "output_type": "stream",
     "text": [
      "39.968229715800106\n"
     ]
    }
   ],
   "source": [
    "L=0.0\n",
    "for i in range(len(lattice)):\n",
    "    if 'length' in lattice[i].keys():\n",
    "        L = L+lattice[i].length\n",
    "print(L)"
   ]
  },
  {
   "cell_type": "markdown",
   "metadata": {},
   "source": [
    "# 2. Run"
   ]
  },
  {
   "cell_type": "code",
   "execution_count": 9,
   "metadata": {},
   "outputs": [
    {
     "name": "stdout",
     "output_type": "stream",
     "text": [
      "===========================\n",
      "=========== run ===========\n",
      "===========================\n"
     ]
    }
   ],
   "source": [
    "print('===========================')\n",
    "print('=========== run ===========')\n",
    "print('===========================')"
   ]
  },
  {
   "cell_type": "code",
   "execution_count": null,
   "metadata": {},
   "outputs": [
    {
     "name": "stdout",
     "output_type": "stream",
     "text": [
      "input error <- sum(beam.multi_charge.n_particles) not qual to beam.n_particles\n",
      "  ... enforcing  beam.multi_charge.n_particles[0] to beam.n_particles\n"
     ]
    }
   ],
   "source": [
    "impact.writeInputFile(beam,lattice) \n",
    "impact.run(beam)"
   ]
  },
  {
   "cell_type": "code",
   "execution_count": null,
   "metadata": {},
   "outputs": [],
   "source": [
    "pData = impact.readParticleData(-111110,ke,mass,freq)\n",
    "print(pData.shape)\n",
    "plt.figure(figsize=[10.3,3])\n",
    "plt.subplot(1,3,1)\n",
    "plt.scatter(pData[:,0],pData[:,1],s=0.1)\n",
    "plt.subplot(1,3,2)\n",
    "plt.scatter(pData[:,0],pData[:,2],s=0.1)\n",
    "plt.subplot(1,3,3)\n",
    "plt.scatter(pData[:,4],pData[:,5],s=0.1)\n",
    "plt.tight_layout()"
   ]
  },
  {
   "cell_type": "code",
   "execution_count": null,
   "metadata": {},
   "outputs": [],
   "source": [
    "Inv = np.loadtxt('fort.81')\n",
    "plt.figure(figsize=(8,3))\n",
    "plt.subplot(1,2,1)\n",
    "plt.plot(Inv[:,1])\n",
    "plt.subplot(1,2,2)\n",
    "plt.plot(Inv[:,2])"
   ]
  },
  {
   "cell_type": "code",
   "execution_count": null,
   "metadata": {},
   "outputs": [],
   "source": [
    "plt.figure(figsize=(8,3))\n",
    "plt.subplot(1,2,1)\n",
    "plt.plot(Inv[:,1])\n",
    "plt.ylim(0.040645-0.00002,0.040645+0.000015)\n",
    "plt.subplot(1,2,2)\n",
    "plt.plot(Inv[:,2])"
   ]
  },
  {
   "cell_type": "code",
   "execution_count": null,
   "metadata": {},
   "outputs": [],
   "source": []
  }
 ],
 "metadata": {
  "kernelspec": {
   "display_name": "Python 3",
   "language": "python",
   "name": "python3"
  },
  "language_info": {
   "codemirror_mode": {
    "name": "ipython",
    "version": 3
   },
   "file_extension": ".py",
   "mimetype": "text/x-python",
   "name": "python",
   "nbconvert_exporter": "python",
   "pygments_lexer": "ipython3",
   "version": "3.6.5"
  }
 },
 "nbformat": 4,
 "nbformat_minor": 2
}
