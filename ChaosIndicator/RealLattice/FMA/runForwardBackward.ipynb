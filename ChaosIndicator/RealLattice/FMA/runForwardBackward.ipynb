{
 "cells": [
  {
   "cell_type": "code",
   "execution_count": null,
   "metadata": {},
   "outputs": [],
   "source": [
    "import numpy as np\n",
    "import pImpactR as impact\n",
    "from copy import deepcopy as copy\n",
    "import matplotlib.pyplot as plt\n",
    "from math import ceil\n",
    "import os\n",
    "int=np.vectorize(int)"
   ]
  },
  {
   "cell_type": "code",
   "execution_count": null,
   "metadata": {},
   "outputs": [],
   "source": [
    "np.set_printoptions(formatter={'float': lambda x: format(x, '1.2E')})\n",
    "nturn = 1\n",
    "betx  = 1.9065054393933862\n",
    "alfx  = 1.408226172730429\n",
    "emitx = 6.066503e-6\n",
    "nCore_y = 8\n",
    "nCore_z = 4\n",
    "n_particles = 40000\n",
    "nx   = 100\n",
    "NL_t = 0.4\n",
    "NL_c = 0.01\n",
    "print('singular point = ', NL_c*np.sqrt(betx))\n",
    "pipe_radius = 0.02*np.sqrt(2.0)\n",
    "#pipe_radius = 0.013\n",
    "#pipe_radius = 0.01"
   ]
  },
  {
   "cell_type": "markdown",
   "metadata": {},
   "source": [
    "# 1. Foward"
   ]
  },
  {
   "cell_type": "code",
   "execution_count": null,
   "metadata": {
    "scrolled": false
   },
   "outputs": [],
   "source": [
    "beam, lattice = impact.readInputFile('test_IOTA.in')"
   ]
  },
  {
   "cell_type": "code",
   "execution_count": null,
   "metadata": {},
   "outputs": [],
   "source": [
    "beam.nCore_y = nCore_y\n",
    "beam.nCore_z = nCore_z\n",
    "beam.distribution.emitx = emitx\n",
    "beam.n_particles = n_particles\n",
    "\n",
    "ke   = beam.kinetic_energy\n",
    "mass = beam.mass\n",
    "freq = beam.frequency"
   ]
  },
  {
   "cell_type": "markdown",
   "metadata": {},
   "source": [
    "### 1.1. generate particles"
   ]
  },
  {
   "cell_type": "code",
   "execution_count": null,
   "metadata": {},
   "outputs": [],
   "source": [
    "beamtmp = copy(beam)\n",
    "beamtmp.distribution.distribution_type = 'IOTA_Waterbag'\n",
    "beamtmp.distribution.NL_t = NL_t\n",
    "beamtmp.distribution.NL_c = NL_c\n",
    "noturn = impact.getElem('loop')\n",
    "noturn.turns = 0\n",
    "impact.writeInputFile(beamtmp,[noturn]);\n",
    "impact.run(beamtmp)\n",
    "pData = impact.readParticleData(-111110,ke,mass,freq)"
   ]
  },
  {
   "cell_type": "code",
   "execution_count": null,
   "metadata": {
    "scrolled": false
   },
   "outputs": [],
   "source": [
    "testP = 0.0\n",
    "sig = 0.01\n",
    "k=0\n",
    "q_m = beamtmp.multi_charge.q_m[0]\n",
    "pTest = []\n",
    "for x in np.linspace(-0.01,0.01,nx):\n",
    "    for y in np.linspace(-0.01,0.01,nx):\n",
    "        if x**2+y**2<=sig**2 :\n",
    "            k+=1\n",
    "            pTest.append([x,0.0,y,0.0,0.0,0.0,q_m,0.0,k])            \n",
    "\n",
    "pTest = np.array(pTest)\n",
    "nptTest = len(pTest)\n",
    "print('nptTest=',nptTest)"
   ]
  },
  {
   "cell_type": "code",
   "execution_count": null,
   "metadata": {
    "scrolled": true
   },
   "outputs": [],
   "source": [
    "pData[:,8] = pData[:,8] + nptTest\n",
    "if nptTest>0:\n",
    "    pData = np.concatenate((pTest,pData),axis=0)\n",
    "print(pData.shape)\n",
    "\n",
    "beam.n_particles = n_particles + nptTest\n",
    "impact.writeParticleData(pData, ke, mass, freq)\n",
    "impact.writeInputFile(beam,[noturn]);\n",
    "impact.run(beam)"
   ]
  },
  {
   "cell_type": "code",
   "execution_count": null,
   "metadata": {
    "scrolled": true
   },
   "outputs": [],
   "source": [
    "pDataInit = impact.readParticleData(-111110, ke, mass, freq)\n",
    "plt.figure(figsize=[7,3])\n",
    "plt.subplot(1,2,1)\n",
    "plt.scatter(pDataInit[nptTest:,0],pDataInit[nptTest:,2],s=0.1);\n",
    "plt.subplot(1,2,2)\n",
    "plt.scatter(pDataInit[:nptTest,0],pDataInit[:nptTest,2],s=0.1);"
   ]
  },
  {
   "cell_type": "markdown",
   "metadata": {},
   "source": [
    "### 1.2 adjust lattice"
   ]
  },
  {
   "cell_type": "code",
   "execution_count": null,
   "metadata": {},
   "outputs": [],
   "source": [
    "for i in range(len(lattice)):\n",
    "    if 'length' in lattice[i].keys():\n",
    "        lattice[i].n_sckick = ceil(lattice[i].length*20)\n",
    "        if lattice[i].type in ['nonlinear_insert','dipole']:\n",
    "            lattice[i].n_map = 10\n",
    "        else:\n",
    "            lattice[i].n_map = 2\n",
    "        \n",
    "lattice = [ item for item in lattice if not item.type == 'write_raw_ptcl' ]\n",
    "\n",
    "beam.n_particles = n_particles + nptTest"
   ]
  },
  {
   "cell_type": "markdown",
   "metadata": {},
   "source": [
    "### 1.3 Run"
   ]
  },
  {
   "cell_type": "code",
   "execution_count": null,
   "metadata": {},
   "outputs": [],
   "source": [
    "TBT = impact.getElem('TBT')\n",
    "TBT.file_id = nturn + 60000\n",
    "lattice.insert(1,TBT)\n",
    "\n",
    "lattice[0].turns = nturn\n",
    "for i in range(len(lattice)):\n",
    "    if 'pipe_radius' in lattice[i].keys() and lattice[i].type!='dipole':\n",
    "        lattice[i].pipe_radius = pipe_radius"
   ]
  },
  {
   "cell_type": "code",
   "execution_count": null,
   "metadata": {},
   "outputs": [],
   "source": [
    "impact.writeInputFile(beam,lattice) \n",
    "impact.run(beam)\n",
    "pData0 = impact.readParticleData(-111110,ke,mass,freq)\n",
    "pData1 = impact.readParticleData(-111111,ke,mass,freq)"
   ]
  },
  {
   "cell_type": "markdown",
   "metadata": {},
   "source": [
    "# 2. Backward"
   ]
  },
  {
   "cell_type": "code",
   "execution_count": null,
   "metadata": {},
   "outputs": [],
   "source": [
    "latticeB = copy(lattice[::-1])\n",
    "latticeB.insert(0,copy(lattice[0]))\n",
    "latticeB[0].turns = nturn\n",
    "latticeB.pop()\n",
    "latticeB[-1].file_id = nturn+90000\n",
    "\n",
    "for i in range(len(latticeB)):\n",
    "    if 'length' in latticeB[i]:\n",
    "        latticeB[i].length = -latticeB[i].length\n",
    "    if 'bending_angle' in latticeB[i]:\n",
    "         latticeB[i].bending_angle = -latticeB[i].bending_angle\n",
    "    if 'fringe_field_integration' in latticeB[i]:\n",
    "         latticeB[i].fringe_field_integration = -latticeB[i].fringe_field_integration      \n",
    "    if 'KL_sext' in latticeB[i]:\n",
    "         latticeB[i].KL_sext = -latticeB[i].KL_sext  \n",
    "        \n",
    "impact.writeParticleData(pData1,ke,mass,freq)\n",
    "impact.writeInputFile(beam,latticeB)\n",
    "impact.run(beam)"
   ]
  },
  {
   "cell_type": "code",
   "execution_count": null,
   "metadata": {},
   "outputs": [],
   "source": [
    "pData2 = impact.readParticleData(-111111,ke,mass,freq)\n",
    "sampleIndex = np.array(int(pData2[:8,-1]))"
   ]
  },
  {
   "cell_type": "code",
   "execution_count": null,
   "metadata": {},
   "outputs": [],
   "source": [
    "pData2[:8,:]-pData0[sampleIndex-1,:]"
   ]
  },
  {
   "cell_type": "code",
   "execution_count": null,
   "metadata": {},
   "outputs": [],
   "source": [
    "n=14\n",
    "print(lattice[n],latticeB[-n])"
   ]
  },
  {
   "cell_type": "code",
   "execution_count": null,
   "metadata": {},
   "outputs": [],
   "source": []
  }
 ],
 "metadata": {
  "kernelspec": {
   "display_name": "Python 3",
   "language": "python",
   "name": "python3"
  },
  "language_info": {
   "codemirror_mode": {
    "name": "ipython",
    "version": 3
   },
   "file_extension": ".py",
   "mimetype": "text/x-python",
   "name": "python",
   "nbconvert_exporter": "python",
   "pygments_lexer": "ipython3",
   "version": "3.6.5"
  }
 },
 "nbformat": 4,
 "nbformat_minor": 2
}
