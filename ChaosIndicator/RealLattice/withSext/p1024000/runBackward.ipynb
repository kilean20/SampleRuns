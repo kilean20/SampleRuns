{
 "cells": [
  {
   "cell_type": "code",
   "execution_count": 1,
   "metadata": {},
   "outputs": [],
   "source": [
    "import numpy as np\n",
    "import pImpactR as impact\n",
    "from copy import deepcopy as copy\n",
    "import matplotlib.pyplot as plt\n",
    "from math import ceil\n",
    "import os"
   ]
  },
  {
   "cell_type": "code",
   "execution_count": 2,
   "metadata": {},
   "outputs": [],
   "source": [
    "nTurn = 1024"
   ]
  },
  {
   "cell_type": "markdown",
   "metadata": {},
   "source": [
    "# 1. Preparation"
   ]
  },
  {
   "cell_type": "code",
   "execution_count": 3,
   "metadata": {
    "scrolled": false
   },
   "outputs": [
    {
     "name": "stdout",
     "output_type": "stream",
     "text": [
      "reading ImpactZ input file (\u001b[92mtest_IOTA.in\u001b[0m)\n",
      "  : mpi task info .............................done\n",
      "  : simulation control parameters .............done\n",
      "  : space charge field solver, mesh info ......done\n",
      "  : dist-type,restart,subcycle,#of state ......done\n",
      "  : Multiple Charge State info ................done\n",
      "  : particle distribution info ................done\n",
      "  : beam reference orbit info .................done\n",
      "  : converting impact dist to twiss param......done\n",
      "  : lattice info ..............................done\n"
     ]
    }
   ],
   "source": [
    "beam, lattice = impact.readInputFile('test_IOTA.in')"
   ]
  },
  {
   "cell_type": "code",
   "execution_count": 4,
   "metadata": {},
   "outputs": [],
   "source": [
    "ke   = beam.kinetic_energy\n",
    "mass = beam.mass\n",
    "freq = beam.frequency"
   ]
  },
  {
   "cell_type": "markdown",
   "metadata": {},
   "source": [
    "### adjust lattice"
   ]
  },
  {
   "cell_type": "code",
   "execution_count": 5,
   "metadata": {},
   "outputs": [
    {
     "name": "stdout",
     "output_type": "stream",
     "text": [
      "39.968229715800106\n"
     ]
    }
   ],
   "source": [
    "# L=0.0\n",
    "# for i in range(len(lattice)):\n",
    "#     if 'length' in lattice[i].keys():\n",
    "#         L = L+lattice[i].length\n",
    "# print(L)\n",
    "\n",
    "# for i in range(len(lattice)):\n",
    "#     if 'length' in lattice[i].keys():\n",
    "#         lattice[i].n_sckick = ceil(lattice[i].length*20)\n",
    "#         if lattice[i].type in ['nonlinear_insert','dipole']:\n",
    "#             lattice[i].n_map = 10\n",
    "#         else:\n",
    "#             lattice[i].n_map = 2\n",
    "        \n",
    "lattice = [ item for item in lattice if not item.type == 'write_raw_ptcl' ]\n",
    "lattice = [ item for item in lattice if not item.type == '-8' ]\n",
    "\n",
    "TBT = impact.getElem('TBT')\n",
    "TBT.file_id = nTurn+100000\n",
    "lattice.insert(1,TBT)\n",
    "\n",
    "# lattice.append(impact.getElem('write_raw_ptcl'))\n",
    "# lattice[-1].turn = nTurn\n",
    "# lattice[-1].file_id = -nTurn-100000\n",
    "\n",
    "L=0.0\n",
    "for i in range(len(lattice)):\n",
    "    if 'length' in lattice[i].keys():\n",
    "        L = L+lattice[i].length\n",
    "print(L)"
   ]
  },
  {
   "cell_type": "markdown",
   "metadata": {},
   "source": [
    "### backward lattice"
   ]
  },
  {
   "cell_type": "code",
   "execution_count": 6,
   "metadata": {},
   "outputs": [],
   "source": [
    "latticeB = copy(lattice[::-1])\n",
    "latticeB.insert(0,copy(lattice[0]))\n",
    "latticeB.pop()\n",
    "latticeB[0].turns = nTurn\n",
    "\n",
    "for i in range(len(latticeB)):\n",
    "    if 'length' in latticeB[i]:\n",
    "        latticeB[i].length = -latticeB[i].length\n",
    "    if latticeB[i].type == 'dipole':\n",
    "        latticeB[i].bending_angle            =-latticeB[i].bending_angle\n",
    "        latticeB[i].fringe_field_integration =-latticeB[i].fringe_field_integration\n",
    "    if 'KL_sext' in latticeB[i]:\n",
    "#         print(latticeB[i])\n",
    "        latticeB[i].KL_sext = -latticeB[i].KL_sext"
   ]
  },
  {
   "cell_type": "code",
   "execution_count": 7,
   "metadata": {},
   "outputs": [
    {
     "name": "stdout",
     "output_type": "stream",
     "text": [
      "\n",
      "          type: 'TBT'\n",
      "       file_id: 101024\n",
      "          turn: 1\n",
      " sample_period: 1\n",
      "\n",
      "          type: 'TBT'\n",
      "       file_id: 101024\n",
      "          turn: 1\n",
      " sample_period: 1\n"
     ]
    }
   ],
   "source": [
    "i = 1\n",
    "print(latticeB[-i])\n",
    "print(lattice[i])"
   ]
  },
  {
   "cell_type": "markdown",
   "metadata": {},
   "source": [
    "### write Impact input file"
   ]
  },
  {
   "cell_type": "code",
   "execution_count": 8,
   "metadata": {},
   "outputs": [],
   "source": [
    "beam.distribution.distribution_type = 'ReadFile_binary'\n",
    "beam.distribution.file_id = nTurn\n",
    "beam.nCore_y = 48\n",
    "beam.nCore_z = 32\n",
    "impact.writeInputFile(beam,latticeB,'test.in.'+str(nTurn)+'.backward')"
   ]
  }
 ],
 "metadata": {
  "kernelspec": {
   "display_name": "Python 3",
   "language": "python",
   "name": "python3"
  },
  "language_info": {
   "codemirror_mode": {
    "name": "ipython",
    "version": 3
   },
   "file_extension": ".py",
   "mimetype": "text/x-python",
   "name": "python",
   "nbconvert_exporter": "python",
   "pygments_lexer": "ipython3",
   "version": "3.6.5"
  }
 },
 "nbformat": 4,
 "nbformat_minor": 2
}
