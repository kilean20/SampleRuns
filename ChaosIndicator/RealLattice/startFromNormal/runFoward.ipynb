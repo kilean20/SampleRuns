{
 "cells": [
  {
   "cell_type": "code",
   "execution_count": 1,
   "metadata": {},
   "outputs": [],
   "source": [
    "import numpy as np\n",
    "import pImpactR as impact\n",
    "from copy import deepcopy as copy\n",
    "import matplotlib.pyplot as plt\n",
    "from math import ceil\n",
    "import os"
   ]
  },
  {
   "cell_type": "code",
   "execution_count": 2,
   "metadata": {},
   "outputs": [
    {
     "name": "stdout",
     "output_type": "stream",
     "text": [
      "singular point =  0.013807626296338507\n"
     ]
    }
   ],
   "source": [
    "np.set_printoptions(formatter={'float': lambda x: format(x, '1.2E')})\n",
    "NTURN = [128,256,512,1024,2048]\n",
    "nTurn = NTURN[0]\n",
    "betx = 1.9065054393933862\n",
    "alfx = 1.408226172730429\n",
    "emitx = 6.066503e-6\n",
    "nCore_y = 8\n",
    "nCore_z = 4\n",
    "n_particles = 1024000\n",
    "nx = 100\n",
    "NL_t  = 0.4\n",
    "NL_c  = 0.01\n",
    "# NL_nu = 0.3034496449165134\n",
    "# NL_L  = 1.8\n",
    "print('singular point = ', NL_c*np.sqrt(betx))\n",
    "pipe_radius = 0.02*np.sqrt(2.0)\n",
    "#pipe_radius = 0.013\n",
    "#pipe_radius = 0.01"
   ]
  },
  {
   "cell_type": "code",
   "execution_count": 3,
   "metadata": {},
   "outputs": [],
   "source": [
    "# H1 = 0.04005207 "
   ]
  },
  {
   "cell_type": "markdown",
   "metadata": {},
   "source": [
    "# 1. Preparation"
   ]
  },
  {
   "cell_type": "code",
   "execution_count": 4,
   "metadata": {
    "scrolled": false
   },
   "outputs": [
    {
     "name": "stdout",
     "output_type": "stream",
     "text": [
      "reading ImpactZ input file (\u001b[92mtest_IOTA.in\u001b[0m)\n",
      "  : mpi task info .............................done\n",
      "  : simulation control parameters .............done\n",
      "  : space charge field solver, mesh info ......done\n",
      "  : dist-type,restart,subcycle,#of state ......done\n",
      "  : Multiple Charge State info ................done\n",
      "  : particle distribution info ................done\n",
      "  : beam reference orbit info .................done\n",
      "  : converting impact dist to twiss param......done\n",
      "  : lattice info ..............................done\n"
     ]
    }
   ],
   "source": [
    "beam, lattice = impact.readInputFile('test_IOTA.in')"
   ]
  },
  {
   "cell_type": "code",
   "execution_count": 5,
   "metadata": {},
   "outputs": [],
   "source": [
    "beam.nCore_y = nCore_y\n",
    "beam.nCore_z = nCore_z\n",
    "beam.distribution.emitx = emitx\n",
    "beam.n_particles = n_particles\n",
    "\n",
    "ke   = beam.kinetic_energy\n",
    "mass = beam.mass\n",
    "freq = beam.frequency"
   ]
  },
  {
   "cell_type": "code",
   "execution_count": 6,
   "metadata": {},
   "outputs": [],
   "source": [
    "### 1.2. generate particles"
   ]
  },
  {
   "cell_type": "code",
   "execution_count": 7,
   "metadata": {},
   "outputs": [],
   "source": [
    "##### 1.2.1. generate pData"
   ]
  },
  {
   "cell_type": "code",
   "execution_count": 8,
   "metadata": {},
   "outputs": [],
   "source": [
    "beamtmp = copy(beam)\n",
    "beamtmp.distribution.distribution_type = 'IOTA_Waterbag'\n",
    "beamtmp.distribution.NL_t = NL_t\n",
    "beamtmp.distribution.NL_c = NL_c\n",
    "beamtmp.distribution.betx = betx\n",
    "beamtmp.distribution.bety = betx\n",
    "beamtmp.distribution.alfx = alfx\n",
    "beamtmp.distribution.alfy = alfx\n",
    "beamtmp.distribution.emitx = emitx\n",
    "beamtmp.distribution.emity = emitx\n",
    "beamtmp.distribution.betz = 0.0\n",
    "beamtmp.distribution.alfz = 0.0\n",
    "beamtmp.distribution.emitz = 0.0\n",
    "beamtmp.distribution.mode = 'twiss'\n",
    "\n",
    "loop = impact.getElem('loop')\n",
    "loop.turns = 1\n",
    "\n",
    "write_pData = impact.getElem('write_raw_ptcl')\n",
    "write_pData.turn = 1\n",
    "write_pData.file_id = 111110\n",
    "write_pData.format_id = 2\n",
    "\n",
    "impact.writeInputFile(beamtmp,[loop,write_pData]);\n",
    "# impact.run(beamtmp)"
   ]
  },
  {
   "cell_type": "code",
   "execution_count": 9,
   "metadata": {},
   "outputs": [],
   "source": [
    "##### 1.2.2. reOrder pData s.t. y>0 comes first"
   ]
  },
  {
   "cell_type": "code",
   "execution_count": 10,
   "metadata": {},
   "outputs": [
    {
     "name": "stdout",
     "output_type": "stream",
     "text": [
      "npt_yup= 512174\n"
     ]
    }
   ],
   "source": [
    "from copy import deepcopy as copy\n",
    "pDataTmp = impact.readParticleData(111110,ke,mass,freq,format_id=2)\n",
    "pData = copy(pDataTmp)\n",
    "iTmp = np.argwhere(pData[:,2]>=0)[:,0]\n",
    "jTmp = np.argwhere(pData[:,2] <0)[:,0]\n",
    "pData[:len(iTmp),:] = pDataTmp[iTmp,:]\n",
    "pData[len(iTmp):,:] = pDataTmp[jTmp,:]\n",
    "pData[:,-1] = np.arange(1,len(pData)+1)\n",
    "npt_yup = len(iTmp)\n",
    "print('npt_yup=',npt_yup)"
   ]
  },
  {
   "cell_type": "code",
   "execution_count": 11,
   "metadata": {},
   "outputs": [],
   "source": [
    "# impact.plot.density(pData[:len(iTmp),0],pData[:len(iTmp),2])"
   ]
  },
  {
   "cell_type": "code",
   "execution_count": 12,
   "metadata": {},
   "outputs": [],
   "source": [
    "# impact.plot.density(pData[len(iTmp):,0],pData[len(iTmp):,2])"
   ]
  },
  {
   "cell_type": "code",
   "execution_count": 13,
   "metadata": {},
   "outputs": [],
   "source": [
    "# impact.plot.density(pData[:,0],pData[:,2])"
   ]
  },
  {
   "cell_type": "code",
   "execution_count": 14,
   "metadata": {},
   "outputs": [],
   "source": [
    "##### 1.2.3. generate testP"
   ]
  },
  {
   "cell_type": "code",
   "execution_count": 15,
   "metadata": {},
   "outputs": [
    {
     "name": "stdout",
     "output_type": "stream",
     "text": [
      "nptTest= 3834\n"
     ]
    }
   ],
   "source": [
    "testP = 0.0\n",
    "k=0\n",
    "q_m = beamtmp.multi_charge.q_m[0]\n",
    "pTest = []\n",
    "nx = 100\n",
    "xmax = 0.98\n",
    "for x in np.linspace(-xmax,xmax,nx):\n",
    "    for y in np.linspace(-xmax,xmax,nx):\n",
    "        if x**2+y**2<=xmax**2 and y>0:\n",
    "            k+=1\n",
    "            pTest.append([x,0.0,y,0.0,0.0,0.0,q_m,0.0,k]) \n",
    "pTest = np.array(pTest)\n",
    "nptTest = len(pTest)\n",
    "print('nptTest=',nptTest)"
   ]
  },
  {
   "cell_type": "code",
   "execution_count": 16,
   "metadata": {},
   "outputs": [],
   "source": [
    "def normalize(data):\n",
    "    data[:,1] = (data[:,0]*alfx/np.sqrt(betx) + data[:,1]*np.sqrt(betx))/NL_c\n",
    "    data[:,3] = (data[:,2]*alfx/np.sqrt(betx) + data[:,3]*np.sqrt(betx))/NL_c\n",
    "    data[:,0] = data[:,0]/(np.sqrt(betx)*NL_c)\n",
    "    data[:,2] = data[:,2]/(np.sqrt(betx)*NL_c)\n",
    "    \n",
    "def unnormalize(data):\n",
    "    data[:,1] = (-data[:,0]*alfx + data[:,1])*NL_c/np.sqrt(betx)\n",
    "    data[:,3] = (-data[:,2]*alfx + data[:,3])*NL_c/np.sqrt(betx)\n",
    "    data[:,0] = data[:,0]*np.sqrt(betx)*NL_c\n",
    "    data[:,2] = data[:,2]*np.sqrt(betx)*NL_c"
   ]
  },
  {
   "cell_type": "code",
   "execution_count": 17,
   "metadata": {},
   "outputs": [],
   "source": [
    "unnormalize(pTest)"
   ]
  },
  {
   "cell_type": "code",
   "execution_count": 18,
   "metadata": {},
   "outputs": [],
   "source": [
    "##### 1.2.4. combine pData, pTest  and Check"
   ]
  },
  {
   "cell_type": "code",
   "execution_count": 19,
   "metadata": {},
   "outputs": [
    {
     "name": "stdout",
     "output_type": "stream",
     "text": [
      "(1027834, 9)\n"
     ]
    }
   ],
   "source": [
    "pData[:,8] = pData[:,8] + nptTest\n",
    "if nptTest>0:\n",
    "    pData = np.concatenate((pTest,pData),axis=0)\n",
    "print(pData.shape)\n",
    "impact.writeParticleData(pData, ke, mass, freq)"
   ]
  },
  {
   "cell_type": "code",
   "execution_count": 20,
   "metadata": {},
   "outputs": [
    {
     "data": {
      "text/plain": [
       "0"
      ]
     },
     "execution_count": 20,
     "metadata": {},
     "output_type": "execute_result"
    }
   ],
   "source": [
    "beam.n_particles = n_particles + nptTest\n",
    "beam.distribution.distribution_type = 'ReadFile'\n",
    "impact.writeInputFile(beam,[loop,write_pData]);\n",
    "impact.run(beam)"
   ]
  },
  {
   "cell_type": "code",
   "execution_count": 21,
   "metadata": {},
   "outputs": [
    {
     "data": {
      "image/png": "[encoded data removed]",
      "text/plain": [
       "<Figure size 792x216 with 3 Axes>"
      ]
     },
     "metadata": {},
     "output_type": "display_data"
    }
   ],
   "source": [
    "pDataInit = impact.readParticleData(111110,ke,mass,freq,format_id=2)\n",
    "plt.figure(figsize=[11,3])\n",
    "plt.subplot(1,3,1)\n",
    "plt.scatter(pDataInit[nptTest:,0],pDataInit[nptTest:,2],s=0.1);\n",
    "plt.subplot(1,3,2)\n",
    "plt.scatter(pDataInit[:nptTest,0],pDataInit[:nptTest,2],s=0.1);\n",
    "plt.subplot(1,3,3)\n",
    "plt.scatter(pDataInit[:,0],pDataInit[:,2],s=0.1);\n",
    "plt.tight_layout()"
   ]
  },
  {
   "cell_type": "code",
   "execution_count": 22,
   "metadata": {},
   "outputs": [
    {
     "data": {
      "image/png": "[encoded data removed]",
      "text/plain": [
       "<Figure size 864x216 with 2 Axes>"
      ]
     },
     "metadata": {},
     "output_type": "display_data"
    }
   ],
   "source": [
    "plt.figure(figsize=(12,3))\n",
    "plt.subplot(1,2,1)\n",
    "plt.hist(pDataInit[:,0],bins=40);\n",
    "plt.subplot(1,2,2)\n",
    "plt.hist(pDataInit[:,2],bins=40);"
   ]
  },
  {
   "cell_type": "markdown",
   "metadata": {},
   "source": [
    "### 1.3 adjust lattice"
   ]
  },
  {
   "cell_type": "code",
   "execution_count": 23,
   "metadata": {},
   "outputs": [
    {
     "name": "stdout",
     "output_type": "stream",
     "text": [
      "39.968229715800106\n"
     ]
    }
   ],
   "source": [
    "# L=0.0\n",
    "# for i in range(len(lattice)):\n",
    "#     if 'length' in lattice[i].keys():\n",
    "#         L = L+lattice[i].length\n",
    "# print(L)\n",
    "\n",
    "# for i in range(len(lattice)):\n",
    "#     if 'length' in lattice[i].keys():\n",
    "#         lattice[i].n_sckick = ceil(lattice[i].length*20)\n",
    "#         if lattice[i].type in ['nonlinear_insert','dipole']:\n",
    "#             lattice[i].n_map = 10\n",
    "#         else:\n",
    "#             lattice[i].n_map = 2\n",
    "        \n",
    "lattice = [ item for item in lattice if not item.type == 'write_raw_ptcl' ]\n",
    "lattice = [ item for item in lattice if not item.type == '-8' ]\n",
    "lattice = [ item for item in lattice if not item.type == 'multipole_thin' ]\n",
    "\n",
    "L=0.0\n",
    "for i in range(len(lattice)):\n",
    "    if 'length' in lattice[i].keys():\n",
    "        L = L+lattice[i].length\n",
    "print(L)"
   ]
  },
  {
   "cell_type": "markdown",
   "metadata": {},
   "source": [
    "# 2. Run"
   ]
  },
  {
   "cell_type": "code",
   "execution_count": 24,
   "metadata": {},
   "outputs": [
    {
     "name": "stdout",
     "output_type": "stream",
     "text": [
      "===========================\n",
      "=========== Run ===========\n",
      "===========================\n"
     ]
    }
   ],
   "source": [
    "print('===========================')\n",
    "print('=========== Run ===========')\n",
    "print('===========================')"
   ]
  },
  {
   "cell_type": "code",
   "execution_count": 25,
   "metadata": {},
   "outputs": [],
   "source": [
    "TBTsplit = impact.getElem('TBT_multiple_file')\n",
    "TBTsplit.file_id = nTurn+1\n",
    "TBTsplit.pID_begin = nptTest+1\n",
    "TBTsplit.pID_end   = nptTest+npt_yup\n",
    "TBTsplit.n_files   = 32\n",
    "\n",
    "lattice.insert(1,TBTsplit)\n",
    "\n",
    "TBT = impact.getElem('TBT')\n",
    "TBT.pID_begin = 1\n",
    "TBT.pID_end   = nptTest\n",
    "TBT.file_id = nTurn\n",
    "lattice.insert(1,TBT)\n",
    "\n",
    "if nTurn == 128:\n",
    "    lattice[0].turns = nTurn\n",
    "else:\n",
    "    lattice[0].turns = int(nTurn/2)\n",
    "\n",
    "for i in range(len(lattice)):\n",
    "    if 'pipe_radius' in lattice[i].keys() and lattice[i].type!='dipole':\n",
    "        lattice[i].pipe_radius = pipe_radius\n",
    "        \n",
    "lattice.append(impact.getElem('write_raw_ptcl'))\n",
    "if nTurn == 128:\n",
    "    lattice[-1].turn = nTurn\n",
    "else:\n",
    "    lattice[-1].turn = int(nTurn/2)\n",
    "\n",
    "lattice[-1].file_id = nTurn\n",
    "lattice[-1].format_id = 2"
   ]
  },
  {
   "cell_type": "code",
   "execution_count": 26,
   "metadata": {},
   "outputs": [],
   "source": [
    "beam.n_particles = len(pDataInit)\n",
    "beam.distribution.distribution_type = 'ReadFile_binary'\n",
    "if nTurn == 128:\n",
    "    beam.distribution.file_id = 111110\n",
    "else:\n",
    "    beam.distribution.file_id = int(nTurn/2)\n",
    "beam.nCore_y = 64\n",
    "beam.nCore_z = 48\n",
    "impact.writeInputFile(beam,lattice,'test.in.'+str(nTurn)+'.forward') \n",
    "#impact.run(beam)"
   ]
  },
  {
   "cell_type": "markdown",
   "metadata": {},
   "source": [
    "indexTBT,TBTdataTmp = impact.readTBT(errIndex,ke,mass,freq)\n",
    "indexTBT,TBTdataTmp_Inv = impact.readTBT_integral(errIndex)\n",
    "TBTdataTmp_Inv[:,1,:]=TBTdataTmp_Inv[:,1,:]**2\n",
    "pDataOut= impact.readParticleData(-111111,ke,mass,freq)\n",
    "pDataIn = impact.readParticleData(-111110,ke,mass,freq)"
   ]
  },
  {
   "cell_type": "markdown",
   "metadata": {},
   "source": [
    "print('pDataIn.shape',pDataIn.shape)\n",
    "print('pDataOut.shape',pDataOut.shape)\n",
    "plt.figure(figsize=(12,3))\n",
    "plt.subplot(1,3,1)\n",
    "plt.scatter(pDataIn[:,0],pDataIn[:,2],s=0.1)\n",
    "plt.xlim(-0.012,0.012)\n",
    "plt.ylim(-0.012,0.012)\n",
    "plt.subplot(1,3,2)\n",
    "plt.scatter(pDataOut[:,0],pDataOut[:,2],s=0.1)\n",
    "plt.xlim(-0.012,0.012)\n",
    "plt.ylim(-0.012,0.012)\n",
    "plt.subplot(1,3,3)\n",
    "plt.scatter(pDataOut[:,0],pDataOut[:,2],s=0.1)\n",
    "plt.tight_layout()\n",
    "plt.savefig('pData.InOut.png',dpi=180,bbox_inches = \"tight\")"
   ]
  },
  {
   "cell_type": "markdown",
   "metadata": {},
   "source": [
    "print(TBTdataTmp.shape)\n",
    "plt.figure(figsize=(12,3))\n",
    "plt.subplot(1,3,1)\n",
    "plt.scatter(TBTdataTmp[0,0,:],TBTdataTmp[0,2,:],s=0.1)\n",
    "plt.xlim(-0.012,0.012)\n",
    "plt.ylim(-0.012,0.012)\n",
    "plt.subplot(1,3,2)\n",
    "plt.scatter(TBTdataTmp[-1,0,:],TBTdataTmp[-1,2,:],s=0.1)\n",
    "plt.xlim(-0.012,0.012)\n",
    "plt.ylim(-0.012,0.012)\n",
    "plt.subplot(1,3,3)\n",
    "plt.scatter(TBTdataTmp[-1,0,:],TBTdataTmp[-1,2,:],s=0.1)\n",
    "plt.tight_layout()\n",
    "plt.savefig('TBTdata.InOut.png',dpi=180,bbox_inches = \"tight\")"
   ]
  }
 ],
 "metadata": {
  "kernelspec": {
   "display_name": "Python 3",
   "language": "python",
   "name": "python3"
  },
  "language_info": {
   "codemirror_mode": {
    "name": "ipython",
    "version": 3
   },
   "file_extension": ".py",
   "mimetype": "text/x-python",
   "name": "python",
   "nbconvert_exporter": "python",
   "pygments_lexer": "ipython3",
   "version": "3.7.6"
  }
 },
 "nbformat": 4,
 "nbformat_minor": 2
}
