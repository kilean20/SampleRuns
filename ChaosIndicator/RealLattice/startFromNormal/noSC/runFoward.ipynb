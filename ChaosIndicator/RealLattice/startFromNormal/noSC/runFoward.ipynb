{
 "cells": [
  {
   "cell_type": "code",
   "execution_count": 1,
   "metadata": {},
   "outputs": [],
   "source": [
    "import numpy as np\n",
    "import pImpactR as impact\n",
    "from copy import deepcopy as copy\n",
    "import matplotlib.pyplot as plt\n",
    "from math import ceil\n",
    "import os"
   ]
  },
  {
   "cell_type": "code",
   "execution_count": 2,
   "metadata": {},
   "outputs": [],
   "source": [
    "np.set_printoptions(formatter={'float': lambda x: format(x, '1.2E')})\n",
    "NTURN = [128,256,512,1024,2048]\n",
    "nTurn = NTURN[0]\n",
    "nCore_y = 8\n",
    "nCore_z = 4\n",
    "\n",
    "nx = 100\n",
    "NL_t  = 0.4\n",
    "NL_c  = 0.01\n",
    "NL_nu = 0.3\n",
    "NL_L  = 1.8\n",
    "pipe_radius = 0.02*np.sqrt(2.0)"
   ]
  },
  {
   "cell_type": "code",
   "execution_count": 3,
   "metadata": {},
   "outputs": [],
   "source": [
    "alfx = np.tan(np.pi*NL_nu)\n",
    "betx = NL_L/np.sin(2.0*np.pi*NL_nu)"
   ]
  },
  {
   "cell_type": "markdown",
   "metadata": {},
   "source": [
    "# 1. Preparation"
   ]
  },
  {
   "cell_type": "markdown",
   "metadata": {},
   "source": [
    "### 1.1 lattice matching"
   ]
  },
  {
   "cell_type": "code",
   "execution_count": 4,
   "metadata": {},
   "outputs": [
    {
     "name": "stdout",
     "output_type": "stream",
     "text": [
      "reading ImpactZ input file (\u001b[92mtest_IOTA.in\u001b[0m)\n",
      "  : mpi task info .............................done\n",
      "  : simulation control parameters .............done\n",
      "  : space charge field solver, mesh info ......done\n",
      "  : dist-type,restart,subcycle,#of state ......done\n",
      "  : Multiple Charge State info ................done\n",
      "  : particle distribution info ................done\n",
      "  : beam reference orbit info .................done\n",
      "  : converting impact dist to twiss param......done\n",
      "  : lattice info ..............................done\n",
      "reading ImpactZ input file (\u001b[92mtest_IOTA.noSC.in\u001b[0m)\n",
      "  : mpi task info .............................done\n",
      "  : simulation control parameters .............done\n",
      "  : space charge field solver, mesh info ......done\n",
      "  : dist-type,restart,subcycle,#of state ......done\n",
      "  : Multiple Charge State info ................done\n",
      "  : particle distribution info ................done\n",
      "  : beam reference orbit info .................done\n",
      "  : converting impact dist to twiss param......done\n",
      "  : lattice info ..............................done\n"
     ]
    }
   ],
   "source": [
    "beam_wSC, lattice_wSC = impact.readInputFile('test_IOTA.in')\n",
    "beam_nSC, lattice_nSC = impact.readInputFile('test_IOTA.noSC.in')"
   ]
  },
  {
   "cell_type": "code",
   "execution_count": 5,
   "metadata": {},
   "outputs": [
    {
     "name": "stdout",
     "output_type": "stream",
     "text": [
      "\n",
      "             length: 1.8 [m]\n",
      "           n_sckick: 96 [1]\n",
      "              n_map: 5 [1]\n",
      "         strength_t: 0.4\n",
      " transverse_scale_c: 0.01\n",
      "        pipe_radius: 10.0 [m]\n",
      "       tune_advance: 0.3034496449165134\n",
      "               type: 'nonlinear_insert'\n",
      "\n",
      "             length: 1.8 [m]\n",
      "           n_sckick: 10 [1]\n",
      "              n_map: 100 [1]\n",
      "         strength_t: 0.4\n",
      " transverse_scale_c: 0.01\n",
      "        pipe_radius: 10.0 [m]\n",
      "       tune_advance: 0.3\n",
      "               type: 'nonlinear_insert'\n"
     ]
    }
   ],
   "source": [
    "lattice_wSC = [ item for item in lattice_wSC if not item.type == 'write_raw_ptcl' ]\n",
    "lattice_wSC = [ item for item in lattice_wSC if not item.type == '-8' ]\n",
    "lattice_wSC = [ item for item in lattice_wSC if not item.type == 'multipole_thin' ]\n",
    "lattice_nSC = [ item for item in lattice_nSC if not item.type == 'write_raw_ptcl' ]\n",
    "lattice_nSC = [ item for item in lattice_nSC if not item.type == '-8' ]\n",
    "lattice_nSC = [ item for item in lattice_nSC if not item.type == 'multipole_thin' ]\n",
    "lattice_nSC[1].transverse_scale_c = NL_c\n",
    "lattice_nSC[1].strength_t = NL_t\n",
    "print(lattice_wSC[1])\n",
    "print(lattice_nSC[1])"
   ]
  },
  {
   "cell_type": "code",
   "execution_count": 6,
   "metadata": {},
   "outputs": [
    {
     "name": "stdout",
     "output_type": "stream",
     "text": [
      "12 \n",
      "                   length: 0.7330382858 [m]\n",
      "                 n_sckick: 10 [1]\n",
      "                    n_map: 20 [1]\n",
      "            bending_angle: 1.047197551 [rad]\n",
      "                       k1: 0.0\n",
      "                  file_id: 350\n",
      "              pipe_radius: 0.058 [m]\n",
      "           entrance_angle: 0.0 [rad]\n",
      "               exit_angle: 0.0 [rad]\n",
      "       entrance_curvature: 0.0 [rad]\n",
      "           exit_curvature: 0.0 [rad]\n",
      " fringe_field_integration: 0.5 [1]\n",
      "                     type: 'dipole' \n",
      "                   length: 0.7330382858 [m]\n",
      "                 n_sckick: 1 [1]\n",
      "                    n_map: 1 [1]\n",
      "            bending_angle: 1.047197551 [rad]\n",
      "                       k1: 0.0\n",
      "                  file_id: 350\n",
      "              pipe_radius: 0.02 [m]\n",
      "           entrance_angle: 0.0 [rad]\n",
      "               exit_angle: 0.0 [rad]\n",
      "       entrance_curvature: 0.0 [rad]\n",
      "           exit_curvature: 0.0 [rad]\n",
      " fringe_field_integration: 0.5 [1]\n",
      "                     type: 'dipole'\n",
      "32 \n",
      "                   length: 0.7330382858 [m]\n",
      "                 n_sckick: 10 [1]\n",
      "                    n_map: 20 [1]\n",
      "            bending_angle: 1.047197551 [rad]\n",
      "                       k1: 0.0\n",
      "                  file_id: 350\n",
      "              pipe_radius: 0.058 [m]\n",
      "           entrance_angle: 0.0 [rad]\n",
      "               exit_angle: 0.0 [rad]\n",
      "       entrance_curvature: 0.0 [rad]\n",
      "           exit_curvature: 0.0 [rad]\n",
      " fringe_field_integration: 0.5 [1]\n",
      "                     type: 'dipole' \n",
      "                   length: 0.7330382858 [m]\n",
      "                 n_sckick: 1 [1]\n",
      "                    n_map: 1 [1]\n",
      "            bending_angle: 1.047197551 [rad]\n",
      "                       k1: 0.0\n",
      "                  file_id: 350\n",
      "              pipe_radius: 0.02 [m]\n",
      "           entrance_angle: 0.0 [rad]\n",
      "               exit_angle: 0.0 [rad]\n",
      "       entrance_curvature: 0.0 [rad]\n",
      "           exit_curvature: 0.0 [rad]\n",
      " fringe_field_integration: 0.5 [1]\n",
      "                     type: 'dipole'\n",
      "53 \n",
      "                   length: 0.3665191429 [m]\n",
      "                 n_sckick: 10 [1]\n",
      "                    n_map: 20 [1]\n",
      "            bending_angle: 0.5235987756 [rad]\n",
      "                       k1: 0.0\n",
      "                  file_id: 350\n",
      "              pipe_radius: 0.058 [m]\n",
      "           entrance_angle: 0.0 [rad]\n",
      "               exit_angle: 0.0 [rad]\n",
      "       entrance_curvature: 0.0 [rad]\n",
      "           exit_curvature: 0.0 [rad]\n",
      " fringe_field_integration: 0.5 [1]\n",
      "                     type: 'dipole' \n",
      "                   length: 0.3665191429 [m]\n",
      "                 n_sckick: 1 [1]\n",
      "                    n_map: 1 [1]\n",
      "            bending_angle: 0.5235987756 [rad]\n",
      "                       k1: 0.0\n",
      "                  file_id: 350\n",
      "              pipe_radius: 0.02 [m]\n",
      "           entrance_angle: 0.0 [rad]\n",
      "               exit_angle: 0.0 [rad]\n",
      "       entrance_curvature: 0.0 [rad]\n",
      "           exit_curvature: 0.0 [rad]\n",
      " fringe_field_integration: 0.5 [1]\n",
      "                     type: 'dipole'\n",
      "89 \n",
      "                   length: 0.3665191429 [m]\n",
      "                 n_sckick: 10 [1]\n",
      "                    n_map: 20 [1]\n",
      "            bending_angle: 0.5235987756 [rad]\n",
      "                       k1: 0.0\n",
      "                  file_id: 350\n",
      "              pipe_radius: 0.058 [m]\n",
      "           entrance_angle: 0.0 [rad]\n",
      "               exit_angle: 0.0 [rad]\n",
      "       entrance_curvature: 0.0 [rad]\n",
      "           exit_curvature: 0.0 [rad]\n",
      " fringe_field_integration: 0.5 [1]\n",
      "                     type: 'dipole' \n",
      "                   length: 0.3665191429 [m]\n",
      "                 n_sckick: 1 [1]\n",
      "                    n_map: 1 [1]\n",
      "            bending_angle: 0.5235987756 [rad]\n",
      "                       k1: 0.0\n",
      "                  file_id: 350\n",
      "              pipe_radius: 0.02 [m]\n",
      "           entrance_angle: 0.0 [rad]\n",
      "               exit_angle: 0.0 [rad]\n",
      "       entrance_curvature: 0.0 [rad]\n",
      "           exit_curvature: 0.0 [rad]\n",
      " fringe_field_integration: 0.5 [1]\n",
      "                     type: 'dipole'\n",
      "110 \n",
      "                   length: 0.7330382858 [m]\n",
      "                 n_sckick: 10 [1]\n",
      "                    n_map: 20 [1]\n",
      "            bending_angle: 1.047197551 [rad]\n",
      "                       k1: 0.0\n",
      "                  file_id: 350\n",
      "              pipe_radius: 0.058 [m]\n",
      "           entrance_angle: 0.0 [rad]\n",
      "               exit_angle: 0.0 [rad]\n",
      "       entrance_curvature: 0.0 [rad]\n",
      "           exit_curvature: 0.0 [rad]\n",
      " fringe_field_integration: 0.5 [1]\n",
      "                     type: 'dipole' \n",
      "                   length: 0.7330382858 [m]\n",
      "                 n_sckick: 1 [1]\n",
      "                    n_map: 1 [1]\n",
      "            bending_angle: 1.047197551 [rad]\n",
      "                       k1: 0.0\n",
      "                  file_id: 350\n",
      "              pipe_radius: 0.02 [m]\n",
      "           entrance_angle: 0.0 [rad]\n",
      "               exit_angle: 0.0 [rad]\n",
      "       entrance_curvature: 0.0 [rad]\n",
      "           exit_curvature: 0.0 [rad]\n",
      " fringe_field_integration: 0.5 [1]\n",
      "                     type: 'dipole'\n",
      "130 \n",
      "                   length: 0.7330382858 [m]\n",
      "                 n_sckick: 10 [1]\n",
      "                    n_map: 20 [1]\n",
      "            bending_angle: 1.047197551 [rad]\n",
      "                       k1: 0.0\n",
      "                  file_id: 350\n",
      "              pipe_radius: 0.058 [m]\n",
      "           entrance_angle: 0.0 [rad]\n",
      "               exit_angle: 0.0 [rad]\n",
      "       entrance_curvature: 0.0 [rad]\n",
      "           exit_curvature: 0.0 [rad]\n",
      " fringe_field_integration: 0.5 [1]\n",
      "                     type: 'dipole' \n",
      "                   length: 0.7330382858 [m]\n",
      "                 n_sckick: 1 [1]\n",
      "                    n_map: 1 [1]\n",
      "            bending_angle: 1.047197551 [rad]\n",
      "                       k1: 0.0\n",
      "                  file_id: 350\n",
      "              pipe_radius: 0.02 [m]\n",
      "           entrance_angle: 0.0 [rad]\n",
      "               exit_angle: 0.0 [rad]\n",
      "       entrance_curvature: 0.0 [rad]\n",
      "           exit_curvature: 0.0 [rad]\n",
      " fringe_field_integration: 0.5 [1]\n",
      "                     type: 'dipole'\n"
     ]
    }
   ],
   "source": [
    "for i in range(140):\n",
    "    if lattice_wSC[i].type == 'dipole':\n",
    "        print(i,lattice_wSC[i],lattice_nSC[i])"
   ]
  },
  {
   "cell_type": "code",
   "execution_count": 7,
   "metadata": {},
   "outputs": [
    {
     "name": "stdout",
     "output_type": "stream",
     "text": [
      "4 \n",
      "      length: 0.21 [m]\n",
      "    n_sckick: 10 [1]\n",
      "       n_map: 20 [1]\n",
      "          B1: -8.218039338095238 [T/m]\n",
      "     file_id: -1\n",
      " pipe_radius: 0.15 [m]\n",
      "  misalign_x: 0.0 [m]\n",
      "  misalign_y: 0.0 [m]\n",
      "  rotation_x: 0.0 [rad]\n",
      "  rotation_y: 0.0 [rad]\n",
      "  rotation_z: 0.0 [rad]\n",
      "        type: 'quad' \n",
      "      length: 0.21 [m]\n",
      "    n_sckick: 1 [1]\n",
      "       n_map: 1 [1]\n",
      "          B1: -8.172122695238095 [T/m]\n",
      "     file_id: -1\n",
      " pipe_radius: 0.15 [m]\n",
      "  misalign_x: 0.0 [m]\n",
      "  misalign_y: 0.0 [m]\n",
      "  rotation_x: 0.0 [rad]\n",
      "  rotation_y: 0.0 [rad]\n",
      "  rotation_z: 0.0 [rad]\n",
      "        type: 'quad'\n",
      "6 \n",
      "      length: 0.21 [m]\n",
      "    n_sckick: 10 [1]\n",
      "       n_map: 20 [1]\n",
      "          B1: 14.27877214761905 [T/m]\n",
      "     file_id: -1\n",
      " pipe_radius: 0.15 [m]\n",
      "  misalign_x: 0.0 [m]\n",
      "  misalign_y: 0.0 [m]\n",
      "  rotation_x: 0.0 [rad]\n",
      "  rotation_y: 0.0 [rad]\n",
      "  rotation_z: 0.0 [rad]\n",
      "        type: 'quad' \n",
      "      length: 0.21 [m]\n",
      "    n_sckick: 1 [1]\n",
      "       n_map: 20 [1]\n",
      "          B1: 13.801310100000002 [T/m]\n",
      "     file_id: -1\n",
      " pipe_radius: 0.15 [m]\n",
      "  misalign_x: 0.0 [m]\n",
      "  misalign_y: 0.0 [m]\n",
      "  rotation_x: 0.0 [rad]\n",
      "  rotation_y: 0.0 [rad]\n",
      "  rotation_z: 0.0 [rad]\n",
      "        type: 'quad'\n",
      "8 \n",
      "      length: 0.21 [m]\n",
      "    n_sckick: 10 [1]\n",
      "       n_map: 20 [1]\n",
      "          B1: -11.935380171428573 [T/m]\n",
      "     file_id: -1\n",
      " pipe_radius: 0.15 [m]\n",
      "  misalign_x: 0.0 [m]\n",
      "  misalign_y: 0.0 [m]\n",
      "  rotation_x: 0.0 [rad]\n",
      "  rotation_y: 0.0 [rad]\n",
      "  rotation_z: 0.0 [rad]\n",
      "        type: 'quad' \n",
      "      length: 0.21 [m]\n",
      "    n_sckick: 1 [1]\n",
      "       n_map: 20 [1]\n",
      "          B1: -11.851155047619049 [T/m]\n",
      "     file_id: -1\n",
      " pipe_radius: 0.15 [m]\n",
      "  misalign_x: 0.0 [m]\n",
      "  misalign_y: 0.0 [m]\n",
      "  rotation_x: 0.0 [rad]\n",
      "  rotation_y: 0.0 [rad]\n",
      "  rotation_z: 0.0 [rad]\n",
      "        type: 'quad'\n"
     ]
    }
   ],
   "source": [
    "for i in range(10):\n",
    "    if lattice_wSC[i].type == 'quad':\n",
    "        print(i,lattice_wSC[i],lattice_nSC[i])"
   ]
  },
  {
   "cell_type": "code",
   "execution_count": 8,
   "metadata": {},
   "outputs": [
    {
     "name": "stdout",
     "output_type": "stream",
     "text": [
      "141 drift 0.1 nonlinear_insert 1.8\n",
      "142 drift 0.1 drift 0.045\n",
      "143 drift 0.1 drift 0.1075\n",
      "144 drift 0.1 quad 0.21\n",
      "145 drift 0.1 drift 0.13\n",
      "146 drift 0.1 quad 0.21\n",
      "147 drift 0.1 drift 0.13\n",
      "148 drift 0.1 quad 0.21\n",
      "149 drift 0.1 drift 0.0725\n",
      "151 drift 0.1 drift 0.2\n",
      "152 drift 0.1 dipole 0.3665191429\n",
      "153 drift 0.1 drift 0.11\n",
      "155 drift 0.1 drift 0.055\n",
      "156 drift 0.1 drift 0.1075\n",
      "157 drift 0.1 quad 0.21\n",
      "158 drift 0.1 drift 0.135\n",
      "159 drift 0.045 quad 0.21\n",
      "161 quad 0.21 drift 0.055\n"
     ]
    }
   ],
   "source": [
    "for i in range(162):\n",
    "    if lattice_wSC[i].type == lattice_nSC[i].type:\n",
    "        if 'length' in lattice_wSC[i]:\n",
    "            if lattice_wSC[i].length != lattice_nSC[i].length:\n",
    "                print(i,lattice_wSC[i].type,lattice_wSC[i].length,lattice_wSC[i].type,lattice_nSC[i].length)\n",
    "    else:\n",
    "        print(i,lattice_wSC[i].type,lattice_wSC[i].length,lattice_nSC[i].type,lattice_nSC[i].length)"
   ]
  },
  {
   "cell_type": "code",
   "execution_count": 9,
   "metadata": {},
   "outputs": [
    {
     "name": "stdout",
     "output_type": "stream",
     "text": [
      "141 drift\n",
      "142 drift\n",
      "143 drift\n",
      "144 drift\n",
      "145 drift\n",
      "146 drift\n",
      "147 drift\n",
      "148 drift\n",
      "149 drift\n",
      "150 drift\n",
      "151 drift\n",
      "152 drift\n",
      "153 drift\n",
      "154 drift\n",
      "155 drift\n",
      "156 drift\n",
      "157 drift\n",
      "158 drift\n",
      "159 drift\n",
      "160 drift\n",
      "1.9525000000000003\n",
      "141 nonlinear_insert\n",
      "142 drift\n",
      "143 drift\n",
      "1.9525\n"
     ]
    }
   ],
   "source": [
    "L=0\n",
    "for i in range(141,161):\n",
    "    print(i,lattice_wSC[i].type)\n",
    "    L=L+lattice_wSC[i].length\n",
    "print(L)\n",
    "L=0\n",
    "for i in range(141,144):\n",
    "    print(i,lattice_nSC[i].type)\n",
    "    L=L+lattice_nSC[i].length\n",
    "print(L)"
   ]
  },
  {
   "cell_type": "code",
   "execution_count": 10,
   "metadata": {},
   "outputs": [
    {
     "name": "stdout",
     "output_type": "stream",
     "text": [
      "221 221\n"
     ]
    }
   ],
   "source": [
    "lattice_nSC.pop(143)\n",
    "lattice_nSC.pop(142)\n",
    "lattice_nSC.pop(141)\n",
    "for i in range(141,161):\n",
    "    lattice_nSC.insert(i,lattice_wSC[i])\n",
    "print(len(lattice_wSC),len(lattice_nSC))"
   ]
  },
  {
   "cell_type": "code",
   "execution_count": 11,
   "metadata": {},
   "outputs": [],
   "source": [
    "for i in range(len(lattice_nSC)):\n",
    "    if lattice_wSC[i].type == lattice_nSC[i].type:\n",
    "        if 'length' in lattice_wSC[i]:\n",
    "            if lattice_wSC[i].length != lattice_nSC[i].length:\n",
    "                print(i,lattice_wSC[i].type,lattice_wSC[i].length,lattice_nSC[i].length)\n",
    "    else:\n",
    "        print(i,lattice_wSC[i].type,lattice_nSC[i].type,lattice_wSC[i].length,lattice_nSC[i].length)"
   ]
  },
  {
   "cell_type": "code",
   "execution_count": 12,
   "metadata": {},
   "outputs": [],
   "source": [
    "for i in range(len(lattice_nSC)):\n",
    "    if 'n_sckick' in lattice_wSC[i]:\n",
    "        lattice_nSC[i].n_sckick = lattice_wSC[i].n_sckick\n",
    "    if 'n_map' in lattice_wSC[i]:\n",
    "        lattice_nSC[i].n_map = lattice_wSC[i].n_map\n",
    "        \n",
    "        \n",
    "for i in range(len(lattice_nSC)):\n",
    "    if lattice_nSC[i].type=='dipole':\n",
    "        lattice_nSC[i].pipe_radius = lattice_wSC[i].pipe_radius/2.9\n",
    "    else:\n",
    "        lattice_nSC[i].pipe_radius = pipe_radius\n",
    "        lattice_wSC[i].pipe_radius = pipe_radius"
   ]
  },
  {
   "cell_type": "code",
   "execution_count": 13,
   "metadata": {},
   "outputs": [
    {
     "name": "stdout",
     "output_type": "stream",
     "text": [
      "0 loop\n"
     ]
    }
   ],
   "source": [
    "for i in range(len(lattice_nSC)):\n",
    "    if lattice_nSC[i].type not in ['dipole','quad','drift','nonlinear_insert']:\n",
    "        print(i,lattice_nSC[i].type)"
   ]
  },
  {
   "cell_type": "code",
   "execution_count": 14,
   "metadata": {},
   "outputs": [],
   "source": [
    "beam_nSC.nCore_y = nCore_y\n",
    "beam_nSC.nCore_z = nCore_z\n",
    "\n",
    "ke   = beam_nSC.kinetic_energy\n",
    "mass = beam_nSC.mass\n",
    "freq = beam_nSC.frequency"
   ]
  },
  {
   "cell_type": "code",
   "execution_count": 15,
   "metadata": {},
   "outputs": [],
   "source": [
    "### 1.2. generate particles"
   ]
  },
  {
   "cell_type": "code",
   "execution_count": 16,
   "metadata": {},
   "outputs": [
    {
     "name": "stdout",
     "output_type": "stream",
     "text": [
      "npt= 3834\n"
     ]
    }
   ],
   "source": [
    "testP = 0.0\n",
    "k=0\n",
    "q_m = beam_nSC.multi_charge.q_m[0]\n",
    "pTest = []\n",
    "nx = 100\n",
    "xmax = 0.98\n",
    "for x in np.linspace(-xmax,xmax,nx):\n",
    "    for y in np.linspace(-xmax,xmax,nx):\n",
    "        if x**2+y**2<=xmax**2 and y>0:\n",
    "            k+=1\n",
    "            pTest.append([x,0.0,y,0.0,0.0,0.0,q_m,0.0,k]) \n",
    "pTest = np.array(pTest)\n",
    "npt = len(pTest)\n",
    "print('npt=',npt)"
   ]
  },
  {
   "cell_type": "code",
   "execution_count": 17,
   "metadata": {},
   "outputs": [],
   "source": [
    "def normalize(data):\n",
    "    data[:,1] = (data[:,0]*alfx/np.sqrt(betx) + data[:,1]*np.sqrt(betx))/NL_c\n",
    "    data[:,3] = (data[:,2]*alfx/np.sqrt(betx) + data[:,3]*np.sqrt(betx))/NL_c\n",
    "    data[:,0] = data[:,0]/(np.sqrt(betx)*NL_c)\n",
    "    data[:,2] = data[:,2]/(np.sqrt(betx)*NL_c)\n",
    "    \n",
    "def unnormalize(data):\n",
    "    data[:,1] = (-data[:,0]*alfx + data[:,1])*NL_c/np.sqrt(betx)\n",
    "    data[:,3] = (-data[:,2]*alfx + data[:,3])*NL_c/np.sqrt(betx)\n",
    "    data[:,0] = data[:,0]*np.sqrt(betx)*NL_c\n",
    "    data[:,2] = data[:,2]*np.sqrt(betx)*NL_c"
   ]
  },
  {
   "cell_type": "code",
   "execution_count": 18,
   "metadata": {},
   "outputs": [],
   "source": [
    "unnormalize(pTest)"
   ]
  },
  {
   "cell_type": "code",
   "execution_count": 19,
   "metadata": {},
   "outputs": [
    {
     "data": {
      "text/plain": [
       "0"
      ]
     },
     "execution_count": 19,
     "metadata": {},
     "output_type": "execute_result"
    }
   ],
   "source": [
    "impact.writeParticleData(pTest, ke, mass, freq)\n",
    "beam_nSC.n_particles = npt\n",
    "beam_nSC.distribution.distribution_type = 'ReadFile'\n",
    "\n",
    "loop = impact.getElem('loop')\n",
    "loop.turns = 1\n",
    "write_pData = impact.getElem('write_raw_ptcl')\n",
    "write_pData.turn = 1\n",
    "write_pData.file_id = 111110\n",
    "write_pData.format_id = 2\n",
    "\n",
    "impact.writeInputFile(beam_nSC,[loop,write_pData]);\n",
    "impact.run(beam_nSC)"
   ]
  },
  {
   "cell_type": "code",
   "execution_count": 20,
   "metadata": {},
   "outputs": [
    {
     "data": {
      "image/png": "[encoded data removed]",
      "text/plain": [
       "<Figure size 288x259.2 with 1 Axes>"
      ]
     },
     "metadata": {},
     "output_type": "display_data"
    }
   ],
   "source": [
    "pDataInit = impact.readParticleData(111110,ke,mass,freq,format_id=2)\n",
    "plt.figure(figsize=[4,3.6])\n",
    "normalize(pDataInit)\n",
    "plt.scatter(pDataInit[:,0],pDataInit[:,2],s=0.1);\n",
    "plt.scatter(pDataInit[:,0],-pDataInit[:,2],s=0.1);\n",
    "plt.tight_layout()"
   ]
  },
  {
   "cell_type": "markdown",
   "metadata": {},
   "source": [
    "# 2. Run"
   ]
  },
  {
   "cell_type": "code",
   "execution_count": 21,
   "metadata": {},
   "outputs": [
    {
     "name": "stdout",
     "output_type": "stream",
     "text": [
      "===========================\n",
      "=========== Run ===========\n",
      "===========================\n"
     ]
    }
   ],
   "source": [
    "print('===========================')\n",
    "print('=========== Run ===========')\n",
    "print('===========================')"
   ]
  },
  {
   "cell_type": "code",
   "execution_count": 22,
   "metadata": {},
   "outputs": [],
   "source": [
    "TBT = impact.getElem('TBT')\n",
    "TBT.pID_begin = 1\n",
    "TBT.pID_end   = npt\n",
    "TBT.file_id = nTurn\n",
    "lattice_nSC.insert(1,TBT)\n",
    "lattice_wSC.insert(1,TBT)\n",
    "\n",
    "TBT_Inv = impact.getElem('TBT_integral')\n",
    "TBT_Inv.pID_begin = 1\n",
    "TBT_Inv.pID_end   = npt\n",
    "TBT_Inv.file_id = nTurn\n",
    "TBT_Inv.betx = betx\n",
    "TBT_Inv.alfx = alfx\n",
    "TBT_Inv.strength_t = NL_t\n",
    "TBT_Inv.transverse_scale_c = NL_c\n",
    "lattice_nSC.insert(2,TBT_Inv)\n",
    "lattice_wSC.insert(2,TBT_Inv)"
   ]
  },
  {
   "cell_type": "code",
   "execution_count": 23,
   "metadata": {},
   "outputs": [],
   "source": [
    "if nTurn == NTURN[0]:\n",
    "    lattice_nSC[0].turns = nTurn\n",
    "    lattice_wSC[0].turns = nTurn\n",
    "else:\n",
    "    lattice_nSC[0].turns = int(nTurn/2)\n",
    "    lattice_wSC[0].turns = int(nTurn/2)\n",
    "\n",
    "        \n",
    "lattice_nSC.append(impact.getElem('write_raw_ptcl'))\n",
    "if nTurn == NTURN[0]:\n",
    "    lattice_nSC[-1].turn = nTurn\n",
    "    lattice_wSC[-1].turn = nTurn\n",
    "else:\n",
    "    lattice_nSC[-1].turn = int(nTurn/2)\n",
    "    lattice_wSC[-1].turn = int(nTurn/2)\n",
    "\n",
    "lattice_nSC[-1].file_id = nTurn\n",
    "lattice_nSC[-1].format_id = 2"
   ]
  },
  {
   "cell_type": "markdown",
   "metadata": {},
   "source": [
    "# lattice nSC"
   ]
  },
  {
   "cell_type": "code",
   "execution_count": 24,
   "metadata": {},
   "outputs": [
    {
     "data": {
      "text/plain": [
       "0"
      ]
     },
     "execution_count": 24,
     "metadata": {},
     "output_type": "execute_result"
    }
   ],
   "source": [
    "beam_nSC.distribution.distribution_type = 'ReadFile_binary'\n",
    "if nTurn == NTURN[0]:\n",
    "    beam_nSC.distribution.file_id = 111110\n",
    "else:\n",
    "    beam_nSC.distribution.file_id = int(nTurn/2)\n",
    "impact.writeInputFile(beam_nSC,lattice_nSC,'test.in.'+str(nTurn)+'.forward') \n",
    "impact.writeInputFile(beam_nSC,lattice_nSC) \n",
    "impact.run(beam_nSC)"
   ]
  },
  {
   "cell_type": "code",
   "execution_count": 61,
   "metadata": {},
   "outputs": [
    {
     "ename": "FileNotFoundError",
     "evalue": "[Errno 2] No such file or directory: 'lost_partcl.data' -> 'lost_partcl.128.data'",
     "output_type": "error",
     "traceback": [
      "\u001b[0;31m---------------------------------------------------------------------------\u001b[0m",
      "\u001b[0;31mFileNotFoundError\u001b[0m                         Traceback (most recent call last)",
      "\u001b[0;32m<ipython-input-61-8ef2d839cf6e>\u001b[0m in \u001b[0;36m<module>\u001b[0;34m()\u001b[0m\n\u001b[0;32m----> 1\u001b[0;31m \u001b[0mos\u001b[0m\u001b[0;34m.\u001b[0m\u001b[0mrename\u001b[0m\u001b[0;34m(\u001b[0m\u001b[0;34m'lost_partcl.data'\u001b[0m\u001b[0;34m,\u001b[0m\u001b[0;34m'lost_partcl.'\u001b[0m\u001b[0;34m+\u001b[0m\u001b[0mstr\u001b[0m\u001b[0;34m(\u001b[0m\u001b[0mnTurn\u001b[0m\u001b[0;34m)\u001b[0m\u001b[0;34m+\u001b[0m\u001b[0;34m'.data'\u001b[0m\u001b[0;34m)\u001b[0m\u001b[0;34m\u001b[0m\u001b[0m\n\u001b[0m",
      "\u001b[0;31mFileNotFoundError\u001b[0m: [Errno 2] No such file or directory: 'lost_partcl.data' -> 'lost_partcl.128.data'"
     ]
    }
   ],
   "source": [
    "os.rename('lost_partcl.data','lost_partcl.'+str(nTurn)+'.data') "
   ]
  },
  {
   "cell_type": "code",
   "execution_count": 62,
   "metadata": {},
   "outputs": [
    {
     "name": "stdout",
     "output_type": "stream",
     "text": [
      "(128, 6, 46)\n",
      "(128, 2, 46)\n"
     ]
    }
   ],
   "source": [
    "indexTBT,TBTdataTmp = impact.readTBT(nTurn,ke,mass,freq)\n",
    "indexTBT,TBTdataTmp_Inv = impact.readTBT_integral(nTurn)\n",
    "print(TBTdataTmp.shape)\n",
    "print(TBTdataTmp_Inv.shape)"
   ]
  },
  {
   "cell_type": "code",
   "execution_count": 63,
   "metadata": {},
   "outputs": [
    {
     "data": {
      "image/png": "[encoded data removed]",
      "text/plain": [
       "<Figure size 288x144 with 2 Axes>"
      ]
     },
     "metadata": {},
     "output_type": "display_data"
    }
   ],
   "source": [
    "plt.figure(figsize=(4,2))\n",
    "plt.subplot(1,2,1)\n",
    "for i in range(10):\n",
    "    plt.plot(TBTdataTmp_Inv[:,0,i]/TBTdataTmp_Inv[0,0,i]-1.0)\n",
    "plt.subplot(1,2,2)\n",
    "for i in range(10):\n",
    "    plt.plot(TBTdataTmp_Inv[:,1,i]/TBTdataTmp_Inv[0,1,i]-1.0)\n",
    "plt.tight_layout()"
   ]
  },
  {
   "cell_type": "code",
   "execution_count": 28,
   "metadata": {},
   "outputs": [
    {
     "data": {
      "text/plain": [
       "[<matplotlib.lines.Line2D at 0x7f1169b93438>]"
      ]
     },
     "execution_count": 28,
     "metadata": {},
     "output_type": "execute_result"
    },
    {
     "data": {
      "image/png": "[encoded data removed]",
      "text/plain": [
       "<Figure size 576x216 with 2 Axes>"
      ]
     },
     "metadata": {},
     "output_type": "display_data"
    }
   ],
   "source": [
    "Inv = np.loadtxt('fort.81')\n",
    "plt.figure(figsize=(8,3))\n",
    "plt.subplot(1,2,1)\n",
    "plt.plot(Inv[:,1]) \n",
    "plt.subplot(1,2,2)\n",
    "plt.plot(Inv[:,2])"
   ]
  },
  {
   "cell_type": "markdown",
   "metadata": {},
   "source": [
    "# lattice wSC"
   ]
  },
  {
   "cell_type": "code",
   "execution_count": 29,
   "metadata": {},
   "outputs": [
    {
     "data": {
      "text/plain": [
       "0"
      ]
     },
     "execution_count": 29,
     "metadata": {},
     "output_type": "execute_result"
    }
   ],
   "source": [
    "impact.writeInputFile(beam_nSC,lattice_wSC) \n",
    "impact.run(beam_nSC)"
   ]
  },
  {
   "cell_type": "code",
   "execution_count": 30,
   "metadata": {},
   "outputs": [
    {
     "name": "stdout",
     "output_type": "stream",
     "text": [
      "(128, 6, 3530)\n",
      "(128, 2, 3530)\n"
     ]
    }
   ],
   "source": [
    "indexTBT,TBTdataTmp = impact.readTBT(nTurn,ke,mass,freq)\n",
    "indexTBT,TBTdataTmp_Inv = impact.readTBT_integral(nTurn)\n",
    "print(TBTdataTmp.shape)\n",
    "print(TBTdataTmp_Inv.shape)"
   ]
  },
  {
   "cell_type": "code",
   "execution_count": 31,
   "metadata": {},
   "outputs": [
    {
     "data": {
      "image/png": "[encoded data removed]",
      "text/plain": [
       "<Figure size 288x144 with 2 Axes>"
      ]
     },
     "metadata": {},
     "output_type": "display_data"
    }
   ],
   "source": [
    "plt.figure(figsize=(4,2))\n",
    "plt.subplot(1,2,1)\n",
    "for i in range(10):\n",
    "    plt.plot(TBTdataTmp_Inv[:,0,i]/TBTdataTmp_Inv[0,0,i]-1.0)\n",
    "plt.subplot(1,2,2)\n",
    "for i in range(10):\n",
    "    plt.plot(TBTdataTmp_Inv[:,1,i]/TBTdataTmp_Inv[0,1,i]-1.0)\n",
    "plt.tight_layout()"
   ]
  },
  {
   "cell_type": "code",
   "execution_count": 32,
   "metadata": {},
   "outputs": [
    {
     "data": {
      "text/plain": [
       "[<matplotlib.lines.Line2D at 0x7f116ac2cfd0>]"
      ]
     },
     "execution_count": 32,
     "metadata": {},
     "output_type": "execute_result"
    },
    {
     "data": {
      "image/png": "[encoded data removed]",
      "text/plain": [
       "<Figure size 576x216 with 2 Axes>"
      ]
     },
     "metadata": {},
     "output_type": "display_data"
    }
   ],
   "source": [
    "Inv = np.loadtxt('fort.81')\n",
    "plt.figure(figsize=(8,3))\n",
    "plt.subplot(1,2,1)\n",
    "plt.plot(Inv[:,1]) \n",
    "plt.subplot(1,2,2)\n",
    "plt.plot(Inv[:,2])"
   ]
  },
  {
   "cell_type": "code",
   "execution_count": null,
   "metadata": {},
   "outputs": [],
   "source": []
  }
 ],
 "metadata": {
  "kernelspec": {
   "display_name": "Python 3",
   "language": "python",
   "name": "python3"
  },
  "language_info": {
   "codemirror_mode": {
    "name": "ipython",
    "version": 3
   },
   "file_extension": ".py",
   "mimetype": "text/x-python",
   "name": "python",
   "nbconvert_exporter": "python",
   "pygments_lexer": "ipython3",
   "version": "3.6.5"
  }
 },
 "nbformat": 4,
 "nbformat_minor": 2
}
