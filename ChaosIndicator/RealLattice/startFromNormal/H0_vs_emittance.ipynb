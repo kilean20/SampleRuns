{
 "cells": [
  {
   "cell_type": "code",
   "execution_count": 1,
   "metadata": {},
   "outputs": [],
   "source": [
    "import numpy as np\n",
    "import pImpactR as impact\n",
    "from copy import deepcopy as copy\n",
    "import matplotlib.pyplot as plt\n",
    "from math import ceil\n",
    "import os"
   ]
  },
  {
   "cell_type": "code",
   "execution_count": 2,
   "metadata": {},
   "outputs": [
    {
     "name": "stdout",
     "output_type": "stream",
     "text": [
      "1.9065054393933862 1.4082261727304293\n"
     ]
    }
   ],
   "source": [
    "NL_c = 0.01\n",
    "NL_t = 0.4\n",
    "NL_nu= 0.3034496449165134\n",
    "NL_L = 1.8\n",
    "\n",
    "alfx = np.tan(np.pi*NL_nu)\n",
    "betx = NL_L/np.sin(2.0*np.pi*NL_nu)\n",
    "print(betx,alfx)\n",
    "\n",
    "emitx = 6.066503e-6"
   ]
  },
  {
   "cell_type": "code",
   "execution_count": 3,
   "metadata": {},
   "outputs": [
    {
     "name": "stdout",
     "output_type": "stream",
     "text": [
      "reading ImpactZ input file (\u001b[92mtest_IOTA.in\u001b[0m)\n",
      "  : mpi task info .............................done\n",
      "  : simulation control parameters .............done\n",
      "  : space charge field solver, mesh info ......done\n",
      "  : dist-type,restart,subcycle,#of state ......done\n",
      "  : Multiple Charge State info ................done\n",
      "  : particle distribution info ................done\n",
      "  : beam reference orbit info .................done\n",
      "  : converting impact dist to twiss param......done\n",
      "  : lattice info ..............................done\n"
     ]
    }
   ],
   "source": [
    "beam, lattice = impact.readInputFile('test_IOTA.in')\n",
    "lattice = impact.clearLattice(lattice)\n",
    "\n",
    "ke = beam.kinetic_energy\n",
    "mass = beam.mass\n",
    "freq = beam.frequency\n",
    "\n",
    "beam.nCore_y = 2\n",
    "beam.nCore_z = 2\n",
    "beam.n_particles = 40000\n",
    "beam.current = 0.0"
   ]
  },
  {
   "cell_type": "markdown",
   "metadata": {},
   "source": [
    "# get emittance vs H"
   ]
  },
  {
   "cell_type": "code",
   "execution_count": 4,
   "metadata": {},
   "outputs": [],
   "source": [
    "def getTwiss(H0):\n",
    "    beam.distribution.mode = 'twiss'\n",
    "    beam.distribution.distribution_type = 'IOTA_Waterbag'\n",
    "    beam.distribution.emitx = H0\n",
    "    beam.distribution.NL_t = NL_t\n",
    "    beam.distribution.NL_c = NL_c\n",
    "    beam.distribution.betx = betx\n",
    "    beam.distribution.alfx = alfx\n",
    "    beam.distribution.betz = 0.0\n",
    "    beam.distribution.alfz = 0.0\n",
    "    beam.distribution.emitz = 0.0\n",
    "\n",
    "    \n",
    "    loop = impact.getElem('loop')\n",
    "    loop.turns = 1\n",
    "\n",
    "    write_pData = impact.getElem('write_raw_ptcl')\n",
    "    write_pData.turn = 1\n",
    "    write_pData.file_id = 7777\n",
    "    write_pData.format_id = 2\n",
    "    \n",
    "    impact.writeInputFile(beam,[loop, write_pData]);\n",
    "    impact.run(beam,order=1)\n",
    "    \n",
    "    pData = impact.readParticleData(7777,ke,mass,freq,2)\n",
    "    Twiss = impact.getTwiss_from_pData(pData)\n",
    "    \n",
    "    return Twiss[:6]"
   ]
  },
  {
   "cell_type": "code",
   "execution_count": 5,
   "metadata": {},
   "outputs": [
    {
     "name": "stderr",
     "output_type": "stream",
     "text": [
      "/home/kilean/WorkSpace/pImpactR/pImpactR/impactIO.py:1684: RuntimeWarning: invalid value encountered in double_scalars\n",
      "  betz = varx/emitz\n",
      "/home/kilean/WorkSpace/pImpactR/pImpactR/impactIO.py:1685: RuntimeWarning: invalid value encountered in double_scalars\n",
      "  alfz = np.sqrt(varpx/emitz*betz-1)\n"
     ]
    }
   ],
   "source": [
    "data = []\n",
    "H0 = []\n",
    "for i in range(100):\n",
    "    H0.append(1.0e-7*(i+1))\n",
    "    data.append(getTwiss(H0[-1]))"
   ]
  },
  {
   "cell_type": "code",
   "execution_count": 6,
   "metadata": {},
   "outputs": [],
   "source": [
    "data = np.array(data)\n",
    "H0 = np.array(H0)"
   ]
  },
  {
   "cell_type": "code",
   "execution_count": 24,
   "metadata": {},
   "outputs": [
    {
     "data": {
      "text/plain": [
       "<matplotlib.legend.Legend at 0x7f61f7360250>"
      ]
     },
     "execution_count": 24,
     "metadata": {},
     "output_type": "execute_result"
    },
    {
     "data": {
      "image/png": "[encoded data removed]",
      "text/plain": [
       "<Figure size 288x216 with 1 Axes>"
      ]
     },
     "metadata": {
      "needs_background": "light"
     },
     "output_type": "display_data"
    }
   ],
   "source": [
    "plt.figure(figsize=(4,3))\n",
    "plt.plot(H0*1.0e4, data[:,2]/H0*100);\n",
    "plt.plot(H0*1.0e4, data[:,5]/H0*100);\n",
    "minv = np.min([data[:,2]/H0,data[:,5]/H0])*0.9*100\n",
    "maxv = np.max([data[:,2]/H0,data[:,5]/H0])*1.1*100\n",
    "plt.plot([emitx*1.0e4,emitx*1.0e4],[minv,maxv],'k-');\n",
    "plt.xlim(H0[0]*1.0e4,H0[-1]*1.0e4);\n",
    "plt.ylim(minv,maxv);\n",
    "plt.xlabel('H')\n",
    "plt.ylabel(r'$\\epsilon/H\\, (\\mu m)$')\n",
    "plt.legend([r'$\\epsilon_x/H$',r'$\\epsilon_y/H$'])"
   ]
  },
  {
   "cell_type": "code",
   "execution_count": 19,
   "metadata": {},
   "outputs": [
    {
     "data": {
      "text/plain": [
       "<matplotlib.legend.Legend at 0x7f61f8bc9d90>"
      ]
     },
     "execution_count": 19,
     "metadata": {},
     "output_type": "execute_result"
    },
    {
     "data": {
      "image/png": "[encoded data removed]",
      "text/plain": [
       "<Figure size 288x216 with 1 Axes>"
      ]
     },
     "metadata": {
      "needs_background": "light"
     },
     "output_type": "display_data"
    }
   ],
   "source": [
    "plt.figure(figsize=(4,3))\n",
    "plt.plot(H0*1.0e4, data[:,2]*1.0e6);\n",
    "plt.plot(H0*1.0e4, data[:,5]*1.0e6);\n",
    "minv = 0 #np.min([data[:,2]*1.0e6,data[:,5]*1.0e6])*0.5\n",
    "maxv = np.max([data[:,2]*1.0e6,data[:,5]*1.0e6])*1.0\n",
    "plt.plot([emitx*1.0e4,emitx*1.0e4],[minv,maxv],'k-');\n",
    "plt.xlim(H0[0]*1.0e4,H0[-1]*1.0e4);\n",
    "plt.ylim(minv,maxv);\n",
    "plt.xlabel('H')\n",
    "plt.ylabel(r'$\\epsilon\\, (\\mu m)$')\n",
    "plt.legend([r'$\\epsilon_x$',r'$\\epsilon_y$'])"
   ]
  },
  {
   "cell_type": "code",
   "execution_count": 20,
   "metadata": {},
   "outputs": [
    {
     "data": {
      "text/plain": [
       "<matplotlib.legend.Legend at 0x7f61f89e2610>"
      ]
     },
     "execution_count": 20,
     "metadata": {},
     "output_type": "execute_result"
    },
    {
     "data": {
      "image/png": "[encoded data removed]",
      "text/plain": [
       "<Figure size 288x216 with 1 Axes>"
      ]
     },
     "metadata": {
      "needs_background": "light"
     },
     "output_type": "display_data"
    }
   ],
   "source": [
    "plt.figure(figsize=(4,3))\n",
    "plt.plot(H0*1.0e4, data[:,0]);\n",
    "plt.plot(H0*1.0e4, data[:,3]);\n",
    "minv = np.min([data[:,0],data[:,3]])*0.9\n",
    "maxv = np.max([data[:,0],data[:,3]])*1.1\n",
    "plt.plot([emitx*1.0e4,emitx*1.0e4],[minv,maxv],'k-');\n",
    "plt.xlim(H0[0]*1.0e4,H0[-1]*1.0e4);\n",
    "plt.ylim(minv,maxv);\n",
    "plt.xlabel('H')\n",
    "plt.ylabel(r'$\\beta\\, (m)$')\n",
    "plt.legend([r'$\\beta_x$',r'$\\beta_y$'])"
   ]
  },
  {
   "cell_type": "code",
   "execution_count": 21,
   "metadata": {},
   "outputs": [
    {
     "data": {
      "text/plain": [
       "<matplotlib.legend.Legend at 0x7f61f743bbd0>"
      ]
     },
     "execution_count": 21,
     "metadata": {},
     "output_type": "execute_result"
    },
    {
     "data": {
      "image/png": "[encoded data removed]",
      "text/plain": [
       "<Figure size 288x216 with 1 Axes>"
      ]
     },
     "metadata": {
      "needs_background": "light"
     },
     "output_type": "display_data"
    }
   ],
   "source": [
    "plt.figure(figsize=(4,3))\n",
    "plt.plot(H0*1.0e4, data[:,1]);\n",
    "plt.plot(H0*1.0e4, data[:,4]);\n",
    "minv = np.min([data[:,1],data[:,4]])*0.9\n",
    "maxv = np.max([data[:,1],data[:,4]])*1.1\n",
    "plt.plot([emitx*1.0e4,emitx*1.0e4],[minv,maxv],'k-');\n",
    "plt.xlim(H0[0]*1.0e4,H0[-1]*1.0e4);\n",
    "plt.ylim(minv,maxv);\n",
    "plt.xlabel('H')\n",
    "plt.ylabel(r'$\\alpha\\, (m)$')\n",
    "plt.legend([r'$\\alpha_x$',r'$\\alpha_y$'])"
   ]
  },
  {
   "cell_type": "code",
   "execution_count": null,
   "metadata": {},
   "outputs": [],
   "source": []
  }
 ],
 "metadata": {
  "kernelspec": {
   "display_name": "Python 3",
   "language": "python",
   "name": "python3"
  },
  "language_info": {
   "codemirror_mode": {
    "name": "ipython",
    "version": 3
   },
   "file_extension": ".py",
   "mimetype": "text/x-python",
   "name": "python",
   "nbconvert_exporter": "python",
   "pygments_lexer": "ipython3",
   "version": "3.7.6"
  }
 },
 "nbformat": 4,
 "nbformat_minor": 4
}
