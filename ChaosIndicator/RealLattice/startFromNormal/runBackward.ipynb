{
 "cells": [
  {
   "cell_type": "code",
   "execution_count": 1,
   "metadata": {},
   "outputs": [],
   "source": [
    "import numpy as np\n",
    "import pImpactR as impact\n",
    "from copy import deepcopy as copy\n",
    "import matplotlib.pyplot as plt\n",
    "from math import ceil\n",
    "import os"
   ]
  },
  {
   "cell_type": "code",
   "execution_count": 2,
   "metadata": {},
   "outputs": [],
   "source": [
    "NTURN = [128,256,512,1024]\n",
    "nTurn = NTURN[3]\n",
    "pipe_radius = 0.02*np.sqrt(2.0)\n",
    "nptTest = 3834\n",
    "npt_yup = 512174"
   ]
  },
  {
   "cell_type": "markdown",
   "metadata": {},
   "source": [
    "# 1. Preparation"
   ]
  },
  {
   "cell_type": "code",
   "execution_count": 3,
   "metadata": {
    "scrolled": false
   },
   "outputs": [
    {
     "name": "stdout",
     "output_type": "stream",
     "text": [
      "reading ImpactZ input file (\u001b[92mtest_IOTA.in\u001b[0m)\n",
      "  : mpi task info .............................done\n",
      "  : simulation control parameters .............done\n",
      "  : space charge field solver, mesh info ......done\n",
      "  : dist-type,restart,subcycle,#of state ......done\n",
      "  : Multiple Charge State info ................done\n",
      "  : particle distribution info ................done\n",
      "  : beam reference orbit info .................done\n",
      "  : converting impact dist to twiss param......done\n",
      "  : lattice info ..............................done\n"
     ]
    }
   ],
   "source": [
    "beam, lattice = impact.readInputFile('test_IOTA.in')\n",
    "ke   = beam.kinetic_energy\n",
    "mass = beam.mass\n",
    "freq = beam.frequency"
   ]
  },
  {
   "cell_type": "markdown",
   "metadata": {},
   "source": [
    "### adjust lattice"
   ]
  },
  {
   "cell_type": "code",
   "execution_count": 4,
   "metadata": {},
   "outputs": [
    {
     "name": "stdout",
     "output_type": "stream",
     "text": [
      "39.968229715800106\n"
     ]
    }
   ],
   "source": [
    "for i in range(len(lattice)):\n",
    "    if 'pipe_radius' in lattice[i].keys() and lattice[i].type!='dipole':\n",
    "        lattice[i].pipe_radius = pipe_radius\n",
    "        \n",
    "lattice = [ item for item in lattice if not item.type == 'write_raw_ptcl' ]\n",
    "lattice = [ item for item in lattice if not item.type == '-8' ]\n",
    "lattice = [ item for item in lattice if not item.type == 'multipole_thin' ]\n",
    "\n",
    "\n",
    "TBTsplit = impact.getElem('TBT_multiple_file')\n",
    "TBTsplit.file_id = nTurn+1+100000\n",
    "TBTsplit.pID_begin = nptTest+1\n",
    "TBTsplit.pID_end   = nptTest+npt_yup\n",
    "TBTsplit.n_files   = 32\n",
    "lattice.insert(1,TBTsplit)\n",
    "\n",
    "TBT = impact.getElem('TBT')\n",
    "TBT.pID_begin = 1\n",
    "TBT.pID_end   = nptTest\n",
    "TBT.file_id = nTurn+100000\n",
    "lattice.insert(1,TBT)\n",
    "\n",
    "\n",
    "L=0.0\n",
    "for i in range(len(lattice)):\n",
    "    if 'length' in lattice[i].keys():\n",
    "        L = L+lattice[i].length\n",
    "print(L)"
   ]
  },
  {
   "cell_type": "markdown",
   "metadata": {},
   "source": [
    "### backward lattice"
   ]
  },
  {
   "cell_type": "code",
   "execution_count": 5,
   "metadata": {},
   "outputs": [],
   "source": [
    "latticeB = copy(lattice[::-1])\n",
    "latticeB.insert(0,copy(lattice[0]))\n",
    "latticeB.pop()\n",
    "latticeB[0].turns = nTurn\n",
    "\n",
    "for i in range(len(latticeB)):\n",
    "    if 'length' in latticeB[i]:\n",
    "        latticeB[i].length = -latticeB[i].length\n",
    "    if latticeB[i].type == 'dipole':\n",
    "        latticeB[i].bending_angle            =-latticeB[i].bending_angle\n",
    "        latticeB[i].fringe_field_integration =-latticeB[i].fringe_field_integration"
   ]
  },
  {
   "cell_type": "code",
   "execution_count": 6,
   "metadata": {},
   "outputs": [
    {
     "name": "stdout",
     "output_type": "stream",
     "text": [
      "\n",
      "                   length: -0.7330382858 [m]\n",
      "                 n_sckick: 10 [1]\n",
      "                    n_map: 20 [1]\n",
      "            bending_angle: -1.047197551 [rad]\n",
      "                       k1: 0.0\n",
      "                  file_id: 350\n",
      "              pipe_radius: 0.058 [m]\n",
      "           entrance_angle: 0.0 [rad]\n",
      "               exit_angle: 0.0 [rad]\n",
      "       entrance_curvature: 0.0 [rad]\n",
      "           exit_curvature: 0.0 [rad]\n",
      " fringe_field_integration: -0.5 [1]\n",
      "                     type: 'dipole'\n",
      "\n",
      "                   length: 0.7330382858 [m]\n",
      "                 n_sckick: 10 [1]\n",
      "                    n_map: 20 [1]\n",
      "            bending_angle: 1.047197551 [rad]\n",
      "                       k1: 0.0\n",
      "                  file_id: 350\n",
      "              pipe_radius: 0.058 [m]\n",
      "           entrance_angle: 0.0 [rad]\n",
      "               exit_angle: 0.0 [rad]\n",
      "       entrance_curvature: 0.0 [rad]\n",
      "           exit_curvature: 0.0 [rad]\n",
      " fringe_field_integration: 0.5 [1]\n",
      "                     type: 'dipole'\n"
     ]
    }
   ],
   "source": [
    "i = 34\n",
    "print(latticeB[-i])\n",
    "print(lattice[i])"
   ]
  },
  {
   "cell_type": "markdown",
   "metadata": {},
   "source": [
    "### write Impact input file"
   ]
  },
  {
   "cell_type": "code",
   "execution_count": 7,
   "metadata": {},
   "outputs": [],
   "source": [
    "beam.distribution.distribution_type = 'ReadFile_binary'\n",
    "beam.distribution.file_id = nTurn\n",
    "beam.nCore_y = 48\n",
    "beam.nCore_z = 32\n",
    "impact.writeInputFile(beam,latticeB,'test.in.'+str(nTurn)+'.backward')"
   ]
  }
 ],
 "metadata": {
  "kernelspec": {
   "display_name": "Python 3",
   "language": "python",
   "name": "python3"
  },
  "language_info": {
   "codemirror_mode": {
    "name": "ipython",
    "version": 3
   },
   "file_extension": ".py",
   "mimetype": "text/x-python",
   "name": "python",
   "nbconvert_exporter": "python",
   "pygments_lexer": "ipython3",
   "version": "3.7.6"
  }
 },
 "nbformat": 4,
 "nbformat_minor": 2
}
