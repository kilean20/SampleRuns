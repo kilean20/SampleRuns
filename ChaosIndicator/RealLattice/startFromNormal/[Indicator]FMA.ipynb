{
 "cells": [
  {
   "cell_type": "code",
   "execution_count": 1,
   "metadata": {
    "scrolled": false
   },
   "outputs": [],
   "source": [
    "import numpy as np\n",
    "import pImpactR as impact\n",
    "import matplotlib.pyplot as plt\n",
    "int = np.vectorize(int)\n",
    "cmap = plt.get_cmap('rainbow')"
   ]
  },
  {
   "cell_type": "code",
   "execution_count": 2,
   "metadata": {},
   "outputs": [],
   "source": [
    "NTURN = [128,256,512,1024,2048]\n",
    "\n",
    "NL_L = 1.8\n",
    "NL_c = 0.01\n",
    "NL_t = 0.4\n",
    "NL_nu= 0.3034496449165134\n",
    "\n",
    "ChaosPercent = 99.0\n",
    "\n",
    "npt_Test = 3834"
   ]
  },
  {
   "cell_type": "code",
   "execution_count": 3,
   "metadata": {
    "scrolled": false
   },
   "outputs": [
    {
     "name": "stdout",
     "output_type": "stream",
     "text": [
      "reading ImpactZ input file (\u001b[92mtest_IOTA.in\u001b[0m)\n",
      "  : mpi task info .............................done\n",
      "  : simulation control parameters .............done\n",
      "  : space charge field solver, mesh info ......done\n",
      "  : dist-type,restart,subcycle,#of state ......done\n",
      "  : Multiple Charge State info ................done\n",
      "  : particle distribution info ................done\n",
      "  : beam reference orbit info .................done\n",
      "  : converting impact dist to twiss param......done\n",
      "  : lattice info ..............................done\n"
     ]
    }
   ],
   "source": [
    "beam, lattice = impact.readInputFile('test_IOTA.in')\n",
    "ke   = beam.kinetic_energy\n",
    "mass = beam.mass\n",
    "freq = beam.frequency\n",
    "\n",
    "betx = NL_L/np.sin(2.0*np.pi*NL_nu)\n",
    "alfx = np.tan(np.pi*NL_nu)"
   ]
  },
  {
   "cell_type": "code",
   "execution_count": 4,
   "metadata": {},
   "outputs": [
    {
     "name": "stdout",
     "output_type": "stream",
     "text": [
      "1.9065054393933862 1.4082261727304293\n"
     ]
    }
   ],
   "source": [
    "print(betx,alfx)"
   ]
  },
  {
   "cell_type": "code",
   "execution_count": 5,
   "metadata": {},
   "outputs": [],
   "source": [
    "def normalize(data):\n",
    "    data[:,1] = (data[:,0]*alfx/np.sqrt(betx) + data[:,1]*np.sqrt(betx))/NL_c\n",
    "    data[:,3] = (data[:,2]*alfx/np.sqrt(betx) + data[:,3]*np.sqrt(betx))/NL_c\n",
    "    data[:,0] = data[:,0]/(np.sqrt(betx)*NL_c)\n",
    "    data[:,2] = data[:,2]/(np.sqrt(betx)*NL_c)\n",
    "    \n",
    "def unnormalize(data):\n",
    "    data[:,1] = (-data[:,0]*alfx + data[:,1])*NL_c/np.sqrt(betx)\n",
    "    data[:,3] = (-data[:,2]*alfx + data[:,3])*NL_c/np.sqrt(betx)\n",
    "    data[:,0] = data[:,0]*np.sqrt(betx)*NL_c\n",
    "    data[:,2] = data[:,2]*np.sqrt(betx)*NL_c"
   ]
  },
  {
   "cell_type": "code",
   "execution_count": 6,
   "metadata": {},
   "outputs": [],
   "source": [
    "pData = impact.readParticleData(111110,ke,mass,freq,format_id=2)[npt_Test:,:]\n",
    "normalize(pData)"
   ]
  },
  {
   "cell_type": "code",
   "execution_count": 7,
   "metadata": {
    "scrolled": true
   },
   "outputs": [
    {
     "data": {
      "text/plain": [
       "<matplotlib.collections.PathCollection at 0x7f7b97838c50>"
      ]
     },
     "execution_count": 7,
     "metadata": {},
     "output_type": "execute_result"
    },
    {
     "data": {
      "image/png": "[encoded data removed]",
      "text/plain": [
       "<Figure size 432x288 with 1 Axes>"
      ]
     },
     "metadata": {},
     "output_type": "display_data"
    }
   ],
   "source": [
    "counts,xbins,ybins=np.histogram2d(pData[:,0],pData[:,2],bins=16)\n",
    "\n",
    "plt.contour(counts.transpose(),\n",
    "            extent=[np.min(pData[:,0]),np.max(pData[:,0]),np.min(pData[:,2]),np.max(pData[:,2])],\n",
    "            linewidths=1,linestyles='solid',levels=[1450])\n",
    "plt.scatter(pData[:,0],pData[:,2],s=0.2)"
   ]
  },
  {
   "cell_type": "code",
   "execution_count": 8,
   "metadata": {},
   "outputs": [
    {
     "name": "stdout",
     "output_type": "stream",
     "text": [
      "128\n",
      "256\n",
      "512\n",
      "1024\n",
      "2048\n"
     ]
    }
   ],
   "source": [
    "iTBT = {}\n",
    "TBT = {}\n",
    "X = {}\n",
    "Y = {}\n",
    "Npt = {}\n",
    "\n",
    "for nturn in NTURN:\n",
    "    print(nturn)\n",
    "    iTBT[nturn],TBT[nturn] = impact.readTBT(nturn,ke,mass,freq)\n",
    "    TBT[nturn] = TBT[nturn][:,:4,:]\n",
    "    Npt[nturn] = len(iTBT[nturn])"
   ]
  },
  {
   "cell_type": "code",
   "execution_count": 9,
   "metadata": {},
   "outputs": [
    {
     "name": "stdout",
     "output_type": "stream",
     "text": [
      "0 128 128 3527 3527\n",
      "0 128 256 3482 3482\n",
      "128 256 256 3482 3482\n",
      "0 128 512 3395 3395\n"
     ]
    },
    {
     "ename": "ValueError",
     "evalue": "could not broadcast input array from shape (128,3393) into shape (128,3395)",
     "output_type": "error",
     "traceback": [
      "\u001b[0;31m---------------------------------------------------------------------------\u001b[0m",
      "\u001b[0;31mValueError\u001b[0m                                Traceback (most recent call last)",
      "\u001b[0;32m<ipython-input-9-212878150b7f>\u001b[0m in \u001b[0;36m<module>\u001b[0;34m()\u001b[0m\n\u001b[1;32m     12\u001b[0m         \u001b[0mitmp\u001b[0m \u001b[0;34m=\u001b[0m \u001b[0mnp\u001b[0m\u001b[0;34m.\u001b[0m\u001b[0min1d\u001b[0m\u001b[0;34m(\u001b[0m\u001b[0miTBT\u001b[0m\u001b[0;34m[\u001b[0m\u001b[0mjturn\u001b[0m\u001b[0;34m]\u001b[0m\u001b[0;34m,\u001b[0m\u001b[0miTBT\u001b[0m\u001b[0;34m[\u001b[0m\u001b[0mnturn\u001b[0m\u001b[0;34m]\u001b[0m\u001b[0;34m)\u001b[0m\u001b[0;34m\u001b[0m\u001b[0m\n\u001b[1;32m     13\u001b[0m         \u001b[0mtmp\u001b[0m \u001b[0;34m=\u001b[0m \u001b[0mTBT\u001b[0m\u001b[0;34m[\u001b[0m\u001b[0mjturn\u001b[0m\u001b[0;34m]\u001b[0m\u001b[0;34m[\u001b[0m\u001b[0;34m:\u001b[0m\u001b[0;34m,\u001b[0m\u001b[0;34m:\u001b[0m\u001b[0;34m,\u001b[0m\u001b[0mitmp\u001b[0m\u001b[0;34m]\u001b[0m\u001b[0;34m\u001b[0m\u001b[0m\n\u001b[0;32m---> 14\u001b[0;31m         \u001b[0mX\u001b[0m\u001b[0;34m[\u001b[0m\u001b[0mnturn\u001b[0m\u001b[0;34m]\u001b[0m\u001b[0;34m[\u001b[0m\u001b[0miturn\u001b[0m\u001b[0;34m:\u001b[0m\u001b[0mjturn\u001b[0m\u001b[0;34m]\u001b[0m \u001b[0;34m=\u001b[0m \u001b[0;34m(\u001b[0m\u001b[0mtmp\u001b[0m\u001b[0;34m[\u001b[0m\u001b[0;34m:\u001b[0m\u001b[0;34m,\u001b[0m\u001b[0;36m0\u001b[0m\u001b[0;34m,\u001b[0m\u001b[0;34m:\u001b[0m\u001b[0;34m]\u001b[0m \u001b[0;34m-\u001b[0m \u001b[0;36m1j\u001b[0m\u001b[0;34m*\u001b[0m\u001b[0;34m(\u001b[0m\u001b[0mbetx\u001b[0m\u001b[0;34m*\u001b[0m\u001b[0mtmp\u001b[0m\u001b[0;34m[\u001b[0m\u001b[0;34m:\u001b[0m\u001b[0;34m,\u001b[0m\u001b[0;36m1\u001b[0m\u001b[0;34m,\u001b[0m\u001b[0;34m:\u001b[0m\u001b[0;34m]\u001b[0m\u001b[0;34m+\u001b[0m\u001b[0malfx\u001b[0m\u001b[0;34m*\u001b[0m\u001b[0mtmp\u001b[0m\u001b[0;34m[\u001b[0m\u001b[0;34m:\u001b[0m\u001b[0;34m,\u001b[0m\u001b[0;36m0\u001b[0m\u001b[0;34m,\u001b[0m\u001b[0;34m:\u001b[0m\u001b[0;34m]\u001b[0m\u001b[0;34m)\u001b[0m\u001b[0;34m)\u001b[0m\u001b[0;34m/\u001b[0m\u001b[0;34m(\u001b[0m\u001b[0mNL_c\u001b[0m\u001b[0;34m*\u001b[0m\u001b[0mnp\u001b[0m\u001b[0;34m.\u001b[0m\u001b[0msqrt\u001b[0m\u001b[0;34m(\u001b[0m\u001b[0mbetx\u001b[0m\u001b[0;34m)\u001b[0m\u001b[0;34m)\u001b[0m\u001b[0;34m\u001b[0m\u001b[0m\n\u001b[0m\u001b[1;32m     15\u001b[0m         \u001b[0mY\u001b[0m\u001b[0;34m[\u001b[0m\u001b[0mnturn\u001b[0m\u001b[0;34m]\u001b[0m\u001b[0;34m[\u001b[0m\u001b[0miturn\u001b[0m\u001b[0;34m:\u001b[0m\u001b[0mjturn\u001b[0m\u001b[0;34m]\u001b[0m \u001b[0;34m=\u001b[0m \u001b[0;34m(\u001b[0m\u001b[0mtmp\u001b[0m\u001b[0;34m[\u001b[0m\u001b[0;34m:\u001b[0m\u001b[0;34m,\u001b[0m\u001b[0;36m2\u001b[0m\u001b[0;34m,\u001b[0m\u001b[0;34m:\u001b[0m\u001b[0;34m]\u001b[0m \u001b[0;34m-\u001b[0m \u001b[0;36m1j\u001b[0m\u001b[0;34m*\u001b[0m\u001b[0;34m(\u001b[0m\u001b[0mbetx\u001b[0m\u001b[0;34m*\u001b[0m\u001b[0mtmp\u001b[0m\u001b[0;34m[\u001b[0m\u001b[0;34m:\u001b[0m\u001b[0;34m,\u001b[0m\u001b[0;36m3\u001b[0m\u001b[0;34m,\u001b[0m\u001b[0;34m:\u001b[0m\u001b[0;34m]\u001b[0m\u001b[0;34m+\u001b[0m\u001b[0malfx\u001b[0m\u001b[0;34m*\u001b[0m\u001b[0mtmp\u001b[0m\u001b[0;34m[\u001b[0m\u001b[0;34m:\u001b[0m\u001b[0;34m,\u001b[0m\u001b[0;36m2\u001b[0m\u001b[0;34m,\u001b[0m\u001b[0;34m:\u001b[0m\u001b[0;34m]\u001b[0m\u001b[0;34m)\u001b[0m\u001b[0;34m)\u001b[0m\u001b[0;34m/\u001b[0m\u001b[0;34m(\u001b[0m\u001b[0mNL_c\u001b[0m\u001b[0;34m*\u001b[0m\u001b[0mnp\u001b[0m\u001b[0;34m.\u001b[0m\u001b[0msqrt\u001b[0m\u001b[0;34m(\u001b[0m\u001b[0mbetx\u001b[0m\u001b[0;34m)\u001b[0m\u001b[0;34m)\u001b[0m\u001b[0;34m\u001b[0m\u001b[0m\n\u001b[1;32m     16\u001b[0m         \u001b[0mprint\u001b[0m\u001b[0;34m(\u001b[0m\u001b[0miturn\u001b[0m\u001b[0;34m,\u001b[0m\u001b[0mjturn\u001b[0m\u001b[0;34m,\u001b[0m\u001b[0mnturn\u001b[0m\u001b[0;34m,\u001b[0m\u001b[0mnp\u001b[0m\u001b[0;34m.\u001b[0m\u001b[0msum\u001b[0m\u001b[0;34m(\u001b[0m\u001b[0mitmp\u001b[0m\u001b[0;34m)\u001b[0m\u001b[0;34m,\u001b[0m\u001b[0mnpt\u001b[0m\u001b[0;34m)\u001b[0m\u001b[0;34m\u001b[0m\u001b[0m\n",
      "\u001b[0;31mValueError\u001b[0m: could not broadcast input array from shape (128,3393) into shape (128,3395)"
     ]
    }
   ],
   "source": [
    "for i in range(len(NTURN)):\n",
    "    nturn = NTURN[i]\n",
    "    \n",
    "    npt = len(iTBT[nturn])\n",
    "    X[nturn]=np.zeros((nturn,npt),dtype=np.complex)\n",
    "    Y[nturn]=np.zeros((nturn,npt),dtype=np.complex)\n",
    "    \n",
    "    iturn = 0\n",
    "    for j in range(i+1):\n",
    "        jturn = NTURN[j]\n",
    "        \n",
    "        itmp = np.in1d(iTBT[jturn],iTBT[nturn])\n",
    "        tmp = TBT[jturn][:,:,itmp]\n",
    "        X[nturn][iturn:jturn] = (tmp[:,0,:] - 1j*(betx*tmp[:,1,:]+alfx*tmp[:,0,:]))/(NL_c*np.sqrt(betx))\n",
    "        Y[nturn][iturn:jturn] = (tmp[:,2,:] - 1j*(betx*tmp[:,3,:]+alfx*tmp[:,2,:]))/(NL_c*np.sqrt(betx))\n",
    "        print(iturn,jturn,nturn,np.sum(itmp),npt)\n",
    "        \n",
    "        iturn = jturn"
   ]
  },
  {
   "cell_type": "markdown",
   "metadata": {},
   "source": [
    "### Apply NAFF"
   ]
  },
  {
   "cell_type": "code",
   "execution_count": null,
   "metadata": {},
   "outputs": [],
   "source": [
    "def getClosestDiff(ref,arr):\n",
    "    # ref.shape = nSample\n",
    "    nMode = len(arr)\n",
    "    if ref>1.0:\n",
    "        ref = ref - 1.0\n",
    "    for i in range(nMode):\n",
    "        if arr[i]>1.0:\n",
    "            arr[i]=arr[i]-1.0\n",
    "    diff = np.abs(ref-arr)\n",
    "    for i in range(nMode):\n",
    "        if (diff[i]>0.5):\n",
    "            diff[i] = 1.0 - diff[i]\n",
    "    return np.min(diff)"
   ]
  },
  {
   "cell_type": "code",
   "execution_count": null,
   "metadata": {
    "scrolled": false
   },
   "outputs": [],
   "source": [
    "iMax = {}\n",
    "iMin = {}\n",
    "tuneXbefore= {}\n",
    "tuneYbefore= {}\n",
    "Xdiff = {}\n",
    "Ydiff = {}\n",
    "Adiff = {}\n",
    "\n",
    "for nturn in NTURN[1:]:\n",
    "    npt = len(X[nturn][0,:])\n",
    "    tuneXbefore[nturn] = np.zeros(npt)\n",
    "    tuneYbefore[nturn] = np.zeros(npt)\n",
    "    Xdiff[nturn] = np.zeros(npt)\n",
    "    Ydiff[nturn] = np.zeros(npt)\n",
    "    Adiff[nturn] = np.zeros(npt)\n",
    "    for i in range(npt):\n",
    "        signal = X[nturn][:int(nturn/2),i] -np.mean(X[nturn][:int(nturn/2),i])\n",
    "        tuneXbefore[nturn][i],amp,dummy = impact.util.naff(1,signal,window_id=1)\n",
    "        signal = X[nturn][int(nturn/2):,i] -np.mean(X[nturn][int(nturn/2):,i])\n",
    "        tune,amp,dummy = impact.util.naff(3,signal,window_id=1)\n",
    "        Xdiff[nturn][i] = getClosestDiff(tuneXbefore[nturn][i],tune)\n",
    "        \n",
    "        signal = Y[nturn][:int(nturn/2),i] -np.mean(Y[nturn][:int(nturn/2),i])\n",
    "        tuneYbefore[nturn][i],amp,dummy = impact.util.naff(1,signal,window_id=1)\n",
    "        signal = Y[nturn][int(nturn/2):,i] -np.mean(Y[nturn][int(nturn/2):,i])\n",
    "        tune,amp,dummy = impact.util.naff(3,signal,window_id=1)\n",
    "        Ydiff[nturn][i] = getClosestDiff(tuneYbefore[nturn][i],tune)\n",
    "        \n",
    "    Adiff[nturn] = np.sqrt(Xdiff[nturn]**2 +Ydiff[nturn]**2)\n",
    "    Adiff[nturn] = np.log10(Adiff[nturn]+1.0e-6)\n",
    "    Xdiff[nturn] = np.log10(Xdiff[nturn]+1.0e-6)\n",
    "    Ydiff[nturn] = np.log10(Ydiff[nturn]+1.0e-6)\n",
    "    iMax[nturn] = np.argmax(Adiff[nturn]),np.argmax(Xdiff[nturn]),np.argmax(Ydiff[nturn])\n",
    "    iMin[nturn] = np.argmin(Adiff[nturn]),np.argmin(Xdiff[nturn]),np.argmin(Ydiff[nturn])"
   ]
  },
  {
   "cell_type": "markdown",
   "metadata": {},
   "source": [
    "# plot"
   ]
  },
  {
   "cell_type": "markdown",
   "metadata": {},
   "source": [
    "### FFT"
   ]
  },
  {
   "cell_type": "code",
   "execution_count": null,
   "metadata": {
    "scrolled": false
   },
   "outputs": [],
   "source": [
    "n=NTURN[1]\n",
    "plt.figure(figsize=[8,6])\n",
    "plt.subplot(3,2,1)\n",
    "plt.semilogy(np.abs(np.fft.fft(X[n][:,iMax[n][1]])),'r:')\n",
    "plt.semilogy(np.abs(np.fft.fft(X[n][:,iMin[n][1]])),'k')\n",
    "plt.xlabel('fft$_x$')\n",
    "plt.subplot(3,2,2)\n",
    "plt.semilogy(np.abs(np.fft.fft(Y[n][:,iMax[n][2]])),'r:')\n",
    "plt.semilogy(np.abs(np.fft.fft(Y[n][:,iMin[n][2]])),'k')\n",
    "plt.legend(['most chaotic','most regular'],loc=1)\n",
    "plt.xlabel('fft$_y$')\n",
    "plt.subplot(3,2,3)\n",
    "plt.semilogy(np.abs(np.fft.fft(X[n][:NTURN[-2],iMin[n][1]])),'r:')\n",
    "plt.semilogy(np.abs(np.fft.fft(X[n][NTURN[-2]:,iMin[n][1]])),'k')\n",
    "plt.xlabel('fft_regular_comparison$_x$')\n",
    "plt.subplot(3,2,4)\n",
    "plt.semilogy(np.abs(np.fft.fft(Y[n][:NTURN[-2],iMin[n][2]])),'r:')\n",
    "plt.semilogy(np.abs(np.fft.fft(Y[n][NTURN[-2]:,iMin[n][2]])),'k')\n",
    "plt.xlabel('fft_regular_comparison$_y$')\n",
    "plt.legend(['1st half','2nd half'],loc=1)\n",
    "plt.subplot(3,2,5)\n",
    "plt.semilogy(np.abs(np.fft.fft(X[n][:NTURN[-2],iMax[n][1]])),'r:')\n",
    "plt.semilogy(np.abs(np.fft.fft(X[n][NTURN[-2]:,iMax[n][1]])),'k')\n",
    "plt.xlabel('fft_chotic_comparison$_x$')\n",
    "plt.subplot(3,2,6)\n",
    "plt.semilogy(np.abs(np.fft.fft(Y[n][:NTURN[-2],iMax[n][2]])),'r:')\n",
    "plt.semilogy(np.abs(np.fft.fft(Y[n][NTURN[-2]:,iMax[n][2]])),'k')\n",
    "plt.xlabel('fft_chotic_comparison$_y$')\n",
    "plt.legend(['1st half','2nd half'],loc=1)\n",
    "plt.tight_layout()\n",
    "plt.savefig('Realistic.FMA.FFT.png',dpi=180)\n",
    "# plt.close()"
   ]
  },
  {
   "cell_type": "markdown",
   "metadata": {},
   "source": [
    "### tune plot"
   ]
  },
  {
   "cell_type": "code",
   "execution_count": null,
   "metadata": {},
   "outputs": [],
   "source": [
    "def resonnace(ix,iy,N):\n",
    "    if ix==0 and iy==0:\n",
    "        nux=0\n",
    "        nuy=0\n",
    "    else:\n",
    "        if ix==0:\n",
    "            nux = np.linspace(-1,1,2)\n",
    "            nuy = np.linspace(float( N )/iy, float( N )/iy, 2)\n",
    "        elif iy==0:\n",
    "            nuy = np.linspace(-1,1,2)\n",
    "            nux = np.linspace(float( N )/ix, float( N )/ix, 2)\n",
    "        else:        \n",
    "            nux = np.linspace(-1,1,2)\n",
    "            nuy = ix/float(iy)*nux +  N/float(iy)\n",
    "    return nux,nuy"
   ]
  },
  {
   "cell_type": "code",
   "execution_count": null,
   "metadata": {},
   "outputs": [],
   "source": [
    "plt.figure(figsize=[4,3])\n",
    "for i in range(-4,4):\n",
    "    for j in range(-4,4):\n",
    "        for k in range(-4,4):\n",
    "            nux,nuy = resonnace(i,j,k)\n",
    "            plt.plot(nux,nuy,c='k',lw=0.2,ls='--')\n",
    "f1=plt.scatter(tuneXbefore[n],tuneYbefore[n],c=Adiff[n],s=1.0,marker='o')\n",
    "\n",
    "tmp = np.sort(tuneXbefore[n])\n",
    "std = 0.2*np.std(tmp)\n",
    "xmin = tmp[32]-std\n",
    "xmax = tmp[-32]+std\n",
    "\n",
    "tmp = np.sort(tuneYbefore[n])\n",
    "std = 0.2*np.std(tmp)\n",
    "ymin = tmp[32]-std\n",
    "ymax = tmp[-32]+std\n",
    "\n",
    "plt.xlabel(r'$\\nu_x$')\n",
    "plt.ylabel(r'$\\nu_y$')\n",
    "plt.colorbar(f1)\n",
    "plt.xlim(xmin,xmax)\n",
    "plt.ylim(ymin,ymax)\n",
    "plt.tight_layout()\n",
    "plt.savefig('Realistic.FMA.tune.png',dpi=180)\n",
    "# plt.close()"
   ]
  },
  {
   "cell_type": "code",
   "execution_count": null,
   "metadata": {},
   "outputs": [],
   "source": [
    "import scipy\n",
    "\n",
    "dist = scipy.stats.gaussian_kde(pData[:,[0,2]].transpose())\n",
    "weight = dist([np.real(X[n][0,:]),np.real(Y[n][0,:])])"
   ]
  },
  {
   "cell_type": "code",
   "execution_count": null,
   "metadata": {},
   "outputs": [],
   "source": [
    "iCore = np.argwhere(weight > 0.2) # empirically found ...\n",
    "iCore = iTBT[n][iCore]\n",
    "\n",
    "iCoreTmp = np.in1d(iTBT[n],iCore)\n",
    "xTmp = np.real(X[n][0,iCoreTmp])\n",
    "yTmp = np.real(Y[n][0,iCoreTmp])\n",
    "\n",
    "grid = impact.data.dictClass()\n",
    "grid.extent = [xTmp.min(),xTmp.max(),yTmp.min(),yTmp.max()]\n",
    "grid.x, grid.y = np.mgrid[xTmp.min():xTmp.max():64j, yTmp.min():yTmp.max():64j]\n",
    "grid.points = np.vstack([grid.x.ravel(), grid.y.ravel()])\n",
    "grid.z = np.reshape(dist(grid.points).T, grid.x.shape)\n",
    "\n",
    "plt.figure(figsize=(12,3.3))\n",
    "plt.subplot(1,3,1)\n",
    "plt.scatter(np.real(X[n][0,:]),np.real(Y[n][0,:]),s=0.4)\n",
    "plt.scatter(pData[::10,0],pData[::10,2],s=0.1)\n",
    "plt.scatter(xTmp,yTmp,s=4.0)\n",
    "plt.subplot(1,3,2)\n",
    "plt.scatter(pData[::10,0],pData[::10,2],s=0.1)\n",
    "plt.scatter(xTmp,yTmp,s=4.0)\n",
    "plt.subplot(1,3,3)\n",
    "plt.scatter(pData[::10,0],pData[::10,2],s=0.1)\n",
    "plt.contour(grid.z.T, extent=grid.extent, levels=[0.2]);\n",
    "plt.tight_layout()\n",
    "\n",
    "dist = None\n",
    "weight = None"
   ]
  },
  {
   "cell_type": "code",
   "execution_count": null,
   "metadata": {},
   "outputs": [],
   "source": [
    "plt.figure(figsize=[4,3])\n",
    "for i in range(-4,4):\n",
    "    for j in range(-4,4):\n",
    "        for k in range(-4,4):\n",
    "            nux,nuy = resonnace(i,j,k)\n",
    "            plt.plot(nux,nuy,c='k',lw=0.2,ls='--')\n",
    "f1=plt.scatter(tuneXbefore[n][iCoreTmp],tuneYbefore[n][iCoreTmp],c=Adiff[n][iCoreTmp],s=1.0,marker='o')\n",
    "\n",
    "tmp = np.sort(tuneXbefore[n][iCoreTmp])\n",
    "std = 0.2*np.std(tmp)\n",
    "xmin = tmp[8]-std\n",
    "xmax = tmp[-8]+std\n",
    "\n",
    "tmp = np.sort(tuneYbefore[n][iCoreTmp])\n",
    "std = 0.2*np.std(tmp)\n",
    "ymin = tmp[8]-std\n",
    "ymax = tmp[-8]+std\n",
    "\n",
    "plt.xlabel(r'$\\nu_x$')\n",
    "plt.ylabel(r'$\\nu_y$')\n",
    "plt.colorbar(f1)\n",
    "plt.xlim(xmin,xmax)\n",
    "plt.ylim(ymin,ymax)\n",
    "plt.tight_layout()\n",
    "plt.savefig('Realistic.FMA.tune.core.png',dpi=180)\n",
    "# plt.close()"
   ]
  },
  {
   "cell_type": "markdown",
   "metadata": {},
   "source": [
    "### Poincare"
   ]
  },
  {
   "cell_type": "code",
   "execution_count": null,
   "metadata": {
    "scrolled": false
   },
   "outputs": [],
   "source": [
    "plt.figure(figsize=[3.3,3])\n",
    "plt.scatter(np.real(X[n][:,iMax[n][0]]),np.real(Y[n][:,iMax[n][0]]),c='r',s=0.1)\n",
    "plt.scatter(np.real(X[n][:,iMin[n][0]]),np.real(Y[n][:,iMin[n][0]]),c='k',s=0.1)\n",
    "plt.xlabel('x')\n",
    "plt.ylabel('y')\n",
    "plt.legend(['most chaotic','most regular'],loc=1)\n",
    "plt.tight_layout()\n",
    "plt.savefig('Realistic.FMA.poincare_xy.png',dpi=180)"
   ]
  },
  {
   "cell_type": "code",
   "execution_count": null,
   "metadata": {
    "scrolled": false
   },
   "outputs": [],
   "source": [
    "plt.figure(figsize=[3.3,3])\n",
    "plt.scatter(np.real(X[n][:,iMax[n][0]]),np.imag(X[n][:,iMax[n][0]]),c='r',s=0.1)\n",
    "plt.scatter(np.real(X[n][:,iMin[n][0]]),np.imag(X[n][:,iMin[n][0]]),c='k',s=0.1)\n",
    "plt.xlabel('x')\n",
    "plt.ylabel('px')\n",
    "plt.legend(['most chaotic','most regular'],loc=1)\n",
    "plt.tight_layout()\n",
    "plt.savefig('Realistic.FMA.poincare_xpx.png',dpi=180)"
   ]
  },
  {
   "cell_type": "code",
   "execution_count": null,
   "metadata": {
    "scrolled": true
   },
   "outputs": [],
   "source": [
    "plt.figure(figsize=[3.3,3])\n",
    "plt.scatter(np.real(Y[n][:,iMax[n][0]]),np.imag(Y[n][:,iMax[n][0]]),c='r',s=0.1)\n",
    "plt.scatter(np.real(Y[n][:,iMin[n][0]]),np.imag(Y[n][:,iMin[n][0]]),c='k',s=0.1)\n",
    "plt.xlabel('y')\n",
    "plt.ylabel('py')\n",
    "plt.legend(['most chaotic','most regular'],loc=1)\n",
    "plt.tight_layout()\n",
    "plt.savefig('Realistic.FMA.poincare_ypy.png',dpi=180)"
   ]
  },
  {
   "cell_type": "markdown",
   "metadata": {},
   "source": [
    "### DA"
   ]
  },
  {
   "cell_type": "code",
   "execution_count": null,
   "metadata": {
    "scrolled": true
   },
   "outputs": [],
   "source": [
    "xmax = np.max([np.real(X[n][0,:]),np.real(Y[n][0,:])])\n",
    "for n in NTURN[1:]:\n",
    "    plt.figure(figsize=[4,3.3])\n",
    "    f1=plt.scatter(np.real(X[n][0,:]),np.real(Y[n][0,:]),c=Adiff[n],s=1.6,marker='s')\n",
    "    plt.scatter(np.real(X[n][0,:]),-np.real(Y[n][0,:]),c=Adiff[n],s=1.6,marker='s')\n",
    "    plt.scatter([-1.0,1.0],[0.0,0.0],c='r',s=77,marker='x')\n",
    "    plt.xlim(-xmax*1.1,xmax*1.1)\n",
    "    plt.ylim(-xmax*1.1,xmax*1.1)\n",
    "    plt.xlabel('x')\n",
    "    plt.ylabel('y')\n",
    "    plt.title(r'log ($\\Delta$)')\n",
    "    plt.colorbar(f1)\n",
    "    plt.contour(counts.transpose(),\n",
    "                extent=[np.min(pData[:,0]),np.max(pData[:,0]),np.min(pData[:,2]),np.max(pData[:,2])],\n",
    "                linewidths=1,colors='white',linestyles='solid',levels=[1450])\n",
    "    plt.savefig('Realistic.FMA.DA.turn='+str(int(n/2))+'.png',dpi=180)"
   ]
  },
  {
   "cell_type": "code",
   "execution_count": null,
   "metadata": {},
   "outputs": [],
   "source": []
  }
 ],
 "metadata": {
  "kernelspec": {
   "display_name": "Python 3",
   "language": "python",
   "name": "python3"
  },
  "language_info": {
   "codemirror_mode": {
    "name": "ipython",
    "version": 3
   },
   "file_extension": ".py",
   "mimetype": "text/x-python",
   "name": "python",
   "nbconvert_exporter": "python",
   "pygments_lexer": "ipython3",
   "version": "3.6.5"
  }
 },
 "nbformat": 4,
 "nbformat_minor": 2
}
