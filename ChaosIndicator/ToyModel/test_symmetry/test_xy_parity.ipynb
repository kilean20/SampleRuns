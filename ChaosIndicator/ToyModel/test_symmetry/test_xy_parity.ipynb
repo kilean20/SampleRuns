{
 "cells": [
  {
   "cell_type": "code",
   "execution_count": 1,
   "metadata": {},
   "outputs": [],
   "source": [
    "import numpy as np\n",
    "import pImpactR as impact\n",
    "from copy import deepcopy as copy\n",
    "import matplotlib.pyplot as plt\n",
    "import sys"
   ]
  },
  {
   "cell_type": "code",
   "execution_count": 2,
   "metadata": {},
   "outputs": [],
   "source": [
    "input_fname = 'test_toymodel.in'\n",
    "np.set_printoptions(formatter={'float': lambda x: format(x, '1.2E')})\n",
    "nTurn = 1024\n",
    "nTurnSplit = 0\n",
    "dTune = 0\n",
    "nCore_y = 1\n",
    "nCore_z = 1"
   ]
  },
  {
   "cell_type": "code",
   "execution_count": 3,
   "metadata": {},
   "outputs": [],
   "source": [
    "# old_stdout = sys.stdout\n",
    "# log_file   = open(\"log.\"+str(dTune),\"w\")\n",
    "# sys.stdout = log_file"
   ]
  },
  {
   "cell_type": "code",
   "execution_count": 4,
   "metadata": {},
   "outputs": [],
   "source": [
    "def getArgLostLive(TBTdata,rad):\n",
    "    dummy,iLost = np.where(np.sqrt(TBTdata[:,0,:]**2+TBTdata[:,2,:]**2)>rad)\n",
    "    iLost = set(iLost)\n",
    "    iLive = set(np.arange(npt))\n",
    "    iLive = iLive - iLost\n",
    "    iLost=np.array(list(iLost))\n",
    "    iLive=np.array(list(iLive))\n",
    "    return iLost,iLive"
   ]
  },
  {
   "cell_type": "markdown",
   "metadata": {},
   "source": [
    "##### grid data for contour plot"
   ]
  },
  {
   "cell_type": "code",
   "execution_count": 5,
   "metadata": {},
   "outputs": [],
   "source": [
    "from scipy.interpolate import griddata\n",
    "xmax = 0.01\n",
    "xi = np.linspace(-xmax*1.1,xmax*1.1,240)\n",
    "yi = np.linspace(-xmax*1.1,xmax*1.1,240)"
   ]
  },
  {
   "cell_type": "markdown",
   "metadata": {},
   "source": [
    "# 1. Preparation"
   ]
  },
  {
   "cell_type": "markdown",
   "metadata": {},
   "source": [
    "### 1.1 read InputFile and simplify lattice"
   ]
  },
  {
   "cell_type": "code",
   "execution_count": 6,
   "metadata": {
    "scrolled": false
   },
   "outputs": [
    {
     "name": "stdout",
     "output_type": "stream",
     "text": [
      "reading ImpactZ input file (\u001b[92mtest_toymodel.in\u001b[0m)\n",
      "  : mpi task info .............................done\n",
      "  : simulation control parameters .............done\n",
      "  : space charge field solver, mesh info ......done\n",
      "  : dist-type,restart,subcycle,#of state ......done\n",
      "  : Multiple Charge State info ................done\n",
      "  : particle distribution info ................done\n",
      "  : beam reference orbit info .................done\n",
      "  : converting impact dist to twiss param......done\n",
      "  : lattice info ..............................done\n"
     ]
    }
   ],
   "source": [
    "beam, lattice = impact.readInputFile(input_fname);\n",
    "beam.nCore_y = nCore_y\n",
    "beam.nCore_z = nCore_z\n",
    "beam.distribution.distribution_type = 'ReadFile'\n",
    "beam.current = 0.0\n",
    "lattice[0].turns = 2*nTurn + nTurnSplit\n",
    "betx = beam.distribution.betx\n",
    "alfx = beam.distribution.alfx"
   ]
  },
  {
   "cell_type": "code",
   "execution_count": 7,
   "metadata": {},
   "outputs": [],
   "source": [
    "for i in range(len(lattice)-1,0,-1):\n",
    "    if lattice[i].type == 'write_raw_ptcl':\n",
    "        lattice.pop(i)\n",
    "lattice[1].n_sckick = 100\n",
    "lattice[2].tune_advance = 0.01*dTune"
   ]
  },
  {
   "cell_type": "markdown",
   "metadata": {},
   "source": [
    "### 1.2. generate particles"
   ]
  },
  {
   "cell_type": "code",
   "execution_count": 8,
   "metadata": {
    "scrolled": true
   },
   "outputs": [
    {
     "name": "stdout",
     "output_type": "stream",
     "text": [
      "initial npt= 16\n"
     ]
    }
   ],
   "source": [
    "testP = 0.0\n",
    "k=0\n",
    "q_m = beam.multi_charge.q_m[0]\n",
    "pTest = []\n",
    "x=0.002\n",
    "y=0.002\n",
    "px=0.002\n",
    "py=0.002\n",
    "\n",
    "pTest.append([x, px,y, py,0.0,0.0,q_m,0.0,13])\n",
    "pTest.append([x,-px,y, py,0.0,0.0,q_m,0.0,14])\n",
    "pTest.append([x, px,y,-py,0.0,0.0,q_m,0.0,15])\n",
    "pTest.append([x,-px,y,-py,0.0,0.0,q_m,0.0,16])\n",
    "pTest.append([-x, px,y, py,0.0,0.0,q_m,0.0,13])\n",
    "pTest.append([-x,-px,y, py,0.0,0.0,q_m,0.0,14])\n",
    "pTest.append([-x, px,y,-py,0.0,0.0,q_m,0.0,15])\n",
    "pTest.append([-x,-px,y,-py,0.0,0.0,q_m,0.0,16])\n",
    "pTest.append([x, px,-y, py,0.0,0.0,q_m,0.0,13])\n",
    "pTest.append([x,-px,-y, py,0.0,0.0,q_m,0.0,14])\n",
    "pTest.append([x, px,-y,-py,0.0,0.0,q_m,0.0,15])\n",
    "pTest.append([x,-px,-y,-py,0.0,0.0,q_m,0.0,16])\n",
    "pTest.append([-x, px,-y, py,0.0,0.0,q_m,0.0,13])\n",
    "pTest.append([-x,-px,-y, py,0.0,0.0,q_m,0.0,14])\n",
    "pTest.append([-x, px,-y,-py,0.0,0.0,q_m,0.0,15])\n",
    "pTest.append([-x,-px,-y,-py,0.0,0.0,q_m,0.0,16])\n",
    "\n",
    "for i in range(len(pTest)):\n",
    "    pTest[i][-1]=i+1\n",
    "\n",
    "pTest = np.array(pTest)\n",
    "ke = beam.kinetic_energy\n",
    "mass = beam.mass\n",
    "freq = beam.frequency\n",
    "impact.writeParticleData(pTest, ke, mass, freq)\n",
    "\n",
    "npt = len(pTest)\n",
    "beam.n_particles = npt\n",
    "print('initial npt=',npt)"
   ]
  },
  {
   "cell_type": "markdown",
   "metadata": {},
   "source": [
    "# 2. FMA"
   ]
  },
  {
   "cell_type": "markdown",
   "metadata": {},
   "source": [
    "### 2.1. run"
   ]
  },
  {
   "cell_type": "code",
   "execution_count": 9,
   "metadata": {},
   "outputs": [
    {
     "name": "stdout",
     "output_type": "stream",
     "text": [
      "===========================\n",
      "=========== FMA ===========\n",
      "===========================\n"
     ]
    }
   ],
   "source": [
    "print('===========================')\n",
    "print('=========== FMA ===========')\n",
    "print('===========================')"
   ]
  },
  {
   "cell_type": "code",
   "execution_count": 10,
   "metadata": {},
   "outputs": [
    {
     "data": {
      "text/plain": [
       "0"
      ]
     },
     "execution_count": 10,
     "metadata": {},
     "output_type": "execute_result"
    }
   ],
   "source": [
    "TBT = impact.getElem('TBT')\n",
    "TBT.file_id = dTune\n",
    "lattice.insert(1,TBT)\n",
    "\n",
    "TBT_Inv = impact.getElem('TBT_integral')\n",
    "TBT_Inv.file_id = dTune\n",
    "TBT_Inv.betx = betx\n",
    "TBT_Inv.alfx = alfx\n",
    "TBT_Inv.strength_t = 0.4\n",
    "TBT_Inv.transverse_scale_c = 0.01\n",
    "lattice.insert(2,TBT_Inv)\n",
    "\n",
    "impact.writeInputFile(beam,lattice) \n",
    "impact.run(beam)"
   ]
  },
  {
   "cell_type": "code",
   "execution_count": 11,
   "metadata": {},
   "outputs": [],
   "source": [
    "indexTBT,TBTdata = impact.readTBT(dTune,ke,mass,freq)"
   ]
  },
  {
   "cell_type": "code",
   "execution_count": 12,
   "metadata": {},
   "outputs": [],
   "source": [
    "X = TBTdata[:,0,:] - 1j*(betx*TBTdata[:,1,:]+alfx*TBTdata[:,0,:])\n",
    "Y = TBTdata[:,2,:] - 1j*(betx*TBTdata[:,3,:]+alfx*TBTdata[:,2,:])\n",
    "tuneXbefore= np.zeros([1,npt])\n",
    "tuneXafter = np.zeros([3,npt])\n",
    "tuneYbefore= np.zeros([1,npt])\n",
    "tuneYafter = np.zeros([3,npt])\n",
    "for i in range(npt):\n",
    "    tuneXbefore[:,i],amp,dummy = impact.util.naff(1,X[:nTurn,i],window_id=1)\n",
    "    tuneXafter [:,i],amp,dummy = impact.util.naff(3,X[nTurn+nTurnSplit:,i],window_id=1)\n",
    "    tuneYbefore[:,i],amp,dummy = impact.util.naff(1,Y[:nTurn,i],window_id=1)\n",
    "    tuneYafter [:,i],amp,dummy = impact.util.naff(3,Y[nTurn+nTurnSplit:,i],window_id=1)"
   ]
  },
  {
   "cell_type": "code",
   "execution_count": 13,
   "metadata": {},
   "outputs": [],
   "source": [
    "def getClosestDiff(ref,arr):\n",
    "    # ref.shape = nSample\n",
    "    nMode, nSample = arr.shape\n",
    "    diff = np.abs(ref-arr)\n",
    "    for i in range(nMode):\n",
    "        for j in range(nSample):\n",
    "            if (diff[i,j]>0.5):\n",
    "                diff[i,j] = 1.0 - diff[i,j]\n",
    "    return np.min(diff,0)"
   ]
  },
  {
   "cell_type": "code",
   "execution_count": 14,
   "metadata": {},
   "outputs": [],
   "source": [
    "Xdiff = getClosestDiff(tuneXbefore,tuneXafter)\n",
    "Ydiff = getClosestDiff(tuneYbefore,tuneYafter)\n",
    "Adiff = np.sqrt(Xdiff**2 +Ydiff**2)\n",
    "\n",
    "Xstd = np.std(Xdiff)\n",
    "Ystd = np.std(Ydiff)\n",
    "Astd = np.sqrt(Xstd**2+Ystd**2)"
   ]
  },
  {
   "cell_type": "code",
   "execution_count": 15,
   "metadata": {},
   "outputs": [
    {
     "name": "stdout",
     "output_type": "stream",
     "text": [
      "[3.28E-12 6.35E-14 5.93E-11 1.86E-12 6.35E-14 3.28E-12 1.86E-12 5.93E-11\n",
      " 5.93E-11 1.86E-12 3.28E-12 6.35E-14 1.86E-12 5.93E-11 6.35E-14 3.28E-12]\n"
     ]
    }
   ],
   "source": [
    "print(Adiff)"
   ]
  },
  {
   "cell_type": "code",
   "execution_count": 16,
   "metadata": {},
   "outputs": [
    {
     "name": "stdout",
     "output_type": "stream",
     "text": [
      "(0.0019999999443449314-0.006629462926754244j) (0.0019999999443449314-0.006629462926754244j)\n",
      "(0.0019999999443449314+0.0009965586551566358j) (0.0019999999443449314-0.006629462926754244j)\n",
      "(0.0019999999443449314-0.006629462926754244j) (0.0019999999443449314+0.0009965586551566358j)\n",
      "(0.0019999999443449314+0.0009965586551566358j) (0.0019999999443449314+0.0009965586551566358j)\n",
      "(-0.0019999999443449314-0.0009965586551566358j) (0.0019999999443449314-0.006629462926754244j)\n",
      "(-0.0019999999443449314+0.006629462926754244j) (0.0019999999443449314-0.006629462926754244j)\n",
      "(-0.0019999999443449314-0.0009965586551566358j) (0.0019999999443449314+0.0009965586551566358j)\n",
      "(-0.0019999999443449314+0.006629462926754244j) (0.0019999999443449314+0.0009965586551566358j)\n",
      "(0.0019999999443449314-0.006629462926754244j) (-0.0019999999443449314-0.0009965586551566358j)\n",
      "(0.0019999999443449314+0.0009965586551566358j) (-0.0019999999443449314-0.0009965586551566358j)\n",
      "(0.0019999999443449314-0.006629462926754244j) (-0.0019999999443449314+0.006629462926754244j)\n",
      "(0.0019999999443449314+0.0009965586551566358j) (-0.0019999999443449314+0.006629462926754244j)\n",
      "(-0.0019999999443449314-0.0009965586551566358j) (-0.0019999999443449314-0.0009965586551566358j)\n",
      "(-0.0019999999443449314+0.006629462926754244j) (-0.0019999999443449314-0.0009965586551566358j)\n",
      "(-0.0019999999443449314-0.0009965586551566358j) (-0.0019999999443449314+0.006629462926754244j)\n",
      "(-0.0019999999443449314+0.006629462926754244j) (-0.0019999999443449314+0.006629462926754244j)\n"
     ]
    }
   ],
   "source": [
    "for i in range(len(X[0,:])):\n",
    "    print(X[0,i],Y[0,i])"
   ]
  },
  {
   "cell_type": "code",
   "execution_count": null,
   "metadata": {},
   "outputs": [],
   "source": []
  }
 ],
 "metadata": {
  "kernelspec": {
   "display_name": "Python 3",
   "language": "python",
   "name": "python3"
  },
  "language_info": {
   "codemirror_mode": {
    "name": "ipython",
    "version": 3
   },
   "file_extension": ".py",
   "mimetype": "text/x-python",
   "name": "python",
   "nbconvert_exporter": "python",
   "pygments_lexer": "ipython3",
   "version": "3.6.5"
  }
 },
 "nbformat": 4,
 "nbformat_minor": 2
}
