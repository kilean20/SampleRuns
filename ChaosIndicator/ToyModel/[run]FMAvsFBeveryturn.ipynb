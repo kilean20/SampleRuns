{
 "cells": [
  {
   "cell_type": "code",
   "execution_count": 1,
   "metadata": {},
   "outputs": [],
   "source": [
    "import numpy as np\n",
    "import pImpactR as impact\n",
    "from copy import deepcopy as copy\n",
    "import matplotlib.pyplot as plt\n",
    "import sys"
   ]
  },
  {
   "cell_type": "code",
   "execution_count": 2,
   "metadata": {},
   "outputs": [],
   "source": [
    "input_fname = 'test_toymodel.in'\n",
    "np.set_printoptions(formatter={'float': lambda x: format(x, '1.2E')})\n",
    "nTurn = 1024\n",
    "nTurnSplit = 0\n",
    "dTune = 0\n",
    "nCore_y = 8\n",
    "nCore_z = 6"
   ]
  },
  {
   "cell_type": "code",
   "execution_count": 3,
   "metadata": {},
   "outputs": [],
   "source": [
    "# old_stdout = sys.stdout\n",
    "# log_file   = open(\"log.\"+str(dTune),\"w\")\n",
    "# sys.stdout = log_file"
   ]
  },
  {
   "cell_type": "code",
   "execution_count": 4,
   "metadata": {},
   "outputs": [],
   "source": [
    "def getArgLostLive(TBTdata,rad):\n",
    "    dummy,iLost = np.where(np.sqrt(TBTdata[:,0,:]**2+TBTdata[:,2,:]**2)>rad)\n",
    "    iLost = set(iLost)\n",
    "    iLive = set(np.arange(npt))\n",
    "    iLive = iLive - iLost\n",
    "    iLost=np.array(list(iLost))\n",
    "    iLive=np.array(list(iLive))\n",
    "    return iLost,iLive"
   ]
  },
  {
   "cell_type": "markdown",
   "metadata": {},
   "source": [
    "##### grid data for contour plot"
   ]
  },
  {
   "cell_type": "code",
   "execution_count": 5,
   "metadata": {},
   "outputs": [],
   "source": [
    "from scipy.interpolate import griddata\n",
    "xmax = 0.01\n",
    "xi = np.linspace(-xmax*1.1,xmax*1.1,240)\n",
    "yi = np.linspace(-xmax*1.1,xmax*1.1,240)"
   ]
  },
  {
   "cell_type": "markdown",
   "metadata": {},
   "source": [
    "# 1. Preparation"
   ]
  },
  {
   "cell_type": "markdown",
   "metadata": {},
   "source": [
    "### 1.1 read InputFile and simplify lattice"
   ]
  },
  {
   "cell_type": "code",
   "execution_count": 6,
   "metadata": {
    "scrolled": false
   },
   "outputs": [
    {
     "name": "stdout",
     "output_type": "stream",
     "text": [
      "reading ImpactZ input file (\u001b[92mtest_toymodel.in\u001b[0m)\n",
      "  : mpi task info .............................done\n",
      "  : simulation control parameters .............done\n",
      "  : space charge field solver, mesh info ......done\n",
      "  : dist-type,restart,subcycle,#of state ......done\n",
      "  : Multiple Charge State info ................done\n",
      "  : particle distribution info ................done\n",
      "  : beam reference orbit info .................done\n",
      "  : converting impact dist to twiss param......done\n",
      "  : lattice info ..............................done\n"
     ]
    }
   ],
   "source": [
    "beam, lattice = impact.readInputFile(input_fname);\n",
    "beam.nCore_y = nCore_y\n",
    "beam.nCore_z = nCore_z\n",
    "beam.distribution.distribution_type = 'ReadFile'\n",
    "beam.current = 0.0\n",
    "lattice[0].turns = 2*nTurn + nTurnSplit\n",
    "betx = beam.distribution.betx\n",
    "alfx = beam.distribution.alfx"
   ]
  },
  {
   "cell_type": "code",
   "execution_count": 7,
   "metadata": {},
   "outputs": [],
   "source": [
    "for i in range(len(lattice)-1,0,-1):\n",
    "    if lattice[i].type == 'write_raw_ptcl':\n",
    "        lattice.pop(i)\n",
    "lattice[1].n_sckick = 100\n",
    "lattice[2].tune_advance = 0.01*dTune"
   ]
  },
  {
   "cell_type": "markdown",
   "metadata": {},
   "source": [
    "### 1.2. generate particles"
   ]
  },
  {
   "cell_type": "code",
   "execution_count": 8,
   "metadata": {
    "scrolled": true
   },
   "outputs": [
    {
     "name": "stdout",
     "output_type": "stream",
     "text": [
      "initial npt= 7860\n"
     ]
    }
   ],
   "source": [
    "testP = 0.0\n",
    "k=0\n",
    "q_m = beam.multi_charge.q_m[0]\n",
    "pTest = []\n",
    "nx = 100\n",
    "for i in np.arange(-(nx-1)/2.0,(nx-1)/2.0+0.5):\n",
    "    for j in np.arange(-(nx-1)/2.0,(nx-1)/2.0+0.5):\n",
    "        x=2.0*i*xmax/nx\n",
    "        y=2.0*j*xmax/nx\n",
    "        if x**2+y**2<=xmax**2 :\n",
    "            k+=1\n",
    "            pTest.append([x,0.0,y,0.0,0.0,0.0,q_m,0.0,k])\n",
    "\n",
    "pTest = np.array(pTest)\n",
    "ke = beam.kinetic_energy\n",
    "mass = beam.mass\n",
    "freq = beam.frequency\n",
    "impact.writeParticleData(pTest, ke, mass, freq)\n",
    "\n",
    "npt = len(pTest)\n",
    "beam.n_particles = npt\n",
    "print('initial npt=',npt)"
   ]
  },
  {
   "cell_type": "markdown",
   "metadata": {},
   "source": [
    "# 2. FMA"
   ]
  },
  {
   "cell_type": "markdown",
   "metadata": {},
   "source": [
    "### 2.1. run"
   ]
  },
  {
   "cell_type": "code",
   "execution_count": null,
   "metadata": {},
   "outputs": [],
   "source": [
    "print('===========================')\n",
    "print('=========== FMA ===========')\n",
    "print('===========================')"
   ]
  },
  {
   "cell_type": "code",
   "execution_count": null,
   "metadata": {},
   "outputs": [],
   "source": [
    "TBT = impact.getElem('TBT')\n",
    "TBT.file_id = dTune\n",
    "lattice.insert(1,TBT)\n",
    "\n",
    "TBT_Inv = impact.getElem('TBT_integral')\n",
    "TBT_Inv.file_id = dTune\n",
    "TBT_Inv.betx = betx\n",
    "TBT_Inv.alfx = alfx\n",
    "TBT_Inv.strength_t = 0.4\n",
    "TBT_Inv.transverse_scale_c = 0.01\n",
    "lattice.insert(2,TBT_Inv)\n",
    "\n",
    "impact.writeInputFile(beam,lattice) \n",
    "impact.run(beam)"
   ]
  },
  {
   "cell_type": "code",
   "execution_count": null,
   "metadata": {},
   "outputs": [],
   "source": [
    "indexTBT,TBTdataTmp = impact.readTBT(dTune,ke,mass,freq)\n",
    "pDataOut= impact.readParticleData(-111111,ke,mass,freq)\n",
    "pDataIn = impact.readParticleData(-111110,ke,mass,freq)"
   ]
  },
  {
   "cell_type": "code",
   "execution_count": null,
   "metadata": {},
   "outputs": [],
   "source": [
    "iLost,iLive = getArgLostLive(TBTdataTmp,rad=2.0*xmax*np.sqrt(2.0))\n",
    "nptLive = len(iLive)\n",
    "nptLost = len(iLost)\n",
    "TBTdata = TBTdataTmp[:,:,iLive]\n",
    "print('TBTdata.shape =',TBTdata.shape)\n",
    "print('nptLost,nptLive =',nptLost,nptLive)"
   ]
  },
  {
   "cell_type": "code",
   "execution_count": null,
   "metadata": {},
   "outputs": [],
   "source": [
    "indexTBT,TBTdataTmp_Inv = impact.readTBT_integral(dTune)\n",
    "# back to Chad's definition of I2\n",
    "TBTdataTmp_Inv[:,1,:]=TBTdataTmp_Inv[:,1,:]**2\n",
    "TBTdata_Inv = TBTdataTmp_Inv[:,:,iLive]\n",
    "print('TBTdata_Inv.shape',TBTdata_Inv.shape)"
   ]
  },
  {
   "cell_type": "code",
   "execution_count": null,
   "metadata": {},
   "outputs": [],
   "source": [
    "X = TBTdata[:,0,:] - 1j*(betx*TBTdata[:,1,:]+alfx*TBTdata[:,0,:])\n",
    "Y = TBTdata[:,2,:] - 1j*(betx*TBTdata[:,3,:]+alfx*TBTdata[:,2,:])\n",
    "tuneXbefore= np.zeros([1,nptLive])\n",
    "tuneXafter = np.zeros([3,nptLive])\n",
    "tuneYbefore= np.zeros([1,nptLive])\n",
    "tuneYafter = np.zeros([3,nptLive])\n",
    "for i in range(nptLive):\n",
    "    tuneXbefore[:,i],amp = impact.util.naff(1,X[:nTurn,i],window_id=1)\n",
    "    tuneXafter [:,i],amp = impact.util.naff(3,X[nTurn+nTurnSplit:,i],window_id=1)\n",
    "    tuneYbefore[:,i],amp = impact.util.naff(1,Y[:nTurn,i],window_id=1)\n",
    "    tuneYafter [:,i],amp = impact.util.naff(3,Y[nTurn+nTurnSplit:,i],window_id=1)"
   ]
  },
  {
   "cell_type": "code",
   "execution_count": null,
   "metadata": {},
   "outputs": [],
   "source": [
    "def getClosestDiff(ref,arr):\n",
    "    # ref.shape = nSample\n",
    "    nMode, nSample = arr.shape\n",
    "    diff = np.abs(ref-arr)\n",
    "    for i in range(nMode):\n",
    "        for j in range(nSample):\n",
    "            if (diff[i,j]>0.5):\n",
    "                diff[i,j] = 1.0 - diff[i,j]\n",
    "    return np.min(diff,0)"
   ]
  },
  {
   "cell_type": "code",
   "execution_count": null,
   "metadata": {},
   "outputs": [],
   "source": [
    "Xdiff = getClosestDiff(tuneXbefore,tuneXafter)\n",
    "Ydiff = getClosestDiff(tuneYbefore,tuneYafter)\n",
    "Adiff = np.sqrt(Xdiff**2 +Ydiff**2)\n",
    "\n",
    "Xstd = np.std(Xdiff)\n",
    "Ystd = np.std(Ydiff)\n",
    "Astd = np.sqrt(Xstd**2+Ystd**2)\n",
    "\n",
    "AdiffLog = np.log10(Adiff+1.0e-6)\n",
    "XdiffLog = np.log10(Xdiff+1.0e-6)\n",
    "YdiffLog = np.log10(Ydiff+1.0e-6)\n",
    "\n",
    "iMaxX = np.argmax(Xdiff)\n",
    "iMaxY = np.argmax(Ydiff)\n",
    "iMaxA = np.argmax(Adiff)\n",
    "iMinX = np.argmin(Xdiff)\n",
    "iMinY = np.argmin(Ydiff)\n",
    "iMinA = np.argmin(Adiff)\n",
    "\n",
    "XdiffSig= 1.0/(1+np.exp(-0.5*(Xdiff-np.mean(Xdiff))/Xstd))\n",
    "YdiffSig= 1.0/(1+np.exp(-0.5*(Ydiff-np.mean(Ydiff))/Ystd))\n",
    "AdiffSig= 1.0/(1+np.exp(-0.5*(Adiff-np.mean(Adiff))/Astd))"
   ]
  },
  {
   "cell_type": "markdown",
   "metadata": {},
   "source": [
    "### 2.2 plot"
   ]
  },
  {
   "cell_type": "code",
   "execution_count": null,
   "metadata": {},
   "outputs": [],
   "source": [
    "plt.figure(figsize=[11,3])\n",
    "plt.subplot(1,3,1)\n",
    "plt.hist(Adiff,bins=100);\n",
    "plt.yscale('log', nonposy='clip')\n",
    "plt.xlabel(r'$\\Delta$')\n",
    "plt.ylabel('count')\n",
    "plt.subplot(1,3,2)\n",
    "plt.hist(AdiffLog,bins=400);\n",
    "plt.yscale('log', nonposy='clip')\n",
    "plt.xlabel(r'log($\\Delta$)')\n",
    "plt.ylabel('count')\n",
    "plt.subplot(1,3,3)\n",
    "plt.hist(AdiffSig,bins=200);\n",
    "plt.yscale('log', nonposy='clip')\n",
    "plt.xlabel(r'sigmoid($\\Delta$)')\n",
    "plt.ylabel('count')\n",
    "plt.tight_layout()\n",
    "plt.savefig('FMA.hist.Adiff.'+str(dTune)+'.png',dpi=180)\n",
    "# plt.close()\n"
   ]
  },
  {
   "cell_type": "markdown",
   "metadata": {},
   "source": [
    "##### FFT"
   ]
  },
  {
   "cell_type": "code",
   "execution_count": null,
   "metadata": {
    "scrolled": true
   },
   "outputs": [],
   "source": [
    "plt.figure(figsize=[8,6])\n",
    "plt.subplot(3,2,1)\n",
    "plt.semilogy(np.abs(np.fft.fft(X[:,iMaxX])),'r:')\n",
    "plt.semilogy(np.abs(np.fft.fft(X[:,iMinX])),'k')\n",
    "plt.xlabel('fft$_x$')\n",
    "plt.subplot(3,2,2)\n",
    "plt.semilogy(np.abs(np.fft.fft(Y[:,iMaxY])),'r:')\n",
    "plt.semilogy(np.abs(np.fft.fft(Y[:,iMinY])),'k')\n",
    "plt.legend(['most chaotic','most regular'],loc=1)\n",
    "plt.xlabel('fft$_y$')\n",
    "plt.subplot(3,2,3)\n",
    "plt.semilogy(np.abs(np.fft.fft(X[:nTurn,iMinX])),'k')\n",
    "plt.semilogy(np.abs(np.fft.fft(X[nTurn+nTurnSplit:,iMinX])),'r:')\n",
    "plt.xlabel('fft_regular_comparison$_x$')\n",
    "plt.subplot(3,2,4)\n",
    "plt.semilogy(np.abs(np.fft.fft(Y[:nTurn,iMinY])),'k')\n",
    "plt.semilogy(np.abs(np.fft.fft(Y[nTurn+nTurnSplit:,iMinY])),'r:')\n",
    "plt.xlabel('fft_regular_comparison$_y$')\n",
    "plt.legend(['1st half','2nd half'],loc=1)\n",
    "plt.subplot(3,2,5)\n",
    "plt.semilogy(np.abs(np.fft.fft(X[:nTurn,iMaxX])),'k')\n",
    "plt.semilogy(np.abs(np.fft.fft(X[nTurn+nTurnSplit:,iMaxX])),'r:')\n",
    "plt.xlabel('fft_chotic_comparison$_x$')\n",
    "plt.subplot(3,2,6)\n",
    "plt.semilogy(np.abs(np.fft.fft(Y[:nTurn,iMaxY])),'k')\n",
    "plt.semilogy(np.abs(np.fft.fft(Y[nTurn+nTurnSplit:,iMaxY])),'r:')\n",
    "plt.xlabel('fft_chotic_comparison$_y$')\n",
    "plt.legend(['1st half','2nd half'],loc=1)\n",
    "plt.tight_layout()\n",
    "plt.savefig('FMA.FFT.'+str(dTune)+'.png',dpi=180)\n",
    "# plt.close()\n"
   ]
  },
  {
   "cell_type": "markdown",
   "metadata": {},
   "source": [
    "##### tune plot"
   ]
  },
  {
   "cell_type": "code",
   "execution_count": null,
   "metadata": {},
   "outputs": [],
   "source": [
    "plt.figure(figsize=[4,3])\n",
    "# x = np.arange(0.3,0.5,0.01)\n",
    "# y = -5*x/4.0/5+1.0*5/4.0/5 + 1.0/4.0/5.0\n",
    "# plt.plot(x,y)\n",
    "f1=plt.scatter(tuneXbefore[0,:],tuneYbefore[0,:],c=AdiffLog,s=1.0,marker='s')\n",
    "plt.xlim(np.array([0.3,0.43])+dTune*0.01)\n",
    "plt.ylim(np.array([0,0.3])+dTune*0.01)\n",
    "plt.xlabel(r'$\\nu_x$')\n",
    "plt.ylabel(r'$\\nu_y$')\n",
    "plt.colorbar(f1)\n",
    "plt.tight_layout()\n",
    "plt.savefig('FMA.tune.A.'+str(dTune)+'.png',dpi=180)\n",
    "# plt.close()\n"
   ]
  },
  {
   "cell_type": "code",
   "execution_count": null,
   "metadata": {},
   "outputs": [],
   "source": [
    "plt.figure(figsize=[4,3])\n",
    "f1=plt.scatter(tuneXbefore[0,:],tuneYbefore[0,:],c=XdiffLog,s=1.0,marker='s')\n",
    "plt.colorbar(f1)\n",
    "plt.xlim(np.array([0.3,0.43])+dTune*0.01)\n",
    "plt.ylim(np.array([0,0.3])+dTune*0.01)\n",
    "plt.tight_layout()\n",
    "plt.savefig('FMA.tune.X.'+str(dTune)+'.png',dpi=180)"
   ]
  },
  {
   "cell_type": "code",
   "execution_count": null,
   "metadata": {},
   "outputs": [],
   "source": [
    "plt.figure(figsize=[4,3])\n",
    "f1=plt.scatter(tuneXbefore[0,:],tuneYbefore[0,:],c=YdiffLog,s=1.0,marker='s')\n",
    "plt.xlabel(r'$\\nu_x$')\n",
    "plt.ylabel(r'$\\nu_y$')\n",
    "plt.xlim(np.array([0.3,0.43])+dTune*0.01)\n",
    "plt.ylim(np.array([0,0.3])+dTune*0.01)\n",
    "plt.colorbar(f1)\n",
    "plt.tight_layout()\n",
    "plt.savefig('FMA.tune.Y.'+str(dTune)+'.png',dpi=180)\n",
    "# plt.close()\n"
   ]
  },
  {
   "cell_type": "markdown",
   "metadata": {},
   "source": [
    "##### Poincare"
   ]
  },
  {
   "cell_type": "code",
   "execution_count": null,
   "metadata": {},
   "outputs": [],
   "source": [
    "plt.figure(figsize=[3.3,3])\n",
    "plt.scatter(TBTdata [:,0,iMaxA],TBTdata [:,2,iMaxA],c='r',s=0.1)\n",
    "plt.scatter(TBTdata [:,0,iMinA],TBTdata [:,2,iMinA],c='k',s=0.1)\n",
    "plt.xlabel('x')\n",
    "plt.ylabel('y')\n",
    "plt.legend(['chaotic','regular'],loc=1)\n",
    "plt.tight_layout()\n",
    "plt.savefig('FMA.Poincare.A.'+str(dTune)+'.png',dpi=180)\n",
    "# plt.close()\n"
   ]
  },
  {
   "cell_type": "code",
   "execution_count": null,
   "metadata": {},
   "outputs": [],
   "source": [
    "plt.figure(figsize=[3.3,3])\n",
    "plt.scatter(TBTdata [:,0,iMaxA],TBTdata [:,1,iMaxA],c='r',s=0.1)\n",
    "plt.scatter(TBTdata [:,0,iMinA],TBTdata [:,1,iMinA],c='k',s=0.1)\n",
    "plt.xlabel('x')\n",
    "plt.ylabel('px')\n",
    "plt.legend(['most chaotic','most regular'],loc=1)\n",
    "plt.tight_layout()\n",
    "plt.savefig('FMA.Poincare.X.'+str(dTune)+'.png',dpi=180)\n",
    "# plt.close()\n"
   ]
  },
  {
   "cell_type": "code",
   "execution_count": null,
   "metadata": {},
   "outputs": [],
   "source": [
    "plt.figure(figsize=[3.3,3])\n",
    "plt.scatter(TBTdata [:,2,iMaxA],TBTdata [:,3,iMaxA],c='r',s=0.1)\n",
    "plt.scatter(TBTdata [:,2,iMinA],TBTdata [:,3,iMinA],c='k',s=0.1)\n",
    "plt.xlabel('y')\n",
    "plt.ylabel('py')\n",
    "plt.legend(['most chaotic','most regular'],loc=1)\n",
    "plt.tight_layout()\n",
    "plt.savefig('FMA.Poincare.Y.'+str(dTune)+'.png',dpi=180)\n",
    "# plt.close()\n"
   ]
  },
  {
   "cell_type": "markdown",
   "metadata": {},
   "source": [
    "##### Dynamic Aperture  (Log)"
   ]
  },
  {
   "cell_type": "code",
   "execution_count": null,
   "metadata": {},
   "outputs": [],
   "source": [
    "xmax = np.max([TBTdata[0,0,:],TBTdata[0,2,:]])\n",
    "plt.figure(figsize=[4,3.3])\n",
    "f1=plt.scatter(TBTdata[0,0,:],TBTdata[0,2,:],c=AdiffLog,s=1.6,marker='s')\n",
    "plt.scatter(TBTdata[0,0,iMaxA],TBTdata[0,2,iMaxA],c='r',s=77,marker='x')\n",
    "plt.xlim(-xmax*1.1,xmax*1.1)\n",
    "plt.ylim(-xmax*1.1,xmax*1.1)\n",
    "plt.xlabel('x (m)')\n",
    "plt.ylabel('y (m)')\n",
    "plt.title(r'log ($\\Delta$)')\n",
    "plt.colorbar(f1)\n",
    "plt.savefig('FMA.DA.Log.A.'+str(dTune)+'.png',dpi=180)\n",
    "# plt.close()\n"
   ]
  },
  {
   "cell_type": "code",
   "execution_count": null,
   "metadata": {},
   "outputs": [],
   "source": [
    "plt.figure(figsize=[4,3.3])\n",
    "f1=plt.scatter(TBTdata[0,0,:],TBTdata[0,2,:],c=XdiffLog,s=1.6,marker='s')\n",
    "plt.scatter(TBTdata[0,0,iMaxX],TBTdata[0,2,iMaxX],c='r',s=77,marker='x')\n",
    "plt.xlim(-xmax*1.1,xmax*1.1)\n",
    "plt.ylim(-xmax*1.1,xmax*1.1)\n",
    "plt.xlabel('x (m)')\n",
    "plt.ylabel('y (m)')\n",
    "plt.title(r'log ($\\Delta_x$)')\n",
    "plt.colorbar(f1)\n",
    "plt.savefig('FMA.DA.Log.X.'+str(dTune)+'.png',dpi=180)\n",
    "# plt.close()\n"
   ]
  },
  {
   "cell_type": "code",
   "execution_count": null,
   "metadata": {
    "scrolled": false
   },
   "outputs": [],
   "source": [
    "plt.figure(figsize=[4,3.3])\n",
    "f1=plt.scatter(TBTdata[0,0,:],TBTdata[0,2,:],c=YdiffLog,s=1.6,marker='s')\n",
    "plt.scatter(TBTdata[0,0,iMaxY],TBTdata[0,2,iMaxY],c='r',s=77,marker='x')\n",
    "plt.xlim(-xmax*1.1,xmax*1.1)\n",
    "plt.ylim(-xmax*1.1,xmax*1.1)\n",
    "plt.xlabel('x (m)')\n",
    "plt.ylabel('y (m)')\n",
    "plt.title(r'log ($\\Delta_y$)')\n",
    "plt.colorbar(f1)\n",
    "plt.savefig('FMA.DA.Log.Y.'+str(dTune)+'.png',dpi=180)\n",
    "# plt.close()\n"
   ]
  },
  {
   "cell_type": "markdown",
   "metadata": {},
   "source": [
    "##### Dynamic Aperture  (Sigmoid)"
   ]
  },
  {
   "cell_type": "code",
   "execution_count": null,
   "metadata": {},
   "outputs": [],
   "source": [
    "xmax = np.max([TBTdata[0,0,:],TBTdata[0,2,:]])\n",
    "plt.figure(figsize=[4,3.3])\n",
    "f1=plt.scatter(TBTdata[0,0,:],TBTdata[0,2,:],c=AdiffSig,s=1.6,marker='s')\n",
    "plt.scatter(TBTdata[0,0,iMaxA],TBTdata[0,2,iMaxA],c='r',s=77,marker='x')\n",
    "plt.xlim(-xmax*1.1,xmax*1.1)\n",
    "plt.ylim(-xmax*1.1,xmax*1.1)\n",
    "plt.xlabel('x (m)')\n",
    "plt.ylabel('y (m)')\n",
    "plt.title(r'sigmoid ($\\Delta$)')\n",
    "plt.colorbar(f1)\n",
    "plt.savefig('FMA.DA.Sig.A.'+str(dTune)+'.png',dpi=180)\n",
    "# plt.close()\n"
   ]
  },
  {
   "cell_type": "code",
   "execution_count": null,
   "metadata": {},
   "outputs": [],
   "source": [
    "plt.figure(figsize=[4,3.3])\n",
    "f1=plt.scatter(TBTdata[0,0,:],TBTdata[0,2,:],c=XdiffSig,s=1.6,marker='s')\n",
    "plt.scatter(TBTdata[0,0,iMaxX],TBTdata[0,2,iMaxX],c='r',s=77,marker='x')\n",
    "plt.xlim(-xmax*1.1,xmax*1.1)\n",
    "plt.ylim(-xmax*1.1,xmax*1.1)\n",
    "plt.xlabel('x (m)')\n",
    "plt.ylabel('y (m)')\n",
    "plt.title(r'sigmoid ($\\Delta_x$)')\n",
    "plt.colorbar(f1)\n",
    "plt.savefig('FMA.DA.Sig.X.'+str(dTune)+'.png',dpi=180)\n",
    "# plt.close()\n"
   ]
  },
  {
   "cell_type": "code",
   "execution_count": null,
   "metadata": {
    "scrolled": true
   },
   "outputs": [],
   "source": [
    "plt.figure(figsize=[4,3.3])\n",
    "f1=plt.scatter(TBTdata[0,0,:],TBTdata[0,2,:],c=YdiffSig,s=1.6,marker='s')\n",
    "plt.scatter(TBTdata[0,0,iMaxY],TBTdata[0,2,iMaxY],c='r',s=77,marker='x')\n",
    "plt.xlim(-xmax*1.1,xmax*1.1)\n",
    "plt.ylim(-xmax*1.1,xmax*1.1)\n",
    "plt.xlabel('x (m)')\n",
    "plt.ylabel('y (m)')\n",
    "plt.title(r'sigmoid ($\\Delta_y$)')\n",
    "plt.colorbar(f1)\n",
    "plt.savefig('FMA.DA.Sig.Y.'+str(dTune)+'.png',dpi=180)\n",
    "# plt.close()\n"
   ]
  },
  {
   "cell_type": "markdown",
   "metadata": {},
   "source": [
    "##### Inv"
   ]
  },
  {
   "cell_type": "code",
   "execution_count": null,
   "metadata": {},
   "outputs": [],
   "source": [
    "plt.figure(figsize=[4,3])\n",
    "f1=plt.scatter(TBTdata_Inv[0,0,:],TBTdata_Inv[0,1,:],c=AdiffLog,s=3.0,marker='s',alpha=0.5)\n",
    "plt.scatter(TBTdata_Inv[0,0,iMaxA],TBTdata_Inv[0,1,iMaxA],c='r',s=77,marker='x')\n",
    "plt.xlim(0,1.15)\n",
    "plt.ylim(0,2.3)\n",
    "plt.xlabel(r'$I_1$')\n",
    "plt.ylabel(r'$I_2$')\n",
    "plt.colorbar(f1)\n",
    "plt.tight_layout()\n",
    "plt.savefig('FMA.Inv.Log.A.'+str(dTune)+'.png',dpi=180)\n",
    "# plt.close()\n"
   ]
  },
  {
   "cell_type": "code",
   "execution_count": null,
   "metadata": {},
   "outputs": [],
   "source": [
    "plt.figure(figsize=[4,3])\n",
    "f1=plt.scatter(TBTdata_Inv[0,0,:],TBTdata_Inv[0,1,:],c=AdiffSig,s=3.0,marker='s',alpha=0.5)\n",
    "plt.scatter(TBTdata_Inv[0,0,iMaxA],TBTdata_Inv[0,1,iMaxA],c='r',s=77,marker='x')\n",
    "plt.xlim(0,1.15)\n",
    "plt.ylim(0,2.3)\n",
    "plt.xlabel(r'$I_1$')\n",
    "plt.ylabel(r'$I_2$')\n",
    "plt.colorbar(f1)\n",
    "plt.tight_layout()\n",
    "plt.savefig('FMA.Inv.Sig.A.'+str(dTune)+'.png',dpi=180)\n",
    "# plt.close()\n"
   ]
  },
  {
   "cell_type": "code",
   "execution_count": null,
   "metadata": {},
   "outputs": [],
   "source": [
    "plt.figure(figsize=[8,2])\n",
    "plt.subplot(1,2,1)\n",
    "plt.plot(TBTdata_Inv[:,0,iMaxA]/np.mean(TBTdata_Inv[:,0,iMaxA])-1.0,'r:')\n",
    "plt.plot(TBTdata_Inv[:,0,iMinA]/np.mean(TBTdata_Inv[:,0,iMinA])-1.0,'k')\n",
    "plt.xlabel('turn number')\n",
    "plt.ylabel(r'$\\mathrm{I}_1/\\langle \\mathrm{I}_1 \\rangle $')\n",
    "plt.legend(['chaotic','regular'],loc=1)\n",
    "plt.subplot(1,2,2)\n",
    "plt.plot(TBTdata_Inv[:,1,iMaxA]/np.mean(TBTdata_Inv[:,1,iMaxA])-1.0,'r:')\n",
    "plt.plot(TBTdata_Inv[:,1,iMinA]/np.mean(TBTdata_Inv[:,1,iMinA])-1.0,'k')\n",
    "plt.ylabel(r'$\\mathrm{I}_2/\\langle \\mathrm{I}_2 \\rangle $')\n",
    "plt.xlabel('turn number')\n",
    "plt.legend(['chaotic','regular'],loc=1)\n",
    "plt.tight_layout()\n",
    "plt.savefig('FMA.Inv.'+str(dTune)+'.png',dpi=180)\n",
    "# plt.close()\n"
   ]
  },
  {
   "cell_type": "code",
   "execution_count": null,
   "metadata": {},
   "outputs": [],
   "source": [
    "plt.figure(figsize=[8,2])\n",
    "plt.subplot(1,2,1)\n",
    "plt.plot(TBTdata_Inv[:,0,iMaxA]/np.mean(TBTdata_Inv[:,0,iMaxA])-1.0)\n",
    "plt.xlabel('turn number')\n",
    "plt.ylabel(r'$\\mathrm{I}_1/\\langle \\mathrm{I}_1 \\rangle $')\n",
    "plt.subplot(1,2,2)\n",
    "plt.plot(TBTdata_Inv[:,1,iMaxA]/np.mean(TBTdata_Inv[:,1,iMaxA])-1.0)\n",
    "plt.xlabel('turn number')\n",
    "plt.ylabel(r'$\\mathrm{I}_2/\\langle \\mathrm{I}_2 \\rangle $')\n",
    "plt.tight_layout()\n",
    "plt.savefig('FMA.Inv.Chaotic'+str(dTune)+'.png',dpi=180)\n",
    "# plt.close()\n"
   ]
  },
  {
   "cell_type": "markdown",
   "metadata": {},
   "source": [
    "# 3. Backward"
   ]
  },
  {
   "cell_type": "code",
   "execution_count": null,
   "metadata": {},
   "outputs": [],
   "source": [
    "print('===========================')\n",
    "print('======== Backward =========')\n",
    "print('===========================')"
   ]
  },
  {
   "cell_type": "markdown",
   "metadata": {},
   "source": [
    "### 3.1 run"
   ]
  },
  {
   "cell_type": "code",
   "execution_count": null,
   "metadata": {},
   "outputs": [],
   "source": [
    "pTest = np.zeros([nptLive,9])\n",
    "for i in range(nptLive):\n",
    "    pTest[i,:6] = TBTdata[nTurn,:6,i]\n",
    "    pTest[i,8] = iLive[i]+1 #i+1\n",
    "pTest[:,6] = q_m\n",
    "impact.writeParticleData(pTest, ke, mass, freq)"
   ]
  },
  {
   "cell_type": "code",
   "execution_count": null,
   "metadata": {},
   "outputs": [],
   "source": [
    "latticeB = copy(lattice[::-1])\n",
    "latticeB.insert(0,copy(lattice[0]))\n",
    "latticeB.pop()\n",
    "latticeB.pop(3)\n",
    "latticeB[0].turns = nTurn\n",
    "\n",
    "for i in range(len(latticeB)):\n",
    "    if 'length' in latticeB[i]:\n",
    "        latticeB[i].length = -latticeB[i].length\n",
    "    if latticeB[i].type == 'linear_matrix_map':\n",
    "        latticeB[i].tune_advance                 =-latticeB[i].tune_advance\n",
    "        latticeB[i].nonlinear_insert_tuneAdvance =-latticeB[i].nonlinear_insert_tuneAdvance\n",
    "        latticeB[i].nonlinear_insert_length      =-latticeB[i].nonlinear_insert_length\n",
    "\n",
    "impact.writeInputFile(beam,latticeB)\n",
    "impact.run(beam)"
   ]
  },
  {
   "cell_type": "code",
   "execution_count": null,
   "metadata": {},
   "outputs": [],
   "source": [
    "pDataMid = impact.readParticleData(-111110,ke,mass,freq)\n",
    "pDataOut = impact.readParticleData(-111111,ke,mass,freq)"
   ]
  },
  {
   "cell_type": "code",
   "execution_count": null,
   "metadata": {},
   "outputs": [],
   "source": [
    "indexTBT,TBTdataFB = impact.readTBT(dTune,ke,mass,freq)"
   ]
  },
  {
   "cell_type": "code",
   "execution_count": null,
   "metadata": {},
   "outputs": [],
   "source": [
    "# pDataOut= impact.readParticleData(-111111,ke,mass,freq)\n",
    "# print('----Berr of 10 particles----')\n",
    "# for i in range(10):\n",
    "#     print('init=',end='')\n",
    "#     print(pDataOut[i,:4])\n",
    "#     print('diff=',end='')\n",
    "#     print(pDataOut[i,:4]-TBTdata[0,:4,i])\n",
    "# print('-----------------------------')"
   ]
  },
  {
   "cell_type": "code",
   "execution_count": null,
   "metadata": {},
   "outputs": [],
   "source": [
    "def remove_outlier(arg,ref):\n",
    "    n=0\n",
    "    for i in range(len(arg)):\n",
    "        if arg[i]>ref:\n",
    "            arg[i]=ref\n",
    "            n=n+1\n",
    "    print('# of outliers = ',n)\n",
    "    return arg"
   ]
  },
  {
   "cell_type": "code",
   "execution_count": null,
   "metadata": {},
   "outputs": [],
   "source": [
    "X0 = TBTdata[:nTurn,0,:] -1j*(betx*TBTdata[:nTurn,1,:]+alfx*TBTdata[:nTurn,0,:])\n",
    "Y0 = TBTdata[:nTurn,2,:] -1j*(betx*TBTdata[:nTurn,3,:]+alfx*TBTdata[:nTurn,2,:])\n",
    "X1 = TBTdataFB[::-1,0,:] - 1j*(betx*TBTdataFB[::-1,1,:]+alfx*TBTdataFB[::-1,0,:])\n",
    "Y1 = TBTdataFB[::-1,2,:] - 1j*(betx*TBTdataFB[::-1,3,:]+alfx*TBTdataFB[::-1,2,:])\n",
    "#R0 = np.sqrt(np.abs(X0)**2+np.abs(Y0)**2)\n",
    "Xdiff = np.abs(X1-X0)**2\n",
    "Ydiff = np.abs(Y1-Y0)**2\n",
    "Adiff = Xdiff+Ydiff\n",
    "\n",
    "# stdXdiff = np.zeros(nptLive)\n",
    "# stdYdiff = np.zeros(nptLive)\n",
    "# for i in range(nptLive):\n",
    "#     stdXdiff[i] = np.std(Xdiff[:,i])\n",
    "#     stdYdiff[i] = np.std(Ydiff[:,i])\n",
    "\n",
    "Xdiff=np.sqrt(np.sum(Xdiff,0)/nTurn)\n",
    "Ydiff=np.sqrt(np.sum(Ydiff,0)/nTurn)\n",
    "Adiff=np.sqrt(np.sum(Adiff,0)/nTurn)\n",
    "\n",
    "iMaxX = np.argmax(Xdiff)\n",
    "iMaxY = np.argmax(Ydiff)\n",
    "iMaxA = np.argmax(Adiff)\n",
    "iMinX = np.argmin(Xdiff)\n",
    "iMinY = np.argmin(Ydiff)\n",
    "iMinA = np.argmin(Adiff)\n",
    "\n",
    "# Xdiff = remove_outlier(Xdiff,2*Xstd)\n",
    "# Ydiff = remove_outlier(Ydiff,2*Ystd)\n",
    "# Adiff = remove_outlier(Adiff,2*Astd)\n",
    "\n",
    "# XdiffTanH= np.tanh(Xdiff/Xstd-0.3)\n",
    "# YdiffTanH= np.tanh(Ydiff/Ystd-0.3)\n",
    "# AdiffTanH= np.tanh(Adiff/Astd-0.3)\n",
    "\n",
    "XdiffSig= 1.0/(1+np.exp(-1.0*(Xdiff-np.mean(Xdiff))/np.std(Xdiff)))\n",
    "YdiffSig= 1.0/(1+np.exp(-1.0*(Ydiff-np.mean(Ydiff))/np.std(Ydiff)))\n",
    "AdiffSig= 1.0/(1+np.exp(-1.0*(Adiff-np.mean(Adiff))/np.std(Adiff)))\n",
    "\n",
    "XdiffLog = np.log10(Xdiff+1.0e-15)\n",
    "YdiffLog = np.log10(Ydiff+1.0e-15)\n",
    "AdiffLog = np.log10(Adiff+1.0e-15)"
   ]
  },
  {
   "cell_type": "code",
   "execution_count": null,
   "metadata": {},
   "outputs": [],
   "source": [
    "plt.figure(figsize=[11,3])\n",
    "plt.subplot(1,3,1)\n",
    "plt.hist(Adiff,bins=200);\n",
    "plt.yscale('log', nonposy='clip')\n",
    "plt.xlabel(r'$\\Delta$')\n",
    "plt.ylabel('count')\n",
    "plt.subplot(1,3,2)\n",
    "plt.hist(AdiffLog,bins=200);\n",
    "plt.yscale('log', nonposy='clip')\n",
    "plt.xlabel(r'log($\\Delta$)')\n",
    "plt.ylabel('count')\n",
    "plt.subplot(1,3,3)\n",
    "plt.hist(AdiffSig,bins=200);\n",
    "plt.yscale('log', nonposy='clip')\n",
    "plt.xlabel(r'sigmoid($\\Delta$)')\n",
    "plt.ylabel('count')\n",
    "plt.tight_layout()\n",
    "plt.savefig('FB.hist.Adiff.'+str(dTune)+'.png',dpi=180)\n",
    "# plt.close()\n"
   ]
  },
  {
   "cell_type": "markdown",
   "metadata": {},
   "source": [
    "### 3.2 plots"
   ]
  },
  {
   "cell_type": "markdown",
   "metadata": {},
   "source": [
    "##### Poincare"
   ]
  },
  {
   "cell_type": "code",
   "execution_count": null,
   "metadata": {},
   "outputs": [],
   "source": [
    "plt.figure(figsize=[3.3,3])\n",
    "plt.scatter(TBTdata [:,0,iMaxA],TBTdata [:,2,iMaxA],c='r',s=0.1)\n",
    "plt.scatter(TBTdata [:,0,iMinA],TBTdata [:,2,iMinA],c='k',s=0.1)\n",
    "plt.xlabel('x')\n",
    "plt.ylabel('y')\n",
    "plt.legend(['most chaotic','most regular'],loc=1)\n",
    "plt.tight_layout()\n",
    "plt.savefig('FB.Poincare.A.'+str(dTune)+'.png',dpi=180)\n",
    "# plt.close()\n"
   ]
  },
  {
   "cell_type": "code",
   "execution_count": null,
   "metadata": {},
   "outputs": [],
   "source": [
    "plt.figure(figsize=[3.3,3])\n",
    "plt.scatter(TBTdata [:,0,iMaxX],TBTdata [:,1,iMaxX],c='r',s=0.1)\n",
    "plt.scatter(TBTdata [:,0,iMinX],TBTdata [:,1,iMinX],c='k',s=0.1)\n",
    "plt.xlabel('x')\n",
    "plt.ylabel('px')\n",
    "plt.legend(['most chaotic','most regular'],loc=1)\n",
    "plt.tight_layout()\n",
    "plt.savefig('FB.Poincare.X.'+str(dTune)+'.png',dpi=180)\n",
    "# plt.close()\n"
   ]
  },
  {
   "cell_type": "code",
   "execution_count": null,
   "metadata": {},
   "outputs": [],
   "source": [
    "plt.figure(figsize=[3.3,3])\n",
    "plt.scatter(TBTdata [:,2,iMaxY],TBTdata [:,3,iMaxA],c='r',s=0.1)\n",
    "plt.scatter(TBTdata [:,2,iMinY],TBTdata [:,3,iMinA],c='k',s=0.1)\n",
    "plt.xlabel('y')\n",
    "plt.ylabel('py')\n",
    "plt.legend(['most chaotic','most regular'],loc=1)\n",
    "plt.tight_layout()\n",
    "plt.savefig('FB.Poincare.Y.'+str(dTune)+'.png',dpi=180)\n",
    "# plt.close()\n"
   ]
  },
  {
   "cell_type": "markdown",
   "metadata": {},
   "source": [
    "##### Dynamic Aperture Log"
   ]
  },
  {
   "cell_type": "code",
   "execution_count": null,
   "metadata": {},
   "outputs": [],
   "source": [
    "xmax = np.max([TBTdata[0,0,:],TBTdata[0,2,:]])\n",
    "plt.figure(figsize=[4,3.3])\n",
    "f1=plt.scatter(TBTdata[0,0,:],TBTdata[0,2,:],c=AdiffLog,s=1.6,marker='s')\n",
    "plt.scatter(TBTdata[0,0,iMaxA],TBTdata[0,2,iMaxA],c='r',s=77,marker='x')\n",
    "plt.xlabel('x (m)')\n",
    "plt.ylabel('y (m)')\n",
    "plt.title(r'log ($\\Delta$)')\n",
    "plt.xlim(-xmax*1.1,xmax*1.1)\n",
    "plt.ylim(-xmax*1.1,xmax*1.1)\n",
    "plt.colorbar(f1)\n",
    "plt.savefig('FB.DA.Log.A.'+str(dTune)+'.png',dpi=180)\n",
    "# plt.close()\n"
   ]
  },
  {
   "cell_type": "code",
   "execution_count": null,
   "metadata": {},
   "outputs": [],
   "source": [
    "plt.figure(figsize=[4,3.3])\n",
    "f2=plt.scatter(TBTdata[0,0,:],TBTdata[0,2,:],c=XdiffLog,s=1.6,marker='s')\n",
    "plt.scatter(TBTdata[0,0,iMaxX],TBTdata[0,2,iMaxX],c='r',s=77,marker='x')\n",
    "plt.xlim(-xmax*1.1,xmax*1.1)\n",
    "plt.ylim(-xmax*1.1,xmax*1.1)\n",
    "plt.xlabel('x (m)')\n",
    "plt.ylabel('y (m)')\n",
    "plt.title(r'log ($\\Delta_x$)')\n",
    "plt.colorbar(f2)\n",
    "plt.savefig('FB.DA.Log.X.'+str(dTune)+'.png',dpi=180)\n",
    "# plt.close()\n"
   ]
  },
  {
   "cell_type": "code",
   "execution_count": null,
   "metadata": {
    "scrolled": true
   },
   "outputs": [],
   "source": [
    "plt.figure(figsize=[4,3.3])\n",
    "f3=plt.scatter(TBTdata[0,0,:],TBTdata[0,2,:],c=YdiffLog,s=1.6,marker='s')\n",
    "plt.scatter(TBTdata[0,0,iMaxX],TBTdata[0,2,iMaxY],c='r',s=77,marker='x')\n",
    "plt.xlim(-xmax*1.1,xmax*1.1)\n",
    "plt.ylim(-xmax*1.1,xmax*1.1)\n",
    "plt.xlabel('x (m)')\n",
    "plt.ylabel('y (m)')\n",
    "plt.title(r'log ($\\Delta_y$)')\n",
    "plt.colorbar(f3)\n",
    "plt.savefig('FB.DA.Log.Y.'+str(dTune)+'.png',dpi=180)\n",
    "# plt.close()\n"
   ]
  },
  {
   "cell_type": "markdown",
   "metadata": {},
   "source": [
    "##### Dynamic Aperture Sig"
   ]
  },
  {
   "cell_type": "code",
   "execution_count": null,
   "metadata": {},
   "outputs": [],
   "source": [
    "xmax = np.max([TBTdata[0,0,:],TBTdata[0,2,:]])\n",
    "plt.figure(figsize=[4,3.3])\n",
    "f1=plt.scatter(TBTdata[0,0,:],TBTdata[0,2,:],c=AdiffSig,s=1.6,marker='s')\n",
    "plt.scatter(TBTdata[0,0,iMaxA],TBTdata[0,2,iMaxA],c='r',s=77,marker='x')\n",
    "plt.xlim(-xmax*1.1,xmax*1.1)\n",
    "plt.ylim(-xmax*1.1,xmax*1.1)\n",
    "plt.xlabel('x (m)')\n",
    "plt.ylabel('y (m)')\n",
    "plt.title(r'sigmoid ($\\Delta$)')\n",
    "plt.colorbar(f1)\n",
    "plt.savefig('FB.DA.Sig.A.'+str(dTune)+'.png',dpi=180)\n",
    "# plt.close()\n"
   ]
  },
  {
   "cell_type": "code",
   "execution_count": null,
   "metadata": {},
   "outputs": [],
   "source": [
    "plt.figure(figsize=[4,3.3])\n",
    "f2=plt.scatter(TBTdata[0,0,:],TBTdata[0,2,:],c=XdiffSig,s=1.6,marker='s')\n",
    "plt.scatter(TBTdata[0,0,iMaxX],TBTdata[0,2,iMaxX],c='r',s=77,marker='x')\n",
    "plt.xlim(-xmax*1.1,xmax*1.1)\n",
    "plt.ylim(-xmax*1.1,xmax*1.1)\n",
    "plt.xlabel('x (m)')\n",
    "plt.ylabel('y (m)')\n",
    "plt.title(r'sigmoid ($\\Delta_x$)')\n",
    "plt.colorbar(f2)\n",
    "plt.savefig('FB.DA.Sig.X.'+str(dTune)+'.png',dpi=180)\n",
    "# plt.close()\n"
   ]
  },
  {
   "cell_type": "code",
   "execution_count": null,
   "metadata": {
    "scrolled": false
   },
   "outputs": [],
   "source": [
    "plt.figure(figsize=[4,3.3])\n",
    "f3=plt.scatter(TBTdata[0,0,:],TBTdata[0,2,:],c=YdiffSig,s=1.6,marker='s')\n",
    "plt.scatter(TBTdata[0,0,iMaxX],TBTdata[0,2,iMaxY],c='r',s=77,marker='x')\n",
    "plt.xlim(-xmax*1.1,xmax*1.1)\n",
    "plt.ylim(-xmax*1.1,xmax*1.1)\n",
    "plt.xlabel('x (m)')\n",
    "plt.ylabel('y (m)')\n",
    "plt.title(r'sigmoid ($\\Delta_y$)')\n",
    "plt.colorbar(f3)\n",
    "plt.savefig('FB.DA.Sig.Y.'+str(dTune)+'.png',dpi=180)\n",
    "# plt.close()\n"
   ]
  },
  {
   "cell_type": "markdown",
   "metadata": {},
   "source": [
    "##### Inv"
   ]
  },
  {
   "cell_type": "code",
   "execution_count": null,
   "metadata": {},
   "outputs": [],
   "source": [
    "plt.figure(figsize=[4,3])\n",
    "f1=plt.scatter(TBTdata_Inv[0,0,:],TBTdata_Inv[0,1,:],c=AdiffLog,s=3.0,marker='s',alpha=0.5)\n",
    "plt.scatter(TBTdata_Inv[0,0,iMaxA],TBTdata_Inv[0,1,iMaxA],c='r',s=77,marker='x')\n",
    "plt.xlim(0,1.15)\n",
    "plt.ylim(0,2.3)\n",
    "plt.xlabel(r'$I_1$')\n",
    "plt.ylabel(r'$I_2$')\n",
    "plt.colorbar(f1)\n",
    "plt.tight_layout()\n",
    "plt.savefig('FB.Inv.Log.A.'+str(dTune)+'.png',dpi=180)\n",
    "# plt.close()\n"
   ]
  },
  {
   "cell_type": "code",
   "execution_count": null,
   "metadata": {},
   "outputs": [],
   "source": [
    "plt.figure(figsize=[4,3])\n",
    "f1=plt.scatter(TBTdata_Inv[0,0,:],TBTdata_Inv[0,1,:],c=AdiffSig,s=3.0,marker='s',alpha=0.5)\n",
    "plt.scatter(TBTdata_Inv[0,0,iMaxA],TBTdata_Inv[0,1,iMaxA],c='r',s=77,marker='x')\n",
    "plt.xlim(0,1.15)\n",
    "plt.ylim(0,2.3)\n",
    "plt.xlabel(r'$I_1$')\n",
    "plt.ylabel(r'$I_2$')\n",
    "plt.colorbar(f1)\n",
    "plt.tight_layout()\n",
    "plt.savefig('FB.Inv.Sig.A.'+str(dTune)+'.png',dpi=180)\n",
    "# plt.close()\n"
   ]
  },
  {
   "cell_type": "code",
   "execution_count": null,
   "metadata": {},
   "outputs": [],
   "source": [
    "plt.figure(figsize=[8,2])\n",
    "plt.subplot(1,2,1)\n",
    "plt.plot(TBTdata_Inv[:,0,iMaxA]/np.mean(TBTdata_Inv[:,0,iMaxA])-1.0,'r:')\n",
    "plt.plot(TBTdata_Inv[:,0,iMinA]/np.mean(TBTdata_Inv[:,0,iMinA])-1.0,'k')\n",
    "plt.ylabel(r'$\\mathrm{I}_1/\\langle \\mathrm{I}_1 \\rangle $')\n",
    "plt.legend(['most chaotic','most regular'],loc=1)\n",
    "plt.subplot(1,2,2)\n",
    "plt.plot(TBTdata_Inv[:,1,iMaxA]/np.mean(TBTdata_Inv[:,1,iMaxA])-1.0,'r:')\n",
    "plt.plot(TBTdata_Inv[:,1,iMinA]/np.mean(TBTdata_Inv[:,1,iMinA])-1.0,'k')\n",
    "plt.ylabel(r'$\\mathrm{I}_2/\\langle \\mathrm{I}_2 \\rangle $')\n",
    "plt.legend(['most chaotic','most regular'],loc=1)\n",
    "plt.tight_layout()\n",
    "plt.savefig('FB.Inv.'+str(dTune)+'.png',dpi=180)\n",
    "# plt.close()\n"
   ]
  },
  {
   "cell_type": "markdown",
   "metadata": {},
   "source": [
    "# 5. DA based on Inv"
   ]
  },
  {
   "cell_type": "markdown",
   "metadata": {},
   "source": [
    "##### normalize TBTdata_Inv"
   ]
  },
  {
   "cell_type": "code",
   "execution_count": null,
   "metadata": {},
   "outputs": [],
   "source": [
    "inv = copy(TBTdata_Inv[:nTurn,:,:])\n",
    "invH = np.zeros(nptLive)\n",
    "invI = np.zeros(nptLive)\n",
    "for i in range(nptLive):\n",
    "#     inv[:,0,i] = inv[:,0,i]/np.mean(inv[:,0,i])\n",
    "#     inv[:,1,i] = inv[:,1,i]/np.mean(inv[:,1,i])\n",
    "    invH[i] = np.std(inv[:,0,i])\n",
    "    invI[i] = np.std(inv[:,1,i]**2)\n",
    "# invH = invH/np.mean(invH)\n",
    "# invI = invI/np.mean(invI)\n",
    "invA = np.sqrt(invH**2+invI**2)\n",
    "AinvSig= 1.0/(1+np.exp(-1.0*(invA-np.mean(invA))/np.std(invA)))\n",
    "iMaxA = np.argmax(invA)"
   ]
  },
  {
   "cell_type": "code",
   "execution_count": null,
   "metadata": {},
   "outputs": [],
   "source": [
    "plt.figure(figsize=[4,3.3])\n",
    "f1=plt.scatter(TBTdata[0,0,:],TBTdata[0,2,:],c=np.log10(invA),s=1.6,marker='s')\n",
    "plt.scatter(TBTdata[0,0,iMaxA],TBTdata[0,2,iMaxA],c='r',s=77,marker='x')\n",
    "plt.xlim(-xmax*1.1,xmax*1.1)\n",
    "plt.ylim(-xmax*1.1,xmax*1.1)\n",
    "plt.xlabel('x (m)')\n",
    "plt.ylabel('y (m)')\n",
    "plt.title(r'log ($\\Delta$)')\n",
    "plt.colorbar(f1)\n",
    "plt.savefig('Inv.DA.Log.A.'+str(dTune)+'.png',dpi=180)\n",
    "# plt.close()\n"
   ]
  },
  {
   "cell_type": "code",
   "execution_count": null,
   "metadata": {},
   "outputs": [],
   "source": [
    "plt.figure(figsize=[4,3.3])\n",
    "f1=plt.scatter(TBTdata[0,0,:],TBTdata[0,2,:],c=np.log10(invH),s=1.6,marker='s')\n",
    "plt.scatter(TBTdata[0,0,iMaxA],TBTdata[0,2,iMaxA],c='r',s=77,marker='x')\n",
    "plt.xlim(-xmax*1.1,xmax*1.1)\n",
    "plt.ylim(-xmax*1.1,xmax*1.1)\n",
    "plt.xlabel('x (m)')\n",
    "plt.ylabel('y (m)')\n",
    "plt.title(r'log ($\\Delta$)')\n",
    "plt.colorbar(f1)\n",
    "plt.savefig('Inv.DA.Log.H.'+str(dTune)+'.png',dpi=180)\n",
    "# plt.close()\n"
   ]
  },
  {
   "cell_type": "code",
   "execution_count": null,
   "metadata": {},
   "outputs": [],
   "source": [
    "plt.figure(figsize=[4,3.3])\n",
    "f1=plt.scatter(TBTdata[0,0,:],TBTdata[0,2,:],c=np.log10(invI),s=1.6,marker='s')\n",
    "plt.scatter(TBTdata[0,0,iMaxA],TBTdata[0,2,iMaxA],c='r',s=77,marker='x')\n",
    "plt.xlim(-xmax*1.1,xmax*1.1)\n",
    "plt.ylim(-xmax*1.1,xmax*1.1)\n",
    "plt.xlabel('x (m)')\n",
    "plt.ylabel('y (m)')\n",
    "plt.title(r'log ($\\Delta$)')\n",
    "plt.colorbar(f1)\n",
    "plt.savefig('Inv.DA.Log.I.'+str(dTune)+'.png',dpi=180)\n",
    "# plt.close()\n"
   ]
  },
  {
   "cell_type": "code",
   "execution_count": null,
   "metadata": {
    "scrolled": true
   },
   "outputs": [],
   "source": [
    "plt.figure(figsize=[4,3.3])\n",
    "f1=plt.scatter(TBTdata[0,0,:],TBTdata[0,2,:],c=AinvSig,s=1.6,marker='s')\n",
    "plt.scatter(TBTdata[0,0,iMaxA],TBTdata[0,2,iMaxA],c='r',s=77,marker='x')\n",
    "plt.xlim(-xmax*1.1,xmax*1.1)\n",
    "plt.ylim(-xmax*1.1,xmax*1.1)\n",
    "plt.xlabel('x (m)')\n",
    "plt.ylabel('y (m)')\n",
    "plt.title(r'sigmoid ($\\Delta$)')\n",
    "plt.colorbar(f1)\n",
    "plt.savefig('Inv.DA.Sig.A.'+str(dTune)+'.png',dpi=180)"
   ]
  },
  {
   "cell_type": "markdown",
   "metadata": {},
   "source": [
    "##### Dynamic Aperture with Inv contour"
   ]
  },
  {
   "cell_type": "code",
   "execution_count": null,
   "metadata": {},
   "outputs": [],
   "source": [
    "if dTune==0:\n",
    "    plt.figure(figsize=[4,3.3])\n",
    "    zi = griddata((TBTdata[0,0,:],TBTdata[0,2,:]), TBTdata_Inv[0,0,:], (xi[None,:], yi[:,None]), method='cubic')\n",
    "    CS = plt.contour(xi,yi,zi,15,linewidths=0.5,colors='k')\n",
    "    CS = plt.contourf(xi,yi,zi,15)\n",
    "    plt.xlim(-xmax*1.1,xmax*1.1)\n",
    "    plt.ylim(-xmax*1.1,xmax*1.1)\n",
    "    plt.xlabel('x (m)')\n",
    "    plt.ylabel('y (m)')\n",
    "    plt.title(r'$I_1$')\n",
    "    plt.colorbar(CS)\n",
    "    plt.savefig('Inv.DA.I1.png',dpi=180)"
   ]
  },
  {
   "cell_type": "code",
   "execution_count": null,
   "metadata": {
    "scrolled": true
   },
   "outputs": [],
   "source": [
    "if dTune==0:\n",
    "    plt.figure(figsize=[4,3.3])\n",
    "    zi = griddata((TBTdata[0,0,:],TBTdata[0,2,:]), TBTdata_Inv[0,1,:], (xi[None,:], yi[:,None]), method='cubic')\n",
    "    CS = plt.contour(xi,yi,zi,15,linewidths=0.5,colors='k')\n",
    "    CS = plt.contourf(xi,yi,zi,15)\n",
    "    plt.xlim(-xmax*1.1,xmax*1.1)\n",
    "    plt.ylim(-xmax*1.1,xmax*1.1)\n",
    "    plt.xlabel('x (m)')\n",
    "    plt.ylabel('y (m)')\n",
    "    plt.title(r'$I_1$')\n",
    "    plt.colorbar(CS)\n",
    "    plt.savefig('Inv.DA.I2.png',dpi=180)\n",
    "    # plt.close()\n",
    "    "
   ]
  },
  {
   "cell_type": "code",
   "execution_count": null,
   "metadata": {},
   "outputs": [],
   "source": [
    "sys.stdout = old_stdout\n",
    "log_file.close()"
   ]
  }
 ],
 "metadata": {
  "kernelspec": {
   "display_name": "Python 3",
   "language": "python",
   "name": "python3"
  },
  "language_info": {
   "codemirror_mode": {
    "name": "ipython",
    "version": 3
   },
   "file_extension": ".py",
   "mimetype": "text/x-python",
   "name": "python",
   "nbconvert_exporter": "python",
   "pygments_lexer": "ipython3",
   "version": "3.6.5"
  }
 },
 "nbformat": 4,
 "nbformat_minor": 2
}
