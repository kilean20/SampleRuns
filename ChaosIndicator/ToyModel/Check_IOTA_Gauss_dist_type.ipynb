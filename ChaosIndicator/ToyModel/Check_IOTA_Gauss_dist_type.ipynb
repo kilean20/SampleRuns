{
 "cells": [
  {
   "cell_type": "code",
   "execution_count": 1,
   "metadata": {},
   "outputs": [],
   "source": [
    "import numpy as np\n",
    "import pImpactR as impact\n",
    "from copy import deepcopy as copy\n",
    "input_fname = 'test_toymodel.in'\n",
    "np.set_printoptions(formatter={'float': lambda x: format(x, '1.3E')})"
   ]
  },
  {
   "cell_type": "markdown",
   "metadata": {},
   "source": [
    "### 1. read InputFile"
   ]
  },
  {
   "cell_type": "code",
   "execution_count": 2,
   "metadata": {
    "scrolled": false
   },
   "outputs": [
    {
     "name": "stdout",
     "output_type": "stream",
     "text": [
      "reading ImpactZ input file (\u001b[92mtest_toymodel.in\u001b[0m)\n",
      "  : mpi task info .............................done\n",
      "  : simulation control parameters .............done\n",
      "  : space charge field solver, mesh info ......done\n",
      "  : dist-type,restart,subcycle,#of state ......done\n",
      "  : Multiple Charge State info ................done\n",
      "  : particle distribution info ................done\n",
      "  : beam reference orbit info .................done\n",
      "  : converting impact dist to twiss param......done\n",
      "  : lattice info ..............................done\n"
     ]
    }
   ],
   "source": [
    "beam, lattice = impact.readInputFile(input_fname)"
   ]
  },
  {
   "cell_type": "code",
   "execution_count": 3,
   "metadata": {},
   "outputs": [],
   "source": [
    "for i in range(len(lattice)-1,0,-1):\n",
    "    if lattice[i].type == 'write_raw_ptcl':\n",
    "        lattice.pop(i)"
   ]
  },
  {
   "cell_type": "code",
   "execution_count": 4,
   "metadata": {},
   "outputs": [],
   "source": [
    "lattice[0].turns = 2**14"
   ]
  },
  {
   "cell_type": "code",
   "execution_count": 5,
   "metadata": {},
   "outputs": [
    {
     "name": "stdout",
     "output_type": "stream",
     "text": [
      "\n",
      "             length: 1.8 [m]\n",
      "           n_sckick: 36 [1]\n",
      "              n_map: 10 [1]\n",
      "         strength_t: 0.4\n",
      " transverse_scale_c: 0.01\n",
      "       tune_advance: 0.3034496449165134\n",
      "        pipe_radius: 10.0 [m]\n",
      "               type: 'nonlinear_insert'\n"
     ]
    }
   ],
   "source": [
    "lattice[1].n_sckick = int(lattice[1].length*20)\n",
    "print(lattice[1])"
   ]
  },
  {
   "cell_type": "code",
   "execution_count": 6,
   "metadata": {},
   "outputs": [
    {
     "data": {
      "text/plain": [
       "\n",
       "      nonlinear_insert_length: 1.8\n",
       " nonlinear_insert_tuneAdvance: 0.3034496449165134\n",
       "                 tune_advance: 0.0\n",
       "                         type: 'linear_matrix_map'"
      ]
     },
     "execution_count": 6,
     "metadata": {},
     "output_type": "execute_result"
    }
   ],
   "source": [
    "lattice[2]"
   ]
  },
  {
   "cell_type": "markdown",
   "metadata": {},
   "source": [
    "### 2. particle random generator : IOTA_Gauss distribution "
   ]
  },
  {
   "cell_type": "code",
   "execution_count": 7,
   "metadata": {},
   "outputs": [
    {
     "name": "stdout",
     "output_type": "stream",
     "text": [
      "\n",
      " distribution_type: 'ReadFile'\n",
      "              mode: 'twiss'\n",
      "              betz: 13490997720687.232 [degree/MeV]\n",
      "              alfz: 0.0\n",
      "             emitz: 1.187685961430756e-09 [degree-MeV]\n",
      "            scalez: 1.0 [1.0]\n",
      "           scalepz: 1.0 [1.0]\n",
      "           offsetz: 0.0 [degree]\n",
      "          offsetpz: 0.0 [MeV]\n",
      "              betx: 1.90650539547772 [m]\n",
      "              alfx: 1.4082261070868625\n",
      "             emitx: 1.460964633548756e-07 [m-rad]\n",
      "            scalex: 1.0 [1.0]\n",
      "           scalepx: 1.0 [1.0]\n",
      "           offsetx: 0.0 [m]\n",
      "          offsetpx: 0.0 [rad]\n",
      "              bety: 1.90650539547772 [m]\n",
      "              alfy: 1.4082261070868625\n",
      "             emity: 1.460964633548756e-07 [m-rad]\n",
      "            scaley: 1.0 [1.0]\n",
      "           scalepy: 1.0 [1.0]\n",
      "           offsety: 0.0 [m]\n",
      "          offsetpy: 0.0 [rad]\n"
     ]
    }
   ],
   "source": [
    "print(beam.distribution)"
   ]
  },
  {
   "cell_type": "code",
   "execution_count": 8,
   "metadata": {},
   "outputs": [],
   "source": [
    "dist = beam.distribution\n",
    "dist.distribution_type = 'IOTA_Gauss'\n",
    "dist.NL_t = 0.4\n",
    "dist.NL_c = 0.01\n",
    "dist.CL = 3.0\n",
    "beam.n_particles = 2**12"
   ]
  },
  {
   "cell_type": "markdown",
   "metadata": {},
   "source": [
    "### run"
   ]
  },
  {
   "cell_type": "code",
   "execution_count": 9,
   "metadata": {
    "scrolled": true
   },
   "outputs": [
    {
     "name": "stdout",
     "output_type": "stream",
     "text": [
      "input error <- sum(beam.multi_charge.n_particles) not qual to beam.n_particles\n",
      "  ... enforcing  beam.multi_charge.n_particles[0] to beam.n_particles\n",
      "input error <- beam.multi_charge.current[0] not qual to beam.current\n",
      "  ... enforcing  beam.multi_charge.current[0] to beam.current\n"
     ]
    }
   ],
   "source": [
    "beam.nCore_y = 2\n",
    "beam.nCore_z = 2\n",
    "beam.current = 0.0\n",
    "impact.writeInputFile(beam,lattice)\n",
    "# impact.run(4)"
   ]
  },
  {
   "cell_type": "markdown",
   "metadata": {},
   "source": [
    "### plot"
   ]
  },
  {
   "cell_type": "code",
   "execution_count": 10,
   "metadata": {},
   "outputs": [],
   "source": [
    "import matplotlib.pyplot as plt\n",
    "%matplotlib inline"
   ]
  },
  {
   "cell_type": "code",
   "execution_count": 11,
   "metadata": {},
   "outputs": [],
   "source": [
    "Idata = np.loadtxt('fort.81')"
   ]
  },
  {
   "cell_type": "code",
   "execution_count": 12,
   "metadata": {},
   "outputs": [
    {
     "data": {
      "text/plain": [
       "[<matplotlib.lines.Line2D at 0x7f5f47877e48>]"
      ]
     },
     "execution_count": 12,
     "metadata": {},
     "output_type": "execute_result"
    },
    {
     "data": {
      "image/png": "[encoded data removed]",
      "text/plain": [
       "<Figure size 432x288 with 1 Axes>"
      ]
     },
     "metadata": {},
     "output_type": "display_data"
    }
   ],
   "source": [
    "plt.plot(Idata[:,1]/np.mean(Idata[:,1])-1.0)\n",
    "plt.plot(Idata[:,2]/np.mean(Idata[:,2])-1.0)"
   ]
  }
 ],
 "metadata": {
  "kernelspec": {
   "display_name": "Python 3",
   "language": "python",
   "name": "python3"
  },
  "language_info": {
   "codemirror_mode": {
    "name": "ipython",
    "version": 3
   },
   "file_extension": ".py",
   "mimetype": "text/x-python",
   "name": "python",
   "nbconvert_exporter": "python",
   "pygments_lexer": "ipython3",
   "version": "3.6.5"
  }
 },
 "nbformat": 4,
 "nbformat_minor": 2
}
