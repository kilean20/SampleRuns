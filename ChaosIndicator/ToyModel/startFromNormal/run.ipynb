{
 "cells": [
  {
   "cell_type": "code",
   "execution_count": 1,
   "metadata": {},
   "outputs": [],
   "source": [
    "import numpy as np\n",
    "import pImpactR as impact\n",
    "from copy import deepcopy as copy\n",
    "import matplotlib.pyplot as plt\n",
    "import sys\n",
    "np.set_printoptions(formatter={'float': lambda x: format(x, '1.2E')})"
   ]
  },
  {
   "cell_type": "code",
   "execution_count": 2,
   "metadata": {},
   "outputs": [],
   "source": [
    "NTURN = [1024,1024*2]\n",
    "\n",
    "nCore_y = 4\n",
    "nCore_z = 4\n",
    "\n",
    "NL_c = 0.01\n",
    "NL_t = -0.4\n",
    "NL_nu= 0.3\n",
    "NL_L = 1.8\n",
    "dTune = 0.0\n",
    "\n",
    "alfx = np.tan(np.pi*NL_nu)\n",
    "betx = NL_L/np.sin(2.0*np.pi*NL_nu)\n",
    "\n",
    "pipe_radius = 0.02*np.sqrt(2.0)"
   ]
  },
  {
   "cell_type": "markdown",
   "metadata": {},
   "source": [
    "# 1. Preparation"
   ]
  },
  {
   "cell_type": "markdown",
   "metadata": {},
   "source": [
    "### 1.1 read InputFile and simplify lattice"
   ]
  },
  {
   "cell_type": "code",
   "execution_count": 3,
   "metadata": {
    "scrolled": false
   },
   "outputs": [
    {
     "name": "stdout",
     "output_type": "stream",
     "text": [
      "reading ImpactZ input file (\u001b[92mtest_toymodel.in\u001b[0m)\n",
      "  : mpi task info .............................done\n",
      "  : simulation control parameters .............done\n",
      "  : space charge field solver, mesh info ......done\n",
      "  : dist-type,restart,subcycle,#of state ......done\n",
      "  : Multiple Charge State info ................done\n",
      "  : particle distribution info ................done\n",
      "  : beam reference orbit info .................done\n",
      "  : converting impact dist to twiss param......done\n",
      "  : lattice info ..............................done\n"
     ]
    }
   ],
   "source": [
    "beam, lattice = impact.readInputFile('test_toymodel.in');\n",
    "beam.nCore_y = nCore_y\n",
    "beam.nCore_z = nCore_z\n",
    "beam.distribution.distribution_type = 'ReadFile'\n",
    "beam.current = 0.0\n",
    "\n",
    "ke = beam.kinetic_energy\n",
    "mass = beam.mass\n",
    "freq = beam.frequency"
   ]
  },
  {
   "cell_type": "code",
   "execution_count": 4,
   "metadata": {},
   "outputs": [],
   "source": [
    "def normalize(data):\n",
    "    data[:,1] = (data[:,0]*alfx/np.sqrt(betx) + data[:,1]*np.sqrt(betx))/NL_c\n",
    "    data[:,3] = (data[:,2]*alfx/np.sqrt(betx) + data[:,3]*np.sqrt(betx))/NL_c\n",
    "    data[:,0] = data[:,0]/(np.sqrt(betx)*NL_c)\n",
    "    data[:,2] = data[:,2]/(np.sqrt(betx)*NL_c)\n",
    "    \n",
    "def unnormalize(data):\n",
    "    data[:,1] = (-data[:,0]*alfx + data[:,1])*NL_c/np.sqrt(betx)\n",
    "    data[:,3] = (-data[:,2]*alfx + data[:,3])*NL_c/np.sqrt(betx)\n",
    "    data[:,0] = data[:,0]*np.sqrt(betx)*NL_c\n",
    "    data[:,2] = data[:,2]*np.sqrt(betx)*NL_c"
   ]
  },
  {
   "cell_type": "code",
   "execution_count": 5,
   "metadata": {},
   "outputs": [],
   "source": [
    "for i in range(len(lattice)-1,0,-1):\n",
    "    if lattice[i].type == 'write_raw_ptcl':\n",
    "        lattice.pop(i)\n",
    "lattice[1].n_sckick = 100\n",
    "lattice[1].length = NL_L\n",
    "lattice[1].strength_t = NL_t\n",
    "lattice[1].transverse_scale_c = NL_c\n",
    "lattice[1].tune_advance = NL_nu\n",
    "lattice[1].pipe_radius = 0.02*np.sqrt(2)\n",
    "\n",
    "lattice[2].tune_advance = dTune\n",
    "lattice[2].nonlinear_insert_tuneAdvance = NL_nu\n",
    "lattice[2].nonlinear_insert_length = NL_L"
   ]
  },
  {
   "cell_type": "markdown",
   "metadata": {},
   "source": [
    "### 1.2. generate particles"
   ]
  },
  {
   "cell_type": "code",
   "execution_count": 6,
   "metadata": {
    "scrolled": true
   },
   "outputs": [
    {
     "name": "stdout",
     "output_type": "stream",
     "text": [
      "initial npt= 7668\n"
     ]
    }
   ],
   "source": [
    "testP = 0.0\n",
    "k=0\n",
    "q_m = beam.multi_charge.q_m[0]\n",
    "pTest = []\n",
    "nx = 100\n",
    "xmax = 0.98\n",
    "for x in np.linspace(-xmax,xmax,nx):\n",
    "    for y in np.linspace(-xmax,xmax,nx):\n",
    "        if x**2+y**2<=xmax**2 :\n",
    "            k+=1\n",
    "            pTest.append([x,0.0,y,0.0,0.0,0.0,q_m,0.0,k]) \n",
    "pTest = np.array(pTest)\n",
    "npt = len(pTest)\n",
    "beam.n_particles = npt\n",
    "print('initial npt=',npt)"
   ]
  },
  {
   "cell_type": "code",
   "execution_count": 7,
   "metadata": {},
   "outputs": [],
   "source": [
    "unnormalize(pTest)\n",
    "impact.writeParticleData(pTest, ke, mass, freq)"
   ]
  },
  {
   "cell_type": "code",
   "execution_count": 8,
   "metadata": {},
   "outputs": [],
   "source": [
    "lattice[0].turns = NTURN[0]\n",
    "\n",
    "TBT = impact.getElem('TBT')\n",
    "TBT.file_id = NTURN[0]\n",
    "TBT.pID_begin = 1\n",
    "TBT.pID_end = npt\n",
    "lattice.insert(1,TBT)\n",
    "\n",
    "OUTPUT = impact.getElem('write_raw_ptcl')\n",
    "OUTPUT.file_id = NTURN[0]\n",
    "OUTPUT.turn = NTURN[0]\n",
    "OUTPUT.format_id = 2\n",
    "lattice.append(OUTPUT)"
   ]
  },
  {
   "cell_type": "markdown",
   "metadata": {},
   "source": [
    "# FMA"
   ]
  },
  {
   "cell_type": "markdown",
   "metadata": {},
   "source": [
    "### Run Forward "
   ]
  },
  {
   "cell_type": "code",
   "execution_count": 9,
   "metadata": {},
   "outputs": [
    {
     "data": {
      "text/plain": [
       "256"
      ]
     },
     "execution_count": 9,
     "metadata": {},
     "output_type": "execute_result"
    }
   ],
   "source": [
    "impact.writeInputFile(beam,lattice) \n",
    "impact.run(beam)"
   ]
  },
  {
   "cell_type": "code",
   "execution_count": null,
   "metadata": {},
   "outputs": [],
   "source": [
    "for nturn in NTURN[:-1]:\n",
    "    lattice[0].turns = nturn\n",
    "    TBT.file_id = nturn*2\n",
    "    OUTPUT.turn = nturn\n",
    "    OUTPUT.file_id = nturn*2\n",
    "    beam.distribution.distribution_type = 'ReadFile_binary'\n",
    "    beam.distribution.file_id = nturn\n",
    "    impact.writeInputFile(beam,lattice) \n",
    "    impact.run(beam)"
   ]
  },
  {
   "cell_type": "markdown",
   "metadata": {},
   "source": [
    "### Load Data"
   ]
  },
  {
   "cell_type": "code",
   "execution_count": null,
   "metadata": {},
   "outputs": [],
   "source": [
    "iTBT = {}\n",
    "TBT = {}\n",
    "X = {}\n",
    "Y = {}\n",
    "Npt = {}\n",
    "\n",
    "for nturn in NTURN:\n",
    "    print(nturn)\n",
    "    iTBT[nturn],TBT[nturn] = impact.readTBT(nturn,ke,mass,freq)\n",
    "    TBT[nturn] = TBT[nturn][:,:4,:]\n",
    "    Npt[nturn] = len(iTBT[nturn])"
   ]
  },
  {
   "cell_type": "code",
   "execution_count": null,
   "metadata": {
    "scrolled": true
   },
   "outputs": [],
   "source": [
    "for i in range(len(NTURN)):\n",
    "    nturn = NTURN[i]\n",
    "    \n",
    "    npt = len(iTBT[nturn])\n",
    "    X[nturn]=np.zeros((nturn,npt),dtype=np.complex)\n",
    "    Y[nturn]=np.zeros((nturn,npt),dtype=np.complex)\n",
    "    \n",
    "    iturn = 0\n",
    "    for j in range(i+1):\n",
    "        jturn = NTURN[j]\n",
    "        \n",
    "        itmp = np.in1d(iTBT[jturn],iTBT[nturn])\n",
    "        tmp = TBT[jturn][:,:,itmp]\n",
    "        X[nturn][iturn:jturn] = (tmp[:,0,:] - 1j*(betx*tmp[:,1,:]+alfx*tmp[:,0,:]))/(NL_c*np.sqrt(betx))\n",
    "        Y[nturn][iturn:jturn] = (tmp[:,2,:] - 1j*(betx*tmp[:,3,:]+alfx*tmp[:,2,:]))/(NL_c*np.sqrt(betx))\n",
    "        print(iturn,jturn,nturn,np.sum(itmp),npt)\n",
    "        \n",
    "        iturn = jturn"
   ]
  },
  {
   "cell_type": "markdown",
   "metadata": {},
   "source": [
    "### Apply NAFF"
   ]
  },
  {
   "cell_type": "code",
   "execution_count": null,
   "metadata": {},
   "outputs": [],
   "source": [
    "def getClosestDiff(ref,arr):\n",
    "    # ref.shape = nSample\n",
    "    nMode = len(arr)\n",
    "    if ref>1.0:\n",
    "        ref = ref - 1.0\n",
    "    for i in range(nMode):\n",
    "        if arr[i]>1.0:\n",
    "            arr[i]=arr[i]-1.0\n",
    "    diff = np.abs(ref-arr)\n",
    "    for i in range(nMode):\n",
    "        if (diff[i]>0.5):\n",
    "            diff[i] = 1.0 - diff[i]\n",
    "    return np.min(diff)"
   ]
  },
  {
   "cell_type": "code",
   "execution_count": null,
   "metadata": {},
   "outputs": [],
   "source": [
    "iMax = {}\n",
    "iMin = {}\n",
    "tuneXbefore= {}\n",
    "tuneYbefore= {}\n",
    "Xdiff = {}\n",
    "Ydiff = {}\n",
    "Adiff = {}\n",
    "\n",
    "for nturn in NTURN[1:]:\n",
    "    npt = len(X[nturn][0,:])\n",
    "    tuneXbefore[nturn] = np.zeros(npt)\n",
    "    tuneYbefore[nturn] = np.zeros(npt)\n",
    "    Xdiff[nturn] = np.zeros(npt)\n",
    "    Ydiff[nturn] = np.zeros(npt)\n",
    "    Adiff[nturn] = np.zeros(npt)\n",
    "    for i in range(npt):\n",
    "        signal = X[nturn][:int(nturn/2),i] -np.mean(X[nturn][:int(nturn/2),i])\n",
    "        tuneXbefore[nturn][i],amp,dummy = impact.util.naff(1,signal,window_id=1)\n",
    "        signal = X[nturn][int(nturn/2):,i] -np.mean(X[nturn][int(nturn/2):,i])\n",
    "        tune,amp,dummy = impact.util.naff(3,signal,window_id=1)\n",
    "        Xdiff[nturn][i] = getClosestDiff(tuneXbefore[nturn][i],tune)\n",
    "        \n",
    "        signal = Y[nturn][:int(nturn/2),i] -np.mean(Y[nturn][:int(nturn/2),i])\n",
    "        tuneYbefore[nturn][i],amp,dummy = impact.util.naff(1,signal,window_id=1)\n",
    "        signal = Y[nturn][int(nturn/2):,i] -np.mean(Y[nturn][int(nturn/2):,i])\n",
    "        tune,amp,dummy = impact.util.naff(3,signal,window_id=1)\n",
    "        Ydiff[nturn][i] = getClosestDiff(tuneYbefore[nturn][i],tune)\n",
    "        \n",
    "    Adiff[nturn] = np.sqrt(Xdiff[nturn]**2 +Ydiff[nturn]**2)\n",
    "    Adiff[nturn] = np.log10(Adiff[nturn]+1.0e-6)\n",
    "    Xdiff[nturn] = np.log10(Xdiff[nturn]+1.0e-6)\n",
    "    Ydiff[nturn] = np.log10(Ydiff[nturn]+1.0e-6)\n",
    "    iMax[nturn] = np.argmax(Adiff[nturn]),np.argmax(Xdiff[nturn]),np.argmax(Ydiff[nturn])\n",
    "    iMin[nturn] = np.argmin(Adiff[nturn]),np.argmin(Xdiff[nturn]),np.argmin(Ydiff[nturn])"
   ]
  },
  {
   "cell_type": "markdown",
   "metadata": {},
   "source": [
    "### Plot"
   ]
  },
  {
   "cell_type": "markdown",
   "metadata": {},
   "source": [
    "##### FFT"
   ]
  },
  {
   "cell_type": "code",
   "execution_count": null,
   "metadata": {
    "scrolled": true
   },
   "outputs": [],
   "source": [
    "n=NTURN[-1]\n",
    "n0=NTURN[-2]\n",
    "plt.figure(figsize=[8,6])\n",
    "plt.subplot(3,2,1)\n",
    "plt.semilogy(np.abs(np.fft.fft(X[n][:,iMax[n][1]])),'r:')\n",
    "plt.semilogy(np.abs(np.fft.fft(X[n][:,iMin[n][1]])),'k')\n",
    "plt.xlabel('fft$_x$')\n",
    "plt.subplot(3,2,2)\n",
    "plt.semilogy(np.abs(np.fft.fft(Y[n][:,iMax[n][2]])),'r:')\n",
    "plt.semilogy(np.abs(np.fft.fft(Y[n][:,iMin[n][2]])),'k')\n",
    "plt.legend(['most chaotic','most regular'],loc=1)\n",
    "plt.xlabel('fft$_y$')\n",
    "plt.subplot(3,2,3)\n",
    "plt.semilogy(np.abs(np.fft.fft(X[n][:n0,iMin[n][1]])),'r:')\n",
    "plt.semilogy(np.abs(np.fft.fft(X[n][n0:,iMin[n][1]])),'k')\n",
    "plt.xlabel('fft_regular_comparison$_x$')\n",
    "plt.subplot(3,2,4)\n",
    "plt.semilogy(np.abs(np.fft.fft(Y[n][:n0,iMin[n][2]])),'r:')\n",
    "plt.semilogy(np.abs(np.fft.fft(Y[n][n0:,iMin[n][2]])),'k')\n",
    "plt.xlabel('fft_regular_comparison$_y$')\n",
    "plt.legend(['1st half','2nd half'],loc=1)\n",
    "plt.subplot(3,2,5)\n",
    "plt.semilogy(np.abs(np.fft.fft(X[n][:n0,iMax[n][1]])),'r:')\n",
    "plt.semilogy(np.abs(np.fft.fft(X[n][n0:,iMax[n][1]])),'k')\n",
    "plt.xlabel('fft_chotic_comparison$_x$')\n",
    "plt.subplot(3,2,6)\n",
    "plt.semilogy(np.abs(np.fft.fft(Y[n][:n0,iMax[n][2]])),'r:')\n",
    "plt.semilogy(np.abs(np.fft.fft(Y[n][n0:,iMax[n][2]])),'k')\n",
    "plt.xlabel('fft_chotic_comparison$_y$')\n",
    "plt.legend(['1st half','2nd half'],loc=1)\n",
    "plt.tight_layout()\n",
    "plt.savefig('FMA.FFT.nu='+str(NL_nu)+'.tau='+str(NL_t)+'.mu='+str(dTune)+'.png',dpi=180)\n",
    "# plt.close()"
   ]
  },
  {
   "cell_type": "markdown",
   "metadata": {},
   "source": [
    "##### Tune Plot"
   ]
  },
  {
   "cell_type": "code",
   "execution_count": null,
   "metadata": {},
   "outputs": [],
   "source": [
    "def resonnace(ix,iy,N):\n",
    "    if ix==0 and iy==0:\n",
    "        nux=0\n",
    "        nuy=0\n",
    "    else:\n",
    "        if ix==0:\n",
    "            nux = np.linspace(-1,1,2)\n",
    "            nuy = np.linspace(float( N )/iy, float( N )/iy, 2)\n",
    "        elif iy==0:\n",
    "            nuy = np.linspace(-1,1,2)\n",
    "            nux = np.linspace(float( N )/ix, float( N )/ix, 2)\n",
    "        else:        \n",
    "            nux = np.linspace(-1,1,2)\n",
    "            nuy = ix/float(iy)*nux +  N/float(iy)\n",
    "    return nux,nuy"
   ]
  },
  {
   "cell_type": "code",
   "execution_count": null,
   "metadata": {},
   "outputs": [],
   "source": [
    "plt.figure(figsize=[4,3])\n",
    "for i in range(-4,4):\n",
    "    for j in range(-4,4):\n",
    "        for k in range(-4,4):\n",
    "            nux,nuy = resonnace(i,j,k)\n",
    "            plt.plot(nux,nuy,c='k',lw=0.2,ls='--',alpha=0.7)\n",
    "            \n",
    "for i in range(-6,6):\n",
    "    for j in range(-6,6):\n",
    "        for k in range(-6,6):\n",
    "            nux,nuy = resonnace(i,j,k)\n",
    "            plt.plot(nux,nuy,c='k',lw=0.1,ls='--',alpha=0.7)\n",
    "            \n",
    "f1=plt.scatter(tuneXbefore[n],tuneYbefore[n],c=Adiff[n],s=1.0,marker='o')\n",
    "\n",
    "tmp = np.sort(tuneXbefore[n])\n",
    "std = 0.2*np.std(tmp)\n",
    "xmin = tmp[32]-std\n",
    "xmax = tmp[-32]+std\n",
    "\n",
    "tmp = np.sort(tuneYbefore[n])\n",
    "std = 0.2*np.std(tmp)\n",
    "ymin = tmp[32]-std\n",
    "ymax = tmp[-32]+std\n",
    "\n",
    "plt.xlabel(r'$\\nu_x$')\n",
    "plt.ylabel(r'$\\nu_y$')\n",
    "plt.colorbar(f1)\n",
    "plt.xlim(xmin,xmax)\n",
    "plt.ylim(ymin,ymax)\n",
    "plt.tight_layout()\n",
    "plt.savefig('FMA.tune.nu='+str(NL_nu)+'.tau='+str(NL_t)+'.mu='+str(dTune)+'.png',dpi=180)\n",
    "# plt.close()"
   ]
  },
  {
   "cell_type": "code",
   "execution_count": null,
   "metadata": {},
   "outputs": [],
   "source": [
    "import scipy\n",
    "\n",
    "pData = impact.readParticleData(111110,ke,mass,freq,format_id=2)[npt:,:4]\n",
    "normalize(pData)\n",
    "dist = scipy.stats.gaussian_kde(pData[:,[0,2]].transpose())\n",
    "\n",
    "weight = dist([np.real(X[n][0,:]),np.real(Y[n][0,:])])"
   ]
  },
  {
   "cell_type": "code",
   "execution_count": null,
   "metadata": {},
   "outputs": [],
   "source": [
    "iCore = np.argwhere(weight > 0.2) # empirically found ...\n",
    "iCore = iTBT[n][iCore]\n",
    "\n",
    "iCoreTmp = np.in1d(iTBT[n],iCore)\n",
    "xTmp = np.real(X[n][0,iCoreTmp])\n",
    "yTmp = np.real(Y[n][0,iCoreTmp])\n",
    "\n",
    "grid = impact.data.dictClass()\n",
    "grid.extent = [xTmp.min(),xTmp.max(),yTmp.min(),yTmp.max()]\n",
    "grid.x, grid.y = np.mgrid[xTmp.min():xTmp.max():64j, yTmp.min():yTmp.max():64j]\n",
    "grid.points = np.vstack([grid.x.ravel(), grid.y.ravel()])\n",
    "grid.z = np.reshape(dist(grid.points).T, grid.x.shape)\n",
    "\n",
    "plt.figure(figsize=(12,3.3))\n",
    "plt.subplot(1,3,1)\n",
    "plt.scatter(np.real(X[n][0,:]),np.real(Y[n][0,:]),s=0.4)\n",
    "plt.scatter(pData[::10,0],pData[::10,2],s=0.1)\n",
    "plt.scatter(xTmp,yTmp,s=4.0)\n",
    "plt.subplot(1,3,2)\n",
    "plt.scatter(pData[::10,0],pData[::10,2],s=0.1)\n",
    "plt.scatter(xTmp,yTmp,s=4.0)\n",
    "plt.subplot(1,3,3)\n",
    "plt.scatter(pData[::10,0],pData[::10,2],s=0.1)\n",
    "plt.contour(grid.z.T, extent=grid.extent, levels=[0.2]);\n",
    "plt.tight_layout()\n",
    "\n",
    "pData = None\n",
    "dist = None\n",
    "weight = None"
   ]
  },
  {
   "cell_type": "code",
   "execution_count": null,
   "metadata": {},
   "outputs": [],
   "source": [
    "plt.figure(figsize=[4,3])\n",
    "for i in range(-4,4):\n",
    "    for j in range(-4,4):\n",
    "        for k in range(-4,4):\n",
    "            nux,nuy = resonnace(i,j,k)\n",
    "            plt.plot(nux,nuy,c='k',lw=0.2,ls='--',alpha=0.7)\n",
    "            \n",
    "for i in range(-6,6):\n",
    "    for j in range(-6,6):\n",
    "        for k in range(-6,6):\n",
    "            nux,nuy = resonnace(i,j,k)\n",
    "            plt.plot(nux,nuy,c='k',lw=0.1,ls='--',alpha=0.7)\n",
    "            \n",
    "            \n",
    "f1=plt.scatter(tuneXbefore[n][iCoreTmp],tuneYbefore[n][iCoreTmp],c=Adiff[n][iCoreTmp],s=1.0,marker='o')\n",
    "\n",
    "tmp = np.sort(tuneXbefore[n][iCoreTmp])\n",
    "std = 0.2*np.std(tmp)\n",
    "xmin = tmp[8]-std\n",
    "xmax = tmp[-8]+std\n",
    "\n",
    "tmp = np.sort(tuneYbefore[n][iCoreTmp])\n",
    "std = 0.2*np.std(tmp)\n",
    "ymin = tmp[8]-std\n",
    "ymax = tmp[-8]+std\n",
    "\n",
    "plt.xlabel(r'$\\nu_x$')\n",
    "plt.ylabel(r'$\\nu_y$')\n",
    "plt.colorbar(f1)\n",
    "plt.xlim(xmin,xmax)\n",
    "plt.ylim(ymin,ymax)\n",
    "plt.tight_layout()\n",
    "plt.savefig('FMA.tune.core.nu='+str(NL_nu)+'.tau='+str(NL_t)+'.mu='+str(dTune)+'.png',dpi=180)\n",
    "# plt.close()"
   ]
  },
  {
   "cell_type": "code",
   "execution_count": null,
   "metadata": {},
   "outputs": [],
   "source": [
    "r0_in = 0.7\n",
    "Arc0yIn = np.linspace(-r0_in,r0_in,100)\n",
    "Arc0xIn = -np.sqrt(r0_in**2-Arc0yIn**2)\n",
    "x0in_origin = 1.01\n",
    "\n",
    "\n",
    "r0_out = 0.7\n",
    "Arc0yOut = np.linspace(-r0_out,r0_out,100)\n",
    "Arc0xOut = -np.sqrt(r0_out**2-Arc0yOut**2)\n",
    "x0out_origin = 1.11\n",
    "\n",
    "pInArc = np.logical_and( ((np.real(X[n][0,:])-x0in_origin )**2 + np.real(Y[n][0,:])**2) > r0_in**2  ,\n",
    "                         ((np.real(X[n][0,:])+x0in_origin )**2 + np.real(Y[n][0,:])**2) > r0_in**2  )\n",
    "pOutArc= np.logical_or(  ((np.real(X[n][0,:])-x0out_origin)**2 + np.real(Y[n][0,:])**2) < r0_out**2 ,\n",
    "                         ((np.real(X[n][0,:])+x0out_origin)**2 + np.real(Y[n][0,:])**2) < r0_out**2 )\n",
    "pOnArc = np.logical_not( np.logical_or( pInArc, pOutArc))"
   ]
  },
  {
   "cell_type": "code",
   "execution_count": null,
   "metadata": {},
   "outputs": [],
   "source": [
    "xmax = np.max([np.real(X[n][0,:]),np.real(Y[n][0,:])])\n",
    "plt.figure(figsize=[3.7,3.3])\n",
    "plt.plot(Arc0xIn   +x0in_origin, Arc0yIn,c='r')\n",
    "plt.plot(Arc0xOut  +x0out_origin,Arc0yOut,c='r')\n",
    "plt.plot(-Arc0xIn  -x0in_origin, Arc0yIn,c='r')\n",
    "plt.plot(-Arc0xOut -x0out_origin,Arc0yOut,c='r')\n",
    "plt.scatter(np.real(X[n][0,pInArc]),np.real(Y[n][0,pInArc]),s=1.6,marker='s')\n",
    "plt.scatter(np.real(X[n][0,pOutArc]),np.real(Y[n][0,pOutArc]),s=1.6,marker='s')\n",
    "plt.scatter(np.real(X[n][0,pOnArc]),np.real(Y[n][0,pOnArc]),s=1.6,marker='s')\n",
    "plt.xlim(-xmax*1.1,xmax*1.1)\n",
    "plt.ylim(-xmax*1.1,xmax*1.1)\n",
    "plt.xlabel('$x_n$')\n",
    "plt.ylabel('$y_n$')\n",
    "plt.tight_layout()\n",
    "plt.savefig('geometry.nu='+str(NL_nu)+'.tau='+str(NL_t)+'.mu='+str(dTune)+'.png',dpi=180)"
   ]
  },
  {
   "cell_type": "code",
   "execution_count": null,
   "metadata": {},
   "outputs": [],
   "source": [
    "plt.figure(figsize=[4,3])\n",
    "for i in range(-4,4):\n",
    "    for j in range(-4,4):\n",
    "        for k in range(-4,4):\n",
    "            nux,nuy = resonnace(i,j,k)\n",
    "            plt.plot(nux,nuy,c='k',lw=0.2,ls='--',alpha=0.7)\n",
    "            \n",
    "for i in range(-6,6):\n",
    "    for j in range(-6,6):\n",
    "        for k in range(-6,6):\n",
    "            nux,nuy = resonnace(i,j,k)\n",
    "            plt.plot(nux,nuy,c='k',lw=0.1,ls='--',alpha=0.7)\n",
    "\n",
    "            \n",
    "f1=plt.scatter(tuneXbefore[n][pInArc],tuneYbefore[n][pInArc],c=Adiff[n][pInArc],s=1.0,marker='o')\n",
    "\n",
    "if NL_nu==0.28:\n",
    "    nux,nuy = resonnace(3,0,1)\n",
    "    plt.plot(nux,nuy,c='r',lw=0.8,ls='--')\n",
    "    plt.text(0.34, 0.07, r'$3\\nu_x=1$', fontsize=11, color='r', rotation=90, rotation_mode='anchor')\n",
    "    nux,nuy = resonnace(1,2,0)\n",
    "    plt.plot(nux,nuy,c='r',lw=0.8,ls='--')\n",
    "    plt.text(0.362, 0.188, r'$2\\nu_y-\\nu_x=0$', fontsize=11, color='r', rotation=15, rotation_mode='anchor')\n",
    "    nux,nuy = resonnace(-2,2,1)\n",
    "    plt.plot(nux,nuy,c='r',lw=0.8,ls='--')\n",
    "    plt.text(0.301, 0.187, r'$2\\nu_x+2\\nu_y=1$', fontsize=11, color='r', rotation=-30, rotation_mode='anchor')\n",
    "\n",
    "\n",
    "tmp = np.sort(tuneXbefore[n][pInArc])\n",
    "std = 0.2*np.std(tmp)\n",
    "xmin = tmp[8]-std\n",
    "xmax = tmp[-8]+std\n",
    "\n",
    "tmp = np.sort(tuneYbefore[n][pInArc])\n",
    "std = 0.2*np.std(tmp)\n",
    "ymin = tmp[8]-std\n",
    "ymax = tmp[-8]+std\n",
    "\n",
    "plt.xlabel(r'$\\nu_x$')\n",
    "plt.ylabel(r'$\\nu_y$')\n",
    "plt.colorbar(f1)\n",
    "plt.xlim(xmin,xmax)\n",
    "plt.ylim(ymin,ymax)\n",
    "plt.tight_layout()\n",
    "plt.savefig('FMA.tune.regionI.nu='+str(NL_nu)+'.tau='+str(NL_t)+'.mu='+str(dTune)+'.png',dpi=180)"
   ]
  },
  {
   "cell_type": "code",
   "execution_count": null,
   "metadata": {},
   "outputs": [],
   "source": [
    "plt.figure(figsize=[4,3])\n",
    "for i in range(-4,4):\n",
    "    for j in range(-4,4):\n",
    "        for k in range(-4,4):\n",
    "            nux,nuy = resonnace(i,j,k)\n",
    "            plt.plot(nux,nuy,c='k',lw=0.2,ls='--',alpha=0.7)\n",
    "            \n",
    "for i in range(-6,6):\n",
    "    for j in range(-6,6):\n",
    "        for k in range(-6,6):\n",
    "            nux,nuy = resonnace(i,j,k)\n",
    "            plt.plot(nux,nuy,c='k',lw=0.1,ls='--',alpha=0.7)\n",
    "            \n",
    "            \n",
    "f1=plt.scatter(tuneXbefore[n][pOutArc],tuneYbefore[n][pOutArc],c=Adiff[n][pOutArc],s=1.0,marker='o')\n",
    "\n",
    "tmp = np.sort(tuneXbefore[n][pOutArc])\n",
    "std = 0.2*np.std(tmp)\n",
    "xmin = tmp[8]-std\n",
    "xmax = tmp[-8]+std\n",
    "\n",
    "tmp = np.sort(tuneYbefore[n][pOutArc])\n",
    "std = 0.2*np.std(tmp)\n",
    "ymin = tmp[8]-std\n",
    "ymax = tmp[-8]+std\n",
    "\n",
    "plt.xlabel(r'$\\nu_x$')\n",
    "plt.ylabel(r'$\\nu_y$')\n",
    "plt.colorbar(f1)\n",
    "plt.xlim(xmin,xmax)\n",
    "plt.ylim(ymin,ymax)\n",
    "plt.tight_layout()\n",
    "plt.savefig('FMA.tune.regionII.nu='+str(NL_nu)+'.tau='+str(NL_t)+'.mu='+str(dTune)+'.png',dpi=180)"
   ]
  },
  {
   "cell_type": "code",
   "execution_count": null,
   "metadata": {},
   "outputs": [],
   "source": [
    "plt.figure(figsize=[4,3])\n",
    "for i in range(-4,4):\n",
    "    for j in range(-4,4):\n",
    "        for k in range(-4,4):\n",
    "            nux,nuy = resonnace(i,j,k)\n",
    "            plt.plot(nux,nuy,c='k',lw=0.2,ls='--',alpha=0.7)\n",
    "            \n",
    "for i in range(-6,6):\n",
    "    for j in range(-6,6):\n",
    "        for k in range(-6,6):\n",
    "            nux,nuy = resonnace(i,j,k)\n",
    "            plt.plot(nux,nuy,c='k',lw=0.1,ls='--',alpha=0.7)\n",
    "            \n",
    "            \n",
    "f1=plt.scatter(tuneXbefore[n][pOnArc],tuneYbefore[n][pOnArc],c=Adiff[n][pOnArc],s=1.0,marker='o')\n",
    "\n",
    "tmp = np.sort(tuneXbefore[n][pOnArc])\n",
    "std = 0.2*np.std(tmp)\n",
    "xmin = tmp[8]-std\n",
    "xmax = tmp[-8]+std\n",
    "\n",
    "tmp = np.sort(tuneYbefore[n][pOnArc])\n",
    "std = 0.2*np.std(tmp)\n",
    "ymin = tmp[8]-std\n",
    "ymax = tmp[-8]+std\n",
    "\n",
    "plt.xlabel(r'$\\nu_x$')\n",
    "plt.ylabel(r'$\\nu_y$')\n",
    "plt.colorbar(f1)\n",
    "plt.xlim(xmin,xmax)\n",
    "plt.ylim(ymin,ymax)\n",
    "plt.tight_layout()\n",
    "plt.savefig('FMA.tune.regionIII.nu='+str(NL_nu)+'.tau='+str(NL_t)+'.mu='+str(dTune)+'.png',dpi=180)"
   ]
  },
  {
   "cell_type": "code",
   "execution_count": null,
   "metadata": {},
   "outputs": [],
   "source": [
    "plt.figure(figsize=[4,3])\n",
    "for i in range(-4,4):\n",
    "    for j in range(-4,4):\n",
    "        for k in range(-4,4):\n",
    "            nux,nuy = resonnace(i,j,k)\n",
    "            plt.plot(nux,nuy,c='k',lw=0.2,ls='--',alpha=0.7)\n",
    "            \n",
    "for i in range(-6,6):\n",
    "    for j in range(-6,6):\n",
    "        for k in range(-6,6):\n",
    "            nux,nuy = resonnace(i,j,k)\n",
    "            plt.plot(nux,nuy,c='k',lw=0.1,ls='--',alpha=0.7)\n",
    "            \n",
    "            \n",
    "plt.scatter(tuneXbefore[n][pInArc],tuneYbefore[n][pInArc],s=0.5,marker='o',alpha=0.8)\n",
    "plt.scatter(tuneXbefore[n][pOutArc],tuneYbefore[n][pOutArc],s=0.5,marker='o',alpha=0.8)\n",
    "plt.scatter(tuneXbefore[n][pOnArc],tuneYbefore[n][pOnArc],s=0.5,marker='o',alpha=0.8)\n",
    "\n",
    "tmp = np.sort(tuneXbefore[n])\n",
    "std = 0.2*np.std(tmp)\n",
    "xmin = tmp[8]-std\n",
    "xmax = tmp[-8]+std\n",
    "\n",
    "tmp = np.sort(tuneYbefore[n])\n",
    "std = 0.2*np.std(tmp)\n",
    "ymin = tmp[8]-std\n",
    "ymax = tmp[-8]+std\n",
    "\n",
    "plt.xlabel(r'$\\nu_x$')\n",
    "plt.ylabel(r'$\\nu_y$')\n",
    "plt.xlim(xmin,xmax)\n",
    "plt.ylim(ymin,ymax)\n",
    "plt.tight_layout()\n",
    "plt.savefig('FMA.tune.regions.nu='+str(NL_nu)+'.tau='+str(NL_t)+'.mu='+str(dTune)+'.png',dpi=180)"
   ]
  },
  {
   "cell_type": "markdown",
   "metadata": {},
   "source": [
    "##### Poincare"
   ]
  },
  {
   "cell_type": "code",
   "execution_count": null,
   "metadata": {},
   "outputs": [],
   "source": [
    "plt.figure(figsize=[3.3,3])\n",
    "plt.scatter(np.real(X[n][:,iMax[n][0]]),np.real(Y[n][:,iMax[n][0]]),c='r',s=0.1)\n",
    "plt.scatter(np.real(X[n][:,iMin[n][0]]),np.real(Y[n][:,iMin[n][0]]),c='k',s=0.1)\n",
    "plt.xlabel('x')\n",
    "plt.ylabel('y')\n",
    "plt.legend(['most chaotic','most regular'],loc=1)\n",
    "plt.tight_layout()\n",
    "plt.savefig('FMA.poincare_xy.nu='+str(NL_nu)+'.tau='+str(NL_t)+'.mu='+str(dTune)+'.png',dpi=180)"
   ]
  },
  {
   "cell_type": "code",
   "execution_count": null,
   "metadata": {},
   "outputs": [],
   "source": [
    "plt.figure(figsize=[3.3,3])\n",
    "plt.scatter(np.real(X[n][:,iMax[n][0]]),np.imag(X[n][:,iMax[n][0]]),c='r',s=0.1)\n",
    "plt.scatter(np.real(X[n][:,iMin[n][0]]),np.imag(X[n][:,iMin[n][0]]),c='k',s=0.1)\n",
    "plt.xlabel('x')\n",
    "plt.ylabel('px')\n",
    "plt.legend(['most chaotic','most regular'],loc=1)\n",
    "plt.tight_layout()\n",
    "plt.savefig('FMA.poincare_xpx.nu='+str(NL_nu)+'.tau='+str(NL_t)+'.mu='+str(dTune)+'.png',dpi=180)"
   ]
  },
  {
   "cell_type": "code",
   "execution_count": null,
   "metadata": {},
   "outputs": [],
   "source": [
    "plt.figure(figsize=[3.3,3])\n",
    "plt.scatter(np.real(Y[n][:,iMax[n][0]]),np.imag(Y[n][:,iMax[n][0]]),c='r',s=0.1)\n",
    "plt.scatter(np.real(Y[n][:,iMin[n][0]]),np.imag(Y[n][:,iMin[n][0]]),c='k',s=0.1)\n",
    "plt.xlabel('y')\n",
    "plt.ylabel('py')\n",
    "plt.legend(['most chaotic','most regular'],loc=1)\n",
    "plt.tight_layout()\n",
    "plt.savefig('FMA.poincare_ypy.nu='+str(NL_nu)+'.tau='+str(NL_t)+'.mu='+str(dTune)+'.png',dpi=180)"
   ]
  },
  {
   "cell_type": "markdown",
   "metadata": {},
   "source": [
    "##### DA"
   ]
  },
  {
   "cell_type": "code",
   "execution_count": null,
   "metadata": {},
   "outputs": [],
   "source": [
    "n=NTURN[0]\n",
    "xmax = np.max([np.real(X[n][0,:]),np.real(Y[n][0,:])])\n",
    "for n in NTURN[1:]:\n",
    "    plt.figure(figsize=[4,3.3])\n",
    "    f1=plt.scatter(np.real(X[n][0,:]),np.real(Y[n][0,:]),c=Adiff[n],s=1.6,marker='s')\n",
    "    plt.scatter([-1.0,1.0],[0.0,0.0],c='r',s=77,marker='x')\n",
    "    plt.xlim(-xmax*1.1,xmax*1.1)\n",
    "    plt.ylim(-xmax*1.1,xmax*1.1)\n",
    "    plt.xlabel('$x_n$')\n",
    "    plt.ylabel('$y_n$')\n",
    "    plt.colorbar(f1)\n",
    "    plt.tight_layout()\n",
    "    plt.savefig('FMA.DA.nu='+str(NL_nu)+'.tau='+str(NL_t)+'.mu='+str(dTune)+'.turn='+str(int(n/2))+'.png',dpi=180)"
   ]
  },
  {
   "cell_type": "markdown",
   "metadata": {},
   "source": [
    "# FB"
   ]
  },
  {
   "cell_type": "markdown",
   "metadata": {},
   "source": [
    "### Run Backward"
   ]
  },
  {
   "cell_type": "markdown",
   "metadata": {},
   "source": [
    "lattice.pop()\n",
    "latticeB = copy(lattice[1:][::-1])\n",
    "latticeB.insert(0,copy(lattice[0]))\n",
    "\n",
    "for i in range(len(latticeB)):\n",
    "    if 'length' in latticeB[i]:\n",
    "        latticeB[i].length = -latticeB[i].length\n",
    "    if latticeB[i].type == 'linear_matrix_map':\n",
    "        latticeB[i].tune_advance                 =-latticeB[i].tune_advance\n",
    "        latticeB[i].nonlinear_insert_tuneAdvance =-latticeB[i].nonlinear_insert_tuneAdvance\n",
    "        latticeB[i].nonlinear_insert_length      =-latticeB[i].nonlinear_insert_length"
   ]
  },
  {
   "cell_type": "markdown",
   "metadata": {},
   "source": [
    "for nturn in NTURN[:-1]:\n",
    "    latticeB[0].turns = nturn\n",
    "    latticeB[-1].file_id = 100000+nturn\n",
    "    beam.distribution.distribution_type = 'ReadFile_binary'\n",
    "    beam.distribution.file_id = nturn\n",
    "    impact.writeInputFile(beam,latticeB) \n",
    "    impact.run(beam)"
   ]
  },
  {
   "cell_type": "markdown",
   "metadata": {},
   "source": [
    "### Load Data"
   ]
  },
  {
   "cell_type": "markdown",
   "metadata": {},
   "source": [
    "for nturn in NTURN[:-1]:\n",
    "    print(nturn)\n",
    "    iTBT[-nturn],TBT[-nturn] = impact.readTBT(100000+nturn,ke,mass,freq)\n",
    "    TBT[-nturn] = TBT[-nturn][:,:4,:]\n",
    "    Npt[-nturn] = len(iTBT[-nturn])"
   ]
  },
  {
   "cell_type": "markdown",
   "metadata": {},
   "source": [
    "for i in range(len(NTURN)-1):\n",
    "    nturn = NTURN[i]\n",
    "    \n",
    "    npt = len(iTBT[-nturn])\n",
    "    X[nturn]=np.zeros((nturn,npt),dtype=np.complex)\n",
    "    Y[nturn]=np.zeros((nturn,npt),dtype=np.complex)\n",
    "    tmp = TBT[-nturn][::-1,:4,:]\n",
    "    X[-nturn]=(tmp[:,0,:] - 1j*(betx*tmp[:,1,:]+alfx*tmp[:,0,:]))/(NL_c*np.sqrt(betx))\n",
    "    Y[-nturn]=(tmp[:,2,:] - 1j*(betx*tmp[:,3,:]+alfx*tmp[:,2,:]))/(NL_c*np.sqrt(betx))\n",
    "    \n",
    "    iturn = 0\n",
    "    for j in range(i+1):\n",
    "        jturn = NTURN[j]\n",
    "        \n",
    "        itmp = np.in1d(iTBT[jturn],iTBT[-nturn])\n",
    "        tmp = TBT[jturn][:,:,itmp]\n",
    "        X[nturn][iturn:jturn] = (tmp[:,0,:] - 1j*(betx*tmp[:,1,:]+alfx*tmp[:,0,:]))/(NL_c*np.sqrt(betx))\n",
    "        Y[nturn][iturn:jturn] = (tmp[:,2,:] - 1j*(betx*tmp[:,3,:]+alfx*tmp[:,2,:]))/(NL_c*np.sqrt(betx))\n",
    "        print(iturn,jturn,nturn,np.sum(itmp),npt)\n",
    "        \n",
    "        iturn = jturn"
   ]
  },
  {
   "cell_type": "markdown",
   "metadata": {},
   "source": [
    "for nturn in NTURN[:-1]:\n",
    "    nturn = -nturn\n",
    "    Xdiff[nturn] = np.abs(X[nturn]-X[-nturn])**2\n",
    "    Ydiff[nturn] = np.abs(Y[nturn]-Y[-nturn])**2\n",
    "    Adiff[nturn] = Xdiff[nturn] + Ydiff[nturn]\n",
    "    Xdiff[nturn] = np.sqrt(-np.sum(Xdiff[nturn],0)/nturn)\n",
    "    Ydiff[nturn] = np.sqrt(-np.sum(Ydiff[nturn],0)/nturn)\n",
    "    Adiff[nturn] = np.sqrt(-np.sum(Adiff[nturn],0)/nturn)\n",
    "    Xdiff[nturn] = np.log10(Xdiff[nturn])\n",
    "    Ydiff[nturn] = np.log10(Ydiff[nturn])\n",
    "    Adiff[nturn] = np.log10(Adiff[nturn])\n",
    "    iMax[nturn] = np.argmax(Adiff[nturn]),np.argmax(Xdiff[nturn]),np.argmax(Ydiff[nturn])\n",
    "    iMin[nturn] = np.argmin(Adiff[nturn]),np.argmin(Xdiff[nturn]),np.argmin(Ydiff[nturn])"
   ]
  },
  {
   "cell_type": "markdown",
   "metadata": {},
   "source": [
    "### Plot"
   ]
  },
  {
   "cell_type": "markdown",
   "metadata": {},
   "source": [
    "##### Poincare"
   ]
  },
  {
   "cell_type": "markdown",
   "metadata": {},
   "source": [
    "n=-NTURN[-2]\n",
    "plt.figure(figsize=[3.3,3])\n",
    "plt.scatter(np.real(X[n][:,iMax[n][0]]),np.real(Y[n][:,iMax[n][0]]),c='r',s=0.1)\n",
    "plt.scatter(np.real(X[n][:,iMin[n][0]]),np.real(Y[n][:,iMin[n][0]]),c='k',s=0.1)\n",
    "plt.xlabel('x')\n",
    "plt.ylabel('y')\n",
    "plt.legend(['most chaotic','most regular'],loc=1)\n",
    "plt.tight_layout()\n",
    "plt.savefig('FB.poincare_xy.nu='+str(NL_nu)+'.tau='+str(NL_t)+'.mu='+str(dTune)+'.png',dpi=180)"
   ]
  },
  {
   "cell_type": "markdown",
   "metadata": {},
   "source": [
    "plt.figure(figsize=[3.3,3])\n",
    "plt.scatter(np.real(X[n][:,iMax[n][0]]),np.imag(X[n][:,iMax[n][0]]),c='r',s=0.1)\n",
    "plt.scatter(np.real(X[n][:,iMin[n][0]]),np.imag(X[n][:,iMin[n][0]]),c='k',s=0.1)\n",
    "plt.xlabel('x')\n",
    "plt.ylabel('px')\n",
    "plt.legend(['most chaotic','most regular'],loc=1)\n",
    "plt.tight_layout()\n",
    "plt.savefig('FB.poincare_xpx.nu='+str(NL_nu)+'.tau='+str(NL_t)+'.mu='+str(dTune)+'.png',dpi=180)"
   ]
  },
  {
   "cell_type": "markdown",
   "metadata": {},
   "source": [
    "plt.figure(figsize=[3.3,3])\n",
    "plt.scatter(np.real(Y[n][:,iMax[n][0]]),np.imag(Y[n][:,iMax[n][0]]),c='r',s=0.1)\n",
    "plt.scatter(np.real(Y[n][:,iMin[n][0]]),np.imag(Y[n][:,iMin[n][0]]),c='k',s=0.1)\n",
    "plt.xlabel('y')\n",
    "plt.ylabel('py')\n",
    "plt.legend(['most chaotic','most regular'],loc=1)\n",
    "plt.tight_layout()\n",
    "plt.savefig('FB.poincare_ypy.nu='+str(NL_nu)+'.tau='+str(NL_t)+'.mu='+str(dTune)+'.png',dpi=180)"
   ]
  },
  {
   "cell_type": "markdown",
   "metadata": {},
   "source": [
    "##### DA"
   ]
  },
  {
   "cell_type": "markdown",
   "metadata": {},
   "source": [
    "n=NTURN[0]\n",
    "xmax = np.max([np.real(X[n][0,:]),np.real(Y[n][0,:])])\n",
    "for n in NTURN[:-1]:\n",
    "    plt.figure(figsize=[4,3.3])\n",
    "    f1=plt.scatter(np.real(X[n][0,:]),np.real(Y[n][0,:]),c=Adiff[-n],s=1.6,marker='s')\n",
    "    plt.scatter([-1.0,1.0],[0.0,0.0],c='r',s=77,marker='x')\n",
    "    plt.xlim(-xmax*1.1,xmax*1.1)\n",
    "    plt.ylim(-xmax*1.1,xmax*1.1)\n",
    "    plt.xlabel('$x_n$')\n",
    "    plt.ylabel('$y_n$')\n",
    "    plt.colorbar(f1)\n",
    "    plt.tight_layout()\n",
    "    plt.savefig('FB.DA.nu='+str(NL_nu)+'.tau='+str(NL_t)+'.mu='+str(dTune)+'.turn='+str(n)+'.png',dpi=180)"
   ]
  },
  {
   "cell_type": "code",
   "execution_count": null,
   "metadata": {},
   "outputs": [],
   "source": []
  }
 ],
 "metadata": {
  "kernelspec": {
   "display_name": "Python 3",
   "language": "python",
   "name": "python3"
  },
  "language_info": {
   "codemirror_mode": {
    "name": "ipython",
    "version": 3
   },
   "file_extension": ".py",
   "mimetype": "text/x-python",
   "name": "python",
   "nbconvert_exporter": "python",
   "pygments_lexer": "ipython3",
   "version": "3.6.5"
  }
 },
 "nbformat": 4,
 "nbformat_minor": 2
}
