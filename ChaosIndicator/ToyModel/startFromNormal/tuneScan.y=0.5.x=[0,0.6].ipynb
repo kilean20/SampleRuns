{
 "cells": [
  {
   "cell_type": "code",
   "execution_count": 1,
   "metadata": {},
   "outputs": [],
   "source": [
    "import numpy as np\n",
    "import pImpactR as impact\n",
    "from copy import deepcopy as copy\n",
    "import matplotlib.pyplot as plt\n",
    "import sys\n",
    "np.set_printoptions(formatter={'float': lambda x: format(x, '1.2E')})"
   ]
  },
  {
   "cell_type": "code",
   "execution_count": 2,
   "metadata": {},
   "outputs": [],
   "source": [
    "nTurn = 1000\n",
    "npt = 1024\n",
    "\n",
    "nCore_y = 8\n",
    "nCore_z = 4\n",
    "\n",
    "NL_c = 0.01\n",
    "NL_t = 0.4\n",
    "NL_nu= 0.3\n",
    "NL_L = 1.8\n",
    "dTune = 0.0\n",
    "\n",
    "alfx = np.tan(np.pi*NL_nu)\n",
    "betx = NL_L/np.sin(2.0*np.pi*NL_nu)"
   ]
  },
  {
   "cell_type": "markdown",
   "metadata": {},
   "source": [
    "# 1. Preparation"
   ]
  },
  {
   "cell_type": "code",
   "execution_count": 3,
   "metadata": {
    "scrolled": false
   },
   "outputs": [
    {
     "name": "stdout",
     "output_type": "stream",
     "text": [
      "reading ImpactZ input file (\u001b[92mtest_toymodel.in\u001b[0m)\n",
      "  : mpi task info .............................done\n",
      "  : simulation control parameters .............done\n",
      "  : space charge field solver, mesh info ......done\n",
      "  : dist-type,restart,subcycle,#of state ......done\n",
      "  : Multiple Charge State info ................done\n",
      "  : particle distribution info ................done\n",
      "  : beam reference orbit info .................done\n",
      "  : converting impact dist to twiss param......done\n",
      "  : lattice info ..............................done\n"
     ]
    }
   ],
   "source": [
    "beam, lattice = impact.readInputFile('test_toymodel.in');\n",
    "beam.nCore_y = nCore_y\n",
    "beam.nCore_z = nCore_z\n",
    "beam.distribution.distribution_type = 'ReadFile'\n",
    "beam.current = 0.0\n",
    "\n",
    "ke = beam.kinetic_energy\n",
    "mass = beam.mass\n",
    "freq = beam.frequency"
   ]
  },
  {
   "cell_type": "code",
   "execution_count": 4,
   "metadata": {},
   "outputs": [],
   "source": [
    "def normalize(data):\n",
    "    data[:,1] = (data[:,0]*alfx/np.sqrt(betx) + data[:,1]*np.sqrt(betx))/NL_c\n",
    "    data[:,3] = (data[:,2]*alfx/np.sqrt(betx) + data[:,3]*np.sqrt(betx))/NL_c\n",
    "    data[:,0] = data[:,0]/(np.sqrt(betx)*NL_c)\n",
    "    data[:,2] = data[:,2]/(np.sqrt(betx)*NL_c)\n",
    "    \n",
    "def unnormalize(data):\n",
    "    data[:,1] = (-data[:,0]*alfx + data[:,1])*NL_c/np.sqrt(betx)\n",
    "    data[:,3] = (-data[:,2]*alfx + data[:,3])*NL_c/np.sqrt(betx)\n",
    "    data[:,0] = data[:,0]*np.sqrt(betx)*NL_c\n",
    "    data[:,2] = data[:,2]*np.sqrt(betx)*NL_c"
   ]
  },
  {
   "cell_type": "code",
   "execution_count": 5,
   "metadata": {},
   "outputs": [],
   "source": [
    "for i in range(len(lattice)-1,0,-1):\n",
    "    if lattice[i].type == 'write_raw_ptcl':\n",
    "        lattice.pop(i)\n",
    "lattice[1].n_sckick = 101\n",
    "lattice[1].n_map = 100\n",
    "lattice[1].length = NL_L\n",
    "lattice[1].strength_t = NL_t\n",
    "lattice[1].transverse_scale_c = NL_c\n",
    "lattice[1].tune_advance = NL_nu\n",
    "\n",
    "lattice[2].tune_advance = dTune\n",
    "lattice[2].nonlinear_insert_tuneAdvance = NL_nu\n",
    "lattice[2].nonlinear_insert_length = NL_L"
   ]
  },
  {
   "cell_type": "code",
   "execution_count": 6,
   "metadata": {},
   "outputs": [
    {
     "data": {
      "text/plain": [
       "\n",
       "             length: 1.8 [m]\n",
       "           n_sckick: 101 [1]\n",
       "              n_map: 100 [1]\n",
       "         strength_t: 0.4\n",
       " transverse_scale_c: 0.01\n",
       "        pipe_radius: 10.0 [m]\n",
       "       tune_advance: 0.3\n",
       "               type: 'nonlinear_insert'"
      ]
     },
     "execution_count": 6,
     "metadata": {},
     "output_type": "execute_result"
    }
   ],
   "source": [
    "lattice[1]"
   ]
  },
  {
   "cell_type": "code",
   "execution_count": 7,
   "metadata": {},
   "outputs": [],
   "source": [
    "lattice[0].turns = nTurn\n",
    "\n",
    "TBT = impact.getElem('TBT')\n",
    "TBT.file_id = 5555\n",
    "TBT.pID_begin = 1\n",
    "TBT.pID_end = npt\n",
    "lattice.insert(1,TBT)"
   ]
  },
  {
   "cell_type": "markdown",
   "metadata": {},
   "source": [
    "# prepare particles"
   ]
  },
  {
   "cell_type": "code",
   "execution_count": 8,
   "metadata": {},
   "outputs": [
    {
     "name": "stdout",
     "output_type": "stream",
     "text": [
      "[[3.28E-01 3.44E-03]\n",
      " [3.40E-01 1.22E-01]\n",
      " [3.70E-01 2.25E-01]\n",
      " [4.00E-01 2.93E-01]\n",
      " [4.50E-01 3.78E-01]\n",
      " [5.00E-01 4.44E-01]\n",
      " [5.50E-01 4.99E-01]\n",
      " [6.00E-01 5.46E-01]\n",
      " [6.50E-01 5.85E-01]\n",
      " [7.01E-01 6.20E-01]\n",
      " [7.50E-01 6.50E-01]\n",
      " [8.02E-01 6.77E-01]\n",
      " [8.52E-01 6.99E-01]\n",
      " [9.02E-01 7.19E-01]\n",
      " [9.51E-01 7.35E-01]\n",
      " [1.00E+00 7.49E-01]\n",
      " [1.05E+00 7.60E-01]\n",
      " [1.10E+00 7.70E-01]]\n",
      "(18, 2)\n"
     ]
    }
   ],
   "source": [
    "data=np.loadtxt('arc_points.data')\n",
    "print(data)\n",
    "print(data.shape)"
   ]
  },
  {
   "cell_type": "code",
   "execution_count": 9,
   "metadata": {
    "scrolled": true
   },
   "outputs": [],
   "source": [
    "k=0\n",
    "q_m = beam.multi_charge.q_m[0]\n",
    "pTest = np.zeros([npt,9])\n",
    "pTest[:,6] = q_m\n",
    "pTest[:,-1] = np.arange(1,npt+1)\n",
    "pTest[:,0] = np.linspace(0.0,0.6,npt)\n",
    "pTest[:,2] = 0.5\n",
    "# x0 =0.450148016509940\n",
    "# y0 = 0.377955996499910\n",
    "# pTest[:,0] = x0 + np.linspace(-1.0e-3,1.0e-3,npt)\n",
    "# pTest[:,2] = y0\n",
    "# pTest[:,0] = data[:,0]\n",
    "# pTest[:,2] = data[:,1]\n",
    "beam.n_particles = npt\n",
    "unnormalize(pTest)"
   ]
  },
  {
   "cell_type": "code",
   "execution_count": 10,
   "metadata": {},
   "outputs": [
    {
     "data": {
      "text/plain": [
       "0"
      ]
     },
     "execution_count": 10,
     "metadata": {},
     "output_type": "execute_result"
    }
   ],
   "source": [
    "impact.writeParticleData(pTest, ke, mass, freq)\n",
    "impact.writeInputFile(beam,lattice) \n",
    "impact.run(beam)"
   ]
  },
  {
   "cell_type": "code",
   "execution_count": 11,
   "metadata": {},
   "outputs": [
    {
     "name": "stdout",
     "output_type": "stream",
     "text": [
      "1024\n",
      "(1000, 6, 1024)\n"
     ]
    }
   ],
   "source": [
    "iTBT,TBT = impact.readTBT(5555,ke,mass,freq)\n",
    "print(len(iTBT))\n",
    "print(TBT.shape)"
   ]
  },
  {
   "cell_type": "code",
   "execution_count": 12,
   "metadata": {},
   "outputs": [],
   "source": [
    "X = np.zeros([nTurn,npt],dtype=np.complex64)\n",
    "Y = np.zeros([nTurn,npt],dtype=np.complex64)\n",
    "for i in range(nTurn):\n",
    "    X[i,:] = (TBT[i,0,:] - 1j*(betx*TBT[i,1,:]+alfx*TBT[i,0,:]))/(NL_c*np.sqrt(betx))\n",
    "    Y[i,:] = (TBT[i,2,:] - 1j*(betx*TBT[i,3,:]+alfx*TBT[i,2,:]))/(NL_c*np.sqrt(betx))"
   ]
  },
  {
   "cell_type": "code",
   "execution_count": 13,
   "metadata": {},
   "outputs": [],
   "source": [
    "tuneX = np.zeros(npt)\n",
    "tuneY = np.zeros(npt)\n",
    "for i in range(npt):\n",
    "    signal = X[:,i] - X[:,i].mean()\n",
    "    tuneX[i] = impact.util.naff(1,signal)[0][0]\n",
    "    signal = Y[:,i] - Y[:,i].mean()\n",
    "    tuneY[i] = impact.util.naff(1,signal)[0][0]"
   ]
  },
  {
   "cell_type": "code",
   "execution_count": 14,
   "metadata": {},
   "outputs": [
    {
     "data": {
      "image/png": "[encoded data removed]",
      "text/plain": [
       "<Figure size 864x216 with 3 Axes>"
      ]
     },
     "metadata": {},
     "output_type": "display_data"
    }
   ],
   "source": [
    "plt.figure(figsize=(12,3))\n",
    "plt.subplot(1,3,1)\n",
    "plt.plot(np.real(X[0,1:]),tuneX[1:]/0.3,'x-')\n",
    "plt.xlabel('$x_n$');\n",
    "plt.ylabel(r'$\\omega_x$');\n",
    "plt.subplot(1,3,2)\n",
    "plt.plot(np.real(X[0,1:]),tuneY[1:]/0.3,'x-')\n",
    "plt.xlabel('$x_n$');\n",
    "plt.ylabel(r'$\\omega_y$');\n",
    "plt.subplot(1,3,3)\n",
    "plt.plot(np.real(X[0,1:]),tuneY[1:]/tuneX[1:],'x-')\n",
    "plt.xlabel('$x_n$');\n",
    "plt.ylabel(r'$\\omega_y/\\omega_x$');\n",
    "plt.tight_layout()\n",
    "# plt.savefig('tune.onArc.png',dpi=180)"
   ]
  },
  {
   "cell_type": "markdown",
   "metadata": {},
   "source": [
    "i = i-1\n",
    "fft0 = np.fft.fft(X[:,i]-X[:,i].mean())\n",
    "i = i+1\n",
    "fft1 = np.fft.fft(X[:,i]-X[:,i].mean())\n",
    "i = i+1\n",
    "fft2 = np.fft.fft(X[:,i]-X[:,i].mean())\n",
    "ref = np.linspace(0,1,nTurn)\n",
    "plt.plot(ref,np.abs(fft0),alpha=0.4)\n",
    "plt.plot(ref,np.abs(fft1),alpha=0.7)\n",
    "plt.plot(ref,np.abs(fft2))"
   ]
  },
  {
   "cell_type": "markdown",
   "metadata": {},
   "source": [
    "i"
   ]
  },
  {
   "cell_type": "markdown",
   "metadata": {},
   "source": [
    "i = i-2\n",
    "signal = X[:,i]-X[:,i].mean()\n",
    "print(impact.util.naff(5,signal)[0])\n",
    "i = i+1\n",
    "signal = X[:,i]-X[:,i].mean()\n",
    "print(impact.util.naff(5,signal)[0])\n",
    "i = i+1\n",
    "signal = X[:,i]-X[:,i].mean()\n",
    "print(impact.util.naff(5,signal)[0])"
   ]
  },
  {
   "cell_type": "markdown",
   "metadata": {},
   "source": [
    "i"
   ]
  }
 ],
 "metadata": {
  "kernelspec": {
   "display_name": "Python 3",
   "language": "python",
   "name": "python3"
  },
  "language_info": {
   "codemirror_mode": {
    "name": "ipython",
    "version": 3
   },
   "file_extension": ".py",
   "mimetype": "text/x-python",
   "name": "python",
   "nbconvert_exporter": "python",
   "pygments_lexer": "ipython3",
   "version": "3.6.5"
  }
 },
 "nbformat": 4,
 "nbformat_minor": 2
}
