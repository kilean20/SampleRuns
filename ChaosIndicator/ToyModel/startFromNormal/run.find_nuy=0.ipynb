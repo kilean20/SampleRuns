{
 "cells": [
  {
   "cell_type": "code",
   "execution_count": 1,
   "metadata": {},
   "outputs": [],
   "source": [
    "import numpy as np\n",
    "import pImpactR as impact\n",
    "from copy import deepcopy as copy\n",
    "import matplotlib.pyplot as plt\n",
    "import sys\n",
    "np.set_printoptions(formatter={'float': lambda x: format(x, '1.2E')})"
   ]
  },
  {
   "cell_type": "code",
   "execution_count": 2,
   "metadata": {},
   "outputs": [],
   "source": [
    "NTURN = [1024,1024*2]\n",
    "\n",
    "nCore_y = 4\n",
    "nCore_z = 4\n",
    "\n",
    "NL_c = 0.01\n",
    "NL_t = 0.4\n",
    "NL_nu= 0.28\n",
    "NL_L = 1.8\n",
    "dTune = 0.01\n",
    "\n",
    "alfx = np.tan(np.pi*NL_nu)\n",
    "betx = NL_L/np.sin(2.0*np.pi*NL_nu)\n",
    "\n",
    "pipe_radius = 0.02*np.sqrt(2.0)"
   ]
  },
  {
   "cell_type": "markdown",
   "metadata": {},
   "source": [
    "# 1. Preparation"
   ]
  },
  {
   "cell_type": "markdown",
   "metadata": {},
   "source": [
    "### 1.1 read InputFile and simplify lattice"
   ]
  },
  {
   "cell_type": "code",
   "execution_count": 3,
   "metadata": {
    "scrolled": false
   },
   "outputs": [
    {
     "name": "stdout",
     "output_type": "stream",
     "text": [
      "reading ImpactZ input file (\u001b[92mtest_toymodel.in\u001b[0m)\n",
      "  : mpi task info .............................done\n",
      "  : simulation control parameters .............done\n",
      "  : space charge field solver, mesh info ......done\n",
      "  : dist-type,restart,subcycle,#of state ......done\n",
      "  : Multiple Charge State info ................done\n",
      "  : particle distribution info ................done\n",
      "  : beam reference orbit info .................done\n",
      "  : converting impact dist to twiss param......done\n",
      "  : lattice info ..............................done\n"
     ]
    }
   ],
   "source": [
    "beam, lattice = impact.readInputFile('test_toymodel.in');\n",
    "beam.nCore_y = nCore_y\n",
    "beam.nCore_z = nCore_z\n",
    "beam.distribution.distribution_type = 'ReadFile'\n",
    "beam.current = 0.0\n",
    "\n",
    "ke = beam.kinetic_energy\n",
    "mass = beam.mass\n",
    "freq = beam.frequency"
   ]
  },
  {
   "cell_type": "code",
   "execution_count": 4,
   "metadata": {},
   "outputs": [],
   "source": [
    "def normalize(data):\n",
    "    data[:,1] = (data[:,0]*alfx/np.sqrt(betx) + data[:,1]*np.sqrt(betx))/NL_c\n",
    "    data[:,3] = (data[:,2]*alfx/np.sqrt(betx) + data[:,3]*np.sqrt(betx))/NL_c\n",
    "    data[:,0] = data[:,0]/(np.sqrt(betx)*NL_c)\n",
    "    data[:,2] = data[:,2]/(np.sqrt(betx)*NL_c)\n",
    "    \n",
    "def unnormalize(data):\n",
    "    data[:,1] = (-data[:,0]*alfx + data[:,1])*NL_c/np.sqrt(betx)\n",
    "    data[:,3] = (-data[:,2]*alfx + data[:,3])*NL_c/np.sqrt(betx)\n",
    "    data[:,0] = data[:,0]*np.sqrt(betx)*NL_c\n",
    "    data[:,2] = data[:,2]*np.sqrt(betx)*NL_c"
   ]
  },
  {
   "cell_type": "code",
   "execution_count": 5,
   "metadata": {},
   "outputs": [],
   "source": [
    "for i in range(len(lattice)-1,0,-1):\n",
    "    if lattice[i].type == 'write_raw_ptcl':\n",
    "        lattice.pop(i)\n",
    "lattice[1].n_sckick = 100\n",
    "lattice[1].length = NL_L\n",
    "lattice[1].strength_t = NL_t\n",
    "lattice[1].transverse_scale_c = NL_c\n",
    "lattice[1].tune_advance = NL_nu\n",
    "lattice[1].pipe_radius = 0.02*np.sqrt(2)\n",
    "\n",
    "lattice[2].tune_advance = dTune\n",
    "lattice[2].nonlinear_insert_tuneAdvance = NL_nu\n",
    "lattice[2].nonlinear_insert_length = NL_L"
   ]
  },
  {
   "cell_type": "markdown",
   "metadata": {},
   "source": [
    "### 1.2. generate particles"
   ]
  },
  {
   "cell_type": "code",
   "execution_count": 6,
   "metadata": {
    "scrolled": true
   },
   "outputs": [
    {
     "name": "stdout",
     "output_type": "stream",
     "text": [
      "initial npt= 7668\n"
     ]
    }
   ],
   "source": [
    "testP = 0.0\n",
    "k=0\n",
    "q_m = beam.multi_charge.q_m[0]\n",
    "pTest = []\n",
    "nx = 100\n",
    "xmax = 0.98\n",
    "for x in np.linspace(-xmax,xmax,nx):\n",
    "    for y in np.linspace(-xmax,xmax,nx):\n",
    "        if x**2+y**2<=xmax**2 :\n",
    "            k+=1\n",
    "            pTest.append([x,0.0,y,0.0,0.0,0.0,q_m,0.0,k]) \n",
    "pTest = np.array(pTest)\n",
    "npt = len(pTest)\n",
    "beam.n_particles = npt\n",
    "print('initial npt=',npt)"
   ]
  },
  {
   "cell_type": "code",
   "execution_count": 7,
   "metadata": {},
   "outputs": [],
   "source": [
    "unnormalize(pTest)\n",
    "impact.writeParticleData(pTest, ke, mass, freq)"
   ]
  },
  {
   "cell_type": "code",
   "execution_count": 8,
   "metadata": {},
   "outputs": [],
   "source": [
    "lattice[0].turns = NTURN[0]\n",
    "\n",
    "TBT = impact.getElem('TBT')\n",
    "TBT.file_id = NTURN[0]\n",
    "TBT.pID_begin = 1\n",
    "TBT.pID_end = npt\n",
    "lattice.insert(1,TBT)\n",
    "\n",
    "OUTPUT = impact.getElem('write_raw_ptcl')\n",
    "OUTPUT.file_id = NTURN[0]\n",
    "OUTPUT.turn = NTURN[0]\n",
    "OUTPUT.format_id = 2\n",
    "lattice.append(OUTPUT)"
   ]
  },
  {
   "cell_type": "markdown",
   "metadata": {},
   "source": [
    "# FMA"
   ]
  },
  {
   "cell_type": "markdown",
   "metadata": {},
   "source": [
    "### Run Forward "
   ]
  },
  {
   "cell_type": "code",
   "execution_count": 9,
   "metadata": {},
   "outputs": [
    {
     "data": {
      "text/plain": [
       "0"
      ]
     },
     "execution_count": 9,
     "metadata": {},
     "output_type": "execute_result"
    }
   ],
   "source": [
    "impact.writeInputFile(beam,lattice) \n",
    "impact.run(beam)"
   ]
  },
  {
   "cell_type": "code",
   "execution_count": 10,
   "metadata": {},
   "outputs": [],
   "source": [
    "for nturn in NTURN[:-1]:\n",
    "    lattice[0].turns = nturn\n",
    "    TBT.file_id = nturn*2\n",
    "    OUTPUT.turn = nturn\n",
    "    OUTPUT.file_id = nturn*2\n",
    "    beam.distribution.distribution_type = 'ReadFile_binary'\n",
    "    beam.distribution.file_id = nturn\n",
    "    impact.writeInputFile(beam,lattice) \n",
    "    impact.run(beam)"
   ]
  },
  {
   "cell_type": "markdown",
   "metadata": {},
   "source": [
    "### Load Data"
   ]
  },
  {
   "cell_type": "code",
   "execution_count": 11,
   "metadata": {},
   "outputs": [
    {
     "name": "stdout",
     "output_type": "stream",
     "text": [
      "1024\n",
      "2048\n"
     ]
    }
   ],
   "source": [
    "iTBT = {}\n",
    "TBT = {}\n",
    "X = {}\n",
    "Y = {}\n",
    "Npt = {}\n",
    "\n",
    "for nturn in NTURN:\n",
    "    print(nturn)\n",
    "    iTBT[nturn],TBT[nturn] = impact.readTBT(nturn,ke,mass,freq)\n",
    "    TBT[nturn] = TBT[nturn][:,:4,:]\n",
    "    Npt[nturn] = len(iTBT[nturn])"
   ]
  },
  {
   "cell_type": "code",
   "execution_count": 12,
   "metadata": {
    "scrolled": true
   },
   "outputs": [
    {
     "name": "stdout",
     "output_type": "stream",
     "text": [
      "0 1024 1024 7262 7262\n",
      "0 1024 2048 7199 7199\n",
      "1024 2048 2048 7199 7199\n"
     ]
    }
   ],
   "source": [
    "for i in range(len(NTURN)):\n",
    "    nturn = NTURN[i]\n",
    "    \n",
    "    npt = len(iTBT[nturn])\n",
    "    X[nturn]=np.zeros((nturn,npt),dtype=np.complex)\n",
    "    Y[nturn]=np.zeros((nturn,npt),dtype=np.complex)\n",
    "    \n",
    "    iturn = 0\n",
    "    for j in range(i+1):\n",
    "        jturn = NTURN[j]\n",
    "        \n",
    "        itmp = np.in1d(iTBT[jturn],iTBT[nturn])\n",
    "        tmp = TBT[jturn][:,:,itmp]\n",
    "        X[nturn][iturn:jturn] = (tmp[:,0,:] - 1j*(betx*tmp[:,1,:]+alfx*tmp[:,0,:]))/(NL_c*np.sqrt(betx))\n",
    "        Y[nturn][iturn:jturn] = (tmp[:,2,:] - 1j*(betx*tmp[:,3,:]+alfx*tmp[:,2,:]))/(NL_c*np.sqrt(betx))\n",
    "        print(iturn,jturn,nturn,np.sum(itmp),npt)\n",
    "        \n",
    "        iturn = jturn"
   ]
  },
  {
   "cell_type": "markdown",
   "metadata": {},
   "source": [
    "### Apply NAFF"
   ]
  },
  {
   "cell_type": "code",
   "execution_count": 13,
   "metadata": {},
   "outputs": [],
   "source": [
    "def getClosestDiff(ref,arr):\n",
    "    # ref.shape = nSample\n",
    "    nMode = len(arr)\n",
    "    if ref>1.0:\n",
    "        ref = ref - 1.0\n",
    "    for i in range(nMode):\n",
    "        if arr[i]>1.0:\n",
    "            arr[i]=arr[i]-1.0\n",
    "    diff = np.abs(ref-arr)\n",
    "    for i in range(nMode):\n",
    "        if (diff[i]>0.5):\n",
    "            diff[i] = 1.0 - diff[i]\n",
    "    return np.min(diff)"
   ]
  },
  {
   "cell_type": "code",
   "execution_count": 14,
   "metadata": {},
   "outputs": [],
   "source": [
    "iMax = {}\n",
    "iMin = {}\n",
    "tuneXbefore= {}\n",
    "tuneYbefore= {}\n",
    "Xdiff = {}\n",
    "Ydiff = {}\n",
    "Adiff = {}\n",
    "\n",
    "for nturn in NTURN[1:]:\n",
    "    npt = len(X[nturn][0,:])\n",
    "    tuneXbefore[nturn] = np.zeros(npt)\n",
    "    tuneYbefore[nturn] = np.zeros(npt)\n",
    "    Xdiff[nturn] = np.zeros(npt)\n",
    "    Ydiff[nturn] = np.zeros(npt)\n",
    "    Adiff[nturn] = np.zeros(npt)\n",
    "    for i in range(npt):\n",
    "        signal = X[nturn][:int(nturn/2),i]# -np.mean(X[nturn][:int(nturn/2),i])\n",
    "        tuneXbefore[nturn][i],amp,dummy = impact.util.naff(1,signal,window_id=1)\n",
    "        signal = X[nturn][int(nturn/2):,i]# -np.mean(X[nturn][int(nturn/2):,i])\n",
    "        tune,amp,dummy = impact.util.naff(3,signal,window_id=1)\n",
    "        Xdiff[nturn][i] = getClosestDiff(tuneXbefore[nturn][i],tune)\n",
    "        \n",
    "        signal = Y[nturn][:int(nturn/2),i]# -np.mean(Y[nturn][:int(nturn/2),i])\n",
    "        tuneYbefore[nturn][i],amp,dummy = impact.util.naff(1,signal,window_id=1)\n",
    "        signal = Y[nturn][int(nturn/2):,i]# -np.mean(Y[nturn][int(nturn/2):,i])\n",
    "        tune,amp,dummy = impact.util.naff(3,signal,window_id=1)\n",
    "        Ydiff[nturn][i] = getClosestDiff(tuneYbefore[nturn][i],tune)\n",
    "        \n",
    "    Adiff[nturn] = np.sqrt(Xdiff[nturn]**2 +Ydiff[nturn]**2)\n",
    "    Adiff[nturn] = np.log10(Adiff[nturn]+1.0e-6)\n",
    "    Xdiff[nturn] = np.log10(Xdiff[nturn]+1.0e-6)\n",
    "    Ydiff[nturn] = np.log10(Ydiff[nturn]+1.0e-6)\n",
    "    iMax[nturn] = np.argmax(Adiff[nturn]),np.argmax(Xdiff[nturn]),np.argmax(Ydiff[nturn])\n",
    "    iMin[nturn] = np.argmin(Adiff[nturn]),np.argmin(Xdiff[nturn]),np.argmin(Ydiff[nturn])"
   ]
  },
  {
   "cell_type": "markdown",
   "metadata": {},
   "source": [
    "### Plot"
   ]
  },
  {
   "cell_type": "code",
   "execution_count": 19,
   "metadata": {},
   "outputs": [],
   "source": [
    "n = NTURN[-1]\n",
    "p_nuy0 = np.logical_or(tuneYbefore[n]<0.01, tuneYbefore[n]>0.99)"
   ]
  },
  {
   "cell_type": "code",
   "execution_count": 20,
   "metadata": {},
   "outputs": [
    {
     "data": {
      "image/png": "[encoded data removed]",
      "text/plain": [
       "<Figure size 266.4x237.6 with 1 Axes>"
      ]
     },
     "metadata": {},
     "output_type": "display_data"
    }
   ],
   "source": [
    "xmax = np.max([np.real(X[n][0,:]),np.real(Y[n][0,:])])\n",
    "plt.figure(figsize=[3.7,3.3])\n",
    "plt.scatter(np.real(X[n][0,p_nuy0]),np.real(Y[n][0,p_nuy0]),c=Adiff[n][p_nuy0],s=1.6,marker='s')\n",
    "plt.xlim(-xmax*1.1,xmax*1.1)\n",
    "plt.ylim(-xmax*1.1,xmax*1.1)\n",
    "plt.xlabel('$x_n$')\n",
    "plt.ylabel('$y_n$')\n",
    "plt.tight_layout()\n",
    "plt.savefig('DA.nu_y=0.nu='+str(NL_nu)+'.tau='+str(NL_t)+'.mu='+str(dTune)+'.png',dpi=180)"
   ]
  },
  {
   "cell_type": "code",
   "execution_count": null,
   "metadata": {},
   "outputs": [],
   "source": []
  }
 ],
 "metadata": {
  "kernelspec": {
   "display_name": "Python 3",
   "language": "python",
   "name": "python3"
  },
  "language_info": {
   "codemirror_mode": {
    "name": "ipython",
    "version": 3
   },
   "file_extension": ".py",
   "mimetype": "text/x-python",
   "name": "python",
   "nbconvert_exporter": "python",
   "pygments_lexer": "ipython3",
   "version": "3.6.5"
  }
 },
 "nbformat": 4,
 "nbformat_minor": 2
}
