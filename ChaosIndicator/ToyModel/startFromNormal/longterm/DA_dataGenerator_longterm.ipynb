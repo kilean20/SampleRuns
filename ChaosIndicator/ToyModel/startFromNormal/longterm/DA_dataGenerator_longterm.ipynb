{
 "cells": [
  {
   "cell_type": "code",
   "execution_count": 1,
   "metadata": {},
   "outputs": [],
   "source": [
    "import numpy as np\n",
    "import pImpactR as impact\n",
    "from copy import deepcopy as copy\n",
    "import matplotlib.pyplot as plt\n",
    "import sys\n",
    "np.set_printoptions(formatter={'float': lambda x: format(x, '1.2E')})"
   ]
  },
  {
   "cell_type": "code",
   "execution_count": 2,
   "metadata": {},
   "outputs": [],
   "source": [
    "NTURN = [65536,65536*2]\n",
    "mu = 0.04\n",
    "NU = [0.30345]\n",
    "TAU = [0.4]\n",
    "order=1\n",
    "\n",
    "nCore_y = 4\n",
    "nCore_z = 4\n",
    "\n",
    "NL_c = 0.01\n",
    "NL_L = 1.8\n",
    "\n",
    "npt=7668\n",
    "\n",
    "pipe_radius = 0.02*np.sqrt(2.0)"
   ]
  },
  {
   "cell_type": "markdown",
   "metadata": {},
   "source": [
    "# 1. Preparation"
   ]
  },
  {
   "cell_type": "markdown",
   "metadata": {},
   "source": [
    "### 1.1 read InputFile and simplify lattice"
   ]
  },
  {
   "cell_type": "code",
   "execution_count": 3,
   "metadata": {
    "scrolled": false
   },
   "outputs": [
    {
     "name": "stdout",
     "output_type": "stream",
     "text": [
      "reading ImpactZ input file (\u001b[92mtest_toymodel.in\u001b[0m)\n",
      "  : mpi task info .............................done\n",
      "  : simulation control parameters .............done\n",
      "  : space charge field solver, mesh info ......done\n",
      "  : dist-type,restart,subcycle,#of state ......done\n",
      "  : Multiple Charge State info ................done\n",
      "  : particle distribution info ................done\n",
      "  : beam reference orbit info .................done\n",
      "  : converting impact dist to twiss param......done\n",
      "  : lattice info ..............................done\n"
     ]
    }
   ],
   "source": [
    "beam, lattice = impact.readInputFile('test_toymodel.in');\n",
    "beam.nCore_y = nCore_y\n",
    "beam.nCore_z = nCore_z\n",
    "beam.distribution.distribution_type = 'ReadFile'\n",
    "beam.current = 0.0\n",
    "beam.n_particles = npt\n",
    "\n",
    "ke = beam.kinetic_energy\n",
    "mass = beam.mass\n",
    "freq = beam.frequency"
   ]
  },
  {
   "cell_type": "code",
   "execution_count": 4,
   "metadata": {},
   "outputs": [],
   "source": [
    "for i in range(len(lattice)-1,0,-1):\n",
    "    if lattice[i].type == 'write_raw_ptcl':\n",
    "        lattice.pop(i)\n",
    "        \n",
    "ElemNL = lattice[1]         \n",
    "ElemNL.n_sckick = 100\n",
    "ElemNL.length = NL_L\n",
    "ElemNL.transverse_scale_c = NL_c\n",
    "ElemNL.pipe_radius = 0.02*np.sqrt(2)\n",
    "\n",
    "ElemM = lattice[2]\n",
    "ElemM.nonlinear_insert_length = NL_L"
   ]
  },
  {
   "cell_type": "code",
   "execution_count": 5,
   "metadata": {},
   "outputs": [],
   "source": [
    "ElemTBT = impact.getElem('TBT')\n",
    "ElemTBT.pID_begin = 1\n",
    "ElemTBT.pID_end = npt\n",
    "lattice.insert(1,ElemTBT)\n",
    "\n",
    "OUTPUT = impact.getElem('write_raw_ptcl')\n",
    "OUTPUT.format_id = 2\n",
    "lattice.append(OUTPUT)"
   ]
  },
  {
   "cell_type": "code",
   "execution_count": 6,
   "metadata": {},
   "outputs": [],
   "source": [
    "def normalize(data,alfx,betx):\n",
    "    data[:,1] = (data[:,0]*alfx/np.sqrt(betx) + data[:,1]*np.sqrt(betx))/NL_c\n",
    "    data[:,3] = (data[:,2]*alfx/np.sqrt(betx) + data[:,3]*np.sqrt(betx))/NL_c\n",
    "    data[:,0] = data[:,0]/(np.sqrt(betx)*NL_c)\n",
    "    data[:,2] = data[:,2]/(np.sqrt(betx)*NL_c)\n",
    "    \n",
    "def unnormalize(data,alfx,betx):\n",
    "    data[:,1] = (-data[:,0]*alfx + data[:,1])*NL_c/np.sqrt(betx)\n",
    "    data[:,3] = (-data[:,2]*alfx + data[:,3])*NL_c/np.sqrt(betx)\n",
    "    data[:,0] = data[:,0]*np.sqrt(betx)*NL_c\n",
    "    data[:,2] = data[:,2]*np.sqrt(betx)*NL_c"
   ]
  },
  {
   "cell_type": "markdown",
   "metadata": {},
   "source": [
    "### 1.2. generate particles"
   ]
  },
  {
   "cell_type": "code",
   "execution_count": 7,
   "metadata": {
    "scrolled": true
   },
   "outputs": [],
   "source": [
    "testP = 0.0\n",
    "k=0\n",
    "q_m = beam.multi_charge.q_m[0]\n",
    "pTest = []\n",
    "nx = 100\n",
    "xmax = 0.98\n",
    "for x in np.linspace(-xmax,xmax,nx):\n",
    "    for y in np.linspace(-xmax,xmax,nx):\n",
    "        if x**2+y**2<=xmax**2 :\n",
    "            k+=1\n",
    "            pTest.append([x,0.0,y,0.0,0.0,0.0,q_m,0.0,k]) \n",
    "pTest = np.array(pTest)"
   ]
  },
  {
   "cell_type": "code",
   "execution_count": 8,
   "metadata": {},
   "outputs": [],
   "source": [
    "def run(tau,nu,mu):\n",
    "    alfx = np.tan(np.pi*nu)\n",
    "    betx = NL_L/np.sin(2.0*np.pi*nu)\n",
    "    pData = copy(pTest)\n",
    "    unnormalize(pData,alfx,betx)\n",
    "    impact.writeParticleData(pData, ke, mass, freq)\n",
    "    \n",
    "    lattice[0].turns = NTURN[0]\n",
    "    ElemNL.strength_t = tau\n",
    "    ElemNL.tune_advance = nu\n",
    "    ElemM.tune_advance_x = mu\n",
    "    ElemM.tune_advance_y = mu\n",
    "    ElemM.nonlinear_insert_tuneAdvance = nu\n",
    "    ElemTBT.file_id = NTURN[0]\n",
    "    OUTPUT.file_id = NTURN[0]\n",
    "    OUTPUT.turn = NTURN[0]\n",
    "    beam.distribution.distribution_type = 'ReadFile'\n",
    "    impact.writeInputFile(beam,lattice) \n",
    "    impact.run(beam,order=order)\n",
    "    for nturn in NTURN[:-1]:\n",
    "        lattice[0].turns = nturn\n",
    "        ElemTBT.file_id = nturn*2\n",
    "        OUTPUT.turn = nturn\n",
    "        OUTPUT.file_id = nturn*2\n",
    "        beam.distribution.distribution_type = 'ReadFile_binary'\n",
    "        beam.distribution.file_id = nturn\n",
    "        impact.writeInputFile(beam,lattice) \n",
    "        impact.run(beam,order=order)"
   ]
  },
  {
   "cell_type": "code",
   "execution_count": 9,
   "metadata": {},
   "outputs": [],
   "source": [
    "def getClosestDiff(ref,arr):\n",
    "    # ref.shape = nSample\n",
    "    nMode = len(arr)\n",
    "    if ref>1.0:\n",
    "        ref = ref - 1.0\n",
    "    for i in range(nMode):\n",
    "        if arr[i]>1.0:\n",
    "            arr[i]=arr[i]-1.0\n",
    "    diff = np.abs(ref-arr)\n",
    "    for i in range(nMode):\n",
    "        if (diff[i]>0.5):\n",
    "            diff[i] = 1.0 - diff[i]\n",
    "    return np.min(diff)\n",
    "\n",
    "\n",
    "def getData(tau,nu,mu):\n",
    "    alfx = np.tan(np.pi*nu)\n",
    "    betx = NL_L/np.sin(2.0*np.pi*nu)\n",
    "    iTBT = {}\n",
    "    TBT = {}\n",
    "    Npt = {}\n",
    "    \n",
    "    \n",
    "    # read TBT data\n",
    "    for nturn in NTURN:\n",
    "        iTBT[nturn],TBT[nturn] = impact.readTBT(nturn,ke,mass,freq)\n",
    "        TBT[nturn] = TBT[nturn][:,:4,:]\n",
    "        Npt[nturn] = len(iTBT[nturn])\n",
    "\n",
    "        \n",
    "    # normalize TBT data\n",
    "    XF = {}\n",
    "    YF = {}\n",
    "    for i in range(len(NTURN)):\n",
    "        nturn = NTURN[i]\n",
    "        npt = len(iTBT[nturn])\n",
    "        XF[nturn]=np.zeros((nturn,npt),dtype=np.complex)\n",
    "        YF[nturn]=np.zeros((nturn,npt),dtype=np.complex)\n",
    "        iturn = 0\n",
    "        for j in range(i+1):\n",
    "            jturn = NTURN[j]\n",
    "            itmp = np.in1d(iTBT[jturn],iTBT[nturn])\n",
    "            tmp = TBT[jturn][:,:,itmp]\n",
    "            XF[nturn][iturn:jturn] = (tmp[:,0,:] - 1j*(betx*tmp[:,1,:]+alfx*tmp[:,0,:]))/(NL_c*np.sqrt(betx))\n",
    "            YF[nturn][iturn:jturn] = (tmp[:,2,:] - 1j*(betx*tmp[:,3,:]+alfx*tmp[:,2,:]))/(NL_c*np.sqrt(betx))\n",
    "            iturn = jturn\n",
    "    TBT = None\n",
    "    iTBT = None\n",
    "    #FD\n",
    "    tuneXbefore= {}\n",
    "    tuneYbefore= {}\n",
    "    Xdiff = {}\n",
    "    Ydiff = {}\n",
    "    Adiff = {}\n",
    "    for nturn in NTURN[:-1]:\n",
    "        nturn2 = 2*nturn\n",
    "        npt = len(XF[nturn2][0,:])\n",
    "        tuneXbefore[nturn] = np.zeros(npt)\n",
    "        tuneYbefore[nturn] = np.zeros(npt)\n",
    "        Xdiff[nturn] = np.zeros(npt)\n",
    "        Ydiff[nturn] = np.zeros(npt)\n",
    "        Adiff[nturn] = np.zeros(npt)\n",
    "        for i in range(npt):\n",
    "            signal = XF[nturn2][:nturn,i] -np.mean(XF[nturn2][:nturn,i])\n",
    "            tuneXbefore[nturn][i],amp,dummy = impact.util.naff(1,signal,window_id=1)\n",
    "            signal = XF[nturn2][nturn:,i] -np.mean(XF[nturn2][nturn:,i])\n",
    "            tune,amp,dummy = impact.util.naff(3,signal,window_id=1)\n",
    "            Xdiff[nturn][i] = getClosestDiff(tuneXbefore[nturn][i],tune)\n",
    "            signal = YF[nturn2][:nturn,i] -np.mean(YF[nturn2][:nturn,i])\n",
    "            tuneYbefore[nturn][i],amp,dummy = impact.util.naff(1,signal,window_id=1)\n",
    "            signal = YF[nturn2][nturn:,i] -np.mean(YF[nturn2][nturn:,i])\n",
    "            tune,amp,dummy = impact.util.naff(3,signal,window_id=1)\n",
    "            Ydiff[nturn][i] = getClosestDiff(tuneYbefore[nturn][i],tune)\n",
    "\n",
    "        Adiff[nturn] = np.sqrt(Xdiff[nturn]**2 +Ydiff[nturn]**2)\n",
    "        Adiff[nturn] = np.log10(Adiff[nturn]+1.0e-6)\n",
    "        Xdiff[nturn] = np.log10(Xdiff[nturn]+1.0e-6)\n",
    "        Ydiff[nturn] = np.log10(Ydiff[nturn]+1.0e-6)\n",
    "    \n",
    "        \n",
    "    X = {}\n",
    "    Y = {}\n",
    "    for n in NTURN[:-1]:\n",
    "        X[ n]=np.real(XF[2*n][0,:])\n",
    "        Y[ n]=np.real(YF[2*n][0,:])\n",
    "    XF={}\n",
    "    YF={}\n",
    "    return {'X':X,'Y':Y,'c':Adiff}#,'rawX':XB,'rawY':YB}"
   ]
  },
  {
   "cell_type": "code",
   "execution_count": null,
   "metadata": {},
   "outputs": [
    {
     "name": "stdout",
     "output_type": "stream",
     "text": [
      "<<<< nu=0.30345.tau=0.4.mu=0.04 >>>>\n"
     ]
    }
   ],
   "source": [
    "data = {}\n",
    "for tau in TAU:\n",
    "    for nu in NU:\n",
    "        print('<<<< nu='+str(nu)+'.tau='+str(tau)+'.mu='+str(mu)+' >>>>')\n",
    "        run(tau,nu,mu)\n",
    "        data['nu='+str(nu)+'.tau='+str(tau)+'.mu='+str(mu)] = getData(tau,nu,mu)"
   ]
  },
  {
   "cell_type": "code",
   "execution_count": null,
   "metadata": {},
   "outputs": [],
   "source": [
    "import pickle\n",
    "pickle.dump(data,open('DA.data_longterm.nu='+str(NU[0])+'.tau=0.4.mu='+str(mu)+'.pickle','wb'))"
   ]
  },
  {
   "cell_type": "code",
   "execution_count": 14,
   "metadata": {},
   "outputs": [
    {
     "data": {
      "text/plain": [
       "<matplotlib.colorbar.Colorbar at 0x7f75465f2550>"
      ]
     },
     "execution_count": 14,
     "metadata": {},
     "output_type": "execute_result"
    },
    {
     "data": {
      "image/png": "[encoded data removed]",
      "text/plain": [
       "<Figure size 288x237.6 with 2 Axes>"
      ]
     },
     "metadata": {},
     "output_type": "display_data"
    }
   ],
   "source": [
    "deco = list(data.keys())[0]\n",
    "n = NTURN[0]\n",
    "plt.figure(figsize=[4,3.3])\n",
    "cmap=plt.scatter(data[deco]['X'][n],data[deco]['Y'][n],c=data[deco]['c'][n],s=1.6,marker='s')\n",
    "plt.scatter([-1.0,1.0],[0.0,0.0],c='r',s=77,marker='x')\n",
    "plt.colorbar(cmap)"
   ]
  },
  {
   "cell_type": "code",
   "execution_count": null,
   "metadata": {},
   "outputs": [],
   "source": [
    "data"
   ]
  },
  {
   "cell_type": "code",
   "execution_count": null,
   "metadata": {},
   "outputs": [],
   "source": []
  }
 ],
 "metadata": {
  "kernelspec": {
   "display_name": "Python 3",
   "language": "python",
   "name": "python3"
  },
  "language_info": {
   "codemirror_mode": {
    "name": "ipython",
    "version": 3
   },
   "file_extension": ".py",
   "mimetype": "text/x-python",
   "name": "python",
   "nbconvert_exporter": "python",
   "pygments_lexer": "ipython3",
   "version": "3.6.5"
  }
 },
 "nbformat": 4,
 "nbformat_minor": 2
}
