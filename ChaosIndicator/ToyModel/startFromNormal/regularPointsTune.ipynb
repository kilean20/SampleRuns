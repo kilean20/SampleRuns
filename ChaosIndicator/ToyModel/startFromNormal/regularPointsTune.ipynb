{
 "cells": [
  {
   "cell_type": "code",
   "execution_count": 1,
   "metadata": {},
   "outputs": [],
   "source": [
    "import numpy as np\n",
    "import pImpactR as impact\n",
    "from copy import deepcopy as copy\n",
    "import matplotlib.pyplot as plt\n",
    "import sys\n",
    "# np.set_printoptions(formatter={'float': lambda x: format(x, '1.2E')})"
   ]
  },
  {
   "cell_type": "code",
   "execution_count": 2,
   "metadata": {},
   "outputs": [],
   "source": [
    "nTurn = 1024\n",
    "npt = 10\n",
    "\n",
    "nCore_y = 1\n",
    "nCore_z = 1\n",
    "\n",
    "NL_c = 0.01\n",
    "NL_t = 0.4\n",
    "NL_nu= 0.3\n",
    "NL_L = 1.8\n",
    "dTune = 0.0\n",
    "\n",
    "alfx = np.tan(np.pi*NL_nu)\n",
    "betx = NL_L/np.sin(2.0*np.pi*NL_nu)"
   ]
  },
  {
   "cell_type": "markdown",
   "metadata": {},
   "source": [
    "# 1. Preparation"
   ]
  },
  {
   "cell_type": "code",
   "execution_count": 3,
   "metadata": {
    "scrolled": false
   },
   "outputs": [
    {
     "name": "stdout",
     "output_type": "stream",
     "text": [
      "reading ImpactZ input file (\u001b[92mtest_toymodel.in\u001b[0m)\n",
      "  : mpi task info .............................done\n",
      "  : simulation control parameters .............done\n",
      "  : space charge field solver, mesh info ......done\n",
      "  : dist-type,restart,subcycle,#of state ......done\n",
      "  : Multiple Charge State info ................done\n",
      "  : particle distribution info ................done\n",
      "  : beam reference orbit info .................done\n",
      "  : converting impact dist to twiss param......done\n",
      "  : lattice info ..............................done\n"
     ]
    }
   ],
   "source": [
    "beam, lattice = impact.readInputFile('test_toymodel.in');\n",
    "beam.nCore_y = nCore_y\n",
    "beam.nCore_z = nCore_z\n",
    "beam.distribution.distribution_type = 'ReadFile'\n",
    "beam.current = 0.0\n",
    "\n",
    "ke = beam.kinetic_energy\n",
    "mass = beam.mass\n",
    "freq = beam.frequency"
   ]
  },
  {
   "cell_type": "code",
   "execution_count": 4,
   "metadata": {},
   "outputs": [],
   "source": [
    "def normalize(data):\n",
    "    data[:,1] = (data[:,0]*alfx/np.sqrt(betx) + data[:,1]*np.sqrt(betx))/NL_c\n",
    "    data[:,3] = (data[:,2]*alfx/np.sqrt(betx) + data[:,3]*np.sqrt(betx))/NL_c\n",
    "    data[:,0] = data[:,0]/(np.sqrt(betx)*NL_c)\n",
    "    data[:,2] = data[:,2]/(np.sqrt(betx)*NL_c)\n",
    "    \n",
    "def unnormalize(data):\n",
    "    data[:,1] = (-data[:,0]*alfx + data[:,1])*NL_c/np.sqrt(betx)\n",
    "    data[:,3] = (-data[:,2]*alfx + data[:,3])*NL_c/np.sqrt(betx)\n",
    "    data[:,0] = data[:,0]*np.sqrt(betx)*NL_c\n",
    "    data[:,2] = data[:,2]*np.sqrt(betx)*NL_c"
   ]
  },
  {
   "cell_type": "code",
   "execution_count": 5,
   "metadata": {},
   "outputs": [],
   "source": [
    "for i in range(len(lattice)-1,0,-1):\n",
    "    if lattice[i].type == 'write_raw_ptcl':\n",
    "        lattice.pop(i)\n",
    "lattice[1].n_sckick = 101\n",
    "lattice[1].n_map = 100\n",
    "lattice[1].length = NL_L\n",
    "lattice[1].strength_t = NL_t\n",
    "lattice[1].transverse_scale_c = NL_c\n",
    "lattice[1].tune_advance = NL_nu\n",
    "\n",
    "lattice[2].tune_advance = dTune\n",
    "lattice[2].nonlinear_insert_tuneAdvance = NL_nu\n",
    "lattice[2].nonlinear_insert_length = NL_L"
   ]
  },
  {
   "cell_type": "code",
   "execution_count": 6,
   "metadata": {},
   "outputs": [
    {
     "data": {
      "text/plain": [
       "\n",
       "             length: 1.8 [m]\n",
       "           n_sckick: 101 [1]\n",
       "              n_map: 100 [1]\n",
       "         strength_t: 0.4\n",
       " transverse_scale_c: 0.01\n",
       "        pipe_radius: 10.0 [m]\n",
       "       tune_advance: 0.3\n",
       "               type: 'nonlinear_insert'"
      ]
     },
     "execution_count": 6,
     "metadata": {},
     "output_type": "execute_result"
    }
   ],
   "source": [
    "lattice[1]"
   ]
  },
  {
   "cell_type": "code",
   "execution_count": 7,
   "metadata": {},
   "outputs": [],
   "source": [
    "lattice[0].turns = nTurn\n",
    "\n",
    "TBT = impact.getElem('TBT')\n",
    "TBT.file_id = 11111\n",
    "TBT.pID_begin = 1\n",
    "TBT.pID_end = npt\n",
    "lattice.insert(1,TBT)"
   ]
  },
  {
   "cell_type": "markdown",
   "metadata": {},
   "source": [
    "# prepare particles"
   ]
  },
  {
   "cell_type": "code",
   "execution_count": 8,
   "metadata": {},
   "outputs": [],
   "source": [
    "# data=np.loadtxt('regular_points.data')\n",
    "# print(data)\n",
    "# print(data.shape)"
   ]
  },
  {
   "cell_type": "code",
   "execution_count": 20,
   "metadata": {
    "scrolled": true
   },
   "outputs": [],
   "source": [
    "k=0\n",
    "q_m = beam.multi_charge.q_m[0]\n",
    "pTest = np.zeros([npt,9])\n",
    "pTest[:,6] = q_m\n",
    "pTest[:,-1] = np.arange(1,npt+1)\n",
    "pTest[:,0] = np.arange(0.3/npt,0.3+0.0001,0.3/npt)\n",
    "pTest[:,2] = np.arange(0.5/npt,0.5+0.0001,0.5/npt)\n",
    "# pTest[:,0] = data[0]\n",
    "# pTest[:,2] = data[1]\n",
    "beam.n_particles = npt"
   ]
  },
  {
   "cell_type": "code",
   "execution_count": 10,
   "metadata": {},
   "outputs": [
    {
     "data": {
      "text/plain": [
       "0.30000000000000004"
      ]
     },
     "execution_count": 10,
     "metadata": {},
     "output_type": "execute_result"
    }
   ],
   "source": [
    "pTest[-1,0]"
   ]
  },
  {
   "cell_type": "code",
   "execution_count": 11,
   "metadata": {},
   "outputs": [
    {
     "data": {
      "text/plain": [
       "[<matplotlib.lines.Line2D at 0x7f486316e390>]"
      ]
     },
     "execution_count": 11,
     "metadata": {},
     "output_type": "execute_result"
    },
    {
     "data": {
      "image/png": "[encoded data removed]",
      "text/plain": [
       "<Figure size 432x288 with 1 Axes>"
      ]
     },
     "metadata": {},
     "output_type": "display_data"
    }
   ],
   "source": [
    "plt.plot(pTest[:,0],'*')\n",
    "plt.plot(pTest[:,2],'*')"
   ]
  },
  {
   "cell_type": "code",
   "execution_count": 23,
   "metadata": {},
   "outputs": [],
   "source": [
    "unnormalize(pTest)\n",
    "impact.writeParticleData(pTest, ke, mass, freq)"
   ]
  },
  {
   "cell_type": "code",
   "execution_count": 13,
   "metadata": {},
   "outputs": [
    {
     "data": {
      "text/plain": [
       "0"
      ]
     },
     "execution_count": 13,
     "metadata": {},
     "output_type": "execute_result"
    }
   ],
   "source": [
    "impact.writeInputFile(beam,lattice) \n",
    "impact.run(beam)"
   ]
  },
  {
   "cell_type": "code",
   "execution_count": 14,
   "metadata": {},
   "outputs": [
    {
     "name": "stdout",
     "output_type": "stream",
     "text": [
      "10\n",
      "(1024, 6, 10)\n"
     ]
    }
   ],
   "source": [
    "iTBT,TBT = impact.readTBT(11111,ke,mass,freq)\n",
    "print(len(iTBT))\n",
    "print(TBT.shape)"
   ]
  },
  {
   "cell_type": "code",
   "execution_count": 15,
   "metadata": {},
   "outputs": [],
   "source": [
    "X = np.zeros([nTurn,npt],dtype=np.complex64)\n",
    "Y = np.zeros([nTurn,npt],dtype=np.complex64)\n",
    "for i in range(nTurn):\n",
    "    X[i,:] = (TBT[i,0,:] - 1j*(betx*TBT[i,1,:]+alfx*TBT[i,0,:]))/(NL_c*np.sqrt(betx))\n",
    "    Y[i,:] = (TBT[i,2,:] - 1j*(betx*TBT[i,3,:]+alfx*TBT[i,2,:]))/(NL_c*np.sqrt(betx))"
   ]
  },
  {
   "cell_type": "code",
   "execution_count": 16,
   "metadata": {},
   "outputs": [],
   "source": [
    "tuneX = np.zeros(npt)\n",
    "tuneY = np.zeros(npt)\n",
    "for i in range(npt):\n",
    "    signal = X[:,i] - X[:,i].mean()\n",
    "    tuneX[i], amp, dummy = impact.util.naff(1,signal)\n",
    "    signal = Y[:,i] - Y[:,i].mean()\n",
    "    tuneY[i], amp, dummy = impact.util.naff(1,signal)"
   ]
  },
  {
   "cell_type": "code",
   "execution_count": 17,
   "metadata": {},
   "outputs": [
    {
     "data": {
      "text/plain": [
       "array([0.40225006, 0.40121142, 0.39933433, 0.39659422, 0.39357283,\n",
       "       0.38974435, 0.38568922, 0.38087753, 0.37591125, 0.37027348])"
      ]
     },
     "execution_count": 17,
     "metadata": {},
     "output_type": "execute_result"
    }
   ],
   "source": [
    "tuneX"
   ]
  },
  {
   "cell_type": "code",
   "execution_count": 18,
   "metadata": {},
   "outputs": [
    {
     "data": {
      "text/plain": [
       "array([0.13456293, 0.13483907, 0.13584263, 0.13762593, 0.13966602,\n",
       "       0.14255981, 0.14630208, 0.1504051 , 0.15535343, 0.16113584])"
      ]
     },
     "execution_count": 18,
     "metadata": {},
     "output_type": "execute_result"
    }
   ],
   "source": [
    "tuneY"
   ]
  },
  {
   "cell_type": "code",
   "execution_count": 19,
   "metadata": {},
   "outputs": [
    {
     "data": {
      "text/plain": [
       "(0.001, 1000.0)"
      ]
     },
     "execution_count": 19,
     "metadata": {},
     "output_type": "execute_result"
    },
    {
     "data": {
      "image/png": "[encoded data removed]",
      "text/plain": [
       "<Figure size 432x288 with 1 Axes>"
      ]
     },
     "metadata": {},
     "output_type": "display_data"
    }
   ],
   "source": [
    "fftx=np.fft.fft(X[:,0] - X[:,0].mean())\n",
    "ffty=np.fft.fft(Y[:,0] - Y[:,0].mean())\n",
    "plt.semilogy(np.arange(0,1,1.0/1024),np.abs(fftx))\n",
    "plt.semilogy(np.arange(0,1,1.0/1024),np.abs(ffty))\n",
    "plt.legend(('x','y'))\n",
    "plt.xlim((0,1.0))\n",
    "plt.ylim((1.0e-3,1.0e3))"
   ]
  },
  {
   "cell_type": "code",
   "execution_count": 24,
   "metadata": {},
   "outputs": [],
   "source": [
    "normalize(pTest)"
   ]
  },
  {
   "cell_type": "code",
   "execution_count": 33,
   "metadata": {},
   "outputs": [],
   "source": [
    "import pandas as pd\n",
    "data = pd.DataFrame(np.array([pTest[:,0],pTest[:,2],tuneX[:],tuneY[:]]).T,\n",
    "                    columns=['x','y','nux','nuy'],index=range(1,11))\n",
    "data.to_html('tune.10regular.html')"
   ]
  },
  {
   "cell_type": "markdown",
   "metadata": {},
   "source": [
    "# Plot"
   ]
  },
  {
   "cell_type": "markdown",
   "metadata": {},
   "source": [
    "plt.figure(figsize=(12,3))\n",
    "plt.subplot(1,3,1)\n",
    "plt.plot(np.real(X[0,:]),tuneX/0.3,'*-')\n",
    "plt.xlabel('$x_n$');\n",
    "plt.ylabel(r'$\\omega_x$');\n",
    "plt.subplot(1,3,2)\n",
    "plt.plot(np.real(X[0,:]),tuneY/0.3,'*-')\n",
    "plt.xlabel('$x_n$');\n",
    "plt.ylabel(r'$\\omega_y$');\n",
    "plt.subplot(1,3,3)\n",
    "plt.plot(np.real(X[0,:]),tuneY/tuneX,'*-')\n",
    "plt.xlabel('$x_n$');\n",
    "plt.ylabel(r'$\\omega_y/\\omega_x$');\n",
    "plt.tight_layout()\n",
    "plt.savefig('tune.onArc.png',dpi=180)"
   ]
  },
  {
   "cell_type": "code",
   "execution_count": null,
   "metadata": {},
   "outputs": [],
   "source": []
  }
 ],
 "metadata": {
  "kernelspec": {
   "display_name": "Python 3",
   "language": "python",
   "name": "python3"
  },
  "language_info": {
   "codemirror_mode": {
    "name": "ipython",
    "version": 3
   },
   "file_extension": ".py",
   "mimetype": "text/x-python",
   "name": "python",
   "nbconvert_exporter": "python",
   "pygments_lexer": "ipython3",
   "version": "3.6.5"
  }
 },
 "nbformat": 4,
 "nbformat_minor": 2
}
