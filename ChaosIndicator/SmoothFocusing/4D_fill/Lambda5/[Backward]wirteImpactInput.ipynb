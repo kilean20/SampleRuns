{
 "cells": [
  {
   "cell_type": "code",
   "execution_count": 1,
   "metadata": {},
   "outputs": [],
   "source": [
    "import numpy as np\n",
    "import pImpactR as impact\n",
    "from copy import deepcopy as copy\n",
    "import matplotlib.pyplot as plt\n",
    "from math import ceil\n",
    "import os"
   ]
  },
  {
   "cell_type": "code",
   "execution_count": 2,
   "metadata": {},
   "outputs": [],
   "source": [
    "nTurn = 1024\n",
    "nx = 100\n",
    "pipe_radius = 0.02*2.0**0.5"
   ]
  },
  {
   "cell_type": "code",
   "execution_count": 3,
   "metadata": {},
   "outputs": [
    {
     "name": "stdout",
     "output_type": "stream",
     "text": [
      "reading ImpactZ input file (\u001b[92mtest.SF.in\u001b[0m)\n",
      "  : mpi task info .............................done\n",
      "  : simulation control parameters .............done\n",
      "  : space charge field solver, mesh info ......done\n",
      "  : dist-type,restart,subcycle,#of state ......done\n",
      "  : Multiple Charge State info ................done\n",
      "  : particle distribution info ................done\n",
      "  : beam reference orbit info .................done\n",
      "  : converting impact dist to twiss param......done\n",
      "  : lattice info ..............................done\n"
     ]
    }
   ],
   "source": [
    "beam,lattice = impact.readInputFile('test.SF.in')\n",
    "ke   = beam.kinetic_energy\n",
    "mass = beam.mass\n",
    "freq = beam.frequency\n",
    "\n",
    "lattice=[lattice[0],lattice[2]]\n",
    "\n",
    "betx = lattice[1].betx\n",
    "NL_t = lattice[1].strength_t\n",
    "NL_c = lattice[1].transverse_scale_c\n",
    "lattice[1].length = -lattice[1].length\n",
    "lattice[1].n_sckick = 50\n",
    "lattice[1].n_map = 5"
   ]
  },
  {
   "cell_type": "code",
   "execution_count": 4,
   "metadata": {},
   "outputs": [],
   "source": [
    "testP = 0.0\n",
    "sig = 0.01\n",
    "k=0\n",
    "q_m = beam.multi_charge.q_m[0]\n",
    "for x in np.linspace(-0.01,0.01,nx):\n",
    "    for y in np.linspace(-0.01,0.01,nx):\n",
    "        if x**2+y**2<=sig**2 :\n",
    "            k+=1         \n",
    "            \n",
    "npt = k"
   ]
  },
  {
   "cell_type": "code",
   "execution_count": 5,
   "metadata": {},
   "outputs": [],
   "source": [
    "TBT = impact.getElem('TBT')\n",
    "TBT.file_id = nTurn+100000\n",
    "lattice.append(TBT)\n",
    "\n",
    "TBT_integral = impact.getElem('TBT_integral')\n",
    "TBT_integral.file_id = nTurn+100000\n",
    "TBT_integral.betx = betx\n",
    "TBT_integral.alfx = 0.0\n",
    "TBT_integral.strength_t = NL_t\n",
    "TBT_integral.transverse_scale_c = NL_c\n",
    "lattice.append(TBT_integral)\n",
    "\n",
    "lattice[0].turns = nTurn\n",
    "\n",
    "for i in range(len(lattice)):\n",
    "    if 'pipe_radius' in lattice[i].keys() and lattice[i].type!='dipole':\n",
    "        lattice[i].pipe_radius = pipe_radius\n",
    "        \n",
    "lattice.append(impact.getElem('write_raw_ptcl'))\n",
    "lattice[-1].turn = nTurn\n",
    "lattice[-1].file_id = -nTurn - 100000"
   ]
  },
  {
   "cell_type": "code",
   "execution_count": 6,
   "metadata": {},
   "outputs": [],
   "source": [
    "beam.distribution.distribution_type = 'ReadFile_binary'\n",
    "beam.distribution.file_id = nTurn\n",
    "beam.n_particles = npt\n",
    "beam.nCore_y = 6\n",
    "beam.nCore_z = 4\n",
    "impact.writeInputFile(beam,lattice,'test.in.'+str(nTurn)+'.backward') \n",
    "#impact.run(beam)"
   ]
  },
  {
   "cell_type": "code",
   "execution_count": 7,
   "metadata": {},
   "outputs": [
    {
     "name": "stdout",
     "output_type": "stream",
     "text": [
      "!================= Beam & Control Parameters ================= \n",
      "6 4 \n",
      "6 7668 1 0 1 \n",
      "64 64 1025 9 0.0338514 0.0338514 0.1 \n",
      "-23 0 0 1 \n",
      "7668 \n",
      "0.0 \n",
      "1.0657889726792521e-09 \n",
      "1024 0.0 0.0 0.0 0.0 0.0 0.0 \n",
      "0.0 0.0 0.0 0.0 0.0 0.0 0.0 \n",
      "2.2092772151898723 1.065789e-10 0.0 1.0 1.0 0.0 0.0 \n",
      "0.0 2500000.0 938272045.0 1.0 30000000.0 0.0 \n",
      "!========================== Lattice ========================== \n",
      "0.0 0 0 -16 0.0 1024 / \n",
      "-1.8 50 5 9 0.4 0.01 1.2732395447351628 0.028284271247461905 / \n",
      "0.0 0 101024 -89 / \n",
      "0.0 0 101024 -88 1.2732395447351628 0.0 0.4 0.01 / \n",
      "0.0 0 -101024 -2 1024 1 / \n",
      "\n"
     ]
    }
   ],
   "source": [
    "with open('test.in.'+str(nTurn)+'.backward') as f:\n",
    "    testIn=f.read()\n",
    "print(testIn)"
   ]
  }
 ],
 "metadata": {
  "kernelspec": {
   "display_name": "Python 3",
   "language": "python",
   "name": "python3"
  },
  "language_info": {
   "codemirror_mode": {
    "name": "ipython",
    "version": 3
   },
   "file_extension": ".py",
   "mimetype": "text/x-python",
   "name": "python",
   "nbconvert_exporter": "python",
   "pygments_lexer": "ipython3",
   "version": "3.6.5"
  }
 },
 "nbformat": 4,
 "nbformat_minor": 2
}
