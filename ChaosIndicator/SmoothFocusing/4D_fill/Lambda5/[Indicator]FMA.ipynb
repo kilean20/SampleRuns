{
 "cells": [
  {
   "cell_type": "code",
   "execution_count": 1,
   "metadata": {
    "scrolled": false
   },
   "outputs": [],
   "source": [
    "import numpy as np\n",
    "import pImpactR as impact\n",
    "import matplotlib.pyplot as plt\n",
    "int = np.vectorize(int)"
   ]
  },
  {
   "cell_type": "code",
   "execution_count": null,
   "metadata": {},
   "outputs": [],
   "source": [
    "nTurn = 1024"
   ]
  },
  {
   "cell_type": "code",
   "execution_count": null,
   "metadata": {},
   "outputs": [],
   "source": [
    "def resonnace(ix,iy,N):\n",
    "    if ix==0 and iy==0:\n",
    "        nux=0\n",
    "        nuy=0\n",
    "    else:\n",
    "        if ix==0:\n",
    "            nux = np.linspace(-1,1,2)\n",
    "            nuy = np.linspace(float( N )/iy, float( N )/iy, 2)\n",
    "        elif iy==0:\n",
    "            nuy = np.linspace(-1,1,2)\n",
    "            nux = np.linspace(float( N )/ix, float( N )/ix, 2)\n",
    "        else:        \n",
    "            nux = np.linspace(-1,1,2)\n",
    "            nuy = ix/float(iy)*nux +  N/float(iy)\n",
    "    return nux,nuy\n",
    "\n",
    "\n",
    "plt.figure(figsize=(4,4))\n",
    "for i in range(-4,4):\n",
    "    for j in range(-4,4):\n",
    "        for k in range(-4,4):\n",
    "            nux,nuy = resonnace(i,j,k)\n",
    "            plt.plot(nux,nuy,c='k',lw=0.4,ls='--')\n",
    "\n",
    "plt.xlim((0,1))\n",
    "plt.ylim((0,1))"
   ]
  },
  {
   "cell_type": "code",
   "execution_count": null,
   "metadata": {
    "scrolled": false
   },
   "outputs": [],
   "source": [
    "beam, lattice = impact.readInputFile('test.SF.in')\n",
    "ke   = beam.kinetic_energy\n",
    "mass = beam.mass\n",
    "freq = beam.frequency\n",
    "\n",
    "betx = lattice[2].betx\n",
    "alfx = 0.0\n",
    "NL_c = lattice[2].transverse_scale_c\n",
    "x0 = betx**0.5*NL_c\n",
    "x0 = [-x0,x0]\n",
    "y0 = [0,0]"
   ]
  },
  {
   "cell_type": "code",
   "execution_count": null,
   "metadata": {},
   "outputs": [],
   "source": [
    "iTBT,TBT = impact.readTBT(2048,ke,mass,freq)\n",
    "TBT=TBT[:,:4,:]\n",
    "Y=TBT[:,2,:] - 1j*TBT[:,3,:]\n",
    "TBT=TBT[:,:2,:]\n",
    "X=TBT[:,0,:] - 1j*TBT[:,1,:]\n",
    "TBT=None\n",
    "npt = len(iTBT)"
   ]
  },
  {
   "cell_type": "code",
   "execution_count": null,
   "metadata": {
    "scrolled": false
   },
   "outputs": [],
   "source": [
    "tuneXbefore= np.zeros([1,npt])\n",
    "tuneXafter = np.zeros([3,npt])\n",
    "tuneYbefore= np.zeros([1,npt])\n",
    "tuneYafter = np.zeros([3,npt])\n",
    "for i in range(nptLive):\n",
    "    tuneXbefore[:,i],amp,dummy = impact.util.naff(1,X[:nTurn,i],window_id=1)\n",
    "    tuneXafter [:,i],amp,dummy = impact.util.naff(3,X[nTurn:,i],window_id=1)\n",
    "    tuneYbefore[:,i],amp,dummy = impact.util.naff(1,Y[:nTurn,i],window_id=1)\n",
    "    tuneYafter [:,i],amp,dummy = impact.util.naff(3,Y[nTurn:,i],window_id=1)"
   ]
  },
  {
   "cell_type": "code",
   "execution_count": null,
   "metadata": {
    "scrolled": false
   },
   "outputs": [],
   "source": [
    "def getClosestDiff(ref,arr):\n",
    "    # ref.shape = nSample\n",
    "    nMode = len(arr)\n",
    "    if ref>1.0:\n",
    "        ref = ref - 1.0\n",
    "    for i in range(nMode):\n",
    "        if arr[i]>1.0:\n",
    "            arr[i]=arr[i]-1.0\n",
    "        if arr[i]<=0.0:\n",
    "            arr[i]=arr[i]+1.0\n",
    "    diff = np.abs(ref - arr)\n",
    "    for i in range(nMode):\n",
    "        if (diff[i]>0.5):\n",
    "            diff[i] = 1.0 - diff[i]\n",
    "    return np.min(diff)"
   ]
  },
  {
   "cell_type": "code",
   "execution_count": null,
   "metadata": {},
   "outputs": [],
   "source": [
    "Xdiff = getClosestDiff(tuneXbefore,tuneXafter)\n",
    "Ydiff = getClosestDiff(tuneYbefore,tuneYafter)\n",
    "Adiff = np.sqrt(Xdiff**2 +Ydiff**2)\n",
    "\n",
    "AdiffLog = np.log10(Adiff+1.0e-6)\n",
    "XdiffLog = np.log10(Xdiff+1.0e-6)\n",
    "YdiffLog = np.log10(Ydiff+1.0e-6)\n",
    "\n",
    "iMaxX = np.argmax(Xdiff)\n",
    "iMaxY = np.argmax(Ydiff)\n",
    "iMaxA = np.argmax(Adiff)\n",
    "iMinX = np.argmin(Xdiff)\n",
    "iMinY = np.argmin(Ydiff)\n",
    "iMinA = np.argmin(Adiff)"
   ]
  },
  {
   "cell_type": "markdown",
   "metadata": {},
   "source": [
    "# plot"
   ]
  },
  {
   "cell_type": "code",
   "execution_count": null,
   "metadata": {},
   "outputs": [],
   "source": [
    "xmax = np.max(np.real(X[0,:]))\n",
    "ymax = np.max(np.real(Y[0,:]))\n",
    "nx = 50\n",
    "ny = int(nx*ymax/xmax)\n",
    "dx = xmax/nx\n",
    "dy = ymax/ny\n",
    "Grid = impact.data.dictClass\n",
    "Grid.x = np.arange(nx)*dx + 0.5*dx\n",
    "Grid.y = np.arange(ny)*dy + 0.5*dy\n",
    "Grid.c = np.zeros([nx,ny])"
   ]
  },
  {
   "cell_type": "code",
   "execution_count": 5,
   "metadata": {},
   "outputs": [],
   "source": [
    "nSum = np.zeros([nx,ny],dtype=np.int)\n",
    "for ipt in range(npt)\n",
    "    for ix in range(nx):\n",
    "        if ix*dx < np.real(X[0,ipt]) <= (ix+1)*dx:\n",
    "            for iy in range(ny):\n",
    "                if iy*dy < np.real(Y[0,ipt]) <= (iy+1)*dy:\n",
    "                    nSum[ix,iy]   = nSum[ix,iy]+1\n",
    "                    Grid.c[ix,iy] = Grid.c[ix,iy] + AdiffLog[ipt]\n",
    "\n",
    "for ix in range(nx):\n",
    "    for iy in range(ny):\n",
    "        if nSum[ix,iy]>0:\n",
    "            Grid.c[ix,iy] = Grid.c[ix,iy]/nSum[ix,iy]"
   ]
  },
  {
   "cell_type": "markdown",
   "metadata": {},
   "source": [
    "### FFT"
   ]
  },
  {
   "cell_type": "code",
   "execution_count": null,
   "metadata": {
    "scrolled": false
   },
   "outputs": [],
   "source": [
    "n=2048\n",
    "plt.figure(figsize=[8,6])\n",
    "plt.subplot(3,2,1)\n",
    "plt.semilogy(np.abs(np.fft.fft(X[n][:,iMax[n][1]])),'r:')\n",
    "plt.semilogy(np.abs(np.fft.fft(X[n][:,iMin[n][1]])),'k')\n",
    "plt.xlabel('fft$_x$')\n",
    "plt.subplot(3,2,2)\n",
    "plt.semilogy(np.abs(np.fft.fft(Y[n][:,iMax[n][2]])),'r:')\n",
    "plt.semilogy(np.abs(np.fft.fft(Y[n][:,iMin[n][2]])),'k')\n",
    "plt.legend(['most chaotic','most regular'],loc=1)\n",
    "plt.xlabel('fft$_y$')\n",
    "plt.subplot(3,2,3)\n",
    "plt.semilogy(np.abs(np.fft.fft(X[n][:1024,iMin[n][1]])),'r:')\n",
    "plt.semilogy(np.abs(np.fft.fft(X[n][1024:,iMin[n][1]])),'k')\n",
    "plt.xlabel('fft_regular_comparison$_x$')\n",
    "plt.subplot(3,2,4)\n",
    "plt.semilogy(np.abs(np.fft.fft(Y[n][:1024,iMin[n][2]])),'r:')\n",
    "plt.semilogy(np.abs(np.fft.fft(Y[n][1024:,iMin[n][2]])),'k')\n",
    "plt.xlabel('fft_regular_comparison$_y$')\n",
    "plt.legend(['1st half','2nd half'],loc=1)\n",
    "plt.subplot(3,2,5)\n",
    "plt.semilogy(np.abs(np.fft.fft(X[n][:1024,iMax[n][1]])),'r:')\n",
    "plt.semilogy(np.abs(np.fft.fft(X[n][1024:,iMax[n][1]])),'k')\n",
    "plt.xlabel('fft_chotic_comparison$_x$')\n",
    "plt.subplot(3,2,6)\n",
    "plt.semilogy(np.abs(np.fft.fft(Y[n][:1024,iMax[n][2]])),'r:')\n",
    "plt.semilogy(np.abs(np.fft.fft(Y[n][1024:,iMax[n][2]])),'k')\n",
    "plt.xlabel('fft_chotic_comparison$_y$')\n",
    "plt.legend(['1st half','2nd half'],loc=1)\n",
    "plt.tight_layout()\n",
    "plt.savefig('FMA.FFT.png',dpi=180)\n",
    "# plt.close()"
   ]
  },
  {
   "cell_type": "markdown",
   "metadata": {},
   "source": [
    "##### fft of p at center"
   ]
  },
  {
   "cell_type": "code",
   "execution_count": null,
   "metadata": {
    "scrolled": true
   },
   "outputs": [],
   "source": [
    "iptCore=np.argmin(np.abs(X[0,:])*np.abs(X[0,:])+np.abs(Y[0,:])*np.abs(Y[0,:]))\n",
    "\n",
    "plt.figure(figsize=[4,6])\n",
    "plt.subplot(3,1,1)\n",
    "plt.semilogy(np.abs(np.fft.fft(X[:,iptCore])),'r:')\n",
    "plt.semilogy(np.abs(np.fft.fft(Y[:,iptCore])),'k')\n",
    "plt.xlabel('fft_core')\n",
    "plt.subplot(3,1,2)\n",
    "plt.semilogy(np.abs(np.fft.fft(X[:1024,iptCore])),'r:')\n",
    "plt.semilogy(np.abs(np.fft.fft(X[1024:,iptCore])),'k')\n",
    "plt.xlabel('fft_core_comparison$_x$')\n",
    "plt.legend(['1st half','2nd half'],loc=1)\n",
    "plt.subplot(3,1,3)\n",
    "plt.semilogy(np.abs(np.fft.fft(Y[:1024,iptCore])),'r:')\n",
    "plt.semilogy(np.abs(np.fft.fft(Y[1024:,iptCore])),'k')\n",
    "plt.xlabel('fft_core_comparison$_y$')\n",
    "plt.legend(['1st half','2nd half'],loc=1)\n",
    "plt.tight_layout()\n",
    "# plt.close()\n",
    "\n",
    "print(Adiff[iMin[0]],Adiff[iptCore],Adiff[iMax[0]])"
   ]
  },
  {
   "cell_type": "markdown",
   "metadata": {},
   "source": [
    "### tune plot"
   ]
  },
  {
   "cell_type": "code",
   "execution_count": null,
   "metadata": {
    "scrolled": false
   },
   "outputs": [],
   "source": [
    "plt.figure(figsize=[4,3])\n",
    "for i in range(-4,4):\n",
    "    for j in range(-4,4):\n",
    "        for k in range(-4,4):\n",
    "            nux,nuy = resonnace(i,j,k)\n",
    "            plt.plot(nux,nuy,c='k',lw=0.4,ls='--')\n",
    "f1=plt.scatter(tuneXbefore,tuneYbefore,c=AdiffLog,s=1.0,marker='s')\n",
    "   \n",
    "plt.xlabel(r'$\\nu_x$')\n",
    "plt.ylabel(r'$\\nu_y$')\n",
    "plt.colorbar(f1)\n",
    "\n",
    "plt.xlim(0.1,0.26)\n",
    "plt.ylim(0.01,0.2)\n",
    "plt.tight_layout()\n",
    "plt.savefig('FMA.tune.A.png',dpi=180)\n",
    "# plt.close()"
   ]
  },
  {
   "cell_type": "code",
   "execution_count": null,
   "metadata": {
    "scrolled": false
   },
   "outputs": [],
   "source": [
    "plt.figure(figsize=[4,3])\n",
    "for i in range(-4,4):\n",
    "    for j in range(-4,4):\n",
    "        for k in range(-4,4):\n",
    "            nux,nuy = resonnace(i,j,k)\n",
    "            plt.plot(nux,nuy,c='k',lw=0.4,ls='--')\n",
    "f1=plt.scatter(tuneXbefore,tuneYbefore,c=XdiffLog,s=1.0,marker='s')\n",
    "plt.xlabel(r'$\\nu_x$')\n",
    "plt.ylabel(r'$\\nu_y$')\n",
    "plt.colorbar(f1)\n",
    "plt.xlim(0.1,0.26)\n",
    "plt.ylim(0.01,0.2)\n",
    "plt.tight_layout()\n",
    "plt.savefig('FMA.tune.X.png',dpi=180)\n",
    "# plt.close()"
   ]
  },
  {
   "cell_type": "code",
   "execution_count": null,
   "metadata": {
    "scrolled": false
   },
   "outputs": [],
   "source": [
    "plt.figure(figsize=[4,3])\n",
    "for i in range(-4,4):\n",
    "    for j in range(-4,4):\n",
    "        for k in range(-4,4):\n",
    "            nux,nuy = resonnace(i,j,k)\n",
    "            plt.plot(nux,nuy,c='k',lw=0.4,ls='--')\n",
    "f1=plt.scatter(tuneXbefore,tuneYbefore,c=YdiffLog,s=1.0,marker='s')\n",
    "plt.xlabel(r'$\\nu_x$')\n",
    "plt.ylabel(r'$\\nu_y$')\n",
    "plt.colorbar(f1)\n",
    "plt.xlim(0.1,0.26)\n",
    "plt.ylim(0.01,0.2)\n",
    "plt.tight_layout()\n",
    "plt.savefig('FMA.tune.Y.png',dpi=180)\n",
    "# plt.close()"
   ]
  },
  {
   "cell_type": "markdown",
   "metadata": {},
   "source": [
    "### Poincare"
   ]
  },
  {
   "cell_type": "code",
   "execution_count": null,
   "metadata": {
    "scrolled": false
   },
   "outputs": [],
   "source": [
    "plt.figure(figsize=[3.3,3])\n",
    "plt.scatter(np.real(X[:,iMax[0]]),np.imag(X[:,iMax[0]]),c='r',s=0.1)\n",
    "plt.scatter(np.real(X[:,iMin[0]]),np.imag(X[:,iMin[0]]),c='k',s=0.1)\n",
    "plt.xlabel('x')\n",
    "plt.ylabel('px')\n",
    "plt.legend(['most chaotic','most regular'],loc=1)\n",
    "plt.tight_layout()\n",
    "plt.savefig('FMA.Poincare.A.png',dpi=180)"
   ]
  },
  {
   "cell_type": "code",
   "execution_count": null,
   "metadata": {
    "scrolled": false
   },
   "outputs": [],
   "source": [
    "plt.figure(figsize=[3.3,3])\n",
    "plt.scatter(np.real(X[:,iMax[0]]),np.real(Y[:,iMax[0]]),c='r',s=0.1)\n",
    "plt.scatter(np.real(X[:,iMin[0]]),np.real(Y[:,iMin[0]]),c='k',s=0.1)\n",
    "plt.xlabel('x')\n",
    "plt.ylabel('y')\n",
    "plt.legend(['most chaotic','most regular'],loc=1)\n",
    "plt.tight_layout()\n",
    "plt.savefig('FMA.Poincare.X.png',dpi=180)"
   ]
  },
  {
   "cell_type": "code",
   "execution_count": null,
   "metadata": {
    "scrolled": true
   },
   "outputs": [],
   "source": [
    "plt.figure(figsize=[3.3,3])\n",
    "plt.scatter(np.real(Y[:,iMax[0]]),np.imag(Y[:,iMax[0]]),c='r',s=0.1)\n",
    "plt.scatter(np.real(Y[:,iMin[0]]),np.imag(Y[:,iMin[0]]),c='k',s=0.1)\n",
    "plt.xlabel('y')\n",
    "plt.ylabel('py')\n",
    "plt.legend(['most chaotic','most regular'],loc=1)\n",
    "plt.tight_layout()\n",
    "plt.savefig('FMA.Poincare.Y.png',dpi=180)"
   ]
  }
 ],
 "metadata": {
  "kernelspec": {
   "display_name": "Python 3",
   "language": "python",
   "name": "python3"
  },
  "language_info": {
   "codemirror_mode": {
    "name": "ipython",
    "version": 3
   },
   "file_extension": ".py",
   "mimetype": "text/x-python",
   "name": "python",
   "nbconvert_exporter": "python",
   "pygments_lexer": "ipython3",
   "version": "3.6.5"
  }
 },
 "nbformat": 4,
 "nbformat_minor": 2
}
