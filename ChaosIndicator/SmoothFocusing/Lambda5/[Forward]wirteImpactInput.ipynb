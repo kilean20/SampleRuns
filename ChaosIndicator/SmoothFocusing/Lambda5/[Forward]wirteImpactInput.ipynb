{
 "cells": [
  {
   "cell_type": "code",
   "execution_count": 1,
   "metadata": {},
   "outputs": [],
   "source": [
    "import numpy as np\n",
    "import pImpactR as impact\n",
    "from copy import deepcopy as copy\n",
    "import matplotlib.pyplot as plt\n",
    "from math import ceil\n",
    "import os"
   ]
  },
  {
   "cell_type": "code",
   "execution_count": 2,
   "metadata": {},
   "outputs": [],
   "source": [
    "nTurn = 2048\n",
    "nx = 100\n",
    "pipe_radius = 0.02*2.0**0.5"
   ]
  },
  {
   "cell_type": "code",
   "execution_count": 3,
   "metadata": {},
   "outputs": [
    {
     "name": "stdout",
     "output_type": "stream",
     "text": [
      "reading ImpactZ input file (\u001b[92mtest.SF.in\u001b[0m)\n",
      "  : mpi task info .............................done\n",
      "  : simulation control parameters .............done\n",
      "  : space charge field solver, mesh info ......done\n",
      "  : dist-type,restart,subcycle,#of state ......done\n",
      "  : Multiple Charge State info ................done\n",
      "  : particle distribution info ................done\n",
      "  : beam reference orbit info .................done\n",
      "  : converting impact dist to twiss param......done\n",
      "  : lattice info ..............................done\n"
     ]
    }
   ],
   "source": [
    "beam,lattice = impact.readInputFile('test.SF.in')\n",
    "ke   = beam.kinetic_energy\n",
    "mass = beam.mass\n",
    "freq = beam.frequency\n",
    "\n",
    "lattice=[lattice[0],lattice[2]]\n",
    "\n",
    "betx = lattice[1].betx\n",
    "NL_t = lattice[1].strength_t\n",
    "NL_c = lattice[1].transverse_scale_c\n",
    "lattice[1].n_sckick = 50\n",
    "lattice[1].n_map = 5"
   ]
  },
  {
   "cell_type": "code",
   "execution_count": 4,
   "metadata": {},
   "outputs": [],
   "source": [
    "testP = 0.0\n",
    "sig = 0.01\n",
    "k=0\n",
    "q_m = beam.multi_charge.q_m[0]\n",
    "pTest = []\n",
    "for x in np.linspace(-0.01,0.01,nx):\n",
    "    for y in np.linspace(-0.01,0.01,nx):\n",
    "        if x**2+y**2<=sig**2 :\n",
    "            k+=1\n",
    "            pTest.append([x,0.0,y,0.0,0.0,0.0,q_m,0.0,k])            \n",
    "            \n",
    "pTest = np.array(pTest)\n",
    "nptTest = len(pTest)"
   ]
  },
  {
   "cell_type": "code",
   "execution_count": null,
   "metadata": {},
   "outputs": [],
   "source": [
    "latticeTmp = [impact.getElem('loop'),impact.getElem('write_raw_ptcl')]\n",
    "latticeTmp[0].turns=1\n",
    "latticeTmp[-1].file_id = -111110\n",
    "latticeTmp[-1].turn = 1\n",
    "beam.n_particles = nptTest\n",
    "impact.writeParticleData(pTest, ke, mass, freq)\n",
    "beam.nCore_y = 1\n",
    "beam.nCore_z = 1\n",
    "impact.writeInputFile(beam,latticeTmp)\n",
    "impact.run(beam)"
   ]
  },
  {
   "cell_type": "code",
   "execution_count": null,
   "metadata": {},
   "outputs": [],
   "source": [
    "pData = impact.readParticleData(-111110,ke,mass,freq)\n",
    "plt.figure(figsize=(3,3))\n",
    "plt.scatter(pData[:,0],pData[:,2],s=0.01)"
   ]
  },
  {
   "cell_type": "code",
   "execution_count": null,
   "metadata": {},
   "outputs": [],
   "source": [
    "TBT = impact.getElem('TBT')\n",
    "TBT.file_id = nTurn\n",
    "lattice.insert(1,TBT)\n",
    "\n",
    "TBT_integral = impact.getElem('TBT_integral')\n",
    "TBT_integral.file_id = nTurn\n",
    "TBT_integral.betx = betx\n",
    "TBT_integral.alfx = 0.0\n",
    "TBT_integral.strength_t = NL_t\n",
    "TBT_integral.transverse_scale_c = NL_c\n",
    "lattice.insert(2,TBT_integral)\n",
    "\n",
    "if nTurn == 128:\n",
    "    lattice[0].turns = nTurn\n",
    "else:\n",
    "    lattice[0].turns = int(nTurn/2)\n",
    "\n",
    "for i in range(len(lattice)):\n",
    "    if 'pipe_radius' in lattice[i].keys() and lattice[i].type!='dipole':\n",
    "        lattice[i].pipe_radius = pipe_radius\n",
    "        \n",
    "lattice.append(impact.getElem('write_raw_ptcl'))\n",
    "if nTurn == 128:\n",
    "    lattice[-1].turn = nTurn\n",
    "else:\n",
    "    lattice[-1].turn = int(nTurn/2)\n",
    "\n",
    "lattice[-1].file_id = -nTurn"
   ]
  },
  {
   "cell_type": "code",
   "execution_count": null,
   "metadata": {},
   "outputs": [],
   "source": [
    "beam.distribution.distribution_type = 'ReadFile_binary'\n",
    "if nTurn == 128:\n",
    "    beam.distribution.file_id = 111110\n",
    "else:\n",
    "    beam.distribution.file_id = int(nTurn/2)\n",
    "beam.nCore_y = 6\n",
    "beam.nCore_z = 4\n",
    "impact.writeInputFile(beam,lattice,'test.in.'+str(nTurn)+'.forward') \n",
    "#impact.run(beam)"
   ]
  },
  {
   "cell_type": "code",
   "execution_count": null,
   "metadata": {},
   "outputs": [],
   "source": [
    "with open('test.in.'+str(nTurn)+'.forward') as f:\n",
    "    testIn=f.read()\n",
    "print(testIn)"
   ]
  }
 ],
 "metadata": {
  "kernelspec": {
   "display_name": "Python 3",
   "language": "python",
   "name": "python3"
  },
  "language_info": {
   "codemirror_mode": {
    "name": "ipython",
    "version": 3
   },
   "file_extension": ".py",
   "mimetype": "text/x-python",
   "name": "python",
   "nbconvert_exporter": "python",
   "pygments_lexer": "ipython3",
   "version": "3.6.5"
  }
 },
 "nbformat": 4,
 "nbformat_minor": 2
}
