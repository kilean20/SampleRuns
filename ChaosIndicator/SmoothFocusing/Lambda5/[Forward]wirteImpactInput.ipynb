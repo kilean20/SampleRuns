{
 "cells": [
  {
   "cell_type": "code",
   "execution_count": null,
   "metadata": {},
   "outputs": [],
   "source": [
    "import numpy as np\n",
    "import scipy\n",
    "import pImpactR as impact\n",
    "from copy import deepcopy as copy\n",
    "import matplotlib.pyplot as plt\n",
    "from math import ceil\n",
    "import os"
   ]
  },
  {
   "cell_type": "code",
   "execution_count": null,
   "metadata": {},
   "outputs": [],
   "source": [
    "nTurn = 128\n",
    "pipe_radius = 0.02*2.0**0.5"
   ]
  },
  {
   "cell_type": "code",
   "execution_count": null,
   "metadata": {},
   "outputs": [],
   "source": [
    "beam,lattice = impact.readInputFile('test.SF.in')\n",
    "ke   = beam.kinetic_energy\n",
    "mass = beam.mass\n",
    "freq = beam.frequency\n",
    "\n",
    "lattice=[lattice[0],lattice[2]]\n",
    "\n",
    "betx = lattice[1].betx\n",
    "NL_t = lattice[1].strength_t\n",
    "NL_c = lattice[1].transverse_scale_c\n",
    "lattice[1].n_sckick = 50\n",
    "lattice[1].n_map = 5"
   ]
  },
  {
   "cell_type": "markdown",
   "metadata": {},
   "source": [
    "### Check pData"
   ]
  },
  {
   "cell_type": "code",
   "execution_count": null,
   "metadata": {},
   "outputs": [],
   "source": [
    "pData = impact.readParticleData('partcl.data.chad',ke,mass,freq)\n",
    "plt.figure(figsize=(8,8))\n",
    "plt.subplot(2,2,1)\n",
    "plt.scatter(pData[:,0],pData[:,2],s=0.1)\n",
    "plt.subplot(2,2,2)\n",
    "plt.scatter(pData[:,1],pData[:,3],s=0.1)\n",
    "plt.subplot(2,2,3)\n",
    "plt.scatter(pData[:,0],pData[:,1],s=0.1)\n",
    "plt.subplot(2,2,4)\n",
    "plt.scatter(pData[:,2],pData[:,3],s=0.1)\n",
    "plt.tight_layout()"
   ]
  },
  {
   "cell_type": "markdown",
   "metadata": {},
   "source": [
    "### gen Test pData"
   ]
  },
  {
   "cell_type": "code",
   "execution_count": null,
   "metadata": {},
   "outputs": [],
   "source": [
    "xmax  = np.max(pData[:,0])\n",
    "pxmax = np.max(pData[:,1])\n",
    "ymax  = np.max(pData[:,2])\n",
    "pymax = np.max(pData[:,3])\n",
    "\n",
    "ny = 100\n",
    "nx = int(xmax/ymax*ny)\n",
    "npx = 100\n",
    "npy = int(pymax/pxmax*npx)\n",
    "\n",
    "q_m = beam.multi_charge.q_m[0]\n",
    "k=0\n",
    "pTest = []\n",
    "for x in np.linspace(-xmax,xmax,nx):\n",
    "    for y in np.linspace(-ymax,ymax,ny):\n",
    "        for px in np.linspace(-pxmax,pxmax,npx):\n",
    "            for py in np.linspace(-pymax,pymax,npy):\n",
    "                k+=1\n",
    "                pTest.append([x,px,y,py,0.0,0.0,q_m,0.0,k])\n",
    "pTest = np.array(pTest)"
   ]
  },
  {
   "cell_type": "code",
   "execution_count": null,
   "metadata": {},
   "outputs": [],
   "source": [
    "plt.figure(figsize=(8,8))\n",
    "plt.subplot(2,2,1)\n",
    "plt.scatter(pTest[:,0],pTest[:,2],s=0.1)\n",
    "plt.subplot(2,2,2)\n",
    "plt.scatter(pTest[:,1],pTest[:,3],s=0.1)\n",
    "plt.subplot(2,2,3)\n",
    "plt.scatter(pTest[:,0],pTest[:,1],s=0.1)\n",
    "plt.subplot(2,2,4)\n",
    "plt.scatter(pTest[:,2],pTest[:,3],s=0.1)\n",
    "plt.tight_layout()"
   ]
  },
  {
   "cell_type": "code",
   "execution_count": null,
   "metadata": {},
   "outputs": [],
   "source": [
    "dist = scipy.stats.gaussian_kde(pData[:,:4].transpose())"
   ]
  },
  {
   "cell_type": "code",
   "execution_count": null,
   "metadata": {},
   "outputs": [],
   "source": [
    "weight = dist(pTest[:,:4].T)\n",
    "plt.hist(weight)"
   ]
  },
  {
   "cell_type": "code",
   "execution_count": null,
   "metadata": {},
   "outputs": [],
   "source": [
    "dist.pdf([0.007,0.0,0.0,0.0])"
   ]
  },
  {
   "cell_type": "code",
   "execution_count": null,
   "metadata": {},
   "outputs": [],
   "source": [
    "dist([0.007,0.0,0.0,0.0])"
   ]
  },
  {
   "cell_type": "code",
   "execution_count": null,
   "metadata": {},
   "outputs": [],
   "source": [
    "dist([0.007,0.0,0.0007,0.0])"
   ]
  },
  {
   "cell_type": "code",
   "execution_count": null,
   "metadata": {},
   "outputs": [],
   "source": [
    "iCore = np.argwhere(weight > 1.0e6) # empirically found ...\n",
    "\n",
    "pTestCore = pTest[iCore,:]\n",
    "\n",
    "plt.figure(figsize=(8,8))\n",
    "plt.subplot(2,2,1)\n",
    "plt.scatter(pData[:,0],pData[:,2],s=0.1)\n",
    "plt.scatter(pTestCore[:,0],pTestCore[:,2],s=0.4)\n",
    "plt.subplot(2,2,2)\n",
    "plt.scatter(pData[:,1],pData[:,3],s=0.1)\n",
    "plt.scatter(pTestCore[:,1],pTestCore[:,3],s=0.4)\n",
    "plt.subplot(2,2,3)\n",
    "plt.scatter(pData[:,0],pData[:,1],s=0.1)\n",
    "plt.scatter(pTestCore[:,0],pTestCore[:,1],s=0.4)\n",
    "plt.subplot(2,2,4)\n",
    "plt.scatter(pData[:,2],pData[:,3],s=0.1)\n",
    "plt.scatter(pTestCore[:,2],pTestCore[:,3],s=0.4)\n",
    "plt.tight_layout()\n",
    "\n",
    "print(len(pTestCore))\n",
    "# pData = None\n",
    "# dist = None\n",
    "# weight = None"
   ]
  },
  {
   "cell_type": "code",
   "execution_count": null,
   "metadata": {},
   "outputs": [],
   "source": [
    "pTestCore = pTest[iCore,:]\n",
    "print(len(pTestCore))\n",
    "print(len(pTest))\n",
    "print(np.sum(iCore))"
   ]
  },
  {
   "cell_type": "code",
   "execution_count": null,
   "metadata": {},
   "outputs": [],
   "source": [
    "weight"
   ]
  },
  {
   "cell_type": "code",
   "execution_count": null,
   "metadata": {},
   "outputs": [],
   "source": [
    "latticeTmp = [impact.getElem('loop'),impact.getElem('write_raw_ptcl')]\n",
    "latticeTmp[0].turns=1\n",
    "latticeTmp[-1].file_id = -111110\n",
    "latticeTmp[-1].turn = 1\n",
    "beam.n_particles = nptTest\n",
    "impact.writeParticleData(pTest, ke, mass, freq)\n",
    "beam.nCore_y = 1\n",
    "beam.nCore_z = 1\n",
    "impact.writeInputFile(beam,latticeTmp)\n",
    "impact.run(beam)"
   ]
  },
  {
   "cell_type": "code",
   "execution_count": null,
   "metadata": {},
   "outputs": [],
   "source": [
    "pData = impact.readParticleData(-111110,ke,mass,freq)\n",
    "plt.figure(figsize=(3,3))\n",
    "plt.scatter(pData[:,0],pData[:,2],s=0.01)"
   ]
  },
  {
   "cell_type": "code",
   "execution_count": null,
   "metadata": {},
   "outputs": [],
   "source": [
    "TBT = impact.getElem('TBT')\n",
    "TBT.file_id = nTurn\n",
    "lattice.insert(1,TBT)\n",
    "\n",
    "TBT_integral = impact.getElem('TBT_integral')\n",
    "TBT_integral.file_id = nTurn\n",
    "TBT_integral.betx = betx\n",
    "TBT_integral.alfx = 0.0\n",
    "TBT_integral.strength_t = NL_t\n",
    "TBT_integral.transverse_scale_c = NL_c\n",
    "lattice.insert(2,TBT_integral)\n",
    "\n",
    "if nTurn == 128:\n",
    "    lattice[0].turns = nTurn\n",
    "else:\n",
    "    lattice[0].turns = int(nTurn/2)\n",
    "\n",
    "for i in range(len(lattice)):\n",
    "    if 'pipe_radius' in lattice[i].keys() and lattice[i].type!='dipole':\n",
    "        lattice[i].pipe_radius = pipe_radius\n",
    "        \n",
    "lattice.append(impact.getElem('write_raw_ptcl'))\n",
    "if nTurn == 128:\n",
    "    lattice[-1].turn = nTurn\n",
    "else:\n",
    "    lattice[-1].turn = int(nTurn/2)\n",
    "\n",
    "lattice[-1].file_id = -nTurn"
   ]
  },
  {
   "cell_type": "code",
   "execution_count": null,
   "metadata": {},
   "outputs": [],
   "source": [
    "beam.distribution.distribution_type = 'ReadFile_binary'\n",
    "if nTurn == 128:\n",
    "    beam.distribution.file_id = 111110\n",
    "else:\n",
    "    beam.distribution.file_id = int(nTurn/2)\n",
    "beam.nCore_y = 6\n",
    "beam.nCore_z = 4\n",
    "impact.writeInputFile(beam,lattice,'test.in.'+str(nTurn)+'.forward') \n",
    "#impact.run(beam)"
   ]
  },
  {
   "cell_type": "code",
   "execution_count": null,
   "metadata": {},
   "outputs": [],
   "source": [
    "with open('test.in.'+str(nTurn)+'.forward') as f:\n",
    "    testIn=f.read()\n",
    "print(testIn)"
   ]
  }
 ],
 "metadata": {
  "kernelspec": {
   "display_name": "Python 3",
   "language": "python",
   "name": "python3"
  },
  "language_info": {
   "codemirror_mode": {
    "name": "ipython",
    "version": 3
   },
   "file_extension": ".py",
   "mimetype": "text/x-python",
   "name": "python",
   "nbconvert_exporter": "python",
   "pygments_lexer": "ipython3",
   "version": "3.6.5"
  }
 },
 "nbformat": 4,
 "nbformat_minor": 2
}
