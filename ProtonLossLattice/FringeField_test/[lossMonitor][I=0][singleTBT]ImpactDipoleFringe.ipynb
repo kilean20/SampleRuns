{
 "cells": [
  {
   "cell_type": "code",
   "execution_count": 1,
   "metadata": {},
   "outputs": [],
   "source": [
    "import pImpactR as impact\n",
    "import numpy as np\n",
    "import matplotlib.pyplot as plt\n",
    "from copy import deepcopy as copy\n",
    "rectangular_ = 1\n",
    "elliptic_ = 2"
   ]
  },
  {
   "cell_type": "code",
   "execution_count": 2,
   "metadata": {},
   "outputs": [],
   "source": [
    "npt = 1\n",
    "nturn = 1024"
   ]
  },
  {
   "cell_type": "markdown",
   "metadata": {},
   "source": [
    "# read Aperture"
   ]
  },
  {
   "cell_type": "code",
   "execution_count": 3,
   "metadata": {},
   "outputs": [],
   "source": [
    "aperture = np.loadtxt('pipeinfo.in')"
   ]
  },
  {
   "cell_type": "code",
   "execution_count": 4,
   "metadata": {},
   "outputs": [
    {
     "data": {
      "image/png": "[encoded data removed]",
      "text/plain": [
       "<Figure size 864x216 with 1 Axes>"
      ]
     },
     "metadata": {},
     "output_type": "display_data"
    }
   ],
   "source": [
    "plt.figure(figsize=(12,3))\n",
    "plt.plot(aperture[:,0],aperture[:,1]*100)\n",
    "plt.plot(aperture[:,0],aperture[:,2]*100)\n",
    "plt.plot(aperture[:,0],(aperture[:,3]-1)*10,alpha=0.4)\n",
    "plt.grid()\n",
    "plt.ylim((0.2,3.5))\n",
    "plt.xlim((0.0, 40))\n",
    "plt.legend(('x','y'))\n",
    "plt.xlabel('s (m)')\n",
    "plt.ylabel('x or y aperture (cm)');"
   ]
  },
  {
   "cell_type": "code",
   "execution_count": 5,
   "metadata": {},
   "outputs": [
    {
     "data": {
      "text/plain": [
       "39.968229720000004"
      ]
     },
     "execution_count": 5,
     "metadata": {},
     "output_type": "execute_result"
    }
   ],
   "source": [
    "aperture[-1,0]"
   ]
  },
  {
   "cell_type": "markdown",
   "metadata": {},
   "source": [
    "# read impact lattice"
   ]
  },
  {
   "cell_type": "code",
   "execution_count": 6,
   "metadata": {
    "scrolled": true
   },
   "outputs": [
    {
     "name": "stdout",
     "output_type": "stream",
     "text": [
      "reading ImpactZ input file (\u001b[92mtest.Chad.in\u001b[0m)\n",
      "  : mpi task info .............................done\n",
      "  : simulation control parameters .............done\n",
      "  : space charge field solver, mesh info ......done\n",
      "  : dist-type,restart,subcycle,#of state ......done\n",
      "  : Multiple Charge State info ................done\n",
      "  : particle distribution info ................done\n",
      "  : beam reference orbit info .................done\n",
      "  : converting impact dist to twiss param......done\n",
      "  : lattice info ..............................done\n"
     ]
    }
   ],
   "source": [
    "beam,lattice = impact.readInputFile('test.Chad.in')\n",
    "\n",
    "ke = beam.kinetic_energy\n",
    "mass = beam.mass\n",
    "freq = beam.frequency\n",
    "\n",
    "g = ke/mass+1.0\n",
    "bg = np.sqrt(g**2-1.0)"
   ]
  },
  {
   "cell_type": "code",
   "execution_count": 7,
   "metadata": {},
   "outputs": [],
   "source": [
    "beam.distribution.distribution_type = 'ReadFile'\n",
    "beam.n_particles = 1\n",
    "beam.nCore_y = 1\n",
    "beam.nCore_z = 1"
   ]
  },
  {
   "cell_type": "code",
   "execution_count": 8,
   "metadata": {},
   "outputs": [
    {
     "name": "stdout",
     "output_type": "stream",
     "text": [
      "NL: 4.9115191429 6.711519142899999\n",
      "-4.199918635094946e-09\n"
     ]
    }
   ],
   "source": [
    "cleanLat = []\n",
    "pre = lattice[0]\n",
    "L = 0 \n",
    "for item in lattice:\n",
    "    if item.type == 'RFkick':\n",
    "        item.vmax = 0.0\n",
    "    if item.type == 'nonlinear_insert':\n",
    "        item.type = 'drift'\n",
    "        print('NL:',L,L+item.length)\n",
    "    if item.type not in ['-8', 'write_raw_ptcl', 'halt']:\n",
    "        cleanLat.append(item)\n",
    "    if 'length' in item:\n",
    "        L = L+item.length\n",
    "print(L-aperture[-1,0])"
   ]
  },
  {
   "cell_type": "code",
   "execution_count": 10,
   "metadata": {},
   "outputs": [],
   "source": [
    "for item in cleanLat:\n",
    "    if item.type == 'dipole':\n",
    "        item.file_id = 150\n",
    "        item.pipe_radius = item.pipe_radius/2"
   ]
  },
  {
   "cell_type": "markdown",
   "metadata": {},
   "source": [
    "## Prepare pData"
   ]
  },
  {
   "cell_type": "code",
   "execution_count": 11,
   "metadata": {},
   "outputs": [],
   "source": [
    "pData = np.zeros([1,9])\n",
    "q_m = beam.multi_charge.q_m[0]\n",
    "pData[0,0] = 0.01\n",
    "pData[0,2] = 0.01\n",
    "pData[:,-1] = 1\n",
    "pData[:,-3] = q_m\n",
    "beam.n_particles = 1\n",
    "\n",
    "impact.writeParticleData(pData, ke, mass, freq)"
   ]
  },
  {
   "cell_type": "markdown",
   "metadata": {},
   "source": [
    "# run Impact"
   ]
  },
  {
   "cell_type": "code",
   "execution_count": 12,
   "metadata": {},
   "outputs": [],
   "source": [
    "for item in cleanLat:\n",
    "    if 'length' in item:\n",
    "        item.n_sckick = int(np.ceil(item.length*50))\n",
    "        item.n_map = 1"
   ]
  },
  {
   "cell_type": "code",
   "execution_count": 13,
   "metadata": {},
   "outputs": [],
   "source": [
    "cleanLat.insert(0,impact.getElem('pipeinfo'))\n",
    "cleanLat[1].turns = nturn"
   ]
  },
  {
   "cell_type": "code",
   "execution_count": 14,
   "metadata": {},
   "outputs": [],
   "source": [
    "M=impact.getTransferMap(beam,cleanLat)\n",
    "M.values[4,:4]=M.values[4,:4]/freq/360*3.0e8\n",
    "M.values[4,-1]=M.values[4,-1]/freq/360*3.0e8\n",
    "M.values[:5,-1]=-M.values[:5,-1]*mass*bg"
   ]
  },
  {
   "cell_type": "code",
   "execution_count": 15,
   "metadata": {
    "scrolled": true
   },
   "outputs": [
    {
     "data": {
      "text/html": [
       "<div>\n",
       "<style scoped>\n",
       "    .dataframe tbody tr th:only-of-type {\n",
       "        vertical-align: middle;\n",
       "    }\n",
       "\n",
       "    .dataframe tbody tr th {\n",
       "        vertical-align: top;\n",
       "    }\n",
       "\n",
       "    .dataframe thead th {\n",
       "        text-align: right;\n",
       "    }\n",
       "</style>\n",
       "<table border=\"1\" class=\"dataframe\">\n",
       "  <thead>\n",
       "    <tr style=\"text-align: right;\">\n",
       "      <th></th>\n",
       "      <th>0</th>\n",
       "      <th>1</th>\n",
       "      <th>2</th>\n",
       "      <th>3</th>\n",
       "      <th>4</th>\n",
       "      <th>5</th>\n",
       "    </tr>\n",
       "  </thead>\n",
       "  <tbody>\n",
       "    <tr>\n",
       "      <th>0</th>\n",
       "      <td>-0.335771</td>\n",
       "      <td>0.533318</td>\n",
       "      <td>-0.026747</td>\n",
       "      <td>-0.000267</td>\n",
       "      <td>-0.002675</td>\n",
       "      <td>1.833229e+06</td>\n",
       "    </tr>\n",
       "    <tr>\n",
       "      <th>1</th>\n",
       "      <td>-1.729781</td>\n",
       "      <td>-0.309371</td>\n",
       "      <td>-0.034637</td>\n",
       "      <td>-0.000344</td>\n",
       "      <td>-0.003464</td>\n",
       "      <td>2.373972e+06</td>\n",
       "    </tr>\n",
       "    <tr>\n",
       "      <th>2</th>\n",
       "      <td>0.000000</td>\n",
       "      <td>0.000000</td>\n",
       "      <td>-0.309017</td>\n",
       "      <td>1.317348</td>\n",
       "      <td>0.000000</td>\n",
       "      <td>-0.000000e+00</td>\n",
       "    </tr>\n",
       "    <tr>\n",
       "      <th>3</th>\n",
       "      <td>0.000000</td>\n",
       "      <td>0.000000</td>\n",
       "      <td>-0.686613</td>\n",
       "      <td>-0.309017</td>\n",
       "      <td>0.000000</td>\n",
       "      <td>-0.000000e+00</td>\n",
       "    </tr>\n",
       "    <tr>\n",
       "      <th>4</th>\n",
       "      <td>-0.129865</td>\n",
       "      <td>-3.403546</td>\n",
       "      <td>4.334002</td>\n",
       "      <td>0.043675</td>\n",
       "      <td>16.602405</td>\n",
       "      <td>-2.970492e+08</td>\n",
       "    </tr>\n",
       "    <tr>\n",
       "      <th>5</th>\n",
       "      <td>0.000000</td>\n",
       "      <td>0.000000</td>\n",
       "      <td>0.000000</td>\n",
       "      <td>0.000000</td>\n",
       "      <td>0.000000</td>\n",
       "      <td>1.000000e+00</td>\n",
       "    </tr>\n",
       "  </tbody>\n",
       "</table>\n",
       "</div>"
      ],
      "text/plain": [
       "          0         1         2         3          4             5\n",
       "0 -0.335771  0.533318 -0.026747 -0.000267  -0.002675  1.833229e+06\n",
       "1 -1.729781 -0.309371 -0.034637 -0.000344  -0.003464  2.373972e+06\n",
       "2  0.000000  0.000000 -0.309017  1.317348   0.000000 -0.000000e+00\n",
       "3  0.000000  0.000000 -0.686613 -0.309017   0.000000 -0.000000e+00\n",
       "4 -0.129865 -3.403546  4.334002  0.043675  16.602405 -2.970492e+08\n",
       "5  0.000000  0.000000  0.000000  0.000000   0.000000  1.000000e+00"
      ]
     },
     "execution_count": 15,
     "metadata": {},
     "output_type": "execute_result"
    }
   ],
   "source": [
    "M"
   ]
  }
 ],
 "metadata": {
  "kernelspec": {
   "display_name": "Python 3",
   "language": "python",
   "name": "python3"
  },
  "language_info": {
   "codemirror_mode": {
    "name": "ipython",
    "version": 3
   },
   "file_extension": ".py",
   "mimetype": "text/x-python",
   "name": "python",
   "nbconvert_exporter": "python",
   "pygments_lexer": "ipython3",
   "version": "3.6.5"
  }
 },
 "nbformat": 4,
 "nbformat_minor": 2
}
