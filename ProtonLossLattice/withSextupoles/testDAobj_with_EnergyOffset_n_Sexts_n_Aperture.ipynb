{
 "cells": [
  {
   "cell_type": "code",
   "execution_count": 1,
   "metadata": {},
   "outputs": [],
   "source": [
    "import pImpactR as impact\n",
    "import numpy as np\n",
    "import matplotlib.pyplot as plt\n",
    "from copy import deepcopy as copy\n",
    "import pickle\n",
    "int = np.vectorize(int)"
   ]
  },
  {
   "cell_type": "code",
   "execution_count": 2,
   "metadata": {},
   "outputs": [],
   "source": [
    "rectangular_ = 1\n",
    "elliptic_ = 2\n",
    "order = 3\n",
    "\n",
    "nCore_y = 2\n",
    "nCore_z = 2\n",
    "nturn = 100"
   ]
  },
  {
   "cell_type": "code",
   "execution_count": 3,
   "metadata": {},
   "outputs": [],
   "source": [
    "emitGeomRMS = 3.3e-6\n",
    "sigma_K = 2.0e-3\n",
    "pipe = 0.025"
   ]
  },
  {
   "cell_type": "code",
   "execution_count": 4,
   "metadata": {},
   "outputs": [],
   "source": [
    "NL_t = 0.4\n",
    "NL_L = 1.8\n",
    "NL_c = 0.01\n",
    "NL_nu = 0.3\n",
    "NL_beta = 0.5*NL_L/np.tan(np.pi*NL_nu)"
   ]
  },
  {
   "cell_type": "markdown",
   "metadata": {},
   "source": [
    "# pipe_info start from NL center"
   ]
  },
  {
   "cell_type": "code",
   "execution_count": 5,
   "metadata": {},
   "outputs": [
    {
     "name": "stdout",
     "output_type": "stream",
     "text": [
      "5.811519140000001 39.968229720000004\n",
      "[[5.72580485e+00 4.03422000e-03 5.54705000e-03 2.00000000e+00]\n",
      " [5.76866200e+00 4.00858000e-03 5.51180000e-03 2.00000000e+00]\n",
      " [5.81151914e+00 4.00000000e-03 5.50000000e-03 2.00000000e+00]\n",
      " [5.85437628e+00 4.00858000e-03 5.51180000e-03 2.00000000e+00]\n",
      " [5.89723343e+00 4.03422000e-03 5.54705000e-03 2.00000000e+00]]\n"
     ]
    }
   ],
   "source": [
    "pipe_info = np.loadtxt('../pipeinfo.in')\n",
    "index_NLcenter = np.argmin(pipe_info[:,1])\n",
    "\n",
    "L_tot = pipe_info[-1,0]\n",
    "s_NLmid = pipe_info[index_NLcenter,0]\n",
    "print(s_NLmid, L_tot)\n",
    "print(pipe_info[index_NLcenter-2:index_NLcenter+3,:])"
   ]
  },
  {
   "cell_type": "code",
   "execution_count": 6,
   "metadata": {},
   "outputs": [],
   "source": [
    "pipe_info[:,0] = pipe_info[:,0] - s_NLmid\n",
    "pipe_info[:index_NLcenter,0] = pipe_info[:index_NLcenter,0] + L_tot\n",
    "pipe_info = np.concatenate((pipe_info[index_NLcenter:,:],pipe_info[:index_NLcenter+1,:]),axis=0)"
   ]
  },
  {
   "cell_type": "code",
   "execution_count": 7,
   "metadata": {},
   "outputs": [],
   "source": [
    "pipe_info[-1,0] = L_tot"
   ]
  },
  {
   "cell_type": "code",
   "execution_count": 8,
   "metadata": {},
   "outputs": [
    {
     "data": {
      "image/png": "[encoded data removed]",
      "text/plain": [
       "<Figure size 864x216 with 1 Axes>"
      ]
     },
     "metadata": {
      "needs_background": "light"
     },
     "output_type": "display_data"
    }
   ],
   "source": [
    "plt.figure(figsize=(12,3))\n",
    "plt.plot(pipe_info[:,0],pipe_info[:,1]*100)\n",
    "plt.plot(pipe_info[:,0],pipe_info[:,2]*100)\n",
    "plt.plot(pipe_info[:,0],(pipe_info[:,3]-1)*10,alpha=0.4)\n",
    "plt.grid()\n",
    "plt.ylim((0.2,3.5))\n",
    "plt.xlim((0.0, 40))\n",
    "plt.minorticks_on()\n",
    "plt.legend(('x','y'))\n",
    "plt.xlabel('s (m)')\n",
    "plt.ylabel('x or y aperture (cm)');"
   ]
  },
  {
   "cell_type": "code",
   "execution_count": 9,
   "metadata": {},
   "outputs": [],
   "source": [
    "np.savetxt('pipeinfo.in',pipe_info)"
   ]
  },
  {
   "cell_type": "code",
   "execution_count": 10,
   "metadata": {},
   "outputs": [
    {
     "data": {
      "text/plain": [
       "array([[3.98396583e+01, 4.07659000e-03, 5.60531000e-03, 2.00000000e+00],\n",
       "       [3.98825154e+01, 4.03422000e-03, 5.54705000e-03, 2.00000000e+00],\n",
       "       [3.99253726e+01, 4.00858000e-03, 5.51180000e-03, 2.00000000e+00],\n",
       "       [3.99682297e+01, 4.00000000e-03, 5.50000000e-03, 2.00000000e+00]])"
      ]
     },
     "execution_count": 10,
     "metadata": {},
     "output_type": "execute_result"
    }
   ],
   "source": [
    "pipe_info[-4:,:]"
   ]
  },
  {
   "cell_type": "markdown",
   "metadata": {},
   "source": [
    "# read Lattice"
   ]
  },
  {
   "cell_type": "code",
   "execution_count": 11,
   "metadata": {},
   "outputs": [
    {
     "name": "stdout",
     "output_type": "stream",
     "text": [
      "reading ImpactZ input file (\u001b[92mtest_iota_v8_4_SextOff_NLon.in\u001b[0m)\n",
      "  : mpi task info .............................done\n",
      "  : simulation control parameters .............done\n",
      "  : space charge field solver, mesh info ......done\n",
      "  : dist-type,restart,subcycle,#of state ......done\n",
      "  : Multiple Charge State info ................done\n",
      "  : particle distribution info ................done\n",
      "  : beam reference orbit info .................done\n",
      "  : converting impact dist to twiss param......done\n",
      "  : lattice info ..............................done\n"
     ]
    }
   ],
   "source": [
    "beam,lattice = impact.readInputFile('test_iota_v8_4_SextOff_NLon.in')\n",
    "beam.nCore_y = nCore_y\n",
    "beam.nCore_z = nCore_z\n",
    "ke = beam.kinetic_energy\n",
    "mass = beam.mass\n",
    "freq = beam.frequency\n",
    "g = ke/mass+1.0\n",
    "bg = np.sqrt(g**2-1.0)\n",
    "emitN = emitGeomRMS*bg"
   ]
  },
  {
   "cell_type": "code",
   "execution_count": 12,
   "metadata": {},
   "outputs": [],
   "source": [
    "ap1_x,ap1_y = 4e-3, 5.5e-3\n",
    "ang = np.arange(0.0,2*np.pi,2*np.pi/1024)\n",
    "c = np.cos(ang)\n",
    "s = np.sin(ang)"
   ]
  },
  {
   "cell_type": "markdown",
   "metadata": {},
   "source": [
    "# prepare test particles"
   ]
  },
  {
   "cell_type": "code",
   "execution_count": 13,
   "metadata": {},
   "outputs": [
    {
     "data": {
      "text/plain": [
       "(380, 1140)"
      ]
     },
     "execution_count": 13,
     "metadata": {},
     "output_type": "execute_result"
    }
   ],
   "source": [
    "nx = 50\n",
    "testP = 0.0\n",
    "sig = 0.015\n",
    "k=0\n",
    "q_m = beam.multi_charge.q_m[0]\n",
    "pTest = []\n",
    "for x in np.linspace(-ap1_x*0.9,ap1_x*0.9,nx):\n",
    "    for y in np.linspace(-ap1_y,ap1_y,nx):\n",
    "        if 0.8 < np.sqrt((x/ap1_x)**2 + (y/ap1_y)**2) < 1.0 or (0.7 < np.abs(x/ap1_x) and np.abs(y) < 2.0e-3):\n",
    "            if y>0:\n",
    "                pTest.append([x,0.0,y,0.0,0.0,0.0,q_m,0.0,k])\n",
    "                k=k+1\n",
    "pTest0 = np.array(pTest)\n",
    "pTest1 = copy(pTest0)\n",
    "pTest2 = copy(pTest0)\n",
    "npt = len(pTest0)\n",
    "\n",
    "\n",
    "pTest0[:, 5] = -2*sigma_K*ke\n",
    "\n",
    "pTest1[:,-1] = pTest1[:,-1] + npt\n",
    "\n",
    "pTest2[:,5] =  2*sigma_K*ke\n",
    "pTest2[:,-1] = pTest2[:,-1] + 2*npt\n",
    "\n",
    "pTest = np.concatenate((pTest0,pTest1,pTest2))\n",
    "\n",
    "impact.writeParticleData(pTest,ke,mass,freq)\n",
    "beam.n_particles = 3*npt\n",
    "npt,3*npt"
   ]
  },
  {
   "cell_type": "code",
   "execution_count": 14,
   "metadata": {
    "scrolled": true
   },
   "outputs": [
    {
     "data": {
      "text/plain": [
       "(-7.15, 7.15)"
      ]
     },
     "execution_count": 14,
     "metadata": {},
     "output_type": "execute_result"
    },
    {
     "data": {
      "image/png": "[encoded data removed]",
      "text/plain": [
       "<Figure size 475.2x475.2 with 1 Axes>"
      ]
     },
     "metadata": {
      "needs_background": "light"
     },
     "output_type": "display_data"
    }
   ],
   "source": [
    "fig = plt.figure(figsize=[3.3*2,3.3*2])\n",
    "plt.scatter(pTest[:,0]*1e3, pTest[:,2]*1e3,s=1)\n",
    "plt.scatter(pTest[:,0]*1e3,-pTest[:,2]*1e3,s=1)\n",
    "plt.plot(ap1_x*c*1e3,ap1_y*s*1e3,alpha=0.7,c='k',lw=2)\n",
    "plt.xlim(-ap1_x*1.3*1e3,ap1_x*1.3*1e3)\n",
    "plt.ylim(-ap1_y*1.3*1e3,ap1_y*1.3*1e3)"
   ]
  },
  {
   "cell_type": "markdown",
   "metadata": {},
   "source": [
    "# Prepare lattice"
   ]
  },
  {
   "cell_type": "code",
   "execution_count": 15,
   "metadata": {},
   "outputs": [],
   "source": [
    "cleanLat = impact.clearLattice(lattice)\n",
    "for item in cleanLat:\n",
    "    if item.type == 'RFkick':\n",
    "        item.vmax = 0.0\n",
    "    if 'length' in item:\n",
    "        item.n_sckick = int(np.ceil(item.length*50))\n",
    "        item.n_map = 1\n",
    "    if 'pipe_radius' in item and item.type is not 'dipole':\n",
    "        item.pipe_radius = pipe\n",
    "\n",
    "for iNL,elem in enumerate(cleanLat):\n",
    "    if 'nonlinear' in elem.type:\n",
    "        break\n",
    "\n",
    "NL0 = impact.getElem('nonlinear_insert_sliced')\n",
    "\n",
    "NL0.length = 0.9\n",
    "NL0.start_position = 0.0\n",
    "NL0.total_length = 1.8\n",
    "\n",
    "NL0.tune_advance = 0.3\n",
    "NL0.strength_t = 0.4\n",
    "NL0.transverse_scale_c = 0.01\n",
    "\n",
    "NL0.n_map = 45\n",
    "NL0.n_sckick = 1\n",
    "\n",
    "NL1 = copy(NL0)\n",
    "NL1.start_position = 0.9\n",
    "\n",
    "cleanLat =  [NL1] + cleanLat[iNL+1:] + cleanLat[:iNL] + [NL0]\n",
    "\n",
    "# add QFF\n",
    "cleanLat = impact.addHardEdgeQuad(cleanLat)"
   ]
  },
  {
   "cell_type": "code",
   "execution_count": 16,
   "metadata": {},
   "outputs": [],
   "source": [
    "Sext=[]\n",
    "flagNewSext = False\n",
    "j=-1\n",
    "for i,elem in enumerate(cleanLat):\n",
    "#     print(i,elem.type,flagNewSext)\n",
    "    if elem.type in ['quad','dipole']:\n",
    "        flagNewSext = False\n",
    "    if elem.type == 'multipole_thin':\n",
    "        if not flagNewSext:\n",
    "            flagNewSext = True\n",
    "            j = j+1\n",
    "            Sext.append(elem)\n",
    "            elem.sext_family = j\n",
    "        else:\n",
    "            cleanLat[i] = Sext[j]"
   ]
  },
  {
   "cell_type": "code",
   "execution_count": 17,
   "metadata": {},
   "outputs": [],
   "source": [
    "# test Sext in cleanLat\n",
    "# for i,item in enumerate(Sext):\n",
    "#     item.KL_sext = i\n",
    "    \n",
    "# for i,elem in enumerate(cleanLat):\n",
    "#     if elem.type == 'multipole_thin':\n",
    "#         print(i,elem.KL_sext)"
   ]
  },
  {
   "cell_type": "code",
   "execution_count": 18,
   "metadata": {},
   "outputs": [],
   "source": [
    "loop = impact.getElem('loop')\n",
    "\n",
    "writeIn = impact.getElem('write_raw_ptcl')\n",
    "writeIn.turn = 1\n",
    "writeIn.file_id = 100000\n",
    "writeIn.format_id = 2\n",
    "\n",
    "writetmp = impact.getElem('write_raw_ptcl')\n",
    "writetmp.format_id = 2\n",
    "writetmp.file_id = 100000 + nturn\n",
    "\n",
    "writeOut = impact.getElem('write_raw_ptcl')\n",
    "writeOut.format_id = 2\n",
    "writeOut.turn = nturn\n",
    "writeOut.file_id = 100000 - nturn\n"
   ]
  },
  {
   "cell_type": "code",
   "execution_count": 19,
   "metadata": {},
   "outputs": [],
   "source": [
    "latticeF = [loop, impact.getElem('pipeinfo'), writeIn] + cleanLat + [writetmp]"
   ]
  },
  {
   "cell_type": "code",
   "execution_count": 20,
   "metadata": {},
   "outputs": [],
   "source": [
    "def getDA_data(SextStr):\n",
    "    beam.distribution.distribution_type = 'ReadFile'\n",
    "    \n",
    "    # ==== run foward (from NL mid point) ====   \n",
    "    for i,item in enumerate(Sext):\n",
    "        item.KL_sext = SextStr[i]\n",
    "        \n",
    "    loop.turns = 10\n",
    "    writetmp.turn = 10\n",
    "    impact.writeInputFile(beam, latticeF)\n",
    "    impact.run(beam,order=order)\n",
    "    nptSurvived = impact.readLostAt(-1)\n",
    "    if nptSurvived < int(3*npt*0.8):\n",
    "        return 10, nptSurvived\n",
    "    \n",
    "    beam.distribution.distribution_type = 'ReadFile_binary'\n",
    "    beam.distribution.file_id = writetmp.file_id\n",
    "    impact.writeInputFile(beam, latticeF)\n",
    "    nSplit = int(nturn/10)\n",
    "    for i in range(nSplit-1):\n",
    "        print(10*(i+2))\n",
    "        impact.run(beam,order=order)\n",
    "        nptSurvived = impact.readLostAt(-1)\n",
    "        if nptSurvived < int(3*npt*0.8):\n",
    "            return 10*(i+2), nptSurvived\n",
    "    if nSplit*10 != nturn:\n",
    "        print(nturn)\n",
    "        loop.turns = nturn - nSplit*10\n",
    "        writetmp.turn = nturn - nSplit*10\n",
    "        impact.writeInputFile(beam, latticeF)\n",
    "        impact.run(beam,order=order)\n",
    "        nptSurvived = impact.readLostAt(-1)\n",
    "        if nptSurvived < int(3*npt*0.8):\n",
    "            return nturn, nptSurvived\n",
    "        \n",
    "\n",
    "    # ==== run backward  ====\n",
    "    loop.turns = nturn  \n",
    "    beam.distribution.distribution_type = 'ReadFile_binary'\n",
    "    beam.distribution.file_id = writetmp.file_id\n",
    "    \n",
    "    cleanLat_backward = impact.getInverseLattice(cleanLat)\n",
    "    latticeB = [loop] + cleanLat_backward + [writeOut]    \n",
    "      \n",
    "    impact.writeInputFile(beam, latticeB)\n",
    "    impact.run(beam,order=order)\n",
    "    \n",
    "    \n",
    "    # collect data\n",
    "#     pDataIn  = impact.readParticleData(writeIn.file_id,  ke,mass,freq, writeIn.format_id)\n",
    "    pDataOut = impact.readParticleData(writeOut.file_id, ke,mass,freq, writeOut.format_id)\n",
    "    \n",
    "    iSurvived = np.in1d(pTest[:,-1],pDataOut[:,-1])\n",
    "    pDataIn = pTest[iSurvived,:]\n",
    "    \n",
    "    diff = np.log10(\n",
    "              np.sqrt(\n",
    "                       (pDataIn[:,0] - pDataOut[:,0])**2/(NL_beta*NL_c*NL_c) + \n",
    "                       (pDataIn[:,2] - pDataOut[:,2])**2/(NL_beta*NL_c*NL_c) +\n",
    "                       (pDataIn[:,1] - pDataOut[:,1])**2*NL_beta/(NL_c*NL_c) + \n",
    "                       (pDataIn[:,3] - pDataOut[:,3])**2*NL_beta/(NL_c*NL_c) \n",
    "                     ) \n",
    "                   )\n",
    "    ind = int(pDataIn[:,-1])\n",
    "    ind0 = ind<  npt\n",
    "    ind1 = (  npt<=ind) * (ind<2*npt)\n",
    "    ind2 = (2*npt<=ind) * (ind<3*npt)\n",
    "    return ind[ind0],ind[ind1],ind[ind2], diff[ind0], diff[ind1], diff[ind2]"
   ]
  },
  {
   "cell_type": "markdown",
   "metadata": {},
   "source": [
    "# Run and collect data"
   ]
  },
  {
   "cell_type": "code",
   "execution_count": 21,
   "metadata": {},
   "outputs": [],
   "source": [
    "Inputs = []\n",
    "Outputs = []\n",
    "\n",
    "indx = [0]*3\n",
    "diff = [0]*3\n",
    "\n",
    "data = {'Inputs':Inputs, 'Outputs':Outputs}"
   ]
  },
  {
   "cell_type": "markdown",
   "metadata": {},
   "source": [
    "### sextoff"
   ]
  },
  {
   "cell_type": "code",
   "execution_count": 22,
   "metadata": {},
   "outputs": [
    {
     "name": "stdout",
     "output_type": "stream",
     "text": [
      "20\n",
      "30\n",
      "40\n",
      "50\n",
      "60\n",
      "70\n",
      "80\n",
      "90\n",
      "100\n"
     ]
    }
   ],
   "source": [
    "indx[0],indx[1],indx[2],diff[0],diff[1],diff[2] = getDA_data(np.zeros(12))"
   ]
  },
  {
   "cell_type": "code",
   "execution_count": 23,
   "metadata": {},
   "outputs": [],
   "source": [
    "Inputs.append(list(np.zeros(12)))\n",
    "Outputs.append(copy([indx[0],indx[1],indx[2],diff[0],diff[1],diff[2]]))"
   ]
  },
  {
   "cell_type": "code",
   "execution_count": 24,
   "metadata": {},
   "outputs": [
    {
     "data": {
      "image/png": "[encoded data removed]",
      "text/plain": [
       "<Figure size 763.2x237.6 with 6 Axes>"
      ]
     },
     "metadata": {
      "needs_background": "light"
     },
     "output_type": "display_data"
    }
   ],
   "source": [
    "txt = [r'$\\delta=-2\\sigma_{\\delta}$',r'$\\delta=0$',r'$\\delta=+2\\sigma_{\\delta}$']\n",
    "fig = plt.figure(figsize=[4+3.3+3.3,3.3])\n",
    "for i in range(3):\n",
    "    plt.subplot(1,3,i+1)\n",
    "    d = diff[i]\n",
    "    x = pTest[indx[i],0]\n",
    "    y = pTest[indx[i],2]\n",
    "    f1=plt.scatter(x*1e3,y*1e3,c=d,s=1.6,marker='s')\n",
    "    plt.scatter(x*1e3,-y*1e3,c=d,s=1.6,marker='s')\n",
    "    plt.plot(ap1_x*c*1e3,ap1_y*s*1e3,alpha=0.7,c='k',lw=2)\n",
    "    plt.xlim(-ap1_x*1.3*1e3,ap1_x*1.3*1e3)\n",
    "    plt.ylim(-ap1_y*1.3*1e3,ap1_y*1.3*1e3)\n",
    "    plt.xlabel('$x (mm)$')\n",
    "    if j==0:\n",
    "        plt.ylabel('$y (mm)$')\n",
    "    else:\n",
    "        plt.yticks([])\n",
    "    plt.text(-4.9,6.1,txt[i])\n",
    "    plt.colorbar(f1)\n",
    "plt.tight_layout()\n",
    "# plt.savefig('DA_'+deco+'_wAperture_T'+str(nturn)+'.png',dpi=180)"
   ]
  },
  {
   "cell_type": "code",
   "execution_count": 25,
   "metadata": {},
   "outputs": [
    {
     "data": {
      "text/plain": [
       "(array([-2125.73579182, -2142.69385663, -1962.96716391]),\n",
       " array([-2325.06044091, -2281.34023145, -2054.26135415]))"
      ]
     },
     "execution_count": 25,
     "metadata": {},
     "output_type": "execute_result"
    }
   ],
   "source": [
    "diffSum0 = np.array([np.sum(diff[i]) for i in range(3)]) \n",
    "diffSum1 = diffSum0+ np.array([np.max(diff[i])*(npt-len(indx[i])) for i in range(3)])\n",
    "diffSum0, diffSum1"
   ]
  },
  {
   "cell_type": "code",
   "execution_count": 26,
   "metadata": {
    "scrolled": true
   },
   "outputs": [
    {
     "data": {
      "text/plain": [
       "[316, 322, 305]"
      ]
     },
     "execution_count": 26,
     "metadata": {},
     "output_type": "execute_result"
    }
   ],
   "source": [
    "[len(indx[i]) for i in range(3)]"
   ]
  }
 ],
 "metadata": {
  "kernelspec": {
   "display_name": "Python 3",
   "language": "python",
   "name": "python3"
  },
  "language_info": {
   "codemirror_mode": {
    "name": "ipython",
    "version": 3
   },
   "file_extension": ".py",
   "mimetype": "text/x-python",
   "name": "python",
   "nbconvert_exporter": "python",
   "pygments_lexer": "ipython3",
   "version": "3.7.6"
  }
 },
 "nbformat": 4,
 "nbformat_minor": 2
}
