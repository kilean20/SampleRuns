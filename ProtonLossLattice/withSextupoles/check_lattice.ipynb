{
 "cells": [
  {
   "cell_type": "code",
   "execution_count": 1,
   "metadata": {},
   "outputs": [],
   "source": [
    "import pImpactR as impact\n",
    "import numpy as np\n",
    "import matplotlib.pyplot as plt"
   ]
  },
  {
   "cell_type": "code",
   "execution_count": 2,
   "metadata": {},
   "outputs": [
    {
     "name": "stdout",
     "output_type": "stream",
     "text": [
      "reading ImpactZ input file (\u001b[92m./check_prevRun_from_nersc/test_nersc.in\u001b[0m)\n",
      "  : mpi task info .............................done\n",
      "  : simulation control parameters .............done\n",
      "  : space charge field solver, mesh info ......done\n",
      "  : dist-type,restart,subcycle,#of state ......done\n",
      "  : Multiple Charge State info ................done\n",
      "  : particle distribution info ................done\n",
      "  : beam reference orbit info .................done\n",
      "  : converting impact dist to twiss param......done\n",
      "  : lattice info ..............................done\n",
      "reading ImpactZ input file (\u001b[92mtest_iota_v8_4_SextOff_NLon.in\u001b[0m)\n",
      "  : mpi task info .............................done\n",
      "  : simulation control parameters .............done\n",
      "  : space charge field solver, mesh info ......done\n",
      "  : dist-type,restart,subcycle,#of state ......done\n",
      "  : Multiple Charge State info ................done\n",
      "  : particle distribution info ................done\n",
      "  : beam reference orbit info .................done\n",
      "  : converting impact dist to twiss param......done\n",
      "  : lattice info ..............................done\n"
     ]
    }
   ],
   "source": [
    "# beamOld,latticeOld = impact.readInputFile('../test.Chad.in')\n",
    "beamOld,latticeOld = impact.readInputFile('./check_prevRun_from_nersc/test_nersc.in')\n",
    "beamNew,latticeNew = impact.readInputFile('test_iota_v8_4_SextOff_NLon.in')"
   ]
  },
  {
   "cell_type": "code",
   "execution_count": 3,
   "metadata": {},
   "outputs": [
    {
     "data": {
      "text/plain": [
       "-3.868813824858819e-08"
      ]
     },
     "execution_count": 3,
     "metadata": {},
     "output_type": "execute_result"
    }
   ],
   "source": [
    "beamOld.mass/beamNew.mass-1.0"
   ]
  },
  {
   "cell_type": "code",
   "execution_count": 4,
   "metadata": {},
   "outputs": [
    {
     "data": {
      "text/plain": [
       "39.968229715800085"
      ]
     },
     "execution_count": 4,
     "metadata": {},
     "output_type": "execute_result"
    }
   ],
   "source": [
    "Lold=0\n",
    "for item in latticeOld:\n",
    "    if 'length' in item:\n",
    "        Lold = Lold + item.length\n",
    "Lold"
   ]
  },
  {
   "cell_type": "code",
   "execution_count": 5,
   "metadata": {},
   "outputs": [
    {
     "data": {
      "text/plain": [
       "39.96822971502609"
      ]
     },
     "execution_count": 5,
     "metadata": {},
     "output_type": "execute_result"
    }
   ],
   "source": [
    "Lnew=0\n",
    "for item in latticeNew:\n",
    "    if 'length' in item:\n",
    "        Lnew = Lnew + item.length\n",
    "Lnew"
   ]
  },
  {
   "cell_type": "code",
   "execution_count": 6,
   "metadata": {},
   "outputs": [
    {
     "data": {
      "text/plain": [
       "-1.9365287151629218e-11"
      ]
     },
     "execution_count": 6,
     "metadata": {},
     "output_type": "execute_result"
    }
   ],
   "source": [
    "Lnew/Lold - 1.0"
   ]
  },
  {
   "cell_type": "markdown",
   "metadata": {},
   "source": [
    "#### Old lattice Quads are all 0.21 meter"
   ]
  },
  {
   "cell_type": "code",
   "execution_count": 7,
   "metadata": {},
   "outputs": [
    {
     "name": "stdout",
     "output_type": "stream",
     "text": [
      "0.21\n",
      "0.21\n",
      "0.21\n",
      "0.21\n",
      "0.21\n",
      "0.21\n",
      "0.21\n",
      "0.21\n",
      "0.21\n",
      "0.21\n",
      "0.21\n",
      "0.21\n",
      "0.21\n",
      "0.21\n",
      "0.21\n",
      "0.21\n",
      "0.21\n",
      "0.21\n",
      "0.21\n",
      "0.21\n",
      "0.21\n",
      "0.21\n",
      "0.21\n",
      "0.21\n",
      "0.21\n",
      "0.21\n",
      "0.21\n",
      "0.21\n",
      "0.21\n",
      "0.21\n",
      "0.21\n",
      "0.21\n",
      "0.21\n",
      "0.21\n",
      "0.21\n",
      "0.21\n",
      "0.21\n",
      "0.21\n",
      "0.21\n"
     ]
    }
   ],
   "source": [
    "QuadOld = []\n",
    "for item in latticeOld:\n",
    "    if item.type=='quad':\n",
    "        QuadOld.append(item)\n",
    "        print(item.length)"
   ]
  },
  {
   "cell_type": "markdown",
   "metadata": {},
   "source": [
    "#### New lattice contain 0.1 meter quads of zero strengh"
   ]
  },
  {
   "cell_type": "code",
   "execution_count": 8,
   "metadata": {},
   "outputs": [],
   "source": [
    "L=0\n",
    "QuadNew = []\n",
    "QuadDummy = []\n",
    "for item in latticeNew:\n",
    "    if item.type=='quad':\n",
    "        if item.length == 0.21:\n",
    "            QuadNew.append(item)\n",
    "        else:\n",
    "            QuadDummy.append(item)"
   ]
  },
  {
   "cell_type": "code",
   "execution_count": 9,
   "metadata": {},
   "outputs": [
    {
     "data": {
      "text/plain": [
       "(39, 39, 20)"
      ]
     },
     "execution_count": 9,
     "metadata": {},
     "output_type": "execute_result"
    }
   ],
   "source": [
    "len(QuadOld),len(QuadNew),len(QuadDummy)"
   ]
  },
  {
   "cell_type": "code",
   "execution_count": 10,
   "metadata": {},
   "outputs": [],
   "source": [
    "for item in QuadDummy:\n",
    "    if item.length != 0.1:\n",
    "        print(item)\n",
    "    if item.Kx != 0:\n",
    "        print(item.Kx)"
   ]
  },
  {
   "cell_type": "markdown",
   "metadata": {},
   "source": [
    "#### Compare Quad strengh"
   ]
  },
  {
   "cell_type": "code",
   "execution_count": 11,
   "metadata": {},
   "outputs": [],
   "source": [
    "for i in range(len(QuadOld)):\n",
    "    if np.abs(QuadOld[i].Kx/QuadNew[i].Kx - 1.0) > 1.0e-9:\n",
    "        print(i)"
   ]
  },
  {
   "cell_type": "markdown",
   "metadata": {},
   "source": [
    "#### Compare Dipoles"
   ]
  },
  {
   "cell_type": "code",
   "execution_count": 12,
   "metadata": {},
   "outputs": [],
   "source": [
    "DipoleOld = []\n",
    "for item in latticeOld:\n",
    "    if item.type=='dipole':\n",
    "        DipoleOld.append(item)"
   ]
  },
  {
   "cell_type": "code",
   "execution_count": 13,
   "metadata": {},
   "outputs": [],
   "source": [
    "DipoleNew = []\n",
    "for item in latticeNew:\n",
    "    if item.type=='dipole':\n",
    "        DipoleNew.append(item)"
   ]
  },
  {
   "cell_type": "code",
   "execution_count": 14,
   "metadata": {},
   "outputs": [
    {
     "data": {
      "text/plain": [
       "(8, 8)"
      ]
     },
     "execution_count": 14,
     "metadata": {},
     "output_type": "execute_result"
    }
   ],
   "source": [
    "len(DipoleOld),len(DipoleNew)"
   ]
  },
  {
   "cell_type": "code",
   "execution_count": 15,
   "metadata": {},
   "outputs": [],
   "source": [
    "for i in range(len(DipoleOld)):\n",
    "    d0 = DipoleOld[i]\n",
    "    d1 = DipoleNew[i]\n",
    "    if np.abs(d0.length/d1.length - 1.0) > 1.0e-6:\n",
    "        print(i)\n",
    "    if np.abs(d0.bending_angle/d1.bending_angle - 1.0) > 1.0e-6:\n",
    "        print(i)\n",
    "    if np.abs(d0.pipe_radius/d1.pipe_radius - 1.0) > 1.0e-6:\n",
    "        print(i)\n",
    "    if np.abs(d0.file_id/d1.file_id - 1.0) > 1.0e-6:\n",
    "        print(i)\n",
    "    if np.abs(d0.fringe_field_integration/d1.fringe_field_integration - 1.0) > 1.0e-6:\n",
    "        print(i)\n",
    "    if d0.entrance_angle != d1.entrance_angle:\n",
    "        print(i)"
   ]
  },
  {
   "cell_type": "markdown",
   "metadata": {},
   "source": [
    "#### RF"
   ]
  },
  {
   "cell_type": "code",
   "execution_count": 17,
   "metadata": {},
   "outputs": [
    {
     "name": "stdout",
     "output_type": "stream",
     "text": [
      "\n",
      "            vmax: 5100.0\n",
      "            phi0: 0.0\n",
      " harmonic_number: 1.0\n",
      "            type: 'RFkick'\n"
     ]
    }
   ],
   "source": [
    "for item in latticeNew:\n",
    "    if 'RF' in item.type:\n",
    "        print(item)"
   ]
  },
  {
   "cell_type": "code",
   "execution_count": 18,
   "metadata": {},
   "outputs": [
    {
     "name": "stdout",
     "output_type": "stream",
     "text": [
      "\n",
      "            vmax: 0.0\n",
      "            phi0: 0.0\n",
      " harmonic_number: 1.0\n",
      "            type: 'RFkick'\n"
     ]
    }
   ],
   "source": [
    "for item in latticeOld:\n",
    "    if 'RF' in item.type:\n",
    "        print(item)"
   ]
  },
  {
   "cell_type": "code",
   "execution_count": null,
   "metadata": {},
   "outputs": [],
   "source": []
  }
 ],
 "metadata": {
  "kernelspec": {
   "display_name": "Python 3",
   "language": "python",
   "name": "python3"
  },
  "language_info": {
   "codemirror_mode": {
    "name": "ipython",
    "version": 3
   },
   "file_extension": ".py",
   "mimetype": "text/x-python",
   "name": "python",
   "nbconvert_exporter": "python",
   "pygments_lexer": "ipython3",
   "version": "3.7.6"
  }
 },
 "nbformat": 4,
 "nbformat_minor": 4
}
