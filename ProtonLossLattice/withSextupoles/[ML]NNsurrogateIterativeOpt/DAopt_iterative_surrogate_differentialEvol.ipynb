{
 "cells": [
  {
   "cell_type": "code",
   "execution_count": 1,
   "metadata": {
    "colab": {},
    "colab_type": "code",
    "id": "14TJT2T2P3vE"
   },
   "outputs": [],
   "source": [
    "import numpy as np\n",
    "import torch\n",
    "from torch.nn import functional as F\n",
    "import matplotlib.pyplot as plt\n",
    "import os\n",
    "import pickle\n",
    "from copy import deepcopy as copy\n",
    "import pyTorchTemplate as ptt\n",
    "# from torchsummary import summary\n",
    "from pImpactR import opt"
   ]
  },
  {
   "cell_type": "code",
   "execution_count": 2,
   "metadata": {},
   "outputs": [],
   "source": [
    "nSample_each_iter = 256\n",
    "nSample_0th_iter = 2048"
   ]
  },
  {
   "cell_type": "code",
   "execution_count": 3,
   "metadata": {
    "colab": {
     "base_uri": "https://localhost:8080/",
     "height": 121
    },
    "colab_type": "code",
    "id": "tzzm7EAtTiTJ",
    "outputId": "438ad26d-aa63-40be-9907-09e0fb91cd48"
   },
   "outputs": [],
   "source": [
    "# from google.colab import drive\n",
    "# drive.mount('/content/drive/', force_remount=True)\n",
    "# path = '/content/drive/My Drive/WorkSpace/ML/SurrogateModel/'\n",
    "path = os.getcwd()"
   ]
  },
  {
   "cell_type": "markdown",
   "metadata": {
    "colab_type": "text",
    "id": "mbuvoMmHhEO-"
   },
   "source": [
    "# Preprocess Data"
   ]
  },
  {
   "cell_type": "markdown",
   "metadata": {},
   "source": [
    "## preview "
   ]
  },
  {
   "cell_type": "code",
   "execution_count": 4,
   "metadata": {
    "colab": {},
    "colab_type": "code",
    "id": "QrvwPIXwvpU3"
   },
   "outputs": [],
   "source": [
    "ap1_x,ap1_y = 4e-3, 5.5e-3\n",
    "ang = np.arange(0.0,2*np.pi,2*np.pi/1024)\n",
    "c = np.cos(ang)\n",
    "s = np.sin(ang)"
   ]
  },
  {
   "cell_type": "code",
   "execution_count": 5,
   "metadata": {
    "colab": {
     "base_uri": "https://localhost:8080/",
     "height": 34
    },
    "colab_type": "code",
    "id": "tVBOqdxzvWoS",
    "outputId": "9f0f7435-86da-48e3-c40b-6e6314eef127"
   },
   "outputs": [
    {
     "data": {
      "text/plain": [
       "352"
      ]
     },
     "execution_count": 5,
     "metadata": {},
     "output_type": "execute_result"
    }
   ],
   "source": [
    "nx = 50\n",
    "testP = 0.0\n",
    "sig = 0.015\n",
    "k=0\n",
    "pTest = []\n",
    "for x in np.linspace(-ap1_x*0.95,ap1_x*0.95,nx):\n",
    "    for y in np.linspace(-ap1_y*0.95,ap1_y*0.95,nx):\n",
    "        circ = np.sqrt((x/ap1_x)**2 + (y/ap1_y)**2)\n",
    "        arcR = np.sqrt(((x-1.3*ap1_x)/ap1_x)**2 + (y/(1.1*ap1_y))**2)\n",
    "        arcL = np.sqrt(((x+1.3*ap1_x)/ap1_x)**2 + (y/(1.1*ap1_y))**2)\n",
    "        if circ < 0.95 and y>0:\n",
    "            if x> 0 and 0.6 < arcR and (circ > 0.75 or  arcR < 0.8):\n",
    "                pTest.append([x,y])\n",
    "                k=k+1\n",
    "            elif x<0 and 0.6 < arcL and (circ > 0.75 or  arcL < 0.8):\n",
    "                pTest.append([x,y])\n",
    "                k=k+1\n",
    "pTest0 = np.array(pTest)\n",
    "pTest1 = copy(pTest0)\n",
    "pTest2 = copy(pTest0)\n",
    "pTest = np.concatenate((pTest0,pTest1,pTest2))\n",
    "npt = len(pTest0)\n",
    "npt"
   ]
  },
  {
   "cell_type": "code",
   "execution_count": 6,
   "metadata": {
    "colab": {
     "base_uri": "https://localhost:8080/",
     "height": 407
    },
    "colab_type": "code",
    "id": "XL0-oet4vq0U",
    "outputId": "89de1413-ff8c-403a-9b7f-5c7cbde2b024"
   },
   "outputs": [
    {
     "data": {
      "image/png": "[encoded data removed]",
      "text/plain": [
       "<Figure size 475.2x475.2 with 1 Axes>"
      ]
     },
     "metadata": {
      "needs_background": "light"
     },
     "output_type": "display_data"
    }
   ],
   "source": [
    "fig = plt.figure(figsize=[3.3*2,3.3*2])\n",
    "plt.scatter(pTest[:,0]*1e3, pTest[:,1]*1e3,s=1)\n",
    "plt.scatter(pTest[:,0]*1e3,-pTest[:,1]*1e3,s=1)\n",
    "plt.plot(ap1_x*c*1e3,ap1_y*s*1e3,alpha=0.7,c='k',lw=2)\n",
    "plt.xticks([-5,-2.5,0,2.5,5])\n",
    "plt.xlim(-ap1_x*1.3*1e3,ap1_x*1.3*1e3)\n",
    "plt.ylim(-ap1_y*1.3*1e3,ap1_y*1.3*1e3)\n",
    "plt.grid()"
   ]
  },
  {
   "cell_type": "code",
   "execution_count": 7,
   "metadata": {
    "colab": {
     "base_uri": "https://localhost:8080/",
     "height": 34
    },
    "colab_type": "code",
    "id": "1hCv1F8whDtc",
    "outputId": "ed8774c8-b1d1-4207-c566-b7a987ea6b62"
   },
   "outputs": [
    {
     "data": {
      "text/plain": [
       "dict_keys(['regular', 'chaotic'])"
      ]
     },
     "execution_count": 7,
     "metadata": {},
     "output_type": "execute_result"
    }
   ],
   "source": [
    "data = pickle.load(open(path+'/data_4_surrogate.pickle','rb'))\n",
    "data.keys()"
   ]
  },
  {
   "cell_type": "code",
   "execution_count": 8,
   "metadata": {
    "colab": {
     "base_uri": "https://localhost:8080/",
     "height": 34
    },
    "colab_type": "code",
    "id": "rNJ0BMvDmn8M",
    "outputId": "4f1af331-1dfe-4ecf-a913-a321227d8b2f"
   },
   "outputs": [
    {
     "data": {
      "text/plain": [
       "dict_keys(['inputs', 'outputs'])"
      ]
     },
     "execution_count": 8,
     "metadata": {},
     "output_type": "execute_result"
    }
   ],
   "source": [
    "data['regular'].keys()"
   ]
  },
  {
   "cell_type": "code",
   "execution_count": 9,
   "metadata": {},
   "outputs": [
    {
     "data": {
      "text/plain": [
       "[array([-0.93794949, -0.08133844,  1.59811762,  1.13538875, -1.72561006,\n",
       "        -1.50714148, -0.82422489, -0.62967339, -2.44222827, -2.21708325,\n",
       "        -1.84016845,  0.76794548]),\n",
       " array([ 0.72850738,  1.88325074,  0.12283435,  0.81260331, -0.96071658,\n",
       "        -2.70046438,  2.59700925,  0.31247915,  0.13730186, -2.63868598,\n",
       "        -2.16306279,  2.48377642])]"
      ]
     },
     "execution_count": 9,
     "metadata": {},
     "output_type": "execute_result"
    }
   ],
   "source": [
    "data['regular']['inputs'][:2]"
   ]
  },
  {
   "cell_type": "code",
   "execution_count": 10,
   "metadata": {},
   "outputs": [
    {
     "data": {
      "text/plain": [
       "[[array([  0,   7,   8,  11,  12,  13,  16,  17,  18,  19,  20,  21,  22,\n",
       "          23,  24,  29,  30,  31,  32,  33,  36,  37,  38,  39,  40,  41,\n",
       "          44,  45,  46,  47,  48,  49,  50,  51,  52,  53,  54,  55,  56,\n",
       "          57,  60,  61,  62,  63,  64,  65,  66,  67,  68,  69,  70,  71,\n",
       "          72,  73,  74,  75,  78,  79,  80,  81,  82,  83,  84,  85,  86,\n",
       "          87,  88,  89,  92,  93,  94,  95,  96,  97,  98,  99, 100, 103,\n",
       "         105, 108, 109, 110, 113, 114, 115, 116, 118, 119, 120, 122, 124,\n",
       "         125, 129, 130, 131, 132, 133, 135, 136, 137, 138, 139, 140, 141,\n",
       "         142, 143, 144, 145, 146, 148, 149, 150, 151, 152, 153, 154, 156,\n",
       "         157, 159, 161, 162, 163, 164, 167, 168, 169, 170, 171, 172, 173,\n",
       "         174, 175, 176, 178, 179, 180, 181, 183, 185, 186, 188, 189, 191,\n",
       "         194, 196, 197, 198, 201, 202, 206, 207, 208, 212, 213, 214, 215,\n",
       "         217, 218, 220, 223, 224, 229, 230, 231, 232, 236, 237, 238, 241,\n",
       "         243, 244, 250, 251, 252, 253, 254, 255, 262, 263, 264, 265, 266,\n",
       "         267, 269, 270, 279, 280, 282, 283, 284, 285, 286, 287, 298, 299,\n",
       "         300, 301, 302, 303, 304, 306, 316, 317, 318, 320, 321, 322, 323,\n",
       "         324, 332, 333, 334, 340, 343, 346]),\n",
       "  array([354, 355, 358, 359, 360, 365, 366, 367, 368, 369, 370, 371, 373,\n",
       "         374, 375, 377, 378, 379, 380, 381, 383, 384, 385, 386, 387, 388,\n",
       "         389, 391, 392, 394, 395, 396, 397, 398, 399, 400, 401, 402, 403,\n",
       "         404, 405, 406, 409, 412, 413, 414, 415, 416, 417, 418, 419, 420,\n",
       "         421, 422, 423, 424, 425, 426, 430, 431, 432, 433, 434, 435, 436,\n",
       "         437, 438, 439, 440, 441, 442, 446, 447, 448, 449, 450, 452, 453,\n",
       "         454, 457, 458, 459, 460, 463, 464, 465, 466, 469, 470, 471, 472,\n",
       "         473, 475, 476, 477, 478, 479, 481, 482, 483, 484, 485, 487, 488,\n",
       "         489, 490, 491, 492, 493, 494, 495, 498, 499, 500, 501, 503, 504,\n",
       "         505, 506, 507, 508, 509, 510, 511, 512, 513, 514, 515, 516, 517,\n",
       "         518, 519, 520, 521, 522, 523, 524, 525, 526, 528, 529, 530, 532,\n",
       "         533, 534, 535, 536, 538, 539, 540, 541, 543, 544, 545, 546, 548,\n",
       "         549, 551, 553, 554, 558, 559, 560, 564, 565, 566, 567, 569, 570,\n",
       "         571, 572, 573, 575, 576, 581, 582, 587, 593, 599, 600, 601, 602,\n",
       "         603, 604, 605, 610, 611, 612, 613, 614, 615, 616, 617, 618, 626,\n",
       "         627, 628, 629, 630, 631, 632, 633, 634, 635, 636, 637, 638, 644,\n",
       "         645, 646, 647, 648, 649, 650, 651, 652, 653, 654, 655, 656, 662,\n",
       "         663, 664, 666, 667, 668, 669, 670, 671, 672, 673, 674, 675, 676,\n",
       "         681, 682, 683, 684, 685, 686, 693, 694, 695, 700, 701]),\n",
       "  array([ 717,  733,  746,  747,  749,  752,  764,  765,  766,  770,  771,\n",
       "          785,  786,  787,  788,  795,  798,  799,  800,  801,  802,  804,\n",
       "          805,  806,  807,  808,  809,  810,  811,  812,  813,  814,  815,\n",
       "          816,  817,  818,  821,  822,  823,  824,  825,  827,  828,  829,\n",
       "          830,  833,  834,  835,  836,  839,  840,  844,  845,  859,  863,\n",
       "          867,  868,  869,  871,  872,  873,  874,  876,  877,  878,  879,\n",
       "          881,  882,  883,  884,  885,  886,  887,  888,  889,  890,  891,\n",
       "          892,  893,  894,  895,  896,  897,  898,  899,  900,  901,  902,\n",
       "          903,  906,  907,  912,  945,  951,  952,  953,  954,  955,  956,\n",
       "          962,  963,  965,  966,  978,  979,  980,  982,  984,  995,  996,\n",
       "         1011, 1015, 1016, 1018, 1020]),\n",
       "  array([0.84500712, 0.50727279, 0.31681933, 0.37872137, 0.69238626,\n",
       "         0.41475473, 0.631712  , 0.68548685, 0.87669825, 0.62659054,\n",
       "         0.80462123, 0.49869761, 0.79702524, 0.53372431, 0.91942583,\n",
       "         0.67084864, 0.47713805, 0.69319915, 0.51168467, 0.52013478,\n",
       "         0.60286622, 0.60235759, 0.35224963, 0.5462655 , 0.7742295 ,\n",
       "         0.50782417, 0.81066531, 0.44093768, 0.56219309, 0.73458901,\n",
       "         0.1484479 , 0.50996136, 0.37444125, 1.05786352, 0.64291744,\n",
       "         0.44042477, 0.32438194, 0.57076245, 0.40199548, 0.84008626,\n",
       "         0.46090328, 0.53895985, 0.36028623, 0.66277888, 0.36298703,\n",
       "         0.59131565, 0.3376496 , 0.58652863, 0.60525351, 0.49704697,\n",
       "         0.74948873, 0.60930095, 0.75082145, 0.48768283, 0.98602681,\n",
       "         0.81294146, 0.30286392, 0.62814546, 0.63631136, 0.47382419,\n",
       "         0.40607812, 0.17295779, 0.42560526, 0.53950151, 0.5268315 ,\n",
       "         0.47684769, 0.4903991 , 0.53063616, 1.27637151, 0.78947821,\n",
       "         0.44800221, 0.39149182, 0.41941525, 0.48123012, 0.46940122,\n",
       "         0.62045697, 0.47325449, 0.85837807, 0.77909889, 0.71495512,\n",
       "         1.07228812, 0.49678454, 0.39028801, 0.50761735, 0.61013211,\n",
       "         0.56367154, 1.28388885, 0.46086019, 0.29559051, 0.76039049,\n",
       "         1.10409342, 0.53031567, 0.22001768, 0.45674915, 0.89967323,\n",
       "         0.83751444, 0.70624402, 0.21789709, 0.36900613, 0.83704697,\n",
       "         0.44360752, 1.50692426, 0.54266584, 0.45990922, 0.76244337,\n",
       "         0.54445838, 1.15406677, 0.50396425, 0.83277631, 0.44954683,\n",
       "         0.80299219, 1.264692  , 0.26253862, 0.77678221, 1.33242497,\n",
       "         0.80210236, 0.22937357, 0.44088298, 0.99513383, 0.5078858 ,\n",
       "         0.47839232, 0.6641135 , 0.94465847, 0.83034244, 0.97514296,\n",
       "         0.14408228, 0.67551338, 0.43323869, 0.85112957, 0.21909681,\n",
       "         0.11807353, 0.98710526, 0.08559149, 0.60733734, 0.2150663 ,\n",
       "         0.96049249, 0.424084  , 0.57827312, 0.58776131, 0.12923288,\n",
       "         0.51941306, 0.2190542 , 0.39151523, 0.72932593, 0.80433302,\n",
       "         0.86526571, 0.17192086, 0.43704549, 0.24380539, 0.44575706,\n",
       "         0.40341815, 0.78976334, 0.6511516 , 1.02733284, 0.90141275,\n",
       "         0.81941061, 0.54165214, 0.49877023, 0.36627661, 0.78467278,\n",
       "         1.64459903, 0.31057411, 0.6899871 , 0.93683363, 1.29071722,\n",
       "         0.9841514 , 0.94704959, 0.39718373, 0.44444157, 0.88109766,\n",
       "         0.42404622, 0.27745827, 0.2952965 , 0.71191295, 0.75298157,\n",
       "         0.74751449, 0.87560431, 0.53194626, 0.34422427, 0.54521147,\n",
       "         0.60962123, 0.63608473, 0.69151487, 0.73426843, 0.70023183,\n",
       "         0.67041816, 0.27862909, 0.455971  , 0.30550741, 0.78759056,\n",
       "         0.40297153, 0.66324263, 0.32665574, 0.56720775, 0.61934571,\n",
       "         0.47793288, 0.56500039, 0.65660732, 0.62745195, 0.63325902,\n",
       "         0.76949352, 0.69661958, 0.66957972, 0.78809484, 0.62464433,\n",
       "         0.63045735, 0.32521527, 0.27616825, 0.15264378, 0.42604144,\n",
       "         0.69542353, 0.71555613, 0.66753171, 0.30814202, 0.42078394]),\n",
       "  array([0.91645857, 0.58773409, 0.58909059, 0.56060992, 1.07980149,\n",
       "         0.66251293, 1.17093205, 1.07772011, 0.69438567, 0.11692871,\n",
       "         0.31786409, 0.48931859, 0.72333314, 0.66147146, 1.04000712,\n",
       "         0.45410426, 0.48143907, 0.27671858, 0.10350443, 0.51530509,\n",
       "         0.51857681, 0.39851682, 0.40429584, 0.66195701, 0.63826197,\n",
       "         0.97191857, 0.71993725, 0.95648488, 0.58500669, 0.16273455,\n",
       "         0.20046203, 0.67537443, 0.44054413, 0.63939686, 0.60123011,\n",
       "         0.71745327, 0.38393503, 0.262294  , 0.57371271, 0.22025916,\n",
       "         0.58346282, 0.65280157, 1.095354  , 0.47932374, 0.61980917,\n",
       "         0.51179603, 0.51573267, 0.31721348, 0.30344803, 0.462359  ,\n",
       "         0.36362754, 0.43833167, 0.64420868, 0.60731962, 0.60566019,\n",
       "         0.79682453, 0.75342777, 1.09228189, 0.19656296, 0.14275951,\n",
       "         0.13642163, 0.46401534, 0.14701557, 0.53352219, 0.65932472,\n",
       "         0.71491038, 0.37478867, 0.67452651, 0.31457395, 0.56322206,\n",
       "         0.96376948, 0.02242275, 0.08357503, 0.17472952, 0.44235996,\n",
       "         0.17690331, 0.469585  , 0.39082933, 0.74873876, 0.73128474,\n",
       "         0.91532672, 0.69887545, 1.02598969, 0.93044154, 0.88240686,\n",
       "         0.40776648, 0.31991913, 0.86219811, 1.08826052, 0.34564195,\n",
       "         0.51015973, 0.94438564, 0.71718003, 0.74771065, 0.96264856,\n",
       "         0.27548024, 0.9247859 , 0.75499053, 0.4063499 , 1.22201499,\n",
       "         0.42658241, 0.41635388, 0.51121721, 0.66471958, 0.18032512,\n",
       "         0.45019554, 0.71221912, 0.94266023, 0.76728509, 1.19447289,\n",
       "         0.88259914, 0.30524729, 0.4700449 , 0.85830168, 0.18697513,\n",
       "         0.30354428, 0.30257828, 0.72719148, 0.36465178, 0.76147931,\n",
       "         0.23395347, 0.20181359, 0.20728206, 0.38610168, 0.44851864,\n",
       "         0.62348396, 0.21995215, 1.10476204, 0.29461406, 1.03537058,\n",
       "         0.68000168, 1.09267252, 1.15447143, 1.02620393, 1.18810084,\n",
       "         0.45514513, 1.0118627 , 0.57413284, 0.33253497, 0.93699746,\n",
       "         0.30075992, 0.93976506, 0.4756053 , 0.65179492, 0.13775958,\n",
       "         0.97837062, 0.51725347, 0.98751092, 0.15488914, 0.56847088,\n",
       "         0.55390716, 0.89586978, 0.7346038 , 0.32025488, 1.12810251,\n",
       "         1.01259007, 0.29395845, 0.56377876, 1.05221735, 0.37102728,\n",
       "         1.01838603, 0.83212901, 1.07948575, 0.36543275, 0.7852255 ,\n",
       "         0.55673253, 0.44886707, 0.48199139, 0.39913699, 0.43996839,\n",
       "         0.37926167, 1.02542246, 0.60261517, 0.23570372, 0.41698835,\n",
       "         0.32272333, 0.9605083 , 0.54661941, 0.1453534 , 0.09171899,\n",
       "         0.50637292, 0.12076812, 0.03397674, 0.33729144, 0.6425063 ,\n",
       "         0.3363584 , 0.26747304, 0.16835286, 0.08856738, 0.50851023,\n",
       "         0.11563832, 0.29001007, 0.50493909, 0.73255138, 0.27401148,\n",
       "         0.34341136, 0.07510755, 0.60053466, 0.53176394, 0.63726348,\n",
       "         0.34341539, 0.28369421, 0.76695422, 0.64744162, 0.53054575,\n",
       "         0.56662643, 0.2632977 , 0.0575641 , 0.17641694, 0.66603675,\n",
       "         0.70961468, 0.66724932, 0.45514679, 0.47761741, 0.48232187,\n",
       "         0.34020981, 0.66020389, 0.81309078, 0.65750515, 0.63544535,\n",
       "         0.12062324, 0.31007883, 0.58858002, 0.94984903, 0.22505335,\n",
       "         0.64242137, 0.47371713, 0.70586971, 0.72798248, 0.72426577,\n",
       "         0.75223517, 0.70346433, 0.94964739, 0.57083493, 0.73974628,\n",
       "         0.33635824, 0.69292087, 0.64657598, 0.58193539, 0.69590648,\n",
       "         0.65389927, 0.51394081, 0.74777596, 0.59760941, 0.53197297]),\n",
       "  array([0.72519004, 0.36758734, 1.06130983, 0.74961368, 0.49844062,\n",
       "         0.66497042, 0.37528688, 0.62460818, 0.71072098, 0.37309025,\n",
       "         1.31572357, 0.48194426, 0.48334721, 0.37241229, 0.09154569,\n",
       "         1.11514688, 0.64395632, 1.05921511, 0.53570913, 0.40670756,\n",
       "         0.49923652, 0.30416318, 0.96580405, 0.50217723, 0.58629314,\n",
       "         1.04719697, 0.41226116, 0.31101371, 1.05779548, 0.54410146,\n",
       "         0.83010043, 0.30691239, 0.71237207, 1.03514861, 0.62155458,\n",
       "         0.9358137 , 0.34662604, 0.48875105, 0.42589273, 0.58689021,\n",
       "         0.78594162, 0.98156042, 0.25895165, 0.2875554 , 0.80686721,\n",
       "         0.65804207, 0.68018143, 0.50899221, 0.52923778, 0.38924303,\n",
       "         1.20279878, 0.3513104 , 1.09733562, 0.55476321, 0.73780778,\n",
       "         0.29942127, 1.27751454, 0.1443802 , 0.89411543, 0.06916645,\n",
       "         1.30646928, 0.71557874, 0.97365247, 0.97063152, 1.03898749,\n",
       "         0.42971974, 0.77597248, 1.23181037, 0.68793921, 0.34905396,\n",
       "         0.32368393, 1.29261727, 0.23563823, 0.26218217, 0.4444435 ,\n",
       "         0.78593356, 0.87058397, 0.91271502, 1.33809549, 0.69297074,\n",
       "         1.12666323, 1.19477525, 1.01749   , 1.29819782, 0.61190124,\n",
       "         0.66436013, 0.32289853, 0.97065294, 1.36551204, 0.50985674,\n",
       "         1.09769626, 0.30493925, 0.66088844, 0.51313762, 0.51232202,\n",
       "         0.4820255 , 0.18177771, 0.44481392, 0.72914968, 0.68024441,\n",
       "         0.59731214, 0.36552782, 0.8705342 , 0.1021073 , 0.09813123,\n",
       "         0.50266891, 0.52438886, 0.5394678 , 0.78889697, 0.85248682,\n",
       "         0.42224157, 0.42903358, 0.68514646, 0.80131663, 0.83754767])],\n",
       " [array([  0,   1,   2,   5,   6,   7,  12,  13,  14,  15,  16,  17,  18,\n",
       "          21,  23,  25,  26,  27,  28,  29,  30,  31,  32,  33,  34,  35,\n",
       "          36,  37,  38,  43,  44,  45,  46,  47,  48,  49,  51,  52,  53,\n",
       "          54,  58,  60,  61,  62,  63,  64,  65,  66,  67,  68,  69,  70,\n",
       "          71,  73,  76,  78,  79,  80,  81,  82,  83,  84,  85,  86,  87,\n",
       "          88,  89,  90,  93,  94,  95,  96,  97,  98,  99, 100, 102, 103,\n",
       "         105, 106, 107, 108, 109, 111, 112, 113, 114, 117, 118, 119, 120,\n",
       "         121, 122, 123, 124, 125, 126, 127, 128, 129, 130, 131, 132, 133,\n",
       "         134, 135, 136, 137, 138, 139, 140, 141, 142, 143, 144, 145, 146,\n",
       "         147, 148, 149, 150, 151, 152, 153, 154, 155, 156, 157, 158, 159,\n",
       "         160, 161, 162, 163, 164, 165, 166, 167, 168, 169, 170, 171, 172,\n",
       "         173, 174, 175, 176, 177, 178, 179, 180, 181, 182, 183, 184, 185,\n",
       "         186, 187, 188, 189, 190, 191, 192, 193, 194, 195, 196, 197, 198,\n",
       "         199, 201, 202, 203, 204, 206, 207, 208, 209, 210, 212, 213, 214,\n",
       "         215, 216, 217, 218, 219, 220, 221, 222, 223, 224, 225, 226, 227,\n",
       "         229, 230, 231, 232, 233, 234, 235, 236, 237, 238, 239, 240, 241,\n",
       "         242, 243, 244, 245, 246, 247, 248, 249, 250, 251, 252, 253, 254,\n",
       "         255, 256, 257, 258, 259, 260, 261, 262, 263, 264, 265, 266, 267,\n",
       "         268, 269, 270, 274, 275, 276, 277, 278, 279, 280, 281, 282, 283,\n",
       "         287, 292, 293, 294, 295, 296, 297, 298, 299, 300, 301, 304, 311,\n",
       "         314, 315, 316, 317, 319, 322, 327, 328, 329, 330, 331, 340, 347]),\n",
       "  array([353, 354, 357, 358, 359, 365, 367, 368, 377, 378, 379, 380, 381,\n",
       "         382, 383, 384, 385, 386, 390, 391, 392, 394, 395, 396, 397, 398,\n",
       "         399, 400, 401, 402, 405, 406, 407, 408, 410, 411, 412, 413, 414,\n",
       "         415, 416, 417, 418, 419, 420, 421, 422, 423, 424, 425, 426, 427,\n",
       "         428, 430, 431, 432, 433, 434, 435, 436, 437, 438, 439, 440, 441,\n",
       "         442, 443, 444, 446, 447, 448, 449, 450, 451, 452, 453, 454, 455,\n",
       "         457, 458, 459, 460, 461, 462, 463, 464, 465, 466, 467, 468, 469,\n",
       "         470, 471, 472, 473, 474, 475, 476, 477, 478, 479, 480, 481, 482,\n",
       "         483, 484, 485, 486, 487, 488, 489, 490, 491, 492, 493, 494, 495,\n",
       "         496, 497, 498, 499, 500, 501, 502, 503, 504, 505, 506, 507, 508,\n",
       "         509, 510, 511, 512, 513, 514, 515, 516, 517, 518, 519, 520, 521,\n",
       "         522, 523, 524, 525, 526, 527, 528, 529, 530, 531, 532, 533, 534,\n",
       "         535, 536, 537, 538, 539, 540, 541, 542, 543, 544, 545, 546, 548,\n",
       "         549, 550, 551, 553, 554, 555, 556, 558, 559, 560, 561, 562, 564,\n",
       "         565, 566, 567, 568, 569, 570, 571, 572, 573, 574, 575, 576, 577,\n",
       "         578, 580, 581, 582, 583, 587, 588, 593, 594, 599, 600, 601, 602,\n",
       "         603, 604, 605, 606, 610, 611, 612, 613, 614, 615, 616, 617, 618,\n",
       "         619, 620, 621, 626, 627, 628, 629, 630, 631, 632, 633, 635, 637,\n",
       "         644, 645, 646, 647, 648, 649, 650, 651, 652, 653, 654, 655, 657,\n",
       "         662, 663, 664, 665, 666, 667, 668, 670, 671, 672, 679, 680, 681,\n",
       "         683, 684, 685, 692, 696]),\n",
       "  array([ 746,  747,  748,  749,  750,  753,  757,  764,  765,  766,  767,\n",
       "          768,  770,  771,  772,  774,  782,  783,  786,  787,  788,  789,\n",
       "          790,  796,  800,  801,  802,  806,  807,  809,  810,  812,  816,\n",
       "          821,  826,  833,  834,  835,  836,  838,  839,  841,  842,  844,\n",
       "          845,  847,  848,  849,  850,  851,  852,  853,  856,  857,  858,\n",
       "          859,  861,  862,  863,  864,  867,  868,  869,  873,  874,  878,\n",
       "          879,  945,  951,  952,  953,  954,  955,  962,  963,  965,  966,\n",
       "          967,  970,  971,  972,  983,  987,  996,  997, 1002, 1006, 1014,\n",
       "         1015, 1016, 1017, 1020, 1036, 1046]),\n",
       "  array([0.65288148, 0.83519693, 0.85151252, 0.71073062, 0.70857916,\n",
       "         0.28266602, 0.50232392, 0.50652468, 0.71159911, 0.60126938,\n",
       "         0.53526125, 0.62605593, 0.18715833, 0.45312764, 0.75389571,\n",
       "         0.43843133, 0.60750725, 0.45485559, 0.67513541, 0.73919932,\n",
       "         0.60860526, 0.64229785, 0.5199037 , 0.82399529, 0.61814248,\n",
       "         0.3113326 , 0.70319428, 0.80713677, 0.25963985, 0.57399889,\n",
       "         0.53178346, 0.58172604, 0.55162284, 0.09042662, 0.47843191,\n",
       "         0.90632976, 0.7592776 , 0.68909043, 0.42731077, 0.36920539,\n",
       "         0.58096838, 0.51232215, 0.50306409, 0.54005322, 0.46908059,\n",
       "         0.64905504, 0.06143504, 0.48926102, 0.75342384, 0.69892157,\n",
       "         0.49689257, 0.46590691, 0.40151563, 0.56581832, 0.38036636,\n",
       "         0.50790818, 0.58368803, 0.60192402, 0.47564189, 0.38265742,\n",
       "         0.32799137, 0.1173828 , 0.47617082, 0.50201403, 0.52438057,\n",
       "         0.70223374, 0.40132973, 0.70330666, 0.43971529, 0.34113707,\n",
       "         0.15072428, 0.27334462, 0.28901965, 0.50060618, 0.34555504,\n",
       "         0.45162254, 0.57318717, 0.66146987, 0.41706211, 0.56258801,\n",
       "         1.06266249, 0.67196728, 0.93846497, 0.7088259 , 0.93336997,\n",
       "         0.92577856, 0.34056651, 0.86348648, 0.46790066, 0.76912372,\n",
       "         1.00924721, 0.8898869 , 0.98871334, 0.25502497, 0.79302766,\n",
       "         0.76570641, 0.90200988, 0.59451903, 0.74517074, 0.37051536,\n",
       "         0.92515044, 0.75742826, 0.60861727, 0.43933395, 0.66699063,\n",
       "         0.24217503, 0.94767235, 0.40331285, 0.97683279, 0.23207891,\n",
       "         0.3843983 , 0.54476001, 1.0820574 , 0.33144582, 0.96436126,\n",
       "         1.18658651, 0.46645453, 0.46431963, 0.66338631, 0.88471811,\n",
       "         0.77301437, 0.32489511, 0.31749772, 0.74481498, 0.62638209,\n",
       "         0.92348243, 0.33391475, 0.54143759, 0.71637294, 0.50116041,\n",
       "         0.6596148 , 0.061424  , 0.38491996, 0.41356105, 0.70665034,\n",
       "         0.99027087, 0.31836766, 0.72650962, 0.30614042, 1.01739798,\n",
       "         0.4960268 , 0.23052362, 0.59019707, 0.97576244, 0.56610898,\n",
       "         0.39017876, 0.43547822, 0.93878006, 0.92467045, 0.47145675,\n",
       "         0.46117376, 0.38654025, 0.93644561, 0.22833684, 0.43590785,\n",
       "         0.95832112, 0.31556898, 0.97083323, 0.4516847 , 0.51229747,\n",
       "         0.95255456, 0.92320852, 0.79374865, 0.69153264, 0.42379052,\n",
       "         1.0765832 , 0.31446132, 0.69113255, 0.89119478, 0.15054426,\n",
       "         0.86431552, 1.00558851, 0.69647444, 0.36506205, 0.25972486,\n",
       "         0.81612934, 0.63014142, 0.65804538, 0.33023364, 0.85745819,\n",
       "         0.81649291, 0.63194465, 0.67846067, 0.682152  , 0.44457135,\n",
       "         0.52308395, 0.5488116 , 0.71987476, 0.66265303, 1.12557581,\n",
       "         0.57912196, 0.45949215, 0.74470997, 0.56653136, 0.67001376,\n",
       "         0.85725506, 0.94177199, 1.03494415, 0.30059923, 0.27551301,\n",
       "         1.19781354, 0.47626441, 0.59082533, 0.45272883, 1.0296289 ,\n",
       "         0.61434603, 0.18315473, 0.74050959, 0.34304488, 1.07010057,\n",
       "         0.53248192, 0.78819723, 0.67819622, 0.57723724, 0.40990469,\n",
       "         0.36774653, 0.10657293, 0.56010069, 0.53511636, 0.70821261,\n",
       "         0.95550474, 0.6976866 , 0.73023774, 0.65543383, 0.65656128,\n",
       "         0.71456391, 0.62059297, 0.05632653, 0.28704806, 0.57267807,\n",
       "         0.41409231, 0.58460706, 0.12855073, 0.31364778, 0.80791284,\n",
       "         0.6598805 , 0.90008357, 0.54181251, 0.4030183 , 0.1435395 ,\n",
       "         0.78541586, 0.33304435, 0.52504126, 0.32693397, 0.59906696,\n",
       "         0.40709587, 0.61323557, 0.63338544, 0.55922744, 0.55591467,\n",
       "         0.53193996, 0.11403931, 0.77206295, 0.60295003, 0.29715456,\n",
       "         0.36540258, 1.07738091, 0.54421776, 1.10158628, 0.66761012,\n",
       "         0.75247917, 0.65688469, 0.57001982, 0.73202866, 0.62924816,\n",
       "         0.47623034, 0.2309452 , 0.660996  , 0.46508768, 0.70839598,\n",
       "         0.73057737, 0.80173598, 0.56070489]),\n",
       "  array([0.55548717, 0.61684818, 0.36605734, 0.31839902, 0.26346372,\n",
       "         0.62954143, 0.75282045, 0.36044715, 0.32342014, 0.24942995,\n",
       "         0.39736744, 0.26327009, 0.41718878, 0.33733543, 0.55734006,\n",
       "         0.60149233, 0.46282412, 0.57436541, 0.72339538, 1.00186209,\n",
       "         0.90017465, 0.49354684, 0.27322488, 0.18625472, 0.14043063,\n",
       "         0.35324009, 0.44904575, 0.79946007, 0.52770594, 0.28691324,\n",
       "         0.5157312 , 0.45773804, 0.40571612, 0.56834621, 0.17104012,\n",
       "         0.90909255, 0.02422371, 0.14115946, 0.24102088, 0.54130979,\n",
       "         0.56466888, 0.25900566, 0.36015638, 0.63047371, 0.5619089 ,\n",
       "         0.59423105, 0.70101652, 0.44278666, 0.71197424, 1.17040091,\n",
       "         0.39698896, 0.54871735, 0.51875199, 0.23791926, 0.26643025,\n",
       "         0.38207882, 0.35665294, 0.39173795, 0.60933601, 0.51592736,\n",
       "         0.54076275, 0.38479081, 0.55036713, 0.53702989, 0.72966283,\n",
       "         0.27212676, 0.79623698, 0.67781702, 0.37649857, 0.36322429,\n",
       "         0.25652561, 0.11958342, 0.39476937, 0.60457865, 0.48147157,\n",
       "         0.47677586, 0.82188155, 0.77583895, 0.79770285, 0.45822144,\n",
       "         0.97927164, 0.81073352, 0.94261186, 0.29851005, 0.96578183,\n",
       "         0.38128528, 0.32332802, 1.10105758, 0.61884755, 1.28824179,\n",
       "         0.4774987 , 0.84352035, 1.10402712, 0.59775028, 0.92704404,\n",
       "         0.52360123, 0.31687777, 0.61589603, 0.46702167, 0.76922163,\n",
       "         0.98185351, 0.42347028, 0.75006988, 0.63486746, 0.47155814,\n",
       "         0.24360073, 0.26528452, 0.19714067, 0.50457997, 0.22233899,\n",
       "         0.19481315, 0.3941659 , 0.3150336 , 0.83223999, 0.23221312,\n",
       "         0.16021081, 0.17670445, 0.52756593, 1.04134586, 1.02192336,\n",
       "         0.42642294, 0.7666184 , 0.18296901, 1.02823118, 0.94041651,\n",
       "         1.01045901, 0.51316178, 0.08279356, 1.13531317, 0.65511742,\n",
       "         0.59151659, 1.06735506, 0.34511293, 1.11274285, 0.75348693,\n",
       "         0.98886171, 0.8699139 , 0.40366882, 0.60329177, 0.88387957,\n",
       "         0.86611672, 0.10686935, 0.57614941, 0.35883009, 0.88399007,\n",
       "         1.05936323, 1.06578029, 1.18100695, 0.31677432, 0.65922174,\n",
       "         1.06230559, 0.50694491, 0.76515745, 0.81332075, 0.453937  ,\n",
       "         0.98560564, 0.68284482, 1.22898932, 1.11400941, 0.52739278,\n",
       "         0.79198433, 0.55300953, 0.77718868, 1.32222438, 0.28475685,\n",
       "         0.61784807, 0.60746164, 0.54630291, 0.90382667, 0.74170908,\n",
       "         0.56305776, 0.52366038, 0.63599811, 1.0689366 , 0.53752731,\n",
       "         0.45117372, 0.81582714, 0.12418508, 0.35881386, 0.51266332,\n",
       "         0.96654628, 0.93116402, 0.6103486 , 0.406575  , 0.45801101,\n",
       "         1.14172678, 0.75080484, 0.4987984 , 0.28741214, 0.77779855,\n",
       "         0.7657628 , 0.31723003, 0.89080484, 0.86507554, 0.688043  ,\n",
       "         0.66652412, 0.55802372, 0.40360235, 0.88036289, 0.7040885 ,\n",
       "         0.92218263, 0.6255783 , 0.42355881, 0.72763749, 0.54279256,\n",
       "         0.53959552, 0.15427657, 0.5074201 , 0.45195087, 0.33462268,\n",
       "         0.63603541, 0.87002589, 0.31856084, 0.40454685, 0.50028236,\n",
       "         0.28408773, 0.54408515, 0.59376222, 0.33776805, 0.46977876,\n",
       "         0.69618093, 0.97173481, 0.81169632, 0.58979179, 0.23453582,\n",
       "         0.29540526, 0.39936191, 0.4162839 , 0.50126741, 0.37583067,\n",
       "         0.45659819, 0.43231409, 0.4495647 , 0.54488181, 0.5572272 ,\n",
       "         0.58349847, 0.41074524, 0.18381292, 0.61005312, 0.65461817,\n",
       "         0.62926239, 0.59890077, 0.67752594, 0.82770966, 0.75401689,\n",
       "         0.67664553, 0.99030354, 0.15868118, 0.19711869, 0.335082  ,\n",
       "         0.5797403 , 0.49386151, 0.61574714, 0.34389022, 0.24203686,\n",
       "         0.68170389, 0.37014568, 0.37689497, 0.72277484, 0.43768404,\n",
       "         0.71457375, 0.59880586, 0.74146274, 0.80984014, 0.81563187]),\n",
       "  array([0.36619986, 0.39502828, 0.58179677, 0.41641777, 0.46777349,\n",
       "         1.3791284 , 0.7191048 , 0.50337944, 0.51310095, 0.47619382,\n",
       "         0.58331521, 0.57599098, 0.93048023, 0.15861154, 0.88605208,\n",
       "         0.192398  , 0.54800978, 0.36158004, 0.88578357, 0.15188893,\n",
       "         0.83590699, 0.46292531, 0.17323568, 0.72206529, 0.35252353,\n",
       "         0.45072818, 0.51650778, 0.35236482, 0.84905543, 0.54538059,\n",
       "         0.54231751, 0.59960241, 0.6343601 , 0.37270865, 1.00185433,\n",
       "         0.88152605, 0.62297964, 0.24637015, 0.92557034, 0.88440045,\n",
       "         0.54619998, 0.1201565 , 0.68935462, 0.30298468, 0.40324176,\n",
       "         0.30218228, 0.72301086, 0.43029409, 0.8648091 , 0.85099663,\n",
       "         1.15652843, 0.20746752, 0.93649628, 0.41661639, 1.48546028,\n",
       "         0.83131848, 0.90669774, 0.21083141, 0.71603267, 0.65622876,\n",
       "         0.39517448, 0.6317623 , 0.78680564, 0.6215787 , 0.91221487,\n",
       "         1.09537507, 0.74661483, 0.50109621, 0.41189756, 0.48482375,\n",
       "         0.47207646, 0.30780344, 0.89072262, 0.45793858, 0.950656  ,\n",
       "         0.55288148, 0.37526311, 0.17582936, 1.04069639, 0.74926945,\n",
       "         0.76565522, 0.61665773, 0.60005509, 0.59422567, 0.34964137,\n",
       "         0.62514993, 0.54951424, 0.60740338, 0.43531952, 0.40084691,\n",
       "         0.60629828, 0.59786063, 0.59919801, 0.91224909])]]"
      ]
     },
     "execution_count": 10,
     "metadata": {},
     "output_type": "execute_result"
    }
   ],
   "source": [
    "data['regular']['outputs'][:2]"
   ]
  },
  {
   "cell_type": "markdown",
   "metadata": {},
   "source": [
    "## Re-struct data into model input and output"
   ]
  },
  {
   "cell_type": "markdown",
   "metadata": {},
   "source": [
    "#### regular "
   ]
  },
  {
   "cell_type": "code",
   "execution_count": 11,
   "metadata": {
    "colab": {},
    "colab_type": "code",
    "id": "Ae-WXSQ3pP6g"
   },
   "outputs": [
    {
     "name": "stdout",
     "output_type": "stream",
     "text": [
      "[0. 0. 0. 0. 0. 0. 0. 0. 0. 0. 0. 0.]\n"
     ]
    }
   ],
   "source": [
    "data_list = []\n",
    "\n",
    "for i in range(len(data['regular']['outputs'])):\n",
    "    inputs = data['regular']['inputs'][i].astype(np.float32)\n",
    "    if np.all(inputs == np.zeros(12)):\n",
    "        print(inputs)\n",
    "        continue\n",
    "    outputs = data['regular']['outputs'][i]\n",
    "    indx = outputs[:3]\n",
    "    diff = outputs[3:]\n",
    "    nptNaN = [np.sum(np.isnan(diff[i])) for i in range(3)]\n",
    "    if np.sum(nptNaN) > 0:\n",
    "        print(i)\n",
    "    diffSum0 = np.array([np.nansum(diff[i]) for i in range(3)])\n",
    "    diffSum1 = diffSum0+ np.array([np.nanmax(diff[i])*(npt-len(indx[i])+nptNaN[i]) for i in range(3)])\n",
    "    diffMean = [diffSum1[i]/npt for i in range(3)]\n",
    "    obj = np.log10(0.15*diffMean[0] +0.7*diffMean[1] +0.15*diffMean[2])\n",
    "    data_list.append([inputs, np.array([obj])])\n",
    "    \n",
    "data_list = np.array(data_list)    "
   ]
  },
  {
   "cell_type": "code",
   "execution_count": 12,
   "metadata": {},
   "outputs": [],
   "source": [
    "regular_outputs = np.concatenate(data_list[:, 1],axis=0)"
   ]
  },
  {
   "cell_type": "code",
   "execution_count": 13,
   "metadata": {},
   "outputs": [
    {
     "data": {
      "image/png": "[encoded data removed]",
      "text/plain": [
       "<Figure size 432x288 with 1 Axes>"
      ]
     },
     "metadata": {
      "needs_background": "light"
     },
     "output_type": "display_data"
    }
   ],
   "source": [
    "plt.hist(regular_outputs,bins=25);"
   ]
  },
  {
   "cell_type": "markdown",
   "metadata": {},
   "source": [
    "#### chaotic"
   ]
  },
  {
   "cell_type": "code",
   "execution_count": 14,
   "metadata": {
    "colab": {},
    "colab_type": "code",
    "id": "QF7hOjGeVEDM"
   },
   "outputs": [],
   "source": [
    "min_ragular_obj = np.min(regular_outputs)\n",
    "max_ragular_obj = np.max(regular_outputs)\n",
    "ave_ragular_obj = np.mean(regular_outputs)\n",
    "std_reguar_obj  = np.std(regular_outputs)\n",
    "\n",
    "data_list = data_list.tolist()\n",
    "for i in range(len(data['chaotic']['outputs'])):\n",
    "    inputs = data['chaotic']['inputs'][i].astype(np.float32)\n",
    "    nturn  = data['chaotic']['outputs'][i][0]\n",
    "    nptLive= data['chaotic']['outputs'][i][1]\n",
    "    obj = ave_ragular_obj + 2.0*std_reguar_obj  + (0.9*(1.0-nturn/100.0) + 0.1*(1.0 -nptLive/(3.0*npt*0.5)))*2.0*std_reguar_obj\n",
    "    data_list.append([inputs, np.array([obj])])\n",
    "    \n",
    "data_list = np.array(data_list)    "
   ]
  },
  {
   "cell_type": "code",
   "execution_count": 15,
   "metadata": {},
   "outputs": [
    {
     "data": {
      "text/plain": [
       "(-0.25753430901152413, 0.09389589164123935, 0.04793296137081666)"
      ]
     },
     "execution_count": 15,
     "metadata": {},
     "output_type": "execute_result"
    }
   ],
   "source": [
    "min_ragular_obj, max_ragular_obj, std_reguar_obj"
   ]
  },
  {
   "cell_type": "code",
   "execution_count": 16,
   "metadata": {},
   "outputs": [
    {
     "data": {
      "text/plain": [
       "(-0.25753430901152413, 0.10726335466740622, 0.07780442037849952)"
      ]
     },
     "execution_count": 16,
     "metadata": {},
     "output_type": "execute_result"
    }
   ],
   "source": [
    "outputs = np.concatenate(data_list[:, 1],axis=0)\n",
    "\n",
    "min_obj = np.min(outputs)\n",
    "max_obj = np.max(outputs)\n",
    "std_obj  = np.std(outputs)\n",
    "min_obj, max_obj, std_obj"
   ]
  },
  {
   "cell_type": "code",
   "execution_count": 17,
   "metadata": {
    "scrolled": true
   },
   "outputs": [
    {
     "data": {
      "image/png": "[encoded data removed]",
      "text/plain": [
       "<Figure size 432x288 with 1 Axes>"
      ]
     },
     "metadata": {
      "needs_background": "light"
     },
     "output_type": "display_data"
    }
   ],
   "source": [
    "plt.hist(outputs,bins=25);"
   ]
  },
  {
   "cell_type": "code",
   "execution_count": 18,
   "metadata": {},
   "outputs": [],
   "source": [
    "restructured_data = [copy(data_list)]"
   ]
  },
  {
   "cell_type": "code",
   "execution_count": 19,
   "metadata": {},
   "outputs": [],
   "source": [
    "def restruct_data(data):\n",
    "    data_list = []\n",
    "    for i in range(len(data['regular']['outputs'])):\n",
    "        inputs = data['regular']['inputs'][i].astype(np.float32)\n",
    "        outputs = data['regular']['outputs'][i]\n",
    "        indx = outputs[:3]\n",
    "        diff = outputs[3:]\n",
    "        nptNaN = [np.sum(np.isnan(diff[i])) for i in range(3)]\n",
    "        diffSum0 = np.array([np.nansum(diff[i]) for i in range(3)])\n",
    "        diffSum1 = diffSum0+ np.array([np.nanmax(diff[i])*(npt-len(indx[i])+nptNaN[i]) for i in range(3)])\n",
    "        diffMean = [diffSum1[i]/npt for i in range(3)]\n",
    "        obj = np.log10(0.15*diffMean[0] +0.7*diffMean[1] +0.15*diffMean[2])\n",
    "        data_list.append([inputs, np.array([obj])])\n",
    "\n",
    "    for i in range(len(data['chaotic']['outputs'])):\n",
    "        inputs = data['chaotic']['inputs'][i].astype(np.float32)\n",
    "        nturn  = data['chaotic']['outputs'][i][0]\n",
    "        nptLive= data['chaotic']['outputs'][i][1]\n",
    "        obj = ave_ragular_obj + 2.0*std_reguar_obj  + (0.9*(1.0-nturn/100.0) + 0.1*(1.0 -nptLive/(3.0*npt*0.5)))*2.0*std_reguar_obj\n",
    "        data_list.append([inputs, np.array([obj])])\n",
    "    \n",
    "    return np.array(data_list)"
   ]
  },
  {
   "cell_type": "markdown",
   "metadata": {},
   "source": [
    "### shuffle"
   ]
  },
  {
   "cell_type": "code",
   "execution_count": 20,
   "metadata": {},
   "outputs": [],
   "source": [
    "argShuffle = np.arange(len(data_list[:, 1]))\n",
    "np.random.shuffle(argShuffle)"
   ]
  },
  {
   "cell_type": "code",
   "execution_count": 21,
   "metadata": {},
   "outputs": [],
   "source": [
    "data_list = data_list[argShuffle,:]"
   ]
  },
  {
   "cell_type": "code",
   "execution_count": 22,
   "metadata": {},
   "outputs": [
    {
     "data": {
      "image/png": "[encoded data removed]",
      "text/plain": [
       "<Figure size 432x288 with 1 Axes>"
      ]
     },
     "metadata": {
      "needs_background": "light"
     },
     "output_type": "display_data"
    }
   ],
   "source": [
    "plt.hist(np.concatenate(data_list[:, 1],axis=0),bins=25);"
   ]
  },
  {
   "cell_type": "code",
   "execution_count": 23,
   "metadata": {},
   "outputs": [
    {
     "data": {
      "image/png": "[encoded data removed]",
      "text/plain": [
       "<Figure size 432x288 with 1 Axes>"
      ]
     },
     "metadata": {
      "needs_background": "light"
     },
     "output_type": "display_data"
    }
   ],
   "source": [
    "plt.hist(np.concatenate(data_list[:nSample_0th_iter, 1],axis=0),bins=25);"
   ]
  },
  {
   "cell_type": "markdown",
   "metadata": {},
   "source": [
    "## Normalize Data"
   ]
  },
  {
   "cell_type": "code",
   "execution_count": 24,
   "metadata": {
    "colab": {
     "base_uri": "https://localhost:8080/",
     "height": 282
    },
    "colab_type": "code",
    "id": "-jZbr3vOW7XA",
    "outputId": "7820a93d-98b1-48f6-ddd7-2caace3d3f58"
   },
   "outputs": [],
   "source": [
    "# # std of integrated sextupole strength of each multipolekick is 2.0\n",
    "# data_list[:,0] = data_list[:,0]/2.0\n",
    "\n",
    "# std_normalization = [np.std(data_list[:,1])]\n",
    "# mean_normalization = [np.mean(data_list[:,1])]\n",
    "\n",
    "# # normalize output \n",
    "# data_list[:,1] = (data_list[:,1]-mean_normalization[-1])/std_normalization[-1]\n",
    "\n",
    "# print(std_normalization[-1],mean_normalization[-1])"
   ]
  },
  {
   "cell_type": "code",
   "execution_count": 25,
   "metadata": {},
   "outputs": [],
   "source": [
    "def normalize_data(data_list_in,std=None,mean=None):\n",
    "# std of integrated sextupole strength of each multipolekick is 2.0\n",
    "    data_list = copy(data_list_in)\n",
    "    data_list[:,0] = data_list[:,0]/2.0\n",
    "\n",
    "    if std==None:\n",
    "        std_normalization = np.std(data_list[:,1])\n",
    "        mean_normalization = np.mean(data_list[:,1])\n",
    "    else:\n",
    "        std_normalization = std\n",
    "        mean_normalization = mean        \n",
    "\n",
    "    # normalize output \n",
    "    data_list[:,1] = (data_list[:,1]-mean_normalization)/std_normalization\n",
    "\n",
    "    print('std_normalization,mean_normalization',std_normalization,mean_normalization)\n",
    "    \n",
    "    return data_list, std_normalization, mean_normalization"
   ]
  },
  {
   "cell_type": "code",
   "execution_count": 26,
   "metadata": {},
   "outputs": [],
   "source": [
    "def unnormalize_data(outputs,std,mean):\n",
    "# std of integrated sextupole strength of each multipolekick is 2.0\n",
    "    return std*outputs+mean"
   ]
  },
  {
   "cell_type": "code",
   "execution_count": 27,
   "metadata": {},
   "outputs": [
    {
     "data": {
      "image/png": "[encoded data removed]",
      "text/plain": [
       "<Figure size 432x288 with 1 Axes>"
      ]
     },
     "metadata": {
      "needs_background": "light"
     },
     "output_type": "display_data"
    }
   ],
   "source": [
    "plt.hist(np.concatenate(data_list[:, 1],axis=0),bins=25);"
   ]
  },
  {
   "cell_type": "code",
   "execution_count": 28,
   "metadata": {},
   "outputs": [
    {
     "name": "stdout",
     "output_type": "stream",
     "text": [
      "std_normalization,mean_normalization [0.07780442] [0.03014876]\n"
     ]
    }
   ],
   "source": [
    "data_list, std, mean = normalize_data(data_list)\n",
    "normalization_std = [copy(std)]\n",
    "normalization_mean = [copy(mean)]"
   ]
  },
  {
   "cell_type": "code",
   "execution_count": 29,
   "metadata": {
    "scrolled": true
   },
   "outputs": [],
   "source": [
    "# plt.hist(np.concatenate(data_list[:, 1],axis=0),bins=25);"
   ]
  },
  {
   "cell_type": "code",
   "execution_count": 30,
   "metadata": {},
   "outputs": [],
   "source": [
    "data_list = data_list.tolist()\n",
    "for input,output in data_list:\n",
    "    input = input.tolist()"
   ]
  },
  {
   "cell_type": "markdown",
   "metadata": {},
   "source": [
    "## Build data loader"
   ]
  },
  {
   "cell_type": "code",
   "execution_count": 31,
   "metadata": {
    "colab": {},
    "colab_type": "code",
    "id": "Ly-a5t0mm4s9"
   },
   "outputs": [],
   "source": [
    "# data_list = data_list.tolist()\n",
    "train_data_loader = torch.utils.data.DataLoader(data_list[:nSample_0th_iter]                    , batch_size=128, shuffle=True)\n",
    "test_data_loader  = torch.utils.data.DataLoader(data_list[nSample_0th_iter:2*nSample_0th_iter]  , batch_size=128, shuffle=True)\n",
    "val_data_loader   = torch.utils.data.DataLoader(data_list[2*nSample_0th_iter:3*nSample_0th_iter], batch_size=128, shuffle=True)"
   ]
  },
  {
   "cell_type": "code",
   "execution_count": 32,
   "metadata": {
    "colab": {
     "base_uri": "https://localhost:8080/",
     "height": 265
    },
    "colab_type": "code",
    "id": "sTAWfVhXolxq",
    "outputId": "607d73c5-5120-448c-c58b-944be17ff340"
   },
   "outputs": [],
   "source": [
    "# for inputs, outputs in train_data_loader:\n",
    "#     plt.hist(outputs[:,0],bins=20,range=(-4.0,1.5));"
   ]
  },
  {
   "cell_type": "markdown",
   "metadata": {},
   "source": [
    "# 0th iter"
   ]
  },
  {
   "cell_type": "markdown",
   "metadata": {
    "colab_type": "text",
    "id": "WT4UQzaJTwCe"
   },
   "source": [
    "## Surrogate Model"
   ]
  },
  {
   "cell_type": "markdown",
   "metadata": {},
   "source": [
    "#### train"
   ]
  },
  {
   "cell_type": "code",
   "execution_count": 33,
   "metadata": {
    "colab": {},
    "colab_type": "code",
    "id": "vfYalnUBcSiz"
   },
   "outputs": [],
   "source": [
    "model = ptt.FCNN(nodes=[12,128,16,1],\n",
    "                 activation=torch.nn.ReLU(inplace=True), \n",
    "                 dropout_p=0.1)"
   ]
  },
  {
   "cell_type": "code",
   "execution_count": 34,
   "metadata": {},
   "outputs": [
    {
     "data": {
      "text/plain": [
       "3745"
      ]
     },
     "execution_count": 34,
     "metadata": {},
     "output_type": "execute_result"
    }
   ],
   "source": [
    "ptt.count_parameters(model)"
   ]
  },
  {
   "cell_type": "code",
   "execution_count": 35,
   "metadata": {
    "colab": {},
    "colab_type": "code",
    "id": "MXzwXYhKz59d"
   },
   "outputs": [],
   "source": [
    "model, history = ptt.train_supervised(model,1.0e-3,200,'surrogate_iter_0th',\n",
    "                                   train_data_loader,test_data_loader,#val_data_loader,\n",
    "                                   criterion=torch.nn.MSELoss(),\n",
    "                                   disp = False, get_best_model = True\n",
    "                                   )"
   ]
  },
  {
   "cell_type": "code",
   "execution_count": 36,
   "metadata": {},
   "outputs": [
    {
     "data": {
      "image/png": "[encoded data removed]",
      "text/plain": [
       "<Figure size 432x288 with 1 Axes>"
      ]
     },
     "metadata": {
      "needs_background": "light"
     },
     "output_type": "display_data"
    }
   ],
   "source": [
    "ptt.plot.history(history)"
   ]
  },
  {
   "cell_type": "code",
   "execution_count": 37,
   "metadata": {},
   "outputs": [
    {
     "data": {
      "text/plain": [
       "0.12930559555524138"
      ]
     },
     "execution_count": 37,
     "metadata": {},
     "output_type": "execute_result"
    }
   ],
   "source": [
    "ptt.get_val_loss_supervised(model,val_data_loader,criterion=torch.nn.MSELoss())"
   ]
  },
  {
   "cell_type": "markdown",
   "metadata": {},
   "source": [
    "#### optimize over surrogate model"
   ]
  },
  {
   "cell_type": "code",
   "execution_count": 38,
   "metadata": {},
   "outputs": [],
   "source": [
    "def obj(x):\n",
    "    inputs = torch.from_numpy(x).float().to(ptt.device)\n",
    "    model.eval()\n",
    "    with torch.no_grad():\n",
    "        model_output = model(inputs)\n",
    "    return model_output.item()"
   ]
  },
  {
   "cell_type": "code",
   "execution_count": 39,
   "metadata": {},
   "outputs": [
    {
     "name": "stderr",
     "output_type": "stream",
     "text": [
      "/home/kilean/WorkSpace/pImpactR/pImpactR/opt.py:518: UserWarning: differential_evolution: the 'workers' keyword has overridden updating='immediate' to updating='deferred'\n",
      "  \" updating='deferred'\", UserWarning)\n"
     ]
    },
    {
     "name": "stdout",
     "output_type": "stream",
     "text": [
      "differential_evolution step 1: f(x)= -0.28574\n",
      "differential_evolution step 2: f(x)= -1.25376\n",
      "differential_evolution step 3: f(x)= -1.73769\n",
      "differential_evolution step 4: f(x)= -1.73769\n",
      "differential_evolution step 5: f(x)= -1.73769\n",
      "differential_evolution step 6: f(x)= -1.73769\n",
      "differential_evolution step 7: f(x)= -2.22713\n",
      "differential_evolution step 8: f(x)= -2.22713\n",
      "differential_evolution step 9: f(x)= -2.22713\n",
      "differential_evolution step 10: f(x)= -2.22713\n",
      "differential_evolution step 11: f(x)= -2.22713\n",
      "differential_evolution step 12: f(x)= -2.22713\n",
      "differential_evolution step 13: f(x)= -2.32095\n",
      "differential_evolution step 14: f(x)= -2.32095\n",
      "differential_evolution step 15: f(x)= -2.4027\n",
      "differential_evolution step 16: f(x)= -2.4027\n",
      "differential_evolution step 17: f(x)= -2.53885\n",
      "differential_evolution step 18: f(x)= -2.87872\n",
      "differential_evolution step 19: f(x)= -2.87872\n",
      "differential_evolution step 20: f(x)= -2.87872\n",
      "differential_evolution step 21: f(x)= -2.87872\n",
      "differential_evolution step 22: f(x)= -2.87872\n",
      "differential_evolution step 23: f(x)= -2.87872\n",
      "differential_evolution step 24: f(x)= -2.87872\n",
      "differential_evolution step 25: f(x)= -2.87872\n",
      "differential_evolution step 26: f(x)= -2.87872\n",
      "differential_evolution step 27: f(x)= -2.87872\n",
      "differential_evolution step 28: f(x)= -2.87872\n",
      "differential_evolution step 29: f(x)= -2.89997\n",
      "differential_evolution step 30: f(x)= -2.89997\n",
      "differential_evolution step 31: f(x)= -3.02645\n",
      "differential_evolution step 32: f(x)= -3.02645\n",
      "differential_evolution step 33: f(x)= -3.02645\n",
      "differential_evolution step 34: f(x)= -3.02645\n",
      "differential_evolution step 35: f(x)= -3.02645\n",
      "differential_evolution step 36: f(x)= -3.02645\n",
      "differential_evolution step 37: f(x)= -3.02645\n",
      "differential_evolution step 38: f(x)= -3.02645\n",
      "differential_evolution step 39: f(x)= -3.02645\n",
      "differential_evolution step 40: f(x)= -3.043\n",
      "differential_evolution step 41: f(x)= -3.043\n",
      "differential_evolution step 42: f(x)= -3.043\n",
      "differential_evolution step 43: f(x)= -3.043\n",
      "differential_evolution step 44: f(x)= -3.043\n",
      "differential_evolution step 45: f(x)= -3.043\n",
      "differential_evolution step 46: f(x)= -3.043\n",
      "differential_evolution step 47: f(x)= -3.043\n",
      "differential_evolution step 48: f(x)= -3.043\n",
      "differential_evolution step 49: f(x)= -3.043\n",
      "differential_evolution step 50: f(x)= -3.043\n",
      "differential_evolution step 51: f(x)= -3.043\n",
      "differential_evolution step 52: f(x)= -3.043\n",
      "differential_evolution step 53: f(x)= -3.043\n",
      "differential_evolution step 54: f(x)= -3.043\n",
      "differential_evolution step 55: f(x)= -3.043\n",
      "differential_evolution step 56: f(x)= -3.17151\n",
      "differential_evolution step 57: f(x)= -3.17151\n",
      "differential_evolution step 58: f(x)= -3.17151\n",
      "differential_evolution step 59: f(x)= -3.17151\n",
      "differential_evolution step 60: f(x)= -3.17151\n",
      "differential_evolution step 61: f(x)= -3.17151\n",
      "differential_evolution step 62: f(x)= -3.27153\n",
      "differential_evolution step 63: f(x)= -3.27153\n",
      "differential_evolution step 64: f(x)= -3.27153\n",
      "differential_evolution step 65: f(x)= -3.27153\n",
      "differential_evolution step 66: f(x)= -3.27153\n",
      "differential_evolution step 67: f(x)= -3.27153\n",
      "differential_evolution step 68: f(x)= -3.27153\n",
      "differential_evolution step 69: f(x)= -3.27153\n",
      "differential_evolution step 70: f(x)= -3.27153\n",
      "differential_evolution step 71: f(x)= -3.27153\n",
      "differential_evolution step 72: f(x)= -3.27153\n",
      "differential_evolution step 73: f(x)= -3.27153\n",
      "differential_evolution step 74: f(x)= -3.27153\n",
      "differential_evolution step 75: f(x)= -3.27153\n",
      "differential_evolution step 76: f(x)= -3.27153\n",
      "differential_evolution step 77: f(x)= -3.27153\n",
      "differential_evolution step 78: f(x)= -3.27153\n",
      "differential_evolution step 79: f(x)= -3.27153\n",
      "differential_evolution step 80: f(x)= -3.27153\n",
      "differential_evolution step 81: f(x)= -3.27153\n",
      "differential_evolution step 82: f(x)= -3.27153\n",
      "differential_evolution step 83: f(x)= -3.27153\n",
      "differential_evolution step 84: f(x)= -3.27153\n",
      "differential_evolution step 85: f(x)= -3.27153\n",
      "differential_evolution step 86: f(x)= -3.27153\n",
      "differential_evolution step 87: f(x)= -3.27153\n",
      "differential_evolution step 88: f(x)= -3.27153\n",
      "differential_evolution step 89: f(x)= -3.27153\n",
      "differential_evolution step 90: f(x)= -3.27153\n",
      "differential_evolution step 91: f(x)= -3.27153\n",
      "differential_evolution step 92: f(x)= -3.27153\n",
      "differential_evolution step 93: f(x)= -3.27153\n",
      "differential_evolution step 94: f(x)= -3.27153\n",
      "differential_evolution step 95: f(x)= -3.27153\n",
      "differential_evolution step 96: f(x)= -3.33385\n",
      "differential_evolution step 97: f(x)= -3.33385\n",
      "differential_evolution step 98: f(x)= -3.33385\n",
      "differential_evolution step 99: f(x)= -3.40645\n",
      "differential_evolution step 100: f(x)= -3.40645\n",
      "differential_evolution step 101: f(x)= -3.40645\n",
      "differential_evolution step 102: f(x)= -3.40645\n",
      "differential_evolution step 103: f(x)= -3.40645\n",
      "differential_evolution step 104: f(x)= -3.40645\n",
      "differential_evolution step 105: f(x)= -3.40645\n",
      "differential_evolution step 106: f(x)= -3.40645\n",
      "differential_evolution step 107: f(x)= -3.40645\n",
      "differential_evolution step 108: f(x)= -3.40645\n",
      "differential_evolution step 109: f(x)= -3.40645\n",
      "differential_evolution step 110: f(x)= -3.40645\n",
      "differential_evolution step 111: f(x)= -3.40645\n",
      "differential_evolution step 112: f(x)= -3.40645\n",
      "differential_evolution step 113: f(x)= -3.40645\n",
      "differential_evolution step 114: f(x)= -3.46658\n",
      "differential_evolution step 115: f(x)= -3.46658\n",
      "differential_evolution step 116: f(x)= -3.46658\n",
      "differential_evolution step 117: f(x)= -3.46658\n",
      "differential_evolution step 118: f(x)= -3.46658\n",
      "differential_evolution step 119: f(x)= -3.46658\n",
      "differential_evolution step 120: f(x)= -3.46658\n",
      "differential_evolution step 121: f(x)= -3.46658\n",
      "differential_evolution step 122: f(x)= -3.46658\n",
      "differential_evolution step 123: f(x)= -3.46658\n",
      "differential_evolution step 124: f(x)= -3.46658\n",
      "differential_evolution step 125: f(x)= -3.46658\n",
      "differential_evolution step 126: f(x)= -3.46658\n",
      "differential_evolution step 127: f(x)= -3.46658\n",
      "differential_evolution step 128: f(x)= -3.46658\n",
      "differential_evolution step 129: f(x)= -3.46658\n",
      "differential_evolution step 130: f(x)= -3.46658\n",
      "differential_evolution step 131: f(x)= -3.46658\n",
      "differential_evolution step 132: f(x)= -3.46658\n",
      "differential_evolution step 133: f(x)= -3.46658\n",
      "differential_evolution step 134: f(x)= -3.46658\n",
      "differential_evolution step 135: f(x)= -3.46658\n",
      "differential_evolution step 136: f(x)= -3.46658\n",
      "differential_evolution step 137: f(x)= -3.46658\n",
      "differential_evolution step 138: f(x)= -3.46658\n",
      "differential_evolution step 139: f(x)= -3.46658\n",
      "differential_evolution step 140: f(x)= -3.4768\n",
      "differential_evolution step 141: f(x)= -3.4768\n",
      "differential_evolution step 142: f(x)= -3.4768\n",
      "differential_evolution step 143: f(x)= -3.4768\n",
      "differential_evolution step 144: f(x)= -3.4768\n",
      "differential_evolution step 145: f(x)= -3.4768\n",
      "differential_evolution step 146: f(x)= -3.4768\n",
      "differential_evolution step 147: f(x)= -3.4768\n",
      "differential_evolution step 148: f(x)= -3.4768\n",
      "differential_evolution step 149: f(x)= -3.4768\n",
      "differential_evolution step 150: f(x)= -3.4768\n",
      "differential_evolution step 151: f(x)= -3.4768\n",
      "differential_evolution step 152: f(x)= -3.4768\n",
      "differential_evolution step 153: f(x)= -3.4768\n",
      "differential_evolution step 154: f(x)= -3.4768\n",
      "differential_evolution step 155: f(x)= -3.51415\n",
      "differential_evolution step 156: f(x)= -3.51415\n",
      "differential_evolution step 157: f(x)= -3.51415\n",
      "differential_evolution step 158: f(x)= -3.51415\n",
      "differential_evolution step 159: f(x)= -3.51415\n",
      "differential_evolution step 160: f(x)= -3.51415\n",
      "differential_evolution step 161: f(x)= -3.51415\n",
      "differential_evolution step 162: f(x)= -3.51415\n",
      "differential_evolution step 163: f(x)= -3.51415\n",
      "differential_evolution step 164: f(x)= -3.51415\n",
      "differential_evolution step 165: f(x)= -3.51415\n",
      "differential_evolution step 166: f(x)= -3.5279\n",
      "differential_evolution step 167: f(x)= -3.5279\n",
      "differential_evolution step 168: f(x)= -3.5279\n",
      "differential_evolution step 169: f(x)= -3.5279\n",
      "differential_evolution step 170: f(x)= -3.5279\n",
      "differential_evolution step 171: f(x)= -3.5279\n",
      "differential_evolution step 172: f(x)= -3.5279\n",
      "differential_evolution step 173: f(x)= -3.5279\n",
      "differential_evolution step 174: f(x)= -3.5279\n",
      "differential_evolution step 175: f(x)= -3.5279\n",
      "differential_evolution step 176: f(x)= -3.5279\n",
      "differential_evolution step 177: f(x)= -3.5279\n",
      "differential_evolution step 178: f(x)= -3.57311\n",
      "differential_evolution step 179: f(x)= -3.57311\n",
      "differential_evolution step 180: f(x)= -3.57311\n",
      "differential_evolution step 181: f(x)= -3.57311\n"
     ]
    },
    {
     "name": "stdout",
     "output_type": "stream",
     "text": [
      "differential_evolution step 182: f(x)= -3.57311\n",
      "differential_evolution step 183: f(x)= -3.57311\n",
      "differential_evolution step 184: f(x)= -3.57311\n",
      "differential_evolution step 185: f(x)= -3.57311\n",
      "differential_evolution step 186: f(x)= -3.57311\n",
      "differential_evolution step 187: f(x)= -3.57311\n",
      "differential_evolution step 188: f(x)= -3.57311\n",
      "differential_evolution step 189: f(x)= -3.57311\n",
      "differential_evolution step 190: f(x)= -3.57311\n",
      "differential_evolution step 191: f(x)= -3.57311\n",
      "differential_evolution step 192: f(x)= -3.57311\n",
      "differential_evolution step 193: f(x)= -3.57311\n",
      "differential_evolution step 194: f(x)= -3.57311\n",
      "differential_evolution step 195: f(x)= -3.57311\n",
      "differential_evolution step 196: f(x)= -3.57713\n",
      "differential_evolution step 197: f(x)= -3.57713\n",
      "differential_evolution step 198: f(x)= -3.60847\n",
      "differential_evolution step 199: f(x)= -3.60847\n",
      "differential_evolution step 200: f(x)= -3.60847\n",
      "differential_evolution step 201: f(x)= -3.60847\n",
      "differential_evolution step 202: f(x)= -3.62217\n",
      "differential_evolution step 203: f(x)= -3.62217\n",
      "differential_evolution step 204: f(x)= -3.62217\n",
      "differential_evolution step 205: f(x)= -3.62217\n",
      "differential_evolution step 206: f(x)= -3.62217\n",
      "differential_evolution step 207: f(x)= -3.62217\n",
      "differential_evolution step 208: f(x)= -3.62217\n",
      "differential_evolution step 209: f(x)= -3.62217\n",
      "differential_evolution step 210: f(x)= -3.62217\n",
      "differential_evolution step 211: f(x)= -3.62217\n",
      "differential_evolution step 212: f(x)= -3.62217\n",
      "differential_evolution step 213: f(x)= -3.6461\n",
      "differential_evolution step 214: f(x)= -3.6461\n",
      "differential_evolution step 215: f(x)= -3.6461\n",
      "differential_evolution step 216: f(x)= -3.6461\n",
      "differential_evolution step 217: f(x)= -3.6461\n",
      "differential_evolution step 218: f(x)= -3.6461\n",
      "differential_evolution step 219: f(x)= -3.6461\n",
      "differential_evolution step 220: f(x)= -3.6461\n",
      "differential_evolution step 221: f(x)= -3.68713\n",
      "differential_evolution step 222: f(x)= -3.68713\n",
      "differential_evolution step 223: f(x)= -3.68713\n",
      "differential_evolution step 224: f(x)= -3.68713\n",
      "differential_evolution step 225: f(x)= -3.68713\n",
      "differential_evolution step 226: f(x)= -3.68713\n",
      "differential_evolution step 227: f(x)= -3.68713\n",
      "differential_evolution step 228: f(x)= -3.68713\n",
      "differential_evolution step 229: f(x)= -3.68713\n",
      "differential_evolution step 230: f(x)= -3.68713\n",
      "differential_evolution step 231: f(x)= -3.72186\n",
      "differential_evolution step 232: f(x)= -3.72186\n",
      "differential_evolution step 233: f(x)= -3.72186\n",
      "differential_evolution step 234: f(x)= -3.72186\n",
      "differential_evolution step 235: f(x)= -3.72186\n",
      "differential_evolution step 236: f(x)= -3.72186\n",
      "differential_evolution step 237: f(x)= -3.72186\n",
      "differential_evolution step 238: f(x)= -3.72186\n",
      "differential_evolution step 239: f(x)= -3.72186\n",
      "differential_evolution step 240: f(x)= -3.72186\n",
      "differential_evolution step 241: f(x)= -3.72186\n",
      "differential_evolution step 242: f(x)= -3.72186\n",
      "differential_evolution step 243: f(x)= -3.72186\n",
      "differential_evolution step 244: f(x)= -3.72186\n",
      "differential_evolution step 245: f(x)= -3.72186\n",
      "differential_evolution step 246: f(x)= -3.72186\n",
      "differential_evolution step 247: f(x)= -3.72186\n",
      "differential_evolution step 248: f(x)= -3.72186\n",
      "differential_evolution step 249: f(x)= -3.72186\n",
      "differential_evolution step 250: f(x)= -3.72186\n",
      "differential_evolution step 251: f(x)= -3.72186\n",
      "differential_evolution step 252: f(x)= -3.72186\n",
      "differential_evolution step 253: f(x)= -3.72186\n",
      "differential_evolution step 254: f(x)= -3.72186\n",
      "differential_evolution step 255: f(x)= -3.72186\n",
      "differential_evolution step 256: f(x)= -3.72186\n",
      "differential_evolution step 257: f(x)= -3.72186\n",
      "differential_evolution step 258: f(x)= -3.72186\n",
      "differential_evolution step 259: f(x)= -3.72186\n",
      "differential_evolution step 260: f(x)= -3.72186\n",
      "differential_evolution step 261: f(x)= -3.72186\n",
      "differential_evolution step 262: f(x)= -3.72186\n",
      "differential_evolution step 263: f(x)= -3.72186\n",
      "differential_evolution step 264: f(x)= -3.72186\n",
      "differential_evolution step 265: f(x)= -3.72186\n",
      "differential_evolution step 266: f(x)= -3.72186\n",
      "differential_evolution step 267: f(x)= -3.72186\n",
      "differential_evolution step 268: f(x)= -3.72186\n",
      "differential_evolution step 269: f(x)= -3.72186\n",
      "differential_evolution step 270: f(x)= -3.72186\n",
      "differential_evolution step 271: f(x)= -3.72186\n",
      "differential_evolution step 272: f(x)= -3.72186\n",
      "differential_evolution step 273: f(x)= -3.72186\n",
      "differential_evolution step 274: f(x)= -3.72186\n"
     ]
    }
   ],
   "source": [
    "bounds = [(-3,3) for i in range(12)]\n",
    "\n",
    "result = opt.differential_evolution(obj,bounds,popsize=nSample_each_iter,\n",
    "                                    disp=True,workers=4,maxiter=1000,\n",
    "                                    strategy=\"rand1bin\",tol=0.02)\n",
    "\n",
    "result.population_energies = unnormalize_data(result.population_energies,\n",
    "                                              normalization_std[-1],\n",
    "                                              normalization_mean[-1])\n",
    "pickle.dump(result,open('optim_result_surrogate_0th_iter.pickle','wb'))"
   ]
  },
  {
   "cell_type": "code",
   "execution_count": 40,
   "metadata": {},
   "outputs": [],
   "source": [
    "result = pickle.load(open('optim_result_surrogate_0th_iter.pickle','rb'))"
   ]
  },
  {
   "cell_type": "code",
   "execution_count": 41,
   "metadata": {},
   "outputs": [
    {
     "data": {
      "text/plain": [
       "                 fun: -3.721864938735962\n",
       "             message: 'Optimization terminated successfully.'\n",
       "                nfev: 70413\n",
       "                 nit: 274\n",
       "          population: array([[0.41887649, 0.70713464, 0.55767146, ..., 0.58135128, 0.51977191,\n",
       "        0.48962577],\n",
       "       [0.45929204, 0.64407873, 0.55128054, ..., 0.48227218, 0.5197225 ,\n",
       "        0.4767844 ],\n",
       "       [0.33689989, 0.84821728, 0.55382689, ..., 0.56514214, 0.42353595,\n",
       "        0.40119647],\n",
       "       ...,\n",
       "       [0.42486972, 0.75230366, 0.55210016, ..., 0.60190528, 0.43964644,\n",
       "        0.32800995],\n",
       "       [0.44659745, 0.68584604, 0.50925735, ..., 0.51739747, 0.47486943,\n",
       "        0.40732206],\n",
       "       [0.4460002 , 0.6755369 , 0.49721186, ..., 0.51472895, 0.51052937,\n",
       "        0.35941122]])\n",
       " population_energies: array([-0.25942878, -0.24721396, -0.25099965, -0.24084836, -0.2529352 ,\n",
       "       -0.24449921, -0.25100464, -0.24049843, -0.24948488, -0.24519079,\n",
       "       -0.23525447, -0.24237343, -0.24305602, -0.24399576, -0.25329038,\n",
       "       -0.24008861, -0.24432267, -0.25125785, -0.24064368, -0.23206398,\n",
       "       -0.2560276 , -0.2396571 , -0.25098596, -0.24670792, -0.24228689,\n",
       "       -0.25936295, -0.23778226, -0.25234021, -0.23883906, -0.24800034,\n",
       "       -0.25358944, -0.25077488, -0.25413922, -0.25233505, -0.24747563,\n",
       "       -0.24823524, -0.24459585, -0.2489759 , -0.24999497, -0.24710727,\n",
       "       -0.25260803, -0.25803395, -0.25768068, -0.24923249, -0.2498701 ,\n",
       "       -0.25202337, -0.24451015, -0.24372293, -0.24663187, -0.24843124,\n",
       "       -0.2464446 , -0.24508763, -0.24351661, -0.25190662, -0.24267919,\n",
       "       -0.2526264 , -0.231337  , -0.24448654, -0.24630878, -0.24407018,\n",
       "       -0.24558813, -0.24566194, -0.24230921, -0.23609601, -0.25236039,\n",
       "       -0.25032436, -0.2532013 , -0.25212221, -0.2526729 , -0.24773205,\n",
       "       -0.24393807, -0.24231429, -0.25127783, -0.24121348, -0.25478443,\n",
       "       -0.22766206, -0.24671354, -0.23968844, -0.25342221, -0.24610974,\n",
       "       -0.24827699, -0.25376053, -0.24553721, -0.24203259, -0.2502399 ,\n",
       "       -0.24615148, -0.25165886, -0.24802588, -0.23863399, -0.24618709,\n",
       "       -0.24495454, -0.25060639, -0.24858548, -0.25259349, -0.23782441,\n",
       "       -0.25307416, -0.24874265, -0.25672588, -0.2510502 , -0.23617214,\n",
       "       -0.24705035, -0.24288183, -0.24790048, -0.25800327, -0.2501693 ,\n",
       "       -0.25051453, -0.24656625, -0.2497932 , -0.24577756, -0.25167246,\n",
       "       -0.24634625, -0.24281529, -0.23181552, -0.2461099 , -0.23684545,\n",
       "       -0.25026604, -0.24689426, -0.23942585, -0.24754297, -0.24603877,\n",
       "       -0.25471441, -0.25131372, -0.25414323, -0.24174657, -0.24162093,\n",
       "       -0.24243483, -0.24590975, -0.24874058, -0.24626335, -0.25087084,\n",
       "       -0.2488689 , -0.24740852, -0.24376661, -0.2423278 , -0.25172913,\n",
       "       -0.24519715, -0.2487914 , -0.25272905, -0.25515269, -0.25167821,\n",
       "       -0.2465521 , -0.24025459, -0.24999465, -0.24894281, -0.2461946 ,\n",
       "       -0.24593472, -0.24818777, -0.24585104, -0.24430334, -0.24671423,\n",
       "       -0.25040227, -0.24830018, -0.24533828, -0.24097717, -0.24950714,\n",
       "       -0.23868873, -0.2499185 , -0.24648163, -0.23219576, -0.23813531,\n",
       "       -0.25481103, -0.25396565, -0.24428887, -0.24125008, -0.24446836,\n",
       "       -0.25027711, -0.24327511, -0.24634282, -0.24507387, -0.25334091,\n",
       "       -0.24645373, -0.24887095, -0.24547544, -0.24860412, -0.24717725,\n",
       "       -0.25005805, -0.24598629, -0.2383739 , -0.24433708, -0.24738277,\n",
       "       -0.2487218 , -0.25322326, -0.24929624, -0.24757851, -0.24564005,\n",
       "       -0.25040307, -0.24929537, -0.24871251, -0.24147993, -0.25076032,\n",
       "       -0.24119409, -0.25246075, -0.23776355, -0.25059344, -0.24838866,\n",
       "       -0.24761665, -0.23975439, -0.2482045 , -0.23098702, -0.24236798,\n",
       "       -0.24293514, -0.24303759, -0.25358604, -0.23702754, -0.23889224,\n",
       "       -0.23854526, -0.24880624, -0.2440837 , -0.24210796, -0.25759986,\n",
       "       -0.24889912, -0.25390286, -0.25040286, -0.24297606, -0.25184457,\n",
       "       -0.24272534, -0.24057538, -0.24040333, -0.24561438, -0.23623979,\n",
       "       -0.24474908, -0.24240185, -0.24880543, -0.25054149, -0.24782317,\n",
       "       -0.24659931, -0.24306588, -0.23713298, -0.24517884, -0.2447544 ,\n",
       "       -0.24550701, -0.24308961, -0.25002205, -0.24500774, -0.24569407,\n",
       "       -0.25487549, -0.25353388, -0.2446191 , -0.25247199, -0.24636363,\n",
       "       -0.25101141, -0.25132867, -0.2424828 , -0.24675843, -0.24981878,\n",
       "       -0.24360574, -0.25180942, -0.24511603, -0.24305188, -0.24901562,\n",
       "       -0.2532458 , -0.24873056, -0.24985931, -0.24339218, -0.24918019,\n",
       "       -0.24446914])\n",
       "             success: True\n",
       "                   x: array([-0.48674104,  1.24280783,  0.34602876,  1.24225832, -2.40186995,\n",
       "        2.37066369, -1.36081372, -0.33248504, -1.29767325,  0.4881077 ,\n",
       "        0.11863148, -0.06224537])"
      ]
     },
     "execution_count": 41,
     "metadata": {},
     "output_type": "execute_result"
    }
   ],
   "source": [
    "result"
   ]
  },
  {
   "cell_type": "code",
   "execution_count": 42,
   "metadata": {},
   "outputs": [
    {
     "data": {
      "image/png": "[encoded data removed]",
      "text/plain": [
       "<Figure size 432x288 with 1 Axes>"
      ]
     },
     "metadata": {
      "needs_background": "light"
     },
     "output_type": "display_data"
    }
   ],
   "source": [
    "plt.hist(result.population_energies,bins=25);"
   ]
  },
  {
   "cell_type": "markdown",
   "metadata": {},
   "source": [
    "#### get loss from realistic model "
   ]
  },
  {
   "cell_type": "code",
   "execution_count": 43,
   "metadata": {},
   "outputs": [],
   "source": [
    "sextStr = copy(result.population)\n",
    "sextStr = sextStr*6.0 - 3.0\n",
    "sextStr = sextStr*2.0"
   ]
  },
  {
   "cell_type": "code",
   "execution_count": 44,
   "metadata": {},
   "outputs": [
    {
     "data": {
      "text/plain": [
       "array([[-0.97348208,  2.48561566,  0.69205752,  2.48451663, -4.80373989,\n",
       "         4.74132738, -2.72162744, -0.66497009, -2.59534651,  0.97621541,\n",
       "         0.23726297, -0.12449074],\n",
       "       [-0.48849548,  1.72894476,  0.61536648,  1.65679687, -4.02792511,\n",
       "         3.64809321, -2.55398234, -0.56315309, -1.29684277, -0.21273386,\n",
       "         0.23667002, -0.27858719]])"
      ]
     },
     "execution_count": 44,
     "metadata": {},
     "output_type": "execute_result"
    }
   ],
   "source": [
    "sextStr[:2]"
   ]
  },
  {
   "cell_type": "code",
   "execution_count": 45,
   "metadata": {},
   "outputs": [
    {
     "data": {
      "text/plain": [
       "array([-0.25942878, -0.24721396])"
      ]
     },
     "execution_count": 45,
     "metadata": {},
     "output_type": "execute_result"
    }
   ],
   "source": [
    "result.population_energies[:2]"
   ]
  },
  {
   "cell_type": "code",
   "execution_count": 46,
   "metadata": {},
   "outputs": [
    {
     "name": "stdout",
     "output_type": "stream",
     "text": [
      "reading ImpactZ input file (\u001b[92m../test_iota_v8_4_SextOff_NLon.in\u001b[0m)\n",
      "  : mpi task info .............................done\n",
      "  : simulation control parameters .............done\n",
      "  : space charge field solver, mesh info ......done\n",
      "  : dist-type,restart,subcycle,#of state ......done\n",
      "  : Multiple Charge State info ................done\n",
      "  : particle distribution info ................done\n",
      "  : beam reference orbit info .................done\n",
      "  : converting impact dist to twiss param......done\n",
      "  : lattice info ..............................done\n"
     ]
    }
   ],
   "source": [
    "import dataGenDA"
   ]
  },
  {
   "cell_type": "code",
   "execution_count": null,
   "metadata": {},
   "outputs": [],
   "source": [
    "data = dataGenDA.collect_data(sextStr)\n",
    "pickle.dump(data,open('data_4_surrogate_1th_iter.pickle','wb'))"
   ]
  },
  {
   "cell_type": "code",
   "execution_count": null,
   "metadata": {},
   "outputs": [],
   "source": [
    "data = pickle.load(open('data_4_surrogate_1th_iter.pickle','rb'))"
   ]
  },
  {
   "cell_type": "code",
   "execution_count": null,
   "metadata": {},
   "outputs": [],
   "source": [
    "restructured_data.append(restruct_data(data))\n",
    "data_list = copy(restructured_data[-1])"
   ]
  },
  {
   "cell_type": "code",
   "execution_count": null,
   "metadata": {
    "scrolled": true
   },
   "outputs": [],
   "source": [
    "plt.hist(np.concatenate(data_list[:, 1],axis=0),bins=25);"
   ]
  },
  {
   "cell_type": "code",
   "execution_count": null,
   "metadata": {
    "scrolled": true
   },
   "outputs": [],
   "source": [
    "restructured_data[1].shape"
   ]
  },
  {
   "cell_type": "code",
   "execution_count": null,
   "metadata": {},
   "outputs": [],
   "source": [
    "restructured_data[-1] = np.concatenate(\n",
    "    (restructured_data[-2][nSample_each_iter:nSample_0th_iter,:],\n",
    "     restructured_data[-1]),\n",
    "     axis=0)"
   ]
  },
  {
   "cell_type": "code",
   "execution_count": null,
   "metadata": {
    "scrolled": true
   },
   "outputs": [],
   "source": [
    "plt.hist(np.concatenate(restructured_data[-1][:, 1],axis=0),bins=25);"
   ]
  },
  {
   "cell_type": "markdown",
   "metadata": {},
   "source": [
    "# 1st iter"
   ]
  },
  {
   "cell_type": "code",
   "execution_count": null,
   "metadata": {},
   "outputs": [],
   "source": [
    "def get_next_verified_population_via_surrogateModelOptim(restructured_data_in,niter):\n",
    "    data_list, std, mean = normalize_data(restructured_data_in)\n",
    "    normalization_std.append(std)\n",
    "    normalization_mean.append(mean)\n",
    "    \n",
    "    data_list = data_list.tolist()\n",
    "    for input,output in data_list:\n",
    "        input = input.tolist()\n",
    "    train_data_loader = torch.utils.data.DataLoader(data_list, batch_size=128, shuffle=True)\n",
    "    model = ptt.FCNN(nodes=[12,128,16,1],\n",
    "                 activation=torch.nn.ReLU(inplace=True), \n",
    "                 dropout_p=0.1)\n",
    "    model, history = ptt.train_supervised(model,1.0e-3,200,'surrogate_iter_'+str(niter)+'th',\n",
    "                                   train_data_loader,#test_data_loader,#val_data_loader,\n",
    "                                   criterion=torch.nn.MSELoss(),\n",
    "                                   disp = True, get_best_model = True\n",
    "                                   )\n",
    "    plt.figure()\n",
    "    ptt.plot.history(history)\n",
    "    \n",
    "    bounds = [(-3,3) for i in range(12)]\n",
    "    result = opt.differential_evolution(obj,bounds,popsize=nSample_each_iter,disp=True,workers=4,maxiter=400,strategy=\"rand1bin\")\n",
    "    result.population_energies = unnormalize_data(result.population_energies,std,mean)\n",
    "    pickle.dump(result,open('optim_result_surrogate_'+str(niter)+'th_iter.pickle','wb'))\n",
    "#     result = pickle.load(open('optim_result_surrogate_'+str(niter)+'th_iter.pickle','rb'))\n",
    "    \n",
    "    plt.figure()\n",
    "    plt.hist(result.population_energies,bins=25);\n",
    "    plt.title('result.population_energies')\n",
    "    \n",
    "    sextStr = copy(result.population)\n",
    "    sextStr = sextStr*6.0 - 3.0\n",
    "    sextStr = sextStr*2.0\n",
    "    data = dataGenDA.collect_data(sextStr)\n",
    "    pickle.dump(data,open('data_4_surrogate_'+str(niter+1)+'th_iter.pickle','wb'))\n",
    "#     data = pickle.load(open('data_4_surrogate_'+str(niter+1)+'th_iter.pickle','rb'))\n",
    "        \n",
    "    restructured_data.append(restruct_data(data))\n",
    "    \n",
    "    plt.figure()\n",
    "    plt.hist(np.concatenate(restructured_data[-1][:, 1],axis=0),bins=25);\n",
    "    plt.title('result.population_energies_verified')\n",
    "    \n",
    "    restructured_data[-1] = np.concatenate( (restructured_data[-2][nSample_each_iter:nSample_0th_iter,:],\n",
    "                                             restructured_data[-1]),\n",
    "                                             axis=0)"
   ]
  },
  {
   "cell_type": "code",
   "execution_count": null,
   "metadata": {},
   "outputs": [],
   "source": [
    "get_next_verified_population_via_surrogateModelOptim(restructured_data[-1],1)"
   ]
  },
  {
   "cell_type": "code",
   "execution_count": null,
   "metadata": {},
   "outputs": [],
   "source": []
  }
 ],
 "metadata": {
  "accelerator": "GPU",
  "colab": {
   "collapsed_sections": [
    "WT4UQzaJTwCe"
   ],
   "machine_shape": "hm",
   "name": "IOTA_DA_surrogate_test.ipynb",
   "provenance": []
  },
  "kernelspec": {
   "display_name": "Python 3",
   "language": "python",
   "name": "python3"
  },
  "language_info": {
   "codemirror_mode": {
    "name": "ipython",
    "version": 3
   },
   "file_extension": ".py",
   "mimetype": "text/x-python",
   "name": "python",
   "nbconvert_exporter": "python",
   "pygments_lexer": "ipython3",
   "version": "3.7.6"
  }
 },
 "nbformat": 4,
 "nbformat_minor": 1
}
