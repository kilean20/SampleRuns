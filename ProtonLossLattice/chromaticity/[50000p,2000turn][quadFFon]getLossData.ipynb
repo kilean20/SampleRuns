{
 "cells": [
  {
   "cell_type": "code",
   "execution_count": 1,
   "metadata": {},
   "outputs": [],
   "source": [
    "import pImpactR as impact\n",
    "import numpy as np\n",
    "import matplotlib.pyplot as plt\n",
    "from copy import deepcopy as copy\n",
    "import pickle\n",
    "\n",
    "rectangular_ = 1\n",
    "elliptic_ = 2\n",
    "\n",
    "nCore_y = 2\n",
    "nCore_z = 4\n",
    "npt = 50000\n",
    "nturn = 2000"
   ]
  },
  {
   "cell_type": "code",
   "execution_count": 2,
   "metadata": {},
   "outputs": [],
   "source": [
    "emitGeomRMS = 3.3e-6\n",
    "dE = 2.0e-3"
   ]
  },
  {
   "cell_type": "code",
   "execution_count": 3,
   "metadata": {},
   "outputs": [],
   "source": [
    "NL_t = 0.4\n",
    "NL_L = 1.8\n",
    "NL_c = 0.01\n",
    "NL_nu = 0.3"
   ]
  },
  {
   "cell_type": "markdown",
   "metadata": {},
   "source": [
    "# read Aperture"
   ]
  },
  {
   "cell_type": "code",
   "execution_count": 4,
   "metadata": {},
   "outputs": [
    {
     "name": "stdout",
     "output_type": "stream",
     "text": [
      "reading ImpactZ input file (\u001b[92m../test.Chad.in\u001b[0m)\n",
      "  : mpi task info .............................done\n",
      "  : simulation control parameters .............done\n",
      "  : space charge field solver, mesh info ......done\n",
      "  : dist-type,restart,subcycle,#of state ......done\n",
      "  : Multiple Charge State info ................done\n",
      "  : particle distribution info ................done\n",
      "  : beam reference orbit info .................done\n",
      "  : converting impact dist to twiss param......done\n",
      "  : lattice info ..............................done\n"
     ]
    }
   ],
   "source": [
    "beam,lattice = impact.readInputFile('../test.Chad.in')\n",
    "ke = beam.kinetic_energy\n",
    "mass = beam.mass\n",
    "freq = beam.frequency\n",
    "g = ke/mass+1.0\n",
    "bg = np.sqrt(g**2-1.0)\n",
    "emitN = emitGeomRMS*bg"
   ]
  },
  {
   "cell_type": "code",
   "execution_count": 5,
   "metadata": {},
   "outputs": [],
   "source": [
    "def getLostDataThermal(deco,H0,tauMag,tauBeam,npt,nturn,order=3):\n",
    "    \n",
    "    # read file\n",
    "    beam,lattice = impact.readInputFile('test_'+deco+'.in')\n",
    "    beam.nCore_y=nCore_y\n",
    "    beam.nCore_z=nCore_z\n",
    "    beam.n_particles = npt\n",
    "    ke = beam.kinetic_energy\n",
    "    mass = beam.mass\n",
    "    freq = beam.frequency\n",
    "    \n",
    "    \n",
    "    # adjust kick number\n",
    "    cleanLat = impact.clearLattice(lattice)\n",
    "    for item in cleanLat:\n",
    "        if item.type == 'RFkick':\n",
    "            item.vmax = 0.0\n",
    "        if item.type == 'nonlinear_insert':\n",
    "            NLfoward = item\n",
    "        if 'length' in item:\n",
    "            item.n_sckick = int(np.ceil(item.length*50))\n",
    "            item.n_map = 1\n",
    "    NLfoward.n_sckick = 2\n",
    "    NLfoward.n_map = 45\n",
    "    NLfoward.strength_t = tauMag\n",
    "    \n",
    "    \n",
    "    # add QFF\n",
    "    cleanLat = impact.addHardEdgeQuad(cleanLat)\n",
    "    \n",
    "    \n",
    "    # ==== run backward (to injection point) =====\n",
    "    for i in range(len(cleanLat)):\n",
    "        if cleanLat[i].type == 'nonlinear_insert':\n",
    "            break\n",
    "\n",
    "    latticeB = impact.getInverseLattice(cleanLat[:i])\n",
    "    \n",
    "    write0 = impact.getElem('write_raw_ptcl')\n",
    "    write0.file_id = 111110\n",
    "    write0.format_id = 2\n",
    "    latticeB.insert(0,write0)\n",
    "\n",
    "    write1 = impact.getElem('write_raw_ptcl')\n",
    "    write1.file_id = 111111\n",
    "    write1.format_id = 2\n",
    "    latticeB.append(write1)\n",
    "\n",
    "    loop = impact.getElem('loop')\n",
    "    loop.turns = 1\n",
    "    latticeB.insert(0,loop)\n",
    "    \n",
    "    beam.distribution.mode = 'twiss'\n",
    "    beam.distribution.distribution_type = 'IOTA_Gauss'\n",
    "    beam.distribution.NL_t  = tauBeam\n",
    "    beam.distribution.NL_c  = NL_c\n",
    "    beam.distribution.betx  = NL_L/np.sin(2.0*np.pi*NL_nu)\n",
    "    beam.distribution.alfx  = np.tan(np.pi*NL_nu)\n",
    "    beam.distribution.emitx = H0\n",
    "    beam.distribution.CL    = 6.0\n",
    "    beam.distribution.betz  = 200\n",
    "    beam.distribution.alfz  = 0.0\n",
    "    beam.distribution.emitz = (dE*ke*1.0e-6)**2*beam.distribution.betz\n",
    "    \n",
    "    impact.writeInputFile(beam,latticeB)\n",
    "    impact.run(beam,order=order)\n",
    "    \n",
    "    pData0 = impact.readParticleData(111110,ke,mass,freq,2)\n",
    "    Twiss0 = impact.getTwiss_from_pData(pData0)\n",
    "    pData1 = impact.readParticleData(111111,ke,mass,freq,2)\n",
    "    Twiss1 = impact.getTwiss_from_pData(pData1)\n",
    "    \n",
    "    \n",
    "    # ==== run foward (from injection point) ====\n",
    "    cleanLat.insert(0,impact.getElem('pipeinfo'))\n",
    "    cleanLat.insert(1,impact.getElem('loop'))\n",
    "    cleanLat[1].turns = nturn\n",
    "    beam.distribution.distribution_type = 'ReadFile_binary'\n",
    "    beam.distribution.file_id = 111111\n",
    "    impact.writeInputFile(beam,cleanLat)\n",
    "    impact.run(beam,order=order)\n",
    "    \n",
    "    \n",
    "    # ==== get Data ====\n",
    "    try:\n",
    "        pLost = np.loadtxt('lost_partcl.data',skiprows=1, usecols=(0,1,2,3))\n",
    "    except:\n",
    "        pLost = None\n",
    "    \n",
    "    fort81 = np.loadtxt('fort.81',usecols=(0,1,2,3,4,5))\n",
    "    Hmean = fort81[:,1]\n",
    "    Imean = fort81[:,2]\n",
    "    Hstd  = fort81[:,3]\n",
    "    Istd  = fort81[:,4]\n",
    "    HIcor = fort81[:,5]\n",
    "    \n",
    "    emitx = np.loadtxt('fort.24',usecols=(0, -1))\n",
    "    s = emitx[:,0]\n",
    "    emitx = emitx[:,-1]\n",
    "    emity = np.loadtxt('fort.25',usecols=(-1))\n",
    "    \n",
    "    stat = {'s'    :s,\n",
    "            'emitx':emitx,\n",
    "            'emity':emity,\n",
    "            'Hmean':Hmean,\n",
    "            'Imean':Imean,\n",
    "            'Hstd' :Hstd,\n",
    "            'Istd' :Istd,\n",
    "            'HIcor':HIcor}\n",
    "    \n",
    "    data = {'Twiss0':Twiss0,\n",
    "            'Twiss1':Twiss1,\n",
    "            'pData0':pData0,\n",
    "            'pData1':pData1,\n",
    "            'pLost' :pLost,\n",
    "            'stat'  :stat}\n",
    "\n",
    "    #!rm lost_partcl.data fort.* test.in\n",
    "    \n",
    "    return data"
   ]
  },
  {
   "cell_type": "code",
   "execution_count": 24,
   "metadata": {},
   "outputs": [],
   "source": [
    "def getLostDataExponential(deco,betx,alfx,emitx,bety,alfy,emity,tauMag,npt,nturn,order=3):\n",
    "    \n",
    "    # read file\n",
    "    beam,lattice = impact.readInputFile('test_'+deco+'.in')\n",
    "    beam.nCore_y=nCore_y\n",
    "    beam.nCore_z=nCore_z\n",
    "    beam.n_particles = npt\n",
    "    \n",
    "    beam.distribution.mode = 'twiss'\n",
    "    beam.distribution.distribution_type = 'Exponential2D_trunc'\n",
    "    beam.distribution.betx  = betx\n",
    "    beam.distribution.alfx  = alfx\n",
    "    beam.distribution.emitx = emitx\n",
    "    beam.distribution.CLx   = 6.0\n",
    "    beam.distribution.bety  = bety\n",
    "    beam.distribution.alfy  = alfy\n",
    "    beam.distribution.emity = emity\n",
    "    beam.distribution.CLy   = 6.0\n",
    "    beam.distribution.betz  = 200\n",
    "    beam.distribution.alfz  = 0.0\n",
    "    beam.distribution.emitz = (dE*ke*1.0e-6)**2*beam.distribution.betz\n",
    "    \n",
    "    # adjust kick number\n",
    "    cleanLat = impact.clearLattice(lattice)\n",
    "    for item in cleanLat:\n",
    "        if item.type == 'RFkick':\n",
    "            item.vmax = 0.0\n",
    "        if item.type == 'nonlinear_insert':\n",
    "            NLfoward = item\n",
    "        if 'length' in item:\n",
    "            item.n_sckick = int(np.ceil(item.length*50))\n",
    "            item.n_map = 1\n",
    "    NLfoward.n_sckick = 2\n",
    "    NLfoward.n_map = 45\n",
    "    NLfoward.strength_t = tauMag\n",
    "    \n",
    "    \n",
    "    # add QFF\n",
    "    cleanLat = impact.addHardEdgeQuad(cleanLat)\n",
    "    \n",
    "    # ==== run foward (from injection point) ====\n",
    "    cleanLat.insert(0,impact.getElem('pipeinfo'))\n",
    "    cleanLat.insert(1,impact.getElem('loop'))\n",
    "    cleanLat[1].turns = nturn\n",
    "    \n",
    "    write1 = impact.getElem('write_raw_ptcl')\n",
    "    write1.file_id = 111111\n",
    "    write1.format_id = 2\n",
    "    \n",
    "    impact.writeInputFile(beam,cleanLat[:2]+[write1]+cleanLat[2:])\n",
    "    impact.run(beam,order=order)\n",
    "    pData1 = impact.readParticleData(111111,ke,mass,freq,2)\n",
    "    Twiss1 = impact.getTwiss_from_pData(pData1)\n",
    "    \n",
    "    try:\n",
    "        pLost = np.loadtxt('lost_partcl.data',skiprows=1, usecols=(0,1,2,3))\n",
    "    except:\n",
    "        pLost = None\n",
    "        \n",
    "    \n",
    "    # ==== get Data ====\n",
    "    fort81 = np.loadtxt('fort.81',usecols=(0,1,2,3,4,5))\n",
    "    Hmean = fort81[:,1]\n",
    "    Imean = fort81[:,2]\n",
    "    Hstd  = fort81[:,3]\n",
    "    Istd  = fort81[:,4]\n",
    "    HIcor = fort81[:,5]\n",
    "    \n",
    "    emitx = np.loadtxt('fort.24',usecols=(0, -1))\n",
    "    s = emitx[:,0]\n",
    "    emitx = emitx[:,-1]\n",
    "    emity = np.loadtxt('fort.25',usecols=(-1))\n",
    "    \n",
    "    stat = {'s'    :s,\n",
    "            'emitx':emitx,\n",
    "            'emity':emity,\n",
    "            'Hmean':Hmean,\n",
    "            'Imean':Imean,\n",
    "            'Hstd' :Hstd,\n",
    "            'Istd' :Istd,\n",
    "            'HIcor':HIcor}\n",
    "    \n",
    "    data = {'Twiss0':Twiss0,\n",
    "            'Twiss1':Twiss1,\n",
    "            'pData0':pData0,\n",
    "            'pData1':pData1,\n",
    "            'pLost' :pLost,\n",
    "            'stat'  :stat}\n",
    "    \n",
    "    #!rm lost_partcl.data fort.111111 test.in\n",
    "    \n",
    "    return data"
   ]
  },
  {
   "cell_type": "markdown",
   "metadata": {},
   "source": [
    "# Run and collect data"
   ]
  },
  {
   "cell_type": "code",
   "execution_count": 7,
   "metadata": {},
   "outputs": [],
   "source": [
    "Deco = ['iota_v8_4_SextOff_NLon',\n",
    "        'iota_v8_4_SextOn_NLon',\n",
    "        'iota_v8_4_SextGoodDA_NLon']\n",
    "data = pickle.load(open('pLossData_iota_v8_4_variousSextSettings.pickle','rb'))\n",
    "# data = {}"
   ]
  },
  {
   "cell_type": "markdown",
   "metadata": {},
   "source": [
    "## Thermal Beam"
   ]
  },
  {
   "cell_type": "markdown",
   "metadata": {},
   "source": [
    "#### iota_v8_4_SextOff_NLon"
   ]
  },
  {
   "cell_type": "code",
   "execution_count": null,
   "metadata": {},
   "outputs": [
    {
     "name": "stdout",
     "output_type": "stream",
     "text": [
      "reading ImpactZ input file (\u001b[92mtest_iota_v8_4_SextOff_NLon.in\u001b[0m)\n",
      "  : mpi task info .............................done\n",
      "  : simulation control parameters .............done\n",
      "  : space charge field solver, mesh info ......done\n",
      "  : dist-type,restart,subcycle,#of state ......done\n",
      "  : Multiple Charge State info ................done\n",
      "  : particle distribution info ................done\n",
      "  : beam reference orbit info .................done\n",
      "  : converting impact dist to twiss param......done\n",
      "  : lattice info ..............................done\n"
     ]
    }
   ],
   "source": [
    "deco = 'iota_v8_4_SextOff_NLon'\n",
    "if deco+'_thermal' not in data.keys():\n",
    "    data[deco+'_thermal']=getLostDataThermal(deco,emitGeomRMS,0.4,0.4,npt,nturn)\n",
    "    pickle.dump(data,open('pLossData_iota_v8_4_variousSextSettings.pickle','wb'))"
   ]
  },
  {
   "cell_type": "markdown",
   "metadata": {},
   "source": [
    "#### iota_v8_4_SextOn_NLon"
   ]
  },
  {
   "cell_type": "code",
   "execution_count": null,
   "metadata": {},
   "outputs": [],
   "source": [
    "deco = 'iota_v8_4_SextOn_NLon'\n",
    "if deco+'_thermal' not in data.keys():\n",
    "    data[deco+'_thermal']=getLostDataThermal(deco,emitGeomRMS,0.4,0.4,npt,nturn)\n",
    "    pickle.dump(data,open('pLossData_iota_v8_4_variousSextSettings.pickle','wb'))"
   ]
  },
  {
   "cell_type": "markdown",
   "metadata": {},
   "source": [
    "#### iota_v8_4_SextGoodDA_NLon"
   ]
  },
  {
   "cell_type": "code",
   "execution_count": null,
   "metadata": {},
   "outputs": [],
   "source": [
    "deco = 'iota_v8_4_SextGoodDA_NLon'\n",
    "if deco+'_thermal' not in data.keys():\n",
    "    data[deco+'_thermal']=getLostDataThermal(deco,emitGeomRMS,0.4,0.4,npt,nturn)\n",
    "    pickle.dump(data,open('pLossData_iota_v8_4_variousSextSettings.pickle','wb'))"
   ]
  },
  {
   "cell_type": "markdown",
   "metadata": {},
   "source": [
    "## Exponential Beam"
   ]
  },
  {
   "cell_type": "code",
   "execution_count": 22,
   "metadata": {},
   "outputs": [
    {
     "data": {
      "text/plain": [
       "(0.49524020293287413,\n",
       " 0.16669260330749974,\n",
       " 2.645169074698375e-06,\n",
       " 2.047576820369176,\n",
       " 0.4621109662791848,\n",
       " 5.5814862683766e-06,\n",
       " 1338.7005768170793,\n",
       " 2.3611888931473417,\n",
       " 0.0051337593474649855)"
      ]
     },
     "execution_count": 22,
     "metadata": {},
     "output_type": "execute_result"
    }
   ],
   "source": [
    "deco = 'iota_v8_4_SextOff_NLon'\n",
    "Twiss1 = data[deco+'_thermal']['Twiss1']\n",
    "betx,alfx,emitx,bety,alfy,emity,betz,alfz,emitz = Twiss1\n",
    "Twiss1"
   ]
  },
  {
   "cell_type": "markdown",
   "metadata": {},
   "source": [
    "#### iota_v8_4_SextOff_NLon"
   ]
  },
  {
   "cell_type": "code",
   "execution_count": null,
   "metadata": {},
   "outputs": [
    {
     "name": "stdout",
     "output_type": "stream",
     "text": [
      "reading ImpactZ input file (\u001b[92mtest_iota_v8_4_SextOff_NLon.in\u001b[0m)\n",
      "  : mpi task info .............................done\n",
      "  : simulation control parameters .............done\n",
      "  : space charge field solver, mesh info ......done\n",
      "  : dist-type,restart,subcycle,#of state ......done\n",
      "  : Multiple Charge State info ................done\n",
      "  : particle distribution info ................done\n",
      "  : beam reference orbit info .................done\n",
      "  : converting impact dist to twiss param......done\n",
      "  : lattice info ..............................done\n"
     ]
    }
   ],
   "source": [
    "deco = 'iota_v8_4_SextOff_NLon'\n",
    "if deco+'_exponential' not in data.keys():\n",
    "    data[deco+'_exponential']=getLostDataExponential(deco,betx,alfx,emitx,bety,alfy,emity,0.4,npt,nturn,order=3)\n",
    "    pickle.dump(data,open('pLossData_iota_v8_4_variousSextSettings.pickle','wb'))"
   ]
  },
  {
   "cell_type": "markdown",
   "metadata": {},
   "source": [
    "#### iota_v8_4_SextOn_NLon"
   ]
  },
  {
   "cell_type": "code",
   "execution_count": null,
   "metadata": {},
   "outputs": [],
   "source": [
    "deco = 'iota_v8_4_SextOn_NLon'\n",
    "if deco+'_exponential' not in data.keys():\n",
    "    data[deco+'_exponential']=getLostDataExponential(deco,betx,alfx,emitx,bety,alfy,emity,0.4,npt,nturn,order=3)\n",
    "    pickle.dump(data,open('pLossData_iota_v8_4_variousSextSettings.pickle','wb'))"
   ]
  },
  {
   "cell_type": "markdown",
   "metadata": {},
   "source": [
    "#### iota_v8_4_SextGoodDA_NLon"
   ]
  },
  {
   "cell_type": "code",
   "execution_count": null,
   "metadata": {},
   "outputs": [],
   "source": [
    "deco = 'iota_v8_4_SextGoodDA_NLon'\n",
    "if deco+'_exponential' not in data.keys():\n",
    "    data[deco+'_exponential']=getLostDataExponential(deco,betx,alfx,emitx,bety,alfy,emity,0.4,npt,nturn,order=3)\n",
    "    pickle.dump(data,open('pLossData_iota_v8_4_variousSextSettings.pickle','wb'))"
   ]
  },
  {
   "cell_type": "code",
   "execution_count": null,
   "metadata": {},
   "outputs": [],
   "source": []
  }
 ],
 "metadata": {
  "kernelspec": {
   "display_name": "Python 3",
   "language": "python",
   "name": "python3"
  },
  "language_info": {
   "codemirror_mode": {
    "name": "ipython",
    "version": 3
   },
   "file_extension": ".py",
   "mimetype": "text/x-python",
   "name": "python",
   "nbconvert_exporter": "python",
   "pygments_lexer": "ipython3",
   "version": "3.6.5"
  }
 },
 "nbformat": 4,
 "nbformat_minor": 2
}
