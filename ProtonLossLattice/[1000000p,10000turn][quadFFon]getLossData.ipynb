{
 "cells": [
  {
   "cell_type": "code",
   "execution_count": 1,
   "metadata": {},
   "outputs": [],
   "source": [
    "import pImpactR as impact\n",
    "import numpy as np\n",
    "import matplotlib.pyplot as plt\n",
    "from copy import deepcopy as copy\n",
    "import shutil \n",
    "import pickle\n",
    "rectangular_ = 1\n",
    "elliptic_ = 2"
   ]
  },
  {
   "cell_type": "code",
   "execution_count": 2,
   "metadata": {},
   "outputs": [
    {
     "name": "stdout",
     "output_type": "stream",
     "text": [
      "npt= 1000000\n"
     ]
    }
   ],
   "source": [
    "NL_t = 0.4\n",
    "emitGeomRMS = 3.3e-6\n",
    "npt = 1000000\n",
    "print('npt=',npt)\n",
    "nturn = 10000"
   ]
  },
  {
   "cell_type": "code",
   "execution_count": 3,
   "metadata": {},
   "outputs": [],
   "source": [
    "NL_L = 1.8\n",
    "NL_c = 0.01\n",
    "NL_nu = 0.3"
   ]
  },
  {
   "cell_type": "markdown",
   "metadata": {},
   "source": [
    "# read Aperture"
   ]
  },
  {
   "cell_type": "code",
   "execution_count": 4,
   "metadata": {},
   "outputs": [],
   "source": [
    "aperture = np.loadtxt('pipeinfo.in')"
   ]
  },
  {
   "cell_type": "code",
   "execution_count": 5,
   "metadata": {},
   "outputs": [
    {
     "data": {
      "text/plain": [
       "39.968229720000004"
      ]
     },
     "execution_count": 5,
     "metadata": {},
     "output_type": "execute_result"
    }
   ],
   "source": [
    "aperture[-1,0]"
   ]
  },
  {
   "cell_type": "markdown",
   "metadata": {},
   "source": [
    "# read impact lattice"
   ]
  },
  {
   "cell_type": "code",
   "execution_count": 6,
   "metadata": {
    "scrolled": true
   },
   "outputs": [
    {
     "name": "stdout",
     "output_type": "stream",
     "text": [
      "reading ImpactZ input file (\u001b[92mtest.Chad.in\u001b[0m)\n",
      "  : mpi task info .............................done\n",
      "  : simulation control parameters .............done\n",
      "  : space charge field solver, mesh info ......done\n",
      "  : dist-type,restart,subcycle,#of state ......done\n",
      "  : Multiple Charge State info ................done\n",
      "  : particle distribution info ................done\n",
      "  : beam reference orbit info .................done\n",
      "  : converting impact dist to twiss param......done\n",
      "  : lattice info ..............................done\n",
      "\n",
      "\n",
      " emitN = 2.4105916749973357e-07\n"
     ]
    }
   ],
   "source": [
    "beam,lattice = impact.readInputFile('test.Chad.in')\n",
    "beam.nCore_y=8\n",
    "beam.nCore_z=4\n",
    "beam.n_particles = npt\n",
    "\n",
    "ke = beam.kinetic_energy\n",
    "mass = beam.mass\n",
    "freq = beam.frequency\n",
    "\n",
    "g = ke/mass+1.0\n",
    "bg = np.sqrt(g**2-1.0)\n",
    "emitN = emitGeomRMS*bg\n",
    "print('\\n\\n emitN =',emitN)"
   ]
  },
  {
   "cell_type": "code",
   "execution_count": 7,
   "metadata": {},
   "outputs": [
    {
     "name": "stdout",
     "output_type": "stream",
     "text": [
      "NL: 4.9115191429 6.711519142899999\n",
      "-4.199918635094946e-09\n"
     ]
    }
   ],
   "source": [
    "cleanLat = impact.clearLattice(lattice)\n",
    "L = 0 \n",
    "for item in cleanLat:\n",
    "    if item.type == 'RFkick':\n",
    "        item.vmax = 0.0\n",
    "    if item.type == 'nonlinear_insert':\n",
    "        NLfoward = item\n",
    "        print('NL:',L,L+item.length)\n",
    "    if 'length' in item:\n",
    "        L = L+item.length\n",
    "print(L-aperture[-1,0])\n",
    "\n",
    "NLfoward.n_sckick = 2\n",
    "NLfoward.n_map = 45"
   ]
  },
  {
   "cell_type": "code",
   "execution_count": 8,
   "metadata": {},
   "outputs": [
    {
     "data": {
      "text/plain": [
       "\n",
       "             length: 1.8 [m]\n",
       "           n_sckick: 2 [1]\n",
       "              n_map: 45 [1]\n",
       "         strength_t: 0.4\n",
       " transverse_scale_c: 0.01\n",
       "        pipe_radius: 10.0 [m]\n",
       "       tune_advance: 0.3\n",
       "               type: 'nonlinear_insert'"
      ]
     },
     "execution_count": 8,
     "metadata": {},
     "output_type": "execute_result"
    }
   ],
   "source": [
    "NLfoward"
   ]
  },
  {
   "cell_type": "code",
   "execution_count": 9,
   "metadata": {},
   "outputs": [],
   "source": [
    "for item in cleanLat:\n",
    "    if 'length' in item:\n",
    "        item.n_sckick = int(np.ceil(item.length*50))\n",
    "        item.n_map = 1"
   ]
  },
  {
   "cell_type": "markdown",
   "metadata": {},
   "source": [
    "add quadrupole fringe hard-edge model"
   ]
  },
  {
   "cell_type": "code",
   "execution_count": 10,
   "metadata": {},
   "outputs": [],
   "source": [
    "cleanLat = impact.addHardEdgeQuad(cleanLat)"
   ]
  },
  {
   "cell_type": "markdown",
   "metadata": {},
   "source": [
    "# Back tracking for IOTA matched beam at injection location"
   ]
  },
  {
   "cell_type": "code",
   "execution_count": 11,
   "metadata": {},
   "outputs": [],
   "source": [
    "for i in range(len(cleanLat)):\n",
    "    if cleanLat[i].type == 'nonlinear_insert':\n",
    "        break\n",
    "\n",
    "latticeB = impact.getInverseLattice(cleanLat[:i])\n",
    "\n",
    "write0 = impact.getElem('write_raw_ptcl')\n",
    "write0.file_id = 111110\n",
    "write0.format_id = 2\n",
    "latticeB.insert(0,write0)\n",
    "\n",
    "\n",
    "write1 = impact.getElem('write_raw_ptcl')\n",
    "write1.file_id = 111111\n",
    "write1.format_id = 2\n",
    "latticeB.append(write1)\n",
    "\n",
    "loop = impact.getElem('loop')\n",
    "loop.turns = 1\n",
    "latticeB.insert(0,loop)"
   ]
  },
  {
   "cell_type": "code",
   "execution_count": 12,
   "metadata": {},
   "outputs": [],
   "source": [
    "cleanLat.insert(0,impact.getElem('pipeinfo'))\n",
    "cleanLat.insert(1,impact.getElem('loop'))\n",
    "cleanLat[1].turns = nturn\n",
    "\n",
    "write2 = impact.getElem('write_raw_ptcl')\n",
    "write2.file_id = 222222\n",
    "write2.format_id = 2\n",
    "cleanLat.append(write2)"
   ]
  },
  {
   "cell_type": "markdown",
   "metadata": {},
   "source": [
    "# Define runs"
   ]
  },
  {
   "cell_type": "markdown",
   "metadata": {},
   "source": [
    "### thermal"
   ]
  },
  {
   "cell_type": "code",
   "execution_count": 13,
   "metadata": {},
   "outputs": [],
   "source": [
    "def prepareIOTA_Thermal(tauBeam,tauMag,H0,dE,order,CL):\n",
    "    beam.distribution.mode = 'twiss'\n",
    "    beam.distribution.distribution_type = 'IOTA_Gauss'\n",
    "    beam.distribution.NL_t  = tauBeam\n",
    "    beam.distribution.NL_c  = NL_c\n",
    "    beam.distribution.betx  = NL_L/np.sin(2.0*np.pi*NL_nu)\n",
    "    beam.distribution.alfx  = np.tan(np.pi*NL_nu)\n",
    "    beam.distribution.emitx = H0\n",
    "    beam.distribution.CL    = CL\n",
    "    beam.distribution.betz  = 200\n",
    "    beam.distribution.alfz  = 0.0\n",
    "    beam.distribution.emitz = (dE*ke*1.0e-6)**2*beam.distribution.betz\n",
    "    impact.writeInputFile(beam,latticeB)\n",
    "    impact.writeInputFile(beam,latticeB,'test.in.prepare.nonlinearThermal.tau='+str(tauBeam))\n",
    "    impact.run(beam,order=order)\n",
    "    pData0 = impact.readParticleData(111110,ke,mass,freq,2)\n",
    "    Twiss0 = impact.getTwiss_from_pData(pData0)\n",
    "    pData0 = pData0[:,[0,1,2,3,5,-1]]\n",
    "    pData1 = impact.readParticleData(111111,ke,mass,freq,2)\n",
    "    Twiss1 = impact.getTwiss_from_pData(pData1)\n",
    "    pData1 = pData1[:,[0,1,2,3,5,-1]]\n",
    "    \n",
    "    beam.distribution.distribution_type = 'ReadFile_binary'\n",
    "    beam.distribution.file_id = 111111\n",
    "    NLfoward.strength_t = tauMag\n",
    "    impact.writeInputFile(beam,cleanLat,'test.in.run.tau='+str(tauBeam))\n",
    "    \n",
    "    shutil.copyfile('fort.111110', 'fort.NL_ent.thermal.npt='+str(npt)+'.NL_t='+str(tauMag)+'.beam_t='+str(tauBeam)+'.turn=0')\n",
    "    shutil.copyfile('fort.111111', 'fort.inject.thermal.npt='+str(npt)+'.NL_t='+str(tauMag)+'.beam_t='+str(tauBeam)+'.turn=0')\n",
    "    \n",
    "    return 0"
   ]
  },
  {
   "cell_type": "code",
   "execution_count": 14,
   "metadata": {},
   "outputs": [],
   "source": [
    "def runIOTA_Thermal(t0,t1,tauBeam,tauMag,order):\n",
    "    \n",
    "    shutil.copyfile('fort.inject.thermal'+\n",
    "                    '.npt='+str(npt)+\n",
    "                    '.NL_t='+str(tauMag)+\n",
    "                    '.beam_t='+str(tauBeam)+\n",
    "                    '.turn='+str(t0),\n",
    "                    'fort.111111')\n",
    "    \n",
    "    beam.distribution.distribution_type = 'ReadFile_binary'\n",
    "    beam.distribution.file_id = 111111\n",
    "    NLfoward.strength_t = tauMag\n",
    "    cleanLat[1].turns = t1-t0\n",
    "    write2.turn = t1-t0\n",
    "    impact.writeInputFile(beam,cleanLat)\n",
    "    impact.run(beam,order=order)\n",
    "    \n",
    "    try:\n",
    "        pLost = np.loadtxt('lost_partcl.data',skiprows=1, usecols=(0,1,2,3))\n",
    "        print(len(pLost))\n",
    "    except:\n",
    "        pLost = 0\n",
    "        \n",
    "    fname = 'lost_partcl.pickle.thermal'+   \\\n",
    "            '.NL_t='+str(tauMag)+    \\\n",
    "            '.beam_t='+str(tauBeam)+ \\\n",
    "            '.t0='+str(t0)+          \\\n",
    "            '.t1='+str(t1)\n",
    "    pickle.dump(pLost,open(fname,'wb'))\n",
    "    \n",
    "    \n",
    "    shutil.copyfile('fort.222222', \n",
    "                    'fort.inject.thermal'+\n",
    "                    '.npt='+str(npt)+\n",
    "                    '.NL_t='+str(tauMag)+\n",
    "                    '.beam_t='+str(tauBeam)+\n",
    "                    '.turn='+str(t1))\n",
    "    \n",
    "    return 0"
   ]
  },
  {
   "cell_type": "code",
   "execution_count": 23,
   "metadata": {},
   "outputs": [],
   "source": [
    "def getIOTA_Thermal_data(T,tauBeam,tauMag):\n",
    "    '''\n",
    "    T=[t0,t1,t2...tn]\n",
    "    '''\n",
    "    shutil.copyfile('fort.NL_ent.thermal.npt='+str(npt)+'.NL_t='+str(tauMag)+'.beam_t='+str(tauBeam)+'.turn=0',\n",
    "                    'fort.111110')\n",
    "    shutil.copyfile('fort.inject.thermal.npt='+str(npt)+'.NL_t='+str(tauMag)+'.beam_t='+str(tauBeam)+'.turn=0',\n",
    "                    'fort.111111')\n",
    "    \n",
    "    pData0 = impact.readParticleData(111110,ke,mass,freq,2)\n",
    "    Twiss0 = impact.getTwiss_from_pData(pData0)\n",
    "    pData0 = pData0[:,[0,1,2,3,5,-1]]\n",
    "    pData1 = impact.readParticleData(111111,ke,mass,freq,2)\n",
    "    Twiss1 = impact.getTwiss_from_pData(pData1)\n",
    "    pData1 = pData1[:,[0,1,2,3,5,-1]]\n",
    "    \n",
    "    pLostList = []\n",
    "    nptLost = []\n",
    "    n = 0\n",
    "    for i in range(len(T)-1):\n",
    "        t0 = T[i]\n",
    "        t1 = T[i+1]\n",
    "        fname = 'lost_partcl.pickle.thermal'+   \\\n",
    "                '.NL_t='+str(tauMag)+    \\\n",
    "                '.beam_t='+str(tauBeam)+ \\\n",
    "                '.t0='+str(t0)+          \\\n",
    "                '.t1='+str(t1)\n",
    "        tmp = pickle.load(open(fname,'rb'))\n",
    "        if not isinstance(tmp,int):\n",
    "            nptLost.append(len(tmp))\n",
    "            pLostList.append(tmp)\n",
    "        if len(nptLost)>1:\n",
    "            nptLost[-1]=nptLost[-2]+nptLost[-1]\n",
    "    \n",
    "    pLost = np.zeros([nptLost[-1],4])\n",
    "    pLost[:nptLost[0],:]=pLostList[0]\n",
    "    for i in range(1,len(pLostList)):\n",
    "        pLost[nptLost[i-1]:nptLost[i],:]=pLostList[i]\n",
    "    \n",
    "        \n",
    "    return {'Twiss0':Twiss0,'Twiss1':Twiss1,'pData0':pData0,'pData1':pData1,'pLost':pLost}"
   ]
  },
  {
   "cell_type": "markdown",
   "metadata": {},
   "source": [
    "### Exponential"
   ]
  },
  {
   "cell_type": "code",
   "execution_count": 16,
   "metadata": {},
   "outputs": [],
   "source": [
    "def prepare_Exponential(betx,alfx,emitx,CLx,bety,alfy,emity,CLy,dE,tauBeam,tauMag,order):\n",
    "    beam.distribution.mode = 'twiss'\n",
    "    beam.distribution.distribution_type = 'Exponential2D_trunc'\n",
    "    beam.distribution.betx  = betx\n",
    "    beam.distribution.alfx  = alfx\n",
    "    beam.distribution.emitx = emitx\n",
    "    beam.distribution.CLx   = CLx\n",
    "    beam.distribution.bety  = bety\n",
    "    beam.distribution.alfy  = alfy\n",
    "    beam.distribution.emity = emity\n",
    "    beam.distribution.CLy   = CLy\n",
    "    beam.distribution.betz  = 200\n",
    "    beam.distribution.alfz  = 0.0\n",
    "    beam.distribution.emitz = (dE*ke*1.0e-6)**2*beam.distribution.betz\n",
    "    \n",
    "    impact.writeInputFile(beam,cleanLat[:2]+[write1])\n",
    "    impact.run(beam,order=order)\n",
    "\n",
    "    shutil.copyfile('fort.111111', 'fort.inject.exponential'+\n",
    "                                   '.npt='+str(npt)+\n",
    "                                   '.NL_t='+str(tauMag)+\n",
    "                                   '.beam_t='+str(tauBeam)+'.turn0')\n",
    "\n",
    "    return 0"
   ]
  },
  {
   "cell_type": "code",
   "execution_count": 17,
   "metadata": {},
   "outputs": [],
   "source": [
    "def run_Exponential(t0,t1,tauBeam,tauMag,order):\n",
    "    \n",
    "    shutil.copyfile('fort.inject.exponential'+\n",
    "                    '.npt='+str(npt)+\n",
    "                    '.NL_t='+str(tauMag)+\n",
    "                    '.beam_t='+str(tauBeam)+\n",
    "                    '.turn='+str(t0),\n",
    "                    'fort.111111')\n",
    "    \n",
    "    beam.distribution.distribution_type = 'ReadFile_binary'\n",
    "    beam.distribution.file_id = 111111\n",
    "    NLfoward.strength_t = tauMag\n",
    "    cleanLat[1].turns = t1-t0\n",
    "    write2.turn = t1-t0\n",
    "    impact.writeInputFile(beam,cleanLat)\n",
    "    impact.run(beam,order=order)\n",
    "    \n",
    "    try:\n",
    "        pLost = np.loadtxt('lost_partcl.data',skiprows=1, usecols=(0,1,2,3))\n",
    "        print(len(pLost))\n",
    "    except:\n",
    "        pLost = 0\n",
    "        \n",
    "    fname = 'lost_partcl.pickle.exponential'+   \\\n",
    "            '.NL_t='+str(tauMag)+    \\\n",
    "            '.beam_t='+str(tauBeam)+ \\\n",
    "            '.t0='+str(t0)+          \\\n",
    "            '.t1='+str(t1)\n",
    "    pickle.dump(pLost,open(fname,'wb'))\n",
    "    \n",
    "    \n",
    "    shutil.copyfile('fort.222222', \n",
    "                    'fort.inject.exponential'+\n",
    "                    '.npt='+str(npt)+\n",
    "                    '.NL_t='+str(tauMag)+\n",
    "                    '.beam_t='+str(tauBeam)+\n",
    "                    '.turn='+str(t1))\n",
    "    \n",
    "    return 0"
   ]
  },
  {
   "cell_type": "code",
   "execution_count": 18,
   "metadata": {},
   "outputs": [],
   "source": [
    "def get_Exponential_data(T,tauBeam,tauMag):\n",
    "    '''\n",
    "    T=[t0,t1,t2...tn]\n",
    "    '''\n",
    "    shutil.copyfile('fort.inject.exponential.npt='+str(npt)+'.NL_t='+str(tauMag)+'.beam_t='+str(tauBeam)+'.turn=0',\n",
    "                    'fort.111111')\n",
    "    \n",
    "    pData1 = impact.readParticleData(111111,ke,mass,freq,2)\n",
    "    Twiss1 = impact.getTwiss_from_pData(pData1)\n",
    "    pData1 = pData1[:,[0,1,2,3,5,-1]]\n",
    "    \n",
    "    pLostList = []\n",
    "    nptLost = []\n",
    "    n = 0\n",
    "    for i in range(len(T)-1):\n",
    "        t0 = T[i]\n",
    "        t1 = T[i+1]\n",
    "        fname = 'lost_partcl.pickle.exponential'+   \\\n",
    "                '.NL_t='+str(tauMag)+    \\\n",
    "                '.beam_t='+str(tauBeam)+ \\\n",
    "                '.t0='+str(t0)+          \\\n",
    "                '.t1='+str(t1)\n",
    "        tmp = pickle.load(open(fname,'rb'))\n",
    "        if not isinstance(tmp,int):\n",
    "            nptLost.append(len(tmp))\n",
    "            pLostList.append(tmp)\n",
    "        if len(nptLost)>1:\n",
    "            nptLost[-1]=nptLost[-2]+nptLost[-1]\n",
    "    \n",
    "    pLost = np.zeros([nptLost[-1],4])\n",
    "    pLost[:nptLost[0],:]=pLostList[0]\n",
    "    for i in range(1,len(pLostList)):\n",
    "        pLost[nptLost[i-1]:nptLost[i],:]=pLostList[i]\n",
    "    \n",
    "        \n",
    "    return {'Twiss1':Twiss1,'pData1':pData1,'pLost':pLost}"
   ]
  },
  {
   "cell_type": "markdown",
   "metadata": {},
   "source": [
    "# Run and collect data"
   ]
  },
  {
   "cell_type": "code",
   "execution_count": 19,
   "metadata": {},
   "outputs": [],
   "source": [
    "# lostp_data = {}\n",
    "import pickle\n",
    "# pickle.dump(lostp_data,open('lostp_data.QFF.p100000.pickle','wb'))\n",
    "# lostp_data = pickle.load(open('lostp_data.QFF.p100000.pickle','rb'))"
   ]
  },
  {
   "cell_type": "markdown",
   "metadata": {},
   "source": [
    "### Thermal, $H_{\\tau=0.4}$, $\\sigma_E=2\\times10^{-3}$, $order=3$"
   ]
  },
  {
   "cell_type": "code",
   "execution_count": 20,
   "metadata": {},
   "outputs": [
    {
     "data": {
      "text/plain": [
       "0"
      ]
     },
     "execution_count": 20,
     "metadata": {},
     "output_type": "execute_result"
    }
   ],
   "source": [
    "prepareIOTA_Thermal(0.4,0.4,emitGeomRMS,2.0e-3,3,6.0)"
   ]
  },
  {
   "cell_type": "code",
   "execution_count": null,
   "metadata": {},
   "outputs": [],
   "source": [
    "runIOTA_Thermal(0,1000,0.4,0.4,3)"
   ]
  },
  {
   "cell_type": "code",
   "execution_count": 24,
   "metadata": {},
   "outputs": [],
   "source": [
    "data = getIOTA_Thermal_data([0,1,2,3],0.4,0.4)"
   ]
  },
  {
   "cell_type": "code",
   "execution_count": 26,
   "metadata": {
    "scrolled": true
   },
   "outputs": [
    {
     "data": {
      "text/plain": [
       "(0.49546931530716076,\n",
       " 0.16780940509527678,\n",
       " 2.626235810074259e-06,\n",
       " 2.036531911579023,\n",
       " 0.4645013981532215,\n",
       " 5.5764228815324e-06,\n",
       " 1340.5273727678225,\n",
       " 2.356485418959427,\n",
       " 0.005123293286719018)"
      ]
     },
     "execution_count": 26,
     "metadata": {},
     "output_type": "execute_result"
    }
   ],
   "source": [
    "Twiss1=data['Twiss1']\n",
    "Twiss1"
   ]
  },
  {
   "cell_type": "markdown",
   "metadata": {},
   "source": [
    "### Exponential, $H_{\\tau=0.4}$, $\\sigma_E=2\\times10^{-3}$, $order=3$"
   ]
  },
  {
   "cell_type": "code",
   "execution_count": null,
   "metadata": {},
   "outputs": [],
   "source": [
    "beam.nCore_y=4\n",
    "beam.nCore_z=2"
   ]
  },
  {
   "cell_type": "code",
   "execution_count": null,
   "metadata": {},
   "outputs": [],
   "source": [
    "prepare_Exponential(0.49546931530716076,0.16780940509527678,emitGeomRMS,6.0,\n",
    "                    2.036531911579023,0.4645013981532215,emitGeomRMS,6.0,\n",
    "                    2.0e-3,0.4,0.4):"
   ]
  },
  {
   "cell_type": "code",
   "execution_count": null,
   "metadata": {},
   "outputs": [],
   "source": [
    "run_Exponential(0,1,0.4,0.4,3)\n",
    "run_Exponential(1,2,0.4,0.4,3)\n",
    "run_Exponential(2,3,0.4,0.4,3)"
   ]
  },
  {
   "cell_type": "code",
   "execution_count": null,
   "metadata": {},
   "outputs": [],
   "source": [
    "data = get_Exponential_data([0,1,2,3],0.4,0.4)"
   ]
  }
 ],
 "metadata": {
  "kernelspec": {
   "display_name": "Python 3",
   "language": "python",
   "name": "python3"
  },
  "language_info": {
   "codemirror_mode": {
    "name": "ipython",
    "version": 3
   },
   "file_extension": ".py",
   "mimetype": "text/x-python",
   "name": "python",
   "nbconvert_exporter": "python",
   "pygments_lexer": "ipython3",
   "version": "3.6.5"
  }
 },
 "nbformat": 4,
 "nbformat_minor": 2
}
