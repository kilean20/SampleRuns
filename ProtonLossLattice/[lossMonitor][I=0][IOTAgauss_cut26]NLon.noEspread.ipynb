{
 "cells": [
  {
   "cell_type": "code",
   "execution_count": 1,
   "metadata": {},
   "outputs": [],
   "source": [
    "import pImpactR as impact\n",
    "import numpy as np\n",
    "import matplotlib.pyplot as plt\n",
    "from copy import deepcopy as copy\n",
    "rectangular_ = 1\n",
    "elliptic_ = 2"
   ]
  },
  {
   "cell_type": "code",
   "execution_count": 2,
   "metadata": {},
   "outputs": [],
   "source": [
    "eSpread = 0\n",
    "emitGeomRMS = 3.3e-6\n",
    "npt = 3200*1000\n",
    "nturn = 2048\n",
    "CLcut = 2.6"
   ]
  },
  {
   "cell_type": "code",
   "execution_count": 3,
   "metadata": {},
   "outputs": [],
   "source": [
    "NL_L = 1.8\n",
    "NL_c = 0.01\n",
    "NL_t = 0.4\n",
    "NL_nu = 0.3\n",
    "\n",
    "betx = NL_L/np.sin(2.0*np.pi*NL_nu)\n",
    "alfx = np.tan(np.pi*NL_nu)"
   ]
  },
  {
   "cell_type": "markdown",
   "metadata": {},
   "source": [
    "# read Aperture"
   ]
  },
  {
   "cell_type": "code",
   "execution_count": 4,
   "metadata": {},
   "outputs": [],
   "source": [
    "aperture = np.loadtxt('pipeinfo.in')"
   ]
  },
  {
   "cell_type": "code",
   "execution_count": 5,
   "metadata": {},
   "outputs": [
    {
     "data": {
      "image/png": "[encoded data removed]",
      "text/plain": [
       "<Figure size 864x216 with 1 Axes>"
      ]
     },
     "metadata": {},
     "output_type": "display_data"
    }
   ],
   "source": [
    "plt.figure(figsize=(12,3))\n",
    "plt.plot(aperture[:,0],aperture[:,1]*100)\n",
    "plt.plot(aperture[:,0],aperture[:,2]*100)\n",
    "plt.plot(aperture[:,0],(aperture[:,3]-1)*10,alpha=0.4)\n",
    "plt.grid()\n",
    "plt.ylim((0.2,3.5))\n",
    "plt.xlim((0.0, 40))\n",
    "plt.legend(('x','y'))\n",
    "plt.xlabel('s (m)')\n",
    "plt.ylabel('x or y aperture (cm)');"
   ]
  },
  {
   "cell_type": "code",
   "execution_count": 6,
   "metadata": {},
   "outputs": [
    {
     "data": {
      "text/plain": [
       "39.968229720000004"
      ]
     },
     "execution_count": 6,
     "metadata": {},
     "output_type": "execute_result"
    }
   ],
   "source": [
    "aperture[-1,0]"
   ]
  },
  {
   "cell_type": "markdown",
   "metadata": {},
   "source": [
    "# read impact lattice"
   ]
  },
  {
   "cell_type": "code",
   "execution_count": 7,
   "metadata": {
    "scrolled": true
   },
   "outputs": [
    {
     "name": "stdout",
     "output_type": "stream",
     "text": [
      "reading ImpactZ input file (\u001b[92mtest.Chad.in\u001b[0m)\n",
      "  : mpi task info .............................done\n",
      "  : simulation control parameters .............done\n",
      "  : space charge field solver, mesh info ......done\n",
      "  : dist-type,restart,subcycle,#of state ......done\n",
      "  : Multiple Charge State info ................done\n",
      "  : particle distribution info ................done\n",
      "  : beam reference orbit info .................done\n",
      "  : converting impact dist to twiss param......done\n",
      "  : lattice info ..............................done\n",
      "\n",
      "\n",
      " emitN = 2.4105916749973357e-07\n"
     ]
    }
   ],
   "source": [
    "beam,lattice = impact.readInputFile('test.Chad.in')\n",
    "beam.nCore_y=8\n",
    "beam.nCore_z=4\n",
    "beam.n_particles = npt\n",
    "\n",
    "ke = beam.kinetic_energy\n",
    "mass = beam.mass\n",
    "freq = beam.frequency\n",
    "\n",
    "g = ke/mass+1.0\n",
    "bg = np.sqrt(g**2-1.0)\n",
    "emitN = emitGeomRMS*bg\n",
    "print('\\n\\n emitN =',emitN)"
   ]
  },
  {
   "cell_type": "code",
   "execution_count": 8,
   "metadata": {},
   "outputs": [
    {
     "name": "stdout",
     "output_type": "stream",
     "text": [
      "NL: 4.9115191429 6.711519142899999\n",
      "-4.199918635094946e-09\n"
     ]
    }
   ],
   "source": [
    "cleanLat = impact.clearLattice(lattice)\n",
    "L = 0 \n",
    "for item in cleanLat:\n",
    "    if item.type == 'RFkick':\n",
    "        item.vmax = 0.0\n",
    "    if item.type == 'nonlinear_insert':\n",
    "        print('NL:',L,L+item.length)\n",
    "    if 'length' in item:\n",
    "        L = L+item.length\n",
    "print(L-aperture[-1,0])"
   ]
  },
  {
   "cell_type": "code",
   "execution_count": 9,
   "metadata": {},
   "outputs": [],
   "source": [
    "for item in cleanLat:\n",
    "    if 'length' in item:\n",
    "        item.n_sckick = int(np.ceil(item.length*50))\n",
    "        item.n_map = 1"
   ]
  },
  {
   "cell_type": "markdown",
   "metadata": {},
   "source": [
    "# Back tracking for IOTA matched beam at injection location"
   ]
  },
  {
   "cell_type": "code",
   "execution_count": 10,
   "metadata": {},
   "outputs": [],
   "source": [
    "for i in range(len(cleanLat)):\n",
    "    if cleanLat[i].type == 'nonlinear_insert':\n",
    "        break\n",
    "\n",
    "latticeB = impact.getInverseLattice(cleanLat[:i])"
   ]
  },
  {
   "cell_type": "code",
   "execution_count": 11,
   "metadata": {},
   "outputs": [],
   "source": [
    "write0 = impact.getElem('write_raw_ptcl')\n",
    "write0.file_id = 111110\n",
    "write0.format_id = 2\n",
    "latticeB.insert(0,write0)\n",
    "\n",
    "\n",
    "write1 = impact.getElem('write_raw_ptcl')\n",
    "write1.file_id = 111111\n",
    "write1.format_id = 2\n",
    "latticeB.append(write1)"
   ]
  },
  {
   "cell_type": "code",
   "execution_count": 12,
   "metadata": {},
   "outputs": [],
   "source": [
    "loop = impact.getElem('loop')\n",
    "loop.turns = 1\n",
    "latticeB.insert(0,loop)"
   ]
  },
  {
   "cell_type": "code",
   "execution_count": 13,
   "metadata": {},
   "outputs": [
    {
     "data": {
      "text/plain": [
       "(1.8926320036288808, 1.3763819204711734, 3.3e-06, 0.0)"
      ]
     },
     "execution_count": 13,
     "metadata": {},
     "output_type": "execute_result"
    }
   ],
   "source": [
    "beam.distribution.distribution_type = 'IOTA_Gauss'\n",
    "beam.distribution.NL_t  = NL_t\n",
    "beam.distribution.NL_c  = NL_c\n",
    "beam.distribution.betx  = betx\n",
    "beam.distribution.alfx  = alfx\n",
    "beam.distribution.emitx = emitGeomRMS\n",
    "beam.distribution.CL    = CLcut\n",
    "beam.distribution.betz  = 200\n",
    "beam.distribution.alfz  = 0.0\n",
    "beam.distribution.emitz = (eSpread*ke*1.0e-6)**2*beam.distribution.betz\n",
    "\n",
    "# beam.distribution.distribution_type = 'Gauss'\n",
    "# beam.distribution.alfx = alfx\n",
    "# beam.distribution.betx = betx\n",
    "# beam.distribution.alfy = alfx\n",
    "# beam.distribution.bety = betx\n",
    "# beam.distribution.emitx = emitN\n",
    "# beam.distribution.emity = emitN\n",
    "# beam.distribution.betz  = 200\n",
    "# beam.distribution.alfz  = 0.0\n",
    "# beam.distribution.emitz = (eSpread*ke*1.0e-6)**2*beam.distribution.betz\n",
    "\n",
    "betx,alfx,emitGeomRMS,beam.distribution.emitz"
   ]
  },
  {
   "cell_type": "code",
   "execution_count": 14,
   "metadata": {},
   "outputs": [
    {
     "data": {
      "text/plain": [
       "0"
      ]
     },
     "execution_count": 14,
     "metadata": {},
     "output_type": "execute_result"
    }
   ],
   "source": [
    "impact.writeInputFile(beam,latticeB)\n",
    "impact.run(beam)"
   ]
  },
  {
   "cell_type": "code",
   "execution_count": 15,
   "metadata": {},
   "outputs": [],
   "source": [
    "pData0 = impact.readParticleData(111110,ke,mass,freq,2)"
   ]
  },
  {
   "cell_type": "code",
   "execution_count": 16,
   "metadata": {},
   "outputs": [
    {
     "name": "stderr",
     "output_type": "stream",
     "text": [
      "/users/kilean/IOTA/pImpactR/pImpactR/impactIO.py:1543: RuntimeWarning: invalid value encountered in double_scalars\n",
      "  betz = varx/emitz\n",
      "/users/kilean/IOTA/pImpactR/pImpactR/impactIO.py:1544: RuntimeWarning: invalid value encountered in double_scalars\n",
      "  alfz = np.sqrt(varpx/emitz*betz-1)\n"
     ]
    },
    {
     "data": {
      "text/plain": [
       "(1.4754093902567207,\n",
       " 1.0736368227420814,\n",
       " 1.7449838367929713e-06,\n",
       " 3.3981060494931503,\n",
       " 2.471075823270047,\n",
       " 4.015192460852327e-06,\n",
       " nan,\n",
       " nan,\n",
       " 0.0)"
      ]
     },
     "execution_count": 16,
     "metadata": {},
     "output_type": "execute_result"
    }
   ],
   "source": [
    "impact.getTwiss_from_pData(pData0)"
   ]
  },
  {
   "cell_type": "code",
   "execution_count": 17,
   "metadata": {},
   "outputs": [
    {
     "data": {
      "text/plain": [
       "<matplotlib.collections.PathCollection at 0x7f8e7134c080>"
      ]
     },
     "execution_count": 17,
     "metadata": {},
     "output_type": "execute_result"
    },
    {
     "data": {
      "image/png": "[encoded data removed]",
      "text/plain": [
       "<Figure size 720x720 with 4 Axes>"
      ]
     },
     "metadata": {},
     "output_type": "display_data"
    }
   ],
   "source": [
    "plt.figure(figsize=(10,10))\n",
    "plt.subplot(2,2,1)\n",
    "plt.scatter(pData0[:,0],pData0[:,1],s=1.0)\n",
    "plt.subplot(2,2,2)\n",
    "plt.scatter(pData0[:,2],pData0[:,3],s=1.0)\n",
    "plt.subplot(2,2,3)\n",
    "plt.scatter(pData0[:,4],pData0[:,5],s=1.0)\n",
    "plt.subplot(2,2,4)\n",
    "plt.scatter(pData0[:,0],pData0[:,2],s=1.0)"
   ]
  },
  {
   "cell_type": "code",
   "execution_count": 18,
   "metadata": {},
   "outputs": [],
   "source": [
    "pData1 = impact.readParticleData(111111,ke,mass,freq,2)"
   ]
  },
  {
   "cell_type": "code",
   "execution_count": 19,
   "metadata": {},
   "outputs": [
    {
     "data": {
      "text/plain": [
       "<matplotlib.collections.PathCollection at 0x7f8e6e1690f0>"
      ]
     },
     "execution_count": 19,
     "metadata": {},
     "output_type": "execute_result"
    },
    {
     "data": {
      "image/png": "[encoded data removed]",
      "text/plain": [
       "<Figure size 720x720 with 4 Axes>"
      ]
     },
     "metadata": {},
     "output_type": "display_data"
    }
   ],
   "source": [
    "plt.figure(figsize=(10,10))\n",
    "plt.subplot(2,2,1)\n",
    "plt.scatter(pData1[:,0],pData0[:,1],s=1.0)\n",
    "plt.subplot(2,2,2)\n",
    "plt.scatter(pData1[:,2],pData0[:,3],s=1.0)\n",
    "plt.subplot(2,2,3)\n",
    "plt.scatter(pData1[:,4],pData0[:,5],s=1.0)\n",
    "plt.subplot(2,2,4)\n",
    "plt.scatter(pData1[:,0],pData0[:,2],s=1.0)"
   ]
  },
  {
   "cell_type": "code",
   "execution_count": 20,
   "metadata": {},
   "outputs": [
    {
     "name": "stderr",
     "output_type": "stream",
     "text": [
      "/users/kilean/IOTA/pImpactR/pImpactR/impactIO.py:1543: RuntimeWarning: divide by zero encountered in double_scalars\n",
      "  betz = varx/emitz\n",
      "/users/kilean/IOTA/pImpactR/pImpactR/impactIO.py:1544: RuntimeWarning: invalid value encountered in double_scalars\n",
      "  alfz = np.sqrt(varpx/emitz*betz-1)\n"
     ]
    },
    {
     "data": {
      "text/plain": [
       "(0.47853404791861487,\n",
       " 0.17798279810132867,\n",
       " 1.7449830389404023e-06,\n",
       " 2.10651330853173,\n",
       " 0.5144483656839,\n",
       " 4.015189210768286e-06,\n",
       " inf,\n",
       " nan,\n",
       " 0.0)"
      ]
     },
     "execution_count": 20,
     "metadata": {},
     "output_type": "execute_result"
    }
   ],
   "source": [
    "impact.getTwiss_from_pData(pData1)"
   ]
  },
  {
   "cell_type": "markdown",
   "metadata": {},
   "source": [
    "# run"
   ]
  },
  {
   "cell_type": "code",
   "execution_count": 21,
   "metadata": {},
   "outputs": [],
   "source": [
    "beam.distribution.distribution_type = 'ReadFile_binary'\n",
    "beam.distribution.file_id = 111111"
   ]
  },
  {
   "cell_type": "code",
   "execution_count": 22,
   "metadata": {},
   "outputs": [],
   "source": [
    "# beam.distribution.alfx = 3.860846841e-5\n",
    "# beam.distribution.betx = 0.561065822\n",
    "# beam.distribution.alfy = 2.282987698e-9\n",
    "# beam.distribution.bety = 1.385141718\n",
    "# beam.distribution.emitx = emitN\n",
    "# beam.distribution.emity = emitN\n",
    "# beam.distribution.betz  = 200\n",
    "# beam.distribution.alfz  = 0.0\n",
    "# beam.distribution.emitz = (eSpread*ke*1.0e-6)**2*beam.distribution.betz\n",
    "# beam.distribution.distribution_type = 'IOTA_Gauss'"
   ]
  },
  {
   "cell_type": "markdown",
   "metadata": {},
   "source": [
    "# run Impact"
   ]
  },
  {
   "cell_type": "code",
   "execution_count": 23,
   "metadata": {},
   "outputs": [],
   "source": [
    "cleanLat.insert(0,impact.getElem('pipeinfo'))\n",
    "cleanLat.insert(1,impact.getElem('loop'))\n",
    "cleanLat[1].turns = nturn"
   ]
  },
  {
   "cell_type": "code",
   "execution_count": 24,
   "metadata": {},
   "outputs": [],
   "source": [
    "writeP = impact.getElem('write_raw_ptcl')\n",
    "writeP.file_id = 3456\n",
    "writeP.format_id = 2\n",
    "cleanLat.insert(2,writeP)"
   ]
  },
  {
   "cell_type": "code",
   "execution_count": null,
   "metadata": {},
   "outputs": [],
   "source": [
    "impact.writeInputFile(beam,cleanLat)\n",
    "impact.run(beam)"
   ]
  },
  {
   "cell_type": "code",
   "execution_count": null,
   "metadata": {},
   "outputs": [],
   "source": [
    "pData = impact.readParticleData(3456,ke,mass,freq,2)"
   ]
  },
  {
   "cell_type": "code",
   "execution_count": 34,
   "metadata": {},
   "outputs": [
    {
     "data": {
      "text/plain": [
       "<matplotlib.collections.PathCollection at 0x7f8e6dec4898>"
      ]
     },
     "execution_count": 34,
     "metadata": {},
     "output_type": "execute_result"
    },
    {
     "data": {
      "image/png": "[encoded data removed]",
      "text/plain": [
       "<Figure size 720x720 with 4 Axes>"
      ]
     },
     "metadata": {},
     "output_type": "display_data"
    }
   ],
   "source": [
    "plt.figure(figsize=(10,10))\n",
    "plt.subplot(2,2,1)\n",
    "plt.scatter(pData[:,0],pData[:,1],s=1.0)\n",
    "plt.subplot(2,2,2)\n",
    "plt.scatter(pData[:,2],pData[:,3],s=1.0)\n",
    "plt.subplot(2,2,3)\n",
    "plt.scatter(pData[:,4],pData[:,5],s=1.0)\n",
    "plt.subplot(2,2,4)\n",
    "plt.scatter(pData[:,0],pData[:,2],s=1.0)"
   ]
  },
  {
   "cell_type": "code",
   "execution_count": 35,
   "metadata": {},
   "outputs": [
    {
     "data": {
      "text/plain": [
       "0.0"
      ]
     },
     "execution_count": 35,
     "metadata": {},
     "output_type": "execute_result"
    }
   ],
   "source": [
    "np.std(pData[:,5]/ke)"
   ]
  },
  {
   "cell_type": "code",
   "execution_count": null,
   "metadata": {},
   "outputs": [],
   "source": [
    "lostp = np.loadtxt('lost_partcl.data',skiprows=1, usecols=(0,1,2,4))"
   ]
  },
  {
   "cell_type": "code",
   "execution_count": 37,
   "metadata": {},
   "outputs": [
    {
     "data": {
      "text/plain": [
       "(0,)"
      ]
     },
     "execution_count": 37,
     "metadata": {},
     "output_type": "execute_result"
    }
   ],
   "source": [
    "lostp.shape"
   ]
  },
  {
   "cell_type": "code",
   "execution_count": null,
   "metadata": {},
   "outputs": [],
   "source": [
    "np.save('lost_partcl.IOTA_gauss.cut'+str(CLcut)+'.I=0.NLon.noEspread.npy',lostp)"
   ]
  },
  {
   "cell_type": "code",
   "execution_count": 36,
   "metadata": {},
   "outputs": [],
   "source": [
    "lostp = np.load('lost_partcl.IOTA_gauss.cut'+str(CLcut)+'.I=0.NLon.noEspread.npy')"
   ]
  },
  {
   "cell_type": "code",
   "execution_count": 38,
   "metadata": {
    "scrolled": true
   },
   "outputs": [
    {
     "ename": "IndexError",
     "evalue": "too many indices for array",
     "output_type": "error",
     "traceback": [
      "\u001b[0;31m---------------------------------------------------------------------------\u001b[0m",
      "\u001b[0;31mIndexError\u001b[0m                                Traceback (most recent call last)",
      "\u001b[0;32m<ipython-input-38-3561c4a2d81e>\u001b[0m in \u001b[0;36m<module>\u001b[0;34m()\u001b[0m\n\u001b[1;32m      1\u001b[0m \u001b[0mplt\u001b[0m\u001b[0;34m.\u001b[0m\u001b[0mfigure\u001b[0m\u001b[0;34m(\u001b[0m\u001b[0mfigsize\u001b[0m\u001b[0;34m=\u001b[0m\u001b[0;34m(\u001b[0m\u001b[0;36m12\u001b[0m\u001b[0;34m,\u001b[0m\u001b[0;36m3\u001b[0m\u001b[0;34m)\u001b[0m\u001b[0;34m)\u001b[0m\u001b[0;34m\u001b[0m\u001b[0m\n\u001b[0;32m----> 2\u001b[0;31m \u001b[0mplt\u001b[0m\u001b[0;34m.\u001b[0m\u001b[0mhist\u001b[0m\u001b[0;34m(\u001b[0m\u001b[0mlostp\u001b[0m\u001b[0;34m[\u001b[0m\u001b[0;34m:\u001b[0m\u001b[0;34m,\u001b[0m\u001b[0;36m0\u001b[0m\u001b[0;34m]\u001b[0m\u001b[0;34m/\u001b[0m\u001b[0mL\u001b[0m\u001b[0;34m,\u001b[0m\u001b[0mbins\u001b[0m\u001b[0;34m=\u001b[0m\u001b[0;36m200\u001b[0m\u001b[0;34m,\u001b[0m\u001b[0mcolor\u001b[0m\u001b[0;34m=\u001b[0m\u001b[0;34m'k'\u001b[0m\u001b[0;34m)\u001b[0m\u001b[0;34m;\u001b[0m\u001b[0;34m\u001b[0m\u001b[0m\n\u001b[0m\u001b[1;32m      3\u001b[0m \u001b[0mplt\u001b[0m\u001b[0;34m.\u001b[0m\u001b[0myscale\u001b[0m\u001b[0;34m(\u001b[0m\u001b[0;34m'log'\u001b[0m\u001b[0;34m)\u001b[0m\u001b[0;34m\u001b[0m\u001b[0m\n",
      "\u001b[0;31mIndexError\u001b[0m: too many indices for array"
     ]
    },
    {
     "data": {
      "text/plain": [
       "<Figure size 864x216 with 0 Axes>"
      ]
     },
     "metadata": {},
     "output_type": "display_data"
    }
   ],
   "source": [
    "plt.figure(figsize=(12,3))\n",
    "plt.hist(lostp[:,0]/L,bins=200,color='k');\n",
    "plt.yscale('log')"
   ]
  },
  {
   "cell_type": "code",
   "execution_count": null,
   "metadata": {},
   "outputs": [],
   "source": [
    "lostp[:,0] = np.mod(lostp[:,0],L)\n",
    "lostp.shape"
   ]
  },
  {
   "cell_type": "code",
   "execution_count": null,
   "metadata": {},
   "outputs": [],
   "source": [
    "plt.figure(figsize=(12,3))\n",
    "plt.hist(lostp[:,0],bins=40,color='k');\n",
    "plt.xlim(0,L)\n",
    "plt.yscale('log')\n",
    "plt.ylabel('count')\n",
    "plt.legend(['loss-histogram'])\n",
    "plt.twinx()\n",
    "plt.plot(aperture[:,0],aperture[:,1]*100)\n",
    "plt.plot(aperture[:,0],aperture[:,2]*100)\n",
    "plt.ylabel('pipe size (cm)')\n",
    "plt.legend(['x-pipe','y-pipe'])"
   ]
  },
  {
   "cell_type": "code",
   "execution_count": null,
   "metadata": {},
   "outputs": [],
   "source": [
    "plt.figure(figsize=(12,12))\n",
    "plt.scatter(lostp[:,1],lostp[:,2],s=0.1)\n",
    "plt.xlim(-0.012,0.012)\n",
    "plt.ylim(-0.012,0.012)"
   ]
  },
  {
   "cell_type": "code",
   "execution_count": null,
   "metadata": {},
   "outputs": [],
   "source": []
  }
 ],
 "metadata": {
  "kernelspec": {
   "display_name": "Python 3",
   "language": "python",
   "name": "python3"
  },
  "language_info": {
   "codemirror_mode": {
    "name": "ipython",
    "version": 3
   },
   "file_extension": ".py",
   "mimetype": "text/x-python",
   "name": "python",
   "nbconvert_exporter": "python",
   "pygments_lexer": "ipython3",
   "version": "3.6.5"
  }
 },
 "nbformat": 4,
 "nbformat_minor": 2
}
