{
 "cells": [
  {
   "cell_type": "code",
   "execution_count": 1,
   "metadata": {},
   "outputs": [],
   "source": [
    "import pImpactR as impact\n",
    "import numpy as np\n",
    "import matplotlib.pyplot as plt\n",
    "from copy import deepcopy as copy\n",
    "rectangular_ = 1\n",
    "elliptic_ = 2"
   ]
  },
  {
   "cell_type": "code",
   "execution_count": 2,
   "metadata": {},
   "outputs": [
    {
     "name": "stdout",
     "output_type": "stream",
     "text": [
      "npt= 1000000\n"
     ]
    }
   ],
   "source": [
    "eSpread = 2.0e-3\n",
    "NL_t = 0.4\n",
    "CLcut = 2.6\n",
    "\n",
    "\n",
    "emitGeomRMS = 3.3e-6\n",
    "npt = 1000000\n",
    "print('npt=',npt)\n",
    "nturn = 1"
   ]
  },
  {
   "cell_type": "code",
   "execution_count": 3,
   "metadata": {},
   "outputs": [],
   "source": [
    "NL_L = 1.8\n",
    "NL_c = 0.01\n",
    "NL_nu = 0.3\n",
    "\n",
    "betx = NL_L/np.sin(2.0*np.pi*NL_nu)\n",
    "alfx = np.tan(np.pi*NL_nu)"
   ]
  },
  {
   "cell_type": "markdown",
   "metadata": {},
   "source": [
    "# read Aperture"
   ]
  },
  {
   "cell_type": "code",
   "execution_count": 4,
   "metadata": {},
   "outputs": [],
   "source": [
    "aperture = np.loadtxt('../pipeinfo.in')"
   ]
  },
  {
   "cell_type": "markdown",
   "metadata": {},
   "source": [
    "# read impact lattice"
   ]
  },
  {
   "cell_type": "code",
   "execution_count": 5,
   "metadata": {
    "scrolled": true
   },
   "outputs": [
    {
     "name": "stdout",
     "output_type": "stream",
     "text": [
      "reading ImpactZ input file (\u001b[92m../test.Chad.in\u001b[0m)\n",
      "  : mpi task info .............................done\n",
      "  : simulation control parameters .............done\n",
      "  : space charge field solver, mesh info ......done\n",
      "  : dist-type,restart,subcycle,#of state ......done\n",
      "  : Multiple Charge State info ................done\n",
      "  : particle distribution info ................done\n",
      "  : beam reference orbit info .................done\n",
      "  : converting impact dist to twiss param......done\n",
      "  : lattice info ..............................done\n"
     ]
    }
   ],
   "source": [
    "beam,lattice = impact.readInputFile('../test.Chad.in')\n",
    "beam.nCore_y=2\n",
    "beam.nCore_z=5\n",
    "beam.n_particles = npt\n",
    "\n",
    "ke = beam.kinetic_energy\n",
    "mass = beam.mass\n",
    "freq = beam.frequency\n",
    "\n",
    "g = ke/mass+1.0\n",
    "bg = np.sqrt(g**2-1.0)\n",
    "emitN = emitGeomRMS*bg"
   ]
  },
  {
   "cell_type": "code",
   "execution_count": 6,
   "metadata": {},
   "outputs": [
    {
     "name": "stdout",
     "output_type": "stream",
     "text": [
      "NL: 4.9115191429 6.711519142899999\n",
      "-4.199918635094946e-09\n"
     ]
    }
   ],
   "source": [
    "cleanLat = impact.clearLattice(lattice)\n",
    "L = 0 \n",
    "for item in cleanLat:\n",
    "    if item.type == 'RFkick':\n",
    "        item.vmax = 0.0\n",
    "    if item.type == 'nonlinear_insert':\n",
    "        print('NL:',L,L+item.length)\n",
    "    if 'length' in item:\n",
    "        L = L+item.length\n",
    "print(L-aperture[-1,0])"
   ]
  },
  {
   "cell_type": "code",
   "execution_count": 7,
   "metadata": {},
   "outputs": [],
   "source": [
    "for item in cleanLat:\n",
    "    if 'length' in item:\n",
    "        item.n_sckick = int(np.ceil(item.length*50))\n",
    "        item.n_map = 1"
   ]
  },
  {
   "cell_type": "markdown",
   "metadata": {},
   "source": [
    "# Back tracking for IOTA matched beam at injection location"
   ]
  },
  {
   "cell_type": "code",
   "execution_count": 8,
   "metadata": {},
   "outputs": [],
   "source": [
    "for i in range(len(cleanLat)):\n",
    "    if cleanLat[i].type == 'nonlinear_insert':\n",
    "        break\n",
    "\n",
    "latticeB = impact.getInverseLattice(cleanLat[:i])"
   ]
  },
  {
   "cell_type": "code",
   "execution_count": 9,
   "metadata": {},
   "outputs": [],
   "source": [
    "write10 = impact.getElem('write_raw_ptcl')\n",
    "write10.file_id = 111110\n",
    "write10.format_id = 2\n",
    "latticeB.insert(0,write10)\n",
    "\n",
    "write20 = impact.getElem('write_raw_ptcl')\n",
    "write20.file_id = 222220\n",
    "write20.format_id = 1\n",
    "latticeB.insert(0,write20)\n",
    "\n",
    "\n",
    "write11 = impact.getElem('write_raw_ptcl')\n",
    "write11.file_id = 111111\n",
    "write11.format_id = 2\n",
    "latticeB.append(write11)\n",
    "\n",
    "write21 = impact.getElem('write_raw_ptcl')\n",
    "write21.file_id = 222221\n",
    "write21.format_id = 1\n",
    "latticeB.append(write21)"
   ]
  },
  {
   "cell_type": "code",
   "execution_count": 10,
   "metadata": {},
   "outputs": [],
   "source": [
    "loop = impact.getElem('loop')\n",
    "loop.turns = 1\n",
    "latticeB.insert(0,loop)"
   ]
  },
  {
   "cell_type": "code",
   "execution_count": 11,
   "metadata": {},
   "outputs": [
    {
     "data": {
      "text/plain": [
       "(1.8926320036288808, 1.3763819204711734, 3.3e-06, 0.005)"
      ]
     },
     "execution_count": 11,
     "metadata": {},
     "output_type": "execute_result"
    }
   ],
   "source": [
    "beam.distribution.distribution_type = 'IOTA_Gauss'\n",
    "beam.distribution.NL_t  = NL_t\n",
    "beam.distribution.NL_c  = NL_c\n",
    "beam.distribution.betx  = betx\n",
    "beam.distribution.alfx  = alfx\n",
    "beam.distribution.emitx = emitGeomRMS\n",
    "beam.distribution.CL    = CLcut\n",
    "beam.distribution.betz  = 200\n",
    "beam.distribution.alfz  = 0.0\n",
    "beam.distribution.emitz = (eSpread*ke*1.0e-6)**2*beam.distribution.betz\n",
    "betx,alfx,emitGeomRMS,beam.distribution.emitz"
   ]
  },
  {
   "cell_type": "code",
   "execution_count": 12,
   "metadata": {},
   "outputs": [
    {
     "data": {
      "text/plain": [
       "0"
      ]
     },
     "execution_count": 12,
     "metadata": {},
     "output_type": "execute_result"
    }
   ],
   "source": [
    "write99 = impact.getElem('write_raw_ptcl')\n",
    "write99.file_id = 99999\n",
    "write99.format_id = 2\n",
    "\n",
    "impact.writeInputFile(beam,[loop,write99])\n",
    "impact.run(beam,order=1)"
   ]
  },
  {
   "cell_type": "code",
   "execution_count": 13,
   "metadata": {},
   "outputs": [],
   "source": [
    "beam.distribution.distribution_type = 'ReadFile_binary'\n",
    "beam.distribution.file_id = write99.file_id"
   ]
  },
  {
   "cell_type": "code",
   "execution_count": 14,
   "metadata": {},
   "outputs": [
    {
     "data": {
      "text/plain": [
       "0"
      ]
     },
     "execution_count": 14,
     "metadata": {},
     "output_type": "execute_result"
    }
   ],
   "source": [
    "impact.writeInputFile(beam,latticeB)\n",
    "impact.run(beam,order=1)"
   ]
  },
  {
   "cell_type": "code",
   "execution_count": 15,
   "metadata": {},
   "outputs": [],
   "source": [
    "pData0 = impact.readParticleData(111110,ke,mass,freq,2)\n",
    "pData00 = impact.readParticleData(222220,ke,mass,freq,1)"
   ]
  },
  {
   "cell_type": "code",
   "execution_count": 16,
   "metadata": {},
   "outputs": [
    {
     "data": {
      "text/plain": [
       "(1.4744999101517509,\n",
       " 1.0727487269746432,\n",
       " 1.7467696725342352e-06,\n",
       " 3.395681888775853,\n",
       " 2.469621994503095,\n",
       " 4.016027456845636e-06,\n",
       " 199.69543155456577,\n",
       " 0.0003189166633331576,\n",
       " 0.005002981468562076)"
      ]
     },
     "execution_count": 16,
     "metadata": {},
     "output_type": "execute_result"
    }
   ],
   "source": [
    "impact.getTwiss_from_pData(pData0)"
   ]
  },
  {
   "cell_type": "code",
   "execution_count": 17,
   "metadata": {},
   "outputs": [
    {
     "data": {
      "text/plain": [
       "(1.4744999101517509,\n",
       " 1.0727487269746432,\n",
       " 1.7467696725342352e-06,\n",
       " 3.395681888775853,\n",
       " 2.469621994503095,\n",
       " 4.016027456845636e-06,\n",
       " 199.69543155456577,\n",
       " 0.0003189166633331576,\n",
       " 0.005002981468562076)"
      ]
     },
     "execution_count": 17,
     "metadata": {},
     "output_type": "execute_result"
    }
   ],
   "source": [
    "impact.getTwiss_from_pData(pData00)"
   ]
  },
  {
   "cell_type": "code",
   "execution_count": 18,
   "metadata": {},
   "outputs": [],
   "source": [
    "pData1 = impact.readParticleData(111111,ke,mass,freq,2)\n",
    "pData11 = impact.readParticleData(222221,ke,mass,freq,1)"
   ]
  },
  {
   "cell_type": "code",
   "execution_count": 19,
   "metadata": {},
   "outputs": [],
   "source": [
    "# tmp = impact.readParticleData(12345,ke,mass,freq,1)\n",
    "# impact.getTwiss_from_pData(tmp)"
   ]
  },
  {
   "cell_type": "code",
   "execution_count": 20,
   "metadata": {},
   "outputs": [
    {
     "data": {
      "text/plain": [
       "(0.4884569098399531,\n",
       " 0.17401774111665774,\n",
       " 1.785904265523249e-06,\n",
       " 2.1059172032805575,\n",
       " 0.5134695184561379,\n",
       " 4.016043075254332e-06,\n",
       " 1346.4221909338983,\n",
       " 2.372614048136943,\n",
       " 0.005088321754658729)"
      ]
     },
     "execution_count": 20,
     "metadata": {},
     "output_type": "execute_result"
    }
   ],
   "source": [
    "impact.getTwiss_from_pData(pData1)"
   ]
  },
  {
   "cell_type": "code",
   "execution_count": 21,
   "metadata": {},
   "outputs": [
    {
     "data": {
      "text/plain": [
       "(0.4884569098399531,\n",
       " 0.17401774111665774,\n",
       " 1.785904265523249e-06,\n",
       " 2.105917203280557,\n",
       " 0.5134695184561379,\n",
       " 4.016043075254331e-06,\n",
       " 1346.4221909338983,\n",
       " 2.372614048136943,\n",
       " 0.005088321754658729)"
      ]
     },
     "execution_count": 21,
     "metadata": {},
     "output_type": "execute_result"
    }
   ],
   "source": [
    "impact.getTwiss_from_pData(pData11)"
   ]
  },
  {
   "cell_type": "code",
   "execution_count": 22,
   "metadata": {},
   "outputs": [],
   "source": [
    "# np.savetxt('rays.in',pData1[:,:6])"
   ]
  },
  {
   "cell_type": "code",
   "execution_count": 23,
   "metadata": {},
   "outputs": [
    {
     "data": {
      "text/plain": [
       "(0.4895861565725518,\n",
       " 0.17474927490570794,\n",
       " 1.7828728248990948e-06,\n",
       " 2.1070607855332004,\n",
       " 0.5139479014276934,\n",
       " 4.017918391190683e-06,\n",
       " 1345.949560788237,\n",
       " 2.3700385317076402,\n",
       " 0.005082693427569044)"
      ]
     },
     "execution_count": 23,
     "metadata": {},
     "output_type": "execute_result"
    }
   ],
   "source": [
    "refData = np.loadtxt('partcl.data.atInjection.withEspread.npt=1000000',skiprows=1)\n",
    "np.savetxt('fort.12345',refData)\n",
    "refData = impact.readParticleData(12345,ke,mass,freq,1)\n",
    "impact.getTwiss_from_pData(refData)"
   ]
  },
  {
   "cell_type": "code",
   "execution_count": 25,
   "metadata": {},
   "outputs": [
    {
     "data": {
      "image/png": "[encoded data removed]",
      "text/plain": [
       "<Figure size 468x360 with 4 Axes>"
      ]
     },
     "metadata": {},
     "output_type": "display_data"
    }
   ],
   "source": [
    "plt.figure(figsize=(6.5,5))\n",
    "plt.subplot(2,2,1)\n",
    "plt.scatter(pData1 [:,0],pData1 [:,1],s=0.01,alpha=0.3);\n",
    "plt.scatter(refData[:,0],refData[:,1],s=0.01,alpha=0.3);\n",
    "plt.subplot(2,2,2)\n",
    "plt.scatter(pData1 [:,2],pData1 [:,3],s=0.01,alpha=0.3);\n",
    "plt.scatter(refData[:,2],refData[:,3],s=0.01,alpha=0.3);\n",
    "plt.subplot(2,2,3)\n",
    "plt.scatter(pData1 [:,0],pData1 [:,5],s=0.01,alpha=0.3);\n",
    "plt.scatter(refData[:,0],refData[:,5],s=0.01,alpha=0.3);\n",
    "plt.subplot(2,2,4)\n",
    "plt.scatter(pData1 [:,0],pData1 [:,2],s=0.01,alpha=0.3);\n",
    "plt.scatter(refData[:,0],refData[:,2],s=0.01,alpha=0.3);\n",
    "plt.tight_layout()"
   ]
  },
  {
   "cell_type": "code",
   "execution_count": null,
   "metadata": {},
   "outputs": [],
   "source": [
    "diff = refData - pData1\n",
    "diff[:2,:]"
   ]
  },
  {
   "cell_type": "markdown",
   "metadata": {},
   "source": [
    "# run"
   ]
  },
  {
   "cell_type": "code",
   "execution_count": null,
   "metadata": {},
   "outputs": [],
   "source": [
    "beam.distribution.distribution_type = 'ReadFile'\n",
    "impact.writeParticleData(pData1,ke,mass,freq)\n",
    "import shutil\n",
    "# shutil.copyfile('partcl.data','partcl.data.atInjection.withEspread.npt=1000000')"
   ]
  },
  {
   "cell_type": "code",
   "execution_count": null,
   "metadata": {},
   "outputs": [],
   "source": [
    "# beam.distribution.alfx = 3.860846841e-5\n",
    "# beam.distribution.betx = 0.561065822\n",
    "# beam.distribution.alfy = 2.282987698e-9\n",
    "# beam.distribution.bety = 1.385141718\n",
    "# beam.distribution.emitx = emitN\n",
    "# beam.distribution.emity = emitN\n",
    "# beam.distribution.betz  = 200\n",
    "# beam.distribution.alfz  = 0.0\n",
    "# beam.distribution.emitz = (eSpread*ke*1.0e-6)**2*beam.distribution.betz\n",
    "# beam.distribution.distribution_type = 'IOTA_Gauss'"
   ]
  },
  {
   "cell_type": "markdown",
   "metadata": {},
   "source": [
    "# run Impact"
   ]
  },
  {
   "cell_type": "code",
   "execution_count": null,
   "metadata": {},
   "outputs": [],
   "source": [
    "# cleanLat.insert(0,impact.getElem('pipeinfo'))\n",
    "cleanLat.insert(0,impact.getElem('loop'))\n",
    "cleanLat[0].turns = nturn"
   ]
  },
  {
   "cell_type": "code",
   "execution_count": null,
   "metadata": {},
   "outputs": [],
   "source": [
    "cleanLat[2]"
   ]
  },
  {
   "cell_type": "code",
   "execution_count": null,
   "metadata": {},
   "outputs": [],
   "source": [
    "# for i in range(len(cleanLat)):\n",
    "#     if cleanLat[i].type == 'nonlinear_insert':\n",
    "#         break\n",
    "    \n",
    "# writeP = impact.getElem('write_raw_ptcl')\n",
    "# writeP.file_id = 1001\n",
    "# writeP.format_id = 1\n",
    "# cleanLat.insert(i,copy(writeP))\n",
    "\n",
    "# writeP.file_id = 1002\n",
    "# cleanLat.insert(i+2,copy(writeP))\n",
    "\n",
    "\n",
    "# writeP.file_id = 1003\n",
    "# cleanLat.append(copy(writeP))\n",
    "\n",
    "# writeP.file_id = 1000\n",
    "# cleanLat.insert(2,copy(writeP))\n",
    "\n",
    "# cleanLat.pop(0)"
   ]
  },
  {
   "cell_type": "code",
   "execution_count": null,
   "metadata": {},
   "outputs": [],
   "source": [
    "# cleanLat = impact.addHardEdgeQuad(cleanLat)\n",
    "impact.writeInputFile(beam,cleanLat)\n",
    "impact.run(beam,order=1)"
   ]
  },
  {
   "cell_type": "code",
   "execution_count": null,
   "metadata": {},
   "outputs": [],
   "source": [
    "pData3 = impact.readParticleData(1003,ke,mass,freq,1)"
   ]
  },
  {
   "cell_type": "code",
   "execution_count": null,
   "metadata": {},
   "outputs": [],
   "source": [
    "impact.getTwiss_from_pData(pData1)"
   ]
  },
  {
   "cell_type": "code",
   "execution_count": null,
   "metadata": {},
   "outputs": [],
   "source": [
    "impact.getTwiss_from_pData(pData3)"
   ]
  },
  {
   "cell_type": "code",
   "execution_count": null,
   "metadata": {},
   "outputs": [],
   "source": []
  }
 ],
 "metadata": {
  "kernelspec": {
   "display_name": "Python 3",
   "language": "python",
   "name": "python3"
  },
  "language_info": {
   "codemirror_mode": {
    "name": "ipython",
    "version": 3
   },
   "file_extension": ".py",
   "mimetype": "text/x-python",
   "name": "python",
   "nbconvert_exporter": "python",
   "pygments_lexer": "ipython3",
   "version": "3.6.5"
  }
 },
 "nbformat": 4,
 "nbformat_minor": 2
}
