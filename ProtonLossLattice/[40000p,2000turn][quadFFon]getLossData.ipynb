{
 "cells": [
  {
   "cell_type": "code",
   "execution_count": null,
   "metadata": {},
   "outputs": [],
   "source": [
    "import pImpactR as impact\n",
    "import numpy as np\n",
    "import matplotlib.pyplot as plt\n",
    "from copy import deepcopy as copy\n",
    "rectangular_ = 1\n",
    "elliptic_ = 2"
   ]
  },
  {
   "cell_type": "code",
   "execution_count": null,
   "metadata": {},
   "outputs": [],
   "source": [
    "NL_t = 0.4\n",
    "emitGeomRMS = 3.3e-6\n",
    "npt = 40000\n",
    "print('npt=',npt)\n",
    "nturn = 2000"
   ]
  },
  {
   "cell_type": "code",
   "execution_count": null,
   "metadata": {},
   "outputs": [],
   "source": [
    "NL_L = 1.8\n",
    "NL_c = 0.01\n",
    "NL_nu = 0.3"
   ]
  },
  {
   "cell_type": "markdown",
   "metadata": {},
   "source": [
    "# read Aperture"
   ]
  },
  {
   "cell_type": "code",
   "execution_count": null,
   "metadata": {},
   "outputs": [],
   "source": [
    "aperture = np.loadtxt('pipeinfo.in')"
   ]
  },
  {
   "cell_type": "code",
   "execution_count": null,
   "metadata": {},
   "outputs": [],
   "source": [
    "aperture[-1,0]"
   ]
  },
  {
   "cell_type": "markdown",
   "metadata": {},
   "source": [
    "# read impact lattice"
   ]
  },
  {
   "cell_type": "code",
   "execution_count": null,
   "metadata": {
    "scrolled": true
   },
   "outputs": [],
   "source": [
    "beam,lattice = impact.readInputFile('test.Chad.in')\n",
    "beam.nCore_y=8\n",
    "beam.nCore_z=4\n",
    "beam.n_particles = npt\n",
    "\n",
    "ke = beam.kinetic_energy\n",
    "mass = beam.mass\n",
    "freq = beam.frequency\n",
    "\n",
    "g = ke/mass+1.0\n",
    "bg = np.sqrt(g**2-1.0)\n",
    "emitN = emitGeomRMS*bg\n",
    "print('\\n\\n emitN =',emitN)"
   ]
  },
  {
   "cell_type": "code",
   "execution_count": null,
   "metadata": {},
   "outputs": [],
   "source": [
    "cleanLat = impact.clearLattice(lattice)\n",
    "L = 0 \n",
    "for item in cleanLat:\n",
    "    if item.type == 'RFkick':\n",
    "        item.vmax = 0.0\n",
    "    if item.type == 'nonlinear_insert':\n",
    "        NLfoward = item\n",
    "        print('NL:',L,L+item.length)\n",
    "    if 'length' in item:\n",
    "        L = L+item.length\n",
    "print(L-aperture[-1,0])\n",
    "\n",
    "NLfoward.n_sckick = 2\n",
    "NLfoward.n_map = 45"
   ]
  },
  {
   "cell_type": "code",
   "execution_count": null,
   "metadata": {},
   "outputs": [],
   "source": [
    "NLfoward"
   ]
  },
  {
   "cell_type": "code",
   "execution_count": null,
   "metadata": {},
   "outputs": [],
   "source": [
    "for item in cleanLat:\n",
    "    if 'length' in item:\n",
    "        item.n_sckick = int(np.ceil(item.length*50))\n",
    "        item.n_map = 1"
   ]
  },
  {
   "cell_type": "markdown",
   "metadata": {},
   "source": [
    "add quadrupole fringe hard-edge model"
   ]
  },
  {
   "cell_type": "code",
   "execution_count": null,
   "metadata": {},
   "outputs": [],
   "source": [
    "cleanLat = impact.addHardEdgeQuad(cleanLat)"
   ]
  },
  {
   "cell_type": "markdown",
   "metadata": {},
   "source": [
    "# Back tracking for IOTA matched beam at injection location"
   ]
  },
  {
   "cell_type": "code",
   "execution_count": null,
   "metadata": {},
   "outputs": [],
   "source": [
    "for i in range(len(cleanLat)):\n",
    "    if cleanLat[i].type == 'nonlinear_insert':\n",
    "        break\n",
    "\n",
    "latticeB = impact.getInverseLattice(cleanLat[:i])\n",
    "\n",
    "write0 = impact.getElem('write_raw_ptcl')\n",
    "write0.file_id = 111110\n",
    "write0.format_id = 2\n",
    "latticeB.insert(0,write0)\n",
    "\n",
    "\n",
    "write1 = impact.getElem('write_raw_ptcl')\n",
    "write1.file_id = 111111\n",
    "write1.format_id = 2\n",
    "latticeB.append(write1)\n",
    "\n",
    "loop = impact.getElem('loop')\n",
    "loop.turns = 1\n",
    "latticeB.insert(0,loop)"
   ]
  },
  {
   "cell_type": "code",
   "execution_count": null,
   "metadata": {},
   "outputs": [],
   "source": [
    "cleanLat.insert(0,impact.getElem('pipeinfo'))\n",
    "cleanLat.insert(1,impact.getElem('loop'))\n",
    "cleanLat[1].turns = nturn"
   ]
  },
  {
   "cell_type": "markdown",
   "metadata": {},
   "source": [
    "# Define runs"
   ]
  },
  {
   "cell_type": "code",
   "execution_count": null,
   "metadata": {},
   "outputs": [],
   "source": [
    "def runIOTA_Thermal(tauBeam,tauMag,H0,dE,order,CL):\n",
    "    beam.distribution.mode = 'twiss'\n",
    "    beam.distribution.distribution_type = 'IOTA_Gauss'\n",
    "    beam.distribution.NL_t  = tauBeam\n",
    "    beam.distribution.NL_c  = NL_c\n",
    "    beam.distribution.betx  = NL_L/np.sin(2.0*np.pi*NL_nu)\n",
    "    beam.distribution.alfx  = np.tan(np.pi*NL_nu)\n",
    "    beam.distribution.emitx = H0\n",
    "    beam.distribution.CL    = CL\n",
    "    beam.distribution.betz  = 200\n",
    "    beam.distribution.alfz  = 0.0\n",
    "    beam.distribution.emitz = (dE*ke*1.0e-6)**2*beam.distribution.betz\n",
    "    impact.writeInputFile(beam,latticeB)\n",
    "    impact.run(beam,order=order)\n",
    "    pData0 = impact.readParticleData(111110,ke,mass,freq,2)\n",
    "    Twiss0 = impact.getTwiss_from_pData(pData0)\n",
    "    pData0 = pData0[::100,:6]\n",
    "    pData1 = impact.readParticleData(111111,ke,mass,freq,2)\n",
    "    Twiss1 = impact.getTwiss_from_pData(pData1)\n",
    "    pData1 = pData1[::100,:6]\n",
    "    \n",
    "    beam.distribution.distribution_type = 'ReadFile_binary'\n",
    "    beam.distribution.file_id = 111111\n",
    "    NLfoward.strength_t = tauMag\n",
    "    impact.writeInputFile(beam,cleanLat)\n",
    "    impact.run(beam,order=order)\n",
    "    try:\n",
    "        pLost = np.loadtxt('lost_partcl.data',skiprows=1, usecols=(0,1,2,4))\n",
    "    except:\n",
    "        pLost = None\n",
    "    \n",
    "    !rm lost_partcl.data fort.111110 fort.111111 test.in\n",
    "    \n",
    "    \n",
    "    return Twiss0,Twiss1,pData0,pData1,pLost"
   ]
  },
  {
   "cell_type": "code",
   "execution_count": null,
   "metadata": {},
   "outputs": [],
   "source": [
    "def run_Exponential(betx,alfx,emitx,CLx,bety,alfy,emity,CLy,dE,order):\n",
    "    beam.distribution.mode = 'twiss'\n",
    "    beam.distribution.distribution_type = 'Exponential2D_trunc'\n",
    "    beam.distribution.betx  = betx\n",
    "    beam.distribution.alfx  = alfx\n",
    "    beam.distribution.emitx = emitx\n",
    "    beam.distribution.CLx   = CLx\n",
    "    beam.distribution.bety  = bety\n",
    "    beam.distribution.alfy  = alfy\n",
    "    beam.distribution.emity = emity\n",
    "    beam.distribution.CLy   = CLy\n",
    "    beam.distribution.betz  = 200\n",
    "    beam.distribution.alfz  = 0.0\n",
    "    beam.distribution.emitz = (dE*ke*1.0e-6)**2*beam.distribution.betz\n",
    "    \n",
    "    \n",
    "    impact.writeInputFile(beam,cleanLat[:2]+[write1]+cleanLat[2:])\n",
    "    \n",
    "    impact.run(beam,order=order)\n",
    "    pData1 = impact.readParticleData(111111,ke,mass,freq,2)\n",
    "    Twiss1 = impact.getTwiss_from_pData(pData1)\n",
    "    pData1 = pData1[::40,:6]\n",
    "    \n",
    "    try:\n",
    "        pLost = np.loadtxt('lost_partcl.data',skiprows=1, usecols=(0,1,2,4))\n",
    "    except:\n",
    "        pLost = None\n",
    "    \n",
    "    !rm lost_partcl.data fort.111111 test.in\n",
    "    \n",
    "    \n",
    "    return Twiss1,pData1,pLost"
   ]
  },
  {
   "cell_type": "markdown",
   "metadata": {},
   "source": [
    "# Run and collect data"
   ]
  },
  {
   "cell_type": "code",
   "execution_count": null,
   "metadata": {},
   "outputs": [],
   "source": [
    "# lostp_data = {}\n",
    "import pickle\n",
    "# pickle.dump(lostp_data,open('lostp_data.QFF.pickle','wb'))\n",
    "# lostp_data = pickle.load(open('lostp_data.QFF.pickle','rb'))"
   ]
  },
  {
   "cell_type": "markdown",
   "metadata": {},
   "source": [
    "### Thermal, $H_{\\tau=0.4}$, $\\sigma_E=2\\times10^{-3}$, $order=3$"
   ]
  },
  {
   "cell_type": "code",
   "execution_count": null,
   "metadata": {},
   "outputs": [],
   "source": [
    "CL = [6.0]\n",
    "for cl in CL:\n",
    "    Twiss0,Twiss1,pData0,pData1,pLost = runIOTA_Thermal(0.4,0.4,emitGeomRMS,2.0e-3,3,cl)\n",
    "    key = 'Thermal.tau=0.4.CL='+str(cl)\n",
    "    lostp_data[key]={'Twiss0':copy(Twiss0),'Twiss1':copy(Twiss1),'pData0':copy(pData0),'pData1':copy(pData1),'pLost':copy(pLost)}"
   ]
  },
  {
   "cell_type": "markdown",
   "metadata": {},
   "source": [
    "### Thermal, $H_{\\tau=0.3}$, $\\sigma_E=2\\times10^{-3}$, $order=3$"
   ]
  },
  {
   "cell_type": "code",
   "execution_count": null,
   "metadata": {},
   "outputs": [],
   "source": [
    "CL = [6.0]\n",
    "for cl in CL:\n",
    "    Twiss0,Twiss1,pData0,pData1,pLost = runIOTA_Thermal(0.3,0.3,emitGeomRMS,2.0e-3,3,cl)\n",
    "    key = 'Thermal.tau=0.3.CL='+str(cl)\n",
    "    lostp_data[key]={'Twiss0':copy(Twiss0),'Twiss1':copy(Twiss1),'pData0':copy(pData0),'pData1':copy(pData1),'pLost':copy(pLost)}"
   ]
  },
  {
   "cell_type": "markdown",
   "metadata": {},
   "source": [
    "### Exponential, RMS optics $\\sigma_E=2\\times10^{-3}$, $order=3$"
   ]
  },
  {
   "cell_type": "code",
   "execution_count": null,
   "metadata": {},
   "outputs": [],
   "source": [
    "ref='Thermal.tau=0.4.CL=6.0'\n",
    "betx,alfx,emitx,bety,alfy,emity,betz,alfz,emitz = lostp_data[ref]['Twiss1']\n",
    "Twiss1,pData1,pLost = run_Exponential(betx,alfx,emitx,6.0,bety,alfy,emity,6.0,2.0e-3,3)\n",
    "key = 'Exponential.rmsMatched_from_tau=0.4.CL=6.0'\n",
    "lostp_data[key]={'Twiss1':copy(Twiss1),'pData1':copy(pData1),'pLost':copy(pLost)}"
   ]
  },
  {
   "cell_type": "code",
   "execution_count": null,
   "metadata": {},
   "outputs": [],
   "source": [
    "ref='Thermal.tau=0.3.CL=6.0'\n",
    "betx,alfx,emitx,bety,alfy,emity,betz,alfz,emitz = lostp_data[ref]['Twiss1']\n",
    "Twiss1,pData1,pLost = run_Exponential(betx,alfx,emitx,6.0,bety,alfy,emity,6.0,2.0e-3,3)\n",
    "key = 'Exponential.rmsMatched_from_tau=0.3.CL=6.0'\n",
    "lostp_data[key]={'Twiss1':copy(Twiss1),'pData1':copy(pData1),'pLost':copy(pLost)}"
   ]
  },
  {
   "cell_type": "markdown",
   "metadata": {},
   "source": [
    "### Exponential, RMS optics except emittance $\\sigma_E=2\\times10^{-3}$, $order=3$"
   ]
  },
  {
   "cell_type": "code",
   "execution_count": null,
   "metadata": {},
   "outputs": [],
   "source": [
    "ref='Thermal.tau=0.4.CL=6.0'\n",
    "betx,alfx,emitx,bety,alfy,emity,betz,alfz,emitz = lostp_data[ref]['Twiss1']\n",
    "Twiss1,pData1,pLost = run_Exponential(betx,alfx,emitGeomRMS,6.0,bety,alfy,emitGeomRMS,6.0,2.0e-3,3)\n",
    "key = 'Exponential.rmsMatched_from_tau=0.4_exceptEmittance.CL=6.0'\n",
    "lostp_data[key]={'Twiss1':copy(Twiss1),'pData1':copy(pData1),'pLost':copy(pLost)}"
   ]
  },
  {
   "cell_type": "code",
   "execution_count": null,
   "metadata": {},
   "outputs": [],
   "source": [
    "ref='Thermal.tau=0.3.CL=6.0'\n",
    "betx,alfx,emitx,bety,alfy,emity,betz,alfz,emitz = lostp_data[ref]['Twiss1']\n",
    "Twiss1,pData1,pLost = run_Exponential(betx,alfx,emitGeomRMS,6.0,bety,alfy,emitGeomRMS,6.0,2.0e-3,3)\n",
    "key = 'Exponential.rmsMatched_from_tau=0.3_exceptEmittance.CL=6.0'\n",
    "lostp_data[key]={'Twiss1':copy(Twiss1),'pData1':copy(pData1),'pLost':copy(pLost)}"
   ]
  },
  {
   "cell_type": "code",
   "execution_count": null,
   "metadata": {},
   "outputs": [],
   "source": [
    "betx,alfx,emitx,bety,alfy,emity"
   ]
  },
  {
   "cell_type": "code",
   "execution_count": null,
   "metadata": {},
   "outputs": [],
   "source": [
    "beam.distribution"
   ]
  },
  {
   "cell_type": "markdown",
   "metadata": {},
   "source": [
    "# Plot"
   ]
  },
  {
   "cell_type": "code",
   "execution_count": null,
   "metadata": {},
   "outputs": [],
   "source": [
    "ap0_x,ap0_y = 0.00680513, 0.00935705\n",
    "ap1_x,ap1_y = 4.00000000e-03, 5.50000000e-03\n",
    "ang = np.arange(0.0,2*np.pi,2*np.pi/1024)\n",
    "c = np.cos(ang)\n",
    "s = np.sin(ang)"
   ]
  },
  {
   "cell_type": "code",
   "execution_count": null,
   "metadata": {},
   "outputs": [],
   "source": [
    "key='Exponential.rmsMatched_from_tau=0.4.CL=6.0'\n",
    "data = lostp_data[key]\n",
    "lost_ratio = np.round(len(data['pLost'])/npt*100)\n",
    "\n",
    "plt.figure(figsize=(12,6))\n",
    "\n",
    "plt.subplot(221)\n",
    "plt.hist(data['pLost'][:,0]/L,bins=2000,color='k');\n",
    "plt.yscale('log')\n",
    "plt.legend([str(lost_ratio)+'%'])\n",
    "plt.xlabel('turn')\n",
    "plt.ylabel('count')\n",
    "\n",
    "\n",
    "plt.subplot(223)\n",
    "plt.plot(aperture[:,0],aperture[:,1]*100)\n",
    "plt.plot(aperture[:,0],aperture[:,2]*100)\n",
    "plt.legend(['x-pipe','y-pipe'],loc=2)\n",
    "plt.xlim(0,L)\n",
    "plt.ylabel('pipe size (cm)')\n",
    "plt.grid()\n",
    "plt.twinx()\n",
    "plt.hist(np.mod(data['pLost'][:,0],L),bins=90,color='k');\n",
    "plt.yscale('log')\n",
    "plt.legend(['loss-histogram'],loc=3)\n",
    "plt.tick_params(which='both',direction='in')\n",
    "\n",
    "\n",
    "plt.subplot(122)\n",
    "nlost = len(data['pLost'])\n",
    "print(nlost)\n",
    "alpha = np.min([1,10000/nlost])\n",
    "plt.plot(ap0_x*c,ap0_y*s,alpha=0.7,c='k',lw=2)\n",
    "plt.plot(ap1_x*c,ap1_y*s,alpha=0.7,c='k',lw=2)\n",
    "plt.scatter(data['pLost'][:,1],data['pLost'][:,2],s=1.0,alpha=alpha)\n",
    "plt.xlim(-0.008,0.008)\n",
    "plt.ylim(-0.012,0.012)\n",
    "\n",
    "plt.tight_layout()"
   ]
  },
  {
   "cell_type": "code",
   "execution_count": null,
   "metadata": {},
   "outputs": [],
   "source": [
    "for key,dic in lostp_data.items():\n",
    "    if 'Twiss0' in dic:\n",
    "        dic['Twiss0'] = np.array(dic['Twiss0'])\n",
    "    dic['Twiss1'] = np.array(dic['Twiss1'])"
   ]
  },
  {
   "cell_type": "code",
   "execution_count": null,
   "metadata": {},
   "outputs": [],
   "source": [
    "for key,dic in lostp_data.items():\n",
    "    print(key)\n",
    "#     print('  ',dic['Twiss0'][2],dic['Twiss0'][5])\n",
    "    print('  ',dic['Twiss1'][2],dic['Twiss1'][5])\n",
    "    print(len(dic['pLost']))"
   ]
  },
  {
   "cell_type": "code",
   "execution_count": null,
   "metadata": {},
   "outputs": [],
   "source": [
    "lostp_data.keys()"
   ]
  },
  {
   "cell_type": "code",
   "execution_count": null,
   "metadata": {},
   "outputs": [],
   "source": [
    "# pickle.dump(lostp_data,open('lostp_data.QFF.pickle','wb'))"
   ]
  }
 ],
 "metadata": {
  "kernelspec": {
   "display_name": "Python 3",
   "language": "python",
   "name": "python3"
  },
  "language_info": {
   "codemirror_mode": {
    "name": "ipython",
    "version": 3
   },
   "file_extension": ".py",
   "mimetype": "text/x-python",
   "name": "python",
   "nbconvert_exporter": "python",
   "pygments_lexer": "ipython3",
   "version": "3.6.5"
  }
 },
 "nbformat": 4,
 "nbformat_minor": 2
}
