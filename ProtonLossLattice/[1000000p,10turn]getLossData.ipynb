{
 "cells": [
  {
   "cell_type": "code",
   "execution_count": 1,
   "metadata": {},
   "outputs": [],
   "source": [
    "import pImpactR as impact\n",
    "import numpy as np\n",
    "import matplotlib.pyplot as plt\n",
    "from copy import deepcopy as copy\n",
    "rectangular_ = 1\n",
    "elliptic_ = 2"
   ]
  },
  {
   "cell_type": "code",
   "execution_count": 2,
   "metadata": {},
   "outputs": [
    {
     "name": "stdout",
     "output_type": "stream",
     "text": [
      "npt= 1000000\n"
     ]
    }
   ],
   "source": [
    "NL_t = 0.4\n",
    "emitGeomRMS = 3.3e-6\n",
    "npt = round(1.0e6/8)*8\n",
    "print('npt=',npt)\n",
    "nturn = 10"
   ]
  },
  {
   "cell_type": "code",
   "execution_count": 3,
   "metadata": {},
   "outputs": [],
   "source": [
    "NL_L = 1.8\n",
    "NL_c = 0.01\n",
    "NL_nu = 0.3"
   ]
  },
  {
   "cell_type": "markdown",
   "metadata": {},
   "source": [
    "# read Aperture"
   ]
  },
  {
   "cell_type": "code",
   "execution_count": 4,
   "metadata": {},
   "outputs": [],
   "source": [
    "aperture = np.loadtxt('pipeinfo.in')"
   ]
  },
  {
   "cell_type": "code",
   "execution_count": 5,
   "metadata": {},
   "outputs": [
    {
     "data": {
      "text/plain": [
       "39.968229720000004"
      ]
     },
     "execution_count": 5,
     "metadata": {},
     "output_type": "execute_result"
    }
   ],
   "source": [
    "aperture[-1,0]"
   ]
  },
  {
   "cell_type": "markdown",
   "metadata": {},
   "source": [
    "# read impact lattice"
   ]
  },
  {
   "cell_type": "code",
   "execution_count": 6,
   "metadata": {
    "scrolled": true
   },
   "outputs": [
    {
     "name": "stdout",
     "output_type": "stream",
     "text": [
      "reading ImpactZ input file (\u001b[92mtest.Chad.in\u001b[0m)\n",
      "  : mpi task info .............................done\n",
      "  : simulation control parameters .............done\n",
      "  : space charge field solver, mesh info ......done\n",
      "  : dist-type,restart,subcycle,#of state ......done\n",
      "  : Multiple Charge State info ................done\n",
      "  : particle distribution info ................done\n",
      "  : beam reference orbit info .................done\n",
      "  : converting impact dist to twiss param......done\n",
      "  : lattice info ..............................done\n",
      "\n",
      "\n",
      " emitN = 2.4105916749973357e-07\n"
     ]
    }
   ],
   "source": [
    "beam,lattice = impact.readInputFile('test.Chad.in')\n",
    "beam.nCore_y=4\n",
    "beam.nCore_z=2\n",
    "beam.n_particles = npt\n",
    "\n",
    "ke = beam.kinetic_energy\n",
    "mass = beam.mass\n",
    "freq = beam.frequency\n",
    "\n",
    "g = ke/mass+1.0\n",
    "bg = np.sqrt(g**2-1.0)\n",
    "emitN = emitGeomRMS*bg\n",
    "print('\\n\\n emitN =',emitN)"
   ]
  },
  {
   "cell_type": "code",
   "execution_count": 7,
   "metadata": {},
   "outputs": [
    {
     "name": "stdout",
     "output_type": "stream",
     "text": [
      "NL: 4.9115191429 6.711519142899999\n",
      "-4.199918635094946e-09\n"
     ]
    }
   ],
   "source": [
    "cleanLat = impact.clearLattice(lattice)\n",
    "L = 0 \n",
    "for item in cleanLat:\n",
    "    if item.type == 'RFkick':\n",
    "        item.vmax = 0.0\n",
    "    if item.type == 'nonlinear_insert':\n",
    "        NLfoward = item\n",
    "        print('NL:',L,L+item.length)\n",
    "    if 'length' in item:\n",
    "        L = L+item.length\n",
    "print(L-aperture[-1,0])"
   ]
  },
  {
   "cell_type": "code",
   "execution_count": 8,
   "metadata": {},
   "outputs": [],
   "source": [
    "for item in cleanLat:\n",
    "    if 'length' in item:\n",
    "        item.n_sckick = int(np.ceil(item.length*50))\n",
    "        item.n_map = 1"
   ]
  },
  {
   "cell_type": "markdown",
   "metadata": {},
   "source": [
    "# Back tracking for IOTA matched beam at injection location"
   ]
  },
  {
   "cell_type": "code",
   "execution_count": 9,
   "metadata": {},
   "outputs": [],
   "source": [
    "for i in range(len(cleanLat)):\n",
    "    if cleanLat[i].type == 'nonlinear_insert':\n",
    "        break\n",
    "\n",
    "latticeB = impact.getInverseLattice(cleanLat[:i])\n",
    "\n",
    "write0 = impact.getElem('write_raw_ptcl')\n",
    "write0.file_id = 111110\n",
    "write0.format_id = 2\n",
    "latticeB.insert(0,write0)\n",
    "\n",
    "\n",
    "write1 = impact.getElem('write_raw_ptcl')\n",
    "write1.file_id = 111111\n",
    "write1.format_id = 2\n",
    "latticeB.append(write1)\n",
    "\n",
    "loop = impact.getElem('loop')\n",
    "loop.turns = 1\n",
    "latticeB.insert(0,loop)"
   ]
  },
  {
   "cell_type": "code",
   "execution_count": 10,
   "metadata": {},
   "outputs": [],
   "source": [
    "cleanLat.insert(0,impact.getElem('pipeinfo'))\n",
    "cleanLat.insert(1,impact.getElem('loop'))\n",
    "cleanLat[1].turns = nturn"
   ]
  },
  {
   "cell_type": "markdown",
   "metadata": {},
   "source": [
    "# Define runs"
   ]
  },
  {
   "cell_type": "code",
   "execution_count": 11,
   "metadata": {},
   "outputs": [],
   "source": [
    "def runIOTA_Thermal(tauBeam,tauMag,H0,dE,order,CL):\n",
    "    beam.distribution.mode = 'twiss'\n",
    "    beam.distribution.distribution_type = 'IOTA_Gauss'\n",
    "    beam.distribution.NL_t  = tauBeam\n",
    "    beam.distribution.NL_c  = NL_c\n",
    "    beam.distribution.betx  = NL_L/np.sin(2.0*np.pi*NL_nu)\n",
    "    beam.distribution.alfx  = np.tan(np.pi*NL_nu)\n",
    "    beam.distribution.emitx = H0\n",
    "    beam.distribution.CL    = CL\n",
    "    beam.distribution.betz  = 200\n",
    "    beam.distribution.alfz  = 0.0\n",
    "    beam.distribution.emitz = (dE*ke*1.0e-6)**2*beam.distribution.betz\n",
    "    impact.writeInputFile(beam,latticeB)\n",
    "    impact.run(beam,order=order)\n",
    "    pData0 = impact.readParticleData(111110,ke,mass,freq,2)\n",
    "    Twiss0 = impact.getTwiss_from_pData(pData0)\n",
    "    pData0 = pData0[::100,:6]\n",
    "    pData1 = impact.readParticleData(111111,ke,mass,freq,2)\n",
    "    Twiss1 = impact.getTwiss_from_pData(pData1)\n",
    "    pData1 = pData1[::100,:6]\n",
    "    \n",
    "    beam.distribution.distribution_type = 'ReadFile_binary'\n",
    "    beam.distribution.file_id = 111111\n",
    "    NLfoward.strength_t = tauMag\n",
    "    impact.writeInputFile(beam,cleanLat)\n",
    "    impact.run(beam,order=order)\n",
    "    try:\n",
    "        pLost = np.loadtxt('lost_partcl.data',skiprows=1, usecols=(0,1,2,4))\n",
    "    except:\n",
    "        pLost = None\n",
    "    \n",
    "    !rm lost_partcl.data fort.111110 fort.111111 test.in\n",
    "    \n",
    "    \n",
    "    return Twiss0,Twiss1,pData0,pData1,pLost"
   ]
  },
  {
   "cell_type": "code",
   "execution_count": 12,
   "metadata": {},
   "outputs": [],
   "source": [
    "def run_Exponential(betx,alfx,emitx,CLx,bety,alfy,emity,CLy,dE,order):\n",
    "    beam.distribution.mode = 'twiss'\n",
    "    beam.distribution.distribution_type = 'Exponential2D_trunc'\n",
    "    beam.distribution.betx  = betx\n",
    "    beam.distribution.alfx  = alfx\n",
    "    beam.distribution.emitx = emitx\n",
    "    beam.distribution.CLx   = CLx\n",
    "    beam.distribution.bety  = bety\n",
    "    beam.distribution.alfy  = alfy\n",
    "    beam.distribution.emity = emity\n",
    "    beam.distribution.CLy   = CLy\n",
    "    beam.distribution.betz  = 200\n",
    "    beam.distribution.alfz  = 0.0\n",
    "    beam.distribution.emitz = (dE*ke*1.0e-6)**2*beam.distribution.betz\n",
    "    \n",
    "    \n",
    "    impact.writeInputFile(beam,cleanLat[:2]+[write1]+cleanLat[2:])\n",
    "    \n",
    "    impact.run(beam,order=order)\n",
    "    pData1 = impact.readParticleData(111111,ke,mass,freq,2)\n",
    "    Twiss1 = impact.getTwiss_from_pData(pData1)\n",
    "    pData1 = pData1[::100,:6]\n",
    "    \n",
    "    try:\n",
    "        pLost = np.loadtxt('lost_partcl.data',skiprows=1, usecols=(0,1,2,4))\n",
    "    except:\n",
    "        pLost = None\n",
    "    \n",
    "    !rm lost_partcl.data fort.111111 test.in\n",
    "    \n",
    "    \n",
    "    return Twiss1,pData1,pLost"
   ]
  },
  {
   "cell_type": "code",
   "execution_count": 13,
   "metadata": {},
   "outputs": [
    {
     "data": {
      "text/plain": [
       "[\n",
       "  type: 'pipeinfo', \n",
       "   type: 'loop'\n",
       "  turns: 10]"
      ]
     },
     "execution_count": 13,
     "metadata": {},
     "output_type": "execute_result"
    }
   ],
   "source": [
    "cleanLat[:2]"
   ]
  },
  {
   "cell_type": "markdown",
   "metadata": {},
   "source": [
    "# Run and collect data"
   ]
  },
  {
   "cell_type": "code",
   "execution_count": 28,
   "metadata": {},
   "outputs": [],
   "source": [
    "# lostp_data = {}\n",
    "import pickle\n",
    "# pickle.dump(lostp_data,open('lostp_data.pickle','wb'))\n",
    "# lostp_data = pickle.load(open('lostp_data.pickle','rb'))"
   ]
  },
  {
   "cell_type": "markdown",
   "metadata": {},
   "source": [
    "### Thermal, $H_{\\tau=0.4}$, $\\sigma_E=0$, $order=1$"
   ]
  },
  {
   "cell_type": "code",
   "execution_count": null,
   "metadata": {},
   "outputs": [],
   "source": [
    "CL = [3.0,2.7]\n",
    "# for cl in CL:\n",
    "#     Twiss0,Twiss1,pData0,pData1,pLost = runIOTA_Thermal(NL_t,NL_t,emitGeomRMS,0.0,1,cl)\n",
    "#     key = 'Thermal.tau=0.4.CL='+str(cl)+'.noEspread.LinearMap'\n",
    "#     lostp_data[key]={'Twiss0':copy(Twiss0),'Twiss1':copy(Twiss1),'pData0':copy(pData0),'pData1':copy(pData1),'pLost':copy(pLost)}"
   ]
  },
  {
   "cell_type": "markdown",
   "metadata": {},
   "source": [
    "### Thermal, $H_{\\tau=0.4}$, $\\sigma_E=2\\times10^{-3}$, $order=3$"
   ]
  },
  {
   "cell_type": "code",
   "execution_count": null,
   "metadata": {},
   "outputs": [],
   "source": [
    "# dE=2.0e-3\n",
    "# order=3\n",
    "# CL = [3.0,2.5,2.2,2.0]\n",
    "# for cl in CL:\n",
    "#     Twiss0,Twiss1,pData0,pData1,pLost = runIOTA_Thermal(NL_t,emitGeomRMS,dE,order,cl)\n",
    "#     key = 'Thermal.tau=0.4.CL='+str(cl)\n",
    "#     lostp_data[key]={'Twiss0':copy(Twiss0),'Twiss1':copy(Twiss1),'pData0':copy(pData0),'pData1':copy(pData1),'pLost':copy(pLost)}"
   ]
  },
  {
   "cell_type": "markdown",
   "metadata": {},
   "source": [
    "### Thermal, $H_{\\tau=0.3}$, $\\sigma_E=0$, $order=1$"
   ]
  },
  {
   "cell_type": "code",
   "execution_count": 21,
   "metadata": {},
   "outputs": [
    {
     "name": "stderr",
     "output_type": "stream",
     "text": [
      "/home/kilean/WorkSpace/pImpactR/pImpactR/impactIO.py:1638: RuntimeWarning: invalid value encountered in double_scalars\n",
      "  betz = varx/emitz\n",
      "/home/kilean/WorkSpace/pImpactR/pImpactR/impactIO.py:1639: RuntimeWarning: invalid value encountered in double_scalars\n",
      "  alfz = np.sqrt(varpx/emitz*betz-1)\n",
      "/home/kilean/WorkSpace/pImpactR/pImpactR/impactIO.py:1638: RuntimeWarning: divide by zero encountered in double_scalars\n",
      "  betz = varx/emitz\n",
      "/home/kilean/anaconda3/lib/python3.6/site-packages/ipykernel_launcher.py:28: UserWarning: loadtxt: Empty input file: \"lost_partcl.data\"\n"
     ]
    }
   ],
   "source": [
    "CL = [3.5]\n",
    "for cl in CL:\n",
    "    Twiss0,Twiss1,pData0,pData1,pLost = runIOTA_Thermal(0.3,0.3,emitGeomRMS,0.0,1,cl)\n",
    "    key = 'Thermal.tau=0.3.NLtau=0.3.CL='+str(cl)+'.noEspread.LinearMap'\n",
    "    lostp_data[key]={'Twiss0':copy(Twiss0),'Twiss1':copy(Twiss1),'pData0':copy(pData0),'pData1':copy(pData1),'pLost':copy(pLost)}"
   ]
  },
  {
   "cell_type": "markdown",
   "metadata": {},
   "source": [
    "### Thermal, $H_{\\tau=0.0}$, $\\sigma_E=0$, $order=1$"
   ]
  },
  {
   "cell_type": "code",
   "execution_count": null,
   "metadata": {},
   "outputs": [],
   "source": [
    "# CL = [3.0,2.7,2.4,2.3,2.2]\n",
    "# for cl in CL:\n",
    "#     Twiss0,Twiss1,pData0,pData1,pLost = runIOTA_Thermal(0.0,emitGeomRMS,0.0,1,cl)\n",
    "#     key = 'Thermal.tau=0.0.CL='+str(cl)+'.noEspread.LinearMap'\n",
    "#     lostp_data[key]={'Twiss0':copy(Twiss0),'Twiss1':copy(Twiss1),'pData0':copy(pData0),'pData1':copy(pData1),'pLost':copy(pLost)}"
   ]
  },
  {
   "cell_type": "markdown",
   "metadata": {},
   "source": [
    "### Thermal, $H_{\\tau=0.0}$, $\\sigma_E=2\\times10^{-3}$, $order=3$"
   ]
  },
  {
   "cell_type": "code",
   "execution_count": null,
   "metadata": {},
   "outputs": [],
   "source": [
    "# dE=2.0e-3\n",
    "# order=3\n",
    "# CL = [3.0,2.5,2.0,1.9]\n",
    "# for cl in CL:\n",
    "#     Twiss0,Twiss1,pData0,pData1,pLost = runIOTA_Thermal(0.0,emitGeomRMS,dE,order,cl)\n",
    "#     key = 'Thermal.tau=0.0.CL='+str(cl)\n",
    "#     lostp_data[key]={'Twiss0':copy(Twiss0),'Twiss1':copy(Twiss1),'pData0':copy(pData0),'pData1':copy(pData1),'pLost':copy(pLost)}"
   ]
  },
  {
   "cell_type": "code",
   "execution_count": null,
   "metadata": {},
   "outputs": [],
   "source": [
    "CL = [(3.0,2.0),(3.0,1.5)]\n",
    "for clx,cly in CL:\n",
    "    print(clx,cly)"
   ]
  },
  {
   "cell_type": "markdown",
   "metadata": {},
   "source": [
    "### Exponential,  $\\sigma_E=0$, $order=1$"
   ]
  },
  {
   "cell_type": "code",
   "execution_count": null,
   "metadata": {},
   "outputs": [],
   "source": [
    "ref='Thermal.tau=0.4.CL=3.0.noEspread.LinearMap'\n",
    "betx,alfx,emitx,bety,alfy,emity,betz,alfz,emitz = lostp_data[ref]['Twiss1']\n",
    "CL = [(3.0,2.0),(3.0,1.5)]\n",
    "for clx,cly in CL:\n",
    "    Twiss1,pData1,pLost = run_Exponential(betx,alfx,emitx,clx,bety,alfy,emity,cly,0.0,1)\n",
    "    key = 'Exponential.rmsMatched.CLx='+str(clx)+'.CLy='+str(cly)+'.noEspread.LinearMap'\n",
    "    lostp_data[key]={'Twiss1':copy(Twiss1),'pData1':copy(pData1),'pLost':copy(pLost)}"
   ]
  },
  {
   "cell_type": "code",
   "execution_count": null,
   "metadata": {},
   "outputs": [],
   "source": [
    "betx,alfx,emitx,bety,alfy,emity"
   ]
  },
  {
   "cell_type": "code",
   "execution_count": null,
   "metadata": {},
   "outputs": [],
   "source": [
    "beam.distribution"
   ]
  },
  {
   "cell_type": "markdown",
   "metadata": {},
   "source": [
    "# Plot"
   ]
  },
  {
   "cell_type": "code",
   "execution_count": null,
   "metadata": {},
   "outputs": [],
   "source": [
    "ap0_x,ap0_y = 0.00680513, 0.00935705\n",
    "ap1_x,ap1_y = 4.00000000e-03, 5.50000000e-03\n",
    "ang = np.arange(0.0,2*np.pi,2*np.pi/1024)\n",
    "c = np.cos(ang)\n",
    "s = np.sin(ang)"
   ]
  },
  {
   "cell_type": "code",
   "execution_count": null,
   "metadata": {},
   "outputs": [],
   "source": [
    "key='Thermal.tau=0.0.CL=2.4.noEspread.LinearMap'\n",
    "data = lostp_data[key]\n",
    "\n",
    "plt.figure(figsize=(12,6))\n",
    "\n",
    "plt.subplot(221)\n",
    "plt.hist(data['pLost'][:,0]/L,bins=10,color='k');\n",
    "plt.yscale('log')\n",
    "\n",
    "\n",
    "plt.subplot(223)\n",
    "plt.plot(aperture[:,0],aperture[:,1]*100)\n",
    "plt.plot(aperture[:,0],aperture[:,2]*100)\n",
    "plt.legend(['x-pipe','y-pipe'],loc=2)\n",
    "plt.xlim(0,L)\n",
    "plt.ylabel('pipe size (cm)')\n",
    "plt.grid()\n",
    "plt.twinx()\n",
    "plt.hist(np.mod(data['pLost'][:,0],L),bins=90,color='k');\n",
    "plt.yscale('log')\n",
    "plt.legend(['loss-histogram'],loc=3)\n",
    "plt.tick_params(which='both',direction='in')\n",
    "\n",
    "\n",
    "plt.subplot(122)\n",
    "nlost = len(data['pLost'])\n",
    "print(nlost)\n",
    "alpha = np.min([1,10000/nlost])\n",
    "plt.plot(ap0_x*c,ap0_y*s,alpha=0.7,c='k',lw=2)\n",
    "plt.plot(ap1_x*c,ap1_y*s,alpha=0.7,c='k',lw=2)\n",
    "plt.scatter(data['pLost'][:,1],data['pLost'][:,2],s=1.0,alpha=alpha)\n",
    "plt.xlim(-0.008,0.008)\n",
    "plt.ylim(-0.012,0.012)\n",
    "\n",
    "plt.tight_layout()"
   ]
  },
  {
   "cell_type": "code",
   "execution_count": 26,
   "metadata": {},
   "outputs": [],
   "source": [
    "for key,dic in lostp_data.items():\n",
    "    if 'Twiss0' in dic:\n",
    "        dic['Twiss0'] = np.array(dic['Twiss0'])\n",
    "    dic['Twiss1'] = np.array(dic['Twiss1'])"
   ]
  },
  {
   "cell_type": "code",
   "execution_count": 27,
   "metadata": {},
   "outputs": [
    {
     "name": "stdout",
     "output_type": "stream",
     "text": [
      "Thermal.tau=0.4.CL=3.0.noEspread.LinearMap\n",
      "   1.9234291579196096e-06 4.360008219715481e-06\n",
      "15007\n",
      "Thermal.tau=0.4.CL=2.7.noEspread.LinearMap\n",
      "   1.7932249155081574e-06 4.1106894951058164e-06\n",
      "224\n",
      "Thermal.tau=0.4.CL=2.6.noEspread.LinearMap\n",
      "   1.747280120577577e-06 4.01770562541772e-06\n",
      "0\n",
      "Thermal.tau=0.0.CL=3.0.noEspread.LinearMap\n",
      "   2.3780814792053775e-06 2.375463028347088e-06\n",
      "22014\n",
      "Thermal.tau=0.0.CL=2.7.noEspread.LinearMap\n",
      "   2.2245796496296267e-06 2.2224782158294923e-06\n",
      "7858\n",
      "Thermal.tau=0.0.CL=2.4.noEspread.LinearMap\n",
      "   2.056719617465064e-06 2.0502483195422065e-06\n",
      "875\n",
      "Thermal.tau=0.0.CL=2.2.noEspread.LinearMap\n",
      "   1.932056134099769e-06 1.9299145326728433e-06\n",
      "0\n",
      "Thermal.tau=0.0.CL=2.3.noEspread.LinearMap\n",
      "   1.995738775079415e-06 1.99138228012038e-06\n",
      "132\n",
      "Thermal.tau=0.4.CL=3.0\n",
      "   1.9633834795936337e-06 4.360404716967676e-06\n",
      "17463\n",
      "Thermal.tau=0.4.CL=2.5\n",
      "   1.738874459528321e-06 3.924548359794561e-06\n",
      "271\n",
      "Thermal.tau=0.4.CL=2.2\n",
      "   1.5833826295123575e-06 3.6125025621244036e-06\n",
      "6\n",
      "Thermal.tau=0.0.CL=3.0\n",
      "   2.4108941451224796e-06 2.375522241386022e-06\n",
      "23639\n",
      "Thermal.tau=0.0.CL=2.5\n",
      "   2.146406976884222e-06 2.1102260731885887e-06\n",
      "3254\n",
      "Thermal.tau=0.0.CL=2.0\n",
      "   1.8301257853478854e-06 1.7960702407647118e-06\n",
      "4\n",
      "Thermal.tau=0.4.CL=2.1\n",
      "   1.5302035815068672e-06 3.502407391155235e-06\n",
      "2\n",
      "Thermal.tau=0.0.CL=1.9\n",
      "   1.7590655166899228e-06 1.7282336854376155e-06\n",
      "0\n",
      "Thermal.tau=0.4.CL=2.0\n",
      "   1.47429443325394e-06 3.38768716596573e-06\n",
      "0\n",
      "Exponential.rmsMatched.CLx=2.5.CLy=2.5.noEspread.LinearMap\n",
      "   1.4920047628690552e-06 3.385699563965233e-06\n",
      "97891\n",
      "Exponential.rmsMatched.CLx=2.0.CLy=2.0.noEspread.LinearMap\n",
      "   1.3201427241347998e-06 2.995278263767256e-06\n",
      "66263\n",
      "Exponential.rmsMatched.CLx=3.0.CLy=3.0.noEspread.LinearMap\n",
      "   1.6194722895626913e-06 3.6754784734587403e-06\n",
      "120008\n",
      "Exponential.rmsMatched.CLx=3.0.CLy=2.0.noEspread.LinearMap\n",
      "   1.6194722895626913e-06 2.995278263767256e-06\n",
      "75588\n",
      "Exponential.rmsMatched.CLx=3.0.CLy=1.5.noEspread.LinearMap\n",
      "   1.6194722895626913e-06 2.481481130591333e-06\n",
      "36749\n",
      "Thermal.tau=0.3.NLtau=0.3.CL=3.0.noEspread.LinearMap\n",
      "   1.9466544977814768e-06 3.545586164456607e-06\n",
      "0\n",
      "Thermal.tau=0.3.NLtau=0.3.CL=2.8.noEspread.LinearMap\n",
      "   1.8610921726600092e-06 3.404572803136261e-06\n",
      "0\n",
      "Thermal.tau=0.3.NLtau=0.3.CL=4.0.noEspread.LinearMap\n",
      "   2.278226002659414e-06 4.0950715100699295e-06\n",
      "10150\n",
      "Thermal.tau=0.3.NLtau=0.3.CL=3.5.noEspread.LinearMap\n",
      "   2.1296675302754884e-06 3.849988174553569e-06\n",
      "0\n",
      "Thermal.tau=0.3.NLtau=0.3.CL=3.7.noEspread.LinearMap\n",
      "   2.1930520706385546e-06 3.956460613451317e-06\n",
      "0\n",
      "Thermal.tau=0.3.NLtau=0.3.CL=3.9.noEspread.LinearMap\n",
      "   2.2510506979182986e-06 4.050155249889342e-06\n",
      "5476\n",
      "Thermal.tau=0.3.NLtau=0.3.CL=3.8.noEspread.LinearMap\n",
      "   2.2220323181093763e-06 4.004481517673748e-06\n",
      "1697\n",
      "Thermal.tau=0.3.NLtau=0.3.CL=3.6.noEspread.LinearMap\n",
      "   2.162569064165114e-06 3.905231240119431e-06\n",
      "0\n"
     ]
    }
   ],
   "source": [
    "for key,dic in lostp_data.items():\n",
    "    print(key)\n",
    "#     print('  ',dic['Twiss0'][2],dic['Twiss0'][5])\n",
    "    print('  ',dic['Twiss1'][2],dic['Twiss1'][5])\n",
    "    print(len(dic['pLost']))"
   ]
  },
  {
   "cell_type": "code",
   "execution_count": null,
   "metadata": {},
   "outputs": [],
   "source": []
  }
 ],
 "metadata": {
  "kernelspec": {
   "display_name": "Python 3",
   "language": "python",
   "name": "python3"
  },
  "language_info": {
   "codemirror_mode": {
    "name": "ipython",
    "version": 3
   },
   "file_extension": ".py",
   "mimetype": "text/x-python",
   "name": "python",
   "nbconvert_exporter": "python",
   "pygments_lexer": "ipython3",
   "version": "3.6.5"
  }
 },
 "nbformat": 4,
 "nbformat_minor": 2
}
