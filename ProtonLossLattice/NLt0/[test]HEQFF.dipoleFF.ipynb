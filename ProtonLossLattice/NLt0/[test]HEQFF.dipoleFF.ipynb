{
 "cells": [
  {
   "cell_type": "code",
   "execution_count": 1,
   "metadata": {},
   "outputs": [],
   "source": [
    "import pImpactR as impact\n",
    "import numpy as np\n",
    "import matplotlib.pyplot as plt\n",
    "from copy import deepcopy as copy\n",
    "rectangular_ = 1\n",
    "elliptic_ = 2"
   ]
  },
  {
   "cell_type": "code",
   "execution_count": 2,
   "metadata": {},
   "outputs": [],
   "source": [
    "npt = 1\n",
    "nturn = 1024\n",
    "dipoleFF = 3"
   ]
  },
  {
   "cell_type": "markdown",
   "metadata": {},
   "source": [
    "# read Aperture"
   ]
  },
  {
   "cell_type": "code",
   "execution_count": 3,
   "metadata": {},
   "outputs": [],
   "source": [
    "aperture = np.loadtxt('pipeinfo.in')"
   ]
  },
  {
   "cell_type": "code",
   "execution_count": 4,
   "metadata": {},
   "outputs": [
    {
     "data": {
      "image/png": "[encoded data removed]",
      "text/plain": [
       "<Figure size 864x216 with 1 Axes>"
      ]
     },
     "metadata": {},
     "output_type": "display_data"
    }
   ],
   "source": [
    "plt.figure(figsize=(12,3))\n",
    "plt.plot(aperture[:,0],aperture[:,1]*100)\n",
    "plt.plot(aperture[:,0],aperture[:,2]*100)\n",
    "plt.plot(aperture[:,0],(aperture[:,3]-1)*10,alpha=0.4)\n",
    "plt.grid()\n",
    "plt.ylim((0.2,3.5))\n",
    "plt.xlim((0.0, 40))\n",
    "plt.legend(('x','y'))\n",
    "plt.xlabel('s (m)')\n",
    "plt.ylabel('x or y aperture (cm)');"
   ]
  },
  {
   "cell_type": "code",
   "execution_count": 5,
   "metadata": {},
   "outputs": [
    {
     "data": {
      "text/plain": [
       "39.968229720000004"
      ]
     },
     "execution_count": 5,
     "metadata": {},
     "output_type": "execute_result"
    }
   ],
   "source": [
    "aperture[-1,0]"
   ]
  },
  {
   "cell_type": "markdown",
   "metadata": {},
   "source": [
    "# Prepare impact run"
   ]
  },
  {
   "cell_type": "code",
   "execution_count": 6,
   "metadata": {
    "scrolled": true
   },
   "outputs": [
    {
     "name": "stdout",
     "output_type": "stream",
     "text": [
      "reading ImpactZ input file (\u001b[92mtest.Chad.in\u001b[0m)\n",
      "  : mpi task info .............................done\n",
      "  : simulation control parameters .............done\n",
      "  : space charge field solver, mesh info ......done\n",
      "  : dist-type,restart,subcycle,#of state ......done\n",
      "  : Multiple Charge State info ................done\n",
      "  : particle distribution info ................done\n",
      "  : beam reference orbit info .................done\n",
      "  : converting impact dist to twiss param......done\n",
      "  : lattice info ..............................done\n"
     ]
    }
   ],
   "source": [
    "beam,lattice = impact.readInputFile('test.Chad.in')\n",
    "beam.frequency = impact.data.clight/360\n",
    "\n",
    "ke = beam.kinetic_energy\n",
    "mass = beam.mass\n",
    "freq = beam.frequency\n",
    "\n",
    "g = ke/mass+1.0\n",
    "bg = np.sqrt(g**2-1.0)"
   ]
  },
  {
   "cell_type": "code",
   "execution_count": 7,
   "metadata": {},
   "outputs": [],
   "source": [
    "beam.distribution.distribution_type = 'ReadFile'\n",
    "beam.n_particles = 1\n",
    "beam.nCore_y = 1\n",
    "beam.nCore_z = 1"
   ]
  },
  {
   "cell_type": "code",
   "execution_count": 8,
   "metadata": {},
   "outputs": [
    {
     "name": "stdout",
     "output_type": "stream",
     "text": [
      "NL: 4.9115191429 6.711519142899999\n",
      "-4.199918635094946e-09\n"
     ]
    }
   ],
   "source": [
    "cleanLat = []\n",
    "pre = lattice[0]\n",
    "L = 0 \n",
    "for item in lattice:\n",
    "    if item.type == 'RFkick':\n",
    "        item.vmax = 0.0\n",
    "    if item.type == 'nonlinear_insert':\n",
    "        item.type = 'drift'\n",
    "        print('NL:',L,L+item.length)\n",
    "    if item.type not in ['-8', 'write_raw_ptcl', 'halt']:\n",
    "        cleanLat.append(item)\n",
    "    if 'length' in item:\n",
    "        L = L+item.length\n",
    "print(L-aperture[-1,0])"
   ]
  },
  {
   "cell_type": "code",
   "execution_count": 9,
   "metadata": {},
   "outputs": [],
   "source": [
    "quadIndex = []\n",
    "quadStr = []\n",
    "for i,item in enumerate(cleanLat):\n",
    "    if 'length' in item:\n",
    "        item.n_sckick = int(np.ceil(item.length*50))\n",
    "        item.n_map = 1\n",
    "    if item.type=='quad':\n",
    "        quadIndex.append(i)\n",
    "        quadStr.append(item.Kx)"
   ]
  },
  {
   "cell_type": "code",
   "execution_count": 10,
   "metadata": {},
   "outputs": [],
   "source": [
    "for i,j in enumerate(quadIndex):\n",
    "    heqf1 = impact.getElem('quad_hardedge')\n",
    "    heqf1.n_sckick = 100\n",
    "    heqf1.flagEntrance=True\n",
    "    heqf1.Kx = quadStr[i]\n",
    "    cleanLat.insert(j+2*i,heqf1)\n",
    "    heqf2 = copy(heqf1)\n",
    "    heqf2.flagEntrance=False\n",
    "    cleanLat.insert(j+2*i+2,heqf2)"
   ]
  },
  {
   "cell_type": "code",
   "execution_count": 11,
   "metadata": {},
   "outputs": [],
   "source": [
    "# cleanLat.insert(0,impact.getElem('pipeinfo'))\n",
    "cleanLat[0].turns = nturn"
   ]
  },
  {
   "cell_type": "code",
   "execution_count": 12,
   "metadata": {},
   "outputs": [],
   "source": [
    "M=impact.getTransferMap(beam,cleanLat)"
   ]
  },
  {
   "cell_type": "code",
   "execution_count": 13,
   "metadata": {},
   "outputs": [
    {
     "data": {
      "text/html": [
       "<div>\n",
       "<style scoped>\n",
       "    .dataframe tbody tr th:only-of-type {\n",
       "        vertical-align: middle;\n",
       "    }\n",
       "\n",
       "    .dataframe tbody tr th {\n",
       "        vertical-align: top;\n",
       "    }\n",
       "\n",
       "    .dataframe thead th {\n",
       "        text-align: right;\n",
       "    }\n",
       "</style>\n",
       "<table border=\"1\" class=\"dataframe\">\n",
       "  <thead>\n",
       "    <tr style=\"text-align: right;\">\n",
       "      <th></th>\n",
       "      <th>0</th>\n",
       "      <th>1</th>\n",
       "      <th>2</th>\n",
       "      <th>3</th>\n",
       "      <th>4</th>\n",
       "      <th>5</th>\n",
       "    </tr>\n",
       "  </thead>\n",
       "  <tbody>\n",
       "    <tr>\n",
       "      <th>0</th>\n",
       "      <td>-0.309024</td>\n",
       "      <td>0.533585</td>\n",
       "      <td>0.000000</td>\n",
       "      <td>0.000000</td>\n",
       "      <td>0.000000</td>\n",
       "      <td>-5.025890e-08</td>\n",
       "    </tr>\n",
       "    <tr>\n",
       "      <th>1</th>\n",
       "      <td>-1.695144</td>\n",
       "      <td>-0.309024</td>\n",
       "      <td>0.000000</td>\n",
       "      <td>0.000000</td>\n",
       "      <td>0.000000</td>\n",
       "      <td>-6.508437e-08</td>\n",
       "    </tr>\n",
       "    <tr>\n",
       "      <th>2</th>\n",
       "      <td>0.000000</td>\n",
       "      <td>0.000000</td>\n",
       "      <td>-0.309017</td>\n",
       "      <td>1.317348</td>\n",
       "      <td>0.000000</td>\n",
       "      <td>0.000000e+00</td>\n",
       "    </tr>\n",
       "    <tr>\n",
       "      <th>3</th>\n",
       "      <td>0.000000</td>\n",
       "      <td>0.000000</td>\n",
       "      <td>-0.686613</td>\n",
       "      <td>-0.309017</td>\n",
       "      <td>0.000000</td>\n",
       "      <td>0.000000e+00</td>\n",
       "    </tr>\n",
       "    <tr>\n",
       "      <th>4</th>\n",
       "      <td>-4.460831</td>\n",
       "      <td>-3.444442</td>\n",
       "      <td>-0.000054</td>\n",
       "      <td>0.000347</td>\n",
       "      <td>0.999995</td>\n",
       "      <td>-1.011461e-04</td>\n",
       "    </tr>\n",
       "    <tr>\n",
       "      <th>5</th>\n",
       "      <td>-0.000000</td>\n",
       "      <td>-0.000000</td>\n",
       "      <td>-0.000000</td>\n",
       "      <td>-0.000000</td>\n",
       "      <td>-0.000000</td>\n",
       "      <td>1.000000e+00</td>\n",
       "    </tr>\n",
       "  </tbody>\n",
       "</table>\n",
       "</div>"
      ],
      "text/plain": [
       "          0         1         2         3         4             5\n",
       "0 -0.309024  0.533585  0.000000  0.000000  0.000000 -5.025890e-08\n",
       "1 -1.695144 -0.309024  0.000000  0.000000  0.000000 -6.508437e-08\n",
       "2  0.000000  0.000000 -0.309017  1.317348  0.000000  0.000000e+00\n",
       "3  0.000000  0.000000 -0.686613 -0.309017  0.000000  0.000000e+00\n",
       "4 -4.460831 -3.444442 -0.000054  0.000347  0.999995 -1.011461e-04\n",
       "5 -0.000000 -0.000000 -0.000000 -0.000000 -0.000000  1.000000e+00"
      ]
     },
     "execution_count": 13,
     "metadata": {},
     "output_type": "execute_result"
    }
   ],
   "source": [
    "M"
   ]
  },
  {
   "cell_type": "code",
   "execution_count": 14,
   "metadata": {},
   "outputs": [],
   "source": [
    "M.values[4,:4]=M.values[4,:4]/freq/360*3.0e8\n",
    "M.values[4,-1]=M.values[4,-1]/freq/360*3.0e8"
   ]
  },
  {
   "cell_type": "code",
   "execution_count": 15,
   "metadata": {},
   "outputs": [
    {
     "data": {
      "text/html": [
       "<div>\n",
       "<style scoped>\n",
       "    .dataframe tbody tr th:only-of-type {\n",
       "        vertical-align: middle;\n",
       "    }\n",
       "\n",
       "    .dataframe tbody tr th {\n",
       "        vertical-align: top;\n",
       "    }\n",
       "\n",
       "    .dataframe thead th {\n",
       "        text-align: right;\n",
       "    }\n",
       "</style>\n",
       "<table border=\"1\" class=\"dataframe\">\n",
       "  <thead>\n",
       "    <tr style=\"text-align: right;\">\n",
       "      <th></th>\n",
       "      <th>0</th>\n",
       "      <th>1</th>\n",
       "      <th>2</th>\n",
       "      <th>3</th>\n",
       "      <th>4</th>\n",
       "      <th>5</th>\n",
       "    </tr>\n",
       "  </thead>\n",
       "  <tbody>\n",
       "    <tr>\n",
       "      <th>0</th>\n",
       "      <td>-0.309024</td>\n",
       "      <td>0.533585</td>\n",
       "      <td>0.000000</td>\n",
       "      <td>0.000000</td>\n",
       "      <td>0.000000</td>\n",
       "      <td>-5.025890e-08</td>\n",
       "    </tr>\n",
       "    <tr>\n",
       "      <th>1</th>\n",
       "      <td>-1.695144</td>\n",
       "      <td>-0.309024</td>\n",
       "      <td>0.000000</td>\n",
       "      <td>0.000000</td>\n",
       "      <td>0.000000</td>\n",
       "      <td>-6.508437e-08</td>\n",
       "    </tr>\n",
       "    <tr>\n",
       "      <th>2</th>\n",
       "      <td>0.000000</td>\n",
       "      <td>0.000000</td>\n",
       "      <td>-0.309017</td>\n",
       "      <td>1.317348</td>\n",
       "      <td>0.000000</td>\n",
       "      <td>0.000000e+00</td>\n",
       "    </tr>\n",
       "    <tr>\n",
       "      <th>3</th>\n",
       "      <td>0.000000</td>\n",
       "      <td>0.000000</td>\n",
       "      <td>-0.686613</td>\n",
       "      <td>-0.309017</td>\n",
       "      <td>0.000000</td>\n",
       "      <td>0.000000e+00</td>\n",
       "    </tr>\n",
       "    <tr>\n",
       "      <th>4</th>\n",
       "      <td>-4.463919</td>\n",
       "      <td>-3.446826</td>\n",
       "      <td>-0.000054</td>\n",
       "      <td>0.000347</td>\n",
       "      <td>0.999995</td>\n",
       "      <td>-1.012162e-04</td>\n",
       "    </tr>\n",
       "    <tr>\n",
       "      <th>5</th>\n",
       "      <td>-0.000000</td>\n",
       "      <td>-0.000000</td>\n",
       "      <td>-0.000000</td>\n",
       "      <td>-0.000000</td>\n",
       "      <td>-0.000000</td>\n",
       "      <td>1.000000e+00</td>\n",
       "    </tr>\n",
       "  </tbody>\n",
       "</table>\n",
       "</div>"
      ],
      "text/plain": [
       "          0         1         2         3         4             5\n",
       "0 -0.309024  0.533585  0.000000  0.000000  0.000000 -5.025890e-08\n",
       "1 -1.695144 -0.309024  0.000000  0.000000  0.000000 -6.508437e-08\n",
       "2  0.000000  0.000000 -0.309017  1.317348  0.000000  0.000000e+00\n",
       "3  0.000000  0.000000 -0.686613 -0.309017  0.000000  0.000000e+00\n",
       "4 -4.463919 -3.446826 -0.000054  0.000347  0.999995 -1.012162e-04\n",
       "5 -0.000000 -0.000000 -0.000000 -0.000000 -0.000000  1.000000e+00"
      ]
     },
     "execution_count": 15,
     "metadata": {},
     "output_type": "execute_result"
    }
   ],
   "source": [
    "M"
   ]
  },
  {
   "cell_type": "code",
   "execution_count": 16,
   "metadata": {},
   "outputs": [
    {
     "data": {
      "text/html": [
       "<div>\n",
       "<style scoped>\n",
       "    .dataframe tbody tr th:only-of-type {\n",
       "        vertical-align: middle;\n",
       "    }\n",
       "\n",
       "    .dataframe tbody tr th {\n",
       "        vertical-align: top;\n",
       "    }\n",
       "\n",
       "    .dataframe thead th {\n",
       "        text-align: right;\n",
       "    }\n",
       "</style>\n",
       "<table border=\"1\" class=\"dataframe\">\n",
       "  <thead>\n",
       "    <tr style=\"text-align: right;\">\n",
       "      <th></th>\n",
       "      <th>0</th>\n",
       "      <th>1</th>\n",
       "      <th>2</th>\n",
       "      <th>3</th>\n",
       "      <th>4</th>\n",
       "      <th>5</th>\n",
       "    </tr>\n",
       "  </thead>\n",
       "  <tbody>\n",
       "    <tr>\n",
       "      <th>0</th>\n",
       "      <td>-0.309024</td>\n",
       "      <td>0.533585</td>\n",
       "      <td>0.000000</td>\n",
       "      <td>0.000000</td>\n",
       "      <td>0.000000</td>\n",
       "      <td>3.444700</td>\n",
       "    </tr>\n",
       "    <tr>\n",
       "      <th>1</th>\n",
       "      <td>-1.695144</td>\n",
       "      <td>-0.309024</td>\n",
       "      <td>0.000000</td>\n",
       "      <td>0.000000</td>\n",
       "      <td>0.000000</td>\n",
       "      <td>4.460825</td>\n",
       "    </tr>\n",
       "    <tr>\n",
       "      <th>2</th>\n",
       "      <td>0.000000</td>\n",
       "      <td>0.000000</td>\n",
       "      <td>-0.309017</td>\n",
       "      <td>1.317348</td>\n",
       "      <td>0.000000</td>\n",
       "      <td>-0.000000</td>\n",
       "    </tr>\n",
       "    <tr>\n",
       "      <th>3</th>\n",
       "      <td>0.000000</td>\n",
       "      <td>0.000000</td>\n",
       "      <td>-0.686613</td>\n",
       "      <td>-0.309017</td>\n",
       "      <td>0.000000</td>\n",
       "      <td>-0.000000</td>\n",
       "    </tr>\n",
       "    <tr>\n",
       "      <th>4</th>\n",
       "      <td>-4.463919</td>\n",
       "      <td>-3.446826</td>\n",
       "      <td>-0.000054</td>\n",
       "      <td>0.000347</td>\n",
       "      <td>0.999995</td>\n",
       "      <td>6937.266531</td>\n",
       "    </tr>\n",
       "    <tr>\n",
       "      <th>5</th>\n",
       "      <td>-0.000000</td>\n",
       "      <td>-0.000000</td>\n",
       "      <td>-0.000000</td>\n",
       "      <td>-0.000000</td>\n",
       "      <td>-0.000000</td>\n",
       "      <td>1.000000</td>\n",
       "    </tr>\n",
       "  </tbody>\n",
       "</table>\n",
       "</div>"
      ],
      "text/plain": [
       "          0         1         2         3         4            5\n",
       "0 -0.309024  0.533585  0.000000  0.000000  0.000000     3.444700\n",
       "1 -1.695144 -0.309024  0.000000  0.000000  0.000000     4.460825\n",
       "2  0.000000  0.000000 -0.309017  1.317348  0.000000    -0.000000\n",
       "3  0.000000  0.000000 -0.686613 -0.309017  0.000000    -0.000000\n",
       "4 -4.463919 -3.446826 -0.000054  0.000347  0.999995  6937.266531\n",
       "5 -0.000000 -0.000000 -0.000000 -0.000000 -0.000000     1.000000"
      ]
     },
     "execution_count": 16,
     "metadata": {},
     "output_type": "execute_result"
    }
   ],
   "source": [
    "M.values[:5,-1]=-M.values[:5,-1]*mass*bg\n",
    "M"
   ]
  },
  {
   "cell_type": "code",
   "execution_count": 17,
   "metadata": {},
   "outputs": [
    {
     "data": {
      "text/plain": [
       "832756.8277777778"
      ]
     },
     "execution_count": 17,
     "metadata": {},
     "output_type": "execute_result"
    }
   ],
   "source": [
    "freq"
   ]
  },
  {
   "cell_type": "markdown",
   "metadata": {},
   "source": [
    "# Prepare pData"
   ]
  },
  {
   "cell_type": "code",
   "execution_count": 18,
   "metadata": {},
   "outputs": [],
   "source": [
    "pData = np.zeros([1,9])\n",
    "q_m = beam.multi_charge.q_m[0]\n",
    "pData[0,0] = 0.01\n",
    "pData[0,2] = 0.01\n",
    "pData[:,-1] = 1\n",
    "pData[:,-3] = q_m\n",
    "beam.n_particles = 1\n",
    "\n",
    "impact.writeParticleData(pData, ke, mass, freq)"
   ]
  },
  {
   "cell_type": "code",
   "execution_count": 19,
   "metadata": {},
   "outputs": [],
   "source": [
    "TBT = impact.getElem('TBT')\n",
    "TBT.pID_end = npt\n",
    "TBT.file_id = 1111\n",
    "cleanLat.insert(2,TBT)\n",
    "\n",
    "# writeP = impact.getElem('write_raw_ptcl')\n",
    "# writeP.file_id = 1110\n",
    "# writeP.turn = 1\n",
    "# writeP.format_id = 2\n",
    "# cleanLat.insert(2,writeP)"
   ]
  },
  {
   "cell_type": "markdown",
   "metadata": {},
   "source": [
    "# nStep Hard Edges"
   ]
  },
  {
   "cell_type": "code",
   "execution_count": 20,
   "metadata": {},
   "outputs": [],
   "source": [
    "def run(nSteps):\n",
    "    TBT.file_id = 1000+nSteps\n",
    "    for item in cleanLat:\n",
    "        if item.type == 'quad_hardedge':\n",
    "            item.n_map = nSteps\n",
    "    impact.writeInputFile(beam,cleanLat)\n",
    "    impact.run(beam,order=dipoleFF)\n",
    "    dummy,data = impact.readTBT(1000+nSteps,ke,mass,freq)\n",
    "    data = data[:,:4,0]\n",
    "    return data"
   ]
  },
  {
   "cell_type": "code",
   "execution_count": 21,
   "metadata": {},
   "outputs": [],
   "source": [
    "TBTdata={}"
   ]
  },
  {
   "cell_type": "code",
   "execution_count": 22,
   "metadata": {},
   "outputs": [],
   "source": [
    "TBTdata[100]=run(100)\n",
    "TBTdata[1]=run(1)\n",
    "TBTdata[0]=run(0)"
   ]
  },
  {
   "cell_type": "markdown",
   "metadata": {},
   "source": [
    "# test with MLI"
   ]
  },
  {
   "cell_type": "code",
   "execution_count": 23,
   "metadata": {},
   "outputs": [],
   "source": [
    "pData = impact.readParticleData(1110,ke,mass,freq,2)"
   ]
  },
  {
   "cell_type": "code",
   "execution_count": 24,
   "metadata": {},
   "outputs": [],
   "source": [
    "MLI = impact.MLI"
   ]
  },
  {
   "cell_type": "code",
   "execution_count": 25,
   "metadata": {},
   "outputs": [
    {
     "name": "stdout",
     "output_type": "stream",
     "text": [
      "Impact elem type loop is not recognized from MLI. skipping...\n",
      "Impact elem type write_raw_ptcl is not recognized from MLI. skipping...\n",
      "Impact elem type write_raw_ptcl is not recognized from MLI. skipping...\n",
      "Impact elem type -8 is not recognized from MLI. skipping...\n",
      "Impact elem type RFkick is not recognized from MLI. skipping...\n",
      "Impact elem type write_raw_ptcl is not recognized from MLI. skipping...\n",
      "Impact elem type -8 is not recognized from MLI. skipping...\n"
     ]
    }
   ],
   "source": [
    "elems,line = impact.impact2mli(beam,lattice)"
   ]
  },
  {
   "cell_type": "code",
   "execution_count": 26,
   "metadata": {},
   "outputs": [],
   "source": [
    "elems[2].lfrngquad = 1\n",
    "elems[2].tfrngquad = 1"
   ]
  },
  {
   "cell_type": "code",
   "execution_count": 27,
   "metadata": {},
   "outputs": [
    {
     "data": {
      "text/plain": [
       "'impactLattice'"
      ]
     },
     "execution_count": 27,
     "metadata": {},
     "output_type": "execute_result"
    }
   ],
   "source": [
    "readP = MLI.getElem.raytrace()\n",
    "track = MLI.getElem.autotrack()\n",
    "dump = MLI.getElem.particledump()\n",
    "elems = elems + [readP,track,dump]\n",
    "line.list.append(dump.name)\n",
    "line.name"
   ]
  },
  {
   "cell_type": "code",
   "execution_count": 28,
   "metadata": {},
   "outputs": [],
   "source": [
    "labor = MLI.buildLabor([readP,track,'1024*impactLattice'])"
   ]
  },
  {
   "cell_type": "code",
   "execution_count": 29,
   "metadata": {},
   "outputs": [],
   "source": [
    "MLI.writeInputfile(elems,[line],labor)"
   ]
  },
  {
   "cell_type": "code",
   "execution_count": 30,
   "metadata": {},
   "outputs": [],
   "source": [
    "np.savetxt('rays.in',pData[:,:6])"
   ]
  },
  {
   "cell_type": "code",
   "execution_count": 31,
   "metadata": {},
   "outputs": [],
   "source": [
    "MLI.run()"
   ]
  },
  {
   "cell_type": "code",
   "execution_count": 32,
   "metadata": {
    "scrolled": true
   },
   "outputs": [
    {
     "data": {
      "text/plain": [
       "(1024, 8)"
      ]
     },
     "execution_count": 32,
     "metadata": {},
     "output_type": "execute_result"
    }
   ],
   "source": [
    "TBT_MLI = np.loadtxt('rays.out')\n",
    "TBT_MLI.shape"
   ]
  },
  {
   "cell_type": "code",
   "execution_count": 33,
   "metadata": {},
   "outputs": [
    {
     "data": {
      "text/plain": [
       "(1024, 8)"
      ]
     },
     "execution_count": 33,
     "metadata": {},
     "output_type": "execute_result"
    }
   ],
   "source": [
    "elems[2].lfrngquad=0\n",
    "elems[2].tfrngquad=0\n",
    "MLI.writeInputfile(elems,[line],labor)\n",
    "MLI.run()\n",
    "TBT_MLI_noQF = np.loadtxt('rays.out')\n",
    "TBT_MLI_noQF.shape"
   ]
  },
  {
   "cell_type": "markdown",
   "metadata": {},
   "source": [
    "# plot"
   ]
  },
  {
   "cell_type": "code",
   "execution_count": 40,
   "metadata": {},
   "outputs": [
    {
     "data": {
      "image/png": "[encoded data removed]",
      "text/plain": [
       "<Figure size 792x504 with 5 Axes>"
      ]
     },
     "metadata": {},
     "output_type": "display_data"
    }
   ],
   "source": [
    "plt.figure(figsize=(11,7))\n",
    "plt.subplot(2,3,1)\n",
    "plt.scatter(TBTdata[100][:,0],TBTdata[100][:,1],s=4)\n",
    "plt.scatter(TBTdata[100][:,2],TBTdata[100][:,3],s=4)\n",
    "plt.xlabel('x,y (m)')\n",
    "plt.ylabel('px,py / p0')\n",
    "plt.title('Impact ($N=100$)')\n",
    "plt.xticks([-0.015,-0.005,0.005,0.015])\n",
    "plt.xlim(-0.015,0.015)\n",
    "plt.ylim(-0.025,0.025)\n",
    "plt.subplot(2,3,2)\n",
    "plt.scatter(TBTdata[1][:,0],TBTdata[1][:,1],s=4)\n",
    "plt.scatter(TBTdata[1][:,2],TBTdata[1][:,3],s=4)\n",
    "plt.xlabel('x,y (m)')\n",
    "plt.ylabel('px,py / p0')\n",
    "plt.title('Impact ($N=1$)')\n",
    "plt.xticks([-0.015,-0.005,0.005,0.015])\n",
    "plt.xlim(-0.015,0.015)\n",
    "plt.ylim(-0.025,0.025)\n",
    "plt.subplot(2,3,3)\n",
    "plt.scatter(TBTdata[0][:,0],TBTdata[0][:,1],s=4)\n",
    "plt.scatter(TBTdata[0][:,2],TBTdata[0][:,3],s=4)\n",
    "plt.xlabel('x,y (m)')\n",
    "plt.ylabel('px,py / p0')\n",
    "plt.title('Impact ($N=0$)')\n",
    "plt.xticks([-0.015,-0.005,0.005,0.015])\n",
    "plt.xlim(-0.015,0.015)\n",
    "plt.ylim(-0.025,0.025)\n",
    "plt.subplot(2,3,4)\n",
    "plt.scatter(TBT_MLI[:,1],TBT_MLI[:,2],s=4)\n",
    "plt.scatter(TBT_MLI[:,3],TBT_MLI[:,4],s=4)\n",
    "plt.xlabel('x,y (m)')\n",
    "plt.ylabel('px,py / p0')\n",
    "plt.xticks([-0.015,-0.005,0.005,0.015])\n",
    "plt.xlim(-0.015,0.015)\n",
    "plt.ylim(-0.025,0.025)\n",
    "plt.title('MaryLie (with HEQFF)')\n",
    "plt.subplot(2,3,6)\n",
    "plt.scatter(TBT_MLI_noQF[:,1],TBT_MLI_noQF[:,2],s=4)\n",
    "plt.scatter(TBT_MLI_noQF[:,3],TBT_MLI_noQF[:,4],s=4)\n",
    "plt.xlabel('x,y (m)')\n",
    "plt.ylabel('px,py / p0')\n",
    "plt.xticks([-0.015,-0.005,0.005,0.015])\n",
    "plt.xlim(-0.015,0.015)\n",
    "plt.ylim(-0.025,0.025)\n",
    "plt.title('MaryLie (without HEQFF)')\n",
    "plt.tight_layout()\n",
    "plt.savefig('testHEQFF.HEDFF3.png',dpi=180)"
   ]
  },
  {
   "cell_type": "markdown",
   "metadata": {},
   "source": [
    "# MLI map"
   ]
  },
  {
   "cell_type": "code",
   "execution_count": 35,
   "metadata": {},
   "outputs": [],
   "source": [
    "mapout = MLI.getElem.ptm()"
   ]
  },
  {
   "cell_type": "code",
   "execution_count": 36,
   "metadata": {},
   "outputs": [],
   "source": [
    "elems.append(mapout)\n",
    "labor = MLI.buildLabor([line,mapout])"
   ]
  },
  {
   "cell_type": "code",
   "execution_count": 37,
   "metadata": {},
   "outputs": [],
   "source": [
    "MLI.writeInputfile(elems,[line],labor)\n",
    "MLI.run()"
   ]
  },
  {
   "cell_type": "code",
   "execution_count": 38,
   "metadata": {},
   "outputs": [],
   "source": [
    "M,G = MLI.readTransferMap()"
   ]
  },
  {
   "cell_type": "code",
   "execution_count": 39,
   "metadata": {},
   "outputs": [
    {
     "data": {
      "text/html": [
       "<div>\n",
       "<style scoped>\n",
       "    .dataframe tbody tr th:only-of-type {\n",
       "        vertical-align: middle;\n",
       "    }\n",
       "\n",
       "    .dataframe tbody tr th {\n",
       "        vertical-align: top;\n",
       "    }\n",
       "\n",
       "    .dataframe thead th {\n",
       "        text-align: right;\n",
       "    }\n",
       "</style>\n",
       "<table border=\"1\" class=\"dataframe\">\n",
       "  <thead>\n",
       "    <tr style=\"text-align: right;\">\n",
       "      <th></th>\n",
       "      <th>1</th>\n",
       "      <th>2</th>\n",
       "      <th>3</th>\n",
       "      <th>4</th>\n",
       "      <th>5</th>\n",
       "      <th>6</th>\n",
       "    </tr>\n",
       "  </thead>\n",
       "  <tbody>\n",
       "    <tr>\n",
       "      <th>1</th>\n",
       "      <td>-0.309024</td>\n",
       "      <td>0.533585</td>\n",
       "      <td>0.000000</td>\n",
       "      <td>0.000000</td>\n",
       "      <td>0.0</td>\n",
       "      <td>3.444705</td>\n",
       "    </tr>\n",
       "    <tr>\n",
       "      <th>2</th>\n",
       "      <td>-1.695144</td>\n",
       "      <td>-0.309024</td>\n",
       "      <td>0.000000</td>\n",
       "      <td>0.000000</td>\n",
       "      <td>0.0</td>\n",
       "      <td>4.460781</td>\n",
       "    </tr>\n",
       "    <tr>\n",
       "      <th>3</th>\n",
       "      <td>0.000000</td>\n",
       "      <td>0.000000</td>\n",
       "      <td>-0.309017</td>\n",
       "      <td>1.317348</td>\n",
       "      <td>0.0</td>\n",
       "      <td>0.000000</td>\n",
       "    </tr>\n",
       "    <tr>\n",
       "      <th>4</th>\n",
       "      <td>0.000000</td>\n",
       "      <td>0.000000</td>\n",
       "      <td>-0.686613</td>\n",
       "      <td>-0.309017</td>\n",
       "      <td>0.0</td>\n",
       "      <td>0.000000</td>\n",
       "    </tr>\n",
       "    <tr>\n",
       "      <th>5</th>\n",
       "      <td>-4.460781</td>\n",
       "      <td>-3.444705</td>\n",
       "      <td>0.000000</td>\n",
       "      <td>0.000000</td>\n",
       "      <td>1.0</td>\n",
       "      <td>6932.469613</td>\n",
       "    </tr>\n",
       "    <tr>\n",
       "      <th>6</th>\n",
       "      <td>0.000000</td>\n",
       "      <td>0.000000</td>\n",
       "      <td>0.000000</td>\n",
       "      <td>0.000000</td>\n",
       "      <td>0.0</td>\n",
       "      <td>1.000000</td>\n",
       "    </tr>\n",
       "  </tbody>\n",
       "</table>\n",
       "</div>"
      ],
      "text/plain": [
       "          1         2         3         4    5            6\n",
       "1 -0.309024  0.533585  0.000000  0.000000  0.0     3.444705\n",
       "2 -1.695144 -0.309024  0.000000  0.000000  0.0     4.460781\n",
       "3  0.000000  0.000000 -0.309017  1.317348  0.0     0.000000\n",
       "4  0.000000  0.000000 -0.686613 -0.309017  0.0     0.000000\n",
       "5 -4.460781 -3.444705  0.000000  0.000000  1.0  6932.469613\n",
       "6  0.000000  0.000000  0.000000  0.000000  0.0     1.000000"
      ]
     },
     "execution_count": 39,
     "metadata": {},
     "output_type": "execute_result"
    }
   ],
   "source": [
    "M"
   ]
  },
  {
   "cell_type": "code",
   "execution_count": null,
   "metadata": {},
   "outputs": [],
   "source": []
  }
 ],
 "metadata": {
  "kernelspec": {
   "display_name": "Python 3",
   "language": "python",
   "name": "python3"
  },
  "language_info": {
   "codemirror_mode": {
    "name": "ipython",
    "version": 3
   },
   "file_extension": ".py",
   "mimetype": "text/x-python",
   "name": "python",
   "nbconvert_exporter": "python",
   "pygments_lexer": "ipython3",
   "version": "3.6.5"
  }
 },
 "nbformat": 4,
 "nbformat_minor": 2
}
