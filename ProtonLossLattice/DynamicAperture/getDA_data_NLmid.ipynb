{
 "cells": [
  {
   "cell_type": "code",
   "execution_count": 1,
   "metadata": {},
   "outputs": [],
   "source": [
    "import numpy as np\n",
    "import pImpactR as impact\n",
    "from copy import deepcopy as copy\n",
    "import matplotlib.pyplot as plt\n",
    "import sys\n",
    "np.set_printoptions(formatter={'float': lambda x: format(x, '1.2E')})"
   ]
  },
  {
   "cell_type": "markdown",
   "metadata": {},
   "source": [
    "# settings"
   ]
  },
  {
   "cell_type": "code",
   "execution_count": 2,
   "metadata": {},
   "outputs": [],
   "source": [
    "NL_c = 0.01\n",
    "NL_t = 0.4\n",
    "NL_nu= 0.3\n",
    "NL_L = 1.8\n",
    "\n",
    "alfx = np.tan(np.pi*NL_nu)\n",
    "bet0 = 0.9/alfx"
   ]
  },
  {
   "cell_type": "code",
   "execution_count": null,
   "metadata": {},
   "outputs": [],
   "source": []
  },
  {
   "cell_type": "code",
   "execution_count": 3,
   "metadata": {},
   "outputs": [
    {
     "data": {
      "text/plain": [
       "(0.0014689558564422289, 0.0014689558564422289)"
      ]
     },
     "execution_count": 3,
     "metadata": {},
     "output_type": "execute_result"
    }
   ],
   "source": [
    "order=3\n",
    "NTURN = [1024*2,1024*4]\n",
    "nCore_y=8\n",
    "nCore_z=4\n",
    "\n",
    "\n",
    "emit = 3.3e-6\n",
    "eSpread = 2.0e-3\n",
    "sigx = np.sqrt(bet0*emit)\n",
    "sigy = np.sqrt(bet0*emit)\n",
    "\n",
    "sigx,sigy"
   ]
  },
  {
   "cell_type": "markdown",
   "metadata": {},
   "source": [
    "### read impact lattice"
   ]
  },
  {
   "cell_type": "code",
   "execution_count": 4,
   "metadata": {
    "scrolled": true
   },
   "outputs": [
    {
     "name": "stdout",
     "output_type": "stream",
     "text": [
      "reading ImpactZ input file (\u001b[92m../test.Chad.in\u001b[0m)\n",
      "  : mpi task info .............................done\n",
      "  : simulation control parameters .............done\n",
      "  : space charge field solver, mesh info ......done\n",
      "  : dist-type,restart,subcycle,#of state ......done\n",
      "  : Multiple Charge State info ................done\n",
      "  : particle distribution info ................done\n",
      "  : beam reference orbit info .................done\n",
      "  : converting impact dist to twiss param......done\n",
      "  : lattice info ..............................done\n"
     ]
    }
   ],
   "source": [
    "beam,lattice = impact.readInputFile('../test.Chad.in')\n",
    "beam.nCore_y = nCore_y\n",
    "beam.nCore_z = nCore_z\n",
    "beam.distribution.distribution_type = 'ReadFile'\n",
    "beam.current = 0.0\n",
    "\n",
    "ke = beam.kinetic_energy\n",
    "mass = beam.mass\n",
    "freq = beam.frequency"
   ]
  },
  {
   "cell_type": "code",
   "execution_count": 5,
   "metadata": {},
   "outputs": [],
   "source": [
    "lattice = impact.clearLattice(lattice)"
   ]
  },
  {
   "cell_type": "code",
   "execution_count": 6,
   "metadata": {},
   "outputs": [],
   "source": [
    "for i,item in enumerate(lattice):\n",
    "    if item.type == 'nonlinear_insert':\n",
    "        break\n",
    "\n",
    "# print(lattice[i-2])\n",
    "# print(lattice[i-1])\n",
    "# print(lattice[i  ])\n",
    "# print(lattice[i+1])\n",
    "# print(lattice[i+2])\n",
    "\n",
    "lattice = lattice[i:] + lattice[:i]\n",
    "\n",
    "# print(lattice[-2])\n",
    "# print(lattice[-1])\n",
    "# print(lattice[ 0])\n",
    "# print(lattice[ 1])\n",
    "# print(lattice[ 2])"
   ]
  },
  {
   "cell_type": "code",
   "execution_count": 7,
   "metadata": {},
   "outputs": [
    {
     "data": {
      "text/plain": [
       "\n",
       "             length: 1.8 [m]\n",
       "           n_sckick: 10 [1]\n",
       "              n_map: 100 [1]\n",
       "         strength_t: 0.4\n",
       " transverse_scale_c: 0.01\n",
       "        pipe_radius: 10.0 [m]\n",
       "       tune_advance: 0.3\n",
       "               type: 'nonlinear_insert'"
      ]
     },
     "execution_count": 7,
     "metadata": {},
     "output_type": "execute_result"
    }
   ],
   "source": [
    "lattice[0]"
   ]
  },
  {
   "cell_type": "code",
   "execution_count": 8,
   "metadata": {},
   "outputs": [],
   "source": [
    "NL2 = impact.getElem('nonlinear_insert_sliced')\n",
    "NL2.length = 0.9\n",
    "NL2.start_position = 0.9\n",
    "\n",
    "NL1 = impact.getElem('nonlinear_insert_sliced')\n",
    "NL1.length = 0.9\n",
    "\n",
    "lattice[0] = NL2\n",
    "lattice.append(NL1)"
   ]
  },
  {
   "cell_type": "markdown",
   "metadata": {},
   "source": [
    "### test particles"
   ]
  },
  {
   "cell_type": "code",
   "execution_count": 9,
   "metadata": {},
   "outputs": [
    {
     "data": {
      "text/plain": [
       "(8048, 251.5)"
      ]
     },
     "execution_count": 9,
     "metadata": {},
     "output_type": "execute_result"
    },
    {
     "data": {
      "image/png": "[encoded data removed]",
      "text/plain": [
       "<Figure size 288x288 with 1 Axes>"
      ]
     },
     "metadata": {},
     "output_type": "display_data"
    }
   ],
   "source": [
    "testP = 0.0\n",
    "k=0\n",
    "q_m = beam.multi_charge.q_m[0]\n",
    "pTest = []\n",
    "nx = 100\n",
    "xmax = 5*sigx\n",
    "ymax = 5*sigy\n",
    "for x in np.linspace(-xmax,xmax,nx):\n",
    "    for y in np.linspace(-ymax,ymax,nx):\n",
    "        if (x/xmax)**2+(y/ymax)**2<=1.05 :\n",
    "            k+=1\n",
    "            pTest.append([x,0.0,y,0.0,0.0,0.0,q_m,0.0,k]) \n",
    "pTest = np.array(pTest)\n",
    "npt0 = len(pTest)\n",
    "\n",
    "impact.writeParticleData(pTest, ke, mass, freq)\n",
    "beam.n_particles = npt0\n",
    "\n",
    "plt.figure(figsize=(4,4))\n",
    "plt.scatter(pTest[:,0],pTest[:,2],s=0.2)\n",
    "\n",
    "npt0,npt0/(nCore_y*nCore_z)"
   ]
  },
  {
   "cell_type": "code",
   "execution_count": 10,
   "metadata": {},
   "outputs": [],
   "source": [
    "for item in lattice:\n",
    "    if item.type == 'RFkick':\n",
    "        item.vmax = 0.0\n",
    "    if item.type == 'nonlinear_insert':\n",
    "        ElemNL = item\n",
    "    if 'length' in item:\n",
    "        item.n_sckick = int(np.ceil(item.length*50))\n",
    "        item.n_map = 1\n",
    "\n",
    "NL1.n_sckick = 1\n",
    "NL1.n_map = 50\n",
    "NL2.n_sckick = 1\n",
    "NL2.n_map = 50"
   ]
  },
  {
   "cell_type": "markdown",
   "metadata": {},
   "source": [
    "### forward lattice"
   ]
  },
  {
   "cell_type": "code",
   "execution_count": 11,
   "metadata": {},
   "outputs": [],
   "source": [
    "Loop = impact.getElem('loop')\n",
    "\n",
    "ElemTBT = impact.getElem('TBT')\n",
    "ElemTBT.pID_begin = 1\n",
    "ElemTBT.pID_end = npt0\n",
    "\n",
    "OUTPUT = impact.getElem('write_raw_ptcl')\n",
    "OUTPUT.format_id = 2"
   ]
  },
  {
   "cell_type": "markdown",
   "metadata": {},
   "source": [
    "##### with QFF"
   ]
  },
  {
   "cell_type": "code",
   "execution_count": 12,
   "metadata": {},
   "outputs": [],
   "source": [
    "quadIndex = []\n",
    "quadStr = []\n",
    "latticeQFF = copy(lattice)\n",
    "for i,item in enumerate(latticeQFF):\n",
    "    if item.type=='quad':\n",
    "        quadIndex.append(i)\n",
    "        quadStr.append(item.Kx)\n",
    "        \n",
    "for i,j in enumerate(quadIndex):\n",
    "    heqf1 = impact.getElem('quad_hardedge')\n",
    "    heqf1.n_map = 2\n",
    "    heqf1.flagEntrance=True\n",
    "    heqf1.Kx = quadStr[i]\n",
    "    latticeQFF.insert(j+2*i,heqf1)\n",
    "    heqf2 = copy(heqf1)\n",
    "    heqf2.flagEntrance=False\n",
    "    latticeQFF.insert(j+2*i+2,heqf2)\n",
    "    \n",
    "\n",
    "latticeQFF.insert(0,Loop)\n",
    "latticeQFF.insert(1,ElemTBT)\n",
    "latticeQFF.append(OUTPUT)"
   ]
  },
  {
   "cell_type": "markdown",
   "metadata": {},
   "source": [
    "##### without QFF"
   ]
  },
  {
   "cell_type": "code",
   "execution_count": 13,
   "metadata": {},
   "outputs": [],
   "source": [
    "lattice.insert(0,Loop)\n",
    "lattice.insert(1,ElemTBT)\n",
    "lattice.append(OUTPUT)"
   ]
  },
  {
   "cell_type": "markdown",
   "metadata": {},
   "source": [
    "# Define runs"
   ]
  },
  {
   "cell_type": "code",
   "execution_count": 14,
   "metadata": {},
   "outputs": [],
   "source": [
    "def getClosestDiff(ref,arr):\n",
    "    # ref.shape = nSample\n",
    "    nMode = len(arr)\n",
    "    if ref>1.0:\n",
    "        ref = ref - 1.0\n",
    "    for i in range(nMode):\n",
    "        if arr[i]>1.0:\n",
    "            arr[i]=arr[i]-1.0\n",
    "    diff = np.abs(ref-arr)\n",
    "    for i in range(nMode):\n",
    "        if (diff[i]>0.5):\n",
    "            diff[i] = 1.0 - diff[i]\n",
    "    return np.min(diff)"
   ]
  },
  {
   "cell_type": "code",
   "execution_count": 15,
   "metadata": {},
   "outputs": [],
   "source": [
    "def run(latticeIn):\n",
    "    ElemTBT.file_id = NTURN[0]\n",
    "    OUTPUT.file_id = NTURN[0]\n",
    "    OUTPUT.turn = NTURN[0]\n",
    "    Loop.turns = NTURN[0]\n",
    "    beam.distribution.distribution_type = 'ReadFile'\n",
    "    impact.writeInputFile(beam,latticeIn)\n",
    "    impact.run(beam,order=order)\n",
    "    for nturn in NTURN[:-1]:\n",
    "        latticeIn[0].turns = nturn\n",
    "        ElemTBT.file_id = nturn*2\n",
    "        OUTPUT.turn = nturn\n",
    "        OUTPUT.file_id = nturn*2\n",
    "        Loop.turns = nturn\n",
    "        beam.distribution.distribution_type = 'ReadFile_binary'\n",
    "        beam.distribution.file_id = nturn\n",
    "        impact.writeInputFile(beam,latticeIn) \n",
    "        impact.run(beam,order=order)\n",
    "\n",
    "        \n",
    "    iTBT = {}\n",
    "    TBT = {}\n",
    "    Npt = {}\n",
    "    # read TBT data\n",
    "    for nturn in NTURN:\n",
    "        iTBT[nturn],TBT[nturn] = impact.readTBT(nturn,ke,mass,freq)\n",
    "        TBT[nturn] = TBT[nturn][:,:4,:]\n",
    "        Npt[nturn] = len(iTBT[nturn])\n",
    "\n",
    "\n",
    "    # normalize TBT data\n",
    "    XF = {}\n",
    "    YF = {}\n",
    "    for i in range(len(NTURN)):\n",
    "        nturn = NTURN[i]\n",
    "        npt = len(iTBT[nturn])\n",
    "        XF[nturn]=np.zeros((nturn,npt),dtype=np.complex)\n",
    "        YF[nturn]=np.zeros((nturn,npt),dtype=np.complex)\n",
    "        iturn = 0\n",
    "        for j in range(i+1):\n",
    "            jturn = NTURN[j]\n",
    "            itmp = np.in1d(iTBT[jturn],iTBT[nturn])\n",
    "            tmp = TBT[jturn][:,:,itmp]\n",
    "            XF[nturn][iturn:jturn] = (tmp[:,0,:] - 1j*(bet0*tmp[:,1,:]))/np.sqrt(bet0)\n",
    "            YF[nturn][iturn:jturn] = (tmp[:,2,:] - 1j*(bet0*tmp[:,3,:]))/np.sqrt(bet0)\n",
    "            iturn = jturn\n",
    "\n",
    "            \n",
    "    # FMA\n",
    "    tuneXbefore= {}\n",
    "    tuneYbefore= {}\n",
    "    Xdiff = {}\n",
    "    Ydiff = {}\n",
    "    Adiff = {}\n",
    "    for nturn in NTURN[:-1]:\n",
    "        nturn2 = 2*nturn\n",
    "        npt = len(XF[nturn2][0,:])\n",
    "        tuneXbefore[nturn] = np.zeros(npt)\n",
    "        tuneYbefore[nturn] = np.zeros(npt)\n",
    "        Xdiff[nturn] = np.zeros(npt)\n",
    "        Ydiff[nturn] = np.zeros(npt)\n",
    "        Adiff[nturn] = np.zeros(npt)\n",
    "        for i in range(npt):\n",
    "            signal = XF[nturn2][:nturn,i] -np.mean(XF[nturn2][:nturn,i])\n",
    "            tuneXbefore[nturn][i],amp,dummy = impact.util.naff(1,signal,window_id=1)\n",
    "            signal = XF[nturn2][nturn:,i] -np.mean(XF[nturn2][nturn:,i])\n",
    "            tune,amp,dummy = impact.util.naff(3,signal,window_id=1)\n",
    "            Xdiff[nturn][i] = getClosestDiff(tuneXbefore[nturn][i],tune)\n",
    "            signal = YF[nturn2][:nturn,i] -np.mean(YF[nturn2][:nturn,i])\n",
    "            tuneYbefore[nturn][i],amp,dummy = impact.util.naff(1,signal,window_id=1)\n",
    "            signal = YF[nturn2][nturn:,i] -np.mean(YF[nturn2][nturn:,i])\n",
    "            tune,amp,dummy = impact.util.naff(3,signal,window_id=1)\n",
    "            Ydiff[nturn][i] = getClosestDiff(tuneYbefore[nturn][i],tune)\n",
    "\n",
    "        Adiff[nturn] = np.sqrt(Xdiff[nturn]**2 +Ydiff[nturn]**2)\n",
    "        Adiff[nturn] = np.log10(Adiff[nturn]+1.0e-6)\n",
    "            \n",
    "\n",
    "    return {'X':copy(XF[NTURN[-1]]),'Y':copy(YF[NTURN[-1]]),'c':copy(Adiff[NTURN[-2]])}#,'rawX':XB,'rawY':YB}"
   ]
  },
  {
   "cell_type": "code",
   "execution_count": null,
   "metadata": {},
   "outputs": [],
   "source": [
    "data_QFF = run(latticeQFF)"
   ]
  },
  {
   "cell_type": "code",
   "execution_count": null,
   "metadata": {},
   "outputs": [],
   "source": [
    "! rm fort.*\n",
    "! rm TBT.*"
   ]
  },
  {
   "cell_type": "code",
   "execution_count": null,
   "metadata": {},
   "outputs": [],
   "source": [
    "data_noQFF = run(lattice)"
   ]
  },
  {
   "cell_type": "code",
   "execution_count": null,
   "metadata": {},
   "outputs": [],
   "source": [
    "fig = plt.figure(figsize=[5.6*1.2,12/5*1.2])\n",
    "plt.subplot(1,2,1)\n",
    "data = data_noQFF\n",
    "cmap = plt.scatter(100*data['X'][0,:].real,100*data['Y'][0,:].real,c=data['c'],s=0.7,marker='s',cmap='nipy_spectral')\n",
    "xmin = 100*data['X'][0,:].real.min()\n",
    "xmax = 100*data['X'][0,:].real.max()\n",
    "ymin = 100*data['Y'][0,:].real.min()\n",
    "ymax = 100*data['Y'][0,:].real.max()\n",
    "# plt.xticks([-1,0,1])\n",
    "# plt.yticks([-1,0,1])\n",
    "# plt.xlim(xmin*1.1,xmax*1.1)\n",
    "# plt.ylim(ymin*1.1,ymax*1.1)\n",
    "plt.xlim(-1,1)\n",
    "plt.ylim(-1,1)\n",
    "plt.xlabel('$x (cm)$')  \n",
    "plt.ylabel('$y (cm)$')\n",
    "plt.colorbar(cmap)\n",
    "\n",
    "plt.subplot(1,2,2)\n",
    "data = data_QFF\n",
    "cmap = plt.scatter(100*data['X'][0,:].real,100*data['Y'][0,:].real,c=data['c'],s=0.7,marker='s',cmap='nipy_spectral')\n",
    "# plt.xticks([-1,0,1])\n",
    "# plt.yticks([-1,0,1])\n",
    "# plt.xlim(xmin*1.1,xmax*1.1)\n",
    "# plt.ylim(ymin*1.1,ymax*1.1)\n",
    "plt.xlim(-1,1)\n",
    "plt.ylim(-1,1)\n",
    "plt.xlabel('$x (cm)$')  \n",
    "# plt.ylabel('$y$')\n",
    "plt.yticks([])\n",
    "plt.colorbar(cmap)\n",
    "\n",
    "plt.tight_layout()\n",
    "plt.savefig('FMA.DA.HEQFF.NLmid.png',dpi=270)\n",
    "plt.savefig('FMA.DA.HEQFF.NLmid.eps',dpi=270)"
   ]
  },
  {
   "cell_type": "code",
   "execution_count": null,
   "metadata": {},
   "outputs": [],
   "source": [
    "Loop.turns=1\n",
    "OUTPUT.turn=1\n",
    "OUTPUT.file_id = 1000\n",
    "\n",
    "bg = np.sqrt((1.0+ke/mass)**2-1.0)\n",
    "beam.distribution.mode = 'twiss'\n",
    "beam.distribution.distribution_type = 'Gauss'\n",
    "beam.distribution.alfx = 0\n",
    "beam.distribution.betx = bet0\n",
    "beam.distribution.emitx = 3.3e-6*bg\n",
    "beam.distribution.alfy = 0\n",
    "beam.distribution.bety = bet0\n",
    "beam.distribution.emity = 3.3e-6*bg\n",
    "beam.distribution.betz = 0\n",
    "beam.distribution.alfz = 0 \n",
    "beam.distribution.emitz = 0 \n",
    "beam.n_particles = 100000\n",
    "beam.nCore_y = 4\n",
    "beam.nCore_z = 4\n",
    "\n",
    "impact.writeInputFile(beam,[Loop,OUTPUT])\n",
    "impact.run(beam)"
   ]
  },
  {
   "cell_type": "code",
   "execution_count": null,
   "metadata": {},
   "outputs": [],
   "source": [
    "pData = impact.readParticleData(1000,ke,mass,freq,2)"
   ]
  },
  {
   "cell_type": "code",
   "execution_count": null,
   "metadata": {},
   "outputs": [],
   "source": [
    "levels = np.array([5.0e-2,8.00E-01, 1.60E+00, 2.40E+00, 3.20E+00, 4.00E+00, 4.80E+00])"
   ]
  },
  {
   "cell_type": "code",
   "execution_count": null,
   "metadata": {},
   "outputs": [],
   "source": [
    "np.all(levels==0)"
   ]
  },
  {
   "cell_type": "code",
   "execution_count": null,
   "metadata": {},
   "outputs": [],
   "source": [
    "import pickle\n",
    "# data = {'data_noQFF':data_noQFF,'data_QFF':data_QFF}\n",
    "# pickle.dump(data,open('data','wb'))\n",
    "# data=pickle.load(open('data','rb'))\n",
    "# data_noQFF = data['data_noQFF']\n",
    "# data_QFF = data['data_QFF']"
   ]
  },
  {
   "cell_type": "code",
   "execution_count": null,
   "metadata": {},
   "outputs": [],
   "source": [
    "impact.plot.contour(100*pData[:,0],100*pData[:,2],edge=False,levels=levels)"
   ]
  },
  {
   "cell_type": "code",
   "execution_count": null,
   "metadata": {
    "scrolled": true
   },
   "outputs": [],
   "source": [
    "fig = plt.figure(figsize=[5.6*1.2,12/5*1.2])\n",
    "ax1 = plt.subplot(1,2,1)\n",
    "data = data_noQFF\n",
    "cmap = plt.scatter(100*data['X'][0,:].real,100*data['Y'][0,:].real,c=data['c'],s=0.7,marker='s',cmap='nipy_spectral')\n",
    "plt.scatter(0,0,c='white',s=100000,alpha=0.4)\n",
    "impact.plot.density(100*pData[:,0],100*pData[:,2],mksize=0.4)\n",
    "# impact.plot.contour(100*pData[:,0],100*pData[:,2],edge=False,levels=levels)\n",
    "xmin = 100*data['X'][0,:].real.min()\n",
    "xmax = 100*data['X'][0,:].real.max()\n",
    "ymin = 100*data['Y'][0,:].real.min()\n",
    "ymax = 100*data['Y'][0,:].real.max()\n",
    "# plt.xticks([-1,0,1])\n",
    "# plt.yticks([-1,0,1])\n",
    "# plt.xlim(xmin*1.1,xmax*1.1)\n",
    "# plt.ylim(ymin*1.1,ymax*1.1)\n",
    "plt.xlim(-1,1)\n",
    "plt.ylim(-1,1)\n",
    "plt.xlabel('$x (cm)$')  \n",
    "plt.ylabel('$y (cm)$')\n",
    "plt.colorbar(cmap)\n",
    "\n",
    "\n",
    "ax2=plt.subplot(1,2,2)\n",
    "data = data_QFF\n",
    "cmap = plt.scatter(100*data['X'][0,:].real,100*data['Y'][0,:].real,c=data['c'],s=0.7,marker='s',cmap='nipy_spectral')\n",
    "plt.scatter(0,0,c='white',s=100000,alpha=0.4)\n",
    "impact.plot.density(100*pData[:,0],100*pData[:,2],mksize=0.4)\n",
    "# contour = impact.plot.contour(100*pData[:,0],100*pData[:,2],edge=False,levels=levels)\n",
    "# # plt.xticks([-1,0,1])\n",
    "# # plt.yticks([-1,0,1])\n",
    "# plt.xlim(xmin*1.1,xmax*1.1)\n",
    "# plt.ylim(ymin*1.1,ymax*1.1)\n",
    "plt.xlim(-1,1)\n",
    "plt.ylim(-1,1)\n",
    "plt.xlabel('$x (cm)$')  \n",
    "# plt.ylabel('$y$')\n",
    "plt.yticks([])\n",
    "plt.colorbar(cmap)\n",
    "\n",
    "\n",
    "plt.tight_layout()\n",
    "plt.savefig('FMA.DA.HEQFF.wCore.NLmid.png',dpi=270)\n",
    "plt.savefig('FMA.DA.HEQFF.wCore.NLmid.eps',dpi=270)"
   ]
  },
  {
   "cell_type": "code",
   "execution_count": null,
   "metadata": {},
   "outputs": [],
   "source": [
    "Loop.turns=1\n",
    "OUTPUT.turn=1\n",
    "OUTPUT.file_id = 1000\n",
    "\n",
    "bg = np.sqrt((1.0+ke/mass)**2-1.0)\n",
    "beam.distribution.mode = 'twiss'\n",
    "beam.distribution.distribution_type = 'IOTA_Gauss'\n",
    "beam.distribution.NL_t  = 0.4\n",
    "beam.distribution.NL_c  = 0.01\n",
    "beam.distribution.betx  = bet0\n",
    "beam.distribution.alfx  = 0\n",
    "beam.distribution.emitx = emit\n",
    "beam.distribution.CL    = 5.0\n",
    "beam.distribution.betz  = 0.0\n",
    "beam.distribution.alfz  = 0.0\n",
    "beam.distribution.emitz = 0.0\n",
    "beam.n_particles = 100000\n",
    "beam.nCore_y = 4\n",
    "beam.nCore_z = 4\n",
    "\n",
    "impact.writeInputFile(beam,[Loop,OUTPUT])\n",
    "impact.run(beam)"
   ]
  },
  {
   "cell_type": "code",
   "execution_count": null,
   "metadata": {},
   "outputs": [],
   "source": [
    "pData = impact.readParticleData(1000,ke,mass,freq,2)"
   ]
  },
  {
   "cell_type": "code",
   "execution_count": null,
   "metadata": {},
   "outputs": [],
   "source": [
    "levels = np.array([5.0e-2,8.00E-01, 1.60E+00, 2.40E+00, 3.20E+00, 4.00E+00, 4.80E+00])"
   ]
  },
  {
   "cell_type": "code",
   "execution_count": null,
   "metadata": {},
   "outputs": [],
   "source": [
    "np.all(levels==0)"
   ]
  },
  {
   "cell_type": "code",
   "execution_count": null,
   "metadata": {},
   "outputs": [],
   "source": [
    "import pickle\n",
    "# data = {'data_noQFF':data_noQFF,'data_QFF':data_QFF}\n",
    "# pickle.dump(data,open('data','wb'))\n",
    "# data=pickle.load(open('data','rb'))\n",
    "# data_noQFF = data['data_noQFF']\n",
    "# data_QFF = data['data_QFF']"
   ]
  },
  {
   "cell_type": "code",
   "execution_count": null,
   "metadata": {},
   "outputs": [],
   "source": [
    "# impact.plot.contour(100*pData[:,0],100*pData[:,2],edge=False,levels=levels)"
   ]
  },
  {
   "cell_type": "code",
   "execution_count": 34,
   "metadata": {
    "scrolled": true
   },
   "outputs": [
    {
     "data": {
      "image/png": "[encoded data removed]",
      "text/plain": [
       "<Figure size 483.84x207.36 with 4 Axes>"
      ]
     },
     "metadata": {},
     "output_type": "display_data"
    }
   ],
   "source": [
    "fig = plt.figure(figsize=[5.6*1.2,12/5*1.2])\n",
    "ax1 = plt.subplot(1,2,1)\n",
    "data = data_noQFF\n",
    "cmap = plt.scatter(100*data['X'][0,:].real,100*data['Y'][0,:].real,c=data['c'],s=0.7,marker='s',cmap='nipy_spectral')\n",
    "plt.scatter(0,0,c='white',s=100000,alpha=0.4)\n",
    "impact.plot.density(100*pData[:,0],100*pData[:,2],mksize=0.4)\n",
    "# impact.plot.contour(100*pData[:,0],100*pData[:,2],edge=False,levels=levels)\n",
    "xmin = 100*data['X'][0,:].real.min()\n",
    "xmax = 100*data['X'][0,:].real.max()\n",
    "ymin = 100*data['Y'][0,:].real.min()\n",
    "ymax = 100*data['Y'][0,:].real.max()\n",
    "# plt.xticks([-1,0,1])\n",
    "# plt.yticks([-1,0,1])\n",
    "# plt.xlim(xmin*1.1,xmax*1.1)\n",
    "# plt.ylim(ymin*1.1,ymax*1.1)\n",
    "plt.xlim(-1,1)\n",
    "plt.ylim(-1,1)\n",
    "plt.xlabel('$x (cm)$')  \n",
    "plt.ylabel('$y (cm)$')\n",
    "plt.colorbar(cmap)\n",
    "\n",
    "\n",
    "ax2=plt.subplot(1,2,2)\n",
    "data = data_QFF\n",
    "cmap = plt.scatter(100*data['X'][0,:].real,100*data['Y'][0,:].real,c=data['c'],s=0.7,marker='s',cmap='nipy_spectral')\n",
    "plt.scatter(0,0,c='white',s=100000,alpha=0.4)\n",
    "impact.plot.density(100*pData[:,0],100*pData[:,2],mksize=0.4)\n",
    "# contour = impact.plot.contour(100*pData[:,0],100*pData[:,2],edge=False,levels=levels)\n",
    "# # plt.xticks([-1,0,1])\n",
    "# # plt.yticks([-1,0,1])\n",
    "# plt.xlim(xmin*1.1,xmax*1.1)\n",
    "# plt.ylim(ymin*1.1,ymax*1.1)\n",
    "plt.xlim(-1,1)\n",
    "plt.ylim(-1,1)\n",
    "plt.xlabel('$x (cm)$')  \n",
    "# plt.ylabel('$y$')\n",
    "plt.yticks([])\n",
    "plt.colorbar(cmap)\n",
    "\n",
    "\n",
    "plt.tight_layout()\n",
    "plt.savefig('FMA.DA.HEQFF.wNonlinearCore.NLmid.png',dpi=270)\n",
    "plt.savefig('FMA.DA.HEQFF.wNonlinearCore.NLmid.eps',dpi=270)"
   ]
  },
  {
   "cell_type": "code",
   "execution_count": null,
   "metadata": {},
   "outputs": [],
   "source": []
  }
 ],
 "metadata": {
  "kernelspec": {
   "display_name": "Python 3",
   "language": "python",
   "name": "python3"
  },
  "language_info": {
   "codemirror_mode": {
    "name": "ipython",
    "version": 3
   },
   "file_extension": ".py",
   "mimetype": "text/x-python",
   "name": "python",
   "nbconvert_exporter": "python",
   "pygments_lexer": "ipython3",
   "version": "3.7.6"
  }
 },
 "nbformat": 4,
 "nbformat_minor": 2
}
