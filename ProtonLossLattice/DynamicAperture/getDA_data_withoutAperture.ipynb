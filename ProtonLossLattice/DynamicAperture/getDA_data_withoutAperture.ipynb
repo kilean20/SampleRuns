{
 "cells": [
  {
   "cell_type": "code",
   "execution_count": 1,
   "metadata": {},
   "outputs": [],
   "source": [
    "import numpy as np\n",
    "import pImpactR as impact\n",
    "from copy import deepcopy as copy\n",
    "import matplotlib.pyplot as plt\n",
    "import sys\n",
    "np.set_printoptions(formatter={'float': lambda x: format(x, '1.2E')})"
   ]
  },
  {
   "cell_type": "markdown",
   "metadata": {},
   "source": [
    "# settings"
   ]
  },
  {
   "cell_type": "code",
   "execution_count": 2,
   "metadata": {},
   "outputs": [
    {
     "data": {
      "text/plain": [
       "(0.001360704675012179, 0.002137982148990024)"
      ]
     },
     "execution_count": 2,
     "metadata": {},
     "output_type": "execute_result"
    }
   ],
   "source": [
    "order=3\n",
    "NTURN = [1024,1024*2]\n",
    "nCore_y=8\n",
    "nCore_z=4\n",
    "\n",
    "alfx = 3.860846841e-5\n",
    "betx = 0.561065822\n",
    "alfy = 2.282987698e-9\n",
    "bety = 1.385141718\n",
    "emit = 3.3e-6\n",
    "eSpread = 2.0e-3\n",
    "sigx = np.sqrt(betx*emit)\n",
    "sigy = np.sqrt(bety*emit)\n",
    "\n",
    "sigx,sigy"
   ]
  },
  {
   "cell_type": "markdown",
   "metadata": {},
   "source": [
    "### read impact lattice"
   ]
  },
  {
   "cell_type": "code",
   "execution_count": 3,
   "metadata": {
    "scrolled": true
   },
   "outputs": [
    {
     "name": "stdout",
     "output_type": "stream",
     "text": [
      "reading ImpactZ input file (\u001b[92m../test.Chad.in\u001b[0m)\n",
      "  : mpi task info .............................done\n",
      "  : simulation control parameters .............done\n",
      "  : space charge field solver, mesh info ......done\n",
      "  : dist-type,restart,subcycle,#of state ......done\n",
      "  : Multiple Charge State info ................done\n",
      "  : particle distribution info ................done\n",
      "  : beam reference orbit info .................done\n",
      "  : converting impact dist to twiss param......done\n",
      "  : lattice info ..............................done\n"
     ]
    }
   ],
   "source": [
    "beam,lattice = impact.readInputFile('../test.Chad.in')\n",
    "beam.nCore_y = nCore_y\n",
    "beam.nCore_z = nCore_z\n",
    "beam.distribution.distribution_type = 'ReadFile'\n",
    "beam.current = 0.0\n",
    "\n",
    "ke = beam.kinetic_energy\n",
    "mass = beam.mass\n",
    "freq = beam.frequency"
   ]
  },
  {
   "cell_type": "markdown",
   "metadata": {},
   "source": [
    "### test particles"
   ]
  },
  {
   "cell_type": "code",
   "execution_count": 4,
   "metadata": {},
   "outputs": [
    {
     "data": {
      "text/plain": [
       "(18208, 569.0)"
      ]
     },
     "execution_count": 4,
     "metadata": {},
     "output_type": "execute_result"
    },
    {
     "data": {
      "image/png": "[encoded data removed]",
      "text/plain": [
       "<Figure size 288x288 with 1 Axes>"
      ]
     },
     "metadata": {},
     "output_type": "display_data"
    }
   ],
   "source": [
    "testP = 0.0\n",
    "k=0\n",
    "q_m = beam.multi_charge.q_m[0]\n",
    "pTest = []\n",
    "nx = 150\n",
    "xmax = 10*sigx\n",
    "ymax = 10*sigy\n",
    "for x in np.linspace(-xmax,xmax,nx):\n",
    "    for y in np.linspace(-ymax,ymax,nx):\n",
    "        if (x/xmax)**2+(y/ymax)**2<=1.05 :\n",
    "            k+=1\n",
    "            pTest.append([x,0.0,y,0.0,0.0,0.0,q_m,0.0,k]) \n",
    "pTest = np.array(pTest)\n",
    "npt0 = len(pTest)\n",
    "\n",
    "impact.writeParticleData(pTest, ke, mass, freq)\n",
    "beam.n_particles = npt0\n",
    "\n",
    "plt.figure(figsize=(4,4))\n",
    "plt.scatter(pTest[:,0],pTest[:,2],s=0.2)\n",
    "\n",
    "npt0,npt0/(nCore_y*nCore_z)"
   ]
  },
  {
   "cell_type": "code",
   "execution_count": 5,
   "metadata": {},
   "outputs": [],
   "source": [
    "lattice = impact.clearLattice(lattice)\n",
    "for item in lattice:\n",
    "    if item.type == 'RFkick':\n",
    "        item.vmax = 0.0\n",
    "    if item.type == 'nonlinear_insert':\n",
    "        ElemNL = item\n",
    "    if 'length' in item:\n",
    "        item.n_sckick = int(np.ceil(item.length*50))\n",
    "        item.n_map = 1\n",
    "        \n",
    "ElemNL.n_sckick = 2\n",
    "ElemNL.n_map = 45"
   ]
  },
  {
   "cell_type": "markdown",
   "metadata": {},
   "source": [
    "### forward lattice"
   ]
  },
  {
   "cell_type": "code",
   "execution_count": 6,
   "metadata": {},
   "outputs": [],
   "source": [
    "Loop = impact.getElem('loop')\n",
    "\n",
    "ElemTBT = impact.getElem('TBT')\n",
    "ElemTBT.pID_begin = 1\n",
    "ElemTBT.pID_end = npt0\n",
    "\n",
    "OUTPUT = impact.getElem('write_raw_ptcl')\n",
    "OUTPUT.format_id = 2"
   ]
  },
  {
   "cell_type": "markdown",
   "metadata": {},
   "source": [
    "##### with QFF"
   ]
  },
  {
   "cell_type": "code",
   "execution_count": 7,
   "metadata": {},
   "outputs": [],
   "source": [
    "quadIndex = []\n",
    "quadStr = []\n",
    "latticeQFF = copy(lattice)\n",
    "for i,item in enumerate(latticeQFF):\n",
    "    if item.type=='quad':\n",
    "        quadIndex.append(i)\n",
    "        quadStr.append(item.Kx)\n",
    "        \n",
    "for i,j in enumerate(quadIndex):\n",
    "    heqf1 = impact.getElem('quad_hardedge')\n",
    "    heqf1.n_map = 2\n",
    "    heqf1.flagEntrance=True\n",
    "    heqf1.Kx = quadStr[i]\n",
    "    latticeQFF.insert(j+2*i,heqf1)\n",
    "    heqf2 = copy(heqf1)\n",
    "    heqf2.flagEntrance=False\n",
    "    latticeQFF.insert(j+2*i+2,heqf2)\n",
    "    \n",
    "\n",
    "latticeQFF.insert(0,Loop)\n",
    "latticeQFF.insert(1,ElemTBT)\n",
    "latticeQFF.append(OUTPUT)"
   ]
  },
  {
   "cell_type": "markdown",
   "metadata": {},
   "source": [
    "##### without QFF"
   ]
  },
  {
   "cell_type": "code",
   "execution_count": 8,
   "metadata": {},
   "outputs": [],
   "source": [
    "lattice.insert(0,Loop)\n",
    "lattice.insert(1,ElemTBT)\n",
    "lattice.append(OUTPUT)"
   ]
  },
  {
   "cell_type": "markdown",
   "metadata": {},
   "source": [
    "# Define runs"
   ]
  },
  {
   "cell_type": "code",
   "execution_count": 9,
   "metadata": {},
   "outputs": [],
   "source": [
    "def getClosestDiff(ref,arr):\n",
    "    # ref.shape = nSample\n",
    "    nMode = len(arr)\n",
    "    if ref>1.0:\n",
    "        ref = ref - 1.0\n",
    "    for i in range(nMode):\n",
    "        if arr[i]>1.0:\n",
    "            arr[i]=arr[i]-1.0\n",
    "    diff = np.abs(ref-arr)\n",
    "    for i in range(nMode):\n",
    "        if (diff[i]>0.5):\n",
    "            diff[i] = 1.0 - diff[i]\n",
    "    return np.min(diff)"
   ]
  },
  {
   "cell_type": "code",
   "execution_count": 10,
   "metadata": {},
   "outputs": [],
   "source": [
    "def run(latticeIn):\n",
    "    ElemTBT.file_id = NTURN[0]\n",
    "    OUTPUT.file_id = NTURN[0]\n",
    "    OUTPUT.turn = NTURN[0]\n",
    "    Loop.turns = NTURN[0]\n",
    "    beam.distribution.distribution_type = 'ReadFile'\n",
    "    impact.writeInputFile(beam,latticeIn)\n",
    "    impact.run(beam,order=order)\n",
    "    for nturn in NTURN[:-1]:\n",
    "        latticeIn[0].turns = nturn\n",
    "        ElemTBT.file_id = nturn*2\n",
    "        OUTPUT.turn = nturn\n",
    "        OUTPUT.file_id = nturn*2\n",
    "        Loop.turns = nturn\n",
    "        beam.distribution.distribution_type = 'ReadFile_binary'\n",
    "        beam.distribution.file_id = nturn\n",
    "        impact.writeInputFile(beam,latticeIn) \n",
    "        impact.run(beam,order=order)\n",
    "\n",
    "        \n",
    "    iTBT = {}\n",
    "    TBT = {}\n",
    "    Npt = {}\n",
    "    # read TBT data\n",
    "    for nturn in NTURN:\n",
    "        iTBT[nturn],TBT[nturn] = impact.readTBT(nturn,ke,mass,freq)\n",
    "        TBT[nturn] = TBT[nturn][:,:4,:]\n",
    "        Npt[nturn] = len(iTBT[nturn])\n",
    "    !rm TBT.*\n",
    "\n",
    "    # normalize TBT data\n",
    "    XF = {}\n",
    "    YF = {}\n",
    "    for i in range(len(NTURN)):\n",
    "        nturn = NTURN[i]\n",
    "        npt = len(iTBT[nturn])\n",
    "        XF[nturn]=np.zeros((nturn,npt),dtype=np.complex)\n",
    "        YF[nturn]=np.zeros((nturn,npt),dtype=np.complex)\n",
    "        iturn = 0\n",
    "        for j in range(i+1):\n",
    "            jturn = NTURN[j]\n",
    "            itmp = np.in1d(iTBT[jturn],iTBT[nturn])\n",
    "            tmp = TBT[jturn][:,:,itmp]\n",
    "            XF[nturn][iturn:jturn] = (tmp[:,0,:] - 1j*(betx*tmp[:,1,:]+alfx*tmp[:,0,:]))/np.sqrt(betx)\n",
    "            YF[nturn][iturn:jturn] = (tmp[:,2,:] - 1j*(bety*tmp[:,3,:]+alfy*tmp[:,2,:]))/np.sqrt(bety)\n",
    "            iturn = jturn\n",
    "\n",
    "            \n",
    "    # FMA\n",
    "    tuneXbefore= {}\n",
    "    tuneYbefore= {}\n",
    "    Xdiff = {}\n",
    "    Ydiff = {}\n",
    "    Adiff = {}\n",
    "    for nturn in NTURN[:-1]:\n",
    "        nturn2 = 2*nturn\n",
    "        npt = len(XF[nturn2][0,:])\n",
    "        tuneXbefore[nturn] = np.zeros(npt)\n",
    "        tuneYbefore[nturn] = np.zeros(npt)\n",
    "        Xdiff[nturn] = np.zeros(npt)\n",
    "        Ydiff[nturn] = np.zeros(npt)\n",
    "        Adiff[nturn] = np.zeros(npt)\n",
    "        for i in range(npt):\n",
    "            signal = XF[nturn2][:nturn,i] -np.mean(XF[nturn2][:nturn,i])\n",
    "            tuneXbefore[nturn][i],amp,dummy = impact.util.naff(1,signal,window_id=1)\n",
    "            signal = XF[nturn2][nturn:,i] -np.mean(XF[nturn2][nturn:,i])\n",
    "            tune,amp,dummy = impact.util.naff(3,signal,window_id=1)\n",
    "            Xdiff[nturn][i] = getClosestDiff(tuneXbefore[nturn][i],tune)\n",
    "            signal = YF[nturn2][:nturn,i] -np.mean(YF[nturn2][:nturn,i])\n",
    "            tuneYbefore[nturn][i],amp,dummy = impact.util.naff(1,signal,window_id=1)\n",
    "            signal = YF[nturn2][nturn:,i] -np.mean(YF[nturn2][nturn:,i])\n",
    "            tune,amp,dummy = impact.util.naff(3,signal,window_id=1)\n",
    "            Ydiff[nturn][i] = getClosestDiff(tuneYbefore[nturn][i],tune)\n",
    "\n",
    "        Adiff[nturn] = np.sqrt(Xdiff[nturn]**2 +Ydiff[nturn]**2)\n",
    "        Adiff[nturn] = np.log10(Adiff[nturn]+1.0e-6)\n",
    "            \n",
    "\n",
    "    return {'X':copy(XF[2048]),'Y':copy(YF[2048]),'c':copy(Adiff[1024])}#,'rawX':XB,'rawY':YB}"
   ]
  },
  {
   "cell_type": "code",
   "execution_count": 11,
   "metadata": {},
   "outputs": [],
   "source": [
    "data_QFF = run(latticeQFF)"
   ]
  },
  {
   "cell_type": "code",
   "execution_count": 12,
   "metadata": {},
   "outputs": [
    {
     "name": "stdout",
     "output_type": "stream",
     "text": [
      "rm: cannot remove 'TBT.*': No such file or directory\r\n"
     ]
    }
   ],
   "source": [
    "! rm fort.*\n",
    "! rm TBT.*"
   ]
  },
  {
   "cell_type": "code",
   "execution_count": null,
   "metadata": {},
   "outputs": [],
   "source": [
    "data_noQFF = run(lattice)"
   ]
  },
  {
   "cell_type": "code",
   "execution_count": null,
   "metadata": {},
   "outputs": [],
   "source": [
    "fig = plt.figure(figsize=[5.6*1.2,12/5*1.2])\n",
    "plt.subplot(1,2,1)\n",
    "data = data_noQFF\n",
    "cmap = plt.scatter(100*data['X'][0,:].real,100*data['Y'][0,:].real,c=data['c'],s=0.14,marker='s',cmap='nipy_spectral')\n",
    "xmin = 100*data['X'][0,:].real.min()\n",
    "xmax = 100*data['X'][0,:].real.max()\n",
    "ymin = 100*data['Y'][0,:].real.min()\n",
    "ymax = 100*data['Y'][0,:].real.max()\n",
    "# plt.xticks([-1,0,1])\n",
    "# plt.yticks([-1,0,1])\n",
    "plt.xlim(xmin*1.1,xmax*1.1)\n",
    "plt.ylim(ymin*1.1,ymax*1.1)\n",
    "plt.xlabel('$x (cm)$')  \n",
    "plt.ylabel('$y (cm)$')\n",
    "plt.colorbar(cmap)\n",
    "\n",
    "plt.subplot(1,2,2)\n",
    "data = data_QFF\n",
    "cmap = plt.scatter(100*data['X'][0,:].real,100*data['Y'][0,:].real,c=data['c'],s=0.14,marker='s',cmap='nipy_spectral')\n",
    "# plt.xticks([-1,0,1])\n",
    "# plt.yticks([-1,0,1])\n",
    "plt.xlim(xmin*1.1,xmax*1.1)\n",
    "plt.ylim(ymin*1.1,ymax*1.1)\n",
    "plt.xlabel('$x (cm)$')  \n",
    "# plt.ylabel('$y$')\n",
    "plt.yticks([])\n",
    "plt.colorbar(cmap)\n",
    "\n",
    "plt.tight_layout()\n",
    "plt.savefig('FMA.DA.HEQFF.png',dpi=270)\n",
    "plt.savefig('FMA.DA.HEQFF.eps',dpi=270)"
   ]
  },
  {
   "cell_type": "code",
   "execution_count": null,
   "metadata": {},
   "outputs": [],
   "source": [
    "Loop.turns=1\n",
    "OUTPUT.turn=1\n",
    "OUTPUT.file_id = 1000\n",
    "\n",
    "bg = np.sqrt((1.0+ke/mass)**2-1.0)\n",
    "beam.distribution.mode = 'twiss'\n",
    "beam.distribution.distribution_type = 'Gauss'\n",
    "beam.distribution.alfx = 3.860846841e-5\n",
    "beam.distribution.betx = 0.561065822\n",
    "beam.distribution.emitx = 3.3e-6*bg\n",
    "beam.distribution.alfy = 2.282987698e-9\n",
    "beam.distribution.bety = 1.385141718\n",
    "beam.distribution.emity = 3.3e-6*bg\n",
    "beam.n_particles = 100000\n",
    "beam.nCore_y = 5\n",
    "beam.nCore_z = 2\n",
    "\n",
    "impact.writeInputFile(beam,[Loop,OUTPUT])\n",
    "impact.run(beam)"
   ]
  },
  {
   "cell_type": "code",
   "execution_count": null,
   "metadata": {},
   "outputs": [],
   "source": [
    "pData = impact.readParticleData(1000,ke,mass,freq,2)"
   ]
  },
  {
   "cell_type": "code",
   "execution_count": null,
   "metadata": {},
   "outputs": [],
   "source": [
    "levels = np.array([5.0e-2,8.00E-01, 1.60E+00, 2.40E+00, 3.20E+00, 4.00E+00, 4.80E+00])"
   ]
  },
  {
   "cell_type": "code",
   "execution_count": null,
   "metadata": {},
   "outputs": [],
   "source": [
    "np.all(levels==0)"
   ]
  },
  {
   "cell_type": "code",
   "execution_count": null,
   "metadata": {},
   "outputs": [],
   "source": [
    "import pickle\n",
    "# data = {'data_noQFF':data_noQFF,'data_QFF':data_QFF}\n",
    "# pickle.dump(data,open('data','wb'))\n",
    "# data=pickle.load(open('data','rb'))\n",
    "# data_noQFF = data['data_noQFF']\n",
    "# data_QFF = data['data_QFF']"
   ]
  },
  {
   "cell_type": "code",
   "execution_count": null,
   "metadata": {},
   "outputs": [],
   "source": [
    "impact.plot.contour(100*pData[:,0],100*pData[:,2],edge=False,levels=levels)"
   ]
  },
  {
   "cell_type": "code",
   "execution_count": 24,
   "metadata": {},
   "outputs": [
    {
     "data": {
      "image/png": "[encoded data removed]",
      "text/plain": [
       "<Figure size 483.84x207.36 with 4 Axes>"
      ]
     },
     "metadata": {},
     "output_type": "display_data"
    }
   ],
   "source": [
    "fig = plt.figure(figsize=[5.6*1.2,12/5*1.2])\n",
    "ax1 = plt.subplot(1,2,1)\n",
    "data = data_noQFF\n",
    "cmap = plt.scatter(100*data['X'][0,:].real,100*data['Y'][0,:].real,c=data['c'],s=0.14,marker='s',cmap='nipy_spectral')\n",
    "plt.scatter(0,0,c='white',s=100000,alpha=0.4)\n",
    "impact.plot.density(100*pData[:,0],100*pData[:,2],mksize=0.4)\n",
    "# impact.plot.contour(100*pData[:,0],100*pData[:,2],edge=False,levels=levels)\n",
    "xmin = 100*data['X'][0,:].real.min()\n",
    "xmax = 100*data['X'][0,:].real.max()\n",
    "ymin = 100*data['Y'][0,:].real.min()\n",
    "ymax = 100*data['Y'][0,:].real.max()\n",
    "# plt.xticks([-1,0,1])\n",
    "# plt.yticks([-1,0,1])\n",
    "plt.xlim(xmin*1.1,xmax*1.1)\n",
    "plt.ylim(ymin*1.1,ymax*1.1)\n",
    "plt.xlabel('$x (cm)$')  \n",
    "plt.ylabel('$y (cm)$')\n",
    "plt.colorbar(cmap)\n",
    "\n",
    "\n",
    "ax2=plt.subplot(1,2,2)\n",
    "data = data_QFF\n",
    "cmap = plt.scatter(100*data['X'][0,:].real,100*data['Y'][0,:].real,c=data['c'],s=0.14,marker='s',cmap='nipy_spectral')\n",
    "plt.scatter(0,0,c='white',s=100000,alpha=0.4)\n",
    "impact.plot.density(100*pData[:,0],100*pData[:,2],mksize=0.4)\n",
    "# contour = impact.plot.contour(100*pData[:,0],100*pData[:,2],edge=False,levels=levels)\n",
    "# # plt.xticks([-1,0,1])\n",
    "# # plt.yticks([-1,0,1])\n",
    "plt.xlim(xmin*1.1,xmax*1.1)\n",
    "plt.ylim(ymin*1.1,ymax*1.1)\n",
    "plt.xlabel('$x (cm)$')  \n",
    "# plt.ylabel('$y$')\n",
    "plt.yticks([])\n",
    "plt.colorbar(cmap)\n",
    "\n",
    "\n",
    "plt.tight_layout()\n",
    "plt.savefig('FMA.DA.HEQFF.wCore.png',dpi=270)\n",
    "plt.savefig('FMA.DA.HEQFF.wCore.eps',dpi=270)"
   ]
  },
  {
   "cell_type": "code",
   "execution_count": null,
   "metadata": {},
   "outputs": [],
   "source": [
    "contour.levels"
   ]
  },
  {
   "cell_type": "code",
   "execution_count": null,
   "metadata": {},
   "outputs": [],
   "source": []
  }
 ],
 "metadata": {
  "kernelspec": {
   "display_name": "Python 3",
   "language": "python",
   "name": "python3"
  },
  "language_info": {
   "codemirror_mode": {
    "name": "ipython",
    "version": 3
   },
   "file_extension": ".py",
   "mimetype": "text/x-python",
   "name": "python",
   "nbconvert_exporter": "python",
   "pygments_lexer": "ipython3",
   "version": "3.6.5"
  }
 },
 "nbformat": 4,
 "nbformat_minor": 2
}
