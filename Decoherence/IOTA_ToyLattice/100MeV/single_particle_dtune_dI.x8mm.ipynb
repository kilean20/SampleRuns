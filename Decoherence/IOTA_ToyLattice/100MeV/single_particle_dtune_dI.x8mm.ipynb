{
 "cells": [
  {
   "cell_type": "code",
   "execution_count": 1,
   "metadata": {},
   "outputs": [],
   "source": [
    "import numpy as np\n",
    "import pImpactR as impact\n",
    "from copy import deepcopy as copy\n",
    "import matplotlib.pyplot as plt"
   ]
  },
  {
   "cell_type": "code",
   "execution_count": 2,
   "metadata": {},
   "outputs": [],
   "source": [
    "NL_t = 0.4\n",
    "NL_c = 0.01\n",
    "NL_L = 1.8\n",
    "NL_mu = 0.3\n",
    "\n",
    "Me = 511005.0\n",
    "ke = 100*1.0e6\n",
    "energy = ke+Me\n",
    "freq = 30*1.0e6\n",
    "offset = 0.008\n",
    "delta = 1.0e-9\n",
    "\n",
    "g = energy/Me\n",
    "bg = np.sqrt(g**2-1.0)\n",
    "vec = bg/g*impact.data.clight\n",
    "\n",
    "turns = 2048\n",
    "\n",
    "alfaEntrance = np.tan(np.pi*NL_mu)\n",
    "betaEntrance = NL_L/np.sin(2.0*np.pi*NL_mu)"
   ]
  },
  {
   "cell_type": "markdown",
   "metadata": {},
   "source": [
    "# Prepare beam & lattice"
   ]
  },
  {
   "cell_type": "code",
   "execution_count": 3,
   "metadata": {},
   "outputs": [],
   "source": [
    "beam = impact.getBeam()\n",
    "beam.current = 0.0\n",
    "beam.kinetic_energy = ke\n",
    "beam.mass = Me\n",
    "beam.charge = -1.0\n",
    "beam.frequency = freq\n",
    "beam.nCore_y = 1\n",
    "beam.nCore_z = 1\n",
    "beam.n_particles = 1"
   ]
  },
  {
   "cell_type": "code",
   "execution_count": 4,
   "metadata": {},
   "outputs": [],
   "source": [
    "beam.distribution.distribution_type = 'Waterbag'\n",
    "beam.distribution.betx  = betaEntrance\n",
    "beam.distribution.alfx  = alfaEntrance\n",
    "beam.distribution.emitx = 0.0\n",
    "beam.distribution.bety  = betaEntrance\n",
    "beam.distribution.alfy  = alfaEntrance\n",
    "beam.distribution.emity = 0.0\n",
    "beam.distribution.betz  = 0.0\n",
    "beam.distribution.alfz  = 0.0\n",
    "beam.distribution.emitz = 0.0\n",
    "beamOff = copy(beam)"
   ]
  },
  {
   "cell_type": "code",
   "execution_count": 5,
   "metadata": {},
   "outputs": [],
   "source": [
    "lattice = [impact.getElem('loop_through_lattice'),impact.getElem('nonlinear_insert'),impact.getElem('linear_matrix_map')] \n",
    "lattice[0].turns=turns\n",
    "lattice[1].length = NL_L\n",
    "lattice[1].strength_t = NL_t\n",
    "lattice[1].transverse_scale_c = NL_c\n",
    "lattice[1].tune_advance = NL_mu\n",
    "lattice[1].n_sckick = 100\n",
    "lattice[2].nonlinear_insert_length = NL_L\n",
    "lattice[2].nonlinear_insert_tuneAdvance = NL_mu"
   ]
  },
  {
   "cell_type": "markdown",
   "metadata": {},
   "source": [
    "# run"
   ]
  },
  {
   "cell_type": "code",
   "execution_count": 6,
   "metadata": {},
   "outputs": [
    {
     "name": "stdout",
     "output_type": "stream",
     "text": [
      "-1e-09\n",
      "input error <- sum(beam.multi_charge.n_particles) not qual to beam.n_particles\n",
      "  ... enforcing  beam.multi_charge.n_particles[0] to beam.n_particles\n",
      "-5e-10\n",
      "input error <- sum(beam.multi_charge.n_particles) not qual to beam.n_particles\n",
      "  ... enforcing  beam.multi_charge.n_particles[0] to beam.n_particles\n",
      "0.0\n",
      "input error <- sum(beam.multi_charge.n_particles) not qual to beam.n_particles\n",
      "  ... enforcing  beam.multi_charge.n_particles[0] to beam.n_particles\n",
      "5.000000000000001e-10\n",
      "input error <- sum(beam.multi_charge.n_particles) not qual to beam.n_particles\n",
      "  ... enforcing  beam.multi_charge.n_particles[0] to beam.n_particles\n",
      "1e-09\n",
      "input error <- sum(beam.multi_charge.n_particles) not qual to beam.n_particles\n",
      "  ... enforcing  beam.multi_charge.n_particles[0] to beam.n_particles\n"
     ]
    }
   ],
   "source": [
    "nSample = 5\n",
    "X=[]\n",
    "Y=[]\n",
    "for d in np.linspace(-delta,+delta,nSample):\n",
    "    print(d)\n",
    "    beamOff = copy(beam)\n",
    "    beamOff.distribution.offsetx = offset+d\n",
    "    impact.writeInputFile(beamOff,lattice)\n",
    "    impact.run(beam)\n",
    "    fort82=np.loadtxt('fort.82')\n",
    "    X.append(fort82[:,1] + 1j*fort82[:,2])\n",
    "    Y.append(fort82[:,3] + 1j*fort82[:,4])"
   ]
  },
  {
   "cell_type": "code",
   "execution_count": 7,
   "metadata": {},
   "outputs": [
    {
     "name": "stdout",
     "output_type": "stream",
     "text": [
      "initial kick X,Y   =  (0.41832120579678317-0.999830052907663j) (-5.788944462972502e-19+8.60344267269909e-19j)\n",
      "initial kick angle =  -1.1745357374787497\n",
      "initial kick X,Y   =  (0.4183211695928999-0.9998301744650558j) (-1.5009684235189599e-18-4.006966671784094e-18j)\n",
      "initial kick angle =  -1.1745358115838473\n",
      "initial kick X,Y   =  (0.41832113338899907-0.9998302960224514j) (4.726411099655002e-18+9.983963451055028e-18j)\n",
      "initial kick angle =  -1.1745358856889474\n",
      "initial kick X,Y   =  (0.418321097185083-0.9998304175798493j) (7.718142610520569e-19+2.493584365967019e-18j)\n",
      "initial kick angle =  -1.1745359597940477\n",
      "initial kick X,Y   =  (0.4183210609811497-0.9998305391372535j) (3.1600934023153607e-19+2.367776325339185e-18j)\n",
      "initial kick angle =  -1.1745360338991515\n"
     ]
    }
   ],
   "source": [
    "Tune=[0]*nSample\n",
    "Amp =[0]*nSample\n",
    "Y1  =[0]*nSample\n",
    "emitlist = [0]*nSample\n",
    "for i in range(nSample):\n",
    "    Tune[i],Amp[i],Y1[i] = impact.util.naff(1,X[i])\n",
    "    print('initial kick X,Y   = ',X[i][0],Y[i][0])\n",
    "    print('initial kick angle = ',np.angle(X[i][0]))\n",
    "    emitlist[i] = np.abs(X[i][0])**2/2.0"
   ]
  },
  {
   "cell_type": "code",
   "execution_count": 8,
   "metadata": {},
   "outputs": [
    {
     "name": "stdout",
     "output_type": "stream",
     "text": [
      "[-1182.20838921]\n"
     ]
    },
    {
     "data": {
      "image/png": "[encoded data removed]",
      "text/plain": [
       "<Figure size 432x288 with 1 Axes>"
      ]
     },
     "metadata": {},
     "output_type": "display_data"
    }
   ],
   "source": [
    "plt.plot(np.linspace(-delta,delta,nSample)*1.0e6,Tune-Tune[int(nSample/2)])\n",
    "print((Tune[-1]-Tune[0])/(emitlist[-1]-emitlist[0]))"
   ]
  },
  {
   "cell_type": "code",
   "execution_count": 9,
   "metadata": {},
   "outputs": [
    {
     "name": "stdout",
     "output_type": "stream",
     "text": [
      "[[ 8.00000100e-03  0.00000000e+00  0.00000000e+00  0.00000000e+00\n",
      "   0.00000000e+00  0.00000000e+00 -1.95692801e-06 -0.00000000e+00\n",
      "   1.00000000e+00]]\n"
     ]
    }
   ],
   "source": [
    "pData=impact.readParticleData(-111110,ke,Me,freq)\n",
    "print(pData)"
   ]
  },
  {
   "cell_type": "code",
   "execution_count": 10,
   "metadata": {},
   "outputs": [
    {
     "name": "stdout",
     "output_type": "stream",
     "text": [
      "[array([0.58139296]), array([0.58100003]), array([0.58151069]), array([0.58058719]), array([0.58088985])]\n"
     ]
    }
   ],
   "source": [
    "print(Tune)"
   ]
  }
 ],
 "metadata": {
  "kernelspec": {
   "display_name": "Python 3",
   "language": "python",
   "name": "python3"
  },
  "language_info": {
   "codemirror_mode": {
    "name": "ipython",
    "version": 3
   },
   "file_extension": ".py",
   "mimetype": "text/x-python",
   "name": "python",
   "nbconvert_exporter": "python",
   "pygments_lexer": "ipython3",
   "version": "3.6.5"
  }
 },
 "nbformat": 4,
 "nbformat_minor": 2
}
