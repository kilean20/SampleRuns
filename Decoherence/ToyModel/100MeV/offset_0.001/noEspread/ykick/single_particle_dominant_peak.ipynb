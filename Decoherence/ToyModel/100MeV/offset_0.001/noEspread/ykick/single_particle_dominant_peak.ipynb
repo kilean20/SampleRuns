{
 "cells": [
  {
   "cell_type": "code",
   "execution_count": 1,
   "metadata": {},
   "outputs": [],
   "source": [
    "import numpy as np\n",
    "import pImpactR as impact\n",
    "from copy import deepcopy as copy\n",
    "import matplotlib.pyplot as plt"
   ]
  },
  {
   "cell_type": "code",
   "execution_count": 2,
   "metadata": {},
   "outputs": [],
   "source": [
    "NL_t = 0.4\n",
    "NL_c = 0.01\n",
    "NL_L = 1.8\n",
    "NL_mu = 0.3\n",
    "\n",
    "Me = impact.util.Me\n",
    "ke = 100*1.0e6\n",
    "energy = ke+Me\n",
    "freq = 30*1.0e6\n",
    "offset = 0.001\n",
    "\n",
    "turns = 1024"
   ]
  },
  {
   "cell_type": "code",
   "execution_count": 3,
   "metadata": {},
   "outputs": [],
   "source": [
    "alfaEntrance = np.tan(np.pi*NL_mu)\n",
    "betaEntrance = NL_L/np.sin(2.0*np.pi*NL_mu)"
   ]
  },
  {
   "cell_type": "code",
   "execution_count": 4,
   "metadata": {},
   "outputs": [],
   "source": [
    "beam = impact.getBeam()\n",
    "beam.current = 0.0\n",
    "beam.kinetic_energy = ke\n",
    "beam.mass = Me\n",
    "beam.charge = -1.0\n",
    "beam.frequency = freq\n",
    "beam.nCore_y = 1\n",
    "beam.nCore_z = 1\n",
    "beam.n_particles = 1"
   ]
  },
  {
   "cell_type": "code",
   "execution_count": 5,
   "metadata": {},
   "outputs": [],
   "source": [
    "beam.distribution.distribution_type = 'Waterbag'\n",
    "beam.distribution.betx  = betaEntrance\n",
    "beam.distribution.alfx  = alfaEntrance\n",
    "beam.distribution.emitx = 0.0\n",
    "beam.distribution.bety  = betaEntrance\n",
    "beam.distribution.alfy  = alfaEntrance\n",
    "beam.distribution.emity = 0.0\n",
    "beam.distribution.betz  = 200\n",
    "beam.distribution.alfz  = 0.0\n",
    "beam.distribution.emitz = 0.0\n",
    "beam.distribution.offsety = offset"
   ]
  },
  {
   "cell_type": "code",
   "execution_count": 6,
   "metadata": {},
   "outputs": [],
   "source": [
    "beam.mesh.fld_solver = 'Symplectic_Spectral_2D'"
   ]
  },
  {
   "cell_type": "code",
   "execution_count": 7,
   "metadata": {},
   "outputs": [],
   "source": [
    "lattice = [impact.getElem('loop_through_lattice'),impact.getElem('nonlinear_insert'),impact.getElem('linear_matrix_map')] \n",
    "lattice[0].turns=turns\n",
    "lattice[1].length = NL_L\n",
    "lattice[1].strength_t = NL_t\n",
    "lattice[1].transverse_scale_c = NL_c\n",
    "lattice[1].tune_advance = NL_mu\n",
    "lattice[1].n_sckick = 100\n",
    "lattice[2].nonlinear_insert_length = NL_L\n",
    "lattice[2].nonlinear_insert_tuneAdvance = NL_mu"
   ]
  },
  {
   "cell_type": "code",
   "execution_count": 8,
   "metadata": {},
   "outputs": [
    {
     "name": "stdout",
     "output_type": "stream",
     "text": [
      "input error <- sum(beam.multi_charge.n_particles) not qual to beam.n_particles\n",
      "  ... enforcing  beam.multi_charge.n_particles[0] to beam.n_particles\n"
     ]
    },
    {
     "data": {
      "text/plain": [
       "0"
      ]
     },
     "execution_count": 8,
     "metadata": {},
     "output_type": "execute_result"
    }
   ],
   "source": [
    "impact.writeInputFile(beam,lattice)\n",
    "impact.run(beam)"
   ]
  },
  {
   "cell_type": "code",
   "execution_count": 9,
   "metadata": {},
   "outputs": [],
   "source": [
    "pDataInit = impact.readParticleData(-111110,ke,Me,freq)"
   ]
  },
  {
   "cell_type": "code",
   "execution_count": 10,
   "metadata": {},
   "outputs": [
    {
     "name": "stdout",
     "output_type": "stream",
     "text": [
      "[[ 0.00000000e+00  0.00000000e+00  1.00000000e-03  0.00000000e+00\n",
      "   0.00000000e+00  0.00000000e+00 -1.95695134e-06 -0.00000000e+00\n",
      "   1.00000000e+00]]\n"
     ]
    }
   ],
   "source": [
    "print(pDataInit)"
   ]
  },
  {
   "cell_type": "code",
   "execution_count": 11,
   "metadata": {
    "scrolled": true
   },
   "outputs": [
    {
     "data": {
      "text/plain": [
       "[<matplotlib.lines.Line2D at 0x7f35dbc37a58>]"
      ]
     },
     "execution_count": 11,
     "metadata": {},
     "output_type": "execute_result"
    },
    {
     "data": {
      "image/png": "[encoded data removed]",
      "text/plain": [
       "<Figure size 576x216 with 2 Axes>"
      ]
     },
     "metadata": {},
     "output_type": "display_data"
    }
   ],
   "source": [
    "Inv = np.loadtxt('fort.81')\n",
    "plt.figure(figsize=(8,3))\n",
    "plt.subplot(1,2,1)\n",
    "plt.plot(Inv[:,1])\n",
    "plt.subplot(1,2,2)\n",
    "plt.plot(Inv[:,2])"
   ]
  },
  {
   "cell_type": "code",
   "execution_count": 12,
   "metadata": {},
   "outputs": [],
   "source": [
    "fort82=np.loadtxt('fort.82')\n",
    "X = fort82[:,1] + 1j*fort82[:,2]\n",
    "Y = fort82[:,3] + 1j*fort82[:,4]"
   ]
  },
  {
   "cell_type": "code",
   "execution_count": 13,
   "metadata": {},
   "outputs": [
    {
     "name": "stdout",
     "output_type": "stream",
     "text": [
      "tuneX= [-0.00195312 -0.00195312]\n",
      "tuneY= [0.8538658  0.14613421]\n"
     ]
    }
   ],
   "source": [
    "tuneX,ampX,X1 = impact.util.naff(2,X)\n",
    "tuneY,ampY,Y1 = impact.util.naff(2,Y)\n",
    "print('tuneX=',tuneX)\n",
    "print('tuneY=',tuneY)"
   ]
  },
  {
   "cell_type": "code",
   "execution_count": 14,
   "metadata": {},
   "outputs": [
    {
     "data": {
      "image/png": "[encoded data removed]",
      "text/plain": [
       "<Figure size 648x216 with 2 Axes>"
      ]
     },
     "metadata": {},
     "output_type": "display_data"
    }
   ],
   "source": [
    "plt.figure(figsize=(9,3))\n",
    "plt.subplot(1,2,1)\n",
    "plt.plot(np.real(X))\n",
    "plt.plot(np.real(X1))\n",
    "plt.xlabel('turn',fontsize=12);\n",
    "plt.ylabel('centroid',fontsize=12);\n",
    "plt.legend(['before filter','after filter'])\n",
    "\n",
    "plt.subplot(1,2,2)\n",
    "plt.plot(np.linspace(0,1,turns),np.abs(np.fft.fft(X)))\n",
    "plt.plot(np.linspace(0,1,turns),np.abs(np.fft.fft(X1)))\n",
    "plt.xlabel('tune',fontsize=12);\n",
    "plt.ylabel('fft',fontsize=12);\n",
    "plt.legend(['before filter','after filter'])\n",
    "\n",
    "plt.tight_layout()"
   ]
  },
  {
   "cell_type": "code",
   "execution_count": 15,
   "metadata": {},
   "outputs": [
    {
     "data": {
      "image/png": "[encoded data removed]",
      "text/plain": [
       "<Figure size 648x216 with 2 Axes>"
      ]
     },
     "metadata": {},
     "output_type": "display_data"
    }
   ],
   "source": [
    "plt.figure(figsize=(9,3))\n",
    "plt.subplot(1,2,1)\n",
    "plt.plot(np.real(Y))\n",
    "plt.plot(np.real(Y1))\n",
    "plt.xlabel('turn',fontsize=12);\n",
    "plt.ylabel('centroid',fontsize=12);\n",
    "plt.legend(['before filter','after filter'])\n",
    "\n",
    "plt.subplot(1,2,2)\n",
    "plt.plot(np.linspace(0,1,turns),np.abs(np.fft.fft(Y)))\n",
    "plt.plot(np.linspace(0,1,turns),np.abs(np.fft.fft(Y1)))\n",
    "plt.xlabel('tune',fontsize=12);\n",
    "plt.ylabel('fft',fontsize=12);\n",
    "plt.legend(['before filter','after filter'])\n",
    "\n",
    "plt.tight_layout()"
   ]
  },
  {
   "cell_type": "code",
   "execution_count": null,
   "metadata": {},
   "outputs": [],
   "source": []
  }
 ],
 "metadata": {
  "kernelspec": {
   "display_name": "Python 3",
   "language": "python",
   "name": "python3"
  },
  "language_info": {
   "codemirror_mode": {
    "name": "ipython",
    "version": 3
   },
   "file_extension": ".py",
   "mimetype": "text/x-python",
   "name": "python",
   "nbconvert_exporter": "python",
   "pygments_lexer": "ipython3",
   "version": "3.6.5"
  }
 },
 "nbformat": 4,
 "nbformat_minor": 2
}
