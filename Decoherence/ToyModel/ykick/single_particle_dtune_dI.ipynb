{
 "cells": [
  {
   "cell_type": "code",
   "execution_count": 1,
   "metadata": {},
   "outputs": [],
   "source": [
    "import numpy as np\n",
    "import pImpactR as impact\n",
    "from copy import deepcopy as copy\n",
    "import matplotlib.pyplot as plt"
   ]
  },
  {
   "cell_type": "code",
   "execution_count": 2,
   "metadata": {},
   "outputs": [],
   "source": [
    "input_fname = 'test.original.in'\n",
    "# np.set_printoptions(formatter={'float': lambda x: format(x, '1.4E')})"
   ]
  },
  {
   "cell_type": "code",
   "execution_count": 3,
   "metadata": {},
   "outputs": [
    {
     "name": "stdout",
     "output_type": "stream",
     "text": [
      "reading ImpactZ input file (\u001b[92mtest.original.in\u001b[0m)\n",
      "  : mpi task info .............................done\n",
      "  : simulation control parameters .............done\n",
      "  : space charge field solver, mesh info ......done\n",
      "  : dist-type,restart,subcycle,#of state ......done\n",
      "  : Multiple Charge State info ................done\n",
      "  : particle distribution info ................done\n",
      "  : beam reference orbit info .................done\n",
      "  : converting impact dist to twiss param......done\n",
      "  : lattice info ..............................done\n"
     ]
    }
   ],
   "source": [
    "beam, lattice = impact.readInputFile(input_fname);\n",
    "ke = beam.kinetic_energy\n",
    "mass = beam.mass\n",
    "freq = beam.frequency\n",
    "\n",
    "nturn = 1024\n",
    "betx = 1.892632003629\n",
    "alfx = 1.37638192047\n",
    "emitxN = 0.0\n",
    "\n",
    "beam.nCore_y = 1\n",
    "beam.nCore_z = 1\n",
    "beam.distribution.emitx = emitxN\n",
    "beam.n_particles = 1\n",
    "\n",
    "NL_t = 0.45\n",
    "NL_c = 0.009"
   ]
  },
  {
   "cell_type": "code",
   "execution_count": 4,
   "metadata": {},
   "outputs": [],
   "source": [
    "beamTmp = copy(beam)\n",
    "beamTmp.distribution.distribution_type = 'Waterbag'"
   ]
  },
  {
   "cell_type": "code",
   "execution_count": 5,
   "metadata": {},
   "outputs": [],
   "source": [
    "lattice = [ item for item in lattice if not item.type == 'write_raw_ptcl' ]\n",
    "lattice.pop(0);\n",
    "lattice[0].turns=nturn\n",
    "lattice[1].n_sckick = 100\n",
    "testLat = [copy(lattice[0])]\n",
    "testLat[0].turns=0"
   ]
  },
  {
   "cell_type": "code",
   "execution_count": 6,
   "metadata": {},
   "outputs": [
    {
     "name": "stdout",
     "output_type": "stream",
     "text": [
      "\n",
      " distribution_type: 'Waterbag'\n",
      "              mode: 'twiss'\n",
      "              betz: 2324215873134.486 [degree/MeV]\n",
      "              alfz: 0.0\n",
      "             emitz: 6.89396745963425e-09 [degree-MeV]\n",
      "            scalez: 1.0 [1.0]\n",
      "           scalepz: 1.0 [1.0]\n",
      "           offsetz: 0.0 [degree]\n",
      "          offsetpz: 0.0 [MeV]\n",
      "              betx: 2576.919407166738 [m]\n",
      "              alfx: 0.0\n",
      "             emitx: 0.0 [m-rad]\n",
      "            scalex: 1.0 [1.0]\n",
      "           scalepx: 1.0 [1.0]\n",
      "           offsetx: 0.0 [m]\n",
      "          offsetpx: 0.0 [rad]\n",
      "              bety: 2576.919407166738 [m]\n",
      "              alfy: 0.0\n",
      "             emity: 1.460965201818848e-07 [m-rad]\n",
      "            scaley: 1.0 [1.0]\n",
      "           scalepy: 1.0 [1.0]\n",
      "           offsety: 0.0 [m]\n",
      "          offsetpy: 0.0 [rad]\n"
     ]
    }
   ],
   "source": [
    "print(beamTmp.distribution)"
   ]
  },
  {
   "cell_type": "code",
   "execution_count": 7,
   "metadata": {},
   "outputs": [
    {
     "name": "stdout",
     "output_type": "stream",
     "text": [
      "input error <- sum(beam.multi_charge.n_particles) not qual to beam.n_particles\n",
      "  ... enforcing  beam.multi_charge.n_particles[0] to beam.n_particles\n"
     ]
    },
    {
     "data": {
      "text/plain": [
       "0"
      ]
     },
     "execution_count": 7,
     "metadata": {},
     "output_type": "execute_result"
    }
   ],
   "source": [
    "impact.writeInputFile(beamTmp,testLat)\n",
    "impact.run(beamTmp)"
   ]
  },
  {
   "cell_type": "code",
   "execution_count": 8,
   "metadata": {},
   "outputs": [
    {
     "name": "stdout",
     "output_type": "stream",
     "text": [
      "\n",
      " distribution_type: 'Waterbag'\n",
      "              mode: 'impactdist'\n",
      "            sigmax: 0.0\n",
      "           lambdax: 0.0\n",
      "               mux: 0.0\n",
      "            scalex: 1.0 [1.0]\n",
      "           scalepx: 1.0 [1.0]\n",
      "           offsetx: 0.0 [m]\n",
      "          offsetpx: 0.0 [rad]\n",
      "            sigmay: 0.0007108541\n",
      "           lambday: 0.000129223\n",
      "               muy: 0.0\n",
      "            scaley: 1.0 [1.0]\n",
      "           scalepy: 1.0 [1.0]\n",
      "           offsety: 0.0 [m]\n",
      "          offsetpy: 0.0 [rad]\n",
      "            sigmaz: 2.2092772151898727\n",
      "           lambdaz: 1.065789e-10\n",
      "               muz: 0.0\n",
      "            scalez: 1.0 [1.0]\n",
      "           scalepz: 1.0 [1.0]\n",
      "           offsetz: 0.0 [degree]\n",
      "          offsetpz: 0.0 [MeV]\n"
     ]
    }
   ],
   "source": [
    "print(beamTmp.distribution)"
   ]
  },
  {
   "cell_type": "code",
   "execution_count": 9,
   "metadata": {},
   "outputs": [
    {
     "data": {
      "text/plain": [
       "<function numpy.core.function_base.linspace(start, stop, num=50, endpoint=True, retstep=False, dtype=None)>"
      ]
     },
     "execution_count": 9,
     "metadata": {},
     "output_type": "execute_result"
    }
   ],
   "source": [
    "np.linspace"
   ]
  },
  {
   "cell_type": "code",
   "execution_count": 10,
   "metadata": {},
   "outputs": [
    {
     "name": "stdout",
     "output_type": "stream",
     "text": [
      "input error <- sum(beam.multi_charge.n_particles) not qual to beam.n_particles\n",
      "  ... enforcing  beam.multi_charge.n_particles[0] to beam.n_particles\n"
     ]
    }
   ],
   "source": [
    "nSample = 11\n",
    "delta = 1.0e-5\n",
    "Y=[]\n",
    "pDataInit0 = impact.readParticleData(-111110,ke,mass,freq)\n",
    "pDataInit  = impact.readParticleData(-111110,ke,mass,freq)\n",
    "for offset in np.linspace(0.008-delta,0.008+delta,nSample):\n",
    "    pDataInit[:,2] = pDataInit0[:,2] + offset\n",
    "    impact.writeParticleData(pDataInit,ke,mass,freq)\n",
    "    beam.distribution.distribution_type = 'ReadFile'\n",
    "    impact.writeInputFile(beam,lattice)\n",
    "    impact.run(beam)\n",
    "    fort82=np.loadtxt('fort.82')\n",
    "    Y.append(fort82[:,3] + 1j*fort82[:,4])"
   ]
  },
  {
   "cell_type": "code",
   "execution_count": 11,
   "metadata": {},
   "outputs": [],
   "source": [
    "Tune=[0]*nSample\n",
    "Amp =[0]*nSample\n",
    "Y1  =[0]*nSample\n",
    "for i in range(nSample):\n",
    "    Tune[i],Amp[i],Y1[i] = impact.util.naff(1,Y[i])"
   ]
  },
  {
   "cell_type": "code",
   "execution_count": 12,
   "metadata": {},
   "outputs": [],
   "source": [
    "def arcsin(z):\n",
    "    return -1j*np.log(1j*z+np.sqrt(1.0-z**2))\n",
    "\n",
    "def get_Inv1(x,px,y,py,c,t,alfa,beta):\n",
    "    xn = x/(c*beta**0.5)\n",
    "    pxn = x*alfa/(c*beta**0.5) + px*beta**0.5/c\n",
    "    yn = y/(c*beta**0.5)\n",
    "    pyn = y*alfa/(c*beta**0.5) + py*beta**0.5/c\n",
    "    z = xn+1j*yn\n",
    "    H = z/np.sqrt(1.0-z**2)*arcsin(z)\n",
    "    H = 0.5*(xn**2+yn**2+pxn**2+pyn**2) - t*np.real(H)\n",
    "    return H\n",
    "\n",
    "def get_emit(x,p,c,alfa,beta):\n",
    "    xn = x/(c*beta**0.5)\n",
    "    pn = x*alfa/(c*beta**0.5) + p*beta**0.5/c\n",
    "    H = 0.5*(xn**2+pn**2)\n",
    "    return H"
   ]
  },
  {
   "cell_type": "code",
   "execution_count": 13,
   "metadata": {},
   "outputs": [
    {
     "name": "stdout",
     "output_type": "stream",
     "text": [
      "[-0.00796765]\n"
     ]
    },
    {
     "data": {
      "image/png": "[encoded data removed]",
      "text/plain": [
       "<Figure size 432x288 with 1 Axes>"
      ]
     },
     "metadata": {},
     "output_type": "display_data"
    }
   ],
   "source": [
    "plt.plot(np.linspace(-delta,delta,nSample)*1.0e6,Tune-Tune[int(nSample/2)])\n",
    "print((Tune[-1]-Tune[0])/(2*delta*1.0e3))"
   ]
  },
  {
   "cell_type": "code",
   "execution_count": 16,
   "metadata": {},
   "outputs": [
    {
     "name": "stdout",
     "output_type": "stream",
     "text": [
      "[-0.05275075]\n"
     ]
    }
   ],
   "source": [
    "emitlist = []\n",
    "for y in np.linspace(0.008-delta,0.008+delta,nSample):\n",
    "    emitlist.append(get_emit(y,0,lattice[1].transverse_scale_c,alfx,betx))\n",
    "print((Tune[-1]-Tune[0])/(emitlist[-1]-emitlist[0]))"
   ]
  },
  {
   "cell_type": "code",
   "execution_count": null,
   "metadata": {},
   "outputs": [],
   "source": []
  }
 ],
 "metadata": {
  "kernelspec": {
   "display_name": "Python 3",
   "language": "python",
   "name": "python3"
  },
  "language_info": {
   "codemirror_mode": {
    "name": "ipython",
    "version": 3
   },
   "file_extension": ".py",
   "mimetype": "text/x-python",
   "name": "python",
   "nbconvert_exporter": "python",
   "pygments_lexer": "ipython3",
   "version": "3.6.5"
  }
 },
 "nbformat": 4,
 "nbformat_minor": 2
}
