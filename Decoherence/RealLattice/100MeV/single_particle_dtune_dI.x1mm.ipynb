{
 "cells": [
  {
   "cell_type": "code",
   "execution_count": 1,
   "metadata": {},
   "outputs": [],
   "source": [
    "import numpy as np\n",
    "import pImpactR as impact\n",
    "from copy import deepcopy as copy\n",
    "import matplotlib.pyplot as plt"
   ]
  },
  {
   "cell_type": "code",
   "execution_count": 2,
   "metadata": {},
   "outputs": [],
   "source": [
    "NL_t = 0.4\n",
    "NL_c = 0.01\n",
    "NL_L = 1.8\n",
    "NL_mu = 0.3\n",
    "\n",
    "Me = 511005.0\n",
    "ke = 100*1.0e6\n",
    "energy = ke+Me\n",
    "freq = 30*1.0e6\n",
    "offset = 0.001\n",
    "delta = 1.0e-7\n",
    "\n",
    "g = energy/Me\n",
    "bg = np.sqrt(g**2-1.0)\n",
    "vec = bg/g*impact.data.clight\n",
    "\n",
    "turns = 2048\n",
    "\n",
    "alfaEntrance = np.tan(np.pi*NL_mu)\n",
    "betaEntrance = NL_L/np.sin(2.0*np.pi*NL_mu)"
   ]
  },
  {
   "cell_type": "markdown",
   "metadata": {},
   "source": [
    "# Prepare beam & lattice"
   ]
  },
  {
   "cell_type": "code",
   "execution_count": 3,
   "metadata": {},
   "outputs": [
    {
     "name": "stdout",
     "output_type": "stream",
     "text": [
      "reading ImpactZ input file (\u001b[92mtest_shifted.in\u001b[0m)\n",
      "  : mpi task info .............................done\n",
      "  : simulation control parameters .............done\n",
      "  : space charge field solver, mesh info ......done\n",
      "  : dist-type,restart,subcycle,#of state ......done\n",
      "  : Multiple Charge State info ................done\n",
      "  : particle distribution info ................done\n",
      "  : beam reference orbit info .................done\n",
      "  : converting impact dist to twiss param......done\n",
      "  : lattice info ..............................done\n"
     ]
    }
   ],
   "source": [
    "beam, lattice = impact.readInputFile('test_shifted.in')"
   ]
  },
  {
   "cell_type": "code",
   "execution_count": 4,
   "metadata": {},
   "outputs": [],
   "source": [
    "beam.current = 0.0\n",
    "beam.kinetic_energy = ke\n",
    "beam.mass = Me\n",
    "beam.charge = -1.0\n",
    "beam.frequency = freq\n",
    "beam.nCore_y = 1\n",
    "beam.nCore_z = 1\n",
    "beam.n_particles = 1\n",
    "beam.current = 0.0"
   ]
  },
  {
   "cell_type": "code",
   "execution_count": 5,
   "metadata": {},
   "outputs": [],
   "source": [
    "lattice = [ item for item in lattice if not item.type == 'write_raw_ptcl' ]\n",
    "lattice[0].turns = turns"
   ]
  },
  {
   "cell_type": "code",
   "execution_count": 6,
   "metadata": {},
   "outputs": [
    {
     "name": "stdout",
     "output_type": "stream",
     "text": [
      "39.96822971580008\n"
     ]
    }
   ],
   "source": [
    "L=0.0\n",
    "for i in range(len(lattice)):\n",
    "    if 'length' in lattice[i].keys():\n",
    "        L = L+lattice[i].length\n",
    "print(L)"
   ]
  },
  {
   "cell_type": "code",
   "execution_count": 7,
   "metadata": {},
   "outputs": [],
   "source": [
    "beam.distribution.distribution_type = 'Waterbag'\n",
    "beam.distribution.betx  = betaEntrance\n",
    "beam.distribution.alfx  = alfaEntrance\n",
    "beam.distribution.emitx = 0.0\n",
    "beam.distribution.bety  = betaEntrance\n",
    "beam.distribution.alfy  = alfaEntrance\n",
    "beam.distribution.emity = 0.0\n",
    "beam.distribution.betz  = 0.0\n",
    "beam.distribution.alfz  = 0.0\n",
    "beam.distribution.emitz = 0.0\n",
    "beamOff = copy(beam)"
   ]
  },
  {
   "cell_type": "markdown",
   "metadata": {},
   "source": [
    "# run"
   ]
  },
  {
   "cell_type": "code",
   "execution_count": 8,
   "metadata": {},
   "outputs": [
    {
     "name": "stdout",
     "output_type": "stream",
     "text": [
      "-1e-07\n",
      "input error <- sum(beam.multi_charge.n_particles) not qual to beam.n_particles\n",
      "  ... enforcing  beam.multi_charge.n_particles[0] to beam.n_particles\n",
      "-5e-08\n",
      "input error <- sum(beam.multi_charge.n_particles) not qual to beam.n_particles\n",
      "  ... enforcing  beam.multi_charge.n_particles[0] to beam.n_particles\n",
      "0.0\n",
      "input error <- sum(beam.multi_charge.n_particles) not qual to beam.n_particles\n",
      "  ... enforcing  beam.multi_charge.n_particles[0] to beam.n_particles\n",
      "5e-08\n",
      "input error <- sum(beam.multi_charge.n_particles) not qual to beam.n_particles\n",
      "  ... enforcing  beam.multi_charge.n_particles[0] to beam.n_particles\n",
      "1e-07\n",
      "input error <- sum(beam.multi_charge.n_particles) not qual to beam.n_particles\n",
      "  ... enforcing  beam.multi_charge.n_particles[0] to beam.n_particles\n"
     ]
    }
   ],
   "source": [
    "nSample = 5\n",
    "X=[]\n",
    "Y=[]\n",
    "for d in np.linspace(-delta,+delta,nSample):\n",
    "    print(d)\n",
    "    beamOff = copy(beam)\n",
    "    beamOff.distribution.offsetx = offset+d\n",
    "    impact.writeInputFile(beamOff,lattice)\n",
    "    impact.run(beam)\n",
    "    fort82=np.loadtxt('fort.82')\n",
    "    X.append(fort82[:,1] + 1j*fort82[:,2])\n",
    "    Y.append(fort82[:,3] + 1j*fort82[:,4])"
   ]
  },
  {
   "cell_type": "code",
   "execution_count": 9,
   "metadata": {},
   "outputs": [
    {
     "name": "stdout",
     "output_type": "stream",
     "text": [
      "initial kick X,Y   =  (0.09266069816475044-0.06353497395286448j) (2.523377608414466e-20-4.084484710515811e-19j)\n",
      "initial kick angle =  -0.6010459297052406\n",
      "initial kick X,Y   =  (0.09266529638672551-0.06353822453878327j) (-1.281298844828985e-20-1.1803466600896369e-19j)\n",
      "initial kick angle =  -0.6010466469206589\n",
      "initial kick X,Y   =  (0.09266989460334535-0.06354147513584274j) (1.4538967321048094e-19+1.168713539936054e-19j)\n",
      "initial kick angle =  -0.6010473641729218\n",
      "initial kick X,Y   =  (0.09267449281460904-0.06354472574404309j) (-2.0227996096837594e-20-1.1365987023333452e-19j)\n",
      "initial kick angle =  -0.6010480814620299\n",
      "initial kick X,Y   =  (0.09267909102051478-0.06354797636338472j) (2.1474842843311223e-19+3.7551488214258266e-19j)\n",
      "initial kick angle =  -0.6010487987879897\n"
     ]
    }
   ],
   "source": [
    "Tune=[0]*nSample\n",
    "Amp =[0]*nSample\n",
    "X1  =[0]*nSample\n",
    "emitlist = [0]*nSample\n",
    "for i in range(nSample):\n",
    "    Tune[i],Amp[i],X1[i] = impact.util.naff(1,X[i])\n",
    "    print('initial kick X,Y   = ',X[i][0],Y[i][0])\n",
    "    print('initial kick angle = ',np.angle(X[i][0]))\n",
    "    emitlist[i] = np.abs(X[i][0])**2/2.0"
   ]
  },
  {
   "cell_type": "code",
   "execution_count": 10,
   "metadata": {},
   "outputs": [
    {
     "name": "stdout",
     "output_type": "stream",
     "text": [
      "[-0.1553022]\n"
     ]
    },
    {
     "data": {
      "image/png": "[encoded data removed]",
      "text/plain": [
       "<Figure size 432x288 with 1 Axes>"
      ]
     },
     "metadata": {},
     "output_type": "display_data"
    }
   ],
   "source": [
    "plt.plot(np.linspace(-delta,delta,nSample)*1.0e6,Tune-Tune[int(nSample/2)])\n",
    "print((Tune[-1]-Tune[0])/(emitlist[-1]-emitlist[0]))"
   ]
  },
  {
   "cell_type": "code",
   "execution_count": 11,
   "metadata": {},
   "outputs": [
    {
     "name": "stdout",
     "output_type": "stream",
     "text": [
      "[[ 1.00010000e-03  0.00000000e+00  0.00000000e+00  0.00000000e+00\n",
      "   0.00000000e+00  0.00000000e+00 -1.95692801e-06 -0.00000000e+00\n",
      "   1.00000000e+00]]\n"
     ]
    }
   ],
   "source": [
    "pData=impact.readParticleData(-111110,ke,Me,freq)\n",
    "print(pData)"
   ]
  },
  {
   "cell_type": "code",
   "execution_count": 12,
   "metadata": {},
   "outputs": [
    {
     "name": "stdout",
     "output_type": "stream",
     "text": [
      "[array([0.59652504]), array([0.59652494]), array([0.59652484]), array([0.59652474]), array([0.59652464])]\n"
     ]
    }
   ],
   "source": [
    "print(Tune)"
   ]
  }
 ],
 "metadata": {
  "kernelspec": {
   "display_name": "Python 3",
   "language": "python",
   "name": "python3"
  },
  "language_info": {
   "codemirror_mode": {
    "name": "ipython",
    "version": 3
   },
   "file_extension": ".py",
   "mimetype": "text/x-python",
   "name": "python",
   "nbconvert_exporter": "python",
   "pygments_lexer": "ipython3",
   "version": "3.6.5"
  }
 },
 "nbformat": 4,
 "nbformat_minor": 2
}
