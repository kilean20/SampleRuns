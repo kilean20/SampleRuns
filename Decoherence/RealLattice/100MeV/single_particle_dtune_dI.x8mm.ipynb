{
 "cells": [
  {
   "cell_type": "code",
   "execution_count": 1,
   "metadata": {},
   "outputs": [],
   "source": [
    "import numpy as np\n",
    "import pImpactR as impact\n",
    "from copy import deepcopy as copy\n",
    "import matplotlib.pyplot as plt"
   ]
  },
  {
   "cell_type": "code",
   "execution_count": 2,
   "metadata": {},
   "outputs": [],
   "source": [
    "NL_t = 0.4\n",
    "NL_c = 0.01\n",
    "NL_L = 1.8\n",
    "NL_mu = 0.3\n",
    "\n",
    "Me = 511005.0\n",
    "ke = 100*1.0e6\n",
    "energy = ke+Me\n",
    "freq = 30*1.0e6\n",
    "offset = 0.008\n",
    "delta = 1.0e-9\n",
    "\n",
    "g = energy/Me\n",
    "bg = np.sqrt(g**2-1.0)\n",
    "vec = bg/g*impact.data.clight\n",
    "\n",
    "turns = 2048\n",
    "\n",
    "alfaEntrance = np.tan(np.pi*NL_mu)\n",
    "betaEntrance = NL_L/np.sin(2.0*np.pi*NL_mu)"
   ]
  },
  {
   "cell_type": "markdown",
   "metadata": {},
   "source": [
    "# Prepare beam & lattice"
   ]
  },
  {
   "cell_type": "code",
   "execution_count": 3,
   "metadata": {},
   "outputs": [
    {
     "name": "stdout",
     "output_type": "stream",
     "text": [
      "reading ImpactZ input file (\u001b[92mtest_shifted.in\u001b[0m)\n",
      "  : mpi task info .............................done\n",
      "  : simulation control parameters .............done\n",
      "  : space charge field solver, mesh info ......done\n",
      "  : dist-type,restart,subcycle,#of state ......done\n",
      "  : Multiple Charge State info ................done\n",
      "  : particle distribution info ................done\n",
      "  : beam reference orbit info .................done\n",
      "  : converting impact dist to twiss param......done\n",
      "  : lattice info ..............................done\n"
     ]
    }
   ],
   "source": [
    "beam, lattice = impact.readInputFile('test_shifted.in')"
   ]
  },
  {
   "cell_type": "code",
   "execution_count": 4,
   "metadata": {},
   "outputs": [],
   "source": [
    "beam.current = 0.0\n",
    "beam.kinetic_energy = ke\n",
    "beam.mass = Me\n",
    "beam.charge = -1.0\n",
    "beam.frequency = freq\n",
    "beam.nCore_y = 1\n",
    "beam.nCore_z = 1\n",
    "beam.n_particles = 1\n",
    "beam.current = 0.0"
   ]
  },
  {
   "cell_type": "code",
   "execution_count": 5,
   "metadata": {},
   "outputs": [],
   "source": [
    "lattice = [ item for item in lattice if not item.type == 'write_raw_ptcl' ]\n",
    "lattice[0].turns = turns"
   ]
  },
  {
   "cell_type": "code",
   "execution_count": 6,
   "metadata": {},
   "outputs": [
    {
     "name": "stdout",
     "output_type": "stream",
     "text": [
      "39.96822971580008\n"
     ]
    }
   ],
   "source": [
    "L=0.0\n",
    "for i in range(len(lattice)):\n",
    "    if 'length' in lattice[i].keys():\n",
    "        L = L+lattice[i].length\n",
    "print(L)"
   ]
  },
  {
   "cell_type": "code",
   "execution_count": 7,
   "metadata": {},
   "outputs": [],
   "source": [
    "beam.distribution.distribution_type = 'Waterbag'\n",
    "beam.distribution.betx  = betaEntrance\n",
    "beam.distribution.alfx  = alfaEntrance\n",
    "beam.distribution.emitx = 0.0\n",
    "beam.distribution.bety  = betaEntrance\n",
    "beam.distribution.alfy  = alfaEntrance\n",
    "beam.distribution.emity = 0.0\n",
    "beam.distribution.betz  = 0.0\n",
    "beam.distribution.alfz  = 0.0\n",
    "beam.distribution.emitz = 0.0\n",
    "beamOff = copy(beam)"
   ]
  },
  {
   "cell_type": "markdown",
   "metadata": {},
   "source": [
    "# run"
   ]
  },
  {
   "cell_type": "code",
   "execution_count": 8,
   "metadata": {},
   "outputs": [
    {
     "name": "stdout",
     "output_type": "stream",
     "text": [
      "-1e-09\n",
      "input error <- sum(beam.multi_charge.n_particles) not qual to beam.n_particles\n",
      "  ... enforcing  beam.multi_charge.n_particles[0] to beam.n_particles\n",
      "-5e-10\n",
      "input error <- sum(beam.multi_charge.n_particles) not qual to beam.n_particles\n",
      "  ... enforcing  beam.multi_charge.n_particles[0] to beam.n_particles\n",
      "0.0\n",
      "input error <- sum(beam.multi_charge.n_particles) not qual to beam.n_particles\n",
      "  ... enforcing  beam.multi_charge.n_particles[0] to beam.n_particles\n",
      "5.000000000000001e-10\n",
      "input error <- sum(beam.multi_charge.n_particles) not qual to beam.n_particles\n",
      "  ... enforcing  beam.multi_charge.n_particles[0] to beam.n_particles\n",
      "1e-09\n",
      "input error <- sum(beam.multi_charge.n_particles) not qual to beam.n_particles\n",
      "  ... enforcing  beam.multi_charge.n_particles[0] to beam.n_particles\n"
     ]
    }
   ],
   "source": [
    "nSample = 5\n",
    "X=[]\n",
    "Y=[]\n",
    "for d in np.linspace(-delta,+delta,nSample):\n",
    "    print(d)\n",
    "    beamOff = copy(beam)\n",
    "    beamOff.distribution.offsetx = offset+d\n",
    "    impact.writeInputFile(beamOff,lattice)\n",
    "    impact.run(beam)\n",
    "    fort82=np.loadtxt('fort.82')\n",
    "    X.append(fort82[:,1] + 1j*fort82[:,2])\n",
    "    Y.append(fort82[:,3] + 1j*fort82[:,4])"
   ]
  },
  {
   "cell_type": "code",
   "execution_count": 9,
   "metadata": {},
   "outputs": [
    {
     "name": "stdout",
     "output_type": "stream",
     "text": [
      "initial kick X,Y   =  (0.41835038403615976-0.9997841913991287j) (-4.585839122471519e-19-1.312146499778323e-18j)\n",
      "initial kick angle =  -1.1744945682849253\n",
      "initial kick X,Y   =  (0.4183503478401675-0.9997843129512425j) (3.11262484941444e-19+4.021113120987467e-19j)\n",
      "initial kick angle =  -1.1744946423872775\n",
      "initial kick X,Y   =  (0.41835031164415476-0.9997844345033676j) (-6.68652132694888e-20+2.509949052538886e-19j)\n",
      "initial kick angle =  -1.1744947164896378\n",
      "initial kick X,Y   =  (0.4183502754481315-0.9997845560554888j) (6.884579235534855e-19+1.5634752432114493e-18j)\n",
      "initial kick angle =  -1.1744947905919922\n",
      "initial kick X,Y   =  (0.41835023925208714-0.9997846776076276j) (-5.368196572515733e-19-6.199273972116902e-19j)\n",
      "initial kick angle =  -1.1744948646943574\n"
     ]
    }
   ],
   "source": [
    "Tune=[0]*nSample\n",
    "Amp =[0]*nSample\n",
    "X1  =[0]*nSample\n",
    "emitlist = [0]*nSample\n",
    "for i in range(nSample):\n",
    "    Tune[i],Amp[i],X1[i] = impact.util.naff(1,X[i])\n",
    "    print('initial kick X,Y   = ',X[i][0],Y[i][0])\n",
    "    print('initial kick angle = ',np.angle(X[i][0]))\n",
    "    emitlist[i] = np.abs(X[i][0])**2/2.0"
   ]
  },
  {
   "cell_type": "code",
   "execution_count": 10,
   "metadata": {},
   "outputs": [
    {
     "name": "stdout",
     "output_type": "stream",
     "text": [
      "[9925.51499329]\n"
     ]
    },
    {
     "data": {
      "image/png": "[encoded data removed]",
      "text/plain": [
       "<Figure size 432x288 with 1 Axes>"
      ]
     },
     "metadata": {},
     "output_type": "display_data"
    }
   ],
   "source": [
    "plt.plot(np.linspace(-delta,delta,nSample)*1.0e6,Tune-Tune[int(nSample/2)])\n",
    "print((Tune[-1]-Tune[0])/(emitlist[-1]-emitlist[0]))"
   ]
  },
  {
   "cell_type": "code",
   "execution_count": 11,
   "metadata": {},
   "outputs": [
    {
     "name": "stdout",
     "output_type": "stream",
     "text": [
      "[[ 8.00000100e-03  0.00000000e+00  0.00000000e+00  0.00000000e+00\n",
      "   0.00000000e+00  0.00000000e+00 -1.95692801e-06 -0.00000000e+00\n",
      "   1.00000000e+00]]\n"
     ]
    }
   ],
   "source": [
    "pData=impact.readParticleData(-111110,ke,Me,freq)\n",
    "print(pData)"
   ]
  },
  {
   "cell_type": "code",
   "execution_count": 12,
   "metadata": {},
   "outputs": [
    {
     "name": "stdout",
     "output_type": "stream",
     "text": [
      "[array([0.63977585]), array([0.64252748]), array([0.625]), array([0.61705431]), array([0.64399949])]\n"
     ]
    }
   ],
   "source": [
    "print(Tune)"
   ]
  },
  {
   "cell_type": "code",
   "execution_count": null,
   "metadata": {},
   "outputs": [],
   "source": []
  }
 ],
 "metadata": {
  "kernelspec": {
   "display_name": "Python 3",
   "language": "python",
   "name": "python3"
  },
  "language_info": {
   "codemirror_mode": {
    "name": "ipython",
    "version": 3
   },
   "file_extension": ".py",
   "mimetype": "text/x-python",
   "name": "python",
   "nbconvert_exporter": "python",
   "pygments_lexer": "ipython3",
   "version": "3.6.5"
  }
 },
 "nbformat": 4,
 "nbformat_minor": 2
}
