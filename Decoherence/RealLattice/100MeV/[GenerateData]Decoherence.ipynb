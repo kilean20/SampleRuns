{
 "cells": [
  {
   "cell_type": "code",
   "execution_count": 1,
   "metadata": {},
   "outputs": [],
   "source": [
    "import numpy as np\n",
    "import pImpactR as impact\n",
    "from copy import deepcopy as copy\n",
    "import matplotlib.pyplot as plt"
   ]
  },
  {
   "cell_type": "code",
   "execution_count": 2,
   "metadata": {},
   "outputs": [
    {
     "name": "stdout",
     "output_type": "stream",
     "text": [
      "196.692801440299 2.753663631443181e-06 9045.990450000001\n",
      "100\n"
     ]
    }
   ],
   "source": [
    "emitStr = '14'\n",
    "emit = float(emitStr)*1.0e-9\n",
    "n_particles = 2048\n",
    "\n",
    "NL_t = 0.4\n",
    "NL_c = 0.01\n",
    "NL_L = 1.8\n",
    "NL_mu = 0.3\n",
    "\n",
    "Me = 511005.0 #impact.util.Me\n",
    "ke = 100*1.0e6\n",
    "energy = ke+Me\n",
    "freq = 30*1.0e6\n",
    "offset = 0.001\n",
    "\n",
    "Espread = 9.0e-5\n",
    "g = energy/Me\n",
    "bg = np.sqrt(g**2-1.0)\n",
    "emitN = emit*bg\n",
    "print(g,emitN,Espread*energy)\n",
    "\n",
    "turns = 100 #int(100/np.sqrt(emitN))\n",
    "print(turns)\n",
    "\n",
    "alfaEntrance = np.tan(np.pi*NL_mu)\n",
    "betaEntrance = NL_L/np.sin(2.0*np.pi*NL_mu)"
   ]
  },
  {
   "cell_type": "markdown",
   "metadata": {},
   "source": [
    "# Prepare beam & lattice"
   ]
  },
  {
   "cell_type": "code",
   "execution_count": 3,
   "metadata": {},
   "outputs": [
    {
     "name": "stdout",
     "output_type": "stream",
     "text": [
      "reading ImpactZ input file (\u001b[92mtest_shifted.in\u001b[0m)\n",
      "  : mpi task info .............................done\n",
      "  : simulation control parameters .............done\n",
      "  : space charge field solver, mesh info ......done\n",
      "  : dist-type,restart,subcycle,#of state ......done\n",
      "  : Multiple Charge State info ................done\n",
      "  : particle distribution info ................done\n",
      "  : beam reference orbit info .................done\n",
      "  : converting impact dist to twiss param......done\n",
      "  : lattice info ..............................done\n"
     ]
    }
   ],
   "source": [
    "beam, lattice = impact.readInputFile('test_shifted.in')"
   ]
  },
  {
   "cell_type": "code",
   "execution_count": 4,
   "metadata": {},
   "outputs": [],
   "source": [
    "beam.current = 0.0\n",
    "beam.kinetic_energy = ke\n",
    "beam.mass = Me\n",
    "beam.charge = -1.0\n",
    "beam.frequency = freq\n",
    "beam.nCore_y = 2\n",
    "beam.nCore_z = 2\n",
    "beam.n_particles = n_particles\n",
    "beam.current = 0.0"
   ]
  },
  {
   "cell_type": "code",
   "execution_count": 5,
   "metadata": {},
   "outputs": [],
   "source": [
    "# ke = beam.kinetic_energy\n",
    "# Me = beam.mass\n",
    "# freq = beam.frequency"
   ]
  },
  {
   "cell_type": "code",
   "execution_count": 6,
   "metadata": {},
   "outputs": [],
   "source": [
    "lattice = [ item for item in lattice if not item.type == 'write_raw_ptcl' ]\n",
    "lattice[0].turns = turns"
   ]
  },
  {
   "cell_type": "code",
   "execution_count": 7,
   "metadata": {},
   "outputs": [
    {
     "name": "stdout",
     "output_type": "stream",
     "text": [
      "39.96822971580008\n"
     ]
    }
   ],
   "source": [
    "L=0.0\n",
    "for i in range(len(lattice)):\n",
    "    if 'length' in lattice[i].keys():\n",
    "        L = L+lattice[i].length\n",
    "print(L)"
   ]
  },
  {
   "cell_type": "code",
   "execution_count": 8,
   "metadata": {},
   "outputs": [],
   "source": [
    "beam.distribution.distribution_type = 'Gauss'\n",
    "beam.distribution.betx  = betaEntrance\n",
    "beam.distribution.alfx  = alfaEntrance\n",
    "beam.distribution.emitx = emitN\n",
    "beam.distribution.bety  = betaEntrance\n",
    "beam.distribution.alfy  = alfaEntrance\n",
    "beam.distribution.emity = emitN\n",
    "beam.distribution.betz  = 200 #99999986297.78835\n",
    "beam.distribution.alfz  = 0.0\n",
    "beam.distribution.emitz = (Espread*energy*1.0e-6)**2*beam.distribution.betz #9.999998482578858e-16 "
   ]
  },
  {
   "cell_type": "code",
   "execution_count": 9,
   "metadata": {},
   "outputs": [
    {
     "data": {
      "text/plain": [
       "\n",
       " distribution_type: 'Gauss'\n",
       "              mode: 'twiss'\n",
       "              betz: 200 [degree/MeV]\n",
       "              alfz: 0.0\n",
       "             emitz: 0.016365988644298245 [degree-MeV]\n",
       "            scalez: 1.0 [1.0]\n",
       "           scalepz: 1.0 [1.0]\n",
       "           offsetz: 0.0 [degree]\n",
       "          offsetpz: 0.0 [MeV]\n",
       "              betx: 1.8926320036288808 [m]\n",
       "              alfx: 1.3763819204711734\n",
       "             emitx: 2.753663631443181e-06 [m-rad]\n",
       "            scalex: 1.0 [1.0]\n",
       "           scalepx: 1.0 [1.0]\n",
       "           offsetx: 0.0 [m]\n",
       "          offsetpx: 0.0 [rad]\n",
       "              bety: 1.8926320036288808 [m]\n",
       "              alfy: 1.3763819204711734\n",
       "             emity: 2.753663631443181e-06 [m-rad]\n",
       "            scaley: 1.0 [1.0]\n",
       "           scalepy: 1.0 [1.0]\n",
       "           offsety: 0.0 [m]\n",
       "          offsetpy: 0.0 [rad]"
      ]
     },
     "execution_count": 9,
     "metadata": {},
     "output_type": "execute_result"
    }
   ],
   "source": [
    "beam.distribution"
   ]
  },
  {
   "cell_type": "markdown",
   "metadata": {},
   "source": [
    "# prepare pData ( Gaussian beam with offset)"
   ]
  },
  {
   "cell_type": "code",
   "execution_count": 10,
   "metadata": {},
   "outputs": [
    {
     "name": "stdout",
     "output_type": "stream",
     "text": [
      "input error <- sum(beam.multi_charge.n_particles) not qual to beam.n_particles\n",
      "  ... enforcing  beam.multi_charge.n_particles[0] to beam.n_particles\n"
     ]
    },
    {
     "data": {
      "text/plain": [
       "256"
      ]
     },
     "execution_count": 10,
     "metadata": {},
     "output_type": "execute_result"
    }
   ],
   "source": [
    "testLat = [copy(lattice[0])]\n",
    "testLat[0].turns=0\n",
    "impact.writeInputFile(beam,testLat)\n",
    "impact.run(beam)"
   ]
  },
  {
   "cell_type": "code",
   "execution_count": 11,
   "metadata": {},
   "outputs": [
    {
     "data": {
      "image/png": "[encoded data removed]",
      "text/plain": [
       "<Figure size 741.6x216 with 3 Axes>"
      ]
     },
     "metadata": {},
     "output_type": "display_data"
    }
   ],
   "source": [
    "pData = impact.readParticleData(-111110,ke,Me,freq)\n",
    "pData[:,2] = pData[:,2] + offset\n",
    "plt.figure(figsize=[10.3,3])\n",
    "plt.subplot(1,3,1)\n",
    "plt.scatter(pData[:,0],pData[:,1],s=0.1)\n",
    "plt.subplot(1,3,2)\n",
    "plt.scatter(pData[:,0],pData[:,2],s=0.1)\n",
    "plt.subplot(1,3,3)\n",
    "plt.scatter(pData[:,4],pData[:,5],s=0.1)\n",
    "plt.tight_layout()"
   ]
  },
  {
   "cell_type": "markdown",
   "metadata": {},
   "source": [
    "# run"
   ]
  },
  {
   "cell_type": "code",
   "execution_count": null,
   "metadata": {},
   "outputs": [],
   "source": [
    "impact.writeParticleData(pData,ke,Me,freq)\n",
    "beam.distribution.distribution_type = 'ReadFile'\n",
    "impact.writeInputFile(beam,lattice)\n",
    "impact.run(beam)"
   ]
  },
  {
   "cell_type": "code",
   "execution_count": null,
   "metadata": {},
   "outputs": [],
   "source": [
    "fort82=np.loadtxt('fort.82')\n",
    "X = fort82[:,3] + 1j*fort82[:,4]\n",
    "# np.save('Y.mid.emit'+emitStr+'nm',X)\n",
    "# print('Y.mid.shape',X.shape)"
   ]
  },
  {
   "cell_type": "code",
   "execution_count": null,
   "metadata": {},
   "outputs": [],
   "source": [
    "tune = np.linspace(0,1,len(X))\n",
    "plt.figure(figsize=[11,3])\n",
    "plt.subplot(1,3,1)\n",
    "plt.plot(np.abs(X)/np.abs(X[0]))\n",
    "plt.subplot(1,3,2)\n",
    "plt.plot(tune,np.real(np.fft.fft(X)))\n",
    "plt.subplot(1,3,3)\n",
    "plt.plot(tune,np.imag(np.fft.fft(X)))\n",
    "plt.tight_layout()\n",
    "plt.savefig('decoherence.png',dpi=180)"
   ]
  },
  {
   "cell_type": "code",
   "execution_count": null,
   "metadata": {},
   "outputs": [],
   "source": []
  }
 ],
 "metadata": {
  "kernelspec": {
   "display_name": "Python 3",
   "language": "python",
   "name": "python3"
  },
  "language_info": {
   "codemirror_mode": {
    "name": "ipython",
    "version": 3
   },
   "file_extension": ".py",
   "mimetype": "text/x-python",
   "name": "python",
   "nbconvert_exporter": "python",
   "pygments_lexer": "ipython3",
   "version": "3.6.5"
  }
 },
 "nbformat": 4,
 "nbformat_minor": 2
}
