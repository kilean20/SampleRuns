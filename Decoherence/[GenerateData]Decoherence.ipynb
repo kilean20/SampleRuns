{
 "cells": [
  {
   "cell_type": "code",
   "execution_count": 1,
   "metadata": {},
   "outputs": [],
   "source": [
    "import numpy as np\n",
    "import pImpactR as impact\n",
    "from copy import deepcopy as copy\n",
    "import matplotlib.pyplot as plt"
   ]
  },
  {
   "cell_type": "code",
   "execution_count": 2,
   "metadata": {},
   "outputs": [],
   "source": [
    "input_fname = 'test.original.in'\n",
    "np.set_printoptions(formatter={'float': lambda x: format(x, '1.2E')})\n",
    "emitStr = '0.64'\n",
    "emit = float(emitStr)\n",
    "y0 = 8"
   ]
  },
  {
   "cell_type": "code",
   "execution_count": 3,
   "metadata": {},
   "outputs": [
    {
     "name": "stdout",
     "output_type": "stream",
     "text": [
      "reading ImpactZ input file (\u001b[92mtest.original.in\u001b[0m)\n",
      "  : mpi task info .............................done\n",
      "  : simulation control parameters .............done\n",
      "  : space charge field solver, mesh info ......done\n",
      "  : dist-type,restart,subcycle,#of state ......done\n",
      "  : Multiple Charge State info ................done\n",
      "  : particle distribution info ................done\n",
      "  : beam reference orbit info .................done\n",
      "  : converting impact dist to twiss param......done\n",
      "  : lattice info ..............................done\n"
     ]
    }
   ],
   "source": [
    "beam, lattice = impact.readInputFile(input_fname);\n",
    "ke = beam.kinetic_energy\n",
    "mass = beam.mass\n",
    "freq = beam.frequency\n",
    "offset = y0*0.001\n",
    "betx = 1.892632003629\n",
    "alfx = 1.37638192047\n",
    "emitxN = emit*1.0e-6\n",
    "\n",
    "turns = int(1.0/np.sqrt(emitxN))\n",
    "n_particles = 40000\n",
    "\n",
    "beam.nCore_y = 8\n",
    "beam.nCore_z = 4\n",
    "beam.distribution.emitx = emitxN\n",
    "beam.n_particles = n_particles\n",
    "\n",
    "NL_t = 0.45\n",
    "NL_c = 0.009"
   ]
  },
  {
   "cell_type": "code",
   "execution_count": 4,
   "metadata": {},
   "outputs": [],
   "source": [
    "beamTmp = copy(beam)\n",
    "beamTmp.distribution.betx = betx\n",
    "beamTmp.distribution.alfx = alfx\n",
    "beamTmp.distribution.distribution_type = 'IOTA_Waterbag'\n",
    "beamTmp.distribution.NL_t = NL_t\n",
    "beamTmp.distribution.NL_c = NL_c"
   ]
  },
  {
   "cell_type": "code",
   "execution_count": 5,
   "metadata": {},
   "outputs": [],
   "source": [
    "lattice = [ item for item in lattice if not item.type == 'write_raw_ptcl' ]\n",
    "lattice.pop(0);\n",
    "lattice[0].turns=turns\n",
    "lattice[1].n_sckick = 100\n",
    "testLat = [copy(lattice[0])]\n",
    "testLat[0].turns=0"
   ]
  },
  {
   "cell_type": "code",
   "execution_count": 6,
   "metadata": {},
   "outputs": [
    {
     "name": "stdout",
     "output_type": "stream",
     "text": [
      "\n",
      " distribution_type: 'IOTA_Waterbag'\n",
      "              mode: 'twiss'\n",
      "              betz: 2324215873134.486 [degree/MeV]\n",
      "              alfz: 0.0\n",
      "             emitz: 6.89396745963425e-09 [degree-MeV]\n",
      "            scalez: 1.0 [1.0]\n",
      "           scalepz: 1.0 [1.0]\n",
      "           offsetz: 0.0 [degree]\n",
      "          offsetpz: 0.0 [MeV]\n",
      "              betx: 1.892632003629 [m]\n",
      "              alfx: 1.37638192047\n",
      "             emitx: 6.4e-07 [m-rad]\n",
      "            scalex: 1.0 [1.0]\n",
      "           scalepx: 1.0 [1.0]\n",
      "           offsetx: 0.0 [m]\n",
      "          offsetpx: 0.0 [rad]\n",
      "              bety: 2576.919407166738 [m]\n",
      "              alfy: 0.0\n",
      "             emity: 1.460965201818848e-07 [m-rad]\n",
      "            scaley: 1.0 [1.0]\n",
      "           scalepy: 1.0 [1.0]\n",
      "           offsety: 0.0 [m]\n",
      "          offsetpy: 0.0 [rad]\n",
      "              NL_t: 0.45\n",
      "              NL_c: 0.009\n"
     ]
    }
   ],
   "source": [
    "print(beamTmp.distribution)"
   ]
  },
  {
   "cell_type": "code",
   "execution_count": 7,
   "metadata": {},
   "outputs": [
    {
     "name": "stdout",
     "output_type": "stream",
     "text": [
      "input error <- sum(beam.multi_charge.n_particles) not qual to beam.n_particles\n",
      "  ... enforcing  beam.multi_charge.n_particles[0] to beam.n_particles\n"
     ]
    },
    {
     "data": {
      "text/plain": [
       "0"
      ]
     },
     "execution_count": 7,
     "metadata": {},
     "output_type": "execute_result"
    }
   ],
   "source": [
    "impact.writeInputFile(beamTmp,testLat)\n",
    "impact.run(beamTmp)"
   ]
  },
  {
   "cell_type": "code",
   "execution_count": 8,
   "metadata": {},
   "outputs": [
    {
     "name": "stdout",
     "output_type": "stream",
     "text": [
      "\n",
      " distribution_type: 'IOTA_Waterbag'\n",
      "              mode: 'impactdist'\n",
      "              NL_t: 0.45\n",
      "              NL_c: 0.009\n",
      "              betx: 1.892632003629 [m]\n",
      "              alfx: 1.37638192047\n",
      "             emitx: 6.4e-07 [m-rad]\n",
      "            sigmaz: 2.2092772151898727\n",
      "           lambdaz: 1.065789e-10\n",
      "               muz: 0.0\n",
      "            scalez: 1.0 [1.0]\n",
      "           scalepz: 1.0 [1.0]\n",
      "           offsetz: 0.0 [degree]\n",
      "          offsetpz: 0.0 [MeV]\n"
     ]
    }
   ],
   "source": [
    "print(beamTmp.distribution)"
   ]
  },
  {
   "cell_type": "code",
   "execution_count": 9,
   "metadata": {},
   "outputs": [],
   "source": [
    "pDataInit = impact.readParticleData(-111110,ke,mass,freq)\n",
    "pDataInit[:,2] = pDataInit[:,2] + offset"
   ]
  },
  {
   "cell_type": "code",
   "execution_count": 10,
   "metadata": {},
   "outputs": [
    {
     "data": {
      "image/png": "[encoded data removed]",
      "text/plain": [
       "<Figure size 741.6x216 with 3 Axes>"
      ]
     },
     "metadata": {},
     "output_type": "display_data"
    }
   ],
   "source": [
    "plt.figure(figsize=[10.3,3])\n",
    "plt.subplot(1,3,1)\n",
    "plt.scatter(pDataInit[:,0],pDataInit[:,1],s=0.1)\n",
    "plt.subplot(1,3,2)\n",
    "plt.scatter(pDataInit[:,0],pDataInit[:,2],s=0.1)\n",
    "plt.subplot(1,3,3)\n",
    "plt.scatter(pDataInit[:,4],pDataInit[:,5],s=0.1)\n",
    "plt.tight_layout()"
   ]
  },
  {
   "cell_type": "code",
   "execution_count": 11,
   "metadata": {},
   "outputs": [
    {
     "data": {
      "image/png": "[encoded data removed]",
      "text/plain": [
       "<Figure size 864x216 with 2 Axes>"
      ]
     },
     "metadata": {},
     "output_type": "display_data"
    }
   ],
   "source": [
    "plt.figure(figsize=(12,3))\n",
    "plt.subplot(1,2,1)\n",
    "plt.hist(pDataInit[:,0],bins=40);\n",
    "plt.subplot(1,2,2)\n",
    "plt.hist(pDataInit[:,2],bins=40);"
   ]
  },
  {
   "cell_type": "code",
   "execution_count": 12,
   "metadata": {
    "scrolled": true
   },
   "outputs": [
    {
     "name": "stdout",
     "output_type": "stream",
     "text": [
      "input error <- sum(beam.multi_charge.n_particles) not qual to beam.n_particles\n",
      "  ... enforcing  beam.multi_charge.n_particles[0] to beam.n_particles\n"
     ]
    },
    {
     "data": {
      "text/plain": [
       "0"
      ]
     },
     "execution_count": 12,
     "metadata": {},
     "output_type": "execute_result"
    }
   ],
   "source": [
    "impact.writeParticleData(pDataInit,ke,mass,freq)\n",
    "beam.distribution.distribution_type = 'ReadFile'\n",
    "impact.writeInputFile(beam,lattice)\n",
    "impact.run(beam)"
   ]
  },
  {
   "cell_type": "code",
   "execution_count": 13,
   "metadata": {
    "scrolled": true
   },
   "outputs": [
    {
     "data": {
      "text/plain": [
       "[<matplotlib.lines.Line2D at 0x7eff542db390>]"
      ]
     },
     "execution_count": 13,
     "metadata": {},
     "output_type": "execute_result"
    },
    {
     "data": {
      "image/png": "[encoded data removed]",
      "text/plain": [
       "<Figure size 576x216 with 2 Axes>"
      ]
     },
     "metadata": {},
     "output_type": "display_data"
    }
   ],
   "source": [
    "Inv = np.loadtxt('fort.81')\n",
    "plt.figure(figsize=(8,3))\n",
    "plt.subplot(1,2,1)\n",
    "plt.plot(Inv[:,1])\n",
    "plt.subplot(1,2,2)\n",
    "plt.plot(Inv[:,2])"
   ]
  },
  {
   "cell_type": "code",
   "execution_count": 14,
   "metadata": {},
   "outputs": [],
   "source": [
    "L=0.0\n",
    "for item in lattice:\n",
    "    if 'length' in item.keys():\n",
    "        L = L + item.length\n",
    "\n",
    "Y=impact.readRMS('y')        \n",
    "N = np.argwhere(np.mod(Y.s,L)==0.0)\n",
    "N=N[:,0]"
   ]
  },
  {
   "cell_type": "code",
   "execution_count": 15,
   "metadata": {},
   "outputs": [
    {
     "name": "stdout",
     "output_type": "stream",
     "text": [
      "[0.00E+00 2.00E+00 4.00E+00 6.00E+00 8.00E+00 1.00E+01 1.20E+01 1.40E+01\n",
      " 1.60E+01 1.80E+01]\n",
      "348.0\n"
     ]
    }
   ],
   "source": [
    "M=[]\n",
    "z = 0.0\n",
    "for i in range(len(N)):\n",
    "    if z < Y.s[N[i]]:\n",
    "        M.append(N[i-1])\n",
    "        z = Y.s[N[i]]    \n",
    "M=np.array(M)\n",
    "print(Y.s[M[:10]])\n",
    "print(Y.s[M[-1]])"
   ]
  },
  {
   "cell_type": "code",
   "execution_count": 16,
   "metadata": {},
   "outputs": [],
   "source": [
    "Z  = Y.s[M]\n",
    "Yc = Y.centroid_y[M] \n",
    "Pc = Y.centroid_py[M]\n",
    "Yc = Yc + 1j*(betx*Pc+alfx*Yc)\n",
    "np.save('Yc.'+emitStr+'mm-mrad.'+str(y0)+'mm',Yc)"
   ]
  },
  {
   "cell_type": "code",
   "execution_count": 15,
   "metadata": {},
   "outputs": [],
   "source": [
    "fort82=np.loadtxt('fort.82')\n",
    "Y = fort82[:,3] + 1j*fort82[:,4]\n",
    "np.save('Yc.mid.'+emitStr+'mm-mrad.'+str(y0)+'mm',Y)"
   ]
  }
 ],
 "metadata": {
  "kernelspec": {
   "display_name": "Python 3",
   "language": "python",
   "name": "python3"
  },
  "language_info": {
   "codemirror_mode": {
    "name": "ipython",
    "version": 3
   },
   "file_extension": ".py",
   "mimetype": "text/x-python",
   "name": "python",
   "nbconvert_exporter": "python",
   "pygments_lexer": "ipython3",
   "version": "3.6.5"
  }
 },
 "nbformat": 4,
 "nbformat_minor": 2
}
