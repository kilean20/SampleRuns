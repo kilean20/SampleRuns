{
 "cells": [
  {
   "cell_type": "code",
   "execution_count": 1,
   "metadata": {},
   "outputs": [],
   "source": [
    "import pImpactR as impact\n",
    "import numpy as np\n",
    "import matplotlib.pyplot as plt"
   ]
  },
  {
   "cell_type": "code",
   "execution_count": 2,
   "metadata": {},
   "outputs": [],
   "source": [
    "nturn = 3"
   ]
  },
  {
   "cell_type": "code",
   "execution_count": 3,
   "metadata": {},
   "outputs": [
    {
     "name": "stdout",
     "output_type": "stream",
     "text": [
      "reading ImpactZ input file (\u001b[92mtest.in\u001b[0m)\n",
      "  : mpi task info .............................done\n",
      "  : simulation control parameters .............done\n",
      "  : space charge field solver, mesh info ......done\n",
      "  : dist-type,restart,subcycle,#of state ......done\n",
      "  : Multiple Charge State info ................done\n",
      "  : particle distribution info ................done\n",
      "  : beam reference orbit info .................done\n",
      "  : converting impact dist to twiss param......done\n",
      "  : lattice info ..............................done\n"
     ]
    }
   ],
   "source": [
    "beam,lattice=impact.readInputFile('test.in')\n",
    "ke = beam.kinetic_energy\n",
    "mass = beam.mass\n",
    "freq = beam.frequency\n",
    "beam.nCore_y = 4\n",
    "beam.nCore_z = 4"
   ]
  },
  {
   "cell_type": "code",
   "execution_count": 4,
   "metadata": {},
   "outputs": [],
   "source": [
    "lattice[0].turns = nturn\n",
    "lattice[1].turn = 1\n",
    "lattice[1].file_id = -90\n",
    "# lattice[2].n_map = 4\n",
    "# lattice[2].n_sckick = 80\n",
    "lattice[3].turn = nturn\n",
    "lattice[3].file_id = -100"
   ]
  },
  {
   "cell_type": "code",
   "execution_count": 5,
   "metadata": {},
   "outputs": [],
   "source": [
    "# pData = impact.readParticleData('partcl.data.1000000',ke,mass,freq)\n",
    "# impact.writeParticleData(pData,ke,mass,freq)"
   ]
  },
  {
   "cell_type": "code",
   "execution_count": 6,
   "metadata": {},
   "outputs": [],
   "source": [
    "# impact.writeInputFile(beam,lattice)\n",
    "# impact.run(beam)"
   ]
  },
  {
   "cell_type": "code",
   "execution_count": 7,
   "metadata": {},
   "outputs": [],
   "source": [
    "X=impact.readRMS('x')\n",
    "Y=impact.readRMS('y')"
   ]
  },
  {
   "cell_type": "code",
   "execution_count": 8,
   "metadata": {},
   "outputs": [
    {
     "data": {
      "text/plain": [
       "[<matplotlib.lines.Line2D at 0x7f7ab5a79940>]"
      ]
     },
     "execution_count": 8,
     "metadata": {},
     "output_type": "execute_result"
    },
    {
     "data": {
      "image/png": "[encoded data removed]",
      "text/plain": [
       "<Figure size 432x288 with 1 Axes>"
      ]
     },
     "metadata": {},
     "output_type": "display_data"
    }
   ],
   "source": [
    "plt.plot(X.s,X.rms_x/X.rms_x[0]-1.0)"
   ]
  },
  {
   "cell_type": "code",
   "execution_count": 9,
   "metadata": {},
   "outputs": [],
   "source": [
    "import pickle\n",
    "with open('X.Lambda10.50sckick.5map.pickle','wb') as f:\n",
    "    pickle.dump(X,f)\n",
    "with open('Y.Lambda10.50sckick.5map.pickle','wb') as f:\n",
    "    pickle.dump(Y,f)"
   ]
  },
  {
   "cell_type": "code",
   "execution_count": null,
   "metadata": {},
   "outputs": [],
   "source": []
  }
 ],
 "metadata": {
  "kernelspec": {
   "display_name": "Python 3",
   "language": "python",
   "name": "python3"
  },
  "language_info": {
   "codemirror_mode": {
    "name": "ipython",
    "version": 3
   },
   "file_extension": ".py",
   "mimetype": "text/x-python",
   "name": "python",
   "nbconvert_exporter": "python",
   "pygments_lexer": "ipython3",
   "version": "3.6.5"
  }
 },
 "nbformat": 4,
 "nbformat_minor": 2
}
